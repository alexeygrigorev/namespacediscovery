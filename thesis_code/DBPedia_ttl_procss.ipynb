{
 "cells": [
  {
   "cell_type": "code",
   "execution_count": 1,
   "metadata": {
    "collapsed": true
   },
   "outputs": [],
   "source": [
    "import json\n",
    "import os"
   ]
  },
  {
   "cell_type": "code",
   "execution_count": 4,
   "metadata": {
    "collapsed": true
   },
   "outputs": [],
   "source": [
    "root = 'C:/tmp/mlp/mlp-output/'\n",
    "\n",
    "titles = []\n",
    "for f in os.listdir(root): \n",
    "    for line in file(root + f):\n",
    "        doc = json.loads(line)\n",
    "\n",
    "        title = doc['title']\n",
    "        if '(disambiguation)' in title:\n",
    "            continue\n",
    "\n",
    "        titles.append(title)"
   ]
  },
  {
   "cell_type": "code",
   "execution_count": 5,
   "metadata": {
    "collapsed": true
   },
   "outputs": [],
   "source": [
    "titles_set = {doc for doc in titles}"
   ]
  },
  {
   "cell_type": "code",
   "execution_count": 6,
   "metadata": {
    "collapsed": true
   },
   "outputs": [],
   "source": [
    "prefix_len = len('<http://dbpedia.org/resource/')\n",
    "prefix_cat_len = len('<http://dbpedia.org/resource/Category:')\n",
    "\n",
    "def split_ttl(ttl):\n",
    "    split = ttl.split()\n",
    "    page = split[0][prefix_len:-1]\n",
    "    cat = split[2][prefix_cat_len:-1]\n",
    "    return page.replace('_', ' ').decode('utf-8'), cat.replace('_', ' ').decode('utf-8')"
   ]
  },
  {
   "cell_type": "code",
   "execution_count": 7,
   "metadata": {
    "collapsed": false
   },
   "outputs": [
    {
     "ename": "KeyboardInterrupt",
     "evalue": "",
     "output_type": "error",
     "traceback": [
      "\u001b[1;31m---------------------------------------------------------------------------\u001b[0m",
      "\u001b[1;31mKeyboardInterrupt\u001b[0m                         Traceback (most recent call last)",
      "\u001b[1;32m<ipython-input-7-18fc85d565e8>\u001b[0m in \u001b[0;36m<module>\u001b[1;34m()\u001b[0m\n\u001b[0;32m      6\u001b[0m \u001b[1;33m\u001b[0m\u001b[0m\n\u001b[0;32m      7\u001b[0m \u001b[1;32mfor\u001b[0m \u001b[0mline\u001b[0m \u001b[1;32min\u001b[0m \u001b[0mttl_categories\u001b[0m\u001b[1;33m:\u001b[0m\u001b[1;33m\u001b[0m\u001b[0m\n\u001b[1;32m----> 8\u001b[1;33m     \u001b[1;32mif\u001b[0m \u001b[0mline\u001b[0m\u001b[1;33m.\u001b[0m\u001b[0mstartswith\u001b[0m\u001b[1;33m(\u001b[0m\u001b[1;34m'#'\u001b[0m\u001b[1;33m)\u001b[0m\u001b[1;33m:\u001b[0m\u001b[1;33m\u001b[0m\u001b[0m\n\u001b[0m\u001b[0;32m      9\u001b[0m         \u001b[1;32mcontinue\u001b[0m\u001b[1;33m\u001b[0m\u001b[0m\n\u001b[0;32m     10\u001b[0m     \u001b[0mpage\u001b[0m\u001b[1;33m,\u001b[0m \u001b[0mcat\u001b[0m \u001b[1;33m=\u001b[0m \u001b[0msplit_ttl\u001b[0m\u001b[1;33m(\u001b[0m\u001b[0mline\u001b[0m\u001b[1;33m)\u001b[0m\u001b[1;33m\u001b[0m\u001b[0m\n",
      "\u001b[1;31mKeyboardInterrupt\u001b[0m: "
     ]
    }
   ],
   "source": [
    "ttl_categories = file('C:/tmp/mlp/article_categories_en.ttl')\n",
    "\n",
    "from collections import defaultdict\n",
    "ttl_titles = defaultdict(set)\n",
    "ttl_cats = defaultdict(set)\n",
    "\n",
    "for line in ttl_categories:\n",
    "    if line.startswith('#'):\n",
    "        continue\n",
    "    page, cat = split_ttl(line)\n",
    "    if page in titles_set:\n",
    "        ttl_titles[page].add(cat)\n",
    "        ttl_cats[cat].add(page)"
   ]
  },
  {
   "cell_type": "code",
   "execution_count": null,
   "metadata": {
    "collapsed": false,
    "scrolled": true
   },
   "outputs": [],
   "source": [
    "len(ttl_titles), len(ttl_cats)"
   ]
  },
  {
   "cell_type": "code",
   "execution_count": 30,
   "metadata": {
    "collapsed": false,
    "scrolled": true
   },
   "outputs": [
    {
     "data": {
      "text/plain": [
       "(28364, 29977)"
      ]
     },
     "execution_count": 30,
     "metadata": {},
     "output_type": "execute_result"
    }
   ],
   "source": [
    "shared = titles_set.intersection(ttl_titles.keys())\n",
    "len(shared), len(titles_set)"
   ]
  },
  {
   "cell_type": "code",
   "execution_count": 31,
   "metadata": {
    "collapsed": true
   },
   "outputs": [],
   "source": [
    "not_found = titles_set.difference(shared)"
   ]
  },
  {
   "cell_type": "code",
   "execution_count": 32,
   "metadata": {
    "collapsed": false
   },
   "outputs": [
    {
     "data": {
      "text/plain": [
       "1613"
      ]
     },
     "execution_count": 32,
     "metadata": {},
     "output_type": "execute_result"
    }
   ],
   "source": [
    "len(not_found)"
   ]
  },
  {
   "cell_type": "code",
   "execution_count": 33,
   "metadata": {
    "collapsed": true
   },
   "outputs": [],
   "source": [
    "import urllib"
   ]
  },
  {
   "cell_type": "code",
   "execution_count": 34,
   "metadata": {
    "collapsed": true
   },
   "outputs": [],
   "source": [
    "downloaded = {}"
   ]
  },
  {
   "cell_type": "code",
   "execution_count": 36,
   "metadata": {
    "collapsed": false
   },
   "outputs": [
    {
     "name": "stdout",
     "output_type": "stream",
     "text": [
      "progress: 0 out of 1613...\n",
      "progress: 100 out of 1613...\n",
      "progress: 200 out of 1613...\n",
      "progress: 300 out of 1613...\n",
      "progress: 400 out of 1613...\n",
      "progress: 500 out of 1613...\n",
      "progress: 600 out of 1613...\n",
      "progress: 700 out of 1613...\n",
      "progress: 800 out of 1613...\n",
      "progress: 900 out of 1613...\n",
      "progress: 1000 out of 1613...\n",
      "progress: 1100 out of 1613...\n",
      "progress: 1200 out of 1613...\n",
      "progress: 1300 out of 1613...\n",
      "progress: 1400 out of 1613...\n",
      "progress: 1500 out of 1613...\n",
      "progress: 1600 out of 1613...\n"
     ]
    }
   ],
   "source": [
    "for idx, title in enumerate(not_found):\n",
    "    # http://dbpedia.org/data/Function_of_several_real_variables.ntriples\n",
    "    url = 'http://dbpedia.org/data/' +  title.replace(' ', '_').encode('utf-8') + '.ntriples'\n",
    "    f = urllib.urlopen(url)\n",
    "    myfile = f.read()\n",
    "    downloaded[title] = myfile\n",
    "    \n",
    "    if idx % 100 == 0:\n",
    "        print 'progress: %d out of %d...' % (idx, len(not_found))"
   ]
  },
  {
   "cell_type": "code",
   "execution_count": 37,
   "metadata": {
    "collapsed": false,
    "scrolled": true
   },
   "outputs": [
    {
     "data": {
      "text/plain": [
       "1613"
      ]
     },
     "execution_count": 37,
     "metadata": {},
     "output_type": "execute_result"
    }
   ],
   "source": [
    "len(downloaded)"
   ]
  },
  {
   "cell_type": "code",
   "execution_count": 38,
   "metadata": {
    "collapsed": false,
    "scrolled": true
   },
   "outputs": [],
   "source": [
    "predicate = '<http://purl.org/dc/terms/subject>'\n",
    "\n",
    "for title, content in downloaded.items():\n",
    "    for line in content.split('\\n'):\n",
    "        if predicate not in line:\n",
    "            continue\n",
    "\n",
    "        _, cat = split_ttl(line)\n",
    "\n",
    "        ttl_titles[title].add(cat)\n",
    "        ttl_cats[cat].add(title)"
   ]
  },
  {
   "cell_type": "code",
   "execution_count": 39,
   "metadata": {
    "collapsed": false
   },
   "outputs": [
    {
     "data": {
      "text/plain": [
       "(29764, 29977)"
      ]
     },
     "execution_count": 39,
     "metadata": {},
     "output_type": "execute_result"
    }
   ],
   "source": [
    "shared = titles_set.intersection(ttl_titles.keys())\n",
    "len(shared), len(titles_set)"
   ]
  },
  {
   "cell_type": "code",
   "execution_count": 47,
   "metadata": {
    "collapsed": false
   },
   "outputs": [
    {
     "data": {
      "text/plain": [
       "213"
      ]
     },
     "execution_count": 47,
     "metadata": {},
     "output_type": "execute_result"
    }
   ],
   "source": [
    "not_found = titles_set.difference(shared)\n",
    "len(not_found)"
   ]
  },
  {
   "cell_type": "code",
   "execution_count": 12,
   "metadata": {
    "collapsed": true
   },
   "outputs": [],
   "source": [
    "import codecs"
   ]
  },
  {
   "cell_type": "code",
   "execution_count": 22,
   "metadata": {
    "collapsed": false
   },
   "outputs": [
    {
     "ename": "NameError",
     "evalue": "name 'ttl_titles' is not defined",
     "output_type": "error",
     "traceback": [
      "\u001b[1;31m---------------------------------------------------------------------------\u001b[0m",
      "\u001b[1;31mNameError\u001b[0m                                 Traceback (most recent call last)",
      "\u001b[1;32m<ipython-input-22-22e3d55cad73>\u001b[0m in \u001b[0;36m<module>\u001b[1;34m()\u001b[0m\n\u001b[0;32m      1\u001b[0m \u001b[0mcategory_file\u001b[0m \u001b[1;33m=\u001b[0m \u001b[0mcodecs\u001b[0m\u001b[1;33m.\u001b[0m\u001b[0mopen\u001b[0m\u001b[1;33m(\u001b[0m\u001b[1;34m'C:/tmp/mlp/category_info.txt'\u001b[0m\u001b[1;33m,\u001b[0m \u001b[1;34m'w'\u001b[0m\u001b[1;33m,\u001b[0m \u001b[0mencoding\u001b[0m\u001b[1;33m=\u001b[0m\u001b[1;34m'utf-8'\u001b[0m\u001b[1;33m)\u001b[0m\u001b[1;33m\u001b[0m\u001b[0m\n\u001b[0;32m      2\u001b[0m \u001b[1;33m\u001b[0m\u001b[0m\n\u001b[1;32m----> 3\u001b[1;33m \u001b[1;32mfor\u001b[0m \u001b[0mtitle\u001b[0m\u001b[1;33m,\u001b[0m \u001b[0mcats\u001b[0m \u001b[1;32min\u001b[0m \u001b[0mttl_titles\u001b[0m\u001b[1;33m.\u001b[0m\u001b[0mitems\u001b[0m\u001b[1;33m(\u001b[0m\u001b[1;33m)\u001b[0m\u001b[1;33m:\u001b[0m\u001b[1;33m\u001b[0m\u001b[0m\n\u001b[0m\u001b[0;32m      4\u001b[0m     \u001b[1;32mfor\u001b[0m \u001b[0mcat\u001b[0m \u001b[1;32min\u001b[0m \u001b[0mcats\u001b[0m\u001b[1;33m:\u001b[0m\u001b[1;33m\u001b[0m\u001b[0m\n\u001b[0;32m      5\u001b[0m         \u001b[0mcategory_file\u001b[0m\u001b[1;33m.\u001b[0m\u001b[0mwrite\u001b[0m\u001b[1;33m(\u001b[0m\u001b[1;34mu'%s\\t%s\\n'\u001b[0m \u001b[1;33m%\u001b[0m \u001b[1;33m(\u001b[0m\u001b[0mtitle\u001b[0m\u001b[1;33m,\u001b[0m \u001b[0mcat\u001b[0m\u001b[1;33m)\u001b[0m\u001b[1;33m)\u001b[0m\u001b[1;33m\u001b[0m\u001b[0m\n",
      "\u001b[1;31mNameError\u001b[0m: name 'ttl_titles' is not defined"
     ]
    }
   ],
   "source": [
    "category_file = codecs.open('C:/tmp/mlp/category_info.txt', 'w', encoding='utf-8')\n",
    "\n",
    "for title, cats in ttl_titles.items():\n",
    "    for cat in cats:\n",
    "        category_file.write(u'%s\\t%s\\n' % (title, cat))\n",
    "        \n",
    "category_file.close()"
   ]
  },
  {
   "cell_type": "markdown",
   "metadata": {},
   "source": [
    "This was used to process categories:\n",
    "\n",
    "**read previously processed categories**\n",
    "\n",
    "    from collections import defaultdict\n",
    "\n",
    "    doc_categories = defaultdict(set)\n",
    "    category_docs = defaultdict(set)\n",
    "\n",
    "    category_blacklist = {u'Articles containing proofs', \n",
    "                          u'Articles created via the Article Wizard', \n",
    "                          u'Articles with example pseudocode'}\n",
    "\n",
    "    for line in file('C:/tmp/mlp/category_info.txt'):\n",
    "        title, cat = line.strip().split('\\t')\n",
    "        title = title.decode('utf-8')\n",
    "        cat = cat.decode('utf-8')\n",
    "\n",
    "        if cat in category_blacklist:\n",
    "            continue\n",
    "\n",
    "        doc_categories[title].add(cat) \n",
    "        category_docs[cat].add(title)\n",
    "\n",
    "    print len(doc_categories), len(category_docs)\n",
    "\n",
    "    small_cats = set()\n",
    "\n",
    "    for cat, docs in category_docs.items():\n",
    "        if len(docs) == 1:\n",
    "            small_cats.add(cat)\n",
    "\n",
    "    print len(small_cats)\n",
    "\n",
    "    for cat in small_cats:\n",
    "        for doc in category_docs[cat]:\n",
    "            doc_categories[doc].remove(cat)\n",
    "        del category_docs[cat]\n",
    "\n",
    "    del small_cats\n",
    "\n",
    "    for doc in doc_categories.keys():\n",
    "        if len(doc_categories[doc]) == 0:\n",
    "            doc_categories[doc].add(u'OTHER')\n",
    "        category_docs[u'OTHER'].add(doc)\n",
    "\n",
    "\n",
    "\n",
    "**read documens, discard empty ones**\n",
    "\n",
    "    root = 'C:/tmp/mlp/mlp-output/'\n",
    "\n",
    "    docs = []\n",
    "    titles = []\n",
    "    ids = []\n",
    "    rels = []\n",
    "\n",
    "    empty = 0\n",
    "    small = 0\n",
    "\n",
    "    for f in os.listdir(root): \n",
    "        for line in file(root + f):\n",
    "            doc = json.loads(line)\n",
    "\n",
    "            title = doc['title']        \n",
    "            if title not in doc_categories:\n",
    "                continue\n",
    "\n",
    "            if '(disambiguation)' in title:\n",
    "                continue\n",
    "\n",
    "            id_bag = id_counter(doc['identifiers'])\n",
    "            if len(id_bag) <= 1:\n",
    "                if len(id_bag) == 0:\n",
    "                    empty = empty + 1\n",
    "                else:\n",
    "                    small = small + 1\n",
    "                continue\n",
    "\n",
    "            docs.append(doc)\n",
    "            titles.append(title)\n",
    "            ids.append(id_bag)\n",
    "\n",
    "            id_rels = rel_to_dict(doc['relations'])\n",
    "            rels.append(id_rels)\n",
    "\n",
    "\n",
    "**then we remove all categories that aren't used in the documents**\n",
    "\n",
    "    title_idx = {title: idx for (idx, title) in enumerate(titles)}\n",
    "\n",
    "    for doc, cats in doc_categories.items():\n",
    "        if doc in title_idx:\n",
    "            continue\n",
    "\n",
    "        for cat in cats: \n",
    "            category_docs[cat].remove(doc)\n",
    "\n",
    "        del doc_categories[doc]\n",
    "\n",
    "    print len(doc_categories)\n",
    "\n",
    "    title_cats = [doc_categories[title] for title in titles]\n",
    "    doc_cat_flat = {}\n",
    "\n",
    "    for line in file('C:/tmp/mlp/category_info.txt'):\n",
    "        title, cat = line.strip().split('\\t')\n",
    "        title = title.decode('utf-8')\n",
    "        cat = cat.decode('utf-8')\n",
    "        doc_cat_flat[title] = cat\n",
    "\n",
    "    title_cats_flat = [doc_cat_flat[title] for title in titles]\n",
    "    del doc_cat_flat\n",
    "    print len(title_cats_flat)\n",
    "\n",
    "    all_categories = list(set(title_cats_flat))\n",
    "    categories_idx = {cat: idx for idx, cat in enumerate(all_categories)}\n",
    "    title_cats_code = np.array([categories_idx[cat] for cat in title_cats_flat])\n"
   ]
  },
  {
   "cell_type": "markdown",
   "metadata": {},
   "source": [
    "Now let's add \"broader\" categories"
   ]
  },
  {
   "cell_type": "code",
   "execution_count": 12,
   "metadata": {
    "collapsed": false
   },
   "outputs": [],
   "source": [
    "category_file = file('C:/tmp/mlp/category_info.txt')\n",
    "\n",
    "math_categories = set()\n",
    "\n",
    "document_categories = defaultdict(set)\n",
    "\n",
    "for line in category_file:\n",
    "    title, cat = line.strip().split('\\t')\n",
    "    title = title.decode('utf-8')\n",
    "    cat = cat.decode('utf-8')\n",
    "\n",
    "    document_categories[title].add(cat)\n",
    "    math_categories.add(cat)\n",
    "    \n",
    "category_file.close()"
   ]
  },
  {
   "cell_type": "code",
   "execution_count": 13,
   "metadata": {
    "collapsed": false
   },
   "outputs": [
    {
     "data": {
      "text/plain": [
       "4798"
      ]
     },
     "execution_count": 13,
     "metadata": {},
     "output_type": "execute_result"
    }
   ],
   "source": [
    "len(math_categories)"
   ]
  },
  {
   "cell_type": "code",
   "execution_count": 14,
   "metadata": {
    "collapsed": false
   },
   "outputs": [
    {
     "data": {
      "text/plain": [
       "22822"
      ]
     },
     "execution_count": 14,
     "metadata": {},
     "output_type": "execute_result"
    }
   ],
   "source": [
    "len(document_categories)"
   ]
  },
  {
   "cell_type": "code",
   "execution_count": 15,
   "metadata": {
    "collapsed": true
   },
   "outputs": [],
   "source": [
    "import numpy as np"
   ]
  },
  {
   "cell_type": "code",
   "execution_count": 16,
   "metadata": {
    "collapsed": false
   },
   "outputs": [
    {
     "data": {
      "text/plain": [
       "2.226316711944615"
      ]
     },
     "execution_count": 16,
     "metadata": {},
     "output_type": "execute_result"
    }
   ],
   "source": [
    "np.mean([len(cat) for _, cat in document_categories.items()])"
   ]
  },
  {
   "cell_type": "code",
   "execution_count": 17,
   "metadata": {
    "collapsed": true
   },
   "outputs": [],
   "source": [
    "prefix_cat_len = len('<http://dbpedia.org/resource/Category:')"
   ]
  },
  {
   "cell_type": "code",
   "execution_count": 18,
   "metadata": {
    "collapsed": false
   },
   "outputs": [],
   "source": [
    "skos_broader_predicate = '<http://www.w3.org/2004/02/skos/core#broader>'\n",
    "skos_categories_file = file('C:/tmp/mlp/skos_categories_en.ttl')\n",
    "\n",
    "from collections import defaultdict\n",
    "skos_broader = defaultdict(set)\n",
    "                       \n",
    "for line in skos_categories_file:\n",
    "    if line.startswith('#'):\n",
    "        continue\n",
    "    line = line.strip()\n",
    "    split = line.split()\n",
    "    predicate = split[1].strip()\n",
    "    \n",
    "    if predicate != skos_broader_predicate:\n",
    "        continue\n",
    "\n",
    "    cat = split[0][prefix_cat_len:-1].replace('_', ' ').decode('utf-8')\n",
    "    if cat not in math_categories:\n",
    "        continue\n",
    "\n",
    "    broader_cat = split[2][prefix_cat_len:-1].replace('_', ' ').decode('utf-8')    \n",
    "    skos_broader[cat].add(broader_cat)\n",
    "\n",
    "skos_categories_file.close()"
   ]
  },
  {
   "cell_type": "code",
   "execution_count": 19,
   "metadata": {
    "collapsed": false
   },
   "outputs": [
    {
     "data": {
      "text/plain": [
       "4577"
      ]
     },
     "execution_count": 19,
     "metadata": {},
     "output_type": "execute_result"
    }
   ],
   "source": [
    "len(skos_broader)"
   ]
  },
  {
   "cell_type": "code",
   "execution_count": 20,
   "metadata": {
    "collapsed": false
   },
   "outputs": [
    {
     "data": {
      "text/plain": [
       "{u'Linear algebra', u'Numerical analysis'}"
      ]
     },
     "execution_count": 20,
     "metadata": {},
     "output_type": "execute_result"
    }
   ],
   "source": [
    "skos_broader['Numerical linear algebra']"
   ]
  },
  {
   "cell_type": "code",
   "execution_count": 45,
   "metadata": {
    "collapsed": true
   },
   "outputs": [],
   "source": [
    "for doc, categories in document_categories.items():\n",
    "    broader_cats = set()\n",
    "    for cat in categories:\n",
    "        broader_cats.update(skos_broader[cat])\n",
    "    \n",
    "    categories.update(broader_cats)"
   ]
  },
  {
   "cell_type": "code",
   "execution_count": 46,
   "metadata": {
    "collapsed": false,
    "scrolled": true
   },
   "outputs": [
    {
     "data": {
      "text/plain": [
       "7.6373674524581547"
      ]
     },
     "execution_count": 46,
     "metadata": {},
     "output_type": "execute_result"
    }
   ],
   "source": [
    "np.mean([len(cat) for _, cat in document_categories.items()])"
   ]
  },
  {
   "cell_type": "code",
   "execution_count": 48,
   "metadata": {
    "collapsed": false,
    "scrolled": false
   },
   "outputs": [
    {
     "data": {
      "text/plain": [
       "{u'Analysis',\n",
       " u'Data analysis',\n",
       " u'Data management',\n",
       " u'Data mining',\n",
       " u'Dimension',\n",
       " u'Dimension reduction',\n",
       " u'Machine learning',\n",
       " u'Matrix decompositions',\n",
       " u'Matrix theory',\n",
       " u'Multivariate statistics',\n",
       " u'Numerical linear algebra',\n",
       " u'Statistical data types',\n",
       " u'Statistics'}"
      ]
     },
     "execution_count": 48,
     "metadata": {},
     "output_type": "execute_result"
    }
   ],
   "source": [
    "document_categories['Principal component analysis']"
   ]
  },
  {
   "cell_type": "code",
   "execution_count": 51,
   "metadata": {
    "collapsed": true
   },
   "outputs": [],
   "source": [
    "from collections import Counter"
   ]
  },
  {
   "cell_type": "code",
   "execution_count": 53,
   "metadata": {
    "collapsed": false,
    "scrolled": true
   },
   "outputs": [
    {
     "data": {
      "text/plain": [
       "[(u'Mathematical analysis', 1981),\n",
       " (u'Physics', 1596),\n",
       " (u'Abstract algebra', 1517),\n",
       " (u'Theoretical physics', 1479),\n",
       " (u'Fields of mathematics', 1235),\n",
       " (u'Geometry', 1079),\n",
       " (u'Statistics', 1049),\n",
       " (u'Quantum mechanics', 973),\n",
       " (u'Mechanics', 972),\n",
       " (u'Functions and mappings', 956),\n",
       " (u'Algorithms', 795),\n",
       " (u'Differential geometry', 793),\n",
       " (u'Numerical analysis', 792),\n",
       " (u'Combinatorics', 781),\n",
       " (u'Applied mathematics', 772),\n",
       " (u'Particle physics', 748),\n",
       " (u'Mathematical theorems', 746),\n",
       " (u'Number theory', 741),\n",
       " (u'Algebra', 732),\n",
       " (u'Dynamical systems', 706),\n",
       " (u'Applied and interdisciplinary physics', 700),\n",
       " (u'Fields of application of statistics', 676),\n",
       " (u'Chemistry', 670),\n",
       " (u'Topology', 664),\n",
       " (u'Linear algebra', 662),\n",
       " (u'Physical chemistry', 647),\n",
       " (u'Probability theory', 607),\n",
       " (u'Fluid dynamics', 601),\n",
       " (u'Manifolds', 594),\n",
       " (u'Differential equations', 591),\n",
       " (u'Materials science', 587),\n",
       " (u'Mathematical physics', 583),\n",
       " (u'Group theory', 577),\n",
       " (u'Statistical data types', 572),\n",
       " (u'Functional analysis', 557),\n",
       " (u'Theoretical computer science', 542),\n",
       " (u'Concepts in physics', 542),\n",
       " (u'Mathematical objects', 540),\n",
       " (u'Algebraic geometry', 538),\n",
       " (u'Measurement', 538),\n",
       " (u'Mathematical logic', 532),\n",
       " (u'Quantum field theory', 517),\n",
       " (u'Complex analysis', 512),\n",
       " (u'Signal processing', 501),\n",
       " (u'Optics', 491),\n",
       " (u'Dynamics', 486),\n",
       " (u'Condensed matter physics', 474),\n",
       " (u'Differential topology', 459),\n",
       " (u'Lie groups', 458),\n",
       " (u'Philosophy of physics', 454),\n",
       " (u'Solid state engineering', 452),\n",
       " (u'Metric geometry', 447),\n",
       " (u'Physical quantities', 443),\n",
       " (u'Mathematical and quantitative methods (economics)', 439),\n",
       " (u'Algebraic topology', 437),\n",
       " (u'Partial differential equations', 437),\n",
       " (u'Formal sciences', 427),\n",
       " (u'Fluid mechanics', 425),\n",
       " (u'Electromagnetism', 422),\n",
       " (u'Stochastic processes', 422),\n",
       " (u'Thermodynamics', 418),\n",
       " (u'Numbers', 407),\n",
       " (u'Force', 398),\n",
       " (u'Engineering disciplines', 386),\n",
       " (u'Statistical mechanics', 381),\n",
       " (u'Mathematical optimization', 379),\n",
       " (u'Control theory', 377),\n",
       " (u'Physical systems', 367),\n",
       " (u'Equations', 362),\n",
       " (u'Telecommunications engineering', 362),\n",
       " (u'Mathematical problem solving', 356),\n",
       " (u'Measure theory', 352),\n",
       " (u'Electrical engineering', 350),\n",
       " (u'Category theory', 349),\n",
       " (u'Statistical theory', 347),\n",
       " (u'Special functions', 345),\n",
       " (u'Multivariable calculus', 343),\n",
       " (u'Types of functions', 342),\n",
       " (u'Modern physics', 340),\n",
       " (u'Mathematical relations', 340),\n",
       " (u'Concepts by field', 332),\n",
       " (u'Mathematical structures', 332),\n",
       " (u'Computational science', 330),\n",
       " (u'Representation theory', 326),\n",
       " (u'Calculus', 324),\n",
       " (u'Linear operators', 323),\n",
       " (u'Systems theory', 321),\n",
       " (u'Areas of computer science', 320),\n",
       " (u'Geometric shapes', 319),\n",
       " (u'Chemical engineering', 316),\n",
       " (u'Discrete mathematics', 316),\n",
       " (u'Mathematics', 316),\n",
       " (u'Atomic physics', 313),\n",
       " (u'Probability distributions', 312),\n",
       " (u'Algebraic structures', 307),\n",
       " (u'Atomic, molecular, and optical physics', 305),\n",
       " (u'Matrix theory', 304),\n",
       " (u'Matter', 304),\n",
       " (u'OTHER', 303),\n",
       " (u'Analytic number theory', 298)]"
      ]
     },
     "execution_count": 53,
     "metadata": {},
     "output_type": "execute_result"
    }
   ],
   "source": [
    "cat_df = Counter()\n",
    "\n",
    "for doc, categories in document_categories.items():\n",
    "    cat_df.update(categories)\n",
    "\n",
    "\n",
    "cat_df.most_common(100)"
   ]
  },
  {
   "cell_type": "code",
   "execution_count": 70,
   "metadata": {
    "collapsed": false
   },
   "outputs": [],
   "source": [
    "singleton_categories = set(cat for cat, cnt in cat_df.items() if cnt == 1)"
   ]
  },
  {
   "cell_type": "code",
   "execution_count": 71,
   "metadata": {
    "collapsed": false
   },
   "outputs": [
    {
     "data": {
      "text/plain": [
       "793"
      ]
     },
     "execution_count": 71,
     "metadata": {},
     "output_type": "execute_result"
    }
   ],
   "source": [
    "len(singleton_categories)"
   ]
  },
  {
   "cell_type": "code",
   "execution_count": 60,
   "metadata": {
    "collapsed": false
   },
   "outputs": [],
   "source": [
    "for doc, categories in document_categories.items():\n",
    "    categories.difference_update(singleton_categories)"
   ]
  },
  {
   "cell_type": "code",
   "execution_count": 69,
   "metadata": {
    "collapsed": false
   },
   "outputs": [
    {
     "name": "stdout",
     "output_type": "stream",
     "text": [
      "[]\n"
     ]
    }
   ],
   "source": [
    "empty = 0\n",
    "docs = []\n",
    "for doc, categories in document_categories.items():\n",
    "    if not categories:\n",
    "        empty = empty + 1\n",
    "        docs.append(doc)\n",
    "\n",
    "print docs"
   ]
  },
  {
   "cell_type": "code",
   "execution_count": 67,
   "metadata": {
    "collapsed": true
   },
   "outputs": [],
   "source": [
    "for doc, categories in document_categories.items():\n",
    "    if not categories:\n",
    "        categories.add(u'OTHER')"
   ]
  },
  {
   "cell_type": "code",
   "execution_count": 69,
   "metadata": {
    "collapsed": false
   },
   "outputs": [
    {
     "name": "stdout",
     "output_type": "stream",
     "text": [
      "[]\n"
     ]
    }
   ],
   "source": [
    "empty = 0\n",
    "docs = []\n",
    "for doc, categories in document_categories.items():\n",
    "    if not categories:\n",
    "        empty = empty + 1\n",
    "        docs.append(doc)\n",
    "\n",
    "print docs"
   ]
  },
  {
   "cell_type": "code",
   "execution_count": 68,
   "metadata": {
    "collapsed": true
   },
   "outputs": [],
   "source": [
    "category_file = codecs.open('C:/tmp/mlp/category_info_refined.txt', 'w', encoding='utf-8')\n",
    "\n",
    "for doc, categories in document_categories.items():\n",
    "    for cat in categories:\n",
    "        category_file.write(u'%s\\t%s\\n' % (doc, cat))\n",
    "        \n",
    "category_file.close()"
   ]
  },
  {
   "cell_type": "markdown",
   "metadata": {
    "collapsed": true
   },
   "source": [
    "### Now let's create a tree of categories"
   ]
  },
  {
   "cell_type": "code",
   "execution_count": 32,
   "metadata": {
    "collapsed": false,
    "scrolled": true
   },
   "outputs": [],
   "source": [
    "import codecs\n",
    "skos_cats_file = codecs.open('C:/tmp/mlp/skos_math_broader.txt', 'w', encoding='utf-8')\n",
    "\n",
    "for k, v in skos_broader.items():\n",
    "    skos_cats_file.write('\\t'.join([k] + list(v)))\n",
    "    skos_cats_file.write('\\n')\n",
    "\n",
    "skos_cats_file.close()    "
   ]
  },
  {
   "cell_type": "code",
   "execution_count": 31,
   "metadata": {
    "collapsed": false
   },
   "outputs": [
    {
     "data": {
      "text/plain": [
       "{u'Mathematical and quantitative methods (economics)',\n",
       " u'Mathematical sciences',\n",
       " u'Probability and statistics'}"
      ]
     },
     "execution_count": 31,
     "metadata": {},
     "output_type": "execute_result"
    }
   ],
   "source": [
    "skos_broader['Statistics']"
   ]
  },
  {
   "cell_type": "code",
   "execution_count": null,
   "metadata": {
    "collapsed": true
   },
   "outputs": [],
   "source": []
  }
 ],
 "metadata": {
  "kernelspec": {
   "display_name": "Python 2",
   "language": "python",
   "name": "python2"
  },
  "language_info": {
   "codemirror_mode": {
    "name": "ipython",
    "version": 2
   },
   "file_extension": ".py",
   "mimetype": "text/x-python",
   "name": "python",
   "nbconvert_exporter": "python",
   "pygments_lexer": "ipython2",
   "version": "2.7.7"
  }
 },
 "nbformat": 4,
 "nbformat_minor": 0
}
