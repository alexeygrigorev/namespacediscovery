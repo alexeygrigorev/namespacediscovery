{
 "cells": [
  {
   "cell_type": "code",
   "execution_count": 1,
   "metadata": {
    "collapsed": true
   },
   "outputs": [],
   "source": [
    "import numpy as np\n",
    "import pandas as pd\n",
    "import matplotlib.pyplot as plt\n",
    "\n",
    "import scipy.sparse\n",
    "\n",
    "import json\n",
    "import os\n",
    "from collections import Counter\n",
    "\n",
    "from time import time"
   ]
  },
  {
   "cell_type": "code",
   "execution_count": 2,
   "metadata": {
    "collapsed": false
   },
   "outputs": [
    {
     "name": "stdout",
     "output_type": "stream",
     "text": [
      "22822 4798\n",
      "508\n"
     ]
    }
   ],
   "source": [
    "from collections import defaultdict\n",
    "\n",
    "category_blacklist = {u'Articles containing proofs', \n",
    "                      u'Articles created via the Article Wizard', \n",
    "                      u'Articles with example pseudocode'}\n",
    "\n",
    "doc_categories = defaultdict(set)\n",
    "category_docs = defaultdict(set)\n",
    "\n",
    "for line in file('C:/tmp/mlp/category_info.txt'):\n",
    "    title, cat = line.strip().split('\\t')\n",
    "    title = title.decode('utf-8')\n",
    "    cat = cat.decode('utf-8')\n",
    "    \n",
    "    if cat in category_blacklist:\n",
    "        continue\n",
    "    \n",
    "    doc_categories[title].add(cat) \n",
    "    category_docs[cat].add(title)\n",
    "\n",
    "print len(doc_categories), len(category_docs)\n",
    "\n",
    "small_cats = set()\n",
    "\n",
    "for cat, docs in category_docs.items():\n",
    "    if len(docs) == 1:\n",
    "        small_cats.add(cat)\n",
    "\n",
    "print len(small_cats)\n",
    "\n",
    "for cat in small_cats:\n",
    "    for doc in category_docs[cat]:\n",
    "        doc_categories[doc].remove(cat)\n",
    "    del category_docs[cat]\n",
    "\n",
    "del small_cats\n",
    "\n",
    "for doc in doc_categories.keys():\n",
    "    if len(doc_categories[doc]) == 0:\n",
    "        doc_categories[doc].add(u'OTHER')\n",
    "    category_docs[u'OTHER'].add(doc)\n"
   ]
  },
  {
   "cell_type": "code",
   "execution_count": 3,
   "metadata": {
    "collapsed": true
   },
   "outputs": [],
   "source": [
    "def id_counter(id_list):\n",
    "    cnt = Counter()\n",
    "    for el in id_list:\n",
    "        cnt[el[u'element']] = el[u'count']\n",
    "    return cnt\n",
    "\n",
    "def_black_list = { 'unit', 'units', 'value', 'values', 'axis', 'axes', 'factor', 'factors', 'line', 'lines',\n",
    "                 'point', 'points', 'number', 'numbers', 'variable', 'variables', 'respect', 'case', 'cases',\n",
    "                 'vector', 'vectors', 'element', 'elements', 'example', \n",
    "                 'integer', 'integers', 'term', 'terms', 'parameter', 'parameters', 'coefficient', 'coefficients',\n",
    "                 'formula', 'times', 'product', 'matrices', 'expression', 'complex', 'real', 'zeros', 'bits',\n",
    "                 'sign',\n",
    "                 'if and only if',\n",
    "                 'alpha', 'beta', 'gamma', 'delta', 'epsilon', 'zeta', 'eta', 'theta', 'iota', 'kappa', 'lambda', \n",
    "                 'mu', 'nu', 'xi', 'omicron', 'pi', 'rho', 'sigma', 'tau', 'upsilon', 'phi', 'chi', 'psi', 'omega'}\n",
    "\n",
    "def valid_def(definition):\n",
    "    if len(definition) <= 3:\n",
    "        return False\n",
    "\n",
    "    return definition.lower() not in def_black_list\n",
    "\n",
    "def rel_to_dict(rels):\n",
    "    return {r['identifier']: r['definition'] for r in rels if valid_def(r['definition'])}"
   ]
  },
  {
   "cell_type": "code",
   "execution_count": 4,
   "metadata": {
    "collapsed": true
   },
   "outputs": [],
   "source": [
    "root = 'C:/tmp/mlp/mlp-output/'\n",
    "\n",
    "docs = []\n",
    "titles = []\n",
    "ids = []\n",
    "rels = []\n",
    "\n",
    "empty = 0\n",
    "small = 0\n",
    "\n",
    "for f in os.listdir(root): \n",
    "    for line in file(root + f):\n",
    "        doc = json.loads(line)\n",
    "\n",
    "        title = doc['title']        \n",
    "        if title not in doc_categories:\n",
    "            continue\n",
    "\n",
    "        if '(disambiguation)' in title:\n",
    "            continue\n",
    "\n",
    "        id_bag = id_counter(doc['identifiers'])\n",
    "        if len(id_bag) <= 1:\n",
    "            if len(id_bag) == 0:\n",
    "                empty = empty + 1\n",
    "            else:\n",
    "                small = small + 1\n",
    "            continue\n",
    "        \n",
    "        docs.append(doc)\n",
    "        titles.append(title)\n",
    "        ids.append(id_bag)\n",
    "\n",
    "        id_rels = rel_to_dict(doc['relations'])\n",
    "        rels.append(id_rels)"
   ]
  },
  {
   "cell_type": "code",
   "execution_count": 6,
   "metadata": {
    "collapsed": false
   },
   "outputs": [
    {
     "data": {
      "text/plain": [
       "22822"
      ]
     },
     "execution_count": 6,
     "metadata": {},
     "output_type": "execute_result"
    }
   ],
   "source": [
    "title_idx = {title: idx for (idx, title) in enumerate(titles)}\n",
    "\n",
    "for doc, cats in doc_categories.items():\n",
    "    if doc in title_idx:\n",
    "        continue\n",
    "        \n",
    "    for cat in cats: \n",
    "        category_docs[cat].remove(doc)\n",
    "    \n",
    "    del doc_categories[doc]\n",
    "\n",
    "print len(doc_categories)\n",
    "\n",
    "title_cats = [doc_categories[title] for title in titles]"
   ]
  },
  {
   "cell_type": "code",
   "execution_count": 10,
   "metadata": {
    "collapsed": true
   },
   "outputs": [],
   "source": [
    "N_doc = len(titles)"
   ]
  },
  {
   "cell_type": "markdown",
   "metadata": {},
   "source": [
    "Clustering"
   ]
  },
  {
   "cell_type": "code",
   "execution_count": 8,
   "metadata": {
    "collapsed": false,
    "scrolled": true
   },
   "outputs": [
    {
     "data": {
      "text/plain": [
       "4798"
      ]
     },
     "execution_count": 8,
     "metadata": {},
     "output_type": "execute_result"
    }
   ],
   "source": [
    "df_cats = Counter()\n",
    "\n",
    "for doc, cats in doc_categories.items():\n",
    "    df_cats.update(cats)\n",
    "\n",
    "categories = list(df_cats)\n",
    "categories_idx = {cat: idx for idx, cat in enumerate(categories)}\n",
    "len(categories)"
   ]
  },
  {
   "cell_type": "code",
   "execution_count": 11,
   "metadata": {
    "collapsed": false
   },
   "outputs": [],
   "source": [
    "doc_category_matrix = np.zeros((N_doc, len(categories)))\n",
    "\n",
    "for doc, cats in doc_categories.items():\n",
    "    doc_idx = title_idx[doc]\n",
    "    for cat in cats:\n",
    "        i = categories_idx[cat]\n",
    "        doc_category_matrix[doc_idx, i] = df_cats[cat]"
   ]
  },
  {
   "cell_type": "code",
   "execution_count": 12,
   "metadata": {
    "collapsed": true
   },
   "outputs": [],
   "source": [
    "from sklearn.cluster import KMeans, MiniBatchKMeans\n",
    "from sklearn.preprocessing import Normalizer\n",
    "normalizer = Normalizer(copy=False)"
   ]
  },
  {
   "cell_type": "code",
   "execution_count": 13,
   "metadata": {
    "collapsed": true
   },
   "outputs": [],
   "source": [
    "doc_category_matrix = normalizer.fit_transform(doc_category_matrix)"
   ]
  },
  {
   "cell_type": "code",
   "execution_count": null,
   "metadata": {
    "collapsed": true
   },
   "outputs": [],
   "source": [
    "t0 = time()\n",
    "\n",
    "labels = np.zeros(N_doc, dtype=np.int)\n",
    "\n",
    "\n",
    "k_max = 1\n",
    "k = 2371\n",
    "\n",
    "while k_max < k:\n",
    "    if k_max % 100 == 0:\n",
    "        print 'iteration %d...' % k_max\n",
    "    idx, count = Counter(labels).most_common()[0]\n",
    "\n",
    "    trials = 3\n",
    "    while trials > 0:\n",
    "        if count < 100:\n",
    "            model = Kmeans(n_clusters=2)\n",
    "        else:\n",
    "            model = MiniBatchKMeans(n_clusters=2, init='random', n_init=10)\n",
    "\n",
    "        km = model.fit(doc_category_matrix[labels == idx])\n",
    "\n",
    "        it_labels = km.labels_\n",
    "        if (it_labels == 1).sum() > 1 and (it_labels == 0).sum() > 1:\n",
    "            break\n",
    "        trials = trials - 1\n",
    "    \n",
    "    it_labels[it_labels == 1] = k_max\n",
    "    it_labels[it_labels == 0] = idx        \n",
    "    labels[labels == idx] = it_labels\n",
    "    \n",
    "    k_max = k_max + 1\n",
    "\n",
    "print \"done in %0.3fs.\" % (time() - t0)"
   ]
  },
  {
   "cell_type": "code",
   "execution_count": null,
   "metadata": {
    "collapsed": true
   },
   "outputs": [],
   "source": [
    "found_k = labels.max()\n",
    "centroids = np.zeros((found_k + 1, len(categories)))\n",
    "\n",
    "for i in xrange(found_k + 1):\n",
    "    if (labels == i).sum() > 0:\n",
    "        centroids[i, :] = doc_category_matrix[labels == i, :].mean(axis=0)\n",
    "\n",
    "centroid_top_cats = centroids.argmax(axis=1)\n",
    "clustered_cat_labels = centroid_top_cats[labels]\n",
    "\n",
    "clustered_categories = list(np.array(categories)[clustered_cat_labels])\n",
    "\n"
   ]
  },
  {
   "cell_type": "markdown",
   "metadata": {},
   "source": [
    "How many documents hve unique category now?"
   ]
  },
  {
   "cell_type": "code",
   "execution_count": 14,
   "metadata": {
    "collapsed": false
   },
   "outputs": [
    {
     "ename": "NameError",
     "evalue": "name 'clustered_categories' is not defined",
     "output_type": "error",
     "traceback": [
      "\u001b[1;31m---------------------------------------------------------------------------\u001b[0m",
      "\u001b[1;31mNameError\u001b[0m                                 Traceback (most recent call last)",
      "\u001b[1;32m<ipython-input-14-e1aa896f1a00>\u001b[0m in \u001b[0;36m<module>\u001b[1;34m()\u001b[0m\n\u001b[1;32m----> 1\u001b[1;33m \u001b[0mlow_freq\u001b[0m \u001b[1;33m=\u001b[0m \u001b[1;33m[\u001b[0m\u001b[0mc\u001b[0m \u001b[1;32mfor\u001b[0m \u001b[0mc\u001b[0m\u001b[1;33m,\u001b[0m \u001b[0mi\u001b[0m \u001b[1;32min\u001b[0m \u001b[0mCounter\u001b[0m\u001b[1;33m(\u001b[0m\u001b[0mclustered_categories\u001b[0m\u001b[1;33m)\u001b[0m\u001b[1;33m.\u001b[0m\u001b[0mmost_common\u001b[0m\u001b[1;33m(\u001b[0m\u001b[1;33m)\u001b[0m \u001b[1;32mif\u001b[0m \u001b[0mi\u001b[0m \u001b[1;33m==\u001b[0m \u001b[1;36m1\u001b[0m\u001b[1;33m]\u001b[0m\u001b[1;33m\u001b[0m\u001b[0m\n\u001b[0m",
      "\u001b[1;31mNameError\u001b[0m: name 'clustered_categories' is not defined"
     ]
    }
   ],
   "source": [
    "low_freq = [c for c, i in Counter(clustered_categories).most_common() if i == 1]\n",
    "1.0 * len(low_freq) / N_doc"
   ]
  },
  {
   "cell_type": "code",
   "execution_count": null,
   "metadata": {
    "collapsed": true
   },
   "outputs": [],
   "source": [
    "import codecs\n",
    "category_file = codecs.open('C:/tmp/mlp/doc_category_clustered.txt', 'w', encoding='utf-8')\n",
    "\n",
    "for doc, cat in zip(titles, clustered_categories):\n",
    "    category_file.write(u'%s\\t%s\\n' % (title, cat))\n",
    "        \n",
    "category_file.close()"
   ]
  },
  {
   "cell_type": "code",
   "execution_count": null,
   "metadata": {
    "collapsed": true
   },
   "outputs": [],
   "source": []
  }
 ],
 "metadata": {
  "kernelspec": {
   "display_name": "Python 2",
   "language": "python",
   "name": "python2"
  },
  "language_info": {
   "codemirror_mode": {
    "name": "ipython",
    "version": 2
   },
   "file_extension": ".py",
   "mimetype": "text/x-python",
   "name": "python",
   "nbconvert_exporter": "python",
   "pygments_lexer": "ipython2",
   "version": "2.7.7"
  }
 },
 "nbformat": 4,
 "nbformat_minor": 0
}
