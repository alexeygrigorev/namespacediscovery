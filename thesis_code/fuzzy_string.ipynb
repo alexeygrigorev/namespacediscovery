{
 "cells": [
  {
   "cell_type": "code",
   "execution_count": 1,
   "metadata": {
    "collapsed": true
   },
   "outputs": [],
   "source": [
    "from fuzzywuzzy import fuzz, process"
   ]
  },
  {
   "cell_type": "code",
   "execution_count": 2,
   "metadata": {
    "collapsed": false
   },
   "outputs": [],
   "source": [
    "def compare(method):\n",
    "    print method.__name__\n",
    "    print 'code vs codewords', method('code', 'codewords')\n",
    "    print 'code vs block code', method('code', 'block code')\n",
    "    print 'code vs q-ary code', method('code', 'q-ary code')\n",
    "    print 'codeword vs codewords', method('codeword', 'codewords')\n",
    "    print 'code vs channel capacity', method('code', 'channel capacity') \n",
    "    print 'code vs error locator polynomial', method('code', 'error locator polynomial') \n",
    "    print 'code vs polylogarithmic query complexity', method('code', 'polylogarithmic query complexity') \n",
    "    print"
   ]
  },
  {
   "cell_type": "code",
   "execution_count": 3,
   "metadata": {
    "collapsed": false,
    "scrolled": true
   },
   "outputs": [
    {
     "name": "stdout",
     "output_type": "stream",
     "text": [
      "QRatio\n",
      "code vs codewords 62\n",
      "code vs block code 57\n",
      "code vs q-ary code 57\n",
      "codeword vs codewords 94\n",
      "code vs channel capacity 20\n",
      "code vs error locator polynomial 14\n",
      "code vs polylogarithmic query complexity 17\n",
      "\n",
      "UQRatio\n",
      "code vs codewords 62\n",
      "code vs block code 57\n",
      "code vs q-ary code 57\n",
      "codeword vs codewords 94\n",
      "code vs channel capacity 20\n",
      "code vs error locator polynomial 14\n",
      "code vs polylogarithmic query complexity 17\n",
      "\n",
      "UWRatio\n",
      "code vs codewords 90\n",
      "code vs block code 90\n",
      "code vs q-ary code 90\n",
      "codeword vs codewords 94\n",
      "code vs channel capacity 22\n",
      "code vs error locator polynomial 45\n",
      "code vs polylogarithmic query complexity 45\n",
      "\n",
      "WRatio\n",
      "code vs codewords 90\n",
      "code vs block code 90\n",
      "code vs q-ary code 90\n",
      "codeword vs codewords 94\n",
      "code vs channel capacity 22\n",
      "code vs error locator polynomial 45\n",
      "code vs polylogarithmic query complexity 45\n",
      "\n",
      "partial_ratio\n",
      "code vs codewords 100\n",
      "code vs block code 100\n",
      "code vs q-ary code 100\n",
      "codeword vs codewords 100\n",
      "code vs channel capacity 25\n",
      "code vs error locator polynomial 50\n",
      "code vs polylogarithmic query complexity 50\n",
      "\n",
      "partial_token_set_ratio\n",
      "code vs codewords 100\n",
      "code vs block code 100\n",
      "code vs q-ary code 100\n",
      "codeword vs codewords 100\n",
      "code vs channel capacity 25\n",
      "code vs error locator polynomial 50\n",
      "code vs polylogarithmic query complexity 50\n",
      "\n",
      "partial_token_sort_ratio\n",
      "code vs codewords 100\n",
      "code vs block code 100\n",
      "code vs q-ary code 100\n",
      "codeword vs codewords 100\n",
      "code vs channel capacity 25\n",
      "code vs error locator polynomial 50\n",
      "code vs polylogarithmic query complexity 50\n",
      "\n",
      "ratio\n",
      "code vs codewords 62\n",
      "code vs block code 57\n",
      "code vs q-ary code 57\n",
      "codeword vs codewords 94\n",
      "code vs channel capacity 20\n",
      "code vs error locator polynomial 14\n",
      "code vs polylogarithmic query complexity 17\n",
      "\n",
      "token_set_ratio\n",
      "code vs codewords 62\n",
      "code vs block code 100\n",
      "code vs q-ary code 100\n",
      "codeword vs codewords 94\n",
      "code vs channel capacity 20\n",
      "code vs error locator polynomial 14\n",
      "code vs polylogarithmic query complexity 17\n",
      "\n",
      "token_sort_ratio\n",
      "code vs codewords 62\n",
      "code vs block code 57\n",
      "code vs q-ary code 57\n",
      "codeword vs codewords 94\n",
      "code vs channel capacity 20\n",
      "code vs error locator polynomial 14\n",
      "code vs polylogarithmic query complexity 17\n",
      "\n"
     ]
    }
   ],
   "source": [
    "for method in [fuzz.QRatio, fuzz.UQRatio, fuzz.UWRatio, fuzz.WRatio, \n",
    "               fuzz.partial_ratio, fuzz.partial_token_set_ratio, fuzz.partial_token_sort_ratio,\n",
    "               fuzz.ratio, fuzz.token_set_ratio, fuzz.token_sort_ratio]:\n",
    "    compare(method)"
   ]
  },
  {
   "cell_type": "markdown",
   "metadata": {},
   "source": [
    "### Unicode"
   ]
  },
  {
   "cell_type": "code",
   "execution_count": 12,
   "metadata": {
    "collapsed": false
   },
   "outputs": [],
   "source": [
    "def compare_unicode(method):\n",
    "    def comp_helper(word1, word2):\n",
    "        print word1, 'vs', word2, method(word1, word2)\n",
    "\n",
    "    print method.__name__\n",
    "    comp_helper(u'подпространство', u'инвариантный подпространство')\n",
    "    comp_helper(u'матрица', u'сингулярный вектор матрица')\n",
    "    comp_helper(u'помощь матрица преобразование', u'сингулярный вектор матрица')\n",
    "    comp_helper(u'линейный отображение', u'оператор умножение')"
   ]
  },
  {
   "cell_type": "code",
   "execution_count": 13,
   "metadata": {
    "collapsed": false,
    "scrolled": true
   },
   "outputs": [
    {
     "name": "stdout",
     "output_type": "stream",
     "text": [
      "QRatio\n",
      "подпространство vs инвариантный подпространство 0\n",
      "матрица vs сингулярный вектор матрица 0\n",
      "помощь матрица преобразование vs сингулярный вектор матрица 0\n",
      "линейный отображение vs оператор умножение 0\n",
      "UQRatio\n",
      "подпространство vs инвариантный подпространство 70\n",
      "матрица vs сингулярный вектор матрица 42\n",
      "помощь матрица преобразование vs сингулярный вектор матрица 33\n",
      "линейный отображение vs оператор умножение 47\n",
      "UWRatio\n",
      "подпространство vs инвариантный подпространство 90\n",
      "матрица vs сингулярный вектор матрица 90\n",
      "помощь матрица преобразование vs сингулярный вектор матрица 41\n",
      "линейный отображение vs оператор умножение 47\n",
      "WRatio\n",
      "подпространство vs инвариантный подпространство 0\n",
      "матрица vs сингулярный вектор матрица 0\n",
      "помощь матрица преобразование vs сингулярный вектор матрица 0\n",
      "линейный отображение vs оператор умножение 0\n",
      "partial_ratio\n",
      "подпространство vs инвариантный подпространство 100\n",
      "матрица vs сингулярный вектор матрица 100\n",
      "помощь матрица преобразование vs сингулярный вектор матрица 34\n",
      "линейный отображение vs оператор умножение 50\n",
      "partial_token_set_ratio\n",
      "подпространство vs инвариантный подпространство 0\n",
      "матрица vs сингулярный вектор матрица 0\n",
      "помощь матрица преобразование vs сингулярный вектор матрица 0\n",
      "линейный отображение vs оператор умножение 0\n",
      "partial_token_sort_ratio\n",
      "подпространство vs инвариантный подпространство 0\n",
      "матрица vs сингулярный вектор матрица 0\n",
      "помощь матрица преобразование vs сингулярный вектор матрица 0\n",
      "линейный отображение vs оператор умножение 0\n",
      "ratio\n",
      "подпространство vs инвариантный подпространство 70\n",
      "матрица vs сингулярный вектор матрица 42\n",
      "помощь матрица преобразование vs сингулярный вектор матрица 33\n",
      "линейный отображение vs оператор умножение 47\n",
      "token_set_ratio\n",
      "подпространство vs инвариантный подпространство 0\n",
      "матрица vs сингулярный вектор матрица 0\n",
      "помощь матрица преобразование vs сингулярный вектор матрица 0\n",
      "линейный отображение vs оператор умножение 0\n",
      "token_sort_ratio\n",
      "подпространство vs инвариантный подпространство 0\n",
      "матрица vs сингулярный вектор матрица 0\n",
      "помощь матрица преобразование vs сингулярный вектор матрица 0\n",
      "линейный отображение vs оператор умножение 0\n"
     ]
    }
   ],
   "source": [
    "for method in [fuzz.QRatio, fuzz.UQRatio, fuzz.UWRatio, fuzz.WRatio, \n",
    "               fuzz.partial_ratio, fuzz.partial_token_set_ratio, fuzz.partial_token_sort_ratio,\n",
    "               fuzz.ratio, fuzz.token_set_ratio, fuzz.token_sort_ratio]:\n",
    "    compare_unicode(method)"
   ]
  },
  {
   "cell_type": "markdown",
   "metadata": {},
   "source": [
    "## Query"
   ]
  },
  {
   "cell_type": "code",
   "execution_count": 2,
   "metadata": {
    "collapsed": true
   },
   "outputs": [],
   "source": [
    "strings = ['code', 'length', 'size', 'codewords', 'codeword', 'minimum distance', \n",
    "           'radius', 'subset', 'relative distance', 'rate', 'words', 'weight', 'block code', \n",
    "           'message', 'linear code', 'block length', 'final value', 'generator matrix', \n",
    "           'Hadamard', 'channel capacity', 'certain threshold', 'error locator polynomial',\n",
    "           'injective map', 'decodable code', 'q-ary code', 'Reed', 'Solomon', 'maximality', \n",
    "           'polylogarithmic query complexity', 'polynomial length', 'overlapped region']"
   ]
  },
  {
   "cell_type": "code",
   "execution_count": 30,
   "metadata": {
    "collapsed": false
   },
   "outputs": [
    {
     "data": {
      "text/plain": [
       "[('q-ary code', 100),\n",
       " ('code', 90),\n",
       " ('linear code', 67),\n",
       " ('block code', 54),\n",
       " ('decodable code', 54),\n",
       " ('polylogarithmic query complexity', 54)]"
      ]
     },
     "execution_count": 30,
     "metadata": {},
     "output_type": "execute_result"
    }
   ],
   "source": [
    "process.extractBests('q-ary code', strings, limit=1000, score_cutoff=50)"
   ]
  },
  {
   "cell_type": "code",
   "execution_count": 28,
   "metadata": {
    "collapsed": false
   },
   "outputs": [
    {
     "data": {
      "text/plain": [
       "[('codewords', 100),\n",
       " ('codeword', 94),\n",
       " ('code', 90),\n",
       " ('words', 90),\n",
       " ('decodable code', 52)]"
      ]
     },
     "execution_count": 28,
     "metadata": {},
     "output_type": "execute_result"
    }
   ],
   "source": [
    "process.extractBests('codewords', strings, limit=1000, score_cutoff=50)"
   ]
  },
  {
   "cell_type": "code",
   "execution_count": null,
   "metadata": {
    "collapsed": true
   },
   "outputs": [],
   "source": []
  }
 ],
 "metadata": {
  "kernelspec": {
   "display_name": "Python 2",
   "language": "python",
   "name": "python2"
  },
  "language_info": {
   "codemirror_mode": {
    "name": "ipython",
    "version": 2
   },
   "file_extension": ".py",
   "mimetype": "text/x-python",
   "name": "python",
   "nbconvert_exporter": "python",
   "pygments_lexer": "ipython2",
   "version": "2.7.7"
  }
 },
 "nbformat": 4,
 "nbformat_minor": 0
}
