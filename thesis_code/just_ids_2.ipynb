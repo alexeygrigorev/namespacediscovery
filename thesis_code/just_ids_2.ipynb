{
 "cells": [
  {
   "cell_type": "code",
   "execution_count": 1,
   "metadata": {
    "collapsed": true
   },
   "outputs": [],
   "source": [
    "import numpy as np\n",
    "import pandas as pd\n",
    "import matplotlib.pyplot as plt\n",
    "\n",
    "import json\n",
    "import os\n",
    "from collections import Counter\n",
    "\n",
    "from time import time\n",
    "\n",
    "%matplotlib inline\n",
    "\n",
    "import scipy.sparse"
   ]
  },
  {
   "cell_type": "code",
   "execution_count": 2,
   "metadata": {
    "collapsed": false
   },
   "outputs": [],
   "source": [
    "import matplotlib\n",
    "matplotlib.rcParams['mathtext.fontset'] = 'stix'\n",
    "matplotlib.rcParams['font.family'] = 'STIXGeneral'\n",
    "matplotlib.rc('axes', labelsize='large') "
   ]
  },
  {
   "cell_type": "code",
   "execution_count": 3,
   "metadata": {
    "collapsed": true
   },
   "outputs": [],
   "source": [
    "def id_counter(id_list):\n",
    "    cnt = Counter()\n",
    "    for el in id_list:\n",
    "        cnt[el[u'element']] = el[u'count']\n",
    "    return cnt\n",
    "\n",
    "def_black_list = { 'unit', 'units', 'value', 'values', 'axis', 'axes', 'factor', 'factors', 'line', 'lines',\n",
    "                 'point', 'points', 'number', 'numbers', 'variable', 'variables', 'respect', 'case', 'cases',\n",
    "                 'vector', 'vectors', 'element', 'elements', 'example', 'index', 'indices',\n",
    "                 'integer', 'integers', 'term', 'terms', 'parameter', 'parameters', 'coefficient', 'coefficients',\n",
    "                 'formula', 'times', 'product', 'matrices', 'expression', 'complex', 'real', 'zeros', 'bits',\n",
    "                 'sign', 'radian/s',\n",
    "                 'if and only if',\n",
    "                 'alpha', 'beta', 'gamma', 'delta', 'epsilon', 'zeta', 'eta', 'theta', 'iota', 'kappa', 'lambda', \n",
    "                 'mu', 'nu', 'xi', 'omicron', 'pi', 'rho', 'sigma', 'tau', 'upsilon', 'phi', 'chi', 'psi', 'omega'}\n",
    "\n",
    "def valid_def(definition):\n",
    "    if len(definition) <= 3:\n",
    "        return False\n",
    "\n",
    "    return definition.lower() not in def_black_list\n",
    "\n",
    "def rel_to_dict(rels):\n",
    "    res = defaultdict(list)\n",
    "    for r in rels:\n",
    "        if not valid_def(r['definition']):\n",
    "            continue\n",
    "        res[r['identifier']].append((r['definition'], r['score']))\n",
    "    return res"
   ]
  },
  {
   "cell_type": "code",
   "execution_count": 4,
   "metadata": {
    "collapsed": true
   },
   "outputs": [],
   "source": [
    "from collections import defaultdict\n",
    "\n",
    "doc_categories = defaultdict(set)\n",
    "category_docs = defaultdict(set)\n",
    "\n",
    "for line in file('C:/tmp/mlp/category_info_refined.txt'):\n",
    "    title, cat = line.strip().split('\\t')\n",
    "    title = title.decode('utf-8')\n",
    "    cat = cat.decode('utf-8')\n",
    "\n",
    "    # let's also remove all documents from \"OTHER\" category\n",
    "    if cat == u'OTHER':\n",
    "        continue\n",
    "\n",
    "    doc_categories[title].add(cat) \n",
    "    category_docs[cat].add(title)"
   ]
  },
  {
   "cell_type": "code",
   "execution_count": 5,
   "metadata": {
    "collapsed": false
   },
   "outputs": [
    {
     "name": "stdout",
     "output_type": "stream",
     "text": [
      "0 0 7501\n",
      "22512\n"
     ]
    }
   ],
   "source": [
    "root = 'C:/tmp/mlp/mlp-output/'\n",
    "\n",
    "docs = []\n",
    "titles = []\n",
    "ids = []\n",
    "rels = []\n",
    "\n",
    "empty = 0\n",
    "small = 0\n",
    "uncategorized = 0\n",
    "\n",
    "for f in os.listdir(root): \n",
    "    for line in file(root + f):\n",
    "        doc = json.loads(line)\n",
    "\n",
    "        title = doc['title']        \n",
    "        if title not in doc_categories:\n",
    "            uncategorized = uncategorized + 1\n",
    "            continue\n",
    "\n",
    "        if '(disambiguation)' in title:\n",
    "            continue\n",
    "\n",
    "        id_bag = id_counter(doc['identifiers'])\n",
    "        if len(id_bag) <= 1:\n",
    "            if len(id_bag) == 0:\n",
    "                empty = empty + 1\n",
    "            else:\n",
    "                small = small + 1\n",
    "            continue\n",
    "\n",
    "        docs.append(doc)\n",
    "        titles.append(title)\n",
    "        ids.append(id_bag)\n",
    "\n",
    "        id_rels = rel_to_dict(doc['relations'])\n",
    "        rels.append(id_rels)\n",
    "\n",
    "print empty, small, uncategorized\n",
    "\n",
    "N_doc = len(ids)\n",
    "print N_doc"
   ]
  },
  {
   "cell_type": "code",
   "execution_count": 6,
   "metadata": {
    "collapsed": false
   },
   "outputs": [
    {
     "name": "stdout",
     "output_type": "stream",
     "text": [
      "22512\n"
     ]
    }
   ],
   "source": [
    "title_idx = {title: idx for (idx, title) in enumerate(titles)}\n",
    "\n",
    "for doc, cats in doc_categories.items():\n",
    "    if doc in title_idx:\n",
    "        continue\n",
    "\n",
    "    for cat in cats: \n",
    "        category_docs[cat].remove(doc)\n",
    "    \n",
    "    del doc_categories[doc]\n",
    "\n",
    "print len(doc_categories)"
   ]
  },
  {
   "cell_type": "code",
   "execution_count": 243,
   "metadata": {
    "collapsed": false
   },
   "outputs": [
    {
     "data": {
      "text/plain": [
       "309237"
      ]
     },
     "execution_count": 243,
     "metadata": {},
     "output_type": "execute_result"
    }
   ],
   "source": [
    "sum([len(v.values()) for v in ids])"
   ]
  },
  {
   "cell_type": "code",
   "execution_count": 7,
   "metadata": {
    "collapsed": true
   },
   "outputs": [],
   "source": [
    "doc_categories_list = [doc_categories[doc] for doc in titles]"
   ]
  },
  {
   "cell_type": "code",
   "execution_count": 8,
   "metadata": {
    "collapsed": true
   },
   "outputs": [],
   "source": [
    "import cluster_evaluation"
   ]
  },
  {
   "cell_type": "code",
   "execution_count": 9,
   "metadata": {
    "collapsed": false
   },
   "outputs": [],
   "source": [
    "reload(cluster_evaluation)\n",
    "evaluate = cluster_evaluation.Evaluator(doc_titles=titles, doc_ids=ids, \n",
    "                                        doc_ids_definitions=rels, doc_categories=doc_categories_list)"
   ]
  },
  {
   "cell_type": "markdown",
   "metadata": {},
   "source": [
    "##  K-means"
   ]
  },
  {
   "cell_type": "code",
   "execution_count": 10,
   "metadata": {
    "collapsed": true
   },
   "outputs": [],
   "source": [
    "from sklearn.feature_extraction.text import TfidfVectorizer\n",
    "from sklearn.decomposition import TruncatedSVD, randomized_svd"
   ]
  },
  {
   "cell_type": "code",
   "execution_count": 11,
   "metadata": {
    "collapsed": true
   },
   "outputs": [],
   "source": [
    "def unwrap_counter(cnt):\n",
    "    res = []\n",
    "    for id, c in cnt.items():\n",
    "        res.extend([id] * c)\n",
    "    return res\n",
    "\n",
    "vectorizer = TfidfVectorizer(analyzer=unwrap_counter, use_idf=True, sublinear_tf=True, min_df=2)\n",
    "X = vectorizer.fit_transform(ids)"
   ]
  },
  {
   "cell_type": "code",
   "execution_count": 12,
   "metadata": {
    "collapsed": false
   },
   "outputs": [
    {
     "data": {
      "text/plain": [
       "<22512x6075 sparse matrix of type '<type 'numpy.float64'>'\n",
       "\twith 302541 stored elements in Compressed Sparse Row format>"
      ]
     },
     "execution_count": 12,
     "metadata": {},
     "output_type": "execute_result"
    }
   ],
   "source": [
    "X"
   ]
  },
  {
   "cell_type": "code",
   "execution_count": 16,
   "metadata": {
    "collapsed": false,
    "scrolled": true
   },
   "outputs": [
    {
     "data": {
      "text/plain": [
       "0.0022121973904726806"
      ]
     },
     "execution_count": 16,
     "metadata": {},
     "output_type": "execute_result"
    }
   ],
   "source": [
    "302541.0 / (X.shape[0] * X.shape[1])"
   ]
  },
  {
   "cell_type": "code",
   "execution_count": 13,
   "metadata": {
    "collapsed": true
   },
   "outputs": [],
   "source": [
    "from sklearn.preprocessing import Normalizer\n",
    "normalizer = Normalizer(copy=False)"
   ]
  },
  {
   "cell_type": "code",
   "execution_count": 21,
   "metadata": {
    "collapsed": true
   },
   "outputs": [],
   "source": [
    "from sklearn.cluster import KMeans, MiniBatchKMeans"
   ]
  },
  {
   "cell_type": "code",
   "execution_count": 16,
   "metadata": {
    "collapsed": true
   },
   "outputs": [],
   "source": [
    "ks = [k for k in xrange(2000, 20001, 250)]\n",
    "km_grid_hyperparam_res = {}"
   ]
  },
  {
   "cell_type": "code",
   "execution_count": 17,
   "metadata": {
    "collapsed": true
   },
   "outputs": [],
   "source": [
    "labels_km = {}"
   ]
  },
  {
   "cell_type": "code",
   "execution_count": 18,
   "metadata": {
    "collapsed": false
   },
   "outputs": [
    {
     "name": "stdout",
     "output_type": "stream",
     "text": [
      "k=100, done in 148.39400s.\n",
      "k=100, done in 158.97900s.\n",
      "k=100, done in 172.00500s.\n",
      "k=200, done in 294.98900s.\n",
      "k=200, done in 308.58200s.\n",
      "k=200, done in 330.00900s.\n",
      "k=300, done in 538.56200s.\n",
      "k=300, done in 1008.51800s.\n",
      "k=300, done in 1252.31300s.\n",
      "k=400, done in 1334.52600s.\n",
      "k=400, done in 1378.10800s.\n",
      "k=400, done in 2062.49700s.\n",
      "k=500, done in 1631.10300s.\n",
      "k=500, done in 723.35200s.\n",
      "k=500, done in 851.74600s.\n",
      "k=600, done in 835.95700s.\n",
      "k=600, done in 900.83400s.\n",
      "k=600, done in 1093.82400s.\n"
     ]
    }
   ],
   "source": [
    "ks = [100, 200, 300, 400, 500, 600]\n",
    "times = []\n",
    "\n",
    "for k in ks:\n",
    "    for i in [1, 2, 3]:\n",
    "        t0 = time()\n",
    "        km = KMeans(n_clusters=k)\n",
    "        km.fit(X)\n",
    "        labels_km[(k, i)] = km.labels_\n",
    "        taken_time = time() - t0\n",
    "        print \"k=%d, done in %0.5fs.\" % (k, taken_time)\n",
    "        times.append((k, taken_time))"
   ]
  },
  {
   "cell_type": "code",
   "execution_count": 89,
   "metadata": {
    "collapsed": false
   },
   "outputs": [
    {
     "name": "stdout",
     "output_type": "stream",
     "text": [
      "ks = [100, 100, 100, 200, 200, 200, 300, 300, 300, 400, 400, 400, 500, 500, 500, 600, 600, 600]\n",
      "ts = [128.8470001220703, 149.77499985694885, 164.1489999294281, 341.0530002117157, 275.7239999771118, 296.9650001525879, 508.4869999885559, 474.78600001335144, 426.98999977111816, 650.3499999046326, 552.8680000305176, 620.5950000286102, 829.8589999675751, 812.345999956131, 796.162999868393, 915.1749999523163, 995.1280000209808, 1163.3170001506805]\n"
     ]
    }
   ],
   "source": [
    "ks, ts = zip(*times)\n",
    "print 'ks =', list(ks)\n",
    "print 'ts =', list(ts)"
   ]
  },
  {
   "cell_type": "markdown",
   "metadata": {},
   "source": [
    "Some old calculations:\n",
    "\n",
    "    ks = [100, 100, 100, 200, 200, 200, 300, 300, 300, 400, 400, 400, 500, 500, 500, 600, 600, 600]\n",
    "    ts = [128.8470001220703, 149.77499985694885, 164.1489999294281, 341.0530002117157, 275.7239999771118, 296.9650001525879, 508.4869999885559, 474.78600001335144, 426.98999977111816, 650.3499999046326, 552.8680000305176, 620.5950000286102, 829.8589999675751, 812.345999956131, 796.162999868393, 915.1749999523163, 995.1280000209808, 1163.3170001506805]"
   ]
  },
  {
   "cell_type": "code",
   "execution_count": 24,
   "metadata": {
    "collapsed": false
   },
   "outputs": [
    {
     "name": "stdout",
     "output_type": "stream",
     "text": [
      "100 0.163201847903 1\n",
      "100 0.160581023454 1\n",
      "100 0.16275764037 1\n",
      "200 0.181147832267 2\n",
      "200 0.183191186923 2\n",
      "200 0.183368869936 3\n",
      "300 0.198738450604 4\n",
      "300 0.195628997868 5\n",
      "300 0.195051528074 5\n",
      "400 0.207667022033 12\n",
      "400 0.206867448472 6\n",
      "400 0.210643212509 8\n",
      "500 0.218372423596 11\n",
      "500 0.219571783937 12\n",
      "500 0.216950959488 10\n",
      "600 0.228589196873 19\n",
      "600 0.226501421464 12\n",
      "600 0.228233830846 17\n"
     ]
    }
   ],
   "source": [
    "ks_km = []\n",
    "purities_km = []\n",
    "lens_km = []\n",
    "\n",
    "for (k, _), assignment in sorted(labels_km.items()):\n",
    "    ks_km.append(k)\n",
    "    pur = evaluate.overall_purity(assignment)\n",
    "    purities_km.append(pur)\n",
    "    ln = len(evaluate.high_purity_clusters(assignment, threshold=0.8, min_size=3))\n",
    "    lens_km.append(ln)\n",
    "    \n",
    "    print k, pur, ln"
   ]
  },
  {
   "cell_type": "code",
   "execution_count": 34,
   "metadata": {
    "collapsed": true
   },
   "outputs": [],
   "source": [
    "import statsmodels\n",
    "import statsmodels.graphics\n",
    "import statsmodels.formula.api as sm"
   ]
  },
  {
   "cell_type": "code",
   "execution_count": 83,
   "metadata": {
    "collapsed": false
   },
   "outputs": [
    {
     "data": {
      "text/plain": [
       "0.99186147652936696"
      ]
     },
     "execution_count": 83,
     "metadata": {},
     "output_type": "execute_result"
    }
   ],
   "source": [
    "model = sm.OLS(ts, ks).fit()\n",
    "model.rsquared"
   ]
  },
  {
   "cell_type": "code",
   "execution_count": 82,
   "metadata": {
    "collapsed": false
   },
   "outputs": [
    {
     "data": {
      "image/png": "[encoded data removed]",
      "text/plain": [
       "<matplotlib.figure.Figure at 0x46987748>"
      ]
     },
     "metadata": {},
     "output_type": "display_data"
    }
   ],
   "source": [
    "plt.figure(figsize=(6, 3))\n",
    "\n",
    "ts_m = np.array(ts) / 60.0\n",
    "plt.scatter(ks, ts_m, facecolors='none', s=30, edgecolors='black', label='observed')\n",
    "plt.plot([0, 700], model.predict([0, 700]) / 60.0, color='black', label='trend')\n",
    "plt.xlim([0, 700])\n",
    "plt.ylim([0, 20])\n",
    "plt.legend(loc='lower right')\n",
    "plt.xlabel('number of clusters $K$')\n",
    "plt.ylabel('time, min')\n",
    "\n",
    "plt.tight_layout()\n",
    "plt.savefig('figures/k-vs-time.pdf', format='pdf')\n",
    "\n",
    "plt.show()"
   ]
  },
  {
   "cell_type": "markdown",
   "metadata": {},
   "source": [
    "Let's try the same for minibatch"
   ]
  },
  {
   "cell_type": "code",
   "execution_count": 97,
   "metadata": {
    "collapsed": true
   },
   "outputs": [],
   "source": [
    "labels = {}"
   ]
  },
  {
   "cell_type": "code",
   "execution_count": 23,
   "metadata": {
    "collapsed": false,
    "scrolled": true
   },
   "outputs": [
    {
     "name": "stdout",
     "output_type": "stream",
     "text": [
      "k=100, done in 1.87100s.\n",
      "k=100, done in 1.19300s.\n",
      "k=100, done in 1.16300s.\n",
      "k=100, done in 0.85900s.\n",
      "k=100, done in 1.44700s.\n",
      "k=100, done in 0.96800s.\n",
      "k=100, done in 1.37600s.\n",
      "k=100, done in 2.86000s.\n",
      "k=100, done in 2.30800s.\n",
      "k=100, done in 1.24800s.\n",
      "k=200, done in 4.13600s.\n",
      "k=200, done in 2.56200s.\n",
      "k=200, done in 2.91000s.\n",
      "k=200, done in 3.29000s.\n",
      "k=200, done in 3.35500s.\n",
      "k=200, done in 3.22000s.\n",
      "k=200, done in 2.00800s.\n",
      "k=200, done in 3.39800s.\n",
      "k=200, done in 2.82700s.\n",
      "k=200, done in 3.79000s.\n",
      "k=300, done in 6.02200s.\n",
      "k=300, done in 4.67200s.\n",
      "k=300, done in 3.67600s.\n",
      "k=300, done in 5.11800s.\n",
      "k=300, done in 5.97900s.\n",
      "k=300, done in 8.70800s.\n",
      "k=300, done in 6.79600s.\n",
      "k=300, done in 4.54900s.\n",
      "k=300, done in 5.30400s.\n",
      "k=300, done in 6.43000s.\n",
      "k=400, done in 6.43900s.\n",
      "k=400, done in 7.17500s.\n",
      "k=400, done in 9.82000s.\n",
      "k=400, done in 10.18100s.\n",
      "k=400, done in 9.98000s.\n",
      "k=400, done in 14.54300s.\n",
      "k=400, done in 7.67500s.\n",
      "k=400, done in 8.42700s.\n",
      "k=400, done in 6.83500s.\n",
      "k=400, done in 8.59000s.\n",
      "k=500, done in 9.24000s.\n",
      "k=500, done in 9.37100s.\n",
      "k=500, done in 12.01100s.\n",
      "k=500, done in 8.28900s.\n",
      "k=500, done in 9.07600s.\n",
      "k=500, done in 13.92800s.\n",
      "k=500, done in 10.21600s.\n",
      "k=500, done in 9.14500s.\n",
      "k=500, done in 8.14000s.\n",
      "k=500, done in 8.73700s.\n",
      "k=600, done in 11.99900s.\n",
      "k=600, done in 10.64500s.\n",
      "k=600, done in 9.87600s.\n",
      "k=600, done in 10.18800s.\n",
      "k=600, done in 9.64700s.\n",
      "k=600, done in 9.47100s.\n",
      "k=600, done in 9.10600s.\n",
      "k=600, done in 10.53200s.\n",
      "k=600, done in 12.89800s.\n",
      "k=600, done in 12.27100s.\n"
     ]
    }
   ],
   "source": [
    "ks = [100, 200, 300, 400, 500, 600]\n",
    "times_mb = []\n",
    "labels_mb = {}\n",
    "\n",
    "for k in ks:\n",
    "    for i in xrange(10):\n",
    "        t0 = time()\n",
    "        km = MiniBatchKMeans(n_clusters=k, init_size=k*3, n_init=10, init='random')\n",
    "        km.fit(X)\n",
    "        labels_mb[(k, i)] = km.labels_\n",
    "        taken_time = time() - t0\n",
    "        print \"k=%d, done in %0.5fs.\" % (k, taken_time)\n",
    "        times_mb.append((k, taken_time))"
   ]
  },
  {
   "cell_type": "code",
   "execution_count": 30,
   "metadata": {
    "collapsed": false,
    "scrolled": true
   },
   "outputs": [
    {
     "name": "stdout",
     "output_type": "stream",
     "text": [
      "100 0.139880952381 2\n",
      "100 0.136149609097 0\n",
      "100 0.127443141436 0\n",
      "100 0.14565565032 0\n",
      "100 0.134017412935 1\n",
      "100 0.138726012793 1\n",
      "100 0.145566808813 1\n",
      "100 0.142857142857 0\n",
      "100 0.151297085999 2\n",
      "100 0.137970859986 1\n",
      "200 0.151918976546 1\n",
      "200 0.14618869936 0\n",
      "200 0.14974235963 1\n",
      "200 0.149120469083 0\n",
      "200 0.151430348259 0\n",
      "200 0.149964463397 1\n",
      "200 0.147432480455 2\n",
      "200 0.151252665245 1\n",
      "200 0.14974235963 0\n",
      "200 0.146410803127 2\n",
      "300 0.139303482587 1\n",
      "300 0.143123667377 2\n",
      "300 0.133617626155 1\n",
      "300 0.13921464108 0\n",
      "300 0.138726012793 1\n",
      "300 0.140369580668 0\n",
      "300 0.135483297797 2\n",
      "300 0.137793176972 0\n",
      "300 0.128731343284 4\n",
      "300 0.137437810945 2\n",
      "400 0.148898365316 2\n",
      "400 0.138148542999 1\n",
      "400 0.139969793888 0\n",
      "400 0.144323027719 3\n",
      "400 0.137748756219 3\n",
      "400 0.144811656006 3\n",
      "400 0.149875621891 2\n",
      "400 0.13868159204 1\n",
      "400 0.140280739161 1\n",
      "400 0.147521321962 0\n",
      "500 0.137615493959 2\n",
      "500 0.134195095949 1\n",
      "500 0.156494314144 2\n",
      "500 0.138459488273 1\n",
      "500 0.137482231699 1\n",
      "500 0.155739161336 3\n",
      "500 0.151430348259 2\n",
      "500 0.133972992182 0\n",
      "500 0.131041222459 1\n",
      "500 0.129042288557 1\n",
      "600 0.143256929638 3\n",
      "600 0.143168088131 2\n",
      "600 0.139570007107 0\n",
      "600 0.138592750533 1\n",
      "600 0.146721748401 1\n",
      "600 0.149120469083 0\n",
      "600 0.14880952381 2\n",
      "600 0.13841506752 0\n",
      "600 0.148232054016 2\n",
      "600 0.140502842928 0\n"
     ]
    }
   ],
   "source": [
    "ks_mb = []\n",
    "purities_mb = []\n",
    "lens_mb = []\n",
    "\n",
    "for (k, i) in sorted(labels_mb.keys()):\n",
    "    assignment = labels_mb[(k, i)]\n",
    "    ks_mb.append(k)\n",
    "    pur = evaluate.overall_purity(assignment)\n",
    "    purities_mb.append(pur)\n",
    "    ln = len(evaluate.high_purity_clusters(assignment, threshold=0.8, min_size=3))\n",
    "    lens_mb.append(ln)\n",
    "    \n",
    "    print k, pur, ln"
   ]
  },
  {
   "cell_type": "code",
   "execution_count": 261,
   "metadata": {
    "collapsed": false,
    "scrolled": true
   },
   "outputs": [],
   "source": [
    "df_km = pd.DataFrame({'k': ks_km, 'purity': purities_km, 'sizes': lens_km})\n",
    "df_mb = pd.DataFrame({'k': ks_mb, 'purity': purities_mb, 'sizes': lens_mb})"
   ]
  },
  {
   "cell_type": "code",
   "execution_count": 264,
   "metadata": {
    "collapsed": false
   },
   "outputs": [
    {
     "data": {
      "image/png": "[encoded data removed]",
      "text/plain": [
       "<matplotlib.figure.Figure at 0x5112b0f0>"
      ]
     },
     "metadata": {},
     "output_type": "display_data"
    }
   ],
   "source": [
    "plt.figure(figsize=(4, 3))\n",
    "\n",
    "idx = [i for (i, n) in df_km.groupby('k')]\n",
    "\n",
    "bp = plt.boxplot([n.purity.values for (i, n) in df_km.groupby('k')], positions=idx, widths=30)\n",
    "plt.setp(bp['boxes'], color='lightgray')\n",
    "plt.setp(bp['medians'], color='none')\n",
    "plt.setp(bp['whiskers'], color='lightgray')\n",
    "plt.setp(bp['fliers'], marker='None')\n",
    "plt.setp(bp['caps'], color='lightgray')\n",
    "\n",
    "plt.plot(idx, df_km.groupby('k').median().purity, color='black', linestyle='--', label='Usual')\n",
    "\n",
    "bp = plt.boxplot([n.purity.values for (i, n) in df_mb.groupby('k')], positions=idx, widths=30)\n",
    "plt.setp(bp['boxes'], color='lightgray')\n",
    "plt.setp(bp['medians'], color='none')\n",
    "plt.setp(bp['whiskers'], color='lightgray')\n",
    "plt.setp(bp['fliers'], marker='None')\n",
    "plt.setp(bp['caps'], color='lightgray')\n",
    "\n",
    "plt.plot(idx, df_mb.groupby('k').median().purity, color='black', label='MiniBatch')\n",
    "\n",
    "plt.xlim(50, 650)\n",
    "plt.xlabel('number of clusters $K$')\n",
    "plt.ylabel('purity')\n",
    "plt.legend(loc='upper left')\n",
    "\n",
    "plt.tight_layout()\n",
    "\n",
    "plt.savefig('figures/k-vs-purity2.pdf', format='pdf')\n",
    "\n",
    "plt.show()"
   ]
  },
  {
   "cell_type": "code",
   "execution_count": 265,
   "metadata": {
    "collapsed": false
   },
   "outputs": [
    {
     "data": {
      "image/png": "[encoded data removed]",
      "text/plain": [
       "<matplotlib.figure.Figure at 0x51c60128>"
      ]
     },
     "metadata": {},
     "output_type": "display_data"
    }
   ],
   "source": [
    "plt.figure(figsize=(4, 3))\n",
    "\n",
    "idx = [i for (i, n) in df_km.groupby('k')]\n",
    "\n",
    "bp = plt.boxplot([n.sizes.values for (i, n) in df_km.groupby('k')], positions=idx, widths=30)\n",
    "plt.setp(bp['boxes'], color='lightgray')\n",
    "plt.setp(bp['medians'], color='none')\n",
    "plt.setp(bp['whiskers'], color='lightgray')\n",
    "plt.setp(bp['fliers'], marker='None')\n",
    "plt.setp(bp['caps'], color='lightgray')\n",
    "\n",
    "plt.plot(idx, df_km.groupby('k').median().sizes, color='black', linestyle='--', label='Usual')\n",
    "\n",
    "bp = plt.boxplot([n.sizes.values for (i, n) in df_mb.groupby('k')], positions=idx, widths=30)\n",
    "plt.setp(bp['boxes'], color='lightgray')\n",
    "plt.setp(bp['medians'], color='none')\n",
    "plt.setp(bp['whiskers'], color='lightgray')\n",
    "plt.setp(bp['fliers'], marker='None')\n",
    "plt.setp(bp['caps'], color='lightgray')\n",
    "\n",
    "plt.plot(idx, df_mb.groupby('k').median().sizes, color='black', label='MiniBatch')\n",
    "\n",
    "plt.xlim(50, 650)\n",
    "plt.xlabel('number of clusters $K$')\n",
    "plt.ylabel('no. pure clusters')\n",
    "plt.legend(loc='upper left')\n",
    "\n",
    "plt.tight_layout()\n",
    "\n",
    "plt.savefig('figures/k-vs-len2.pdf', format='pdf')\n",
    "\n",
    "plt.show()"
   ]
  },
  {
   "cell_type": "code",
   "execution_count": 101,
   "metadata": {
    "collapsed": false
   },
   "outputs": [
    {
     "name": "stdout",
     "output_type": "stream",
     "text": [
      "ks = [100, 100, 100, 200, 200, 200, 300, 300, 300, 400, 400, 400, 500, 500, 500, 600, 600, 600]\n",
      "ts = [1.3640000820159912, 1.063999891281128, 1.4620001316070557, 2.001999855041504, 2.5290000438690186, 2.0840001106262207, 3.4070000648498535, 3.747999906539917, 7.823999881744385, 6.116000175476074, 5.105000019073486, 5.781000137329102, 8.726999998092651, 7.390000104904175, 7.740999937057495, 9.68500018119812, 10.348999977111816, 9.505000114440918]\n"
     ]
    }
   ],
   "source": [
    "ks, ts = zip(*times)\n",
    "print 'ks =', list(ks)\n",
    "print 'ts =', list(ts)"
   ]
  },
  {
   "cell_type": "code",
   "execution_count": 113,
   "metadata": {
    "collapsed": false
   },
   "outputs": [
    {
     "data": {
      "text/plain": [
       "0.97230275439100544"
      ]
     },
     "execution_count": 113,
     "metadata": {},
     "output_type": "execute_result"
    }
   ],
   "source": [
    "model = sm.OLS(ts, ks).fit()\n",
    "model.rsquared"
   ]
  },
  {
   "cell_type": "code",
   "execution_count": 114,
   "metadata": {
    "collapsed": false
   },
   "outputs": [
    {
     "data": {
      "image/png": "[encoded data removed]",
      "text/plain": [
       "<matplotlib.figure.Figure at 0x469876a0>"
      ]
     },
     "metadata": {},
     "output_type": "display_data"
    }
   ],
   "source": [
    "plt.figure(figsize=(6, 3))\n",
    "\n",
    "plt.scatter(ks, ts, facecolors='none', s=30, edgecolors='black', label='observed')\n",
    "plt.plot([0, 700], model.predict([0, 700]), color='black', label='trend')\n",
    "plt.xlim([0, 700])\n",
    "plt.ylim([0, 12])\n",
    "plt.legend(loc='lower right')\n",
    "plt.xlabel('number of clusters $K$ in MiniBatch $K$ Means')\n",
    "plt.ylabel('time, sec')\n",
    "\n",
    "plt.tight_layout()\n",
    "plt.savefig('figures/k-vs-time-minibatch.pdf', format='pdf')\n",
    "\n",
    "plt.show()"
   ]
  },
  {
   "cell_type": "code",
   "execution_count": 118,
   "metadata": {
    "collapsed": false
   },
   "outputs": [
    {
     "name": "stdout",
     "output_type": "stream",
     "text": [
      "purity for K=300 is 0.1437 number of >0.8 clusters: 3\n",
      "purity for K=200 is 0.1499 number of >0.8 clusters: 1\n",
      "purity for K=300 is 0.1306 number of >0.8 clusters: 0\n",
      "purity for K=200 is 0.1507 number of >0.8 clusters: 3\n",
      "purity for K=500 is 0.1357 number of >0.8 clusters: 0\n",
      "purity for K=200 is 0.1437 number of >0.8 clusters: 1\n",
      "purity for K=500 is 0.1361 number of >0.8 clusters: 2\n",
      "purity for K=400 is 0.1375 number of >0.8 clusters: 0\n",
      "purity for K=500 is 0.1445 number of >0.8 clusters: 1\n",
      "purity for K=400 is 0.1425 number of >0.8 clusters: 1\n",
      "purity for K=400 is 0.1399 number of >0.8 clusters: 1\n",
      "purity for K=600 is 0.1402 number of >0.8 clusters: 0\n",
      "purity for K=600 is 0.1503 number of >0.8 clusters: 0\n",
      "purity for K=100 is 0.1390 number of >0.8 clusters: 0\n",
      "purity for K=600 is 0.1554 number of >0.8 clusters: 1\n",
      "purity for K=100 is 0.1394 number of >0.8 clusters: 1\n",
      "purity for K=100 is 0.1421 number of >0.8 clusters: 1\n",
      "purity for K=300 is 0.1352 number of >0.8 clusters: 1\n"
     ]
    }
   ],
   "source": [
    "purities = []\n",
    "no_pure = []\n",
    "\n",
    "for (k, i), assignment in labels.items():\n",
    "    cluster_purity = evaluate.overall_purity(assignment)\n",
    "    purities.append(cluster_purity)\n",
    "    no_pure_clusters = len(evaluate.high_purity_clusters(assignment, threshold=0.8, min_size=3))\n",
    "    no_pure.append(no_pure_clusters)\n",
    "\n",
    "    print 'purity for K=%d is %0.4f number of >0.8 clusters: %d' % (k, cluster_purity, no_pure_clusters)"
   ]
  },
  {
   "cell_type": "code",
   "execution_count": 271,
   "metadata": {
    "collapsed": true
   },
   "outputs": [],
   "source": [
    "ks = range(250, 15001, 250)"
   ]
  },
  {
   "cell_type": "code",
   "execution_count": 272,
   "metadata": {
    "collapsed": true
   },
   "outputs": [],
   "source": [
    "km_grid_hyperparam_res = {}\n",
    "sizes_km = {}\n",
    "purity_km = {}"
   ]
  },
  {
   "cell_type": "code",
   "execution_count": 273,
   "metadata": {
    "collapsed": false,
    "scrolled": true
   },
   "outputs": [
    {
     "name": "stdout",
     "output_type": "stream",
     "text": [
      "purity for k=250 is 0.1346, number of >0.8 clusters: 0\n",
      "purity for k=250 is 0.1486, number of >0.8 clusters: 1\n",
      "purity for k=250 is 0.1401, number of >0.8 clusters: 0\n",
      "purity for k=250 is 0.1313, number of >0.8 clusters: 2\n",
      "purity for k=250 is 0.1413, number of >0.8 clusters: 0\n",
      "purity for k=500 is 0.1580, number of >0.8 clusters: 2\n",
      "purity for k=500 is 0.1403, number of >0.8 clusters: 1\n",
      "purity for k=500 is 0.1320, number of >0.8 clusters: 2\n",
      "purity for k=500 is 0.1419, number of >0.8 clusters: 1\n",
      "purity for k=500 is 0.1417, number of >0.8 clusters: 2\n",
      "purity for k=750 is 0.1441, number of >0.8 clusters: 1\n",
      "purity for k=750 is 0.1378, number of >0.8 clusters: 2\n",
      "purity for k=750 is 0.1407, number of >0.8 clusters: 1\n",
      "purity for k=750 is 0.1527, number of >0.8 clusters: 2\n",
      "purity for k=750 is 0.1352, number of >0.8 clusters: 2\n",
      "purity for k=1000 is 0.1578, number of >0.8 clusters: 2\n",
      "purity for k=1000 is 0.1487, number of >0.8 clusters: 1\n",
      "purity for k=1000 is 0.1361, number of >0.8 clusters: 0\n",
      "purity for k=1000 is 0.1464, number of >0.8 clusters: 3\n",
      "purity for k=1000 is 0.1314, number of >0.8 clusters: 1\n",
      "purity for k=1250 is 0.1442, number of >0.8 clusters: 1\n",
      "purity for k=1250 is 0.1481, number of >0.8 clusters: 1\n",
      "purity for k=1250 is 0.1467, number of >0.8 clusters: 0\n",
      "purity for k=1250 is 0.1499, number of >0.8 clusters: 2\n",
      "purity for k=1250 is 0.1503, number of >0.8 clusters: 0\n",
      "purity for k=1500 is 0.1465, number of >0.8 clusters: 1\n",
      "purity for k=1500 is 0.1355, number of >0.8 clusters: 0\n",
      "purity for k=1500 is 0.1413, number of >0.8 clusters: 1\n",
      "purity for k=1500 is 0.1376, number of >0.8 clusters: 0\n",
      "purity for k=1500 is 0.1576, number of >0.8 clusters: 3\n",
      "purity for k=1750 is 0.1364, number of >0.8 clusters: 3\n",
      "purity for k=1750 is 0.1399, number of >0.8 clusters: 0\n",
      "purity for k=1750 is 0.1531, number of >0.8 clusters: 2\n",
      "purity for k=1750 is 0.1385, number of >0.8 clusters: 2\n",
      "purity for k=1750 is 0.1514, number of >0.8 clusters: 2\n",
      "purity for k=2000 is 0.1522, number of >0.8 clusters: 1\n",
      "purity for k=2000 is 0.1586, number of >0.8 clusters: 1\n",
      "purity for k=2000 is 0.1483, number of >0.8 clusters: 1\n",
      "purity for k=2000 is 0.1421, number of >0.8 clusters: 0\n",
      "purity for k=2000 is 0.1561, number of >0.8 clusters: 2\n",
      "purity for k=2250 is 0.1595, number of >0.8 clusters: 1\n",
      "purity for k=2250 is 0.1417, number of >0.8 clusters: 2\n",
      "purity for k=2250 is 0.1410, number of >0.8 clusters: 1\n",
      "purity for k=2250 is 0.1513, number of >0.8 clusters: 1\n",
      "purity for k=2250 is 0.1526, number of >0.8 clusters: 1\n",
      "purity for k=2500 is 0.1559, number of >0.8 clusters: 1\n",
      "purity for k=2500 is 0.1467, number of >0.8 clusters: 1\n",
      "purity for k=2500 is 0.1467, number of >0.8 clusters: 0\n",
      "purity for k=2500 is 0.1497, number of >0.8 clusters: 1\n",
      "purity for k=2500 is 0.1441, number of >0.8 clusters: 2\n",
      "purity for k=2750 is 0.1428, number of >0.8 clusters: 1\n",
      "purity for k=2750 is 0.1478, number of >0.8 clusters: 2\n",
      "purity for k=2750 is 0.1572, number of >0.8 clusters: 2\n",
      "purity for k=2750 is 0.1342, number of >0.8 clusters: 0\n",
      "purity for k=2750 is 0.1482, number of >0.8 clusters: 3\n",
      "purity for k=3000 is 0.1589, number of >0.8 clusters: 3\n",
      "purity for k=3000 is 0.1436, number of >0.8 clusters: 1\n",
      "purity for k=3000 is 0.1514, number of >0.8 clusters: 6\n",
      "purity for k=3000 is 0.1537, number of >0.8 clusters: 0\n",
      "purity for k=3000 is 0.1605, number of >0.8 clusters: 1\n",
      "purity for k=3250 is 0.1463, number of >0.8 clusters: 3\n",
      "purity for k=3250 is 0.1482, number of >0.8 clusters: 3\n",
      "purity for k=3250 is 0.1497, number of >0.8 clusters: 3\n",
      "purity for k=3250 is 0.1536, number of >0.8 clusters: 4\n",
      "purity for k=3250 is 0.1448, number of >0.8 clusters: 2\n"
     ]
    },
    {
     "ename": "KeyboardInterrupt",
     "evalue": "",
     "output_type": "error",
     "traceback": [
      "\u001b[1;31m---------------------------------------------------------------------------\u001b[0m",
      "\u001b[1;31mKeyboardInterrupt\u001b[0m                         Traceback (most recent call last)",
      "\u001b[1;32m<ipython-input-273-f3a52437d5e6>\u001b[0m in \u001b[0;36m<module>\u001b[1;34m()\u001b[0m\n\u001b[0;32m      2\u001b[0m     \u001b[1;32mfor\u001b[0m \u001b[0mi\u001b[0m \u001b[1;32min\u001b[0m \u001b[1;33m[\u001b[0m\u001b[1;36m0\u001b[0m\u001b[1;33m,\u001b[0m \u001b[1;36m1\u001b[0m\u001b[1;33m,\u001b[0m \u001b[1;36m2\u001b[0m\u001b[1;33m,\u001b[0m \u001b[1;36m3\u001b[0m\u001b[1;33m,\u001b[0m \u001b[1;36m4\u001b[0m\u001b[1;33m]\u001b[0m\u001b[1;33m:\u001b[0m\u001b[1;33m\u001b[0m\u001b[0m\n\u001b[0;32m      3\u001b[0m         \u001b[0mkm_grid\u001b[0m \u001b[1;33m=\u001b[0m \u001b[0mMiniBatchKMeans\u001b[0m\u001b[1;33m(\u001b[0m\u001b[0mn_clusters\u001b[0m\u001b[1;33m=\u001b[0m\u001b[0mk\u001b[0m\u001b[1;33m,\u001b[0m \u001b[0minit_size\u001b[0m\u001b[1;33m=\u001b[0m\u001b[0mk\u001b[0m\u001b[1;33m*\u001b[0m\u001b[1;36m3\u001b[0m\u001b[1;33m,\u001b[0m \u001b[0mn_init\u001b[0m\u001b[1;33m=\u001b[0m\u001b[1;36m10\u001b[0m\u001b[1;33m,\u001b[0m \u001b[0minit\u001b[0m\u001b[1;33m=\u001b[0m\u001b[1;34m'random'\u001b[0m\u001b[1;33m)\u001b[0m\u001b[1;33m\u001b[0m\u001b[0m\n\u001b[1;32m----> 4\u001b[1;33m         \u001b[0mkm_grid\u001b[0m\u001b[1;33m.\u001b[0m\u001b[0mfit\u001b[0m\u001b[1;33m(\u001b[0m\u001b[0mX\u001b[0m\u001b[1;33m)\u001b[0m\u001b[1;33m\u001b[0m\u001b[0m\n\u001b[0m\u001b[0;32m      5\u001b[0m         \u001b[0mkm_grid_hyperparam_res\u001b[0m\u001b[1;33m[\u001b[0m\u001b[1;33m(\u001b[0m\u001b[0mk\u001b[0m\u001b[1;33m,\u001b[0m \u001b[0mi\u001b[0m\u001b[1;33m)\u001b[0m\u001b[1;33m]\u001b[0m \u001b[1;33m=\u001b[0m \u001b[0mkm_grid\u001b[0m\u001b[1;33m.\u001b[0m\u001b[0mlabels_\u001b[0m\u001b[1;33m\u001b[0m\u001b[0m\n\u001b[0;32m      6\u001b[0m         \u001b[0mcluster_purity\u001b[0m \u001b[1;33m=\u001b[0m \u001b[0mevaluate\u001b[0m\u001b[1;33m.\u001b[0m\u001b[0moverall_purity\u001b[0m\u001b[1;33m(\u001b[0m\u001b[0mkm_grid\u001b[0m\u001b[1;33m.\u001b[0m\u001b[0mlabels_\u001b[0m\u001b[1;33m)\u001b[0m\u001b[1;33m\u001b[0m\u001b[0m\n",
      "\u001b[1;32mC:\\soft\\anaconda\\2.0.1\\lib\\site-packages\\sklearn\\cluster\\k_means_.pyc\u001b[0m in \u001b[0;36mfit\u001b[1;34m(self, X, y)\u001b[0m\n\u001b[0;32m   1260\u001b[0m                 print(\"Init %d/%d with method: %s\"\n\u001b[0;32m   1261\u001b[0m                       % (init_idx + 1, n_init, self.init))\n\u001b[1;32m-> 1262\u001b[1;33m             \u001b[0mcounts\u001b[0m \u001b[1;33m=\u001b[0m \u001b[0mnp\u001b[0m\u001b[1;33m.\u001b[0m\u001b[0mzeros\u001b[0m\u001b[1;33m(\u001b[0m\u001b[0mself\u001b[0m\u001b[1;33m.\u001b[0m\u001b[0mn_clusters\u001b[0m\u001b[1;33m,\u001b[0m \u001b[0mdtype\u001b[0m\u001b[1;33m=\u001b[0m\u001b[0mnp\u001b[0m\u001b[1;33m.\u001b[0m\u001b[0mint32\u001b[0m\u001b[1;33m)\u001b[0m\u001b[1;33m\u001b[0m\u001b[0m\n\u001b[0m\u001b[0;32m   1263\u001b[0m \u001b[1;33m\u001b[0m\u001b[0m\n\u001b[0;32m   1264\u001b[0m             \u001b[1;31m# TODO: once the `k_means` function works with sparse input we\u001b[0m\u001b[1;33m\u001b[0m\u001b[1;33m\u001b[0m\u001b[0m\n",
      "\u001b[1;31mKeyboardInterrupt\u001b[0m: "
     ]
    }
   ],
   "source": [
    "for k in ks:\n",
    "    for i in [0, 1, 2, 3, 4]:\n",
    "        km_grid = MiniBatchKMeans(n_clusters=k, init_size=k*3, n_init=10, init='random')\n",
    "        km_grid.fit(X)\n",
    "        km_grid_hyperparam_res[(k, i)] = km_grid.labels_\n",
    "        cluster_purity = evaluate.overall_purity(km_grid.labels_)\n",
    "        purity_km[(k, i)] = cluster_purity\n",
    "\n",
    "        no_pure_clusters = len(evaluate.high_purity_clusters(km_grid.labels_, threshold=0.8, min_size=3))\n",
    "        sizes_km[(k, i)] = no_pure_clusters\n",
    "        print 'purity for k=%d is %0.4f, number of >0.8 clusters: %d' % (k, cluster_purity, no_pure_clusters)"
   ]
  },
  {
   "cell_type": "code",
   "execution_count": 286,
   "metadata": {
    "collapsed": false,
    "scrolled": true
   },
   "outputs": [],
   "source": [
    "df_size = pd.DataFrame([(k, i, v) for (k, i), v in sizes_km.items()], columns=['k', 'i', 'sizes'])"
   ]
  },
  {
   "cell_type": "code",
   "execution_count": 313,
   "metadata": {
    "collapsed": false,
    "scrolled": true
   },
   "outputs": [
    {
     "data": {
      "image/png": "[encoded data removed]",
      "text/plain": [
       "<matplotlib.figure.Figure at 0x53f60898>"
      ]
     },
     "metadata": {},
     "output_type": "display_data"
    }
   ],
   "source": [
    "ax = df_size.plot(kind='scatter', x='k', y='sizes', grid=0, edgecolors='black', color='white', figsize=(7,2.5))\n",
    "\n",
    "df_size.groupby('k').mean().sizes.plot(ax=ax, grid=0, color='grey')\n",
    "\n",
    "plt.ylabel('no. pure clusters')\n",
    "plt.xlabel('$K$ in $K$-Means')\n",
    "\n",
    "plt.xlim(200, 3300)\n",
    "\n",
    "plt.tight_layout()\n",
    "plt.savefig('figures/k-vs-len-mb.pdf', format='pdf')\n",
    "\n",
    "plt.show()"
   ]
  },
  {
   "cell_type": "markdown",
   "metadata": {},
   "source": [
    "Use the best one:"
   ]
  },
  {
   "cell_type": "code",
   "execution_count": 322,
   "metadata": {
    "collapsed": false,
    "scrolled": false
   },
   "outputs": [
    {
     "name": "stdout",
     "output_type": "stream",
     "text": [
      "overall purity 0.2286\n",
      "number of high purity clusters of size at least 5 is 19\n",
      "\n",
      "- Astronomical catalogues (id=66) size=53, purity=0.9811\n",
      "- Stochastic processes (id=506) size=39, purity=0.8718\n",
      "- Theory of computation (id=185) size=17, purity=1.0000\n",
      "- Thermodynamics (id=377) size=16, purity=0.8750\n",
      "- Statistics (id=374) size=13, purity=0.8462\n",
      "- National Basketball Association seasons (id=13) size=12, purity=1.0000\n",
      "- Numerical differential equations (id=528) size=12, purity=0.9167\n",
      "- Statistics (id=566) size=10, purity=0.8000\n",
      "- Differential geometry (id=346) size=9, purity=1.0000\n",
      "- Constellations (id=364) size=7, purity=0.8571\n",
      "- Astronomical catalogues of stars (id=494) size=7, purity=0.8571\n",
      "- Constellations (id=393) size=6, purity=1.0000\n",
      "- Differential equations (id=586) size=6, purity=1.0000\n",
      "- Quantum mechanics (id=404) size=5, purity=1.0000\n",
      "- Metallic elements (id=552) size=5, purity=0.8000\n",
      "- Main sequence stars (id=444) size=4, purity=1.0000\n",
      "- Number theory (id=132) size=3, purity=1.0000\n",
      "- Continuous mappings (id=195) size=3, purity=1.0000\n",
      "- Abstract algebra (id=565) size=3, purity=1.0000\n"
     ]
    }
   ],
   "source": [
    "best_ass = labels_km[(600, 1)]\n",
    "evaluate.high_purity_clusters(best_ass, threshold=0.8, min_size=3)\n",
    "\n",
    "evaluate.report_overall(best_ass, purity_threshold=0.8, min_size=3, sort_by='size')"
   ]
  },
  {
   "cell_type": "code",
   "execution_count": 328,
   "metadata": {
    "collapsed": false,
    "scrolled": true
   },
   "outputs": [
    {
     "name": "stdout",
     "output_type": "stream",
     "text": [
      "cluster 494, size: 7\n",
      "- Luminosity distance (categories: Concepts in physics, Measurement, Physical quantities, Astronomical sub-disciplines, Observational astronomy, ...) π D F m M L δ D_L D_M θ z D_C\n",
      "- Rho Geminorum (categories: Constellations, Constellations listed by Ptolemy, Astronomical catalogues, Bayer objects, Astronomical catalogues of stars, ...) m M D_L\n",
      "- HD 154088 (categories: Astronomical catalogues of stars, Henry Draper Catalogue objects) m M D_L\n",
      "- HD 108063 (categories: Constellations, Constellations listed by Ptolemy, Astronomical catalogues of stars, Henry Draper Catalogue objects, Southern constellations, ...) m M D_L\n",
      "- Kappa Fornacis (categories: Constellations, Astronomical catalogues, Bayer objects, Astronomical catalogues of stars, Henry Draper Catalogue objects, ...) m M D_L\n",
      "- HD 41742/41700 (categories: Constellations, Astronomical catalogues of stars, Henry Draper Catalogue objects, Southern constellations, Hipparcos objects, ...) m M D_L\n",
      "- Nu2 Lupi (categories: Constellations, Constellations listed by Ptolemy, Astronomical catalogues, Bayer objects, Astronomical catalogues of stars, ...) m M D_L\n",
      "\n",
      "common terms: (m M D_L)\n",
      "top categories: (Astronomical catalogues of stars, 6), (Henry Draper Catalogue objects, 6), (HR objects, 5), (Hipparcos, 5), (Constellations, 5)\n",
      "purity: 0.857\n",
      "relations:\n",
      "     D_C: (radial comoving distance*: 1.82)\n",
      "     D_L: (luminosity distance: 0.99)\n",
      "     D_M: (comoving transverse distance*: 1.78), (etheringtons: 0.86)\n",
      "     F: (flux: 1.90), (erg · s: 0.83)\n",
      "     L: (luminosity: 1.90), (erg · s: 0.83)\n",
      "     M: (absolute magnitude*: 1.94), (minimum mass*: 1.70), (solar: 0.87), (neptunes: 0.86), (relationship: 0.83)\n",
      "     m: (apparent magnitude*: 1.82), (astronomical object: 0.89)\n",
      "     z: (redshift: 0.87), (reciprocity relation: 0.81)\n"
     ]
    }
   ],
   "source": [
    "evaluate.print_cluster(best_ass, 494)"
   ]
  },
  {
   "cell_type": "markdown",
   "metadata": {},
   "source": [
    "Let's try different number of orthogonal vectors in LSA basis"
   ]
  },
  {
   "cell_type": "markdown",
   "metadata": {},
   "source": [
    "## LSA"
   ]
  },
  {
   "cell_type": "code",
   "execution_count": 15,
   "metadata": {
    "collapsed": true
   },
   "outputs": [],
   "source": [
    "from sklearn.decomposition import NMF"
   ]
  },
  {
   "cell_type": "code",
   "execution_count": 67,
   "metadata": {
    "collapsed": false
   },
   "outputs": [
    {
     "name": "stdout",
     "output_type": "stream",
     "text": [
      "done in 5269.633s.\n"
     ]
    }
   ],
   "source": [
    "t0 = time()\n",
    "\n",
    "n = 250\n",
    "\n",
    "nmf = NMF(n_components=n)\n",
    "X_red_grid = nmf.fit_transform(X)\n",
    "X_red_grid = normalizer.fit_transform(X_red_grid)\n",
    "\n",
    "print \"done in %0.3fs.\" % (time() - t0)"
   ]
  },
  {
   "cell_type": "markdown",
   "metadata": {},
   "source": [
    "First, let's check performance $K$-Means vs MiniBatch $K$ Means"
   ]
  },
  {
   "cell_type": "code",
   "execution_count": 333,
   "metadata": {
    "collapsed": true
   },
   "outputs": [],
   "source": [
    "n = 150\n",
    "\n",
    "U, S, Vt = randomized_svd(X, n_components=n)\n",
    "X_red = X.dot(Vt.T)\n",
    "X_red = normalizer.fit_transform(X_red_grid)"
   ]
  },
  {
   "cell_type": "code",
   "execution_count": 335,
   "metadata": {
    "collapsed": false,
    "scrolled": true
   },
   "outputs": [
    {
     "name": "stdout",
     "output_type": "stream",
     "text": [
      "MB: purity for K=100 is 0.1625 number of >0.8 clusters: 0\n",
      "MB: purity for K=100 is 0.1612 number of >0.8 clusters: 2\n",
      "MB: purity for K=100 is 0.1600 number of >0.8 clusters: 1\n",
      "MB: purity for K=100 is 0.1582 number of >0.8 clusters: 0\n",
      "MB: purity for K=100 is 0.1620 number of >0.8 clusters: 0\n",
      "KM: purity for K=100 is 0.1617 number of >0.8 clusters: 0\n",
      "MB: purity for K=200 is 0.1799 number of >0.8 clusters: 1\n",
      "MB: purity for K=200 is 0.1765 number of >0.8 clusters: 1\n",
      "MB: purity for K=200 is 0.1768 number of >0.8 clusters: 1\n",
      "MB: purity for K=200 is 0.1745 number of >0.8 clusters: 0\n",
      "MB: purity for K=200 is 0.1755 number of >0.8 clusters: 1\n",
      "KM: purity for K=200 is 0.1817 number of >0.8 clusters: 1\n",
      "MB: purity for K=300 is 0.1919 number of >0.8 clusters: 4\n",
      "MB: purity for K=300 is 0.1937 number of >0.8 clusters: 4\n",
      "MB: purity for K=300 is 0.1837 number of >0.8 clusters: 5\n",
      "MB: purity for K=300 is 0.1896 number of >0.8 clusters: 3\n",
      "MB: purity for K=300 is 0.1918 number of >0.8 clusters: 5\n",
      "KM: purity for K=300 is 0.1966 number of >0.8 clusters: 2\n",
      "MB: purity for K=400 is 0.1979 number of >0.8 clusters: 5\n",
      "MB: purity for K=400 is 0.1912 number of >0.8 clusters: 6\n",
      "MB: purity for K=400 is 0.2011 number of >0.8 clusters: 6\n",
      "MB: purity for K=400 is 0.2008 number of >0.8 clusters: 9\n",
      "MB: purity for K=400 is 0.2003 number of >0.8 clusters: 4\n",
      "KM: purity for K=400 is 0.2052 number of >0.8 clusters: 6\n",
      "MB: purity for K=500 is 0.2098 number of >0.8 clusters: 9\n",
      "MB: purity for K=500 is 0.2104 number of >0.8 clusters: 12\n",
      "MB: purity for K=500 is 0.2090 number of >0.8 clusters: 4\n",
      "MB: purity for K=500 is 0.2099 number of >0.8 clusters: 10\n",
      "MB: purity for K=500 is 0.2108 number of >0.8 clusters: 7\n",
      "KM: purity for K=500 is 0.2153 number of >0.8 clusters: 5\n",
      "MB: purity for K=600 is 0.2184 number of >0.8 clusters: 12\n",
      "MB: purity for K=600 is 0.2155 number of >0.8 clusters: 17\n",
      "MB: purity for K=600 is 0.2044 number of >0.8 clusters: 14\n",
      "MB: purity for K=600 is 0.2086 number of >0.8 clusters: 15\n",
      "MB: purity for K=600 is 0.2166 number of >0.8 clusters: 10\n",
      "KM: purity for K=600 is 0.2250 number of >0.8 clusters: 7\n"
     ]
    }
   ],
   "source": [
    "ks = [100, 200, 300, 400, 500, 600]\n",
    "\n",
    "labels_mb = {}\n",
    "no_pur_mb = []\n",
    "pur_mb = []\n",
    "\n",
    "labels_km = {}\n",
    "no_pur_km = []\n",
    "pur_km = []\n",
    "\n",
    "for k in ks:\n",
    "    for i in xrange(5):\n",
    "        km = MiniBatchKMeans(n_clusters=k, init_size=k*3, n_init=10, init='random')\n",
    "        km.fit(X_red)\n",
    "        labels_mb[(k, i)] = km.labels_\n",
    "        assignment = km.labels_\n",
    "        cluster_purity = evaluate.overall_purity(assignment)\n",
    "        pur_mb.append((k, cluster_purity))\n",
    "        no_pure_clusters = len(evaluate.high_purity_clusters(assignment, threshold=0.8, min_size=3))\n",
    "        no_pur_mb.append((k, no_pure_clusters))\n",
    "        print 'MB: purity for K=%d is %0.4f number of >0.8 clusters: %d' % (k, cluster_purity, no_pure_clusters)\n",
    "\n",
    "    for i in xrange(1):\n",
    "        km = KMeans(n_clusters=k, init='random')\n",
    "        km.fit(X_red)\n",
    "        labels_km[(k, i)] = km.labels_\n",
    "        assignment = km.labels_\n",
    "        cluster_purity = evaluate.overall_purity(assignment)\n",
    "        pur_km.append((k, cluster_purity))\n",
    "        no_pure_clusters = len(evaluate.high_purity_clusters(assignment, threshold=0.8, min_size=3))\n",
    "        no_pur_km.append((k, no_pure_clusters))\n",
    "        print 'KM: purity for K=%d is %0.4f number of >0.8 clusters: %d' % (k, cluster_purity, no_pure_clusters)"
   ]
  },
  {
   "cell_type": "code",
   "execution_count": 373,
   "metadata": {
    "collapsed": false,
    "scrolled": true
   },
   "outputs": [],
   "source": [
    "a, b = zip(*pur_mb)\n",
    "c, d = zip(*no_pur_mb)\n",
    "\n",
    "df_pur_mb = pd.DataFrame(zip(a, b, c, d), columns=['k', 'purity', 'k0', 'sizes'])\n",
    "del df_pur_mb['k0']\n",
    "\n",
    "a, b = zip(*pur_km)\n",
    "c, d = zip(*no_pur_km)\n",
    "\n",
    "df_pur_km = pd.DataFrame(zip(a, b, c, d), columns=['k', 'purity', 'k0', 'sizes'])\n",
    "del df_pur_km['k0']\n",
    "\n",
    "df_pur_mb['ref'] = 'mb'\n",
    "df_pur_km['ref'] = 'km'\n",
    "\n",
    "df = df_pur_km.append(df_pur_mb)"
   ]
  },
  {
   "cell_type": "code",
   "execution_count": 434,
   "metadata": {
    "collapsed": false,
    "scrolled": true
   },
   "outputs": [
    {
     "data": {
      "image/png": "[encoded data removed]",
      "text/plain": [
       "<matplotlib.figure.Figure at 0x57f12828>"
      ]
     },
     "metadata": {},
     "output_type": "display_data"
    },
    {
     "data": {
      "image/png": "[encoded data removed]",
      "text/plain": [
       "<matplotlib.figure.Figure at 0x51bd8cc0>"
      ]
     },
     "metadata": {},
     "output_type": "display_data"
    }
   ],
   "source": [
    "ax = df_pur_mb.plot(kind='scatter', x='k', y='sizes', label='MiniBatch', \n",
    "                    edgecolors='grey', color='white', figsize=(4, 3))\n",
    "df_pur_mb.groupby('k').mean().sizes.plot(ax=ax, label='MiniBatch mean', color='grey', linestyle='--')\n",
    "\n",
    "df_pur_km.plot(kind='scatter', x='k', y='sizes', ax=ax, color='black')\n",
    "df_pur_km.groupby('k').median().sizes.plot(ax=ax, color='black', label='K-Means')\n",
    "\n",
    "plt.grid(0)\n",
    "plt.xlim(70, 630)\n",
    "plt.ylim(-1, 20)\n",
    "plt.xlabel('number of clusters $K$')\n",
    "plt.ylabel('no. pure clusters')\n",
    "\n",
    "handles, labels = ax.get_legend_handles_labels()\n",
    "plt.legend(handles=[handles[2], handles[0], handles[1]], loc='upper left')\n",
    "\n",
    "plt.tight_layout()\n",
    "plt.savefig('figures/k-vs-mb-svd-len.pdf', format='pdf')\n",
    "\n",
    "plt.show()\n",
    "\n",
    "\n",
    "\n",
    "ax = df_pur_mb.plot(kind='scatter', x='k', y='purity', label='MiniBatch', \n",
    "                    edgecolors='grey', color='white', figsize=(4, 3))\n",
    "df_pur_mb.groupby('k').mean().purity.plot(ax=ax, label='MiniBatch mean', color='grey', linestyle='--')\n",
    "\n",
    "df_pur_km.plot(kind='scatter', x='k', y='purity', ax=ax, color='black')\n",
    "df_pur_km.groupby('k').median().purity.plot(ax=ax, color='black', label='K-Means')\n",
    "\n",
    "plt.grid(0)\n",
    "plt.xlim(70, 630)\n",
    "plt.ylim(0.15, 0.28)\n",
    "plt.xlabel('number of clusters $K$')\n",
    "plt.ylabel('no. pure clusters')\n",
    "\n",
    "handles, labels = ax.get_legend_handles_labels()\n",
    "plt.legend(handles=[handles[2], handles[0], handles[1]], loc='upper left')\n",
    "\n",
    "plt.tight_layout()\n",
    "plt.savefig('figures/k-vs-mb-svd-purity.pdf', format='pdf')\n",
    "\n",
    "plt.show()"
   ]
  },
  {
   "cell_type": "code",
   "execution_count": null,
   "metadata": {
    "collapsed": true
   },
   "outputs": [],
   "source": [
    "km_grid_hyperparam_purity = []\n",
    "km_grid_hyperparam_len = []\n",
    "km_grid_hyperparam_res = {}"
   ]
  },
  {
   "cell_type": "code",
   "execution_count": 18,
   "metadata": {
    "collapsed": false,
    "scrolled": true
   },
   "outputs": [
    {
     "name": "stdout",
     "output_type": "stream",
     "text": [
      "doing LSA with 250 components...\n",
      "\n",
      "purity for n=250, k=7500 is 0.4959, number of >0.8 clusters: 185\n",
      "purity for n=250, k=7500 is 0.4962, number of >0.8 clusters: 162\n",
      "purity for n=250, k=7500 is 0.4996, number of >0.8 clusters: 163\n",
      "purity for n=250, k=8000 is 0.5344, number of >0.8 clusters: 199\n",
      "purity for n=250, k=8000 is 0.5344, number of >0.8 clusters: 195\n",
      "purity for n=250, k=8000 is 0.5365, number of >0.8 clusters: 202\n",
      "purity for n=250, k=8500 is 0.5521, number of >0.8 clusters: 206\n",
      "purity for n=250, k=8500 is 0.5513, number of >0.8 clusters: 196\n",
      "purity for n=250, k=8500 is 0.5492, number of >0.8 clusters: 193\n",
      "purity for n=250, k=9000 is 0.5673, number of >0.8 clusters: 210\n",
      "purity for n=250, k=9000 is 0.5674, number of >0.8 clusters: 188\n",
      "purity for n=250, k=9000 is 0.5682, number of >0.8 clusters: 188\n",
      "purity for n=250, k=9500 is 0.5836, number of >0.8 clusters: 191\n",
      "purity for n=250, k=9500 is 0.5843, number of >0.8 clusters: 213\n",
      "purity for n=250, k=9500 is 0.5827, number of >0.8 clusters: 213\n",
      "purity for n=250, k=10000 is 0.5997, number of >0.8 clusters: 209\n",
      "purity for n=250, k=10000 is 0.6021, number of >0.8 clusters: 210\n",
      "purity for n=250, k=10000 is 0.6013, number of >0.8 clusters: 191\n",
      "purity for n=250, k=10500 is 0.6152, number of >0.8 clusters: 187\n",
      "purity for n=250, k=10500 is 0.6154, number of >0.8 clusters: 198\n",
      "purity for n=250, k=10500 is 0.6184, number of >0.8 clusters: 196\n",
      "purity for n=250, k=11000 is 0.6332, number of >0.8 clusters: 189\n",
      "purity for n=250, k=11000 is 0.6318, number of >0.8 clusters: 191\n",
      "purity for n=250, k=11000 is 0.6316, number of >0.8 clusters: 180\n",
      "purity for n=250, k=11500 is 0.6502, number of >0.8 clusters: 203\n",
      "purity for n=250, k=11500 is 0.6503, number of >0.8 clusters: 209\n",
      "purity for n=250, k=11500 is 0.6464, number of >0.8 clusters: 189\n",
      "purity for n=250, k=12000 is 0.6658, number of >0.8 clusters: 208\n",
      "purity for n=250, k=12000 is 0.6638, number of >0.8 clusters: 175\n",
      "purity for n=250, k=12000 is 0.6641, number of >0.8 clusters: 194\n",
      "purity for n=250, k=12500 is 0.6821, number of >0.8 clusters: 185\n",
      "purity for n=250, k=12500 is 0.6801, number of >0.8 clusters: 185\n",
      "purity for n=250, k=12500 is 0.6749, number of >0.8 clusters: 203\n",
      "purity for n=250, k=13000 is 0.6956, number of >0.8 clusters: 164\n",
      "purity for n=250, k=13000 is 0.6961, number of >0.8 clusters: 161\n",
      "purity for n=250, k=13000 is 0.6952, number of >0.8 clusters: 188\n",
      "purity for n=250, k=13500 is 0.7130, number of >0.8 clusters: 187\n",
      "purity for n=250, k=13500 is 0.7082, number of >0.8 clusters: 182\n",
      "purity for n=250, k=13500 is 0.7140, number of >0.8 clusters: 173\n",
      "purity for n=250, k=14000 is 0.7223, number of >0.8 clusters: 173\n",
      "purity for n=250, k=14000 is 0.7244, number of >0.8 clusters: 160\n",
      "purity for n=250, k=14000 is 0.7260, number of >0.8 clusters: 172\n",
      "purity for n=250, k=14500 is 0.7423, number of >0.8 clusters: 162\n",
      "purity for n=250, k=14500 is 0.7363, number of >0.8 clusters: 159\n",
      "purity for n=250, k=14500 is 0.7449, number of >0.8 clusters: 170\n",
      "purity for n=250, k=15000 is 0.7592, number of >0.8 clusters: 150\n",
      "purity for n=250, k=15000 is 0.7580, number of >0.8 clusters: 154\n",
      "purity for n=250, k=15000 is 0.7580, number of >0.8 clusters: 142\n",
      "doing LSA with 350 components...\n",
      "\n",
      "purity for n=350, k=500 is 0.2106, number of >0.8 clusters: 12\n",
      "purity for n=350, k=500 is 0.2106, number of >0.8 clusters: 8\n",
      "purity for n=350, k=500 is 0.2102, number of >0.8 clusters: 9\n",
      "purity for n=350, k=1000 is 0.2450, number of >0.8 clusters: 32\n",
      "purity for n=350, k=1000 is 0.2449, number of >0.8 clusters: 27\n",
      "purity for n=350, k=1000 is 0.2450, number of >0.8 clusters: 31\n",
      "purity for n=350, k=1500 is 0.2724, number of >0.8 clusters: 35\n",
      "purity for n=350, k=1500 is 0.2646, number of >0.8 clusters: 38\n",
      "purity for n=350, k=1500 is 0.2639, number of >0.8 clusters: 47\n",
      "purity for n=350, k=2000 is 0.2975, number of >0.8 clusters: 56\n",
      "purity for n=350, k=2000 is 0.2989, number of >0.8 clusters: 69\n",
      "purity for n=350, k=2000 is 0.2982, number of >0.8 clusters: 49\n",
      "purity for n=350, k=2500 is 0.3129, number of >0.8 clusters: 61\n",
      "purity for n=350, k=2500 is 0.3236, number of >0.8 clusters: 89\n",
      "purity for n=350, k=2500 is 0.3217, number of >0.8 clusters: 72\n",
      "purity for n=350, k=3000 is 0.3352, number of >0.8 clusters: 71\n",
      "purity for n=350, k=3000 is 0.3351, number of >0.8 clusters: 80\n",
      "purity for n=350, k=3000 is 0.3364, number of >0.8 clusters: 93\n",
      "purity for n=350, k=3500 is 0.3641, number of >0.8 clusters: 109\n",
      "purity for n=350, k=3500 is 0.3624, number of >0.8 clusters: 100\n",
      "purity for n=350, k=3500 is 0.3662, number of >0.8 clusters: 114\n",
      "purity for n=350, k=4000 is 0.3751, number of >0.8 clusters: 102\n",
      "purity for n=350, k=4000 is 0.3831, number of >0.8 clusters: 103\n",
      "purity for n=350, k=4000 is 0.3769, number of >0.8 clusters: 93\n",
      "purity for n=350, k=4500 is 0.4012, number of >0.8 clusters: 122\n",
      "purity for n=350, k=4500 is 0.4025, number of >0.8 clusters: 128\n",
      "purity for n=350, k=4500 is 0.3937, number of >0.8 clusters: 122\n",
      "purity for n=350, k=5000 is 0.4218, number of >0.8 clusters: 127\n",
      "purity for n=350, k=5000 is 0.4246, number of >0.8 clusters: 124\n",
      "purity for n=350, k=5000 is 0.4200, number of >0.8 clusters: 128\n",
      "purity for n=350, k=5500 is 0.4378, number of >0.8 clusters: 153\n",
      "purity for n=350, k=5500 is 0.4324, number of >0.8 clusters: 134\n",
      "purity for n=350, k=5500 is 0.4324, number of >0.8 clusters: 144\n",
      "purity for n=350, k=6000 is 0.4518, number of >0.8 clusters: 139\n",
      "purity for n=350, k=6000 is 0.4465, number of >0.8 clusters: 138\n",
      "purity for n=350, k=6000 is 0.4496, number of >0.8 clusters: 157\n",
      "purity for n=350, k=6500 is 0.4630, number of >0.8 clusters: 152\n",
      "purity for n=350, k=6500 is 0.4740, number of >0.8 clusters: 160\n",
      "purity for n=350, k=6500 is 0.4658, number of >0.8 clusters: 154\n",
      "purity for n=350, k=7000 is 0.4897, number of >0.8 clusters: 177\n",
      "purity for n=350, k=7000 is 0.4903, number of >0.8 clusters: 162\n",
      "purity for n=350, k=7000 is 0.4803, number of >0.8 clusters: 153\n",
      "purity for n=350, k=7500 is 0.4938, number of >0.8 clusters: 158\n",
      "purity for n=350, k=7500 is 0.4981, number of >0.8 clusters: 183\n",
      "purity for n=350, k=7500 is 0.4957, number of >0.8 clusters: 185\n",
      "purity for n=350, k=8000 is 0.5314, number of >0.8 clusters: 180\n",
      "purity for n=350, k=8000 is 0.5326, number of >0.8 clusters: 190\n",
      "purity for n=350, k=8000 is 0.5332, number of >0.8 clusters: 188\n",
      "purity for n=350, k=8500 is 0.5540, number of >0.8 clusters: 204\n",
      "purity for n=350, k=8500 is 0.5495, number of >0.8 clusters: 181\n",
      "purity for n=350, k=8500 is 0.5502, number of >0.8 clusters: 181\n",
      "purity for n=350, k=9000 is 0.5648, number of >0.8 clusters: 195\n",
      "purity for n=350, k=9000 is 0.5699, number of >0.8 clusters: 209\n",
      "purity for n=350, k=9000 is 0.5676, number of >0.8 clusters: 198\n",
      "purity for n=350, k=9500 is 0.5861, number of >0.8 clusters: 211\n",
      "purity for n=350, k=9500 is 0.5848, number of >0.8 clusters: 176\n",
      "purity for n=350, k=9500 is 0.5867, number of >0.8 clusters: 193\n",
      "purity for n=350, k=10000 is 0.6035, number of >0.8 clusters: 216\n",
      "purity for n=350, k=10000 is 0.6025, number of >0.8 clusters: 228\n",
      "purity for n=350, k=10000 is 0.6007, number of >0.8 clusters: 194\n",
      "purity for n=350, k=10500 is 0.6172, number of >0.8 clusters: 195\n",
      "purity for n=350, k=10500 is 0.6182, number of >0.8 clusters: 197\n",
      "purity for n=350, k=10500 is 0.6156, number of >0.8 clusters: 196\n",
      "purity for n=350, k=11000 is 0.6323, number of >0.8 clusters: 203\n",
      "purity for n=350, k=11000 is 0.6334, number of >0.8 clusters: 195\n",
      "purity for n=350, k=11000 is 0.6341, number of >0.8 clusters: 192\n",
      "purity for n=350, k=11500 is 0.6438, number of >0.8 clusters: 180\n",
      "purity for n=350, k=11500 is 0.6508, number of >0.8 clusters: 171\n",
      "purity for n=350, k=11500 is 0.6509, number of >0.8 clusters: 192\n",
      "purity for n=350, k=12000 is 0.6673, number of >0.8 clusters: 190\n",
      "purity for n=350, k=12000 is 0.6664, number of >0.8 clusters: 190\n",
      "purity for n=350, k=12000 is 0.6666, number of >0.8 clusters: 213\n",
      "purity for n=350, k=12500 is 0.6756, number of >0.8 clusters: 196\n",
      "purity for n=350, k=12500 is 0.6778, number of >0.8 clusters: 188\n",
      "purity for n=350, k=12500 is 0.6787, number of >0.8 clusters: 180\n",
      "purity for n=350, k=13000 is 0.6998, number of >0.8 clusters: 176\n",
      "purity for n=350, k=13000 is 0.6986, number of >0.8 clusters: 182\n",
      "purity for n=350, k=13000 is 0.6984, number of >0.8 clusters: 193\n",
      "purity for n=350, k=13500 is 0.7123, number of >0.8 clusters: 154\n",
      "purity for n=350, k=13500 is 0.7084, number of >0.8 clusters: 174\n",
      "purity for n=350, k=13500 is 0.7091, number of >0.8 clusters: 157\n",
      "purity for n=350, k=14000 is 0.7303, number of >0.8 clusters: 172\n",
      "purity for n=350, k=14000 is 0.7262, number of >0.8 clusters: 158\n",
      "purity for n=350, k=14000 is 0.7289, number of >0.8 clusters: 157\n",
      "purity for n=350, k=14500 is 0.7428, number of >0.8 clusters: 159\n",
      "purity for n=350, k=14500 is 0.7341, number of >0.8 clusters: 167\n",
      "purity for n=350, k=14500 is 0.7431, number of >0.8 clusters: 157\n",
      "purity for n=350, k=15000 is 0.7605, number of >0.8 clusters: 139\n",
      "purity for n=350, k=15000 is 0.7609, number of >0.8 clusters: 157\n",
      "purity for n=350, k=15000 is 0.7580, number of >0.8 clusters: 140\n",
      "doing LSA with 500 components...\n",
      "\n",
      "purity for n=500, k=500 is 0.2103, number of >0.8 clusters: 8\n",
      "purity for n=500, k=500 is 0.2118, number of >0.8 clusters: 10\n",
      "purity for n=500, k=500 is 0.1972, number of >0.8 clusters: 15\n",
      "purity for n=500, k=1000 is 0.2374, number of >0.8 clusters: 22\n",
      "purity for n=500, k=1000 is 0.2377, number of >0.8 clusters: 30\n",
      "purity for n=500, k=1000 is 0.2474, number of >0.8 clusters: 34\n",
      "purity for n=500, k=1500 is 0.2753, number of >0.8 clusters: 44\n",
      "purity for n=500, k=1500 is 0.2743, number of >0.8 clusters: 43\n",
      "purity for n=500, k=1500 is 0.2701, number of >0.8 clusters: 40\n",
      "purity for n=500, k=2000 is 0.2989, number of >0.8 clusters: 50\n",
      "purity for n=500, k=2000 is 0.2990, number of >0.8 clusters: 71\n",
      "purity for n=500, k=2000 is 0.2963, number of >0.8 clusters: 52\n",
      "purity for n=500, k=2500 is 0.3110, number of >0.8 clusters: 65\n",
      "purity for n=500, k=2500 is 0.3229, number of >0.8 clusters: 77\n",
      "purity for n=500, k=2500 is 0.3226, number of >0.8 clusters: 77\n",
      "purity for n=500, k=3000 is 0.3385, number of >0.8 clusters: 89\n",
      "purity for n=500, k=3000 is 0.3421, number of >0.8 clusters: 85\n",
      "purity for n=500, k=3000 is 0.3404, number of >0.8 clusters: 81\n",
      "purity for n=500, k=3500 is 0.3633, number of >0.8 clusters: 110\n",
      "purity for n=500, k=3500 is 0.3649, number of >0.8 clusters: 110\n",
      "purity for n=500, k=3500 is 0.3611, number of >0.8 clusters: 92\n",
      "purity for n=500, k=4000 is 0.3770, number of >0.8 clusters: 119\n",
      "purity for n=500, k=4000 is 0.3859, number of >0.8 clusters: 124\n",
      "purity for n=500, k=4000 is 0.3748, number of >0.8 clusters: 106\n",
      "purity for n=500, k=4500 is 0.3961, number of >0.8 clusters: 109\n",
      "purity for n=500, k=4500 is 0.3966, number of >0.8 clusters: 126\n",
      "purity for n=500, k=4500 is 0.3949, number of >0.8 clusters: 113\n",
      "purity for n=500, k=5000 is 0.4265, number of >0.8 clusters: 141\n",
      "purity for n=500, k=5000 is 0.4141, number of >0.8 clusters: 126\n",
      "purity for n=500, k=5000 is 0.4162, number of >0.8 clusters: 124\n",
      "purity for n=500, k=5500 is 0.4298, number of >0.8 clusters: 142\n",
      "purity for n=500, k=5500 is 0.4322, number of >0.8 clusters: 150\n",
      "purity for n=500, k=5500 is 0.4311, number of >0.8 clusters: 134\n",
      "purity for n=500, k=6000 is 0.4573, number of >0.8 clusters: 181\n",
      "purity for n=500, k=6000 is 0.4508, number of >0.8 clusters: 150\n",
      "purity for n=500, k=6000 is 0.4598, number of >0.8 clusters: 165\n",
      "purity for n=500, k=6500 is 0.4645, number of >0.8 clusters: 168\n",
      "purity for n=500, k=6500 is 0.4721, number of >0.8 clusters: 140\n",
      "purity for n=500, k=6500 is 0.4704, number of >0.8 clusters: 171\n",
      "purity for n=500, k=7000 is 0.4863, number of >0.8 clusters: 179\n",
      "purity for n=500, k=7000 is 0.4826, number of >0.8 clusters: 172\n",
      "purity for n=500, k=7000 is 0.4796, number of >0.8 clusters: 170\n",
      "purity for n=500, k=7500 is 0.5010, number of >0.8 clusters: 190\n",
      "purity for n=500, k=7500 is 0.4990, number of >0.8 clusters: 170\n",
      "purity for n=500, k=7500 is 0.4935, number of >0.8 clusters: 157\n",
      "purity for n=500, k=8000 is 0.5380, number of >0.8 clusters: 188\n",
      "purity for n=500, k=8000 is 0.5346, number of >0.8 clusters: 214\n",
      "purity for n=500, k=8000 is 0.5341, number of >0.8 clusters: 185\n",
      "purity for n=500, k=8500 is 0.5494, number of >0.8 clusters: 195\n",
      "purity for n=500, k=8500 is 0.5500, number of >0.8 clusters: 177\n",
      "purity for n=500, k=8500 is 0.5503, number of >0.8 clusters: 182\n",
      "purity for n=500, k=9000 is 0.5674, number of >0.8 clusters: 182\n",
      "purity for n=500, k=9000 is 0.5680, number of >0.8 clusters: 183\n",
      "purity for n=500, k=9000 is 0.5690, number of >0.8 clusters: 217\n",
      "purity for n=500, k=9500 is 0.5865, number of >0.8 clusters: 215\n",
      "purity for n=500, k=9500 is 0.5855, number of >0.8 clusters: 199\n",
      "purity for n=500, k=9500 is 0.5830, number of >0.8 clusters: 193\n",
      "purity for n=500, k=10000 is 0.5985, number of >0.8 clusters: 203\n",
      "purity for n=500, k=10000 is 0.6015, number of >0.8 clusters: 193\n",
      "purity for n=500, k=10000 is 0.5983, number of >0.8 clusters: 191\n",
      "purity for n=500, k=10500 is 0.6162, number of >0.8 clusters: 196\n",
      "purity for n=500, k=10500 is 0.6180, number of >0.8 clusters: 200\n",
      "purity for n=500, k=10500 is 0.6169, number of >0.8 clusters: 175\n",
      "purity for n=500, k=11000 is 0.6338, number of >0.8 clusters: 197\n",
      "purity for n=500, k=11000 is 0.6352, number of >0.8 clusters: 180\n",
      "purity for n=500, k=11000 is 0.6320, number of >0.8 clusters: 186\n",
      "purity for n=500, k=11500 is 0.6502, number of >0.8 clusters: 171\n",
      "purity for n=500, k=11500 is 0.6525, number of >0.8 clusters: 197\n",
      "purity for n=500, k=11500 is 0.6498, number of >0.8 clusters: 200\n",
      "purity for n=500, k=12000 is 0.6670, number of >0.8 clusters: 191\n",
      "purity for n=500, k=12000 is 0.6642, number of >0.8 clusters: 183\n",
      "purity for n=500, k=12000 is 0.6687, number of >0.8 clusters: 190\n",
      "purity for n=500, k=12500 is 0.6817, number of >0.8 clusters: 194\n",
      "purity for n=500, k=12500 is 0.6810, number of >0.8 clusters: 169\n",
      "purity for n=500, k=12500 is 0.6814, number of >0.8 clusters: 200\n",
      "purity for n=500, k=13000 is 0.6990, number of >0.8 clusters: 176\n",
      "purity for n=500, k=13000 is 0.6977, number of >0.8 clusters: 180\n",
      "purity for n=500, k=13000 is 0.6991, number of >0.8 clusters: 173\n",
      "purity for n=500, k=13500 is 0.7135, number of >0.8 clusters: 165\n",
      "purity for n=500, k=13500 is 0.7141, number of >0.8 clusters: 187\n",
      "purity for n=500, k=13500 is 0.7130, number of >0.8 clusters: 169\n",
      "purity for n=500, k=14000 is 0.7304, number of >0.8 clusters: 185\n",
      "purity for n=500, k=14000 is 0.7242, number of >0.8 clusters: 174\n",
      "purity for n=500, k=14000 is 0.7318, number of >0.8 clusters: 155\n",
      "purity for n=500, k=14500 is 0.7394, number of >0.8 clusters: 162\n",
      "purity for n=500, k=14500 is 0.7438, number of >0.8 clusters: 162\n",
      "purity for n=500, k=14500 is 0.7427, number of >0.8 clusters: 145\n",
      "purity for n=500, k=15000 is 0.7614, number of >0.8 clusters: 154\n",
      "purity for n=500, k=15000 is 0.7608, number of >0.8 clusters: 168\n",
      "purity for n=500, k=15000 is 0.7511, number of >0.8 clusters: 159\n"
     ]
    }
   ],
   "source": [
    "for n in [250, 350, 500]:\n",
    "    print 'doing LSA with %d components...' % n\n",
    "    print\n",
    "\n",
    "    U, S, Vt = randomized_svd(X, n_components=n)\n",
    "    V = Vt.T\n",
    "\n",
    "    X_red_grid = X.dot(V)\n",
    "    X_red_grid = normalizer.fit_transform(X_red_grid)\n",
    "\n",
    "    ks = [k for k in xrange(500, 15001, 500)]\n",
    "    \n",
    "    for k in ks:\n",
    "        for i in xrange(3):\n",
    "            km_grid = MiniBatchKMeans(n_clusters=k, init_size=k*3, n_init=10, init='random')\n",
    "            km_grid.fit(X_red_grid)\n",
    "\n",
    "            km_grid_hyperparam_res[(n, k, i)] = km_grid.labels_\n",
    "            cluster_purity = evaluate.overall_purity(km_grid.labels_)\n",
    "            km_grid_hyperparam_purity.append((n, k, i, cluster_purity))\n",
    "\n",
    "            no_pure_clusters = len(evaluate.high_purity_clusters(km_grid.labels_, threshold=0.8, min_size=3))\n",
    "            km_grid_hyperparam_len.append((n, k, i, no_pure_clusters))\n",
    "            print 'purity for n=%d, k=%d is %0.4f, number of >0.8 clusters: %d' % (n, k, cluster_purity, no_pure_clusters)"
   ]
  },
  {
   "cell_type": "code",
   "execution_count": 20,
   "metadata": {
    "collapsed": true
   },
   "outputs": [],
   "source": [
    "import pickle"
   ]
  },
  {
   "cell_type": "code",
   "execution_count": 21,
   "metadata": {
    "collapsed": false
   },
   "outputs": [],
   "source": [
    "pickle.dump(km_grid_hyperparam_res, file('C:/tmp/mlp/namespaces/k-means-def-cleaned-07-20-lsa-graph.bin', 'w'))"
   ]
  },
  {
   "cell_type": "code",
   "execution_count": 22,
   "metadata": {
    "collapsed": true
   },
   "outputs": [],
   "source": [
    "df1 = pd.DataFrame(km_grid_hyperparam_purity, columns=['n', 'k', 'i', 'purity'])\n",
    "df2 = pd.DataFrame(km_grid_hyperparam_len, columns=['n', 'k', 'i', 'sizes'])\n",
    "df_res = pd.concat([df1, df2], axis=1, join='inner')[[0, 1, 3, 7]]"
   ]
  },
  {
   "cell_type": "code",
   "execution_count": 34,
   "metadata": {
    "collapsed": false
   },
   "outputs": [
    {
     "data": {
      "image/png": "[encoded data removed]",
      "text/plain": [
       "<matplotlib.figure.Figure at 0x44713a90>"
      ]
     },
     "metadata": {},
     "output_type": "display_data"
    }
   ],
   "source": [
    "visual = {150: ('black', '-'), 250: ('black', '--'), 350: ('grey', '-'), 500: ('grey', '--')}\n",
    "\n",
    "for n, g in df_res.groupby('n'):\n",
    "    color, line = visual[n]\n",
    "    g.groupby('k').mean().sizes.plot(figsize=(8, 3), label='$k$ = %d' % n, color=color, linestyle=line)\n",
    "\n",
    "plt.grid(0)\n",
    "plt.xlabel('number of clusters $K$')\n",
    "plt.ylabel('no. pure clusters')\n",
    "plt.legend(loc='lower center', ncol=4)\n",
    "\n",
    "plt.tight_layout()\n",
    "plt.savefig('figures/k-vs-kmeans-len-nodef.pdf', format='pdf')\n",
    "plt.show()"
   ]
  },
  {
   "cell_type": "code",
   "execution_count": 41,
   "metadata": {
    "collapsed": false,
    "scrolled": true
   },
   "outputs": [
    {
     "name": "stdout",
     "output_type": "stream",
     "text": [
      "overall purity 0.5827\n",
      "number of high purity clusters of size at least 5 is 213\n",
      "\n",
      "- Astronomical catalogues (id=248) size=53, purity=0.9811\n",
      "- Quantum mechanics (id=749) size=14, purity=0.9286\n",
      "- Electrochemistry (id=181) size=12, purity=0.8333\n",
      "- National Basketball Association seasons (id=5459) size=12, purity=1.0000\n",
      "- Particle physics (id=3022) size=10, purity=0.8000\n",
      "- Partial differential equations (id=5370) size=10, purity=0.8000\n",
      "- Electromagnetism (id=7610) size=10, purity=1.0000\n",
      "- Topology (id=9452) size=10, purity=0.9000\n",
      "- Measure theory (id=5456) size=8, purity=0.8750\n",
      "- Propositional calculus (id=6288) size=8, purity=0.8750\n",
      "- Baseball statistics (id=3583) size=7, purity=0.8571\n",
      "- Group theory (id=5092) size=7, purity=0.8571\n",
      "- Abstract algebra (id=598) size=6, purity=0.8333\n",
      "- Astronomical catalogues of stars (id=974) size=6, purity=1.0000\n",
      "- Constellations (id=1882) size=6, purity=1.0000\n",
      "- Linear algebra (id=2931) size=6, purity=0.8333\n",
      "- Cartographic projections (id=3379) size=6, purity=1.0000\n",
      "- Crystallography (id=3697) size=6, purity=1.0000\n",
      "- Differential equations (id=4202) size=6, purity=0.8333\n",
      "- Theoretical physics (id=4233) size=6, purity=0.8333\n",
      "- Statistical theory (id=5549) size=6, purity=0.8333\n",
      "- Electronic circuits (id=6301) size=6, purity=0.8333\n",
      "- General relativity (id=6750) size=6, purity=0.8333\n",
      "- Measure theory (id=7098) size=6, purity=1.0000\n",
      "- Electronic engineering (id=7308) size=6, purity=0.8333\n",
      "- Quantum field theory (id=8358) size=6, purity=1.0000\n",
      "- Abstract algebra (id=9315) size=6, purity=0.8333\n",
      "- Particle physics (id=353) size=5, purity=1.0000\n",
      "- Numerical analysis (id=675) size=5, purity=0.8000\n",
      "- Fluid dynamics (id=777) size=5, purity=1.0000\n",
      "- Theory of computation (id=810) size=5, purity=0.8000\n",
      "- Mathematical logic (id=841) size=5, purity=0.8000\n",
      "- Macroeconomics (id=1110) size=5, purity=0.8000\n",
      "- Mathematical analysis (id=1498) size=5, purity=0.8000\n",
      "- Mathematical analysis (id=2102) size=5, purity=0.8000\n",
      "- Economic theories (id=2316) size=5, purity=0.8000\n",
      "- Electromagnetism (id=2834) size=5, purity=1.0000\n",
      "- Signal processing (id=3129) size=5, purity=0.8000\n",
      "- Matrix theory (id=3702) size=5, purity=0.8000\n",
      "- Group theory (id=3797) size=5, purity=1.0000\n",
      "- Physics (id=3977) size=5, purity=0.8000\n",
      "- Gases (id=4129) size=5, purity=0.8000\n",
      "- Quantum mechanics (id=4173) size=5, purity=0.8000\n",
      "- Systems of units (id=4258) size=5, purity=0.8000\n",
      "- Surfaces (id=4263) size=5, purity=1.0000\n",
      "- Riemannian geometry (id=4871) size=5, purity=0.8000\n",
      "- General relativity (id=5306) size=5, purity=1.0000\n",
      "- Databases (id=5530) size=5, purity=1.0000\n",
      "- Mechanics (id=5608) size=5, purity=1.0000\n",
      "- Quantum mechanics (id=5679) size=5, purity=1.0000\n",
      "- Aerospace engineering (id=5718) size=5, purity=0.8000\n",
      "- SI units (id=5903) size=5, purity=1.0000\n",
      "- Orbits (id=6104) size=5, purity=1.0000\n",
      "- Linear algebra (id=6155) size=5, purity=0.8000\n",
      "- Special hypergeometric functions (id=6271) size=5, purity=1.0000\n",
      "- Thermodynamics (id=6572) size=5, purity=0.8000\n",
      "- Knot theory (id=6912) size=5, purity=0.8000\n",
      "- Constellations (id=6972) size=5, purity=1.0000\n",
      "- Enzymes (id=7236) size=5, purity=1.0000\n",
      "- Bletchley Park (id=7601) size=5, purity=0.8000\n",
      "- Dynamical systems (id=7676) size=5, purity=0.8000\n",
      "- General relativity (id=7889) size=5, purity=0.8000\n",
      "- Mathematical finance (id=8127) size=5, purity=0.8000\n",
      "- Thermodynamics (id=8286) size=5, purity=0.8000\n",
      "- Differential topology (id=8849) size=5, purity=0.8000\n",
      "- Mathematical analysis (id=9045) size=5, purity=0.8000\n",
      "- Abstract algebra (id=9267) size=5, purity=0.8000\n",
      "- International sailing classes (id=9294) size=5, purity=0.8000\n",
      "- Cartography (id=9379) size=5, purity=0.8000\n",
      "- Mathematical analysis (id=9447) size=5, purity=0.8000\n",
      "- Topology (id=418) size=4, purity=1.0000\n",
      "- Quantum mechanics (id=845) size=4, purity=1.0000\n",
      "- Stochastic processes (id=1820) size=4, purity=1.0000\n",
      "- Fourier analysis (id=2089) size=4, purity=1.0000\n",
      "- Engine technology (id=3392) size=4, purity=1.0000\n",
      "- Fluid dynamics (id=3514) size=4, purity=1.0000\n",
      "- Quantum mechanics (id=3748) size=4, purity=1.0000\n",
      "- Probability distributions (id=3891) size=4, purity=1.0000\n",
      "- Synthetic elements (id=4578) size=4, purity=1.0000\n",
      "- Statistics (id=4960) size=4, purity=1.0000\n",
      "- Statistics (id=5281) size=4, purity=1.0000\n",
      "- Computational fluid dynamics (id=5573) size=4, purity=1.0000\n",
      "- Stochastic processes (id=6586) size=4, purity=1.0000\n",
      "- Units of measurement (id=6852) size=4, purity=1.0000\n",
      "- Stochastic processes (id=7144) size=4, purity=1.0000\n",
      "- Set theory (id=7193) size=4, purity=1.0000\n",
      "- Physics (id=7246) size=4, purity=1.0000\n",
      "- Probability theory (id=7467) size=4, purity=1.0000\n",
      "- Theory of relativity (id=7543) size=4, purity=1.0000\n",
      "- Mathematical analysis (id=8062) size=4, purity=1.0000\n",
      "- Electronic amplifiers (id=8084) size=4, purity=1.0000\n",
      "- Astrophysics (id=8093) size=4, purity=1.0000\n",
      "- Group theory (id=8142) size=4, purity=1.0000\n",
      "- Riemannian geometry (id=8398) size=4, purity=1.0000\n",
      "- Tests (id=8426) size=4, purity=1.0000\n",
      "- Knot theory (id=8871) size=4, purity=1.0000\n",
      "- Structural engineering (id=8901) size=4, purity=1.0000\n",
      "- Physics (id=9378) size=4, purity=1.0000\n",
      "- Algorithms (id=13) size=3, purity=1.0000\n",
      "- Linear algebra (id=368) size=3, purity=1.0000\n",
      "- Special functions (id=483) size=3, purity=1.0000\n",
      "- Glass applications (id=534) size=3, purity=1.0000\n",
      "- Cardinal numbers (id=602) size=3, purity=1.0000\n",
      "- Boolean algebra (id=617) size=3, purity=1.0000\n",
      "- Quantum mechanics (id=720) size=3, purity=1.0000\n",
      "- Mathematical analysis (id=730) size=3, purity=1.0000\n",
      "- Differential equations (id=882) size=3, purity=1.0000\n",
      "- Stochastic processes (id=889) size=3, purity=1.0000\n",
      "- Analysis of variance (id=898) size=3, purity=1.0000\n",
      "- Group theory (id=1225) size=3, purity=1.0000\n",
      "- Chemistry (id=1319) size=3, purity=1.0000\n",
      "- Differential calculus (id=1341) size=3, purity=1.0000\n",
      "- Physical optics (id=1350) size=3, purity=1.0000\n",
      "- Algebra (id=1660) size=3, purity=1.0000\n",
      "- Graph families (id=1900) size=3, purity=1.0000\n",
      "- Lagrangian mechanics (id=2030) size=3, purity=1.0000\n",
      "- Integral calculus (id=2075) size=3, purity=1.0000\n",
      "- Logic (id=2105) size=3, purity=1.0000\n",
      "- Energy storage (id=2151) size=3, purity=1.0000\n",
      "- Statistical mechanics (id=2189) size=3, purity=1.0000\n",
      "- Plasma physics (id=2210) size=3, purity=1.0000\n",
      "- Formal methods (id=2344) size=3, purity=1.0000\n",
      "- Prime numbers (id=2418) size=3, purity=1.0000\n",
      "- Network protocols (id=2439) size=3, purity=1.0000\n",
      "- Abstract algebra (id=2461) size=3, purity=1.0000\n",
      "- Mechanics (id=2520) size=3, purity=1.0000\n",
      "- Complex analysis (id=2624) size=3, purity=1.0000\n",
      "- Information theory (id=2689) size=3, purity=1.0000\n",
      "- Differential equations (id=2853) size=3, purity=1.0000\n",
      "- Analog circuits (id=2934) size=3, purity=1.0000\n",
      "- Mechanics (id=2957) size=3, purity=1.0000\n",
      "- Flight (id=2962) size=3, purity=1.0000\n",
      "- Materials science (id=3029) size=3, purity=1.0000\n",
      "- Main sequence stars (id=3114) size=3, purity=1.0000\n",
      "- Physics (id=3166) size=3, purity=1.0000\n",
      "- Spectroscopy (id=3188) size=3, purity=1.0000\n",
      "- Wireless (id=3219) size=3, purity=1.0000\n",
      "- Materials science (id=3371) size=3, purity=1.0000\n",
      "- Mathematical analysis (id=3430) size=3, purity=1.0000\n",
      "- Quantum mechanics (id=3469) size=3, purity=1.0000\n",
      "- Physics (id=3471) size=3, purity=1.0000\n",
      "- Chaotic maps (id=3584) size=3, purity=1.0000\n",
      "- Calculus (id=3732) size=3, purity=1.0000\n",
      "- Mechanics (id=3878) size=3, purity=1.0000\n",
      "- Statistics (id=3975) size=3, purity=1.0000\n",
      "- Mathematical theorems (id=4146) size=3, purity=1.0000\n",
      "- Abstract algebra (id=4157) size=3, purity=1.0000\n",
      "- Theories of gravitation (id=4196) size=3, purity=1.0000\n",
      "- Complex analysis (id=4229) size=3, purity=1.0000\n",
      "- Signal processing (id=4246) size=3, purity=1.0000\n",
      "- Econometrics (id=4264) size=3, purity=1.0000\n",
      "- Stars (id=4611) size=3, purity=1.0000\n",
      "- Manifolds (id=4634) size=3, purity=1.0000\n",
      "- Special functions (id=4714) size=3, purity=1.0000\n",
      "- Harmonic analysis (id=4840) size=3, purity=1.0000\n",
      "- Electronic circuits (id=4901) size=3, purity=1.0000\n",
      "- Set theory (id=4910) size=3, purity=1.0000\n",
      "- Mathematical methods in general relativity (id=4942) size=3, purity=1.0000\n",
      "- Fields of mathematics (id=4954) size=3, purity=1.0000\n",
      "- Electric power (id=5052) size=3, purity=1.0000\n",
      "- Continuous distributions (id=5111) size=3, purity=1.0000\n",
      "- Mathematical analysis (id=5270) size=3, purity=1.0000\n",
      "- Materials science (id=5389) size=3, purity=1.0000\n",
      "- General relativity (id=5415) size=3, purity=1.0000\n",
      "- Fields of finance (id=5637) size=3, purity=1.0000\n",
      "- Physics (id=5675) size=3, purity=1.0000\n",
      "- Numerical differential equations (id=5729) size=3, purity=1.0000\n",
      "- Microeconomics (id=5763) size=3, purity=1.0000\n",
      "- Special relativity (id=5764) size=3, purity=1.0000\n",
      "- Mathematical analysis (id=5888) size=3, purity=1.0000\n",
      "- General relativity (id=5963) size=3, purity=1.0000\n",
      "- Theoretical physics (id=6125) size=3, purity=1.0000\n",
      "- Stochastic processes (id=6154) size=3, purity=1.0000\n",
      "- Regression analysis (id=6245) size=3, purity=1.0000\n",
      "- Computational complexity theory (id=6408) size=3, purity=1.0000\n",
      "- Fields of mathematics (id=6412) size=3, purity=1.0000\n",
      "- Dimensional analysis (id=6476) size=3, purity=1.0000\n",
      "- Algorithms on strings (id=6530) size=3, purity=1.0000\n",
      "- Thermodynamics (id=6654) size=3, purity=1.0000\n",
      "- Matrix theory (id=6675) size=3, purity=1.0000\n",
      "- Modal logic (id=6790) size=3, purity=1.0000\n",
      "- Physical quantities (id=6863) size=3, purity=1.0000\n",
      "- Theory of relativity (id=6907) size=3, purity=1.0000\n",
      "- Machine learning (id=6915) size=3, purity=1.0000\n",
      "- Philosophy of physics (id=6931) size=3, purity=1.0000\n",
      "- Colloidal chemistry (id=6947) size=3, purity=1.0000\n",
      "- General topology (id=6987) size=3, purity=1.0000\n",
      "- Theoretical computer science (id=6995) size=3, purity=1.0000\n",
      "- Set theory (id=7095) size=3, purity=1.0000\n",
      "- Digital geometry (id=7148) size=3, purity=1.0000\n",
      "- Statistical theory (id=7224) size=3, purity=1.0000\n",
      "- Thermodynamics (id=7252) size=3, purity=1.0000\n",
      "- Force (id=7297) size=3, purity=1.0000\n",
      "- Special functions (id=7298) size=3, purity=1.0000\n",
      "- Mathematical analysis (id=7353) size=3, purity=1.0000\n",
      "- Force (id=7412) size=3, purity=1.0000\n",
      "- Fluid dynamics (id=7594) size=3, purity=1.0000\n",
      "- Statistical theory (id=7763) size=3, purity=1.0000\n",
      "- Physical chemistry (id=7775) size=3, purity=1.0000\n",
      "- Special functions (id=7853) size=3, purity=1.0000\n",
      "- Statistics (id=7979) size=3, purity=1.0000\n",
      "- Optics (id=8098) size=3, purity=1.0000\n",
      "- Infinity (id=8355) size=3, purity=1.0000\n",
      "- Computer languages (id=8463) size=3, purity=1.0000\n",
      "- Theoretical physics (id=8542) size=3, purity=1.0000\n",
      "- Fields of mathematics (id=8670) size=3, purity=1.0000\n",
      "- Linguistic turn (id=8784) size=3, purity=1.0000\n",
      "- Spaceflight (id=8788) size=3, purity=1.0000\n",
      "- Macroeconomics (id=8839) size=3, purity=1.0000\n",
      "- Encodings (id=8903) size=3, purity=1.0000\n",
      "- Thermodynamics (id=9096) size=3, purity=1.0000\n",
      "- Quantum mechanics (id=9178) size=3, purity=1.0000\n",
      "- Metalogic (id=9221) size=3, purity=1.0000\n"
     ]
    }
   ],
   "source": [
    "clustering = km_grid_hyperparam_res[(250, 9500, 2)]\n",
    "evaluate.report_overall(clustering, purity_threshold=0.8, min_size=3, sort_by='size')"
   ]
  },
  {
   "cell_type": "code",
   "execution_count": 42,
   "metadata": {
    "collapsed": false,
    "scrolled": true
   },
   "outputs": [
    {
     "name": "stdout",
     "output_type": "stream",
     "text": [
      "cluster 5456, size: 8\n",
      "- Signed measure (categories: Measure theory, Calculus, Integral calculus, Measures (measure theory)) Σ E d f l n P R t x N ν μ\n",
      "- Ergodicity (categories: Mathematical analysis, Statistics, Applied mathematics, Dynamical systems, Probability theory, ...) Σ E g H n T X μ t\n",
      "- Support (measure theory) (categories: Mathematical analysis, Measure theory) Σ N_x D g f C T L R U t X x λ μ d\n",
      "- Convergence of measures (categories: Mathematical analysis, Measure theory) P_n x d g F Ω f μ_n l n P S R ϵ t X ϕ ν μ δ\n",
      "- Riesz–Markov–Kakutani representation theorem (categories: Geometry, Manifolds, Functional analysis, Measure theory, Category theory, ...) E d f ψ K α U X x μ\n",
      "- Invariant measure (categories: Mathematical analysis, Fields of mathematics, Mechanics, Dynamical systems, Mathematical physics, ...) Σ B φ f μ S R t x b Id T_a T\n",
      "- Fernique's theorem (categories: Mathematical theorems, Probability theory, Measure theory, Theorems in analysis, Probability theorems, ...) E l_∗ G k l α t x μ d\n",
      "- Gauge symmetry (mathematics) (categories: Theoretical physics, Geometry, Quantum field theory, Symmetry, Artistic techniques, ...) E d_ν J L U W ν μ\n",
      "\n",
      "common terms: (μ)\n",
      "top categories: (Measure theory, 7), (Mathematical analysis, 4), (Integral calculus, 2), (Measures (measure theory), 2), (Theorems in analysis, 2)\n",
      "purity: 0.875\n",
      "relations:\n",
      "     C: (closed set: 0.95), (complex measure: 0.82)\n",
      "     E: (sets*: 1.88), (vector bundle: 0.96), (borel: 0.95), (differential operator: 0.81)\n",
      "     F: (cumulative distribution functions: 0.84), (usual topology: 0.84)\n",
      "     L: (gauge symmetry: 1.74), (lagrangian: 0.96), (symmetries: 0.93), (sections: 0.84)\n",
      "     N: (sets: 0.89), (hahn: 0.84)\n",
      "     N_x: (neighbourhood*: 2.79)\n",
      "     P: (sets*: 1.91), (probability measure: 0.96), (weak topology: 0.90), (choice: 0.89), (measures: 0.88), (expectation: 0.81)\n",
      "     P_n: (measures*: 2.79), (sequence: 1.81), (expectation: 1.66), (cumulative distribution functions: 0.81)\n",
      "     R: (usual topology: 1.75), (real line: 0.99), (measures: 0.91), (arbitrary point: 0.87)\n",
      "     S: (metric space: 0.86)\n",
      "     T: (invariant measure: 0.91), (monoid: 0.86)\n",
      "     U: (sets: 0.96)\n",
      "     X: (hausdorff space*: 4.62), (measurable functions*: 2.64), (locally compact: 1.86), (measure: 0.95), (borel: 0.92), (subset: 0.87)\n",
      "     f: (measurable function*: 3.50), (bounded function: 0.95), (functional a: 0.89), (assumption: 0.89), (negative part: 0.89), (condition: 0.84)\n",
      "     k: (orders: 0.83)\n",
      "     n: (step: 0.99), (positive probability measure: 0.89)\n",
      "     t: (measurable*: 1.64)\n",
      "     x: (positive: 0.88), (measure: 0.86), (arbitrary point: 0.82), (neighbourhood: 0.82)\n",
      "     Σ: (sigma algebra*: 1.86), (invariant mod*: 1.83), (0 , + ∞: 0.91), (disjoint sets: 0.91), (element a: 0.89), (topology: 0.88), (measurable set a: 0.87)\n",
      "     α: (form: 0.87)\n",
      "     λ: (measure: 0.96), (lebesgue: 0.95), (real line: 0.87)\n",
      "     μ: (measure*: 11.16), (measures*: 2.61), (invariant measure*: 1.65), (sigma additive: 0.91), (a fortiori: 0.88), (null sets: 0.88), (locally compact: 0.86), (moments: 0.83), (up to: 0.82), (support: 0.82), (non-negative countably: 0.81)\n",
      "     μ_n: (measures: 0.97), (sequence: 0.89), (difference: 0.88), (space: 0.86)\n",
      "     ν: (nonnegative measure: 0.96), (space: 0.87), (probability measures: 0.86)\n",
      "     φ: (monoid: 0.91)\n",
      "     ψ: (positive linear functional*: 1.89)\n"
     ]
    }
   ],
   "source": [
    "evaluate.print_cluster(clustering, 5456)"
   ]
  },
  {
   "cell_type": "code",
   "execution_count": 43,
   "metadata": {
    "collapsed": false,
    "scrolled": true
   },
   "outputs": [
    {
     "name": "stdout",
     "output_type": "stream",
     "text": [
      "overall purity 0.5827\n",
      "number of high purity clusters of size at least 5 is 213\n",
      "\n",
      "category \"Particle physics\", cluster_id=353, size=5:\n",
      "top categories: [(u'Particle physics', 5), (u'Quantum mechanics', 4), (u'Theoretical physics', 4), (u'Mechanics', 3), (u'Modern physics', 3)]\n",
      "     μ: (gamma matrices: 0.95), (lebesgue: 0.89), (measure: 0.83)\n",
      "category \"Special functions\", cluster_id=483, size=3:\n",
      "top categories: [(u'Special functions', 3), (u'Combinatorics', 2), (u'Lie groups', 2), (u'Gamma and related functions', 1), (u'Complex analysis', 1)]\n",
      "     μ: (partitions: 0.99), (expressions: 0.86)\n",
      "category \"Quantum mechanics\", cluster_id=749, size=14:\n",
      "top categories: [(u'Quantum mechanics', 13), (u'Theoretical physics', 9), (u'Particle physics', 9), (u'Quantum field theory', 7), (u'Atomic physics', 3)]\n",
      "     μ: (molecular dipole operator: 0.96), (ψand: 0.89)\n",
      "category \"Fluid dynamics\", cluster_id=777, size=5:\n",
      "top categories: [(u'Fluid dynamics', 5), (u'Physics', 3), (u'Turbulence', 2), (u'Fluid mechanics', 2), (u'Aerodynamics', 2)]\n",
      "     μ: (dynamic viscosity: 0.99), (density: 0.95)\n",
      "category \"Quantum mechanics\", cluster_id=845, size=4:\n",
      "top categories: [(u'Quantum mechanics', 4), (u'Atomic, molecular, and optical physics', 4), (u'Atomic physics', 3), (u'Chemistry', 3), (u'Physics', 3)]\n",
      "     μ: (magnetic moment: 0.97), (particle: 0.86)\n",
      "category \"Stochastic processes\", cluster_id=889, size=3:\n",
      "top categories: [(u'Stochastic processes', 3), (u'Statistics', 2), (u'Statistical data types', 2), (u'Probability theory', 2), (u'Sound', 1)]\n",
      "     μ: (time t: 0.99), (mean: 0.89), (arbitrary drift parameter: 0.89), (stock: 0.89)\n",
      "category \"Mathematical analysis\", cluster_id=1498, size=5:\n",
      "top categories: [(u'Mathematical analysis', 4), (u'Dynamical systems', 3), (u'Stochastic processes', 3), (u'Ergodic theory', 3), (u'Probability theory', 3)]\n",
      "     μ: (measure*: 3.69), (pushforward: 0.91), (0 , + ∞: 0.81)\n",
      "category \"Mechanics\", cluster_id=2957, size=3:\n",
      "top categories: [(u'Mechanics', 3), (u'Materials science', 3), (u'Solid mechanics', 3), (u'Continuum mechanics', 3), (u'Classical mechanics', 3)]\n",
      "     μ: (modulus: 0.89)\n",
      "category \"Mathematical analysis\", cluster_id=3430, size=3:\n",
      "top categories: [(u'Mathematical analysis', 3), (u'Functional analysis', 2), (u'Topology of function spaces', 1), (u'General topology', 1), (u'Integral calculus', 1)]\n",
      "     μ: (measure*: 2.73), (linear functional: 0.89), (subsets: 0.86), (isometry: 0.83)\n",
      "category \"Quantum mechanics\", cluster_id=3469, size=3:\n",
      "top categories: [(u'Quantum mechanics', 3), (u'Quantum electronics', 2), (u'Molecular physics', 1), (u'Quantum chemistry', 1), (u'Quantum electrodynamics', 1)]\n",
      "     μ: (formal limit: 0.95), (4-gradient: 0.95), (electromagnetic four-potential: 0.83)\n",
      "category \"Baseball statistics\", cluster_id=3583, size=7:\n",
      "top categories: [(u'Baseball statistics', 6), (u'Batting statistics', 4), (u'Batting (baseball)', 4), (u'Baseball pitching', 2), (u'Pitching statistics', 2)]\n",
      "     μ: (dissociation constant: 0.89)\n",
      "category \"Probability distributions\", cluster_id=3891, size=4:\n",
      "top categories: [(u'Probability distributions', 4), (u'Continuous distributions', 3), (u'Analytic number theory', 2), (u'Factorial and binomial topics', 2), (u'Combinatorics', 2)]\n",
      "     μ: (ratio: 0.96), (fact: 0.81)\n",
      "category \"Quantum mechanics\", cluster_id=4173, size=5:\n",
      "top categories: [(u'Quantum mechanics', 4), (u'Particle statistics', 3), (u'Optics', 3), (u'Quantum optics', 3), (u'Modern physics', 1)]\n",
      "     μ: (chemical potential: 0.96)\n",
      "category \"Theoretical physics\", cluster_id=4233, size=6:\n",
      "top categories: [(u'Theoretical physics', 5), (u'Quantum field theory', 2), (u'Theories of gravitation', 2), (u'Symmetry', 2), (u'Scientific theories', 2)]\n",
      "     μ: (covariant derivative: 0.89), (^ μν: 0.89)\n",
      "category \"Stars\", cluster_id=4611, size=3:\n",
      "top categories: [(u'Stars', 3), (u'Main sequence stars', 2), (u'Nebulae', 2), (u'Stars with proper names', 2), (u'Extrasolar planets', 2)]\n",
      "     μ: (radian/s: 0.96), (angular rate: 0.96), (angle: 0.95)\n",
      "category \"Mathematical methods in general relativity\", cluster_id=4942, size=3:\n",
      "top categories: [(u'Mathematical methods in general relativity', 3), (u'General relativity', 2), (u'Wikipedia categories named after scientists', 1), (u'Multilinear algebra', 1), (u'Tensors in general relativity', 1)]\n",
      "     μ: (latin indices: 0.86), (riemann: 0.83)\n",
      "category \"Continuous distributions\", cluster_id=5111, size=3:\n",
      "top categories: [(u'Continuous distributions', 3), (u'Probability distributions', 3), (u'Statistical mechanics', 2), (u'Mathematical physics', 2), (u'Random matrices', 2)]\n",
      "     μ: (mean: 4.52), (sample size: 1.72), (distribution: 0.88), (above expression: 0.85)\n",
      "category \"General relativity\", cluster_id=5306, size=5:\n",
      "top categories: [(u'General relativity', 5), (u'Exact solutions in general relativity', 2), (u'Equations', 2), (u'Coordinate systems', 2), (u'Mathematical methods in general relativity', 2)]\n",
      "     μ: (indices: 0.95), (vierbein field: 0.95), (change: 0.92), (components: 0.89), (general spacetime coordinate: 0.89)\n",
      "category \"General relativity\", cluster_id=5415, size=3:\n",
      "top categories: [(u'General relativity', 3), (u'Exact solutions in general relativity', 3), (u'Equations', 3), (u'Astronomical objects', 1), (u'Density', 1)]\n",
      "     μ: (reduced mass: 1.79), (gravitational force: 1.66)\n",
      "category \"Measure theory\", cluster_id=5456, size=8:\n",
      "top categories: [(u'Measure theory', 7), (u'Mathematical analysis', 4), (u'Integral calculus', 2), (u'Measures (measure theory)', 2), (u'Theorems in analysis', 2)]\n",
      "     μ: (measure*: 11.16), (measures*: 2.61), (invariant measure*: 1.65), (sigma additive: 0.91), (a fortiori: 0.88), (null sets: 0.88), (locally compact: 0.86), (moments: 0.83), (up to: 0.82), (support: 0.82), (non-negative countably: 0.81)\n",
      "category \"Statistical theory\", cluster_id=5549, size=6:\n",
      "top categories: [(u'Statistical theory', 5), (u'Statistics', 4), (u'Estimation theory', 3), (u'Scientific theories', 3), (u'Control theory', 2)]\n",
      "     μ: (true mean*: 1.79), (population: 1.78), (normal n*: 1.73), (expectation: 0.96), (variance: 0.93)\n",
      "category \"Physics\", cluster_id=5675, size=3:\n",
      "top categories: [(u'Physics', 3), (u'Molecular physics', 1), (u'Materials science', 1), (u'Concepts in physics', 1), (u'Condensed matter physics', 1)]\n",
      "     μ: (absorption coefficient: 0.95)\n",
      "category \"Orbits\", cluster_id=6104, size=5:\n",
      "top categories: [(u'Orbits', 5), (u'Astrodynamics', 5), (u'Gravitation', 4), (u'Celestial mechanics', 4), (u'Dynamics of the Solar System', 4)]\n",
      "     μ: (semi-major axis: 0.89), (position: 0.87)\n",
      "category \"Stochastic processes\", cluster_id=6154, size=3:\n",
      "top categories: [(u'Stochastic processes', 3), (u'Statistics', 2), (u'Time series analysis', 2), (u'Statistical data types', 2), (u'Sound', 1)]\n",
      "     μ: (model: 0.95), (expectation: 0.89)\n",
      "category \"Stochastic processes\", cluster_id=6586, size=4:\n",
      "top categories: [(u'Stochastic processes', 4), (u'Statistics', 3), (u'Probability theory', 3), (u'Statistical data types', 3), (u'Stochastic differential equations', 2)]\n",
      "     μ: (expectation: 0.96), (normally distributed: 0.86)\n",
      "category \"Theory of relativity\", cluster_id=6907, size=3:\n",
      "top categories: [(u'Theory of relativity', 3), (u'Special relativity', 3), (u'Equations', 2), (u'Physics', 2), (u'Science-related lists', 1)]\n",
      "     μ: (four-velocity: 0.87)\n",
      "category \"Machine learning\", cluster_id=6915, size=3:\n",
      "top categories: [(u'Machine learning', 3), (u'Statistical classification', 2), (u'Algorithms', 2), (u'Multivariate statistics', 2), (u'Support vector machines', 2)]\n",
      "     μ: (hyperparameters: 0.86)\n",
      "category \"Philosophy of physics\", cluster_id=6931, size=3:\n",
      "top categories: [(u'Philosophy of physics', 3), (u'Quantum mechanics', 3), (u'Modern physics', 3), (u'Physics', 3), (u'Mechanics', 3)]\n",
      "     μ: (mean: 0.99), (variance: 0.95), (normal distribution: 0.89)\n",
      "category \"Measure theory\", cluster_id=7098, size=6:\n",
      "top categories: [(u'Measure theory', 6), (u'Theorems in analysis', 4), (u'Theorems in measure theory', 4), (u'Real analysis', 3), (u'Mathematical analysis', 2)]\n",
      "     μ: (assumptions: 0.93), (almost everywhere: 0.89), (measure space: 0.81)\n",
      "category \"Set theory\", cluster_id=7193, size=4:\n",
      "top categories: [(u'Set theory', 4), (u'Mathematical logic', 2), (u'Axioms of set theory', 1), (u'Infinity', 1), (u'Fields of mathematics', 1)]\n",
      "     μ: (order type: 0.97), (subset: 0.88), (commutative: 0.83)\n",
      "category \"Physics\", cluster_id=7246, size=4:\n",
      "top categories: [(u'Physics', 4), (u'Classical mechanics', 4), (u'Mechanics', 4), (u'Gravitation', 1), (u'Periodic phenomena', 1)]\n",
      "     μ: (numerator: 0.95), (negative infinity: 0.82)\n",
      "category \"Thermodynamics\", cluster_id=7252, size=3:\n",
      "top categories: [(u'Thermodynamics', 3), (u'Physical chemistry', 3), (u'Applied and interdisciplinary physics', 2), (u'Alchemical processes', 2), (u'Chemistry', 2)]\n",
      "     μ: (chemical potential: 1.88), (interest: 0.92), (partial molar: 0.86)\n",
      "category \"Force\", cluster_id=7297, size=3:\n",
      "top categories: [(u'Force', 3), (u'Dynamical systems', 3), (u'Physical systems', 3), (u'Engineering concepts', 3), (u'Thermodynamics', 3)]\n",
      "     μ: (entropy: 0.93), (chemical potential: 0.87)\n",
      "category \"Force\", cluster_id=7412, size=3:\n",
      "top categories: [(u'Force', 3), (u'Special relativity', 3), (u'Physics', 3), (u'Electromagnetism', 3), (u'Equations', 2)]\n",
      "     μ: (permeability*: 3.63), (conductivity: 0.89)\n",
      "category \"Probability theory\", cluster_id=7467, size=4:\n",
      "top categories: [(u'Probability theory', 4), (u'Statistics', 2), (u'Measure theory', 2), (u'Stochastic processes', 2), (u'Statistical theory', 2)]\n",
      "     μ: (mean: 0.95)\n",
      "category \"Theory of relativity\", cluster_id=7543, size=4:\n",
      "top categories: [(u'Theory of relativity', 4), (u'Special relativity', 3), (u'Mechanics', 2), (u'Modern physics', 2), (u'Mathematical physics', 2)]\n",
      "     μ: (expression a_μb: 0.93), (shorthand: 0.93), (coordinate separation dx: 0.89), (index: 0.87)\n",
      "category \"Bletchley Park\", cluster_id=7601, size=5:\n",
      "top categories: [(u'Bletchley Park', 4), (u'Military history of the United Kingdom during World War II', 3), (u'Signals intelligence of World War II', 3), (u'Visitor attractions in Buckinghamshire', 3), (u'History of Buckinghamshire', 3)]\n",
      "     μ: (motor wheels: 4.51)\n",
      "category \"Electromagnetism\", cluster_id=7610, size=10:\n",
      "top categories: [(u'Electromagnetism', 10), (u'Physics', 8), (u'Special relativity', 6), (u'Force', 6), (u'Theoretical physics', 5)]\n",
      "     μ: (permeability*: 1.90), (quantities: 0.92), (lorentz-heaviside: 0.82)\n",
      "category \"Statistical theory\", cluster_id=7763, size=3:\n",
      "top categories: [(u'Statistical theory', 3), (u'Statistics', 2), (u'Scientific theories', 2), (u'Statistical theorems', 1), (u'Knowledge', 1)]\n",
      "     μ: (standard deviation: 1.90), (confidence interval: 0.91), (population: 0.89), (normally distributed: 0.83)\n",
      "category \"Mathematical finance\", cluster_id=8127, size=5:\n",
      "top categories: [(u'Mathematical finance', 4), (u'Short-rate models', 3), (u'Mathematical science occupations', 3), (u'Fields of finance', 3), (u'Applied mathematics', 3)]\n",
      "     μ: (brownian motion: 0.84), (constants: 0.83)\n",
      "category \"Quantum field theory\", cluster_id=8358, size=6:\n",
      "top categories: [(u'Quantum field theory', 6), (u'Particle physics', 5), (u'Quantum mechanics', 4), (u'Theoretical physics', 4), (u'Quantum electronics', 2)]\n",
      "     μ: (gamma matrices*: 1.73), (lorentzian index: 0.96), (vertex function: 0.89), (field: 0.81)\n",
      "category \"Structural engineering\", cluster_id=8901, size=4:\n",
      "top categories: [(u'Structural engineering', 4), (u'Mechanical engineering', 3), (u'Continuum mechanics', 3), (u'Earthquake engineering', 3), (u'Analysis', 3)]\n",
      "     μ: (kinetic energy: 0.93), (mass: 0.87)\n",
      "category \"Quantum mechanics\", cluster_id=9178, size=3:\n",
      "top categories: [(u'Quantum mechanics', 3), (u'Modern physics', 2), (u'Philosophy of physics', 2), (u'Physics', 2), (u'Mechanics', 2)]\n",
      "     μ: (magnetic dipole moment: 0.95), (uniform: 0.87)\n",
      "category \"Physics\", cluster_id=9378, size=4:\n",
      "top categories: [(u'Physics', 4), (u'Physical quantities', 2), (u'Mass', 2), (u'Force', 2), (u'Concepts by field', 2)]\n",
      "     μ: (four-acceleration: 0.89), (invariant mass: 0.89)\n",
      "category \"Mathematical analysis\", cluster_id=9447, size=5:\n",
      "top categories: [(u'Mathematical analysis', 4), (u'Multivariable calculus', 3), (u'Differential equations', 3), (u'Theorems in analysis', 2), (u'Partial differential equations', 2)]\n",
      "     μ: (call arrivals: 0.95), (mean number: 0.87)\n",
      "category \"Topology\", cluster_id=9452, size=10:\n",
      "top categories: [(u'Topology', 9), (u'Mathematical analysis', 5), (u'Fixed points (mathematics)', 4), (u'Dynamical systems', 4), (u'Recursion', 3)]\n",
      "     μ: (logarithmic norm: 0.99), (jacobian: 0.83)\n"
     ]
    }
   ],
   "source": [
    "evaluate.find_identifier(clustering, purity_threshold=0.8, id=u'μ', min_size=3, collection_weighting=0)"
   ]
  },
  {
   "cell_type": "code",
   "execution_count": 44,
   "metadata": {
    "collapsed": false,
    "scrolled": true
   },
   "outputs": [
    {
     "name": "stdout",
     "output_type": "stream",
     "text": [
      "doing LSA with 150 components...\n",
      "\n",
      "purity for n=150, k=500 is 0.2082, number of >0.8 clusters: 6\n",
      "purity for n=150, k=1000 is 0.2415, number of >0.8 clusters: 18\n",
      "purity for n=150, k=1500 is 0.2694, number of >0.8 clusters: 37\n",
      "purity for n=150, k=2000 is 0.2868, number of >0.8 clusters: 43\n",
      "purity for n=150, k=2500 is 0.3105, number of >0.8 clusters: 51\n",
      "purity for n=150, k=3000 is 0.3388, number of >0.8 clusters: 86\n",
      "purity for n=150, k=3500 is 0.3584, number of >0.8 clusters: 82\n",
      "purity for n=150, k=4000 is 0.3766, number of >0.8 clusters: 93\n",
      "purity for n=150, k=4500 is 0.3911, number of >0.8 clusters: 100\n",
      "purity for n=150, k=5000 is 0.4156, number of >0.8 clusters: 117\n",
      "purity for n=150, k=5500 is 0.4261, number of >0.8 clusters: 134\n",
      "purity for n=150, k=6000 is 0.4533, number of >0.8 clusters: 151\n",
      "purity for n=150, k=6500 is 0.4736, number of >0.8 clusters: 160\n",
      "purity for n=150, k=7000 is 0.4721, number of >0.8 clusters: 126\n",
      "purity for n=150, k=7500 is 0.5059, number of >0.8 clusters: 175\n",
      "purity for n=150, k=8000 is 0.5208, number of >0.8 clusters: 157\n",
      "purity for n=150, k=8500 is 0.5434, number of >0.8 clusters: 177\n",
      "purity for n=150, k=9000 is 0.5577, number of >0.8 clusters: 164\n",
      "purity for n=150, k=9500 is 0.5760, number of >0.8 clusters: 185\n",
      "purity for n=150, k=10000 is 0.5914, number of >0.8 clusters: 173\n",
      "purity for n=150, k=10500 is 0.6097, number of >0.8 clusters: 188\n",
      "purity for n=150, k=11000 is 0.6242, number of >0.8 clusters: 168\n",
      "purity for n=150, k=11500 is 0.6409, number of >0.8 clusters: 169\n",
      "purity for n=150, k=12000 is 0.6529, number of >0.8 clusters: 169\n",
      "purity for n=150, k=12500 is 0.6715, number of >0.8 clusters: 148\n",
      "purity for n=150, k=13000 is 0.6884, number of >0.8 clusters: 141\n",
      "purity for n=150, k=13500 is 0.7054, number of >0.8 clusters: 158\n",
      "purity for n=150, k=14000 is 0.7159, number of >0.8 clusters: 158\n",
      "purity for n=150, k=14500 is 0.7298, number of >0.8 clusters: 144\n",
      "purity for n=150, k=15000 is 0.7527, number of >0.8 clusters: 140\n",
      "doing LSA with 250 components...\n",
      "\n",
      "purity for n=250, k=500 is 0.2125, number of >0.8 clusters: 9\n",
      "purity for n=250, k=1000 is 0.2463, number of >0.8 clusters: 28\n",
      "purity for n=250, k=1500 is 0.2651, number of >0.8 clusters: 35\n",
      "purity for n=250, k=2000 is 0.2951, number of >0.8 clusters: 54\n",
      "purity for n=250, k=2500 is 0.3187, number of >0.8 clusters: 70\n",
      "purity for n=250, k=3000 is 0.3333, number of >0.8 clusters: 75\n",
      "purity for n=250, k=3500 is 0.3568, number of >0.8 clusters: 80\n",
      "purity for n=250, k=4000 is 0.3740, number of >0.8 clusters: 98\n",
      "purity for n=250, k=4500 is 0.3985, number of >0.8 clusters: 120\n",
      "purity for n=250, k=5000 is 0.4130, number of >0.8 clusters: 124\n",
      "purity for n=250, k=5500 is 0.4340, number of >0.8 clusters: 134\n",
      "purity for n=250, k=6000 is 0.4415, number of >0.8 clusters: 140\n",
      "purity for n=250, k=6500 is 0.4626, number of >0.8 clusters: 147\n",
      "purity for n=250, k=7000 is 0.4757, number of >0.8 clusters: 144\n",
      "purity for n=250, k=7500 is 0.4909, number of >0.8 clusters: 155\n",
      "purity for n=250, k=8000 is 0.5283, number of >0.8 clusters: 175\n",
      "purity for n=250, k=8500 is 0.5471, number of >0.8 clusters: 185\n",
      "purity for n=250, k=9000 is 0.5620, number of >0.8 clusters: 194\n",
      "purity for n=250, k=9500 is 0.5814, number of >0.8 clusters: 200\n",
      "purity for n=250, k=10000 is 0.5939, number of >0.8 clusters: 197\n",
      "purity for n=250, k=10500 is 0.6095, number of >0.8 clusters: 178\n",
      "purity for n=250, k=11000 is 0.6268, number of >0.8 clusters: 178\n",
      "purity for n=250, k=11500 is 0.6463, number of >0.8 clusters: 188\n",
      "purity for n=250, k=12000 is 0.6567, number of >0.8 clusters: 188\n",
      "purity for n=250, k=12500 is 0.6751, number of >0.8 clusters: 161\n",
      "purity for n=250, k=13000 is 0.6938, number of >0.8 clusters: 166\n",
      "purity for n=250, k=13500 is 0.7016, number of >0.8 clusters: 150\n",
      "purity for n=250, k=14000 is 0.7198, number of >0.8 clusters: 129\n",
      "purity for n=250, k=14500 is 0.7291, number of >0.8 clusters: 132\n",
      "purity for n=250, k=15000 is 0.7550, number of >0.8 clusters: 149\n",
      "doing LSA with 350 components...\n",
      "\n",
      "purity for n=350, k=500 is 0.2101, number of >0.8 clusters: 4\n",
      "purity for n=350, k=1000 is 0.2489, number of >0.8 clusters: 28\n",
      "purity for n=350, k=1500 is 0.2760, number of >0.8 clusters: 41\n",
      "purity for n=350, k=2000 is 0.3005, number of >0.8 clusters: 52\n",
      "purity for n=350, k=2500 is 0.3221, number of >0.8 clusters: 60\n",
      "purity for n=350, k=3000 is 0.3446, number of >0.8 clusters: 82\n",
      "purity for n=350, k=3500 is 0.3539, number of >0.8 clusters: 79\n",
      "purity for n=350, k=4000 is 0.3746, number of >0.8 clusters: 104\n",
      "purity for n=350, k=4500 is 0.3977, number of >0.8 clusters: 98\n",
      "purity for n=350, k=5000 is 0.4122, number of >0.8 clusters: 104\n",
      "purity for n=350, k=5500 is 0.4322, number of >0.8 clusters: 141\n",
      "purity for n=350, k=6000 is 0.4446, number of >0.8 clusters: 120\n",
      "purity for n=350, k=6500 is 0.4634, number of >0.8 clusters: 146\n",
      "purity for n=350, k=7000 is 0.4790, number of >0.8 clusters: 162\n",
      "purity for n=350, k=7500 is 0.4917, number of >0.8 clusters: 151\n",
      "purity for n=350, k=8000 is 0.5303, number of >0.8 clusters: 169\n",
      "purity for n=350, k=8500 is 0.5491, number of >0.8 clusters: 187\n",
      "purity for n=350, k=9000 is 0.5648, number of >0.8 clusters: 167\n",
      "purity for n=350, k=9500 is 0.5802, number of >0.8 clusters: 174\n",
      "purity for n=350, k=10000 is 0.5960, number of >0.8 clusters: 171\n",
      "purity for n=350, k=10500 is 0.6141, number of >0.8 clusters: 196\n",
      "purity for n=350, k=11000 is 0.6294, number of >0.8 clusters: 164\n",
      "purity for n=350, k=11500 is 0.6461, number of >0.8 clusters: 197\n",
      "purity for n=350, k=12000 is 0.6616, number of >0.8 clusters: 195\n",
      "purity for n=350, k=12500 is 0.6796, number of >0.8 clusters: 199\n",
      "purity for n=350, k=13000 is 0.6915, number of >0.8 clusters: 149\n",
      "purity for n=350, k=13500 is 0.7068, number of >0.8 clusters: 168\n",
      "purity for n=350, k=14000 is 0.7233, number of >0.8 clusters: 130\n",
      "purity for n=350, k=14500 is 0.7411, number of >0.8 clusters: 148\n",
      "purity for n=350, k=15000 is 0.7547, number of >0.8 clusters: 151\n"
     ]
    }
   ],
   "source": [
    "nmf_km_grid_hyperparam_lp = []\n",
    "nmf_km_grid_hyperparam_res = {}\n",
    "\n",
    "for n in [150, 250, 350]:\n",
    "    print 'doing LSA with %d components...' % n\n",
    "    print\n",
    "\n",
    "\n",
    "    nmf = NMF(n_components=n)\n",
    "    X_red_grid = nmf.fit_transform(X)\n",
    "    X_red_grid = normalizer.fit_transform(X_red_grid)\n",
    "\n",
    "    ks = [k for k in xrange(500, 15001, 500)]\n",
    "\n",
    "    for k in ks:\n",
    "        km_grid = MiniBatchKMeans(n_clusters=k, init_size=k*3, n_init=10, init='random')\n",
    "        km_grid.fit(X_red_grid)\n",
    "\n",
    "        nmf_km_grid_hyperparam_res[(n, k)] = km_grid.labels_\n",
    "        cluster_purity = evaluate.overall_purity(km_grid.labels_)\n",
    "        no_pure_clusters = len(evaluate.high_purity_clusters(km_grid.labels_, threshold=0.8, min_size=3))\n",
    "\n",
    "        nmf_km_grid_hyperparam_lp.append((n, k, cluster_purity, no_pure_clusters))\n",
    "        print 'purity for n=%d, k=%d is %0.4f, number of >0.8 clusters: %d' % (n, k, cluster_purity, no_pure_clusters)"
   ]
  },
  {
   "cell_type": "code",
   "execution_count": 45,
   "metadata": {
    "collapsed": false
   },
   "outputs": [],
   "source": [
    "pickle.dump(nmf_km_grid_hyperparam_res, file('C:/tmp/mlp/namespaces/k-means-def-cleaned-07-20-nmf-graph.bin', 'w'))"
   ]
  },
  {
   "cell_type": "code",
   "execution_count": 48,
   "metadata": {
    "collapsed": false
   },
   "outputs": [
    {
     "data": {
      "text/html": [
       "<div style=\"max-height:1000px;max-width:1500px;overflow:auto;\">\n",
       "<table border=\"1\" class=\"dataframe\">\n",
       "  <thead>\n",
       "    <tr style=\"text-align: right;\">\n",
       "      <th></th>\n",
       "      <th>n</th>\n",
       "      <th>k</th>\n",
       "      <th>purity</th>\n",
       "      <th>sizes</th>\n",
       "    </tr>\n",
       "  </thead>\n",
       "  <tbody>\n",
       "    <tr>\n",
       "      <th>0</th>\n",
       "      <td>150</td>\n",
       "      <td>500</td>\n",
       "      <td>0.208244</td>\n",
       "      <td>6</td>\n",
       "    </tr>\n",
       "    <tr>\n",
       "      <th>1</th>\n",
       "      <td>150</td>\n",
       "      <td>1000</td>\n",
       "      <td>0.241516</td>\n",
       "      <td>18</td>\n",
       "    </tr>\n",
       "    <tr>\n",
       "      <th>2</th>\n",
       "      <td>150</td>\n",
       "      <td>1500</td>\n",
       "      <td>0.269367</td>\n",
       "      <td>37</td>\n",
       "    </tr>\n",
       "    <tr>\n",
       "      <th>3</th>\n",
       "      <td>150</td>\n",
       "      <td>2000</td>\n",
       "      <td>0.286825</td>\n",
       "      <td>43</td>\n",
       "    </tr>\n",
       "    <tr>\n",
       "      <th>4</th>\n",
       "      <td>150</td>\n",
       "      <td>2500</td>\n",
       "      <td>0.310545</td>\n",
       "      <td>51</td>\n",
       "    </tr>\n",
       "  </tbody>\n",
       "</table>\n",
       "</div>"
      ],
      "text/plain": [
       "     n     k    purity  sizes\n",
       "0  150   500  0.208244      6\n",
       "1  150  1000  0.241516     18\n",
       "2  150  1500  0.269367     37\n",
       "3  150  2000  0.286825     43\n",
       "4  150  2500  0.310545     51"
      ]
     },
     "execution_count": 48,
     "metadata": {},
     "output_type": "execute_result"
    }
   ],
   "source": [
    "df_nf = pd.DataFrame(nmf_km_grid_hyperparam_lp, columns=['n', 'k', 'purity', 'sizes'])\n",
    "df_nf.head()"
   ]
  },
  {
   "cell_type": "code",
   "execution_count": 74,
   "metadata": {
    "collapsed": false,
    "scrolled": true
   },
   "outputs": [
    {
     "data": {
      "image/png": "[encoded data removed]",
      "text/plain": [
       "<matplotlib.figure.Figure at 0x4465b7f0>"
      ]
     },
     "metadata": {},
     "output_type": "display_data"
    }
   ],
   "source": [
    "visual = {150: ('black', '-'), 250: ('black', '--'), 350: ('grey', '-')}\n",
    "\n",
    "for n, g in df_nf.groupby('n'):\n",
    "    color, line = visual[n]\n",
    "    med = g.groupby('k').sizes.median()\n",
    "    smoothed = pd.stats.moments.rolling_mean(med, window=3, center=True)\n",
    "    smoothed.plot(figsize=(8, 3), label='$k$ = %d' % n, color=color, linestyle=line)\n",
    "\n",
    "\n",
    "plt.grid(0)\n",
    "plt.xlabel('number of clusters $K$')\n",
    "plt.ylabel('no. pure clusters')\n",
    "plt.legend(loc='lower center', ncol=3)\n",
    "plt.xlim(2000, 14000)\n",
    "plt.ylim(20, 210)\n",
    "\n",
    "plt.tight_layout()\n",
    "plt.savefig('figures/k-vs-kmeans-len-nmf-nodef.pdf', format='pdf')\n",
    "plt.show()"
   ]
  },
  {
   "cell_type": "code",
   "execution_count": 75,
   "metadata": {
    "collapsed": false,
    "scrolled": true
   },
   "outputs": [
    {
     "name": "stdout",
     "output_type": "stream",
     "text": [
      "overall purity 0.5814\n",
      "number of high purity clusters of size at least 5 is 200\n",
      "\n",
      "- Astronomical catalogues (id=739) size=53, purity=0.9811\n",
      "- Complex analysis (id=5994) size=18, purity=0.8333\n",
      "- National Basketball Association seasons (id=1831) size=12, purity=1.0000\n",
      "- Quantum mechanics (id=2435) size=12, purity=0.8333\n",
      "- Mathematical analysis (id=2618) size=10, purity=0.8000\n",
      "- Physics (id=8835) size=9, purity=0.8889\n",
      "- Thermodynamics (id=1264) size=6, purity=0.8333\n",
      "- Astronomical catalogues of stars (id=3644) size=6, purity=1.0000\n",
      "- Knot theory (id=3991) size=6, purity=1.0000\n",
      "- Stochastic processes (id=4552) size=6, purity=1.0000\n",
      "- Physics (id=4572) size=6, purity=0.8333\n",
      "- Stochastic processes (id=5440) size=6, purity=1.0000\n",
      "- Statistics (id=5778) size=6, purity=0.8333\n",
      "- Integral calculus (id=6185) size=6, purity=0.8333\n",
      "- Multivariable calculus (id=6434) size=6, purity=0.8333\n",
      "- Baseball statistics (id=6435) size=6, purity=0.8333\n",
      "- Quantum mechanics (id=6709) size=6, purity=1.0000\n",
      "- Analog circuits (id=7499) size=6, purity=0.8333\n",
      "- Electromagnetism (id=8040) size=6, purity=1.0000\n",
      "- Analytic geometry (id=8203) size=6, purity=0.8333\n",
      "- Combinatorics (id=8435) size=6, purity=0.8333\n",
      "- Statistical theory (id=8676) size=6, purity=0.8333\n",
      "- Dynamical systems (id=8839) size=6, purity=0.8333\n",
      "- Algebraic number theory (id=8994) size=6, purity=0.8333\n",
      "- Numerical analysis (id=161) size=5, purity=0.8000\n",
      "- Abstract algebra (id=446) size=5, purity=0.8000\n",
      "- Medical emergencies (id=660) size=5, purity=0.8000\n",
      "- Abstract algebra (id=1101) size=5, purity=0.8000\n",
      "- Complexity classes (id=1346) size=5, purity=0.8000\n",
      "- General relativity (id=1440) size=5, purity=0.8000\n",
      "- Systems theory (id=1557) size=5, purity=0.8000\n",
      "- Metallic elements (id=1950) size=5, purity=0.8000\n",
      "- Control theory (id=2019) size=5, purity=0.8000\n",
      "- Computational fluid dynamics (id=2364) size=5, purity=0.8000\n",
      "- Thermodynamics (id=2534) size=5, purity=0.8000\n",
      "- Electrical power conversion (id=2649) size=5, purity=0.8000\n",
      "- Electric power (id=2886) size=5, purity=1.0000\n",
      "- Propositional calculus (id=3318) size=5, purity=0.8000\n",
      "- Units of measurement (id=3855) size=5, purity=0.8000\n",
      "- Dynamical systems (id=3948) size=5, purity=1.0000\n",
      "- Quantum mechanics (id=4360) size=5, purity=0.8000\n",
      "- Abstract algebra (id=4412) size=5, purity=0.8000\n",
      "- Encodings (id=4478) size=5, purity=1.0000\n",
      "- Theorems in measure theory (id=4750) size=5, purity=0.8000\n",
      "- Materials science (id=4834) size=5, purity=0.8000\n",
      "- Physics (id=4835) size=5, purity=0.8000\n",
      "- Physics (id=4883) size=5, purity=1.0000\n",
      "- Quantum mechanics (id=4957) size=5, purity=0.8000\n",
      "- Physics (id=5111) size=5, purity=0.8000\n",
      "- Gases (id=5470) size=5, purity=0.8000\n",
      "- Measure theory (id=6093) size=5, purity=0.8000\n",
      "- Differential geometry (id=6150) size=5, purity=1.0000\n",
      "- Figurate numbers (id=6231) size=5, purity=0.8000\n",
      "- Algebraic geometry (id=6382) size=5, purity=1.0000\n",
      "- Partial differential equations (id=6536) size=5, purity=0.8000\n",
      "- Theoretical physics (id=6603) size=5, purity=0.8000\n",
      "- Group theory (id=6634) size=5, purity=1.0000\n",
      "- Thermodynamics (id=7072) size=5, purity=1.0000\n",
      "- Statistics (id=7092) size=5, purity=1.0000\n",
      "- Plasma physics (id=7103) size=5, purity=0.8000\n",
      "- Group theory (id=7111) size=5, purity=1.0000\n",
      "- Baseball statistics (id=7683) size=5, purity=0.8000\n",
      "- Mathematical concepts (id=7686) size=5, purity=0.8000\n",
      "- Set theory (id=8161) size=5, purity=1.0000\n",
      "- Quantum mechanics (id=8206) size=5, purity=0.8000\n",
      "- Quantum field theory (id=8213) size=5, purity=0.8000\n",
      "- Keelboats (id=8831) size=5, purity=1.0000\n",
      "- Cardinal numbers (id=8966) size=5, purity=1.0000\n",
      "- Statistical mechanics (id=9145) size=5, purity=1.0000\n",
      "- Probability theory (id=401) size=4, purity=1.0000\n",
      "- Cartographic projections (id=832) size=4, purity=1.0000\n",
      "- Mechanics (id=1862) size=4, purity=1.0000\n",
      "- Triangle geometry (id=1865) size=4, purity=1.0000\n",
      "- Algebraic curves (id=1893) size=4, purity=1.0000\n",
      "- Mechanics (id=2159) size=4, purity=1.0000\n",
      "- Electromagnetism (id=2502) size=4, purity=1.0000\n",
      "- Transforms (id=2868) size=4, purity=1.0000\n",
      "- Financial markets (id=2981) size=4, purity=1.0000\n",
      "- Thermodynamics (id=3508) size=4, purity=1.0000\n",
      "- Set theory (id=3679) size=4, purity=1.0000\n",
      "- Algebraic geometry (id=3852) size=4, purity=1.0000\n",
      "- Theories of gravitation (id=3945) size=4, purity=1.0000\n",
      "- Group theory (id=4025) size=4, purity=1.0000\n",
      "- Synthetic elements (id=4464) size=4, purity=1.0000\n",
      "- Group theory (id=4533) size=4, purity=1.0000\n",
      "- Logical truth (id=4669) size=4, purity=1.0000\n",
      "- Triangle geometry (id=6609) size=4, purity=1.0000\n",
      "- Abstract algebra (id=6858) size=4, purity=1.0000\n",
      "- Quantum mechanics (id=7606) size=4, purity=1.0000\n",
      "- Computational geometry (id=7702) size=4, purity=1.0000\n",
      "- Waves (id=7901) size=4, purity=1.0000\n",
      "- Algebraic curves (id=8411) size=4, purity=1.0000\n",
      "- Fluid mechanics (id=8420) size=4, purity=1.0000\n",
      "- Geophysics (id=8688) size=4, purity=1.0000\n",
      "- Databases (id=8815) size=4, purity=1.0000\n",
      "- Quantum mechanics (id=8982) size=4, purity=1.0000\n",
      "- Differential equations (id=9446) size=4, purity=1.0000\n",
      "- Probability distributions (id=3) size=3, purity=1.0000\n",
      "- Fluid dynamics (id=20) size=3, purity=1.0000\n",
      "- Number theory (id=113) size=3, purity=1.0000\n",
      "- Euclidean plane geometry (id=228) size=3, purity=1.0000\n",
      "- Enzyme kinetics (id=243) size=3, purity=1.0000\n",
      "- Differential geometry (id=265) size=3, purity=1.0000\n",
      "- Fields of finance (id=316) size=3, purity=1.0000\n",
      "- Differential equations (id=587) size=3, purity=1.0000\n",
      "- Quantum mechanics (id=672) size=3, purity=1.0000\n",
      "- Thermodynamics (id=730) size=3, purity=1.0000\n",
      "- Quantum mechanics (id=732) size=3, purity=1.0000\n",
      "- Chaos theory (id=771) size=3, purity=1.0000\n",
      "- Dimensionless numbers (id=872) size=3, purity=1.0000\n",
      "- Fields of mathematics (id=1305) size=3, purity=1.0000\n",
      "- Functions and mappings (id=1438) size=3, purity=1.0000\n",
      "- Physical cosmology (id=1661) size=3, purity=1.0000\n",
      "- Mathematical analysis (id=1844) size=3, purity=1.0000\n",
      "- General topology (id=1911) size=3, purity=1.0000\n",
      "- Fluid dynamics (id=2121) size=3, purity=1.0000\n",
      "- Theory of relativity (id=2125) size=3, purity=1.0000\n",
      "- Probability theory (id=2139) size=3, purity=1.0000\n",
      "- Mechanics (id=2156) size=3, purity=1.0000\n",
      "- Theory of relativity (id=2215) size=3, purity=1.0000\n",
      "- Coordinate systems (id=2225) size=3, purity=1.0000\n",
      "- Measure theory (id=2239) size=3, purity=1.0000\n",
      "- Statistics (id=2424) size=3, purity=1.0000\n",
      "- Fluid dynamics (id=2442) size=3, purity=1.0000\n",
      "- Condensed matter physics (id=2579) size=3, purity=1.0000\n",
      "- Propositional calculus (id=2705) size=3, purity=1.0000\n",
      "- Stochastic processes (id=2720) size=3, purity=1.0000\n",
      "- Force (id=2803) size=3, purity=1.0000\n",
      "- Electronic engineering (id=2908) size=3, purity=1.0000\n",
      "- Differential equations (id=3007) size=3, purity=1.0000\n",
      "- Measurement (id=3186) size=3, purity=1.0000\n",
      "- Surfaces (id=3194) size=3, purity=1.0000\n",
      "- General relativity (id=3202) size=3, purity=1.0000\n",
      "- Mathematical analysis (id=3286) size=3, purity=1.0000\n",
      "- Signal processing (id=3301) size=3, purity=1.0000\n",
      "- Chemical data pages (id=3338) size=3, purity=1.0000\n",
      "- Quantum optics (id=3431) size=3, purity=1.0000\n",
      "- Linear algebra (id=3549) size=3, purity=1.0000\n",
      "- Theoretical physics (id=3802) size=3, purity=1.0000\n",
      "- Analytic number theory (id=3989) size=3, purity=1.0000\n",
      "- Linear algebra (id=4114) size=3, purity=1.0000\n",
      "- Magnetism (id=4156) size=3, purity=1.0000\n",
      "- Analog circuits (id=4206) size=3, purity=1.0000\n",
      "- Optics (id=4263) size=3, purity=1.0000\n",
      "- Quantum mechanics (id=4543) size=3, purity=1.0000\n",
      "- Mathematical analysis (id=4785) size=3, purity=1.0000\n",
      "- Astronomical objects (id=4836) size=3, purity=1.0000\n",
      "- Mathematical analysis (id=4911) size=3, purity=1.0000\n",
      "- Polyhedra (id=4953) size=3, purity=1.0000\n",
      "- General relativity (id=4954) size=3, purity=1.0000\n",
      "- Combinatorics (id=5015) size=3, purity=1.0000\n",
      "- Gravitation (id=5096) size=3, purity=1.0000\n",
      "- Materials science (id=5327) size=3, purity=1.0000\n",
      "- Structural engineering (id=5357) size=3, purity=1.0000\n",
      "- Renal physiology (id=5399) size=3, purity=1.0000\n",
      "- Special hypergeometric functions (id=5525) size=3, purity=1.0000\n",
      "- Differential equations (id=5747) size=3, purity=1.0000\n",
      "- Mathematical analysis (id=5813) size=3, purity=1.0000\n",
      "- Radio technology (id=5847) size=3, purity=1.0000\n",
      "- Probability distributions (id=5887) size=3, purity=1.0000\n",
      "- Stochastic processes (id=5907) size=3, purity=1.0000\n",
      "- Theories of gravitation (id=5914) size=3, purity=1.0000\n",
      "- Graph algorithms (id=6038) size=3, purity=1.0000\n",
      "- Dynamics (id=6191) size=3, purity=1.0000\n",
      "- Physical layer protocols (id=6249) size=3, purity=1.0000\n",
      "- Statistics (id=6294) size=3, purity=1.0000\n",
      "- Surfaces (id=6322) size=3, purity=1.0000\n",
      "- Mathematical optimization (id=6324) size=3, purity=1.0000\n",
      "- Lagrangian mechanics (id=6387) size=3, purity=1.0000\n",
      "- Probability distributions (id=6655) size=3, purity=1.0000\n",
      "- Differential geometry (id=6676) size=3, purity=1.0000\n",
      "- Homological algebra (id=6767) size=3, purity=1.0000\n",
      "- Probability distributions (id=6796) size=3, purity=1.0000\n",
      "- Electromagnetism (id=7104) size=3, purity=1.0000\n",
      "- Riemannian geometry (id=7179) size=3, purity=1.0000\n",
      "- Statistics (id=7285) size=3, purity=1.0000\n",
      "- Calculus (id=7359) size=3, purity=1.0000\n",
      "- Automata theory (id=7625) size=3, purity=1.0000\n",
      "- Telecommunications engineering (id=7647) size=3, purity=1.0000\n",
      "- Mathematical optimization (id=7714) size=3, purity=1.0000\n",
      "- Solid state engineering (id=7821) size=3, purity=1.0000\n",
      "- Linear algebra (id=7856) size=3, purity=1.0000\n",
      "- Plasma physics (id=7907) size=3, purity=1.0000\n",
      "- Calculus of variations (id=7962) size=3, purity=1.0000\n",
      "- Group theory (id=8259) size=3, purity=1.0000\n",
      "- Group theory (id=8409) size=3, purity=1.0000\n",
      "- General relativity (id=8454) size=3, purity=1.0000\n",
      "- Algebra (id=8577) size=3, purity=1.0000\n",
      "- E (mathematical constant) (id=8591) size=3, purity=1.0000\n",
      "- Stellar astronomy (id=8685) size=3, purity=1.0000\n",
      "- Differential geometry (id=8705) size=3, purity=1.0000\n",
      "- Linear algebra (id=8826) size=3, purity=1.0000\n",
      "- Category theory (id=8908) size=3, purity=1.0000\n",
      "- Prime numbers (id=9089) size=3, purity=1.0000\n",
      "- Waves (id=9123) size=3, purity=1.0000\n",
      "- Mathematical logic hierarchies (id=9125) size=3, purity=1.0000\n",
      "- Doppler effects (id=9186) size=3, purity=1.0000\n",
      "- Particle physics (id=9239) size=3, purity=1.0000\n",
      "- Network flow (id=9345) size=3, purity=1.0000\n",
      "- Abstract algebra (id=9353) size=3, purity=1.0000\n"
     ]
    }
   ],
   "source": [
    "clustering = nmf_km_grid_hyperparam_res[(250, 9500)]\n",
    "evaluate.report_overall(clustering, purity_threshold=0.8, min_size=3, sort_by='size')"
   ]
  },
  {
   "cell_type": "code",
   "execution_count": 76,
   "metadata": {
    "collapsed": false,
    "scrolled": true
   },
   "outputs": [
    {
     "name": "stdout",
     "output_type": "stream",
     "text": [
      "cluster 5778, size: 6\n",
      "- Pivotal quantity (categories: Statistics, Statistical theory, Scientific theories) s_Y s_X X_n X_i ζ θ ν μ ρ σ N Y_i Y X g n s r X_2 X_1 x z\n",
      "- Errors and residuals in statistics (categories: Statistics, Statistical data types, Measurement, Mathematical optimization, Statistical theory, ...) σ χ X_n ε_i X_i n X_1 X N μ S_n\n",
      "- Prediction interval (categories: Statistics, Statistical data types, Mathematical optimization, Data analysis, Econometrics, ...) Pr x_d x_i ϵ_d X_n ϵ_i X_i α γ β y_i y_d μ s_n σ E χ T_a N P T X Z S_n g Φ l n p s u t X_1 y z\n",
      "- Cochran's theorem (categories: Mathematical theorems, Statistical theory, Probability distributions, Statistical theorems, Characterization of probability distributions) Q_k Q_i X_i r_i N_n r_k μ σ B χ U_k U_j U_i R U T Y X r_1 k j n Q_2 Q_1\n",
      "- Skewness (categories: Statistics, Probability theory, Probability distributions, Theory of probability distributions, Statistical deviation and dispersion) Pr G_1 x_i γ_1 κ_3 k_3 k_2 μ_3 γ m_3 κ ν μ σ E G F g_1 Y X g k m l n p s u t x skew\n",
      "- Variance (categories: Statistics, Probability theory, Probability distributions, Analysis, Data analysis, ...) SS_regression p_i X_N j x_j C x_i c_1 θ_2 θ_1 SS_total y Σ MS_between X_n MS_within X_j X_i SS_within y_k y_j y_i MS_regression θ λ κ μ t ρ π σ E y_min χ φ H μ_4 c_n P R SS_residual SS_between Y X N MS_total c b d f SS k y_max m l n p s u MS_residual MS X_1 σ_y x T\n",
      "\n",
      "common terms: (X σ μ n)\n",
      "top categories: (Statistics, 5), (Statistical theory, 3), (Probability distributions, 3), (Statistical deviation and dispersion, 3), (Data analysis, 3)\n",
      "purity: 0.833\n",
      "relations:\n",
      "     B: (matrix: 0.96), (rank: 0.83)\n",
      "     E: (non-central moment: 0.92), (expectation operator: 0.88), (standard deviation: 0.86)\n",
      "     F: (cumulative distribution function: 0.89)\n",
      "     N: (distribution*: 3.80)\n",
      "     Q_1: (rank: 0.93)\n",
      "     Q_2: (rank: 0.95)\n",
      "     Q_i: (rank: 0.91)\n",
      "     S_n: (sample mean*: 1.80), (standard deviation: 0.83)\n",
      "     X: (sample*: 3.52), (normal distribution*: 1.77), (future observation: 0.97), (standard score: 0.92), (estimate: 0.90)\n",
      "     X_1: (observables*: 1.78), (sample: 0.89)\n",
      "     X_n: (next sample variable: 0.91), (experiments: 0.88), (future observation: 0.82), (confidence intervals: 0.80)\n",
      "     Y: (second cumulant*: 1.85), (sample variances: 0.83)\n",
      "     f: (probability density function: 0.99), (continuous: 0.89)\n",
      "     g: (distribution: 0.86), (pivotal quantity: 0.83)\n",
      "     g_1: (sample skewness: 0.99), (biased estimator: 0.83)\n",
      "     k: (index: 0.99), (satisfies: 0.99), (elements b_j: 0.93), (pareto distribution: 0.89), (symmetric matrices: 0.89)\n",
      "     k_2: (cumulant: 0.93), (unbiased estimator: 0.83)\n",
      "     k_3: (population skewness: 0.81)\n",
      "     l: (prediction interval: 0.95)\n",
      "     m_3: (sample mean*: 1.82)\n",
      "     n: (sample*: 4.42), (normal distribution*: 2.56), (size: 1.84), (variance: 1.75), (people: 0.96), (yields: 0.96), (degrees of freedom: 0.94), (second term: 0.86), (maximum likelihood estimator: 0.86), (unbiased estimate: 0.86), (finite samples sizes: 0.84), (independent and identically distributed random variables: 0.83)\n",
      "     r: (sample statistic: 0.99), (normal distribution: 0.83)\n",
      "     r_i: (degrees of freedom: 0.95), (chi-squared distribution: 0.91), (rank: 0.89)\n",
      "     s: (sample variance*: 3.66), (choices: 0.88), (standard deviation: 0.83)\n",
      "     skew: (qualitative interpretation: 0.85), (distribution: 0.83)\n",
      "     u: (range: 0.86), (prediction interval: 0.83), (future observation: 0.83)\n",
      "     x: (sample mean*: 1.68), (observation: 0.96), (new value: 0.93), (probability density function: 0.89), (definite integrals: 0.89), (z-score: 0.89), (range: 0.83)\n",
      "     x_d: (explanatory value: 0.96)\n",
      "     x_i: (response variable*: 1.84)\n",
      "     y_d: (expected value*: 1.73), (response value: 0.96), (prediction interval: 0.83)\n",
      "     y_i: (response variable: 0.89), (straight line regression: 0.83)\n",
      "     z: (transformation: 1.88), (quantile: 1.84), (distribution: 1.81), (fishers*: 1.77), (correlation coefficient: 0.81)\n",
      "     α: (estimates: 0.94), (slope: 0.88), (random error term: 0.86)\n",
      "     β: (estimates: 0.84)\n",
      "     γ: (skewness: 0.91)\n",
      "     γ_1: (standardized moment: 0.89)\n",
      "     κ_3: (cumulant: 0.99)\n",
      "     λ: (exponential distribution*: 1.79)\n",
      "     μ: (variance*: 3.52), (population mean*: 2.76), (normal distribution*: 2.64), (unknown mean*: 2.58), (standard deviation: 1.90), (estimates*: 1.76), (central moment: 0.96), (confidence interval: 0.91)\n",
      "     μ_3: (central moment: 0.83)\n",
      "     ν: (mean*: 3.62)\n",
      "     ρ: (correlation: 0.99), (estimator: 0.89), (sample: 0.86), (normal distribution: 0.81)\n",
      "     σ: (standard deviation*: 4.61), (variance*: 2.76), (median: 0.89), (note: 0.88), (central moment: 0.83), (pivotal quantity: 0.83), (continuous distribution: 0.82), (individuals: 0.81)\n"
     ]
    }
   ],
   "source": [
    "evaluate.print_cluster(clustering, 5778)"
   ]
  },
  {
   "cell_type": "code",
   "execution_count": 77,
   "metadata": {
    "collapsed": false,
    "scrolled": true
   },
   "outputs": [
    {
     "name": "stdout",
     "output_type": "stream",
     "text": [
      "overall purity 0.5814\n",
      "number of high purity clusters of size at least 5 is 200\n",
      "\n",
      "category \"Probability distributions\", cluster_id=3, size=3:\n",
      "top categories: [(u'Probability distributions', 3), (u'Continuous distributions', 2), (u'Statistical data types', 2), (u'Directional statistics', 2), (u'Exponential family distributions', 2)]\n",
      "     μ: (mean direction: 0.95), (second cumulant: 0.85), (argument: 0.83), (moment: 0.82)\n",
      "category \"Number theory\", cluster_id=113, size=3:\n",
      "top categories: [(u'Number theory', 3), (u'Numbers', 3), (u'Recreational mathematics', 2), (u'Analytic number theory', 2), (u'Combinatorics', 2)]\n",
      "     μ: (measure*: 3.63), (equivalent: 0.88), (preserves: 0.83)\n",
      "category \"Numerical analysis\", cluster_id=161, size=5:\n",
      "top categories: [(u'Numerical analysis', 4), (u'Algorithms', 4), (u'Root-finding algorithms', 3), (u'Zero', 3), (u'Optimization algorithms and methods', 2)]\n",
      "     μ: (step size: 0.93), (gradient descent: 0.84), (scale: 0.81)\n",
      "category \"Probability theory\", cluster_id=401, size=4:\n",
      "top categories: [(u'Probability theory', 4), (u'Statistics', 2), (u'Probability', 2), (u'Stochastic processes', 2), (u'Applied mathematics', 2)]\n",
      "     μ: (mean: 0.95)\n",
      "category \"Quantum mechanics\", cluster_id=672, size=3:\n",
      "top categories: [(u'Quantum mechanics', 3), (u'Physics', 2), (u'Theoretical physics', 2), (u'Particle physics', 2), (u'Periodic phenomena', 1)]\n",
      "     μ: (identity matrix: 0.95), (pauli matrices: 0.95)\n",
      "category \"Quantum mechanics\", cluster_id=732, size=3:\n",
      "top categories: [(u'Quantum mechanics', 3), (u'Nuclear physics', 1), (u'Quantum chemistry', 1), (u'Electronic band structures', 1), (u'Semiconductor material structures', 1)]\n",
      "     μ: (mass: 0.89), (spherically symmetric potential: 0.86)\n",
      "category \"Thermodynamics\", cluster_id=1264, size=6:\n",
      "top categories: [(u'Thermodynamics', 5), (u'Physical chemistry', 4), (u'Force', 3), (u'Applied and interdisciplinary physics', 2), (u'Branches of thermodynamics', 2)]\n",
      "     μ: (chemical potential*: 2.57), (component: 0.87), (concept: 0.81)\n",
      "category \"Functions and mappings\", cluster_id=1438, size=3:\n",
      "top categories: [(u'Functions and mappings', 3), (u'Complex analysis', 2), (u'Limits (mathematics)', 2), (u'Sequences and series', 2), (u'Mathematical analysis', 2)]\n",
      "     μ: (lebesgue measure: 0.91)\n",
      "category \"Systems theory\", cluster_id=1557, size=5:\n",
      "top categories: [(u'Systems theory', 4), (u'Control theory', 3), (u'Cybernetics', 3), (u'Fields of mathematics', 2), (u'Mathematical analysis', 2)]\n",
      "     μ: (earths gravity: 0.93), (dynamic viscosity: 0.93)\n",
      "category \"Algebraic curves\", cluster_id=1893, size=4:\n",
      "top categories: [(u'Algebraic curves', 4), (u'Public-key cryptography', 4), (u'Elliptic curve cryptography', 4), (u'Elliptic functions', 4), (u'Abelian varieties', 4)]\n",
      "     μ: (first: 0.93), (root: 0.87), (transformation: 0.81)\n",
      "category \"Theory of relativity\", cluster_id=2125, size=3:\n",
      "top categories: [(u'Theory of relativity', 3), (u'Special relativity', 3), (u'Modern physics', 2), (u'Spacetime', 2), (u'Theoretical physics', 2)]\n",
      "     μ: (velocity component: 0.93), (chain rule: 0.87)\n",
      "category \"Theory of relativity\", cluster_id=2215, size=3:\n",
      "top categories: [(u'Theory of relativity', 3), (u'Special relativity', 3), (u'Physics', 3), (u'Concepts by field', 2), (u'Concepts in physics', 2)]\n",
      "     μ: (four-velocity: 0.87)\n",
      "category \"Coordinate systems\", cluster_id=2225, size=3:\n",
      "top categories: [(u'Coordinate systems', 3), (u'Cartography', 3), (u'Conceptual systems', 3), (u'Analytic geometry', 3), (u'Mathematical notation', 3)]\n",
      "     μ: (form: 1.81), (ellipses: 0.91), (line segment: 0.88), (elliptical prism: 0.87), (curves: 0.86), (real number: 0.81)\n",
      "category \"Measure theory\", cluster_id=2239, size=3:\n",
      "top categories: [(u'Measure theory', 3), (u'Metric geometry', 2), (u'Mathematical analysis', 2), (u'Geometry', 2), (u'Applied mathematics', 2)]\n",
      "     μ: (probability measures*: 3.81), (marginals: 1.78), (idempotent measure*: 1.73), (convolution: 0.99), (push forward: 0.91), (couplings: 0.88), (metric group x: 0.83)\n",
      "category \"Quantum mechanics\", cluster_id=2435, size=12:\n",
      "top categories: [(u'Quantum mechanics', 10), (u'Quantum field theory', 10), (u'Theoretical physics', 10), (u'Particle physics', 10), (u'Quantum chromodynamics', 3)]\n",
      "     μ: (gamma matrices: 1.78), (dirac: 0.89), (ψand: 0.89)\n",
      "category \"Electromagnetism\", cluster_id=2502, size=4:\n",
      "top categories: [(u'Electromagnetism', 4), (u'Force', 3), (u'Special relativity', 3), (u'Physics', 3), (u'Electrodynamics', 2)]\n",
      "     μ: (gauge condition: 0.99), (lorenz: 0.95), (4-gradient: 0.95), (electromagnetic four-potential: 0.83)\n",
      "category \"Condensed matter physics\", cluster_id=2579, size=3:\n",
      "top categories: [(u'Condensed matter physics', 3), (u'Materials science', 2), (u'Magnetism', 2), (u'Chemical physics', 2), (u'Electric and magnetic fields in matter', 2)]\n",
      "     μ: (magnetic permeability: 0.99)\n",
      "category \"Stochastic processes\", cluster_id=2720, size=3:\n",
      "top categories: [(u'Stochastic processes', 3), (u'Statistics', 2), (u'Statistical data types', 2), (u'Probability theory', 2), (u'Differential equations', 1)]\n",
      "     μ: (expectation: 0.96), (normally distributed: 0.86)\n",
      "category \"Force\", cluster_id=2803, size=3:\n",
      "top categories: [(u'Force', 3), (u'Special relativity', 3), (u'Physics', 3), (u'Electromagnetism', 3), (u'Multilinear algebra', 2)]\n",
      "     μ: (th-component: 0.95), (flux: 0.89)\n",
      "category \"Financial markets\", cluster_id=2981, size=4:\n",
      "top categories: [(u'Financial markets', 4), (u'Derivatives (finance)', 3), (u'Financial economics', 2), (u'Options', 2), (u'Investment', 2)]\n",
      "     μ: (drift rate: 0.89)\n",
      "category \"Differential equations\", cluster_id=3007, size=3:\n",
      "top categories: [(u'Differential equations', 3), (u'Stochastic processes', 3), (u'Stochastic differential equations', 3), (u'Measures (measure theory)', 1), (u'Measure theory', 1)]\n",
      "     μ: (invariant measure: 2.73)\n",
      "category \"Set theory\", cluster_id=3679, size=4:\n",
      "top categories: [(u'Set theory', 4), (u'Mathematical logic', 2), (u'Set theorists', 1), (u'Mathematicians by field', 1), (u'Fields of mathematics', 1)]\n",
      "     μ: (cardinals: 1.79), (order type: 0.97), (equality: 0.89), (subset: 0.88)\n",
      "category \"Theories of gravitation\", cluster_id=3945, size=4:\n",
      "top categories: [(u'Theories of gravitation', 4), (u'Gravitation', 3), (u'Theoretical physics', 3), (u'Scientific theories', 3), (u'Physical cosmology', 2)]\n",
      "     μ: (indices: 1.94), (nonzero: 0.95), (summation: 0.89), (acceleration: 0.83)\n",
      "category \"Dynamical systems\", cluster_id=3948, size=5:\n",
      "top categories: [(u'Dynamical systems', 5), (u'Thermodynamics', 4), (u'Physical chemistry', 4), (u'Engineering concepts', 4), (u'Physics', 4)]\n",
      "     μ: (entropy: 0.93), (chemical potential: 0.87), (mean: 0.87), (molecular weight: 0.81)\n",
      "category \"Magnetism\", cluster_id=4156, size=3:\n",
      "top categories: [(u'Magnetism', 3), (u'Electromagnetism', 3), (u'Magnetostatics', 2), (u'Materials science', 2), (u'Condensed matter physics', 2)]\n",
      "     μ: (magnetic moment*: 1.90), (ampere-meter: 0.92), (permeability: 0.86), (symbol: 0.83)\n",
      "category \"Quantum mechanics\", cluster_id=4360, size=5:\n",
      "top categories: [(u'Quantum mechanics', 4), (u'Physics', 3), (u'Theoretical physics', 3), (u'Particle physics', 3), (u'Rotational symmetry', 2)]\n",
      "     μ: (magnetic moment: 0.99), (spin-1 / 2: 0.89), (particle: 0.83)\n",
      "category \"Quantum mechanics\", cluster_id=4543, size=3:\n",
      "top categories: [(u'Quantum mechanics', 3), (u'Physics', 3), (u'Mechanics', 2), (u'Theoretical physics', 2), (u'Modern physics', 2)]\n",
      "     μ: (magnetic moment: 0.89)\n",
      "category \"Stochastic processes\", cluster_id=4552, size=6:\n",
      "top categories: [(u'Stochastic processes', 6), (u'Statistics', 4), (u'Probability theory', 4), (u'Statistical data types', 4), (u'Time series analysis', 1)]\n",
      "     μ: (time t: 0.99), (mean: 0.89), (arbitrary drift parameter: 0.89), (stock: 0.89)\n",
      "category \"Gravitation\", cluster_id=5096, size=3:\n",
      "top categories: [(u'Gravitation', 3), (u'Periodic phenomena', 3), (u'Orbits', 3), (u'Celestial mechanics', 3), (u'Dynamics of the Solar System', 3)]\n",
      "     μ: (semi-major axis: 0.89), (position: 0.87)\n",
      "category \"Stochastic processes\", cluster_id=5440, size=6:\n",
      "top categories: [(u'Stochastic processes', 6), (u'Probability theory', 4), (u'Statistics', 3), (u'Statistical data types', 3), (u'Probability theorems', 2)]\n",
      "     μ: (free rate: 0.95), (assets drift: 0.95), (instanteaneous risk: 0.89)\n",
      "category \"Statistics\", cluster_id=5778, size=6:\n",
      "top categories: [(u'Statistics', 5), (u'Statistical theory', 3), (u'Probability distributions', 3), (u'Statistical deviation and dispersion', 3), (u'Data analysis', 3)]\n",
      "     μ: (variance*: 3.52), (population mean*: 2.76), (normal distribution*: 2.64), (unknown mean*: 2.58), (standard deviation: 1.90), (estimates*: 1.76), (central moment: 0.96), (confidence interval: 0.91)\n",
      "category \"Probability distributions\", cluster_id=5887, size=3:\n",
      "top categories: [(u'Probability distributions', 3), (u'Continuous distributions', 2), (u'Analytic number theory', 1), (u'Infinitely divisible probability distributions', 1), (u'Factorial and binomial topics', 1)]\n",
      "     μ: (confidence interval*: 2.77), (distribution: 0.89), (poisson: 0.83)\n",
      "category \"Complex analysis\", cluster_id=5994, size=18:\n",
      "top categories: [(u'Complex analysis', 15), (u'Mathematical analysis', 10), (u'Theorems in analysis', 5), (u'Types of functions', 4), (u'Theorems in complex analysis', 4)]\n",
      "     μ: (bers: 0.81), (measurable function: 0.81)\n",
      "category \"Measure theory\", cluster_id=6093, size=5:\n",
      "top categories: [(u'Measure theory', 4), (u'Measures (measure theory)', 3), (u'Mathematical analysis', 2), (u'Engineering equipment', 1), (u'Fields of mathematics', 1)]\n",
      "     μ: (measure*: 8.15), (rate: 0.94), (intensity: 0.88), (variation: 0.86), (poisson random variable: 0.84), (family: 0.83), (& sigma ; - algebra: 0.81)\n",
      "category \"Statistics\", cluster_id=6294, size=3:\n",
      "top categories: [(u'Statistics', 3), (u'Summary statistics', 2), (u'Geological history of Earth', 1), (u'Fields of mathematics', 1), (u'Statistical dependence', 1)]\n",
      "     μ: (mean*: 1.85)\n",
      "category \"Multivariable calculus\", cluster_id=6434, size=6:\n",
      "top categories: [(u'Multivariable calculus', 5), (u'Differential equations', 5), (u'Partial differential equations', 4), (u'Operator theory', 3), (u'Differential operators', 2)]\n",
      "     μ: (measures*: 1.82), (equivalence class: 0.89), (non-negative countably: 0.87)\n",
      "category \"Probability distributions\", cluster_id=6655, size=3:\n",
      "top categories: [(u'Probability distributions', 3), (u'Continuous distributions', 2), (u'Discrete distributions', 1), (u'Exponential family distributions', 1), (u'Probability distributions with non-finite variance', 1)]\n",
      "     μ: (laplace*: 3.42), (mean*: 1.67), (combination: 0.88), (coefficient of variation: 0.86), (location parameter: 0.86)\n",
      "category \"Quantum mechanics\", cluster_id=6709, size=6:\n",
      "top categories: [(u'Quantum mechanics', 6), (u'Theoretical physics', 5), (u'Particle physics', 5), (u'Mechanics', 4), (u'Philosophy of physics', 4)]\n",
      "     μ: (magnetic moment: 0.87)\n",
      "category \"Probability distributions\", cluster_id=6796, size=3:\n",
      "top categories: [(u'Probability distributions', 3), (u'Statistical data types', 3), (u'Directional statistics', 3), (u'Continuous distributions', 2), (u'Statistics', 1)]\n",
      "     μ: (scale factor: 1.84), (location parameter: 1.72)\n",
      "category \"Abstract algebra\", cluster_id=6858, size=4:\n",
      "top categories: [(u'Abstract algebra', 4), (u'Category theory', 2), (u'Combinatorics', 2), (u'Group theory', 2), (u'Algebra', 2)]\n",
      "     μ: (lebesgue measure: 0.83)\n",
      "category \"Telecommunications engineering\", cluster_id=7647, size=3:\n",
      "top categories: [(u'Telecommunications engineering', 3), (u'Signal processing', 3), (u'Fields of application of statistics', 3), (u'Applied mathematics', 3), (u'Electrical engineering', 3)]\n",
      "     μ: (yield: 0.93), (windows: 0.91), (dolph: 0.84), (patterns: 0.81)\n",
      "category \"Solid state engineering\", cluster_id=7821, size=3:\n",
      "top categories: [(u'Solid state engineering', 3), (u'Physics', 3), (u'Mechanics', 2), (u'Experimental physics', 2), (u'Nature', 2)]\n",
      "     μ: (charge: 0.93), (magnetic moment: 0.87)\n",
      "category \"Calculus of variations\", cluster_id=7962, size=3:\n",
      "top categories: [(u'Calculus of variations', 3), (u'Mathematical analysis', 3), (u'Optimization in vector spaces', 3), (u'Functional analysis', 3), (u'Differential equations', 3)]\n",
      "     μ: (time: 1.65), (fields: 0.88), (index: 0.83)\n",
      "category \"Electromagnetism\", cluster_id=8040, size=6:\n",
      "top categories: [(u'Electromagnetism', 6), (u'Physics', 5), (u'Special relativity', 3), (u'Force', 3), (u'Electrodynamics', 3)]\n",
      "     μ: (permeability*: 1.90), (quantities: 0.92), (lorentz-heaviside: 0.82)\n",
      "category \"Quantum mechanics\", cluster_id=8206, size=5:\n",
      "top categories: [(u'Quantum mechanics', 4), (u'Physics', 4), (u'Theoretical physics', 4), (u'Particle physics', 4), (u'Philosophy of physics', 3)]\n",
      "     μ: (magnetic dipole moment: 0.96)\n",
      "category \"Quantum field theory\", cluster_id=8213, size=5:\n",
      "top categories: [(u'Quantum field theory', 4), (u'Quantum mechanics', 3), (u'Theoretical physics', 3), (u'Particle physics', 3), (u'Quantum electronics', 1)]\n",
      "     μ: (field: 0.81)\n",
      "category \"Group theory\", cluster_id=8409, size=3:\n",
      "top categories: [(u'Group theory', 3), (u'Abstract algebra', 3), (u'Galois theory', 2), (u'Number theory', 2), (u'Field theory', 2)]\n",
      "     μ: (tate module*: 1.76), (galois: 0.95), (denote: 0.93)\n",
      "category \"Algebra\", cluster_id=8577, size=3:\n",
      "top categories: [(u'Algebra', 3), (u'Elementary algebra', 2), (u'Elementary mathematics', 2), (u'Group theory', 1), (u'Numerical analysis', 1)]\n",
      "     μ: (following form: 0.83)\n",
      "category \"Statistical theory\", cluster_id=8676, size=6:\n",
      "top categories: [(u'Statistical theory', 5), (u'Control theory', 5), (u'Signal processing', 5), (u'Estimation theory', 5), (u'Telecommunication theory', 5)]\n",
      "     μ: (known mean: 0.99), (unknown variance: 0.95)\n",
      "category \"Physics\", cluster_id=8835, size=9:\n",
      "top categories: [(u'Physics', 8), (u'Solid state engineering', 7), (u'Quantum mechanics', 5), (u'Modern physics', 4), (u'Philosophy of physics', 4)]\n",
      "     μ: (chemical potential: 0.89)\n",
      "category \"Dynamical systems\", cluster_id=8839, size=6:\n",
      "top categories: [(u'Dynamical systems', 5), (u'Functions and mappings', 5), (u'Chaos theory', 4), (u'Fractals', 4), (u'Chaotic maps', 4)]\n",
      "     μ: (tent map: 1.71), (bit shift map: 0.86)\n",
      "category \"Cardinal numbers\", cluster_id=8966, size=5:\n",
      "top categories: [(u'Cardinal numbers', 5), (u'Infinity', 5), (u'Set theory', 4), (u'Ordinal numbers', 4), (u'Numbers', 4)]\n",
      "     μ: (commutative: 0.83)\n",
      "category \"Doppler effects\", cluster_id=9186, size=3:\n",
      "top categories: [(u'Doppler effects', 3), (u'Physical phenomena', 3), (u'Astrophysics', 3), (u'Wave mechanics', 3), (u'Radio frequency propagation', 2)]\n",
      "     μ: (spatial resolution: 0.95), (flow velocity: 0.83)\n"
     ]
    }
   ],
   "source": [
    "evaluate.find_identifier(clustering, purity_threshold=0.8, id=u'μ', min_size=3, collection_weighting=0)"
   ]
  },
  {
   "cell_type": "markdown",
   "metadata": {},
   "source": [
    "Effect of TF vs TF-IDF vs logTF-IDF"
   ]
  },
  {
   "cell_type": "code",
   "execution_count": 78,
   "metadata": {
    "collapsed": true
   },
   "outputs": [],
   "source": [
    "vectorizer = TfidfVectorizer(analyzer=unwrap_counter, use_idf=False, sublinear_tf=False, min_df=2)\n",
    "X_tf = vectorizer.fit_transform(ids)\n",
    "\n",
    "vectorizer = TfidfVectorizer(analyzer=unwrap_counter, use_idf=False, sublinear_tf=True, min_df=2)\n",
    "X_ltf = vectorizer.fit_transform(ids)\n",
    "\n",
    "vectorizer = TfidfVectorizer(analyzer=unwrap_counter, use_idf=True, sublinear_tf=False, min_df=2)\n",
    "X_tfidf = vectorizer.fit_transform(ids)\n",
    "\n",
    "vectorizer = TfidfVectorizer(analyzer=unwrap_counter, use_idf=True, sublinear_tf=True, min_df=2)\n",
    "X_ltfidf = vectorizer.fit_transform(ids)"
   ]
  },
  {
   "cell_type": "code",
   "execution_count": 79,
   "metadata": {
    "collapsed": true
   },
   "outputs": [],
   "source": [
    "Xs = {'TF': X_tf, 'logTF': X_ltf, 'TF-IDF': X_tfidf, 'logTF-IDF': X_ltfidf}"
   ]
  },
  {
   "cell_type": "code",
   "execution_count": 83,
   "metadata": {
    "collapsed": true
   },
   "outputs": [],
   "source": [
    "types_res = []"
   ]
  },
  {
   "cell_type": "code",
   "execution_count": 93,
   "metadata": {
    "collapsed": true
   },
   "outputs": [],
   "source": [
    "n = 350"
   ]
  },
  {
   "cell_type": "code",
   "execution_count": 94,
   "metadata": {
    "collapsed": false,
    "scrolled": true
   },
   "outputs": [
    {
     "name": "stdout",
     "output_type": "stream",
     "text": [
      "trying TF...\n",
      "k=6500, number of >0.8 clusters: 139\n",
      "k=7000, number of >0.8 clusters: 171\n",
      "k=7500, number of >0.8 clusters: 161\n",
      "k=8000, number of >0.8 clusters: 190\n",
      "k=8500, number of >0.8 clusters: 212\n",
      "k=9000, number of >0.8 clusters: 185\n",
      "k=9500, number of >0.8 clusters: 181\n",
      "k=10000, number of >0.8 clusters: 203\n",
      "k=10500, number of >0.8 clusters: 192\n",
      "k=11000, number of >0.8 clusters: 205\n",
      "\n",
      "trying logTF...\n",
      "k=6500, number of >0.8 clusters: 149\n",
      "k=7000, number of >0.8 clusters: 168\n",
      "k=7500, number of >0.8 clusters: 176\n",
      "k=8000, number of >0.8 clusters: 194\n",
      "k=8500, number of >0.8 clusters: 187\n",
      "k=9000, number of >0.8 clusters: 199\n",
      "k=9500, number of >0.8 clusters: 203\n",
      "k=10000, number of >0.8 clusters: 198\n",
      "k=10500, number of >0.8 clusters: 214\n",
      "k=11000, number of >0.8 clusters: 186\n",
      "\n",
      "trying TF-IDF...\n",
      "k=6500, number of >0.8 clusters: 144\n",
      "k=7000, number of >0.8 clusters: 170\n",
      "k=7500, number of >0.8 clusters: 172\n",
      "k=8000, number of >0.8 clusters: 186\n",
      "k=8500, number of >0.8 clusters: 210\n",
      "k=9000, number of >0.8 clusters: 202\n",
      "k=9500, number of >0.8 clusters: 197\n",
      "k=10000, number of >0.8 clusters: 194\n",
      "k=10500, number of >0.8 clusters: 198\n",
      "k=11000, number of >0.8 clusters: 184\n",
      "\n",
      "trying logTF-IDF...\n",
      "k=6500, number of >0.8 clusters: 153\n",
      "k=7000, number of >0.8 clusters: 181\n",
      "k=7500, number of >0.8 clusters: 170\n",
      "k=8000, number of >0.8 clusters: 185\n",
      "k=8500, number of >0.8 clusters: 205\n",
      "k=9000, number of >0.8 clusters: 186\n",
      "k=9500, number of >0.8 clusters: 214\n",
      "k=10000, number of >0.8 clusters: 197\n",
      "k=10500, number of >0.8 clusters: 205\n",
      "k=11000, number of >0.8 clusters: 183\n",
      "\n"
     ]
    }
   ],
   "source": [
    "for t, X_star in Xs.items():\n",
    "    print 'trying %s...' % t\n",
    "\n",
    "    U, S, Vt = randomized_svd(X_star, n_components=n)\n",
    "    V = Vt.T\n",
    "\n",
    "    X_red = X.dot(V)\n",
    "    X_red = normalizer.fit_transform(X_red)\n",
    "\n",
    "    ks = [k for k in xrange(6500, 11001, 500)]\n",
    "    for k in ks:\n",
    "        km_grid = MiniBatchKMeans(n_clusters=k, init_size=k*3, n_init=10, init='random')\n",
    "        km_grid.fit(X_red)\n",
    "        no_pure_clusters = len(evaluate.high_purity_clusters(km_grid.labels_, threshold=0.8, min_size=3))\n",
    "\n",
    "        types_res.append((t, k, no_pure_clusters))\n",
    "        print 'k=%d, number of >0.8 clusters: %d' % (k, no_pure_clusters)\n",
    "\n",
    "    print    "
   ]
  },
  {
   "cell_type": "code",
   "execution_count": 95,
   "metadata": {
    "collapsed": false
   },
   "outputs": [],
   "source": [
    "df_weight = pd.DataFrame(types_res, columns=('scheme', 'K', 'no'))"
   ]
  },
  {
   "cell_type": "code",
   "execution_count": 99,
   "metadata": {
    "collapsed": false
   },
   "outputs": [
    {
     "data": {
      "image/png": "[encoded data removed]",
      "text/plain": [
       "<matplotlib.figure.Figure at 0x4c975ef0>"
      ]
     },
     "metadata": {},
     "output_type": "display_data"
    }
   ],
   "source": [
    "visual = {'TF': ('black', '-'), 'logTF': ('black', '--'), 'TF-IDF': ('grey', '-'), 'logTF-IDF': ('grey', '--')}\n",
    "\n",
    "for n, g in df_weight.groupby('scheme'):\n",
    "    color, line = visual[n]\n",
    "    med = g.groupby('K').no.median()\n",
    "    smoothed = pd.stats.moments.rolling_mean(med, window=3, center=True)\n",
    "    smoothed.plot(figsize=(8, 3), label=n, color=color, linestyle=line)\n",
    "\n",
    "\n",
    "plt.grid(0)\n",
    "plt.xlabel('number of clusters $K$')\n",
    "plt.ylabel('no. pure clusters')\n",
    "plt.legend(loc='lower center', ncol=2)\n",
    "# plt.xlim(2000, 14000)\n",
    "# plt.ylim(20, 210)\n",
    "\n",
    "plt.tight_layout()\n",
    "plt.savefig('figures/nodef-weighing.pdf', format='pdf')\n",
    "plt.show()"
   ]
  },
  {
   "cell_type": "code",
   "execution_count": null,
   "metadata": {
    "collapsed": true
   },
   "outputs": [],
   "source": [
    "from sklearn import random_projection"
   ]
  },
  {
   "cell_type": "markdown",
   "metadata": {},
   "source": [
    "## Agglomerative\n"
   ]
  },
  {
   "cell_type": "code",
   "execution_count": 13,
   "metadata": {
    "collapsed": true
   },
   "outputs": [],
   "source": [
    "from sklearn.cluster import AgglomerativeClustering"
   ]
  },
  {
   "cell_type": "code",
   "execution_count": null,
   "metadata": {
    "collapsed": true
   },
   "outputs": [],
   "source": [
    "ns = [100, 250, 500, 750, 1000, 1250]\n",
    "times = []"
   ]
  },
  {
   "cell_type": "code",
   "execution_count": 16,
   "metadata": {
    "collapsed": true
   },
   "outputs": [],
   "source": [
    "X_dense = X.toarray()"
   ]
  },
  {
   "cell_type": "code",
   "execution_count": 17,
   "metadata": {
    "collapsed": false
   },
   "outputs": [
    {
     "data": {
      "text/plain": [
       "(22512L, 6075L)"
      ]
     },
     "execution_count": 17,
     "metadata": {},
     "output_type": "execute_result"
    }
   ],
   "source": [
    "X_dense.shape"
   ]
  },
  {
   "cell_type": "code",
   "execution_count": 22,
   "metadata": {
    "collapsed": false
   },
   "outputs": [
    {
     "data": {
      "text/plain": [
       "1.0189443826675415"
      ]
     },
     "execution_count": 22,
     "metadata": {},
     "output_type": "execute_result"
    }
   ],
   "source": [
    "X_dense.nbytes / (1024.0 * 1024 * 1024)"
   ]
  },
  {
   "cell_type": "code",
   "execution_count": 107,
   "metadata": {
    "collapsed": false,
    "scrolled": true
   },
   "outputs": [
    {
     "name": "stdout",
     "output_type": "stream",
     "text": [
      "n=12000, done in 1248.52700s.\n",
      "n=13000, done in 1517.52700s.\n",
      "n=14000, done in 1789.68700s.\n",
      "n=15000, done in 2069.81400s.\n"
     ]
    }
   ],
   "source": [
    "for n in xrange(12000, 15001, 1000):\n",
    "    X_n = X_dense[:n]\n",
    "\n",
    "    for i in [0]:\n",
    "        t0 = time()\n",
    "        ward = AgglomerativeClustering(linkage='ward').fit(X_n)\n",
    "        taken_time = time() - t0\n",
    "        print \"n=%d, done in %0.5fs.\" % (n, taken_time)\n",
    "        times.append((n, taken_time))"
   ]
  },
  {
   "cell_type": "code",
   "execution_count": 198,
   "metadata": {
    "collapsed": false
   },
   "outputs": [],
   "source": [
    "ds = pd.DataFrame(times, columns=['n', 'time'])\n",
    "# ds['n2'] = ds.n ** 2\n",
    "fit = sm.ols('time ~ n +I(n ** 2) - 1', data=ds).fit()"
   ]
  },
  {
   "cell_type": "code",
   "execution_count": 223,
   "metadata": {
    "collapsed": false
   },
   "outputs": [
    {
     "data": {
      "text/plain": [
       "22512"
      ]
     },
     "execution_count": 223,
     "metadata": {},
     "output_type": "execute_result"
    }
   ],
   "source": [
    "N_doc"
   ]
  },
  {
   "cell_type": "code",
   "execution_count": 226,
   "metadata": {
    "collapsed": false
   },
   "outputs": [
    {
     "data": {
      "text/plain": [
       "1.0189443826675415"
      ]
     },
     "execution_count": 226,
     "metadata": {},
     "output_type": "execute_result"
    }
   ],
   "source": [
    "X_dense.nbytes / (1024.0 * 1024 * 1024)"
   ]
  },
  {
   "cell_type": "code",
   "execution_count": 199,
   "metadata": {
    "collapsed": false
   },
   "outputs": [
    {
     "data": {
      "text/plain": [
       "0.99156521457595359"
      ]
     },
     "execution_count": 199,
     "metadata": {},
     "output_type": "execute_result"
    }
   ],
   "source": [
    "fit.rsquared"
   ]
  },
  {
   "cell_type": "code",
   "execution_count": 200,
   "metadata": {
    "collapsed": true
   },
   "outputs": [],
   "source": [
    "ns, ts = zip(*times)"
   ]
  },
  {
   "cell_type": "code",
   "execution_count": 201,
   "metadata": {
    "collapsed": false
   },
   "outputs": [
    {
     "data": {
      "text/plain": [
       "array([ 76.96798085])"
      ]
     },
     "execution_count": 201,
     "metadata": {},
     "output_type": "execute_result"
    }
   ],
   "source": [
    "fit.predict({'n': np.array(N_doc) }) / 60"
   ]
  },
  {
   "cell_type": "code",
   "execution_count": 241,
   "metadata": {
    "collapsed": false
   },
   "outputs": [
    {
     "data": {
      "image/png": "[encoded data removed]",
      "text/plain": [
       "<matplotlib.figure.Figure at 0x47e5bb38>"
      ]
     },
     "metadata": {},
     "output_type": "display_data"
    }
   ],
   "source": [
    "plt.figure(figsize=(6, 2.5))\n",
    "\n",
    "rng = np.arange(0, 16001, 250)\n",
    "test_ds = {'n': rng }\n",
    "\n",
    "handle1 = plt.scatter(ns, np.array(ts) / 60.0, marker='x', color='grey', label='observed runtime')\n",
    "handle2, = plt.plot(rng, fit.predict(test_ds) / 60.0, color='black', label='regression fit')\n",
    "\n",
    "plt.xlabel('number of documents $N$')\n",
    "plt.ylabel('time, min')\n",
    "plt.xlim(2000, 16000)\n",
    "plt.ylim(-1, 40)\n",
    "\n",
    "plt.legend(handles=(handle1, handle2), loc='upper left')\n",
    "\n",
    "plt.tight_layout()\n",
    "plt.savefig('figures/agglo-time.pdf', format='pdf')\n",
    "\n",
    "plt.show()"
   ]
  },
  {
   "cell_type": "markdown",
   "metadata": {},
   "source": [
    "\n",
    "## Random projections"
   ]
  },
  {
   "cell_type": "code",
   "execution_count": 23,
   "metadata": {
    "collapsed": false
   },
   "outputs": [],
   "source": [
    "from sklearn import random_projection"
   ]
  },
  {
   "cell_type": "code",
   "execution_count": 24,
   "metadata": {
    "collapsed": true
   },
   "outputs": [],
   "source": [
    "rp_res = []"
   ]
  },
  {
   "cell_type": "code",
   "execution_count": 25,
   "metadata": {
    "collapsed": false,
    "scrolled": true
   },
   "outputs": [
    {
     "name": "stdout",
     "output_type": "stream",
     "text": [
      "trying 0...\n",
      "k=6000, number of >0.8 clusters: 185\n",
      "k=6250, number of >0.8 clusters: 181\n",
      "k=6500, number of >0.8 clusters: 180\n",
      "k=6750, number of >0.8 clusters: 191\n",
      "k=7000, number of >0.8 clusters: 198\n",
      "k=7250, number of >0.8 clusters: 178\n",
      "k=7500, number of >0.8 clusters: 181\n",
      "k=7750, number of >0.8 clusters: 214\n",
      "k=8000, number of >0.8 clusters: 223\n",
      "k=8250, number of >0.8 clusters: 224\n",
      "k=8500, number of >0.8 clusters: 222\n",
      "k=8750, number of >0.8 clusters: 216\n",
      "k=9000, number of >0.8 clusters: 228\n",
      "k=9250, number of >0.8 clusters: 214\n",
      "k=9500, number of >0.8 clusters: 208\n",
      "k=9750, number of >0.8 clusters: 215\n",
      "k=10000, number of >0.8 clusters: 221\n",
      "k=10250, number of >0.8 clusters: 235\n",
      "k=10500, number of >0.8 clusters: 224\n",
      "k=10750, number of >0.8 clusters: 207\n",
      "k=11000, number of >0.8 clusters: 211\n",
      "k=11250, number of >0.8 clusters: 221\n",
      "k=11500, number of >0.8 clusters: 233\n",
      "k=11750, number of >0.8 clusters: 212\n",
      "k=12000, number of >0.8 clusters: 205\n",
      "k=12250, number of >0.8 clusters: 203\n",
      "k=12500, number of >0.8 clusters: 208\n",
      "k=12750, number of >0.8 clusters: 208\n",
      "k=13000, number of >0.8 clusters: 196\n",
      "\n",
      "trying 1...\n",
      "k=6000, number of >0.8 clusters: 162\n",
      "k=6250, number of >0.8 clusters: 167\n",
      "k=6500, number of >0.8 clusters: 191\n",
      "k=6750, number of >0.8 clusters: 193\n",
      "k=7000, number of >0.8 clusters: 182\n",
      "k=7250, number of >0.8 clusters: 183\n",
      "k=7500, number of >0.8 clusters: 208\n",
      "k=7750, number of >0.8 clusters: 245\n",
      "k=8000, number of >0.8 clusters: 230\n",
      "k=8250, number of >0.8 clusters: 212\n",
      "k=8500, number of >0.8 clusters: 202\n",
      "k=8750, number of >0.8 clusters: 212\n",
      "k=9000, number of >0.8 clusters: 221\n",
      "k=9250, number of >0.8 clusters: 200\n",
      "k=9500, number of >0.8 clusters: 212\n",
      "k=9750, number of >0.8 clusters: 218\n",
      "k=10000, number of >0.8 clusters: 203\n",
      "k=10250, number of >0.8 clusters: 223\n",
      "k=10500, number of >0.8 clusters: 212\n",
      "k=10750, number of >0.8 clusters: 211\n",
      "k=11000, number of >0.8 clusters: 199\n",
      "k=11250, number of >0.8 clusters: 225\n",
      "k=11500, number of >0.8 clusters: 238\n",
      "k=11750, number of >0.8 clusters: 208\n",
      "k=12000, number of >0.8 clusters: 187\n",
      "k=12250, number of >0.8 clusters: 208\n",
      "k=12500, number of >0.8 clusters: 185\n",
      "k=12750, number of >0.8 clusters: 205\n",
      "k=13000, number of >0.8 clusters: 189\n",
      "\n",
      "trying 2...\n",
      "k=6000, number of >0.8 clusters: 153\n",
      "k=6250, number of >0.8 clusters: 179\n",
      "k=6500, number of >0.8 clusters: 181\n",
      "k=6750, number of >0.8 clusters: 167\n",
      "k=7000, number of >0.8 clusters: 196\n",
      "k=7250, number of >0.8 clusters: 192\n",
      "k=7500, number of >0.8 clusters: 209\n",
      "k=7750, number of >0.8 clusters: 203\n",
      "k=8000, number of >0.8 clusters: 219\n",
      "k=8250, number of >0.8 clusters: 218\n",
      "k=8500, number of >0.8 clusters: 233\n",
      "k=8750, number of >0.8 clusters: 223\n",
      "k=9000, number of >0.8 clusters: 210\n",
      "k=9250, number of >0.8 clusters: 210\n",
      "k=9500, number of >0.8 clusters: 206\n",
      "k=9750, number of >0.8 clusters: 222\n",
      "k=10000, number of >0.8 clusters: 198\n",
      "k=10250, number of >0.8 clusters: 225\n",
      "k=10500, number of >0.8 clusters: 213\n",
      "k=10750, number of >0.8 clusters: 226\n",
      "k=11000, number of >0.8 clusters: 204\n",
      "k=11250, number of >0.8 clusters: 213\n",
      "k=11500, number of >0.8 clusters: 220\n",
      "k=11750, number of >0.8 clusters: 186\n",
      "k=12000, number of >0.8 clusters: 215\n",
      "k=12250, number of >0.8 clusters: 187\n",
      "k=12500, number of >0.8 clusters: 177\n",
      "k=12750, number of >0.8 clusters: 205\n",
      "k=13000, number of >0.8 clusters: 198\n",
      "\n",
      "trying 3...\n",
      "k=6000, number of >0.8 clusters: 182\n",
      "k=6250, number of >0.8 clusters: 173\n",
      "k=6500, number of >0.8 clusters: 171\n",
      "k=6750, number of >0.8 clusters: 184\n",
      "k=7000, number of >0.8 clusters: 182\n",
      "k=7250, number of >0.8 clusters: 172\n",
      "k=7500, number of >0.8 clusters: 205\n",
      "k=7750, number of >0.8 clusters: 223\n",
      "k=8000, number of >0.8 clusters: 221\n",
      "k=8250, number of >0.8 clusters: 220\n",
      "k=8500, number of >0.8 clusters: 214\n",
      "k=8750, number of >0.8 clusters: 229\n",
      "k=9000, number of >0.8 clusters: 202\n",
      "k=9250, number of >0.8 clusters: 205\n",
      "k=9500, number of >0.8 clusters: 226\n",
      "k=9750, number of >0.8 clusters: 192\n",
      "k=10000, number of >0.8 clusters: 235\n",
      "k=10250, number of >0.8 clusters: 218\n",
      "k=10500, number of >0.8 clusters: 230\n"
     ]
    },
    {
     "ename": "KeyboardInterrupt",
     "evalue": "",
     "output_type": "error",
     "traceback": [
      "\u001b[1;31m---------------------------------------------------------------------------\u001b[0m",
      "\u001b[1;31mKeyboardInterrupt\u001b[0m                         Traceback (most recent call last)",
      "\u001b[1;32m<ipython-input-25-f8d13d1bbbd0>\u001b[0m in \u001b[0;36m<module>\u001b[1;34m()\u001b[0m\n\u001b[0;32m      9\u001b[0m     \u001b[1;32mfor\u001b[0m \u001b[0mk\u001b[0m \u001b[1;32min\u001b[0m \u001b[0mks\u001b[0m\u001b[1;33m:\u001b[0m\u001b[1;33m\u001b[0m\u001b[0m\n\u001b[0;32m     10\u001b[0m         \u001b[0mkm_grid\u001b[0m \u001b[1;33m=\u001b[0m \u001b[0mMiniBatchKMeans\u001b[0m\u001b[1;33m(\u001b[0m\u001b[0mn_clusters\u001b[0m\u001b[1;33m=\u001b[0m\u001b[0mk\u001b[0m\u001b[1;33m,\u001b[0m \u001b[0minit_size\u001b[0m\u001b[1;33m=\u001b[0m\u001b[0mk\u001b[0m\u001b[1;33m*\u001b[0m\u001b[1;36m3\u001b[0m\u001b[1;33m,\u001b[0m \u001b[0mn_init\u001b[0m\u001b[1;33m=\u001b[0m\u001b[1;36m10\u001b[0m\u001b[1;33m,\u001b[0m \u001b[0minit\u001b[0m\u001b[1;33m=\u001b[0m\u001b[1;34m'random'\u001b[0m\u001b[1;33m)\u001b[0m\u001b[1;33m\u001b[0m\u001b[0m\n\u001b[1;32m---> 11\u001b[1;33m         \u001b[0mkm_grid\u001b[0m\u001b[1;33m.\u001b[0m\u001b[0mfit\u001b[0m\u001b[1;33m(\u001b[0m\u001b[0mX_new\u001b[0m\u001b[1;33m)\u001b[0m\u001b[1;33m\u001b[0m\u001b[0m\n\u001b[0m\u001b[0;32m     12\u001b[0m         \u001b[0mno_pure_clusters\u001b[0m \u001b[1;33m=\u001b[0m \u001b[0mlen\u001b[0m\u001b[1;33m(\u001b[0m\u001b[0mevaluate\u001b[0m\u001b[1;33m.\u001b[0m\u001b[0mhigh_purity_clusters\u001b[0m\u001b[1;33m(\u001b[0m\u001b[0mkm_grid\u001b[0m\u001b[1;33m.\u001b[0m\u001b[0mlabels_\u001b[0m\u001b[1;33m,\u001b[0m \u001b[0mthreshold\u001b[0m\u001b[1;33m=\u001b[0m\u001b[1;36m0.8\u001b[0m\u001b[1;33m,\u001b[0m \u001b[0mmin_size\u001b[0m\u001b[1;33m=\u001b[0m\u001b[1;36m3\u001b[0m\u001b[1;33m)\u001b[0m\u001b[1;33m)\u001b[0m\u001b[1;33m\u001b[0m\u001b[0m\n\u001b[0;32m     13\u001b[0m \u001b[1;33m\u001b[0m\u001b[0m\n",
      "\u001b[1;32mC:\\soft\\anaconda\\2.0.1\\lib\\site-packages\\sklearn\\cluster\\k_means_.pyc\u001b[0m in \u001b[0;36mfit\u001b[1;34m(self, X, y)\u001b[0m\n\u001b[0;32m   1282\u001b[0m             \u001b[1;31m# the common validation set\u001b[0m\u001b[1;33m\u001b[0m\u001b[1;33m\u001b[0m\u001b[0m\n\u001b[0;32m   1283\u001b[0m             _, inertia = _labels_inertia(X_valid, x_squared_norms_valid,\n\u001b[1;32m-> 1284\u001b[1;33m                                          cluster_centers)\n\u001b[0m\u001b[0;32m   1285\u001b[0m             \u001b[1;32mif\u001b[0m \u001b[0mself\u001b[0m\u001b[1;33m.\u001b[0m\u001b[0mverbose\u001b[0m\u001b[1;33m:\u001b[0m\u001b[1;33m\u001b[0m\u001b[0m\n\u001b[0;32m   1286\u001b[0m                 print(\"Inertia for init %d/%d: %f\"\n",
      "\u001b[1;32mC:\\soft\\anaconda\\2.0.1\\lib\\site-packages\\sklearn\\cluster\\k_means_.pyc\u001b[0m in \u001b[0;36m_labels_inertia\u001b[1;34m(X, x_squared_norms, centers, precompute_distances, distances)\u001b[0m\n\u001b[0;32m    540\u001b[0m         \u001b[1;32mif\u001b[0m \u001b[0mprecompute_distances\u001b[0m\u001b[1;33m:\u001b[0m\u001b[1;33m\u001b[0m\u001b[0m\n\u001b[0;32m    541\u001b[0m             return _labels_inertia_precompute_dense(X, x_squared_norms,\n\u001b[1;32m--> 542\u001b[1;33m                                                     centers, distances)\n\u001b[0m\u001b[0;32m    543\u001b[0m         inertia = _k_means._assign_labels_array(\n\u001b[0;32m    544\u001b[0m             X, x_squared_norms, centers, labels, distances=distances)\n",
      "\u001b[1;32mC:\\soft\\anaconda\\2.0.1\\lib\\site-packages\\sklearn\\cluster\\k_means_.pyc\u001b[0m in \u001b[0;36m_labels_inertia_precompute_dense\u001b[1;34m(X, x_squared_norms, centers, distances)\u001b[0m\n\u001b[0;32m    477\u001b[0m     \u001b[0mk\u001b[0m \u001b[1;33m=\u001b[0m \u001b[0mcenters\u001b[0m\u001b[1;33m.\u001b[0m\u001b[0mshape\u001b[0m\u001b[1;33m[\u001b[0m\u001b[1;36m0\u001b[0m\u001b[1;33m]\u001b[0m\u001b[1;33m\u001b[0m\u001b[0m\n\u001b[0;32m    478\u001b[0m     all_distances = euclidean_distances(centers, X, x_squared_norms,\n\u001b[1;32m--> 479\u001b[1;33m                                         squared=True)\n\u001b[0m\u001b[0;32m    480\u001b[0m     \u001b[0mlabels\u001b[0m \u001b[1;33m=\u001b[0m \u001b[0mnp\u001b[0m\u001b[1;33m.\u001b[0m\u001b[0mempty\u001b[0m\u001b[1;33m(\u001b[0m\u001b[0mn_samples\u001b[0m\u001b[1;33m,\u001b[0m \u001b[0mdtype\u001b[0m\u001b[1;33m=\u001b[0m\u001b[0mnp\u001b[0m\u001b[1;33m.\u001b[0m\u001b[0mint32\u001b[0m\u001b[1;33m)\u001b[0m\u001b[1;33m\u001b[0m\u001b[0m\n\u001b[0;32m    481\u001b[0m     \u001b[0mlabels\u001b[0m\u001b[1;33m.\u001b[0m\u001b[0mfill\u001b[0m\u001b[1;33m(\u001b[0m\u001b[1;33m-\u001b[0m\u001b[1;36m1\u001b[0m\u001b[1;33m)\u001b[0m\u001b[1;33m\u001b[0m\u001b[0m\n",
      "\u001b[1;32mC:\\soft\\anaconda\\2.0.1\\lib\\site-packages\\sklearn\\metrics\\pairwise.pyc\u001b[0m in \u001b[0;36meuclidean_distances\u001b[1;34m(X, Y, Y_norm_squared, squared)\u001b[0m\n\u001b[0;32m    205\u001b[0m         \u001b[0mXX\u001b[0m \u001b[1;33m=\u001b[0m \u001b[0mrow_norms\u001b[0m\u001b[1;33m(\u001b[0m\u001b[0mX\u001b[0m\u001b[1;33m,\u001b[0m \u001b[0msquared\u001b[0m\u001b[1;33m=\u001b[0m\u001b[0mTrue\u001b[0m\u001b[1;33m)\u001b[0m\u001b[1;33m[\u001b[0m\u001b[1;33m:\u001b[0m\u001b[1;33m,\u001b[0m \u001b[0mnp\u001b[0m\u001b[1;33m.\u001b[0m\u001b[0mnewaxis\u001b[0m\u001b[1;33m]\u001b[0m\u001b[1;33m\u001b[0m\u001b[0m\n\u001b[0;32m    206\u001b[0m \u001b[1;33m\u001b[0m\u001b[0m\n\u001b[1;32m--> 207\u001b[1;33m     \u001b[0mdistances\u001b[0m \u001b[1;33m=\u001b[0m \u001b[0msafe_sparse_dot\u001b[0m\u001b[1;33m(\u001b[0m\u001b[0mX\u001b[0m\u001b[1;33m,\u001b[0m \u001b[0mY\u001b[0m\u001b[1;33m.\u001b[0m\u001b[0mT\u001b[0m\u001b[1;33m,\u001b[0m \u001b[0mdense_output\u001b[0m\u001b[1;33m=\u001b[0m\u001b[0mTrue\u001b[0m\u001b[1;33m)\u001b[0m\u001b[1;33m\u001b[0m\u001b[0m\n\u001b[0m\u001b[0;32m    208\u001b[0m     \u001b[0mdistances\u001b[0m \u001b[1;33m*=\u001b[0m \u001b[1;33m-\u001b[0m\u001b[1;36m2\u001b[0m\u001b[1;33m\u001b[0m\u001b[0m\n\u001b[0;32m    209\u001b[0m     \u001b[0mdistances\u001b[0m \u001b[1;33m+=\u001b[0m \u001b[0mXX\u001b[0m\u001b[1;33m\u001b[0m\u001b[0m\n",
      "\u001b[1;32mC:\\soft\\anaconda\\2.0.1\\lib\\site-packages\\sklearn\\utils\\extmath.pyc\u001b[0m in \u001b[0;36msafe_sparse_dot\u001b[1;34m(a, b, dense_output)\u001b[0m\n\u001b[0;32m    181\u001b[0m         \u001b[1;32mreturn\u001b[0m \u001b[0mret\u001b[0m\u001b[1;33m\u001b[0m\u001b[0m\n\u001b[0;32m    182\u001b[0m     \u001b[1;32melse\u001b[0m\u001b[1;33m:\u001b[0m\u001b[1;33m\u001b[0m\u001b[0m\n\u001b[1;32m--> 183\u001b[1;33m         \u001b[1;32mreturn\u001b[0m \u001b[0mfast_dot\u001b[0m\u001b[1;33m(\u001b[0m\u001b[0ma\u001b[0m\u001b[1;33m,\u001b[0m \u001b[0mb\u001b[0m\u001b[1;33m)\u001b[0m\u001b[1;33m\u001b[0m\u001b[0m\n\u001b[0m\u001b[0;32m    184\u001b[0m \u001b[1;33m\u001b[0m\u001b[0m\n\u001b[0;32m    185\u001b[0m \u001b[1;33m\u001b[0m\u001b[0m\n",
      "\u001b[1;31mKeyboardInterrupt\u001b[0m: "
     ]
    }
   ],
   "source": [
    "for i in xrange(10):\n",
    "    print 'trying %s...' % i\n",
    "    \n",
    "    rp = random_projection.GaussianRandomProjection(n_components=250)\n",
    "    X_new = rp.fit_transform(X)\n",
    "    X_new = normalizer.fit_transform(X_new)\n",
    "    \n",
    "    ks = [k for k in xrange(6000, 13001, 250)]\n",
    "    for k in ks:\n",
    "        km_grid = MiniBatchKMeans(n_clusters=k, init_size=k*3, n_init=10, init='random')\n",
    "        km_grid.fit(X_new)\n",
    "        no_pure_clusters = len(evaluate.high_purity_clusters(km_grid.labels_, threshold=0.8, min_size=3))\n",
    "\n",
    "        rp_res.append((i, k, no_pure_clusters))\n",
    "        print 'k=%d, number of >0.8 clusters: %d' % (k, no_pure_clusters)\n",
    "\n",
    "    print"
   ]
  },
  {
   "cell_type": "code",
   "execution_count": 27,
   "metadata": {
    "collapsed": true
   },
   "outputs": [],
   "source": [
    "import pickle"
   ]
  },
  {
   "cell_type": "code",
   "execution_count": 28,
   "metadata": {
    "collapsed": false
   },
   "outputs": [],
   "source": [
    "pickle.dump(rp_res, file('C:/tmp/mlp/namespaces/rp_res.bin', 'w'))"
   ]
  },
  {
   "cell_type": "code",
   "execution_count": null,
   "metadata": {
    "collapsed": true
   },
   "outputs": [],
   "source": []
  },
  {
   "cell_type": "markdown",
   "metadata": {},
   "source": [
    "## DB-SCAN\n"
   ]
  },
  {
   "cell_type": "code",
   "execution_count": 296,
   "metadata": {
    "collapsed": true
   },
   "outputs": [],
   "source": [
    "def print_cnt(cnt):\n",
    "    for id, c in cnt.most_common():\n",
    "        print u'(%s, %d)' % (id, c),"
   ]
  },
  {
   "cell_type": "code",
   "execution_count": 241,
   "metadata": {
    "collapsed": true
   },
   "outputs": [],
   "source": [
    "k = 50"
   ]
  },
  {
   "cell_type": "code",
   "execution_count": 265,
   "metadata": {
    "collapsed": true
   },
   "outputs": [],
   "source": [
    "def chunks(X, step):\n",
    "    l = X.shape[0]\n",
    "    for i in xrange(0, l, step):\n",
    "        if i + step < l:\n",
    "            yield i, i+step, X[i:i+step]\n",
    "        else:\n",
    "            yield i, l, X[i:l]"
   ]
  },
  {
   "cell_type": "code",
   "execution_count": 274,
   "metadata": {
    "collapsed": false,
    "scrolled": true
   },
   "outputs": [
    {
     "name": "stdout",
     "output_type": "stream",
     "text": [
      "step (0, 500) of len 500...\n",
      "step (500, 1000) of len 500...\n",
      "step (1000, 1500) of len 500...\n",
      "step (1500, 2000) of len 500...\n",
      "step (2000, 2500) of len 500...\n",
      "step (2500, 3000) of len 500...\n",
      "step (3000, 3500) of len 500...\n",
      "step (3500, 4000) of len 500...\n",
      "step (4000, 4500) of len 500...\n",
      "step (4500, 5000) of len 500...\n",
      "step (5000, 5500) of len 500...\n",
      "step (5500, 6000) of len 500...\n",
      "step (6000, 6500) of len 500...\n",
      "step (6500, 7000) of len 500...\n",
      "step (7000, 7500) of len 500...\n",
      "step (7500, 8000) of len 500...\n",
      "step (8000, 8500) of len 500...\n",
      "step (8500, 9000) of len 500...\n",
      "step (9000, 9500) of len 500...\n",
      "step (9500, 10000) of len 500...\n",
      "step (10000, 10500) of len 500...\n",
      "step (10500, 11000) of len 500...\n",
      "step (11000, 11500) of len 500...\n",
      "step (11500, 12000) of len 500...\n",
      "step (12000, 12500) of len 500...\n",
      "step (12500, 13000) of len 500...\n",
      "step (13000, 13500) of len 500...\n",
      "step (13500, 14000) of len 500...\n",
      "step (14000, 14500) of len 500...\n",
      "step (14500, 15000) of len 500...\n",
      "step (15000, 15500) of len 500...\n",
      "step (15500, 16000) of len 500...\n",
      "step (16000, 16500) of len 500...\n",
      "step (16500, 17000) of len 500...\n",
      "step (17000, 17500) of len 500...\n",
      "step (17500, 18000) of len 500...\n",
      "step (18000, 18500) of len 500...\n",
      "step (18500, 19000) of len 500...\n",
      "step (19000, 19500) of len 500...\n",
      "step (19500, 20000) of len 500...\n",
      "step (20000, 20500) of len 500...\n",
      "step (20500, 21000) of len 500...\n",
      "step (21000, 21500) of len 500...\n",
      "step (21500, 22000) of len 500...\n",
      "step (22000, 22500) of len 500...\n",
      "step (22500, 22512) of len 12...\n",
      "done in 145.341s.\n"
     ]
    }
   ],
   "source": [
    "t0 = time()\n",
    "\n",
    "top_indexes = []\n",
    "cos_sim_matrix = scipy.sparse.dok_matrix((N_doc, N_doc))\n",
    "\n",
    "for beg, end, X_chunk in chunks(X, 500):\n",
    "    print 'step (%d, %d) of len %d...' % (beg, end, end - beg)\n",
    "    X_500 = X_chunk * X.T\n",
    "    \n",
    "    for j in xrange(end - beg):\n",
    "        row = X_500.getrow(j)\n",
    "        sim_indx = row.data.argsort()[::-1][:(k+1)]\n",
    "        cos_sim_matrix[beg + j, row.indices[sim_indx]] = row.data[sim_indx]\n",
    "        top_indexes.append(row.indices[sim_indx][1:])\n",
    "\n",
    "cos_sim_matrix = scipy.sparse.csr_matrix(cos_sim_matrix)\n",
    "print \"done in %0.3fs.\" % (time() - t0)"
   ]
  },
  {
   "cell_type": "code",
   "execution_count": 310,
   "metadata": {
    "collapsed": false
   },
   "outputs": [
    {
     "name": "stdout",
     "output_type": "stream",
     "text": [
      "Singular value decomposition\n",
      "(m, 211) (p, 206) (M, 65) (V, 45) (U, 28) (Σ, 27) (x, 17) (T, 12) (u, 11) (v, 11) (S, 10) (D, 10) (z, 10) (σ, 8) (z_0, 7) (U_1, 7) (σ_i, 7) (σ_1, 5) (T_f, 5) (z_1, 5) (z_2, 5) (z_3, 5) (n, 5) (U_2, 4) (ψ, 4) (R, 4) (r, 4) (MV_1, 4) (j, 3) (Ω, 3) (λ_1, 3) (λ_2, 3) (UDU, 3) (UV, 3) (MM, 3) (B, 2) (U_i, 2) (N, 2) (MV_2, 2) (V_1, 2) (V_2, 2) (C, 1) (Σ_n, 1) (σ_±, 1) (Σ_r, 1) (Σ_t, 1) (α, 1) (σ_3, 1) (σ_2, 1) (UIV, 1) (z_i, 1) (λ, 1) (V_i, 1) (t, 1) (f, 1) (U_n, 1) (U_r, 1) (VV, 1) (U_t, 1) (UU, 1) (σ_k, 1) (MV, 1)\n",
      "Rule of Sarrus\n",
      "(p, 14) (m, 14) (M, 3)\n",
      "common\n",
      "(p, 14) (m, 14) (M, 3)\n",
      "cosine   (0, 0)\t0.924763759721\n"
     ]
    }
   ],
   "source": [
    "doc1 = title_idx['Singular value decomposition']\n",
    "doc2 = top_indexes[doc1][0]\n",
    "\n",
    "print titles[doc1]\n",
    "print_cnt(ids[doc1])\n",
    "print \n",
    "\n",
    "print titles[doc2]\n",
    "print_cnt(ids[doc2])\n",
    "print \n",
    "\n",
    "print 'common'\n",
    "print_cnt(ids[doc1] & ids[doc2])\n",
    "print \n",
    "\n",
    "print 'cosine', X[doc1] * X[doc2].T\n"
   ]
  },
  {
   "cell_type": "code",
   "execution_count": 309,
   "metadata": {
    "collapsed": true
   },
   "outputs": [],
   "source": [
    "import snn_dbscan"
   ]
  },
  {
   "cell_type": "code",
   "execution_count": 329,
   "metadata": {
    "collapsed": true
   },
   "outputs": [],
   "source": [
    "snn_res_params = []\n",
    "snn_res = {}"
   ]
  },
  {
   "cell_type": "code",
   "execution_count": 331,
   "metadata": {
    "collapsed": false,
    "scrolled": true
   },
   "outputs": [
    {
     "name": "stdout",
     "output_type": "stream",
     "text": [
      "k=10, eps=3, min_pts=3 => purity=0.4468, len=105\n",
      "k=10, eps=3, min_pts=4 => purity=0.4375, len=103\n",
      "k=10, eps=3, min_pts=5 => purity=0.4273, len=105\n",
      "k=10, eps=3, min_pts=6 => purity=0.4187, len=95\n",
      "k=10, eps=3, min_pts=7 => purity=0.4092, len=94\n",
      "k=10, eps=3, min_pts=8 => purity=0.3989, len=92\n",
      "k=10, eps=3, min_pts=9 => purity=0.3890, len=94\n",
      "k=10, eps=3, min_pts=10 => purity=0.3785, len=84\n",
      "k=10, eps=4, min_pts=3 => purity=0.4310, len=124\n",
      "k=10, eps=4, min_pts=4 => purity=0.4113, len=111\n",
      "k=10, eps=4, min_pts=5 => purity=0.3939, len=100\n",
      "k=10, eps=4, min_pts=6 => purity=0.3798, len=86\n",
      "k=10, eps=4, min_pts=7 => purity=0.3657, len=85\n",
      "k=10, eps=4, min_pts=8 => purity=0.3528, len=82\n",
      "k=10, eps=4, min_pts=9 => purity=0.3385, len=79\n",
      "k=10, eps=4, min_pts=10 => purity=0.3243, len=69\n",
      "k=10, eps=5, min_pts=3 => purity=0.3786, len=102\n",
      "k=10, eps=5, min_pts=4 => purity=0.3521, len=82\n",
      "k=10, eps=5, min_pts=5 => purity=0.3334, len=75\n",
      "k=10, eps=5, min_pts=6 => purity=0.3149, len=62\n",
      "k=10, eps=5, min_pts=7 => purity=0.2965, len=53\n",
      "k=10, eps=5, min_pts=8 => purity=0.2815, len=51\n",
      "k=10, eps=5, min_pts=9 => purity=0.2662, len=44\n",
      "k=10, eps=5, min_pts=10 => purity=0.2527, len=40\n",
      "k=10, eps=6, min_pts=3 => purity=0.3074, len=90\n",
      "k=10, eps=6, min_pts=4 => purity=0.2815, len=67\n",
      "k=10, eps=6, min_pts=5 => purity=0.2639, len=57\n",
      "k=10, eps=6, min_pts=6 => purity=0.2479, len=51\n",
      "k=10, eps=6, min_pts=7 => purity=0.2333, len=45\n",
      "k=10, eps=6, min_pts=8 => purity=0.2200, len=37\n",
      "k=10, eps=6, min_pts=9 => purity=0.2090, len=34\n",
      "k=10, eps=6, min_pts=10 => purity=0.1971, len=32\n",
      "k=10, eps=7, min_pts=3 => purity=0.2378, len=77\n",
      "k=10, eps=7, min_pts=4 => purity=0.2169, len=56\n",
      "k=10, eps=7, min_pts=5 => purity=0.2004, len=41\n",
      "k=10, eps=7, min_pts=6 => purity=0.1879, len=33\n",
      "k=10, eps=7, min_pts=7 => purity=0.1779, len=25\n",
      "k=10, eps=7, min_pts=8 => purity=0.1700, len=23\n",
      "k=10, eps=7, min_pts=9 => purity=0.1578, len=15\n",
      "k=10, eps=7, min_pts=10 => purity=0.1505, len=11\n",
      "k=10, eps=8, min_pts=3 => purity=0.1752, len=55\n",
      "k=10, eps=8, min_pts=4 => purity=0.1577, len=33\n",
      "k=10, eps=8, min_pts=5 => purity=0.1470, len=25\n",
      "k=10, eps=8, min_pts=6 => purity=0.1373, len=13\n",
      "k=10, eps=8, min_pts=7 => purity=0.1295, len=7\n",
      "k=10, eps=8, min_pts=8 => purity=0.1230, len=5\n",
      "k=10, eps=8, min_pts=9 => purity=0.1162, len=3\n",
      "k=10, eps=8, min_pts=10 => purity=0.1115, len=2\n",
      "k=10, eps=9, min_pts=3 => purity=0.1246, len=21\n",
      "k=10, eps=9, min_pts=4 => purity=0.1144, len=10\n",
      "k=10, eps=9, min_pts=5 => purity=0.1088, len=8\n",
      "k=10, eps=9, min_pts=6 => purity=0.1059, len=4\n",
      "k=10, eps=9, min_pts=7 => purity=0.1034, len=2\n",
      "k=10, eps=9, min_pts=8 => purity=0.1014, len=2\n",
      "k=10, eps=9, min_pts=9 => purity=0.0988, len=2\n",
      "k=10, eps=9, min_pts=10 => purity=0.0963, len=2\n",
      "k=10, eps=10, min_pts=3 => purity=0.1010, len=12\n",
      "k=10, eps=10, min_pts=4 => purity=0.0981, len=6\n",
      "k=10, eps=10, min_pts=5 => purity=0.0967, len=5\n",
      "k=10, eps=10, min_pts=6 => purity=0.0955, len=4\n",
      "k=10, eps=10, min_pts=7 => purity=0.0949, len=3\n",
      "k=10, eps=10, min_pts=8 => purity=0.0944, len=2\n",
      "k=10, eps=10, min_pts=9 => purity=0.0931, len=2\n",
      "k=10, eps=10, min_pts=10 => purity=0.0922, len=2\n",
      "k=15, eps=3, min_pts=3 => purity=0.3762, len=60\n",
      "k=15, eps=3, min_pts=4 => purity=0.3750, len=60\n",
      "k=15, eps=3, min_pts=5 => purity=0.3728, len=58\n",
      "k=15, eps=3, min_pts=6 => purity=0.3712, len=59\n",
      "k=15, eps=3, min_pts=7 => purity=0.3700, len=57\n",
      "k=15, eps=3, min_pts=8 => purity=0.3690, len=55\n",
      "k=15, eps=3, min_pts=9 => purity=0.3679, len=51\n",
      "k=15, eps=3, min_pts=10 => purity=0.3666, len=51\n",
      "k=15, eps=4, min_pts=3 => purity=0.3978, len=74\n",
      "k=15, eps=4, min_pts=4 => purity=0.3929, len=72\n",
      "k=15, eps=4, min_pts=5 => purity=0.3893, len=74\n",
      "k=15, eps=4, min_pts=6 => purity=0.3834, len=68\n",
      "k=15, eps=4, min_pts=7 => purity=0.3800, len=70\n",
      "k=15, eps=4, min_pts=8 => purity=0.3762, len=70\n",
      "k=15, eps=4, min_pts=9 => purity=0.3725, len=70\n",
      "k=15, eps=4, min_pts=10 => purity=0.3686, len=67\n",
      "k=15, eps=5, min_pts=3 => purity=0.4048, len=88\n",
      "k=15, eps=5, min_pts=4 => purity=0.3956, len=82\n",
      "k=15, eps=5, min_pts=5 => purity=0.3868, len=81\n",
      "k=15, eps=5, min_pts=6 => purity=0.3794, len=76\n",
      "k=15, eps=5, min_pts=7 => purity=0.3731, len=73\n",
      "k=15, eps=5, min_pts=8 => purity=0.3663, len=70\n",
      "k=15, eps=5, min_pts=9 => purity=0.3586, len=60\n",
      "k=15, eps=5, min_pts=10 => purity=0.3506, len=58\n",
      "k=15, eps=6, min_pts=3 => purity=0.3946, len=85\n",
      "k=15, eps=6, min_pts=4 => purity=0.3788, len=76\n",
      "k=15, eps=6, min_pts=5 => purity=0.3682, len=71\n",
      "k=15, eps=6, min_pts=6 => purity=0.3586, len=65\n",
      "k=15, eps=6, min_pts=7 => purity=0.3475, len=60\n",
      "k=15, eps=6, min_pts=8 => purity=0.3395, len=62\n",
      "k=15, eps=6, min_pts=9 => purity=0.3307, len=62\n",
      "k=15, eps=6, min_pts=10 => purity=0.3238, len=64\n",
      "k=15, eps=7, min_pts=3 => purity=0.3714, len=90\n",
      "k=15, eps=7, min_pts=4 => purity=0.3537, len=79\n",
      "k=15, eps=7, min_pts=5 => purity=0.3387, len=67\n",
      "k=15, eps=7, min_pts=6 => purity=0.3268, len=61\n",
      "k=15, eps=7, min_pts=7 => purity=0.3137, len=55\n",
      "k=15, eps=7, min_pts=8 => purity=0.3039, len=54\n",
      "k=15, eps=7, min_pts=9 => purity=0.2953, len=50\n",
      "k=15, eps=7, min_pts=10 => purity=0.2870, len=51\n",
      "k=15, eps=8, min_pts=3 => purity=0.3345, len=78\n",
      "k=15, eps=8, min_pts=4 => purity=0.3157, len=68\n",
      "k=15, eps=8, min_pts=5 => purity=0.3011, len=61\n",
      "k=15, eps=8, min_pts=6 => purity=0.2888, len=55\n",
      "k=15, eps=8, min_pts=7 => purity=0.2788, len=50\n",
      "k=15, eps=8, min_pts=8 => purity=0.2676, len=43\n",
      "k=15, eps=8, min_pts=9 => purity=0.2605, len=44\n",
      "k=15, eps=8, min_pts=10 => purity=0.2521, len=39\n",
      "k=15, eps=9, min_pts=3 => purity=0.2949, len=81\n",
      "k=15, eps=9, min_pts=4 => purity=0.2744, len=60\n",
      "k=15, eps=9, min_pts=5 => purity=0.2608, len=56\n",
      "k=15, eps=9, min_pts=6 => purity=0.2504, len=50\n",
      "k=15, eps=9, min_pts=7 => purity=0.2416, len=46\n",
      "k=15, eps=9, min_pts=8 => purity=0.2314, len=42\n",
      "k=15, eps=9, min_pts=9 => purity=0.2237, len=37\n",
      "k=15, eps=9, min_pts=10 => purity=0.2150, len=33\n",
      "k=15, eps=10, min_pts=3 => purity=0.2540, len=64\n",
      "k=15, eps=10, min_pts=4 => purity=0.2340, len=44\n",
      "k=15, eps=10, min_pts=5 => purity=0.2222, len=44\n",
      "k=15, eps=10, min_pts=6 => purity=0.2108, len=41\n",
      "k=15, eps=10, min_pts=7 => purity=0.2030, len=32\n",
      "k=15, eps=10, min_pts=8 => purity=0.1954, len=32\n",
      "k=15, eps=10, min_pts=9 => purity=0.1886, len=29\n",
      "k=15, eps=10, min_pts=10 => purity=0.1812, len=25\n"
     ]
    },
    {
     "ename": "KeyboardInterrupt",
     "evalue": "",
     "output_type": "error",
     "traceback": [
      "\u001b[1;31m---------------------------------------------------------------------------\u001b[0m",
      "\u001b[1;31mKeyboardInterrupt\u001b[0m                         Traceback (most recent call last)",
      "\u001b[1;32m<ipython-input-331-467b6e37a203>\u001b[0m in \u001b[0;36m<module>\u001b[1;34m()\u001b[0m\n\u001b[0;32m     12\u001b[0m     \u001b[1;32mfor\u001b[0m \u001b[0meps\u001b[0m \u001b[1;32min\u001b[0m \u001b[0mepsilons\u001b[0m\u001b[1;33m:\u001b[0m\u001b[1;33m\u001b[0m\u001b[0m\n\u001b[0;32m     13\u001b[0m         \u001b[1;32mfor\u001b[0m \u001b[0mmin_pts\u001b[0m \u001b[1;32min\u001b[0m \u001b[0mpoins\u001b[0m\u001b[1;33m:\u001b[0m\u001b[1;33m\u001b[0m\u001b[0m\n\u001b[1;32m---> 14\u001b[1;33m             \u001b[0mres\u001b[0m \u001b[1;33m=\u001b[0m \u001b[0mnp\u001b[0m\u001b[1;33m.\u001b[0m\u001b[0marray\u001b[0m\u001b[1;33m(\u001b[0m\u001b[0msnn_dbscan\u001b[0m\u001b[1;33m.\u001b[0m\u001b[0mdbscan\u001b[0m\u001b[1;33m(\u001b[0m\u001b[0msnn_graph\u001b[0m\u001b[1;33m,\u001b[0m \u001b[0meps\u001b[0m\u001b[1;33m,\u001b[0m \u001b[0mmin_pts\u001b[0m\u001b[1;33m)\u001b[0m\u001b[1;33m)\u001b[0m\u001b[1;33m\u001b[0m\u001b[0m\n\u001b[0m\u001b[0;32m     15\u001b[0m             \u001b[0mres\u001b[0m\u001b[1;33m[\u001b[0m\u001b[0mres\u001b[0m \u001b[1;33m==\u001b[0m \u001b[1;34m'noise'\u001b[0m\u001b[1;33m]\u001b[0m \u001b[1;33m=\u001b[0m \u001b[1;36m0\u001b[0m\u001b[1;33m\u001b[0m\u001b[0m\n\u001b[0;32m     16\u001b[0m             \u001b[0mres\u001b[0m \u001b[1;33m=\u001b[0m \u001b[0mres\u001b[0m\u001b[1;33m.\u001b[0m\u001b[0mastype\u001b[0m\u001b[1;33m(\u001b[0m\u001b[0mint\u001b[0m\u001b[1;33m)\u001b[0m\u001b[1;33m\u001b[0m\u001b[0m\n",
      "\u001b[1;32mC:\\Users\\Alexey Grigorev\\Documents\\IPython Notebooks\\thesis\\snn_dbscan.pyc\u001b[0m in \u001b[0;36mdbscan\u001b[1;34m(D, eps, min_pts, verbose)\u001b[0m\n\u001b[0;32m     70\u001b[0m             \u001b[1;32mcontinue\u001b[0m\u001b[1;33m\u001b[0m\u001b[0m\n\u001b[0;32m     71\u001b[0m \u001b[1;33m\u001b[0m\u001b[0m\n\u001b[1;32m---> 72\u001b[1;33m         \u001b[1;32mif\u001b[0m \u001b[0mexpand_cluster\u001b[0m\u001b[1;33m(\u001b[0m\u001b[0mD\u001b[0m\u001b[1;33m,\u001b[0m \u001b[0massignment\u001b[0m\u001b[1;33m,\u001b[0m \u001b[0mpoint_id\u001b[0m\u001b[1;33m,\u001b[0m \u001b[0mcluster_id\u001b[0m\u001b[1;33m,\u001b[0m \u001b[0meps\u001b[0m\u001b[1;33m,\u001b[0m \u001b[0mmin_pts\u001b[0m\u001b[1;33m)\u001b[0m\u001b[1;33m:\u001b[0m\u001b[1;33m\u001b[0m\u001b[0m\n\u001b[0m\u001b[0;32m     73\u001b[0m             \u001b[0mcluster_id\u001b[0m \u001b[1;33m=\u001b[0m \u001b[0mcluster_id\u001b[0m \u001b[1;33m+\u001b[0m \u001b[1;36m1\u001b[0m\u001b[1;33m\u001b[0m\u001b[0m\n\u001b[0;32m     74\u001b[0m \u001b[1;33m\u001b[0m\u001b[0m\n",
      "\u001b[1;32mC:\\Users\\Alexey Grigorev\\Documents\\IPython Notebooks\\thesis\\snn_dbscan.pyc\u001b[0m in \u001b[0;36mexpand_cluster\u001b[1;34m(D, assignment, point_id, cluster_id, eps, min_points)\u001b[0m\n\u001b[0;32m     46\u001b[0m     \u001b[1;32mwhile\u001b[0m \u001b[0mlen\u001b[0m\u001b[1;33m(\u001b[0m\u001b[0mq\u001b[0m\u001b[1;33m)\u001b[0m \u001b[1;33m>\u001b[0m \u001b[1;36m0\u001b[0m\u001b[1;33m:\u001b[0m\u001b[1;33m\u001b[0m\u001b[0m\n\u001b[0;32m     47\u001b[0m         \u001b[0mq_point_id\u001b[0m \u001b[1;33m=\u001b[0m \u001b[0mq\u001b[0m\u001b[1;33m.\u001b[0m\u001b[0mpopleft\u001b[0m\u001b[1;33m(\u001b[0m\u001b[1;33m)\u001b[0m\u001b[1;33m\u001b[0m\u001b[0m\n\u001b[1;32m---> 48\u001b[1;33m         \u001b[0mneighborhood_q\u001b[0m \u001b[1;33m=\u001b[0m \u001b[0mregion_query\u001b[0m\u001b[1;33m(\u001b[0m\u001b[0mD\u001b[0m\u001b[1;33m,\u001b[0m \u001b[0mq_point_id\u001b[0m\u001b[1;33m,\u001b[0m \u001b[0meps\u001b[0m\u001b[1;33m)\u001b[0m\u001b[1;33m\u001b[0m\u001b[0m\n\u001b[0m\u001b[0;32m     49\u001b[0m         \u001b[1;32mif\u001b[0m \u001b[0mlen\u001b[0m\u001b[1;33m(\u001b[0m\u001b[0mneighborhood_q\u001b[0m\u001b[1;33m)\u001b[0m \u001b[1;33m<\u001b[0m \u001b[0mmin_points\u001b[0m\u001b[1;33m:\u001b[0m\u001b[1;33m\u001b[0m\u001b[0m\n\u001b[0;32m     50\u001b[0m             \u001b[1;32mcontinue\u001b[0m\u001b[1;33m\u001b[0m\u001b[0m\n",
      "\u001b[1;32mC:\\Users\\Alexey Grigorev\\Documents\\IPython Notebooks\\thesis\\snn_dbscan.pyc\u001b[0m in \u001b[0;36mregion_query\u001b[1;34m(D, point_id, eps)\u001b[0m\n\u001b[0;32m     29\u001b[0m             \u001b[0mneighborhood\u001b[0m\u001b[1;33m.\u001b[0m\u001b[0madd\u001b[0m\u001b[1;33m(\u001b[0m\u001b[0mi\u001b[0m\u001b[1;33m)\u001b[0m\u001b[1;33m\u001b[0m\u001b[0m\n\u001b[0;32m     30\u001b[0m         \u001b[1;32mfor\u001b[0m \u001b[0mj\u001b[0m \u001b[1;32min\u001b[0m \u001b[0mD\u001b[0m\u001b[1;33m[\u001b[0m\u001b[0mi\u001b[0m\u001b[1;33m]\u001b[0m\u001b[1;33m:\u001b[0m\u001b[1;33m\u001b[0m\u001b[0m\n\u001b[1;32m---> 31\u001b[1;33m             \u001b[1;32mif\u001b[0m \u001b[0meps_neighborhood\u001b[0m\u001b[1;33m(\u001b[0m\u001b[0mD\u001b[0m\u001b[1;33m[\u001b[0m\u001b[0mpoint_id\u001b[0m\u001b[1;33m]\u001b[0m\u001b[1;33m,\u001b[0m \u001b[0mD\u001b[0m\u001b[1;33m[\u001b[0m\u001b[0mj\u001b[0m\u001b[1;33m]\u001b[0m\u001b[1;33m,\u001b[0m \u001b[0meps\u001b[0m\u001b[1;33m)\u001b[0m\u001b[1;33m:\u001b[0m\u001b[1;33m\u001b[0m\u001b[0m\n\u001b[0m\u001b[0;32m     32\u001b[0m                 \u001b[0mneighborhood\u001b[0m\u001b[1;33m.\u001b[0m\u001b[0madd\u001b[0m\u001b[1;33m(\u001b[0m\u001b[0mj\u001b[0m\u001b[1;33m)\u001b[0m\u001b[1;33m\u001b[0m\u001b[0m\n\u001b[0;32m     33\u001b[0m     \u001b[1;32mreturn\u001b[0m \u001b[0mlist\u001b[0m\u001b[1;33m(\u001b[0m\u001b[0mneighborhood\u001b[0m\u001b[1;33m)\u001b[0m\u001b[1;33m\u001b[0m\u001b[0m\n",
      "\u001b[1;32mC:\\Users\\Alexey Grigorev\\Documents\\IPython Notebooks\\thesis\\snn_dbscan.pyc\u001b[0m in \u001b[0;36meps_neighborhood\u001b[1;34m(p, q, eps)\u001b[0m\n\u001b[0;32m     18\u001b[0m \u001b[1;33m\u001b[0m\u001b[0m\n\u001b[0;32m     19\u001b[0m \u001b[1;32mdef\u001b[0m \u001b[0meps_neighborhood\u001b[0m\u001b[1;33m(\u001b[0m\u001b[0mp\u001b[0m\u001b[1;33m,\u001b[0m \u001b[0mq\u001b[0m\u001b[1;33m,\u001b[0m \u001b[0meps\u001b[0m\u001b[1;33m)\u001b[0m\u001b[1;33m:\u001b[0m\u001b[1;33m\u001b[0m\u001b[0m\n\u001b[1;32m---> 20\u001b[1;33m     \u001b[1;32mreturn\u001b[0m \u001b[0msim\u001b[0m\u001b[1;33m(\u001b[0m\u001b[0mp\u001b[0m\u001b[1;33m,\u001b[0m \u001b[0mq\u001b[0m\u001b[1;33m)\u001b[0m \u001b[1;33m>=\u001b[0m \u001b[0meps\u001b[0m\u001b[1;33m\u001b[0m\u001b[0m\n\u001b[0m\u001b[0;32m     21\u001b[0m \u001b[1;33m\u001b[0m\u001b[0m\n\u001b[0;32m     22\u001b[0m \u001b[1;32mdef\u001b[0m \u001b[0mregion_query\u001b[0m\u001b[1;33m(\u001b[0m\u001b[0mD\u001b[0m\u001b[1;33m,\u001b[0m \u001b[0mpoint_id\u001b[0m\u001b[1;33m,\u001b[0m \u001b[0meps\u001b[0m\u001b[1;33m)\u001b[0m\u001b[1;33m:\u001b[0m\u001b[1;33m\u001b[0m\u001b[0m\n",
      "\u001b[1;31mKeyboardInterrupt\u001b[0m: "
     ]
    }
   ],
   "source": [
    "ks = [10, 15, 20, 25, 30]\n",
    "\n",
    "for k_snn in ks:\n",
    "    snn_graph = []\n",
    "\n",
    "    for i, idx in enumerate(top_indexes):\n",
    "        snn_graph.append(set(idx[:k_snn]))\n",
    "\n",
    "    epsilons = [3, 4, 5, 6, 7, 8, 9, 10]\n",
    "    poins = [3, 4, 5, 6, 7, 8, 9, 10]\n",
    "    \n",
    "    for eps in epsilons:\n",
    "        for min_pts in poins:\n",
    "            res = np.array(snn_dbscan.dbscan(snn_graph, eps, min_pts))\n",
    "            res[res == 'noise'] = 0\n",
    "            res = res.astype(int)\n",
    "\n",
    "            pur = evaluate.overall_purity(res)\n",
    "            no = len(evaluate.high_purity_clusters(res, threshold=0.8, min_size=3))\n",
    "        \n",
    "            snn_res_params.append((k_snn, eps, min_pts, pur, no))\n",
    "            snn_res[(k_snn, eps, min_pts)] = res\n",
    "    \n",
    "            print 'k=%d, eps=%d, min_pts=%d => purity=%0.4f, len=%d' % (k_snn, eps, min_pts, pur, no)"
   ]
  },
  {
   "cell_type": "code",
   "execution_count": 337,
   "metadata": {
    "collapsed": true
   },
   "outputs": [],
   "source": [
    "import matplotlib.pyplot as plt\n",
    "from mpl_toolkits.mplot3d import Axes3D"
   ]
  },
  {
   "cell_type": "code",
   "execution_count": 458,
   "metadata": {
    "collapsed": false
   },
   "outputs": [],
   "source": [
    "snn_df = pd.DataFrame(snn_res_params, columns=('k_snn', 'eps', 'min_pts', 'pur', 'no'))"
   ]
  },
  {
   "cell_type": "code",
   "execution_count": 484,
   "metadata": {
    "collapsed": false
   },
   "outputs": [
    {
     "data": {
      "text/html": [
       "<div style=\"max-height:1000px;max-width:1500px;overflow:auto;\">\n",
       "<table border=\"1\" class=\"dataframe\">\n",
       "  <thead>\n",
       "    <tr>\n",
       "      <th></th>\n",
       "      <th colspan=\"8\" halign=\"left\">no</th>\n",
       "    </tr>\n",
       "    <tr>\n",
       "      <th>min_pts</th>\n",
       "      <th>3</th>\n",
       "      <th>4</th>\n",
       "      <th>5</th>\n",
       "      <th>6</th>\n",
       "      <th>7</th>\n",
       "      <th>8</th>\n",
       "      <th>9</th>\n",
       "      <th>10</th>\n",
       "    </tr>\n",
       "    <tr>\n",
       "      <th>eps</th>\n",
       "      <th></th>\n",
       "      <th></th>\n",
       "      <th></th>\n",
       "      <th></th>\n",
       "      <th></th>\n",
       "      <th></th>\n",
       "      <th></th>\n",
       "      <th></th>\n",
       "    </tr>\n",
       "  </thead>\n",
       "  <tbody>\n",
       "    <tr>\n",
       "      <th>3</th>\n",
       "      <td>105</td>\n",
       "      <td>103</td>\n",
       "      <td>105</td>\n",
       "      <td>95</td>\n",
       "      <td>94</td>\n",
       "      <td>92</td>\n",
       "      <td>94</td>\n",
       "      <td>84</td>\n",
       "    </tr>\n",
       "    <tr>\n",
       "      <th>4</th>\n",
       "      <td>124</td>\n",
       "      <td>111</td>\n",
       "      <td>100</td>\n",
       "      <td>86</td>\n",
       "      <td>85</td>\n",
       "      <td>82</td>\n",
       "      <td>79</td>\n",
       "      <td>69</td>\n",
       "    </tr>\n",
       "    <tr>\n",
       "      <th>5</th>\n",
       "      <td>102</td>\n",
       "      <td>82</td>\n",
       "      <td>75</td>\n",
       "      <td>62</td>\n",
       "      <td>53</td>\n",
       "      <td>51</td>\n",
       "      <td>44</td>\n",
       "      <td>40</td>\n",
       "    </tr>\n",
       "    <tr>\n",
       "      <th>6</th>\n",
       "      <td>90</td>\n",
       "      <td>67</td>\n",
       "      <td>57</td>\n",
       "      <td>51</td>\n",
       "      <td>45</td>\n",
       "      <td>37</td>\n",
       "      <td>34</td>\n",
       "      <td>32</td>\n",
       "    </tr>\n",
       "    <tr>\n",
       "      <th>7</th>\n",
       "      <td>77</td>\n",
       "      <td>56</td>\n",
       "      <td>41</td>\n",
       "      <td>33</td>\n",
       "      <td>25</td>\n",
       "      <td>23</td>\n",
       "      <td>15</td>\n",
       "      <td>11</td>\n",
       "    </tr>\n",
       "    <tr>\n",
       "      <th>8</th>\n",
       "      <td>55</td>\n",
       "      <td>33</td>\n",
       "      <td>25</td>\n",
       "      <td>13</td>\n",
       "      <td>7</td>\n",
       "      <td>5</td>\n",
       "      <td>3</td>\n",
       "      <td>2</td>\n",
       "    </tr>\n",
       "    <tr>\n",
       "      <th>9</th>\n",
       "      <td>21</td>\n",
       "      <td>10</td>\n",
       "      <td>8</td>\n",
       "      <td>4</td>\n",
       "      <td>2</td>\n",
       "      <td>2</td>\n",
       "      <td>2</td>\n",
       "      <td>2</td>\n",
       "    </tr>\n",
       "    <tr>\n",
       "      <th>10</th>\n",
       "      <td>12</td>\n",
       "      <td>6</td>\n",
       "      <td>5</td>\n",
       "      <td>4</td>\n",
       "      <td>3</td>\n",
       "      <td>2</td>\n",
       "      <td>2</td>\n",
       "      <td>2</td>\n",
       "    </tr>\n",
       "  </tbody>\n",
       "</table>\n",
       "</div>"
      ],
      "text/plain": [
       "          no                              \n",
       "min_pts   3    4    5   6   7   8   9   10\n",
       "eps                                       \n",
       "3        105  103  105  95  94  92  94  84\n",
       "4        124  111  100  86  85  82  79  69\n",
       "5        102   82   75  62  53  51  44  40\n",
       "6         90   67   57  51  45  37  34  32\n",
       "7         77   56   41  33  25  23  15  11\n",
       "8         55   33   25  13   7   5   3   2\n",
       "9         21   10    8   4   2   2   2   2\n",
       "10        12    6    5   4   3   2   2   2"
      ]
     },
     "execution_count": 484,
     "metadata": {},
     "output_type": "execute_result"
    }
   ],
   "source": [
    "snn10 = snn_df[snn_df.k_snn == 10][['eps', 'min_pts', 'no']]\n",
    "snn10 = snn10.groupby(by=['eps', 'min_pts']).mean()\n",
    "snn10.unstack()"
   ]
  },
  {
   "cell_type": "code",
   "execution_count": 485,
   "metadata": {
    "collapsed": false
   },
   "outputs": [
    {
     "data": {
      "image/png": "[encoded data removed]",
      "text/plain": [
       "<matplotlib.figure.Figure at 0x7d3c9160>"
      ]
     },
     "metadata": {},
     "output_type": "display_data"
    }
   ],
   "source": [
    "fig = plt.figure(figsize=(5, 3))\n",
    "ax = fig.add_subplot(111, projection='3d')\n",
    "\n",
    "Xs, Ys = np.meshgrid(epsilons, poins)\n",
    "# plot surface, more colormaps: http://matplotlib.sourceforge.net/examples/pylab_examples/show_colormaps.html\n",
    "# ax.plot_surface(Xs, Ys, Zs, rstride=4, cstride=4, alpha=0.4,cmap=cm.jet)\n",
    "\n",
    "ax.plot_wireframe(Xs, Ys, snn10.unstack(), color='black')\n",
    "ax.view_init(elev=40, azim=20)\n",
    "ax.set_xlabel(r'$\\varepsilon$')\n",
    "ax.set_ylabel('MinPts')\n",
    "ax.set_zlabel('no. pure clusters')\n",
    "\n",
    "plt.tight_layout()\n",
    "plt.savefig('figures/nodef-dbscan-cos10.pdf', format='pdf')\n",
    "plt.show()"
   ]
  },
  {
   "cell_type": "code",
   "execution_count": 486,
   "metadata": {
    "collapsed": false
   },
   "outputs": [
    {
     "data": {
      "image/png": "[encoded data removed]",
      "text/plain": [
       "<matplotlib.figure.Figure at 0x81ae27f0>"
      ]
     },
     "metadata": {},
     "output_type": "display_data"
    }
   ],
   "source": [
    "visual = {3: ('black', '-'), 4: ('black', '--'), 5: ('grey', '-'), 6: ('grey', '--')}\n",
    "\n",
    "for i, n in snn10.reset_index().groupby('eps'):\n",
    "    if i in visual:\n",
    "        color, line = visual[i]\n",
    "        n.set_index('min_pts').no.plot(figsize=(5, 3), color=color, linestyle=line, label=r'$\\varepsilon=%d$' % i)\n",
    "\n",
    "plt.grid(0)\n",
    "plt.legend(ncol=2)\n",
    "\n",
    "plt.xlabel('MinPts')\n",
    "plt.ylabel('no. pure clusters')\n",
    "plt.tight_layout()\n",
    "plt.savefig('figures/nodef-dbscan-cos10-2.pdf', format='pdf')\n",
    "plt.show()"
   ]
  },
  {
   "cell_type": "code",
   "execution_count": 475,
   "metadata": {
    "collapsed": false
   },
   "outputs": [
    {
     "data": {
      "text/html": [
       "<div style=\"max-height:1000px;max-width:1500px;overflow:auto;\">\n",
       "<table border=\"1\" class=\"dataframe\">\n",
       "  <thead>\n",
       "    <tr>\n",
       "      <th></th>\n",
       "      <th colspan=\"8\" halign=\"left\">no</th>\n",
       "    </tr>\n",
       "    <tr>\n",
       "      <th>min_pts</th>\n",
       "      <th>3</th>\n",
       "      <th>4</th>\n",
       "      <th>5</th>\n",
       "      <th>6</th>\n",
       "      <th>7</th>\n",
       "      <th>8</th>\n",
       "      <th>9</th>\n",
       "      <th>10</th>\n",
       "    </tr>\n",
       "    <tr>\n",
       "      <th>eps</th>\n",
       "      <th></th>\n",
       "      <th></th>\n",
       "      <th></th>\n",
       "      <th></th>\n",
       "      <th></th>\n",
       "      <th></th>\n",
       "      <th></th>\n",
       "      <th></th>\n",
       "    </tr>\n",
       "  </thead>\n",
       "  <tbody>\n",
       "    <tr>\n",
       "      <th>3</th>\n",
       "      <td>60</td>\n",
       "      <td>60</td>\n",
       "      <td>58</td>\n",
       "      <td>59</td>\n",
       "      <td>57</td>\n",
       "      <td>55</td>\n",
       "      <td>51</td>\n",
       "      <td>51</td>\n",
       "    </tr>\n",
       "    <tr>\n",
       "      <th>4</th>\n",
       "      <td>74</td>\n",
       "      <td>72</td>\n",
       "      <td>74</td>\n",
       "      <td>68</td>\n",
       "      <td>70</td>\n",
       "      <td>70</td>\n",
       "      <td>70</td>\n",
       "      <td>67</td>\n",
       "    </tr>\n",
       "    <tr>\n",
       "      <th>5</th>\n",
       "      <td>88</td>\n",
       "      <td>82</td>\n",
       "      <td>81</td>\n",
       "      <td>76</td>\n",
       "      <td>73</td>\n",
       "      <td>70</td>\n",
       "      <td>60</td>\n",
       "      <td>58</td>\n",
       "    </tr>\n",
       "    <tr>\n",
       "      <th>6</th>\n",
       "      <td>85</td>\n",
       "      <td>76</td>\n",
       "      <td>71</td>\n",
       "      <td>65</td>\n",
       "      <td>60</td>\n",
       "      <td>62</td>\n",
       "      <td>62</td>\n",
       "      <td>64</td>\n",
       "    </tr>\n",
       "    <tr>\n",
       "      <th>7</th>\n",
       "      <td>90</td>\n",
       "      <td>79</td>\n",
       "      <td>67</td>\n",
       "      <td>61</td>\n",
       "      <td>55</td>\n",
       "      <td>54</td>\n",
       "      <td>50</td>\n",
       "      <td>51</td>\n",
       "    </tr>\n",
       "    <tr>\n",
       "      <th>8</th>\n",
       "      <td>78</td>\n",
       "      <td>68</td>\n",
       "      <td>61</td>\n",
       "      <td>55</td>\n",
       "      <td>50</td>\n",
       "      <td>43</td>\n",
       "      <td>44</td>\n",
       "      <td>39</td>\n",
       "    </tr>\n",
       "    <tr>\n",
       "      <th>9</th>\n",
       "      <td>81</td>\n",
       "      <td>60</td>\n",
       "      <td>56</td>\n",
       "      <td>50</td>\n",
       "      <td>46</td>\n",
       "      <td>42</td>\n",
       "      <td>37</td>\n",
       "      <td>33</td>\n",
       "    </tr>\n",
       "    <tr>\n",
       "      <th>10</th>\n",
       "      <td>64</td>\n",
       "      <td>44</td>\n",
       "      <td>44</td>\n",
       "      <td>41</td>\n",
       "      <td>32</td>\n",
       "      <td>32</td>\n",
       "      <td>29</td>\n",
       "      <td>25</td>\n",
       "    </tr>\n",
       "  </tbody>\n",
       "</table>\n",
       "</div>"
      ],
      "text/plain": [
       "         no                            \n",
       "min_pts  3   4   5   6   7   8   9   10\n",
       "eps                                    \n",
       "3        60  60  58  59  57  55  51  51\n",
       "4        74  72  74  68  70  70  70  67\n",
       "5        88  82  81  76  73  70  60  58\n",
       "6        85  76  71  65  60  62  62  64\n",
       "7        90  79  67  61  55  54  50  51\n",
       "8        78  68  61  55  50  43  44  39\n",
       "9        81  60  56  50  46  42  37  33\n",
       "10       64  44  44  41  32  32  29  25"
      ]
     },
     "execution_count": 475,
     "metadata": {},
     "output_type": "execute_result"
    }
   ],
   "source": [
    "snn10 = snn_df[snn_df.k_snn == 15][['eps', 'min_pts', 'no']]\n",
    "snn10 = snn10.groupby(by=['eps', 'min_pts']).mean()\n",
    "snn10.unstack()"
   ]
  },
  {
   "cell_type": "code",
   "execution_count": 480,
   "metadata": {
    "collapsed": false
   },
   "outputs": [
    {
     "data": {
      "image/png": "[encoded data removed]",
      "text/plain": [
       "<matplotlib.figure.Figure at 0x74ccf048>"
      ]
     },
     "metadata": {},
     "output_type": "display_data"
    }
   ],
   "source": [
    "fig = plt.figure(figsize=(5, 3))\n",
    "ax = fig.add_subplot(111, projection='3d')\n",
    "\n",
    "Xs, Ys = np.meshgrid(epsilons, poins)\n",
    "# plot surface, more colormaps: http://matplotlib.sourceforge.net/examples/pylab_examples/show_colormaps.html\n",
    "# ax.plot_surface(Xs, Ys, Zs, rstride=4, cstride=4, alpha=0.4,cmap=cm.jet)\n",
    "\n",
    "ax.plot_wireframe(Xs, Ys, snn10.unstack(), color='black')\n",
    "ax.view_init(elev=40.0, azim=20)\n",
    "ax.set_xlabel(r'$\\varepsilon$')\n",
    "ax.set_ylabel('MinPts')\n",
    "ax.set_zlabel('no. pure clusters')\n",
    "\n",
    "plt.tight_layout()\n",
    "plt.savefig('figures/nodef-dbscan-cos15.pdf', format='pdf')\n",
    "plt.show()"
   ]
  },
  {
   "cell_type": "code",
   "execution_count": 482,
   "metadata": {
    "collapsed": false,
    "scrolled": true
   },
   "outputs": [
    {
     "data": {
      "image/png": "[encoded data removed]",
      "text/plain": [
       "<matplotlib.figure.Figure at 0x802984a8>"
      ]
     },
     "metadata": {},
     "output_type": "display_data"
    }
   ],
   "source": [
    "visual = {5: ('black', '-'), 6: ('black', '--'), 7: ('grey', '-'), 8: ('grey', '--')}\n",
    "\n",
    "for i, n in snn10.reset_index().groupby('eps'):\n",
    "    if i in visual:\n",
    "        color, line = visual[i]\n",
    "        n.set_index('min_pts').no.plot(figsize=(5, 3), color=color, linestyle=line, label=r'$\\varepsilon=%d$' % i)\n",
    "\n",
    "plt.grid(0)\n",
    "plt.legend(ncol=2, loc='lower left')\n",
    "plt.xlabel('MinPts')\n",
    "plt.ylabel('no. pure clusters')\n",
    "plt.tight_layout()\n",
    "plt.savefig('figures/nodef-dbscan-cos15-2.pdf', format='pdf')\n",
    "plt.show()"
   ]
  },
  {
   "cell_type": "code",
   "execution_count": 526,
   "metadata": {
    "collapsed": true
   },
   "outputs": [],
   "source": [
    "k_snn = 10\n",
    "snn_graph = []\n",
    "\n",
    "for i, idx in enumerate(top_indexes):\n",
    "    snn_graph.append(set(idx[:k_snn]))\n",
    "\n",
    "clustering = np.array(snn_dbscan.dbscan(snn_graph, eps=4, min_pts=3))\n",
    "clustering[clustering == 'noise'] = 0\n",
    "clustering = clustering.astype(int)"
   ]
  },
  {
   "cell_type": "markdown",
   "metadata": {},
   "source": [
    "### Jaccard:"
   ]
  },
  {
   "cell_type": "code",
   "execution_count": 487,
   "metadata": {
    "collapsed": false
   },
   "outputs": [
    {
     "name": "stdout",
     "output_type": "stream",
     "text": [
      "n t x m p d g k f R l y c r T π C P b S s N B E X F j\n"
     ]
    }
   ],
   "source": [
    "ids_copy = [id_counter(d['identifiers']) for d in docs]\n",
    "\n",
    "all_ids = Counter()\n",
    "\n",
    "for id_cnt in ids_copy:\n",
    "    all_ids.update(id_cnt)\n",
    "\n",
    "infrequent = set()\n",
    "min_count = 15\n",
    "\n",
    "for (el, cnt) in all_ids.items():\n",
    "    if cnt <= min_count:\n",
    "        infrequent.add(el)\n",
    "\n",
    "for id_cnt in ids_copy:\n",
    "    for id in (set(id_cnt) & infrequent):\n",
    "        del id_cnt[id]\n",
    "\n",
    "del all_ids\n",
    "del infrequent\n",
    "\n",
    "# remove most common identifiers - based on df\n",
    "df = Counter()\n",
    "for cnt in ids_copy:\n",
    "    for id in cnt:\n",
    "        df[id] = df[id] + 1\n",
    "\n",
    "top = 50\n",
    "mc = [id for (id, cnt) in df.most_common(top) if cnt > 3000]\n",
    "print ' '.join(mc)\n",
    "\n",
    "mc = set(mc)\n",
    "\n",
    "for id_cnt in ids_copy:\n",
    "    for id in list(id_cnt):\n",
    "        if id in mc:\n",
    "            del id_cnt[id]"
   ]
  },
  {
   "cell_type": "code",
   "execution_count": 489,
   "metadata": {
    "collapsed": true
   },
   "outputs": [],
   "source": [
    "inv_idx = {}\n",
    "\n",
    "for (idx, id_list) in enumerate(ids):\n",
    "    for id in id_list: \n",
    "        if id in inv_idx:\n",
    "            inv_idx[id].append(idx)\n",
    "        else:\n",
    "            inv_idx[id] = [idx]\n",
    "\n",
    "def docs_to_compare(doc_id):\n",
    "    res = set([])\n",
    "    id_list = ids[doc_id]\n",
    "    for id in id_list:\n",
    "        res.update(inv_idx[id])\n",
    "    if doc_id in res:\n",
    "        res.remove(doc_id)\n",
    "    return res"
   ]
  },
  {
   "cell_type": "code",
   "execution_count": 490,
   "metadata": {
    "collapsed": true
   },
   "outputs": [],
   "source": [
    "ids_sets = [set(id_list) for id_list in ids_copy]"
   ]
  },
  {
   "cell_type": "code",
   "execution_count": 492,
   "metadata": {
    "collapsed": true
   },
   "outputs": [],
   "source": [
    "def calc_jaccard(set1, set2):\n",
    "    union = len(set1 | set2)\n",
    "    if not union: \n",
    "        return 0.0\n",
    "\n",
    "    inter = len(set1 & set2)\n",
    "    return inter * 1.0 / union"
   ]
  },
  {
   "cell_type": "code",
   "execution_count": 495,
   "metadata": {
    "collapsed": false
   },
   "outputs": [],
   "source": [
    "k_ssn = 15"
   ]
  },
  {
   "cell_type": "code",
   "execution_count": 496,
   "metadata": {
    "collapsed": false,
    "scrolled": true
   },
   "outputs": [
    {
     "name": "stdout",
     "output_type": "stream",
     "text": [
      "iteration 0\n",
      "iteration 1000\n",
      "iteration 2000\n",
      "iteration 3000\n",
      "iteration 4000\n",
      "iteration 5000\n",
      "iteration 6000\n",
      "iteration 7000\n",
      "iteration 8000\n",
      "iteration 9000\n",
      "iteration 10000\n",
      "iteration 11000\n",
      "iteration 12000\n",
      "iteration 13000\n",
      "iteration 14000\n",
      "iteration 15000\n",
      "iteration 16000\n",
      "iteration 17000\n",
      "iteration 18000\n",
      "iteration 19000\n",
      "iteration 20000\n",
      "iteration 21000\n",
      "iteration 22000\n",
      "done in 1785.970s.\n"
     ]
    }
   ],
   "source": [
    "t0 = time()\n",
    "\n",
    "top_indexes = []\n",
    "jaccard_sim_matrix = scipy.sparse.dok_matrix((N_doc, N_doc))\n",
    "\n",
    "for i in xrange(N_doc):\n",
    "    if i % 1000 == 0:\n",
    "        print \"iteration %d\" % i\n",
    "\n",
    "    doc_ids = np.array(list(docs_to_compare(i)))\n",
    "    sim = np.zeros(len(doc_ids))\n",
    "\n",
    "    for (idx, j) in enumerate(doc_ids):\n",
    "        sim[idx] = calc_jaccard(ids_sets[i], ids_sets[j])\n",
    "    \n",
    "    sim_idx = sim.argsort()[::-1][:k_ssn]\n",
    "    doc_ids_to_add = doc_ids[sim_idx]\n",
    "\n",
    "    top_indexes.append(doc_ids_to_add)\n",
    "    jaccard_sim_matrix[i, doc_ids_to_add] = sim[sim_idx]\n",
    "\n",
    "jaccard_sim_matrix = scipy.sparse.csr_matrix(cos_sim_matrix)\n",
    "print \"done in %0.3fs.\" % (time() - t0)"
   ]
  },
  {
   "cell_type": "code",
   "execution_count": 501,
   "metadata": {
    "collapsed": false,
    "scrolled": true
   },
   "outputs": [
    {
     "name": "stdout",
     "output_type": "stream",
     "text": [
      "Linear regression\n",
      "(T, 16) (X, 12) (β, 9) (Z, 8) (m, 8) (p, 8) (ε_i, 7) (x, 7) (y, 6) (n, 5) (x_i, 4) (y_i, 4) (β_1, 3) (h_i, 2) (Ω, 2) (β_2, 2) (ε, 2) (β_p, 2) (t_i, 1) (ε_2, 1) (y_2, 1) (y_n, 1) (ε_1, 1) (x_11, 1) (ε_n, 1) (y_1, 1) (x_21, 1) (t, 1)\n",
      "Linear predictor function\n",
      "(x, 19) (β, 12) (p, 11) (T, 9) (c, 9) (X, 8) (m, 8) (x_i, 7) (b, 6) (ϕ, 5) (f, 5) (β_p, 4) (ε_i, 4) (β_0, 3) (β_1, 3) (y, 3) (ε, 2) (y_i, 2) (c_1, 1) (ϕ_2, 1) (ϕ_1, 1) (ε_2, 1) (β_2, 1) (x_K, 1) (y_2, 1) (y_n, 1) (ε_1, 1) (x_11, 1) (ϕ_p, 1) (x_1, 1) (ε_n, 1) (y_1, 1) (n, 1) (x_21, 1) (c_K, 1)\n",
      "common\n",
      "(β, 9) (T, 9) (X, 8) (m, 8) (p, 8) (x, 7) (x_i, 4) (ε_i, 4) (β_1, 3) (y, 3) (ε, 2) (y_i, 2) (β_p, 2) (y_2, 1) (y_n, 1) (β_2, 1) (ε_2, 1) (ε_1, 1) (x_11, 1) (ε_n, 1) (y_1, 1) (n, 1) (x_21, 1)\n",
      "jaccard 0.592592592593\n"
     ]
    }
   ],
   "source": [
    "doc1 = title_idx['Linear regression']#Singular value decomposition']\n",
    "doc2 = top_indexes[doc1][0]\n",
    "\n",
    "print titles[doc1]\n",
    "print_cnt(ids[doc1])\n",
    "print \n",
    "\n",
    "print titles[doc2]\n",
    "print_cnt(ids[doc2])\n",
    "print \n",
    "\n",
    "print 'common'\n",
    "print_cnt(ids[doc1] & ids[doc2])\n",
    "print \n",
    "\n",
    "print 'jaccard', calc_jaccard(ids_sets[doc1], ids_sets[doc2])\n"
   ]
  },
  {
   "cell_type": "code",
   "execution_count": null,
   "metadata": {
    "collapsed": true
   },
   "outputs": [],
   "source": []
  },
  {
   "cell_type": "code",
   "execution_count": 504,
   "metadata": {
    "collapsed": true
   },
   "outputs": [],
   "source": [
    "snn_res_params_j = []\n",
    "snn_res_j = {}"
   ]
  },
  {
   "cell_type": "code",
   "execution_count": 505,
   "metadata": {
    "collapsed": false,
    "scrolled": true
   },
   "outputs": [
    {
     "name": "stdout",
     "output_type": "stream",
     "text": [
      "k=10, eps=3, min_pts=3 => purity=0.3304, len=87\n",
      "k=10, eps=3, min_pts=4 => purity=0.3099, len=79\n",
      "k=10, eps=3, min_pts=5 => purity=0.2930, len=80\n",
      "k=10, eps=3, min_pts=6 => purity=0.2791, len=61\n",
      "k=10, eps=3, min_pts=7 => purity=0.2661, len=48\n",
      "k=10, eps=3, min_pts=8 => purity=0.2531, len=40\n",
      "k=10, eps=3, min_pts=9 => purity=0.2429, len=32\n",
      "k=10, eps=3, min_pts=10 => purity=0.2335, len=29\n",
      "k=10, eps=4, min_pts=3 => purity=0.2842, len=78\n",
      "k=10, eps=4, min_pts=4 => purity=0.2614, len=60\n",
      "k=10, eps=4, min_pts=5 => purity=0.2432, len=51\n",
      "k=10, eps=4, min_pts=6 => purity=0.2281, len=36\n",
      "k=10, eps=4, min_pts=7 => purity=0.2164, len=28\n",
      "k=10, eps=4, min_pts=8 => purity=0.2036, len=24\n",
      "k=10, eps=4, min_pts=9 => purity=0.1915, len=18\n",
      "k=10, eps=4, min_pts=10 => purity=0.1809, len=20\n",
      "k=10, eps=5, min_pts=3 => purity=0.2287, len=64\n",
      "k=10, eps=5, min_pts=4 => purity=0.2080, len=43\n",
      "k=10, eps=5, min_pts=5 => purity=0.1945, len=38\n",
      "k=10, eps=5, min_pts=6 => purity=0.1836, len=34\n",
      "k=10, eps=5, min_pts=7 => purity=0.1722, len=26\n",
      "k=10, eps=5, min_pts=8 => purity=0.1607, len=17\n",
      "k=10, eps=5, min_pts=9 => purity=0.1520, len=15\n",
      "k=10, eps=5, min_pts=10 => purity=0.1435, len=11\n",
      "k=10, eps=6, min_pts=3 => purity=0.1826, len=56\n",
      "k=10, eps=6, min_pts=4 => purity=0.1669, len=39\n",
      "k=10, eps=6, min_pts=5 => purity=0.1566, len=31\n",
      "k=10, eps=6, min_pts=6 => purity=0.1466, len=20\n",
      "k=10, eps=6, min_pts=7 => purity=0.1375, len=16\n",
      "k=10, eps=6, min_pts=8 => purity=0.1310, len=13\n",
      "k=10, eps=6, min_pts=9 => purity=0.1236, len=7\n",
      "k=10, eps=6, min_pts=10 => purity=0.1203, len=6\n",
      "k=10, eps=7, min_pts=3 => purity=0.1468, len=29\n",
      "k=10, eps=7, min_pts=4 => purity=0.1364, len=21\n",
      "k=10, eps=7, min_pts=5 => purity=0.1296, len=16\n",
      "k=10, eps=7, min_pts=6 => purity=0.1214, len=9\n",
      "k=10, eps=7, min_pts=7 => purity=0.1170, len=8\n",
      "k=10, eps=7, min_pts=8 => purity=0.1134, len=6\n",
      "k=10, eps=7, min_pts=9 => purity=0.1098, len=5\n",
      "k=10, eps=7, min_pts=10 => purity=0.1081, len=5\n",
      "k=10, eps=8, min_pts=3 => purity=0.1253, len=31\n",
      "k=10, eps=8, min_pts=4 => purity=0.1163, len=22\n",
      "k=10, eps=8, min_pts=5 => purity=0.1098, len=13\n",
      "k=10, eps=8, min_pts=6 => purity=0.1044, len=7\n",
      "k=10, eps=8, min_pts=7 => purity=0.1020, len=6\n",
      "k=10, eps=8, min_pts=8 => purity=0.1004, len=5\n",
      "k=10, eps=8, min_pts=9 => purity=0.0990, len=5\n",
      "k=10, eps=8, min_pts=10 => purity=0.0979, len=5\n",
      "k=10, eps=9, min_pts=3 => purity=0.1026, len=20\n",
      "k=10, eps=9, min_pts=4 => purity=0.0975, len=11\n",
      "k=10, eps=9, min_pts=5 => purity=0.0950, len=7\n",
      "k=10, eps=9, min_pts=6 => purity=0.0932, len=4\n",
      "k=10, eps=9, min_pts=7 => purity=0.0930, len=4\n",
      "k=10, eps=9, min_pts=8 => purity=0.0925, len=4\n",
      "k=10, eps=9, min_pts=9 => purity=0.0916, len=2\n",
      "k=10, eps=9, min_pts=10 => purity=0.0915, len=2\n",
      "k=10, eps=10, min_pts=3 => purity=0.0895, len=3\n",
      "k=10, eps=10, min_pts=4 => purity=0.0883, len=1\n",
      "k=10, eps=10, min_pts=5 => purity=0.0000, len=0\n",
      "k=10, eps=10, min_pts=6 => purity=0.0000, len=0\n",
      "k=10, eps=10, min_pts=7 => purity=0.0000, len=0\n",
      "k=10, eps=10, min_pts=8 => purity=0.0000, len=0\n",
      "k=10, eps=10, min_pts=9 => purity=0.0000, len=0\n",
      "k=10, eps=10, min_pts=10 => purity=0.0000, len=0\n",
      "k=13, eps=3, min_pts=3 => purity=0.3180, len=60\n",
      "k=13, eps=3, min_pts=4 => purity=0.3081, len=46\n",
      "k=13, eps=3, min_pts=5 => purity=0.2990, len=42\n",
      "k=13, eps=3, min_pts=6 => purity=0.2902, len=33\n",
      "k=13, eps=3, min_pts=7 => purity=0.2835, len=32\n",
      "k=13, eps=3, min_pts=8 => purity=0.2787, len=33\n",
      "k=13, eps=3, min_pts=9 => purity=0.2730, len=33\n",
      "k=13, eps=3, min_pts=10 => purity=0.2671, len=32\n",
      "k=13, eps=4, min_pts=3 => purity=0.3015, len=62\n",
      "k=13, eps=4, min_pts=4 => purity=0.2855, len=57\n",
      "k=13, eps=4, min_pts=5 => purity=0.2715, len=52\n",
      "k=13, eps=4, min_pts=6 => purity=0.2598, len=41\n",
      "k=13, eps=4, min_pts=7 => purity=0.2500, len=34\n",
      "k=13, eps=4, min_pts=8 => purity=0.2406, len=35\n",
      "k=13, eps=4, min_pts=9 => purity=0.2340, len=29\n",
      "k=13, eps=4, min_pts=10 => purity=0.2250, len=29\n",
      "k=13, eps=5, min_pts=3 => purity=0.2734, len=76\n",
      "k=13, eps=5, min_pts=4 => purity=0.2524, len=50\n",
      "k=13, eps=5, min_pts=5 => purity=0.2389, len=40\n",
      "k=13, eps=5, min_pts=6 => purity=0.2286, len=35\n",
      "k=13, eps=5, min_pts=7 => purity=0.2189, len=30\n",
      "k=13, eps=5, min_pts=8 => purity=0.2112, len=30\n",
      "k=13, eps=5, min_pts=9 => purity=0.2015, len=23\n",
      "k=13, eps=5, min_pts=10 => purity=0.1923, len=23\n",
      "k=13, eps=6, min_pts=3 => purity=0.2422, len=58\n",
      "k=13, eps=6, min_pts=4 => purity=0.2225, len=40\n",
      "k=13, eps=6, min_pts=5 => purity=0.2093, len=31\n",
      "k=13, eps=6, min_pts=6 => purity=0.1981, len=23\n",
      "k=13, eps=6, min_pts=7 => purity=0.1883, len=19\n",
      "k=13, eps=6, min_pts=8 => purity=0.1801, len=20\n",
      "k=13, eps=6, min_pts=9 => purity=0.1702, len=16\n",
      "k=13, eps=6, min_pts=10 => purity=0.1637, len=14\n",
      "k=13, eps=7, min_pts=3 => purity=0.2054, len=47\n",
      "k=13, eps=7, min_pts=4 => purity=0.1867, len=28\n",
      "k=13, eps=7, min_pts=5 => purity=0.1756, len=23\n",
      "k=13, eps=7, min_pts=6 => purity=0.1676, len=18\n",
      "k=13, eps=7, min_pts=7 => purity=0.1602, len=14\n",
      "k=13, eps=7, min_pts=8 => purity=0.1515, len=13\n",
      "k=13, eps=7, min_pts=9 => purity=0.1447, len=10\n",
      "k=13, eps=7, min_pts=10 => purity=0.1388, len=9\n",
      "k=13, eps=8, min_pts=3 => purity=0.1729, len=40\n",
      "k=13, eps=8, min_pts=4 => purity=0.1585, len=22\n",
      "k=13, eps=8, min_pts=5 => purity=0.1513, len=19\n",
      "k=13, eps=8, min_pts=6 => purity=0.1429, len=12\n",
      "k=13, eps=8, min_pts=7 => purity=0.1364, len=12\n",
      "k=13, eps=8, min_pts=8 => purity=0.1307, len=10\n",
      "k=13, eps=8, min_pts=9 => purity=0.1265, len=9\n",
      "k=13, eps=8, min_pts=10 => purity=0.1217, len=7\n",
      "k=13, eps=9, min_pts=3 => purity=0.1506, len=38\n",
      "k=13, eps=9, min_pts=4 => purity=0.1385, len=22\n",
      "k=13, eps=9, min_pts=5 => purity=0.1324, len=16\n",
      "k=13, eps=9, min_pts=6 => purity=0.1258, len=12\n",
      "k=13, eps=9, min_pts=7 => purity=0.1210, len=11\n",
      "k=13, eps=9, min_pts=8 => purity=0.1159, len=8\n",
      "k=13, eps=9, min_pts=9 => purity=0.1124, len=7\n",
      "k=13, eps=9, min_pts=10 => purity=0.1098, len=6\n",
      "k=13, eps=10, min_pts=3 => purity=0.1291, len=26\n",
      "k=13, eps=10, min_pts=4 => purity=0.1217, len=19\n",
      "k=13, eps=10, min_pts=5 => purity=0.1161, len=17\n",
      "k=13, eps=10, min_pts=6 => purity=0.1115, len=11\n",
      "k=13, eps=10, min_pts=7 => purity=0.1084, len=7\n",
      "k=13, eps=10, min_pts=8 => purity=0.1055, len=6\n",
      "k=13, eps=10, min_pts=9 => purity=0.1031, len=4\n",
      "k=13, eps=10, min_pts=10 => purity=0.1012, len=4\n"
     ]
    }
   ],
   "source": [
    "ks = [10, 13]\n",
    "\n",
    "for k_snn in ks:\n",
    "    snn_graph = []\n",
    "\n",
    "    for i, idx in enumerate(top_indexes):\n",
    "        snn_graph.append(set(idx[:k_snn]))\n",
    "\n",
    "    epsilons = [3, 4, 5, 6, 7, 8, 9, 10]\n",
    "    poins = [3, 4, 5, 6, 7, 8, 9, 10]\n",
    "    \n",
    "    for eps in epsilons:\n",
    "        for min_pts in poins:\n",
    "            res = np.array(snn_dbscan.dbscan(snn_graph, eps, min_pts))\n",
    "            res[res == 'noise'] = 0\n",
    "            res = res.astype(int)\n",
    "\n",
    "            pur = evaluate.overall_purity(res)\n",
    "            no = len(evaluate.high_purity_clusters(res, threshold=0.8, min_size=3))\n",
    "        \n",
    "            snn_res_params_j.append((k_snn, eps, min_pts, pur, no))\n",
    "            snn_res_j[(k_snn, eps, min_pts)] = res\n",
    "    \n",
    "            print 'k=%d, eps=%d, min_pts=%d => purity=%0.4f, len=%d' % (k_snn, eps, min_pts, pur, no)"
   ]
  },
  {
   "cell_type": "code",
   "execution_count": 506,
   "metadata": {
    "collapsed": false
   },
   "outputs": [],
   "source": [
    "snn_df = pd.DataFrame(snn_res_params_j, columns=('k_snn', 'eps', 'min_pts', 'pur', 'no'))"
   ]
  },
  {
   "cell_type": "code",
   "execution_count": 512,
   "metadata": {
    "collapsed": false,
    "scrolled": true
   },
   "outputs": [
    {
     "data": {
      "text/html": [
       "<div style=\"max-height:1000px;max-width:1500px;overflow:auto;\">\n",
       "<table border=\"1\" class=\"dataframe\">\n",
       "  <thead>\n",
       "    <tr>\n",
       "      <th></th>\n",
       "      <th colspan=\"8\" halign=\"left\">no</th>\n",
       "    </tr>\n",
       "    <tr>\n",
       "      <th>min_pts</th>\n",
       "      <th>3</th>\n",
       "      <th>4</th>\n",
       "      <th>5</th>\n",
       "      <th>6</th>\n",
       "      <th>7</th>\n",
       "      <th>8</th>\n",
       "      <th>9</th>\n",
       "      <th>10</th>\n",
       "    </tr>\n",
       "    <tr>\n",
       "      <th>eps</th>\n",
       "      <th></th>\n",
       "      <th></th>\n",
       "      <th></th>\n",
       "      <th></th>\n",
       "      <th></th>\n",
       "      <th></th>\n",
       "      <th></th>\n",
       "      <th></th>\n",
       "    </tr>\n",
       "  </thead>\n",
       "  <tbody>\n",
       "    <tr>\n",
       "      <th>3</th>\n",
       "      <td>60</td>\n",
       "      <td>46</td>\n",
       "      <td>42</td>\n",
       "      <td>33</td>\n",
       "      <td>32</td>\n",
       "      <td>33</td>\n",
       "      <td>33</td>\n",
       "      <td>32</td>\n",
       "    </tr>\n",
       "    <tr>\n",
       "      <th>4</th>\n",
       "      <td>62</td>\n",
       "      <td>57</td>\n",
       "      <td>52</td>\n",
       "      <td>41</td>\n",
       "      <td>34</td>\n",
       "      <td>35</td>\n",
       "      <td>29</td>\n",
       "      <td>29</td>\n",
       "    </tr>\n",
       "    <tr>\n",
       "      <th>5</th>\n",
       "      <td>76</td>\n",
       "      <td>50</td>\n",
       "      <td>40</td>\n",
       "      <td>35</td>\n",
       "      <td>30</td>\n",
       "      <td>30</td>\n",
       "      <td>23</td>\n",
       "      <td>23</td>\n",
       "    </tr>\n",
       "    <tr>\n",
       "      <th>6</th>\n",
       "      <td>58</td>\n",
       "      <td>40</td>\n",
       "      <td>31</td>\n",
       "      <td>23</td>\n",
       "      <td>19</td>\n",
       "      <td>20</td>\n",
       "      <td>16</td>\n",
       "      <td>14</td>\n",
       "    </tr>\n",
       "    <tr>\n",
       "      <th>7</th>\n",
       "      <td>47</td>\n",
       "      <td>28</td>\n",
       "      <td>23</td>\n",
       "      <td>18</td>\n",
       "      <td>14</td>\n",
       "      <td>13</td>\n",
       "      <td>10</td>\n",
       "      <td>9</td>\n",
       "    </tr>\n",
       "    <tr>\n",
       "      <th>8</th>\n",
       "      <td>40</td>\n",
       "      <td>22</td>\n",
       "      <td>19</td>\n",
       "      <td>12</td>\n",
       "      <td>12</td>\n",
       "      <td>10</td>\n",
       "      <td>9</td>\n",
       "      <td>7</td>\n",
       "    </tr>\n",
       "    <tr>\n",
       "      <th>9</th>\n",
       "      <td>38</td>\n",
       "      <td>22</td>\n",
       "      <td>16</td>\n",
       "      <td>12</td>\n",
       "      <td>11</td>\n",
       "      <td>8</td>\n",
       "      <td>7</td>\n",
       "      <td>6</td>\n",
       "    </tr>\n",
       "    <tr>\n",
       "      <th>10</th>\n",
       "      <td>26</td>\n",
       "      <td>19</td>\n",
       "      <td>17</td>\n",
       "      <td>11</td>\n",
       "      <td>7</td>\n",
       "      <td>6</td>\n",
       "      <td>4</td>\n",
       "      <td>4</td>\n",
       "    </tr>\n",
       "  </tbody>\n",
       "</table>\n",
       "</div>"
      ],
      "text/plain": [
       "         no                            \n",
       "min_pts  3   4   5   6   7   8   9   10\n",
       "eps                                    \n",
       "3        60  46  42  33  32  33  33  32\n",
       "4        62  57  52  41  34  35  29  29\n",
       "5        76  50  40  35  30  30  23  23\n",
       "6        58  40  31  23  19  20  16  14\n",
       "7        47  28  23  18  14  13  10   9\n",
       "8        40  22  19  12  12  10   9   7\n",
       "9        38  22  16  12  11   8   7   6\n",
       "10       26  19  17  11   7   6   4   4"
      ]
     },
     "execution_count": 512,
     "metadata": {},
     "output_type": "execute_result"
    }
   ],
   "source": [
    "snn10 = snn_df[snn_df.k_snn == 13][['eps', 'min_pts', 'no']]\n",
    "snn10 = snn10.groupby(by=['eps', 'min_pts']).mean()\n",
    "snn10.unstack()"
   ]
  },
  {
   "cell_type": "code",
   "execution_count": 513,
   "metadata": {
    "collapsed": false
   },
   "outputs": [
    {
     "data": {
      "image/png": "[encoded data removed]",
      "text/plain": [
       "<matplotlib.figure.Figure at 0x44559e10>"
      ]
     },
     "metadata": {},
     "output_type": "display_data"
    }
   ],
   "source": [
    "fig = plt.figure(figsize=(5, 3))\n",
    "ax = fig.add_subplot(111, projection='3d')\n",
    "\n",
    "Xs, Ys = np.meshgrid(epsilons, poins)\n",
    "# plot surface, more colormaps: http://matplotlib.sourceforge.net/examples/pylab_examples/show_colormaps.html\n",
    "# ax.plot_surface(Xs, Ys, Zs, rstride=4, cstride=4, alpha=0.4,cmap=cm.jet)\n",
    "\n",
    "ax.plot_wireframe(Xs, Ys, snn10.unstack(), color='black')\n",
    "ax.view_init(elev=40, azim=20)\n",
    "ax.set_xlabel(r'$\\varepsilon$')\n",
    "ax.set_ylabel('MinPts')\n",
    "ax.set_zlabel('no. pure clusters')\n",
    "\n",
    "plt.tight_layout()\n",
    "plt.savefig('figures/nodef-dbscan-jac13.pdf', format='pdf')\n",
    "plt.show()"
   ]
  },
  {
   "cell_type": "code",
   "execution_count": 514,
   "metadata": {
    "collapsed": false
   },
   "outputs": [
    {
     "data": {
      "image/png": "[encoded data removed]",
      "text/plain": [
       "<matplotlib.figure.Figure at 0x839fe0b8>"
      ]
     },
     "metadata": {},
     "output_type": "display_data"
    }
   ],
   "source": [
    "visual = {3: ('black', '-'), 4: ('black', '--'), 5: ('grey', '-'), 6: ('grey', '--')}\n",
    "\n",
    "for i, n in snn10.reset_index().groupby('eps'):\n",
    "    if i in visual:\n",
    "        color, line = visual[i]\n",
    "        n.set_index('min_pts').no.plot(figsize=(5, 3), color=color, linestyle=line, label=r'$\\varepsilon=%d$' % i)\n",
    "\n",
    "plt.grid(0)\n",
    "plt.legend(ncol=2)# loc='lower left')\n",
    "plt.xlabel('MinPts')\n",
    "plt.ylabel('no. pure clusters')\n",
    "plt.tight_layout()\n",
    "plt.savefig('figures/nodef-dbscan-jac13-2.pdf', format='pdf')\n",
    "plt.show()"
   ]
  },
  {
   "cell_type": "code",
   "execution_count": 517,
   "metadata": {
    "collapsed": false
   },
   "outputs": [
    {
     "data": {
      "text/plain": [
       "87"
      ]
     },
     "execution_count": 517,
     "metadata": {},
     "output_type": "execute_result"
    }
   ],
   "source": [
    "clustering = snn_res_j[(10, 3, 3)]\n",
    "len(evaluate.high_purity_clusters(clustering, threshold=0.8, min_size=3))"
   ]
  },
  {
   "cell_type": "code",
   "execution_count": 520,
   "metadata": {
    "collapsed": false
   },
   "outputs": [
    {
     "data": {
      "text/plain": [
       "5581"
      ]
     },
     "execution_count": 520,
     "metadata": {},
     "output_type": "execute_result"
    }
   ],
   "source": [
    "Counter(clustering)[0]"
   ]
  },
  {
   "cell_type": "code",
   "execution_count": 519,
   "metadata": {
    "collapsed": false
   },
   "outputs": [
    {
     "data": {
      "text/plain": [
       "4219"
      ]
     },
     "execution_count": 519,
     "metadata": {},
     "output_type": "execute_result"
    }
   ],
   "source": [
    "len(np.unique(clustering))"
   ]
  },
  {
   "cell_type": "code",
   "execution_count": 522,
   "metadata": {
    "collapsed": false,
    "scrolled": true
   },
   "outputs": [
    {
     "name": "stdout",
     "output_type": "stream",
     "text": [
      "overall purity 0.3304\n",
      "number of high purity clusters of size at least 5 is 87\n",
      "\n",
      "- Continuum mechanics (id=157) size=40, purity=0.8000\n",
      "- Constellations listed by Ptolemy (id=1812) size=17, purity=1.0000\n",
      "- National Basketball Association seasons (id=1939) size=13, purity=0.9231\n",
      "- Statistics (id=3810) size=13, purity=0.8462\n",
      "- Knot theory (id=4225) size=13, purity=0.8462\n",
      "- Electromagnetism (id=4106) size=12, purity=0.8333\n",
      "- Bayer objects (id=3767) size=11, purity=1.0000\n",
      "- Analytic number theory (id=3644) size=10, purity=0.9000\n",
      "- Acoustics (id=1706) size=9, purity=0.8889\n",
      "- Chemical properties (id=2058) size=9, purity=0.8889\n",
      "- Set theory (id=4176) size=9, purity=0.8889\n",
      "- Combinatorics (id=2685) size=8, purity=0.8750\n",
      "- Theory of computation (id=2729) size=8, purity=1.0000\n",
      "- Partial differential equations (id=3000) size=8, purity=0.8750\n",
      "- Mathematical logic (id=4165) size=8, purity=0.8750\n",
      "- Set theory (id=4236) size=8, purity=1.0000\n",
      "- Fluid mechanics (id=1867) size=7, purity=0.8571\n",
      "- Dimensional analysis (id=3129) size=7, purity=0.8571\n",
      "- Theory of computation (id=3406) size=7, purity=0.8571\n",
      "- Enzymes (id=47) size=6, purity=1.0000\n",
      "- Plasma physics (id=1353) size=6, purity=1.0000\n",
      "- Probability distributions (id=1521) size=6, purity=0.8333\n",
      "- Astronomical catalogues of stars (id=2252) size=6, purity=1.0000\n",
      "- Geophysics (id=2296) size=6, purity=1.0000\n",
      "- Stochastic processes (id=2540) size=6, purity=1.0000\n",
      "- Cartography (id=3118) size=6, purity=0.8333\n",
      "- Theoretical physics (id=3426) size=6, purity=1.0000\n",
      "- Physics (id=3502) size=6, purity=0.8333\n",
      "- Statistics (id=4192) size=6, purity=0.8333\n",
      "- Fluid dynamics (id=23) size=5, purity=0.8000\n",
      "- Radio frequency propagation (id=623) size=5, purity=0.8000\n",
      "- Fluid dynamics (id=632) size=5, purity=1.0000\n",
      "- Quantum mechanics (id=907) size=5, purity=0.8000\n",
      "- Stars with proper names (id=1393) size=5, purity=1.0000\n",
      "- Cartographic projections (id=1796) size=5, purity=0.8000\n",
      "- Thermodynamics (id=1933) size=5, purity=0.8000\n",
      "- Fluid dynamics (id=2304) size=5, purity=1.0000\n",
      "- Physics (id=2311) size=5, purity=0.8000\n",
      "- Particle physics (id=2337) size=5, purity=0.8000\n",
      "- Algebra (id=2349) size=5, purity=0.8000\n",
      "- General relativity (id=2581) size=5, purity=1.0000\n",
      "- Quantum mechanics (id=3082) size=5, purity=0.8000\n",
      "- Physics (id=3218) size=5, purity=0.8000\n",
      "- Quantum mechanics (id=3581) size=5, purity=0.8000\n",
      "- Theoretical physics (id=3592) size=5, purity=0.8000\n",
      "- Stochastic processes (id=3896) size=5, purity=1.0000\n",
      "- Fluid mechanics (id=3991) size=5, purity=0.8000\n",
      "- Mechanics (id=4071) size=5, purity=0.8000\n",
      "- Algebraic geometry (id=1162) size=4, purity=1.0000\n",
      "- Pharmaceutical sciences (id=1164) size=4, purity=1.0000\n",
      "- Abstract algebra (id=1249) size=4, purity=1.0000\n",
      "- Constellations listed by Ptolemy (id=1396) size=4, purity=1.0000\n",
      "- Mathematical methods in general relativity (id=1604) size=4, purity=1.0000\n",
      "- Quantum mechanics (id=1618) size=4, purity=1.0000\n",
      "- Equations (id=2208) size=4, purity=1.0000\n",
      "- Physics (id=2216) size=4, purity=1.0000\n",
      "- Financial economics (id=2267) size=4, purity=1.0000\n",
      "- Quantum mechanics (id=2807) size=4, purity=1.0000\n",
      "- Thermodynamics (id=2941) size=4, purity=1.0000\n",
      "- Statistical data types (id=4069) size=4, purity=1.0000\n",
      "- Branches of psychology (id=393) size=3, purity=1.0000\n",
      "- Concepts in logic (id=417) size=3, purity=1.0000\n",
      "- Mathematical analysis (id=497) size=3, purity=1.0000\n",
      "- Stochastic processes (id=634) size=3, purity=1.0000\n",
      "- Fractions (id=698) size=3, purity=1.0000\n",
      "- Mathematical analysis (id=795) size=3, purity=1.0000\n",
      "- Fluid dynamics (id=879) size=3, purity=1.0000\n",
      "- Differential geometry (id=1053) size=3, purity=1.0000\n",
      "- Quantum mechanics (id=1070) size=3, purity=1.0000\n",
      "- Physical cosmology (id=1140) size=3, purity=1.0000\n",
      "- Group theory (id=1346) size=3, purity=1.0000\n",
      "- Quantum mechanics (id=1351) size=3, purity=1.0000\n",
      "- Gravitation (id=1412) size=3, purity=1.0000\n",
      "- Glass applications (id=2039) size=3, purity=1.0000\n",
      "- Differential equations (id=2173) size=3, purity=1.0000\n",
      "- Physics (id=2251) size=3, purity=1.0000\n",
      "- Mathematical analysis (id=2373) size=3, purity=1.0000\n",
      "- Fields of mathematics (id=2668) size=3, purity=1.0000\n",
      "- Differential geometry (id=2672) size=3, purity=1.0000\n",
      "- Physics (id=3198) size=3, purity=1.0000\n",
      "- Statistical inference (id=3232) size=3, purity=1.0000\n",
      "- Electromagnetic radiation (id=3469) size=3, purity=1.0000\n",
      "- Particle physics (id=3599) size=3, purity=1.0000\n",
      "- Complex analysis (id=3645) size=3, purity=1.0000\n",
      "- Physics (id=3666) size=3, purity=1.0000\n",
      "- Physics (id=3846) size=3, purity=1.0000\n",
      "- Group theory (id=3867) size=3, purity=1.0000\n"
     ]
    }
   ],
   "source": [
    "evaluate.report_overall(clustering, purity_threshold=0.8, min_size=3, sort_by='size')"
   ]
  },
  {
   "cell_type": "code",
   "execution_count": 523,
   "metadata": {
    "collapsed": false,
    "scrolled": true
   },
   "outputs": [
    {
     "name": "stdout",
     "output_type": "stream",
     "text": [
      "cluster 3810, size: 13\n",
      "- Partition of sums of squares (categories: Statistics, Statistical data types, Mathematical optimization, Data analysis, Econometrics, ...) y ESS S_regression p β_0 β_1 ε_i S_error m n β_p S S_total ε T y_i β X TSS RSS\n",
      "- Deming regression (categories: Statistics, Statistical data types, Mathematical optimization, Data analysis, Econometrics, ...) Z σ η η_i β β_0 β_1 ε_i m s x_i p S R ε δ y_i y x n\n",
      "- Instrumental variable (categories: Statistics, Fields of application of statistics, Statistical data types, Mathematical and quantitative methods (economics), Mathematical optimization, ...) Pr E_u x_k x_i P_Z β_1 β ε δ y_i z_m noise E P R U T x_1 Y X Z z_1 g f ε_i m p β_k u y x z\n",
      "- Ordinary least squares (categories: Statistics, Statistical data types, Signal processing, Mathematical optimization, Control theory, ...) Pr w_i x_i n h_j TSS h_i β_1 β_2 β_3 SSR s α β ε y_i σ E η χ M L N Q P S R T x_0 X M_1 c b H_0 h ε_i j y_0 q p β_j X_2 t X_1 y x\n",
      "- Endogeneity (applied statistics) (categories: Statistics, Fields of application of statistics, Mathematical and quantitative methods (economics), Economics, Econometrics, ...) γ_1 ε_i γ_2 E β_1 β_2 γ x_i α ν_i β ε y_i x y z_i z v_i u_i\n",
      "- Linear predictor function (categories: Statistics, Machine learning, Artificial intelligence, Statistical models, Specific models, ...) x_i c_1 ϕ_2 ϕ_1 ε_2 β_0 β_1 β_2 x_K y_2 y_n ε_1 β ε y_i x_11 ϕ_p ϕ T x_1 X c b f β_p ε_i m ε_n y_1 n x_21 p y x c_K\n",
      "- Stochastic frontier analysis (categories: Mathematical and quantitative methods (economics), Specific models, Conceptual models, Economics models, Economic development) β_n f β_0 u_i x_i β T y_i E_i n v_i\n",
      "- Proofs involving ordinary least squares (categories: Statistics, Statistical data types, Mathematical optimization, Data analysis, Econometrics, ...) x_i β_0 β_1 β ε π σ χ M L N P S T V X b d ε_i m n p r y x\n",
      "- Projection pursuit regression (categories: Statistics, Statistical data types, Mathematical optimization, Data analysis, Econometrics, ...) β β_0 j S f_j n β_j r ε y_i X Y x x_i\n",
      "- De Casteljau's algorithm (categories: Mathematical analysis, Algorithms, Numerical analysis, Mathematical problem solving, Computational science, ...) w_i x_i P_i P_n p β_0 β_1 β_2 β y_i B_1 B_2 B_3 B R z_i j m n β_i t β_n t_0 P_0\n",
      "- Regression analysis (categories: Statistics, Applied mathematics, Fields of application of statistics, Statistical data types, Mathematical and quantitative methods (economics), ...) x_i β_0 β_1 β_2 β ε y_i σ E N S Y X f β_p ε_i j m n p y x k\n",
      "- Linear regression (categories: Statistics, Fields of application of statistics, Statistical data types, Signal processing, Mathematical and quantitative methods (economics), ...) x_i h_i t_i ε_2 Ω β_1 β_2 y_2 y_n ε_1 β ε y_i x_11 T X Z β_p ε_i m ε_n y_1 n x_21 p t y x\n",
      "- Least squares (categories: Mathematical analysis, Statistics, Numerical analysis, Statistical data types, Mathematical and quantitative methods (economics), ...) WJ x_i Δ WX β_0 β_1 β_2 α r_i β ε y_i w_ii Wy σ F ϕ_j J F_i S T W W_ii X r wy f ε_i j m n p β_j β_k y x k wX\n",
      "\n",
      "common terms: (β)\n",
      "top categories: (Statistics, 11), (Statistical models, 10), (Econometrics, 10), (Data analysis, 9), (Estimation theory, 9)\n",
      "purity: 0.846\n",
      "relations:\n",
      "     B: (curve: 1.81), (bézier: 0.92), (evaluation: 0.88), (degree: 0.87)\n",
      "     ESS: (explained sum of squares*: 1.78)\n",
      "     F: (force: 0.93), (model: 0.84), (independent variable: 0.84)\n",
      "     H_0: (constraint: 0.96), (restriction: 0.93), (model subject: 0.81)\n",
      "     J: (jacobian: 0.93)\n",
      "     L: (dependent variable: 0.93), (i_n −: 0.93)\n",
      "     M: (matrix: 2.89), (projects: 0.95), (symmetric: 0.92), (residuals: 0.84)\n",
      "     M_1: (annihilator matrix: 0.87), (regression: 0.83)\n",
      "     N: (measurements: 1.73), (sample size: 0.82)\n",
      "     P: (matrix*: 2.65), (projection: 0.86)\n",
      "     P_i: (control points: 0.99)\n",
      "     R: (coefficient of determination: 0.95), (order: 0.88)\n",
      "     RSS: (residual sum of squares: 0.95)\n",
      "     S: (objective function: 0.95), (quadratic expression: 0.95), (squares: 0.91), (residuals: 0.83)\n",
      "     SSR: (residuals: 1.86)\n",
      "     T: (matrix*: 2.54), (observations: 1.89), (transpose: 1.70), (length: 0.95), (random sample: 0.91), (column vectors: 0.86), (form: 0.83), (overall model fit: 0.81)\n",
      "     TSS: (total sum: 0.89), (squares: 0.89)\n",
      "     W: (weight matrix: 0.95)\n",
      "     X: (matrix*: 2.92), (regressors: 2.64), (full column rank*: 1.75), (projection: 0.91), (explanatory variables: 0.91), (dimension: 0.88), (unit vector: 0.86), (particular row: 0.83), (capital: 0.82), (space: 0.82), (affine function: 0.82)\n",
      "     X_1: (regressors: 0.92), (form: 0.86), (annihilator matrix: 0.82)\n",
      "     X_2: (dimensions: 0.93)\n",
      "     Y: (regression model: 0.95), (particular observation variable: 0.89)\n",
      "     Z: (interest: 0.86)\n",
      "     b: (candidate value: 0.87), (assumption matrix: 0.83), (quadratic expression: 0.83)\n",
      "     c: (increases: 0.96), (distance: 0.95), (full rank: 0.89)\n",
      "     f: (linear predictor function: 0.99), (data point: 0.95), (producer: 0.87), (basic form: 0.83), (convenient form: 0.82)\n",
      "     f_j: (appropriate set: 0.86), (model: 0.83)\n",
      "     h_i: (ascent: 0.99), (moments: 0.89), (heights: 0.89)\n",
      "     h_j: (quantities: 0.99), (leverages: 0.83)\n",
      "     j: (observation: 0.87)\n",
      "     k: (length: 0.96), (measurements: 0.90), (force constant: 0.88), (iteration number: 0.86), (series: 0.83)\n",
      "     m: (underidentified*: 1.85), (gradient equations: 0.93), (straight line: 0.89), (k degrees: 0.89), (model: 0.89)\n",
      "     n: (observations: 3.60), (degree*: 2.68), (data*: 2.56), (data points*: 1.83), (simple linear regression*: 1.69), (statistical units: 0.99), (modeling: 0.96), (chi-squared distribution: 0.93), (measurements: 0.93), (left: 0.93), (steps: 0.92), (order: 0.91), (series: 0.89), (rank: 0.88), (columns: 0.87), (matrix: 0.84)\n",
      "     p: (regressors: 1.77), (predictors: 0.95), (rank: 0.93), (degrees: 0.92), (matrix: 0.86), (freedom: 0.82), (n-p-1: 0.81)\n",
      "     q: (matrix: 1.90), (full rank: 0.86)\n",
      "     r: (collection: 0.93)\n",
      "     r_i: (squares: 0.95), (gradient equation: 0.89)\n",
      "     s: (first quantity: 0.88), (population: 0.86), (practice: 0.82)\n",
      "     t: (decasteljau*: 2.93), (coefs: 0.96), (curve: 0.91), (f-tests: 0.89), (pieces: 0.88)\n",
      "     t_0: (curve*: 1.69)\n",
      "     t_i: (time: 0.99), (moments: 0.87)\n",
      "     v_i: (effects: 0.95), (noise: 0.86)\n",
      "     w_i: (control points*: 1.66), (weights: 0.99)\n",
      "     x: (single scalar response*: 1.74), (inputs: 0.93), (outcomes: 0.93), (correlation: 0.93), (predictor: 0.93), (form: 0.89), (mean: 0.89), (causal relationship: 0.89), (independent variable: 0.87), (error: 0.87), (column vector: 0.87), (causal effect: 0.83), (experimental impossibility: 0.82), (squares estimates: 0.81), (average: 0.81), (observations: 0.81)\n",
      "     x_i: (regressors*: 4.55), (independent variable: 1.82), (unit change: 0.95), (linear: 0.92), (p-vector: 0.86), (data: 0.83), (observations: 0.83), (inner product: 0.83)\n",
      "     y: (mean*: 3.52), (distribution*: 2.69), (estimate*: 1.72), (outcome: 0.99), (plug: 0.96), (continuous: 0.95), (dependent variable: 0.95), (meaning: 0.93), (observations: 0.92), (overline: 0.91), (distance: 0.89), (ith data point: 0.89), (joint probability distribution: 0.88), (instrument: 0.86), (error parallel: 0.84), (effect: 0.81)\n",
      "     y_0: (mean response: 0.99), (construct confidence intervals: 0.89)\n",
      "     y_i: (dependent variable*: 3.71), (scalar response*: 1.88), (data*: 1.84), (constant: 0.99), (causes: 0.95), (causal effect: 0.95), (left: 0.91), (residual: 0.89), (model: 0.89), (linear combination: 0.87), (overline: 0.86), (unit change: 0.83), (scalar output: 0.83)\n",
      "     z: (causal relationship: 0.90), (correlation: 0.81)\n",
      "     α: (confidence level: 1.94), (least-squares penalty: 0.91)\n",
      "     β: (estimator*: 2.82), (matrix transpose: 0.95), (regression coefficient: 0.91), (causal effect: 0.89), (production frontier: 0.87), (random sample: 0.84), (consistency: 0.83)\n",
      "     β_0: (β_1x: 0.95), (slope: 0.89), (y-intercept: 0.87)\n",
      "     β_1: (slope: 1.82), (y-intercept: 0.93), (model function: 0.89), (straight line: 0.88), (initial velocity: 0.87), (regressor: 0.81)\n",
      "     β_2: (ball: 0.93), (p_1 ×: 0.91), (ols estimate: 0.89)\n",
      "     β_j: (component: 0.93), (unit vector: 0.86), (directions: 0.84), (collection: 0.81)\n",
      "     γ: (meaning: 0.96)\n",
      "     δ: (variances: 0.89)\n",
      "     ε: (errors*: 2.90), (error term: 0.99), (covariance matrix: 0.88), (column vectors: 0.88), (residuals: 0.86)\n",
      "     ε_i: (error term*: 2.71), (random variables*: 1.70), (disturbance term: 1.68), (measurement errors: 0.96), (distribution: 0.89), (fourth moment: 0.88), (standard gravity: 0.84), (relationship: 0.81)\n",
      "     η: (errors: 0.89)\n",
      "     ν_i: (measurement noise: 0.89)\n",
      "     σ: (residual variance*: 2.68), (estimator: 0.95), (covariance matrix: 0.86), (identity matrix: 0.85)\n"
     ]
    }
   ],
   "source": [
    "evaluate.print_cluster(clustering, 3810)"
   ]
  },
  {
   "cell_type": "code",
   "execution_count": 524,
   "metadata": {
    "collapsed": false
   },
   "outputs": [
    {
     "name": "stdout",
     "output_type": "stream",
     "text": [
      "overall purity 0.3304\n",
      "number of high purity clusters of size at least 5 is 87\n",
      "\n",
      "category \"Continuum mechanics\", cluster_id=157, size=40:\n",
      "top categories: [(u'Continuum mechanics', 32), (u'Mechanics', 32), (u'Solid mechanics', 27), (u'Materials science', 25), (u'Classical mechanics', 18)]\n",
      "     β: (bias: 1.75), (criterion: 0.83), (type: 0.83)\n",
      "category \"Radio frequency propagation\", cluster_id=623, size=5:\n",
      "top categories: [(u'Radio frequency propagation', 4), (u'Amateur radio', 4), (u'Radio technology', 4), (u'Wireless', 4), (u'Electromagnetic radiation', 4)]\n",
      "     β: (clutter factor: 0.95), (kilometer: 0.83)\n",
      "category \"Quantum mechanics\", cluster_id=1070, size=3:\n",
      "top categories: [(u'Quantum mechanics', 3), (u'Theoretical physics', 3), (u'Particle physics', 3), (u'Quantum field theory', 2), (u'Mechanics', 1)]\n",
      "     β: (voltage-to-barrier-field conversion factor: 1.87), (fowler-nordheim: 0.85), (− value: 0.82)\n",
      "category \"Fluid dynamics\", cluster_id=2304, size=5:\n",
      "top categories: [(u'Fluid dynamics', 5), (u'Dynamics', 4), (u'Fluid mechanics', 4), (u'Heat transfer', 2), (u'Transport phenomena', 2)]\n",
      "     β: (momentum factor: 0.95), (medium: 0.95), (potential energy term: 0.91), (model: 0.91), (coefficient of thermal expansion: 0.87)\n",
      "category \"Physics\", cluster_id=2311, size=5:\n",
      "top categories: [(u'Physics', 4), (u'Transparent materials', 2), (u'Astrophysics', 2), (u'Technology by type', 2), (u'Mechanics', 2)]\n",
      "     β: (i/ab: 0.84), (fusion power density: 0.81)\n",
      "category \"Theoretical physics\", cluster_id=3426, size=6:\n",
      "top categories: [(u'Theoretical physics', 6), (u'Quantum mechanics', 5), (u'Physics', 4), (u'Philosophy of physics', 3), (u'Particle physics', 3)]\n",
      "     β: (quantity: 0.96), (summation: 0.93)\n",
      "category \"Complex analysis\", cluster_id=3645, size=3:\n",
      "top categories: [(u'Complex analysis', 3), (u'Elliptic functions', 3), (u'Analytic number theory', 3), (u'Number theory', 3), (u'Types of functions', 2)]\n",
      "     β: (absolute value: 0.95)\n",
      "category \"Statistics\", cluster_id=3810, size=13:\n",
      "top categories: [(u'Statistics', 11), (u'Statistical models', 10), (u'Econometrics', 10), (u'Data analysis', 9), (u'Estimation theory', 9)]\n",
      "     β: (estimator*: 2.82), (matrix transpose: 0.95), (regression coefficient: 0.91), (causal effect: 0.89), (production frontier: 0.87), (random sample: 0.84), (consistency: 0.83)\n",
      "category \"Set theory\", cluster_id=4176, size=9:\n",
      "top categories: [(u'Set theory', 8), (u'Cardinal numbers', 7), (u'Infinity', 7), (u'Ordinal numbers', 7), (u'Numbers', 7)]\n",
      "     β: (successor ordinal: 0.89)\n"
     ]
    }
   ],
   "source": [
    "evaluate.find_identifier(clustering, purity_threshold=0.8, id=u'β', min_size=3, collection_weighting=0)"
   ]
  },
  {
   "cell_type": "code",
   "execution_count": null,
   "metadata": {
    "collapsed": true
   },
   "outputs": [],
   "source": []
  }
 ],
 "metadata": {
  "kernelspec": {
   "display_name": "Python 2",
   "language": "python",
   "name": "python2"
  },
  "language_info": {
   "codemirror_mode": {
    "name": "ipython",
    "version": 2
   },
   "file_extension": ".py",
   "mimetype": "text/x-python",
   "name": "python",
   "nbconvert_exporter": "python",
   "pygments_lexer": "ipython2",
   "version": "2.7.7"
  }
 },
 "nbformat": 4,
 "nbformat_minor": 0
}
