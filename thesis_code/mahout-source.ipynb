{
 "cells": [
  {
   "cell_type": "code",
   "execution_count": 1,
   "metadata": {
    "collapsed": true
   },
   "outputs": [],
   "source": [
    "import numpy as np\n",
    "import pandas as pd\n",
    "import matplotlib.pyplot as plt\n",
    "\n",
    "import json\n",
    "import os\n",
    "from collections import Counter, defaultdict\n",
    "\n",
    "from time import time\n",
    "\n",
    "%matplotlib inline\n",
    "\n",
    "import scipy.sparse"
   ]
  },
  {
   "cell_type": "code",
   "execution_count": 2,
   "metadata": {
    "collapsed": true
   },
   "outputs": [],
   "source": [
    "import matplotlib\n",
    "matplotlib.rcParams['mathtext.fontset'] = 'stix'\n",
    "matplotlib.rcParams['font.family'] = 'STIXGeneral'\n",
    "matplotlib.rcParams['axes.labelsize']= 'large'"
   ]
  },
  {
   "cell_type": "code",
   "execution_count": 3,
   "metadata": {
    "collapsed": false
   },
   "outputs": [],
   "source": [
    "stop_list = {\"byte\", \"short\", \"int\", \"long\", \"float\", \"double\", \"boolean\", \"char\", \n",
    "             \"GENERIC_PARAM\"}\n",
    "\n",
    "def keep(type): \n",
    "    if type in stop_list:\n",
    "        return False\n",
    "    \n",
    "    if type.startswith(\"java\"):\n",
    "        return False\n",
    "    \n",
    "    return True\n",
    "\n",
    "def extract_ids(data):\n",
    "    pairs = [(d['type']['fullName'], d['name']) for d in data['ids']]\n",
    "    return [(type, name) for (type, name) in pairs if keep(type)]"
   ]
  },
  {
   "cell_type": "code",
   "execution_count": 4,
   "metadata": {
    "collapsed": false
   },
   "outputs": [],
   "source": [
    "class_names = []\n",
    "packages = []\n",
    "ids = []\n",
    "\n",
    "for line in file('C:/tmp/mlp/jlp-mahout.json'):\n",
    "    data = json.loads(line)\n",
    "    class_names.append(data[u'className'])\n",
    "    packages.append(data[u'packageName'])\n",
    "    ids.append(extract_ids(data))"
   ]
  },
  {
   "cell_type": "code",
   "execution_count": 28,
   "metadata": {
    "collapsed": false
   },
   "outputs": [
    {
     "data": {
      "text/plain": [
       "155"
      ]
     },
     "execution_count": 28,
     "metadata": {},
     "output_type": "execute_result"
    }
   ],
   "source": [
    "len(set(packages))"
   ]
  },
  {
   "cell_type": "code",
   "execution_count": 5,
   "metadata": {
    "collapsed": false
   },
   "outputs": [
    {
     "data": {
      "text/plain": [
       "1560"
      ]
     },
     "execution_count": 5,
     "metadata": {},
     "output_type": "execute_result"
    }
   ],
   "source": [
    "len(ids)"
   ]
  },
  {
   "cell_type": "code",
   "execution_count": 6,
   "metadata": {
    "collapsed": false
   },
   "outputs": [
    {
     "data": {
      "text/plain": [
       "15869"
      ]
     },
     "execution_count": 6,
     "metadata": {},
     "output_type": "execute_result"
    }
   ],
   "source": [
    "sum(len(id_list) for id_list in ids)"
   ]
  },
  {
   "cell_type": "code",
   "execution_count": 7,
   "metadata": {
    "collapsed": false
   },
   "outputs": [
    {
     "data": {
      "text/plain": [
       "[(u'org.apache.mahout.math.map', 194),\n",
       " (u'org.apache.mahout.math', 104),\n",
       " (u'org.apache.mahout.math.function', 92),\n",
       " (u'org.apache.mahout.classifier.sgd', 47),\n",
       " (u'org.apache.mahout.text', 35),\n",
       " (u'org.apache.mahout.cf.taste.impl.common', 35),\n",
       " (u'org.apache.mahout.cf.taste.impl.recommender', 34),\n",
       " (u'org.apache.mahout.math.list', 27),\n",
       " (u'org.apache.mahout.common', 27),\n",
       " (u'org.apache.mahout.math.set', 25)]"
      ]
     },
     "execution_count": 7,
     "metadata": {},
     "output_type": "execute_result"
    }
   ],
   "source": [
    "Counter(packages).most_common(10)"
   ]
  },
  {
   "cell_type": "code",
   "execution_count": 8,
   "metadata": {
    "collapsed": false
   },
   "outputs": [
    {
     "data": {
      "text/plain": [
       "[((u'org.apache.hadoop.conf.Configuration', u'conf'), 491),\n",
       " ((u'org.apache.mahout.math.Vector', u'v'), 224),\n",
       " ((u'org.apache.mahout.cf.taste.model.DataModel', u'dataModel'), 207),\n",
       " ((u'org.apache.hadoop.fs.FileSystem', u'fs'), 207),\n",
       " ((u'org.slf4j.Logger', u'log'), 171),\n",
       " ((u'org.apache.hadoop.fs.Path', u'output'), 152),\n",
       " ((u'org.apache.mahout.math.Vector', u'vector'), 145),\n",
       " ((u'org.apache.mahout.math.Vector', u'x'), 120),\n",
       " ((u'org.apache.hadoop.fs.Path', u'path'), 113),\n",
       " ((u'org.apache.mahout.common.distance.DistanceMeasure', u'measure'), 102),\n",
       " ((u'org.apache.hadoop.fs.Path', u'input'), 101),\n",
       " ((u'org.apache.mahout.math.Vector', u'y'), 87),\n",
       " ((u'org.apache.mahout.math.function.IntComparator', u'comp'), 74),\n",
       " ((u'org.apache.hadoop.mapreduce.Job', u'job'), 71),\n",
       " ((u'org.apache.mahout.math.Matrix', u'm'), 70),\n",
       " ((u'org.apache.mahout.math.Swapper', u'swapper'), 65),\n",
       " ((u'org.apache.hadoop.fs.Path', u'outputPath'), 61),\n",
       " ((u'org.apache.mahout.cf.taste.model.PreferenceArray', u'prefs'), 61),\n",
       " ((u'org.apache.mahout.math.Vector', u'instance'), 61),\n",
       " ((u'org.apache.mahout.math.function.DoubleDoubleFunction', u'f'), 58)]"
      ]
     },
     "execution_count": 8,
     "metadata": {},
     "output_type": "execute_result"
    }
   ],
   "source": [
    "cnt = Counter()\n",
    "\n",
    "for id_list in ids:\n",
    "    cnt.update(id_list)\n",
    "    \n",
    "cnt.most_common(20)"
   ]
  },
  {
   "cell_type": "code",
   "execution_count": 9,
   "metadata": {
    "collapsed": false
   },
   "outputs": [
    {
     "data": {
      "text/plain": [
       "[(u'org.apache.mahout.math.Vector', 1667),\n",
       " (u'org.apache.hadoop.fs.Path', 1213),\n",
       " (u'org.apache.mahout.math.Matrix', 669),\n",
       " (u'org.apache.hadoop.conf.Configuration', 653),\n",
       " (u'org.apache.commons.cli2.Option', 275),\n",
       " (u'org.apache.mahout.math.list.IntArrayList', 246),\n",
       " (u'org.apache.mahout.math.list.DoubleArrayList', 245),\n",
       " (u'org.apache.mahout.math.list.ShortArrayList', 240),\n",
       " (u'org.apache.mahout.math.list.LongArrayList', 240),\n",
       " (u'org.apache.mahout.math.list.FloatArrayList', 240),\n",
       " (u'org.apache.mahout.math.list.ByteArrayList', 240),\n",
       " (u'org.apache.mahout.math.list.CharArrayList', 240),\n",
       " (u'org.apache.mahout.cf.taste.model.DataModel', 233),\n",
       " (u'org.apache.hadoop.fs.FileSystem', 231),\n",
       " (u'org.apache.mahout.math.function.DoubleDoubleFunction', 182),\n",
       " (u'org.slf4j.Logger', 177),\n",
       " (u'org.apache.mahout.math.VectorWritable', 171),\n",
       " (u'org.apache.mahout.common.Pair', 141),\n",
       " (u'org.apache.mahout.cf.taste.model.PreferenceArray', 137),\n",
       " (u'org.apache.mahout.common.distance.DistanceMeasure', 132)]"
      ]
     },
     "execution_count": 9,
     "metadata": {},
     "output_type": "execute_result"
    }
   ],
   "source": [
    "cnt_type = Counter()\n",
    "\n",
    "for id_list in ids:\n",
    "    cnt_type.update([t for t, _ in id_list])\n",
    "    \n",
    "cnt_type.most_common(20)"
   ]
  },
  {
   "cell_type": "code",
   "execution_count": 10,
   "metadata": {
    "collapsed": false,
    "scrolled": true
   },
   "outputs": [
    {
     "data": {
      "text/plain": [
       "[(u'map', 1170),\n",
       " (u'conf', 493),\n",
       " (u'list', 367),\n",
       " (u'keyList', 336),\n",
       " (u'other', 307),\n",
       " (u'v', 289),\n",
       " (u'procedure', 284),\n",
       " (u'valueList', 281),\n",
       " (u'keys', 259),\n",
       " (u'context', 249),\n",
       " (u'map2', 210),\n",
       " (u'fs', 209),\n",
       " (u'dataModel', 208),\n",
       " (u'log', 171),\n",
       " (u'output', 163),\n",
       " (u'x', 163),\n",
       " (u'vector', 161),\n",
       " (u'key', 148),\n",
       " (u'input', 140),\n",
       " (u'values', 139)]"
      ]
     },
     "execution_count": 10,
     "metadata": {},
     "output_type": "execute_result"
    }
   ],
   "source": [
    "cnt_name = Counter()\n",
    "\n",
    "for id_list in ids:\n",
    "    cnt_name.update([v for _, v in id_list])\n",
    "    \n",
    "cnt_name.most_common(20)"
   ]
  },
  {
   "cell_type": "markdown",
   "metadata": {},
   "source": [
    "## Clustering"
   ]
  },
  {
   "cell_type": "code",
   "execution_count": 11,
   "metadata": {
    "collapsed": true
   },
   "outputs": [],
   "source": [
    "from sklearn.feature_extraction.text import TfidfVectorizer\n",
    "from sklearn.decomposition import TruncatedSVD, randomized_svd\n",
    "from sklearn.cluster import KMeans, MiniBatchKMeans"
   ]
  },
  {
   "cell_type": "code",
   "execution_count": 12,
   "metadata": {
    "collapsed": true
   },
   "outputs": [],
   "source": [
    "def unwrap_pairs(pairs):\n",
    "    res = []\n",
    "    for type, var in pairs:\n",
    "        res.append(type)\n",
    "        res.append(var)\n",
    "    return res\n",
    "\n",
    "vectorizer = TfidfVectorizer(analyzer=unwrap_pairs, sublinear_tf=1, min_df=2)\n",
    "X = vectorizer.fit_transform(ids)"
   ]
  },
  {
   "cell_type": "code",
   "execution_count": 13,
   "metadata": {
    "collapsed": false
   },
   "outputs": [
    {
     "data": {
      "text/plain": [
       "<1560x1436 sparse matrix of type '<type 'numpy.float64'>'\n",
       "\twith 13083 stored elements in Compressed Sparse Row format>"
      ]
     },
     "execution_count": 13,
     "metadata": {},
     "output_type": "execute_result"
    }
   ],
   "source": [
    "X"
   ]
  },
  {
   "cell_type": "code",
   "execution_count": 14,
   "metadata": {
    "collapsed": true
   },
   "outputs": [],
   "source": [
    "from sklearn.preprocessing import Normalizer\n",
    "normalizer = Normalizer(copy=False)"
   ]
  },
  {
   "cell_type": "code",
   "execution_count": 15,
   "metadata": {
    "collapsed": false
   },
   "outputs": [],
   "source": [
    "n = 200\n",
    "U, S, Vt = randomized_svd(X, n_components=n)\n",
    "V = Vt.T\n",
    "\n",
    "X_red = X.dot(V)\n",
    "X_red = normalizer.fit_transform(X_red)"
   ]
  },
  {
   "cell_type": "code",
   "execution_count": 16,
   "metadata": {
    "collapsed": false
   },
   "outputs": [],
   "source": [
    "def cluster_purity(labels, k):\n",
    "    indices, = np.where(labels == k)    \n",
    "    size = len(indices)\n",
    "    if size == 0:\n",
    "        return 0.0, 0, ''\n",
    "\n",
    "    c = Counter([packages[int(idx)] for idx in indices])\n",
    "    cat, count = c.most_common(1)[0]\n",
    "    purity = 1.0 * count / size\n",
    "    return purity, size, cat"
   ]
  },
  {
   "cell_type": "code",
   "execution_count": 17,
   "metadata": {
    "collapsed": true
   },
   "outputs": [],
   "source": [
    "def calc_purity(labels):\n",
    "    k_max = labels.max()\n",
    "    N = len(labels)\n",
    "\n",
    "    purities = []\n",
    "    sizes = []\n",
    "    for k in xrange(k_max):\n",
    "        purity, size, cat = cluster_purity(labels, k)\n",
    "        if size == 0:\n",
    "            continue\n",
    "        \n",
    "        purities.append(purity)\n",
    "        sizes.append(1.0 * size / N)\n",
    "\n",
    "    return np.dot(purities, sizes)"
   ]
  },
  {
   "cell_type": "code",
   "execution_count": 18,
   "metadata": {
    "collapsed": true
   },
   "outputs": [],
   "source": [
    "def find_pure_clusters(labels, purity_threshold=0.8, min_size=5):\n",
    "    k_max = labels.max()\n",
    "    N = len(labels)\n",
    "\n",
    "    clusters = []\n",
    "    for k in xrange(k_max):\n",
    "        purity, size, cat = cluster_purity(labels, k)\n",
    "        if size <= min_size or purity <= purity_threshold:\n",
    "            continue\n",
    "\n",
    "        clusters.append((k, purity, size, cat))\n",
    "    return clusters"
   ]
  },
  {
   "cell_type": "code",
   "execution_count": 166,
   "metadata": {
    "collapsed": false,
    "scrolled": true
   },
   "outputs": [
    {
     "name": "stdout",
     "output_type": "stream",
     "text": [
      "n=100, k=100, try 0, result: purity=0.4295, size=16\n",
      "n=100, k=100, try 1, result: purity=0.4436, size=19\n",
      "n=100, k=100, try 2, result: purity=0.4250, size=18\n",
      "n=100, k=100, try 3, result: purity=0.4372, size=20\n",
      "n=100, k=100, try 4, result: purity=0.4474, size=23\n",
      "n=100, k=100, try 5, result: purity=0.4353, size=16\n",
      "n=100, k=100, try 6, result: purity=0.4603, size=20\n",
      "n=100, k=100, try 7, result: purity=0.4417, size=15\n",
      "n=100, k=100, try 8, result: purity=0.4353, size=19\n",
      "n=100, k=100, try 9, result: purity=0.4276, size=18\n",
      "for n=100, k=100, avg_purity=0.4383, avg_size=18.4\n",
      "\n",
      "n=100, k=200, try 0, result: purity=0.5353, size=29\n",
      "n=100, k=200, try 1, result: purity=0.5288, size=29\n",
      "n=100, k=200, try 2, result: purity=0.5282, size=24\n",
      "n=100, k=200, try 3, result: purity=0.5314, size=30\n",
      "n=100, k=200, try 4, result: purity=0.5103, size=28\n",
      "n=100, k=200, try 5, result: purity=0.5090, size=23\n",
      "n=100, k=200, try 6, result: purity=0.5256, size=29\n",
      "n=100, k=200, try 7, result: purity=0.5179, size=34\n",
      "n=100, k=200, try 8, result: purity=0.5224, size=32\n",
      "n=100, k=200, try 9, result: purity=0.4962, size=28\n",
      "for n=100, k=200, avg_purity=0.5205, avg_size=28.6\n",
      "\n",
      "n=100, k=300, try 0, result: purity=0.5609, size=21\n",
      "n=100, k=300, try 1, result: purity=0.5647, size=25\n",
      "n=100, k=300, try 2, result: purity=0.5628, size=28\n",
      "n=100, k=300, try 3, result: purity=0.5679, size=27\n",
      "n=100, k=300, try 4, result: purity=0.5673, size=22\n",
      "n=100, k=300, try 5, result: purity=0.5667, size=27\n",
      "n=100, k=300, try 6, result: purity=0.5718, size=29\n",
      "n=100, k=300, try 7, result: purity=0.5756, size=29\n",
      "n=100, k=300, try 8, result: purity=0.5776, size=28\n",
      "n=100, k=300, try 9, result: purity=0.5699, size=27\n",
      "for n=100, k=300, avg_purity=0.5685, avg_size=26.3\n",
      "\n",
      "n=100, k=400, try 0, result: purity=0.5737, size=21\n",
      "n=100, k=400, try 1, result: purity=0.5968, size=18\n",
      "n=100, k=400, try 2, result: purity=0.5904, size=22\n",
      "n=100, k=400, try 3, result: purity=0.6051, size=21\n",
      "n=100, k=400, try 4, result: purity=0.6250, size=23\n",
      "n=100, k=400, try 5, result: purity=0.6109, size=20\n",
      "n=100, k=400, try 6, result: purity=0.6096, size=20\n",
      "n=100, k=400, try 7, result: purity=0.6038, size=22\n",
      "n=100, k=400, try 8, result: purity=0.5910, size=21\n",
      "n=100, k=400, try 9, result: purity=0.6147, size=25\n",
      "for n=100, k=400, avg_purity=0.6021, avg_size=21.3\n",
      "\n",
      "n=100, k=500, try 0, result: purity=0.6474, size=15\n",
      "n=100, k=500, try 1, result: purity=0.6545, size=11\n",
      "n=100, k=500, try 2, result: purity=0.6205, size=21\n",
      "n=100, k=500, try 3, result: purity=0.6519, size=18\n",
      "n=100, k=500, try 4, result: purity=0.6231, size=20\n",
      "n=100, k=500, try 5, result: purity=0.6397, size=18\n",
      "n=100, k=500, try 6, result: purity=0.6179, size=20\n",
      "n=100, k=500, try 7, result: purity=0.6494, size=12\n",
      "n=100, k=500, try 8, result: purity=0.6449, size=15\n",
      "n=100, k=500, try 9, result: purity=0.6224, size=22\n",
      "for n=100, k=500, avg_purity=0.6372, avg_size=17.2\n",
      "\n",
      "n=100, k=600, try 0, result: purity=0.6917, size=11\n",
      "n=100, k=600, try 1, result: purity=0.6737, size=7\n",
      "n=100, k=600, try 2, result: purity=0.6577, size=12\n",
      "n=100, k=600, try 3, result: purity=0.6782, size=8\n",
      "n=100, k=600, try 4, result: purity=0.6763, size=7\n",
      "n=100, k=600, try 5, result: purity=0.6519, size=13\n",
      "n=100, k=600, try 6, result: purity=0.6635, size=11\n",
      "n=100, k=600, try 7, result: purity=0.6641, size=11\n",
      "n=100, k=600, try 8, result: purity=0.6628, size=10\n",
      "n=100, k=600, try 9, result: purity=0.6808, size=14\n",
      "for n=100, k=600, avg_purity=0.6701, avg_size=10.4\n",
      "\n",
      "n=100, k=700, try 0, result: purity=0.6756, size=4\n",
      "n=100, k=700, try 1, result: purity=0.7038, size=4\n",
      "n=100, k=700, try 2, result: purity=0.6859, size=5\n",
      "n=100, k=700, try 3, result: purity=0.6782, size=7\n",
      "n=100, k=700, try 4, result: purity=0.6987, size=5\n",
      "n=100, k=700, try 5, result: purity=0.6737, size=7\n",
      "n=100, k=700, try 6, result: purity=0.6808, size=4\n",
      "n=100, k=700, try 7, result: purity=0.6801, size=7\n",
      "n=100, k=700, try 8, result: purity=0.6827, size=10\n",
      "n=100, k=700, try 9, result: purity=0.7128, size=9\n",
      "for n=100, k=700, avg_purity=0.6872, avg_size=6.2\n",
      "\n",
      "n=200, k=100, try 0, result: purity=0.4391, size=17\n",
      "n=200, k=100, try 1, result: purity=0.4404, size=16\n",
      "n=200, k=100, try 2, result: purity=0.4365, size=18\n",
      "n=200, k=100, try 3, result: purity=0.4429, size=20\n",
      "n=200, k=100, try 4, result: purity=0.4372, size=20\n",
      "n=200, k=100, try 5, result: purity=0.4417, size=20\n",
      "n=200, k=100, try 6, result: purity=0.4378, size=21\n",
      "n=200, k=100, try 7, result: purity=0.4308, size=21\n",
      "n=200, k=100, try 8, result: purity=0.4186, size=17\n",
      "n=200, k=100, try 9, result: purity=0.4218, size=17\n",
      "for n=200, k=100, avg_purity=0.4347, avg_size=18.7\n",
      "\n",
      "n=200, k=200, try 0, result: purity=0.5256, size=25\n",
      "n=200, k=200, try 1, result: purity=0.5058, size=27\n",
      "n=200, k=200, try 2, result: purity=0.5333, size=29\n",
      "n=200, k=200, try 3, result: purity=0.5167, size=23\n",
      "n=200, k=200, try 4, result: purity=0.5288, size=25\n",
      "n=200, k=200, try 5, result: purity=0.5391, size=28\n",
      "n=200, k=200, try 6, result: purity=0.5237, size=23\n",
      "n=200, k=200, try 7, result: purity=0.5276, size=29\n",
      "n=200, k=200, try 8, result: purity=0.5212, size=24\n",
      "n=200, k=200, try 9, result: purity=0.5327, size=29\n",
      "for n=200, k=200, avg_purity=0.5254, avg_size=26.2\n",
      "\n",
      "n=200, k=300, try 0, result: purity=0.5750, size=25\n",
      "n=200, k=300, try 1, result: purity=0.5654, size=19\n",
      "n=200, k=300, try 2, result: purity=0.5564, size=25\n",
      "n=200, k=300, try 3, result: purity=0.5667, size=23\n",
      "n=200, k=300, try 4, result: purity=0.5776, size=29\n",
      "n=200, k=300, try 5, result: purity=0.5750, size=23\n",
      "n=200, k=300, try 6, result: purity=0.5788, size=24\n",
      "n=200, k=300, try 7, result: purity=0.5481, size=23\n",
      "n=200, k=300, try 8, result: purity=0.5679, size=25\n",
      "n=200, k=300, try 9, result: purity=0.5795, size=30\n",
      "for n=200, k=300, avg_purity=0.5690, avg_size=24.6\n",
      "\n",
      "n=200, k=400, try 0, result: purity=0.6122, size=24\n",
      "n=200, k=400, try 1, result: purity=0.6096, size=20\n",
      "n=200, k=400, try 2, result: purity=0.6192, size=21\n",
      "n=200, k=400, try 3, result: purity=0.6147, size=25\n",
      "n=200, k=400, try 4, result: purity=0.6141, size=27\n",
      "n=200, k=400, try 5, result: purity=0.6128, size=21\n",
      "n=200, k=400, try 6, result: purity=0.5859, size=16\n",
      "n=200, k=400, try 7, result: purity=0.6103, size=18\n",
      "n=200, k=400, try 8, result: purity=0.6231, size=19\n",
      "n=200, k=400, try 9, result: purity=0.6192, size=17\n",
      "for n=200, k=400, avg_purity=0.6121, avg_size=20.8\n",
      "\n",
      "n=200, k=500, try 0, result: purity=0.6391, size=16\n",
      "n=200, k=500, try 1, result: purity=0.6481, size=16\n",
      "n=200, k=500, try 2, result: purity=0.6256, size=24\n",
      "n=200, k=500, try 3, result: purity=0.6455, size=17\n",
      "n=200, k=500, try 4, result: purity=0.6404, size=13\n",
      "n=200, k=500, try 5, result: purity=0.6564, size=18\n",
      "n=200, k=500, try 6, result: purity=0.6205, size=24\n",
      "n=200, k=500, try 7, result: purity=0.6487, size=17\n",
      "n=200, k=500, try 8, result: purity=0.6429, size=18\n",
      "n=200, k=500, try 9, result: purity=0.6494, size=16\n",
      "for n=200, k=500, avg_purity=0.6417, avg_size=17.9\n",
      "\n",
      "n=200, k=600, try 0, result: purity=0.6564, size=15\n",
      "n=200, k=600, try 1, result: purity=0.6647, size=12\n",
      "n=200, k=600, try 2, result: purity=0.6744, size=15\n",
      "n=200, k=600, try 3, result: purity=0.6609, size=13\n",
      "n=200, k=600, try 4, result: purity=0.6635, size=12\n",
      "n=200, k=600, try 5, result: purity=0.6859, size=4\n",
      "n=200, k=600, try 6, result: purity=0.6571, size=14\n",
      "n=200, k=600, try 7, result: purity=0.6769, size=11\n",
      "n=200, k=600, try 8, result: purity=0.6795, size=13\n",
      "n=200, k=600, try 9, result: purity=0.6673, size=8\n",
      "for n=200, k=600, avg_purity=0.6687, avg_size=11.7\n",
      "\n",
      "n=200, k=700, try 0, result: purity=0.7006, size=8\n",
      "n=200, k=700, try 1, result: purity=0.6763, size=12\n",
      "n=200, k=700, try 2, result: purity=0.6788, size=10\n",
      "n=200, k=700, try 3, result: purity=0.7000, size=7\n",
      "n=200, k=700, try 4, result: purity=0.6885, size=11\n",
      "n=200, k=700, try 5, result: purity=0.6917, size=12\n",
      "n=200, k=700, try 6, result: purity=0.6987, size=9\n",
      "n=200, k=700, try 7, result: purity=0.6936, size=4\n",
      "n=200, k=700, try 8, result: purity=0.7077, size=7\n",
      "n=200, k=700, try 9, result: purity=0.7128, size=6\n",
      "for n=200, k=700, avg_purity=0.6949, avg_size=8.6\n",
      "\n",
      "n=300, k=100, try 0, result: purity=0.4314, size=18\n",
      "n=300, k=100, try 1, result: purity=0.4429, size=18\n",
      "n=300, k=100, try 2, result: purity=0.4397, size=17\n",
      "n=300, k=100, try 3, result: purity=0.4429, size=15\n",
      "n=300, k=100, try 4, result: purity=0.4026, size=15\n",
      "n=300, k=100, try 5, result: purity=0.4154, size=14\n",
      "n=300, k=100, try 6, result: purity=0.4468, size=21\n",
      "n=300, k=100, try 7, result: purity=0.4333, size=18\n",
      "n=300, k=100, try 8, result: purity=0.4135, size=16\n",
      "n=300, k=100, try 9, result: purity=0.4641, size=21\n",
      "for n=300, k=100, avg_purity=0.4333, avg_size=17.3\n",
      "\n",
      "n=300, k=200, try 0, result: purity=0.5327, size=25\n",
      "n=300, k=200, try 1, result: purity=0.5058, size=17\n",
      "n=300, k=200, try 2, result: purity=0.5250, size=20\n",
      "n=300, k=200, try 3, result: purity=0.5186, size=21\n",
      "n=300, k=200, try 4, result: purity=0.5237, size=26\n",
      "n=300, k=200, try 5, result: purity=0.5218, size=26\n",
      "n=300, k=200, try 6, result: purity=0.5340, size=22\n",
      "n=300, k=200, try 7, result: purity=0.5301, size=25\n",
      "n=300, k=200, try 8, result: purity=0.5141, size=23\n",
      "n=300, k=200, try 9, result: purity=0.5179, size=28\n",
      "for n=300, k=200, avg_purity=0.5224, avg_size=23.3\n",
      "\n",
      "n=300, k=300, try 0, result: purity=0.5468, size=28\n",
      "n=300, k=300, try 1, result: purity=0.5615, size=23\n",
      "n=300, k=300, try 2, result: purity=0.5673, size=18\n",
      "n=300, k=300, try 3, result: purity=0.5686, size=24\n",
      "n=300, k=300, try 4, result: purity=0.5814, size=19\n",
      "n=300, k=300, try 5, result: purity=0.5821, size=29\n",
      "n=300, k=300, try 6, result: purity=0.5410, size=23\n",
      "n=300, k=300, try 7, result: purity=0.5821, size=29\n",
      "n=300, k=300, try 8, result: purity=0.5769, size=24\n",
      "n=300, k=300, try 9, result: purity=0.5788, size=21\n",
      "for n=300, k=300, avg_purity=0.5687, avg_size=23.8\n",
      "\n",
      "n=300, k=400, try 0, result: purity=0.5891, size=26\n",
      "n=300, k=400, try 1, result: purity=0.6083, size=22\n",
      "n=300, k=400, try 2, result: purity=0.6013, size=19\n",
      "n=300, k=400, try 3, result: purity=0.6006, size=19\n",
      "n=300, k=400, try 4, result: purity=0.6167, size=24\n",
      "n=300, k=400, try 5, result: purity=0.5731, size=21\n",
      "n=300, k=400, try 6, result: purity=0.6173, size=13\n",
      "n=300, k=400, try 7, result: purity=0.6173, size=22\n",
      "n=300, k=400, try 8, result: purity=0.6115, size=13\n",
      "n=300, k=400, try 9, result: purity=0.6038, size=20\n",
      "for n=300, k=400, avg_purity=0.6039, avg_size=19.9\n",
      "\n",
      "n=300, k=500, try 0, result: purity=0.6487, size=20\n",
      "n=300, k=500, try 1, result: purity=0.6558, size=18\n",
      "n=300, k=500, try 2, result: purity=0.6558, size=16\n",
      "n=300, k=500, try 3, result: purity=0.6423, size=16\n",
      "n=300, k=500, try 4, result: purity=0.6538, size=23\n",
      "n=300, k=500, try 5, result: purity=0.6244, size=23\n",
      "n=300, k=500, try 6, result: purity=0.6186, size=16\n",
      "n=300, k=500, try 7, result: purity=0.6481, size=17\n",
      "n=300, k=500, try 8, result: purity=0.6474, size=19\n",
      "n=300, k=500, try 9, result: purity=0.6391, size=11\n",
      "for n=300, k=500, avg_purity=0.6434, avg_size=17.9\n",
      "\n",
      "n=300, k=600, try 0, result: purity=0.6551, size=12\n",
      "n=300, k=600, try 1, result: purity=0.6731, size=11\n",
      "n=300, k=600, try 2, result: purity=0.6590, size=11\n",
      "n=300, k=600, try 3, result: purity=0.6756, size=12\n",
      "n=300, k=600, try 4, result: purity=0.6647, size=14\n",
      "n=300, k=600, try 5, result: purity=0.6494, size=13\n",
      "n=300, k=600, try 6, result: purity=0.6872, size=12\n",
      "n=300, k=600, try 7, result: purity=0.6538, size=14\n",
      "n=300, k=600, try 8, result: purity=0.6788, size=10\n",
      "n=300, k=600, try 9, result: purity=0.6910, size=12\n",
      "for n=300, k=600, avg_purity=0.6688, avg_size=12.1\n",
      "\n",
      "n=300, k=700, try 0, result: purity=0.6782, size=9\n",
      "n=300, k=700, try 1, result: purity=0.6801, size=9\n",
      "n=300, k=700, try 2, result: purity=0.7019, size=6\n",
      "n=300, k=700, try 3, result: purity=0.6955, size=5\n",
      "n=300, k=700, try 4, result: purity=0.7096, size=6\n",
      "n=300, k=700, try 5, result: purity=0.6968, size=6\n",
      "n=300, k=700, try 6, result: purity=0.7103, size=12\n",
      "n=300, k=700, try 7, result: purity=0.7154, size=5\n",
      "n=300, k=700, try 8, result: purity=0.7000, size=3\n",
      "n=300, k=700, try 9, result: purity=0.7071, size=9\n",
      "for n=300, k=700, avg_purity=0.6995, avg_size=7.0\n",
      "\n",
      "n=400, k=100, try 0, result: purity=0.4295, size=20\n",
      "n=400, k=100, try 1, result: purity=0.4256, size=19\n",
      "n=400, k=100, try 2, result: purity=0.4526, size=16\n",
      "n=400, k=100, try 3, result: purity=0.4186, size=14\n",
      "n=400, k=100, try 4, result: purity=0.4321, size=17\n",
      "n=400, k=100, try 5, result: purity=0.4205, size=17\n",
      "n=400, k=100, try 6, result: purity=0.4404, size=16\n",
      "n=400, k=100, try 7, result: purity=0.3981, size=15\n",
      "n=400, k=100, try 8, result: purity=0.4481, size=21\n",
      "n=400, k=100, try 9, result: purity=0.4385, size=19\n",
      "for n=400, k=100, avg_purity=0.4304, avg_size=17.4\n",
      "\n",
      "n=400, k=200, try 0, result: purity=0.4737, size=17\n",
      "n=400, k=200, try 1, result: purity=0.4942, size=23\n",
      "n=400, k=200, try 2, result: purity=0.5096, size=23\n",
      "n=400, k=200, try 3, result: purity=0.5160, size=21\n",
      "n=400, k=200, try 4, result: purity=0.5167, size=25\n",
      "n=400, k=200, try 5, result: purity=0.5026, size=22\n",
      "n=400, k=200, try 6, result: purity=0.5288, size=23\n",
      "n=400, k=200, try 7, result: purity=0.5115, size=26\n",
      "n=400, k=200, try 8, result: purity=0.5096, size=22\n",
      "n=400, k=200, try 9, result: purity=0.5058, size=26\n",
      "for n=400, k=200, avg_purity=0.5069, avg_size=22.8\n",
      "\n",
      "n=400, k=300, try 0, result: purity=0.5782, size=27\n",
      "n=400, k=300, try 1, result: purity=0.5744, size=21\n",
      "n=400, k=300, try 2, result: purity=0.5551, size=21\n",
      "n=400, k=300, try 3, result: purity=0.5821, size=22\n",
      "n=400, k=300, try 4, result: purity=0.5641, size=30\n",
      "n=400, k=300, try 5, result: purity=0.5769, size=27\n",
      "n=400, k=300, try 6, result: purity=0.5731, size=22\n",
      "n=400, k=300, try 7, result: purity=0.5590, size=18\n",
      "n=400, k=300, try 8, result: purity=0.5769, size=27\n",
      "n=400, k=300, try 9, result: purity=0.5776, size=22\n",
      "for n=400, k=300, avg_purity=0.5717, avg_size=23.7\n",
      "\n",
      "n=400, k=400, try 0, result: purity=0.5808, size=20\n",
      "n=400, k=400, try 1, result: purity=0.5949, size=23\n",
      "n=400, k=400, try 2, result: purity=0.6064, size=16\n",
      "n=400, k=400, try 3, result: purity=0.6186, size=22\n",
      "n=400, k=400, try 4, result: purity=0.5801, size=14\n",
      "n=400, k=400, try 5, result: purity=0.6058, size=15\n",
      "n=400, k=400, try 6, result: purity=0.5987, size=17\n",
      "n=400, k=400, try 7, result: purity=0.5974, size=18\n",
      "n=400, k=400, try 8, result: purity=0.5936, size=15\n",
      "n=400, k=400, try 9, result: purity=0.6154, size=19\n",
      "for n=400, k=400, avg_purity=0.5992, avg_size=17.9\n",
      "\n",
      "n=400, k=500, try 0, result: purity=0.6237, size=24\n",
      "n=400, k=500, try 1, result: purity=0.6173, size=16\n",
      "n=400, k=500, try 2, result: purity=0.6442, size=16\n",
      "n=400, k=500, try 3, result: purity=0.6583, size=13\n",
      "n=400, k=500, try 4, result: purity=0.6071, size=17\n",
      "n=400, k=500, try 5, result: purity=0.6455, size=13\n",
      "n=400, k=500, try 6, result: purity=0.6032, size=14\n",
      "n=400, k=500, try 7, result: purity=0.6410, size=11\n",
      "n=400, k=500, try 8, result: purity=0.6462, size=12\n",
      "n=400, k=500, try 9, result: purity=0.6455, size=18\n",
      "for n=400, k=500, avg_purity=0.6332, avg_size=15.4\n",
      "\n",
      "n=400, k=600, try 0, result: purity=0.6750, size=11\n",
      "n=400, k=600, try 1, result: purity=0.6635, size=17\n",
      "n=400, k=600, try 2, result: purity=0.6769, size=12\n",
      "n=400, k=600, try 3, result: purity=0.6506, size=10\n",
      "n=400, k=600, try 4, result: purity=0.6718, size=8\n",
      "n=400, k=600, try 5, result: purity=0.6788, size=6\n",
      "n=400, k=600, try 6, result: purity=0.6859, size=10\n",
      "n=400, k=600, try 7, result: purity=0.6615, size=16\n",
      "n=400, k=600, try 8, result: purity=0.6519, size=11\n",
      "n=400, k=600, try 9, result: purity=0.6904, size=9\n",
      "for n=400, k=600, avg_purity=0.6706, avg_size=11.0\n",
      "\n",
      "n=400, k=700, try 0, result: purity=0.6788, size=7\n",
      "n=400, k=700, try 1, result: purity=0.6878, size=7\n",
      "n=400, k=700, try 2, result: purity=0.6750, size=8\n",
      "n=400, k=700, try 3, result: purity=0.6718, size=10\n",
      "n=400, k=700, try 4, result: purity=0.6955, size=5\n",
      "n=400, k=700, try 5, result: purity=0.7038, size=10\n",
      "n=400, k=700, try 6, result: purity=0.7000, size=3\n",
      "n=400, k=700, try 7, result: purity=0.6929, size=6\n",
      "n=400, k=700, try 8, result: purity=0.6974, size=11\n",
      "n=400, k=700, try 9, result: purity=0.7006, size=7\n",
      "for n=400, k=700, avg_purity=0.6904, avg_size=7.4\n",
      "\n"
     ]
    }
   ],
   "source": [
    "ns = [100, 200, 300, 400]\n",
    "ks = [100, 200, 300, 400, 500, 600, 700]\n",
    "\n",
    "total_purity = []\n",
    "total_len = []\n",
    "\n",
    "for n in ns:\n",
    "    U, S, Vt = randomized_svd(X, n_components=n)\n",
    "    V = Vt.T\n",
    "\n",
    "    X_red = X.dot(V)\n",
    "    X_red = normalizer.fit_transform(X_red)\n",
    "    X_red = normalizer.transform(X_red)\n",
    "\n",
    "    for k in ks:\n",
    "        purities = []\n",
    "        sizes = []\n",
    "        \n",
    "        for i in xrange(10):\n",
    "            km = MiniBatchKMeans(n_clusters=k, init_size=k*3, n_init=10, init='random')\n",
    "            km.fit(X_red)\n",
    "\n",
    "            labels = km.labels_\n",
    "\n",
    "            purity = calc_purity(labels)\n",
    "            total_purity.append((n, k, i, purity))\n",
    "            no_clusters = len(find_pure_clusters(labels))\n",
    "            total_len.append((n, k, i, no_clusters))\n",
    "\n",
    "            purities.append(purity)\n",
    "            sizes.append(no_clusters)\n",
    "\n",
    "            print \"n=%d, k=%d, try %d, result: purity=%0.4f, size=%d\" % (n, k, i, purity, no_clusters)\n",
    "            \n",
    "        print \"for n=%d, k=%d, avg_purity=%0.4f, avg_size=%0.1f\" % (n, k, np.mean(purities), np.mean(sizes))\n",
    "        print "
   ]
  },
  {
   "cell_type": "code",
   "execution_count": 167,
   "metadata": {
    "collapsed": false,
    "scrolled": true
   },
   "outputs": [],
   "source": [
    "df1 = pd.DataFrame(total_purity, columns=['n', 'k', 'i', 'purity'])\n",
    "df2 = pd.DataFrame(total_len, columns=['n', 'k', 'i', 'sizes'])\n",
    "df_res = pd.concat([df1, df2], axis=1, join='inner')[[0, 1, 3, 7]]"
   ]
  },
  {
   "cell_type": "code",
   "execution_count": 170,
   "metadata": {
    "collapsed": false,
    "scrolled": false
   },
   "outputs": [
    {
     "data": {
      "image/png": "[encoded data removed]",
      "text/plain": [
       "<matplotlib.figure.Figure at 0x1f9e91d0>"
      ]
     },
     "metadata": {},
     "output_type": "display_data"
    },
    {
     "data": {
      "image/png": "[encoded data removed]",
      "text/plain": [
       "<matplotlib.figure.Figure at 0x23ec9a20>"
      ]
     },
     "metadata": {},
     "output_type": "display_data"
    }
   ],
   "source": [
    "visual = {100: ('black', '-'), 200: ('black', '--'), 300: ('grey', '-'), 400: ('grey', '--')}\n",
    "\n",
    "for n, g in df_res.groupby('n'):\n",
    "    color, style = visual[n]\n",
    "    g.groupby('k').mean().sizes.plot(marker='o', linestyle=style, figsize=(4, 3),\n",
    "                                     color=color, label='$k$ = %d' % n)\n",
    "\n",
    "plt.grid(0)\n",
    "plt.xlabel('number of clusters $K$')\n",
    "plt.ylabel('no. pure clusters')\n",
    "plt.legend()\n",
    "plt.xlim(80, 720)\n",
    "\n",
    "plt.tight_layout()\n",
    "plt.savefig('figures/jlp-lens-sublin.pdf', format='pdf')\n",
    "\n",
    "\n",
    "plt.show()\n",
    "\n",
    "\n",
    "\n",
    "for n, g in df_res.groupby('n'):\n",
    "    color, style = visual[n]\n",
    "    g.groupby('k').mean().purity.plot(marker='o', linestyle=style, figsize=(4, 3),\n",
    "                                     color=color, label='$k$ = %d' % n)\n",
    "\n",
    "plt.grid(0)\n",
    "plt.xlabel('number of clusters $K$')\n",
    "plt.ylabel('purity')\n",
    "plt.xlim(80, 720)\n",
    "\n",
    "plt.legend(loc='lower right')\n",
    "plt.tight_layout()\n",
    "plt.savefig('figures/jlp-pur-sublin.pdf', format='pdf')\n",
    "\n",
    "plt.show()"
   ]
  },
  {
   "cell_type": "code",
   "execution_count": 122,
   "metadata": {
    "collapsed": false,
    "scrolled": false
   },
   "outputs": [
    {
     "data": {
      "image/png": "[encoded data removed]",
      "text/plain": [
       "<matplotlib.figure.Figure at 0x23255048>"
      ]
     },
     "metadata": {},
     "output_type": "display_data"
    },
    {
     "data": {
      "image/png": "[encoded data removed]",
      "text/plain": [
       "<matplotlib.figure.Figure at 0x24671908>"
      ]
     },
     "metadata": {},
     "output_type": "display_data"
    }
   ],
   "source": []
  },
  {
   "cell_type": "code",
   "execution_count": 19,
   "metadata": {
    "collapsed": false,
    "scrolled": true
   },
   "outputs": [
    {
     "name": "stdout",
     "output_type": "stream",
     "text": [
      "n=100, k=200, try 0, result: size=29\n",
      "n=100, k=200, try 1, result: size=25\n",
      "n=100, k=200, try 2, result: size=28\n",
      "n=100, k=200, try 3, result: size=23\n",
      "n=100, k=200, try 4, result: size=29\n",
      "n=100, k=200, try 5, result: size=26\n",
      "n=100, k=200, try 6, result: size=29\n",
      "n=100, k=200, try 7, result: size=29\n",
      "n=100, k=200, try 8, result: size=23\n",
      "n=100, k=200, try 9, result: size=22\n",
      "n=100, k=200, try 10, result: size=25\n",
      "n=100, k=200, try 11, result: size=27\n",
      "n=100, k=200, try 12, result: size=25\n",
      "n=100, k=200, try 13, result: size=30\n",
      "n=100, k=200, try 14, result: size=20\n",
      "n=100, k=200, try 15, result: size=26\n",
      "n=100, k=200, try 16, result: size=27\n",
      "n=100, k=200, try 17, result: size=31\n",
      "n=100, k=200, try 18, result: size=33\n",
      "n=100, k=200, try 19, result: size=26\n",
      "n=100, k=200, try 20, result: size=24\n",
      "n=100, k=200, try 21, result: size=24\n",
      "n=100, k=200, try 22, result: size=25\n",
      "n=100, k=200, try 23, result: size=32\n",
      "n=100, k=200, try 24, result: size=24\n",
      "n=100, k=200, try 25, result: size=29\n",
      "n=100, k=200, try 26, result: size=34\n",
      "n=100, k=200, try 27, result: size=29\n",
      "n=100, k=200, try 28, result: size=21\n",
      "n=100, k=200, try 29, result: size=29\n",
      "n=100, k=200, try 30, result: size=27\n",
      "n=100, k=200, try 31, result: size=30\n",
      "n=100, k=200, try 32, result: size=33\n",
      "n=100, k=200, try 33, result: size=26\n",
      "n=100, k=200, try 34, result: size=29\n",
      "n=100, k=200, try 35, result: size=27\n",
      "n=100, k=200, try 36, result: size=21\n",
      "n=100, k=200, try 37, result: size=27\n",
      "n=100, k=200, try 38, result: size=26\n",
      "n=100, k=200, try 39, result: size=22\n"
     ]
    }
   ],
   "source": [
    "n = 100\n",
    "k = 200\n",
    "\n",
    "U, S, Vt = randomized_svd(X, n_components=n)\n",
    "V = Vt.T\n",
    "\n",
    "X_red = X.dot(V)\n",
    "X_red = normalizer.fit_transform(X_red)\n",
    "X_red = normalizer.transform(X_red)\n",
    "\n",
    "best = (0, None)\n",
    "\n",
    "for i in xrange(40):\n",
    "    km = MiniBatchKMeans(n_clusters=k, init_size=k*3, n_init=10, init='random')\n",
    "    km.fit(X_red)\n",
    "\n",
    "    labels = km.labels_\n",
    "    no_clusters = len(find_pure_clusters(labels))\n",
    "    if best[0] < no_clusters:\n",
    "        best = (no_clusters, labels)\n",
    "        \n",
    "    print \"n=%d, k=%d, try %d, result: size=%d\" % (n, k, i, no_clusters)"
   ]
  },
  {
   "cell_type": "code",
   "execution_count": 20,
   "metadata": {
    "collapsed": false
   },
   "outputs": [
    {
     "data": {
      "text/plain": [
       "(34, array([146, 152,  11, ...,  98,  71, 186]))"
      ]
     },
     "execution_count": 20,
     "metadata": {},
     "output_type": "execute_result"
    }
   ],
   "source": [
    "best"
   ]
  },
  {
   "cell_type": "code",
   "execution_count": 21,
   "metadata": {
    "collapsed": false
   },
   "outputs": [
    {
     "data": {
      "text/plain": [
       "155"
      ]
     },
     "execution_count": 21,
     "metadata": {},
     "output_type": "execute_result"
    }
   ],
   "source": [
    "len(Counter(packages))"
   ]
  },
  {
   "cell_type": "code",
   "execution_count": 22,
   "metadata": {
    "collapsed": false,
    "scrolled": true
   },
   "outputs": [
    {
     "data": {
      "text/plain": [
       "[(0, 1.0, 8, u'org.apache.mahout.cf.taste.hadoop.als'),\n",
       " (13, 0.8888888888888888, 9, u'org.apache.mahout.math.map'),\n",
       " (16, 0.9166666666666666, 12, u'org.apache.mahout.math.map'),\n",
       " (22, 0.875, 8, u'org.apache.mahout.classifier.sgd'),\n",
       " (23, 0.8888888888888888, 9, u'org.apache.mahout.math.map'),\n",
       " (24, 0.8333333333333334, 6, u'org.apache.mahout.classifier.naivebayes'),\n",
       " (29, 0.9090909090909091, 11, u'org.apache.mahout.text'),\n",
       " (31, 0.8333333333333334, 6, u'org.apache.mahout.clustering.iterator'),\n",
       " (33, 0.9090909090909091, 11, u'org.apache.mahout.math.map'),\n",
       " (34, 0.9, 10, u'org.apache.mahout.math.map'),\n",
       " (40, 0.875, 8, u'org.apache.mahout.math.map'),\n",
       " (42, 0.875, 16, u'org.apache.mahout.h2obindings.ops'),\n",
       " (46, 1.0, 6, u'org.apache.mahout.math.map'),\n",
       " (48, 0.8333333333333334, 6, u'org.apache.mahout.common.distance'),\n",
       " (53, 0.875, 8, u'org.apache.mahout.math.map'),\n",
       " (69, 1.0, 6, u'org.apache.mahout.math.list'),\n",
       " (74, 1.0, 10, u'org.apache.mahout.vectorizer.collocations.llr'),\n",
       " (79, 0.8181818181818182, 11, u'org.apache.mahout.math.map'),\n",
       " (83, 0.875, 8, u'org.apache.mahout.math.map'),\n",
       " (91, 0.8333333333333334, 6, u'org.apache.mahout.utils.clustering'),\n",
       " (93, 1.0, 10, u'org.apache.mahout.classifier.sequencelearning.hmm'),\n",
       " (113, 1.0, 9, u'org.apache.mahout.cf.taste.hadoop.item'),\n",
       " (114, 0.8571428571428571, 7, u'org.apache.mahout.math.map'),\n",
       " (126, 1.0, 9, u'org.apache.mahout.math.map'),\n",
       " (150, 0.8333333333333334, 6, u'org.apache.mahout.vectorizer.encoders'),\n",
       " (153, 0.875, 8, u'org.apache.mahout.vectorizer.encoders'),\n",
       " (156, 0.875, 8, u'org.apache.mahout.common.distance'),\n",
       " (159, 0.8571428571428571, 7, u'org.apache.mahout.utils.vectors.lucene'),\n",
       " (184, 0.875, 8, u'org.apache.mahout.math.hadoop.stochasticsvd'),\n",
       " (187, 0.875, 8, u'org.apache.mahout.cf.taste.impl.model'),\n",
       " (188, 1.0, 10, u'org.apache.mahout.math.list'),\n",
       " (190, 0.9166666666666666, 12, u'org.apache.mahout.math.map'),\n",
       " (195, 1.0, 8, u'org.apache.mahout.math'),\n",
       " (197, 0.8181818181818182, 11, u'org.apache.mahout.math.map')]"
      ]
     },
     "execution_count": 22,
     "metadata": {},
     "output_type": "execute_result"
    }
   ],
   "source": [
    "clusters = find_pure_clusters(best[1])\n",
    "clusters"
   ]
  },
  {
   "cell_type": "code",
   "execution_count": 23,
   "metadata": {
    "collapsed": true
   },
   "outputs": [],
   "source": [
    "ids_123, _, _, _ = zip(*clusters)"
   ]
  },
  {
   "cell_type": "code",
   "execution_count": 24,
   "metadata": {
    "collapsed": false
   },
   "outputs": [],
   "source": [
    "def print_cluster(labels, k):\n",
    "    indices, = np.where(labels == k)\n",
    "    id_dict = defaultdict(list)\n",
    "    \n",
    "    print 'Classes:'\n",
    "    for idx in indices:\n",
    "        idx = int(idx)\n",
    "        print '-', packages[idx] + '.' + class_names[idx]\n",
    "        \n",
    "        for cls, id in ids[idx]:\n",
    "            id_dict[id].append(cls)\n",
    "    \n",
    "    print\n",
    "    print 'Top 10 terms'\n",
    "    centroid = X_red[indices].mean(axis=0)\n",
    "    orig_space_centroid = V.dot(centroid)\n",
    "    top_idx = orig_space_centroid.argsort()[::-1]\n",
    "    terms = vectorizer.get_feature_names()\n",
    "\n",
    "    for ind in top_idx[:10]:\n",
    "        print '%s ' % terms[ind], \n",
    "    print\n",
    "\n",
    "    id_cnt = {}\n",
    "    for id, id_list in id_dict.items():\n",
    "        id_cnt[id] = Counter(id_list)\n",
    "        \n",
    "    print \n",
    "    print 'Identifiers'\n",
    "    id_cnt = sorted(id_cnt.items())\n",
    "\n",
    "    for id, id_list in id_cnt:\n",
    "        ids_print_list = ', '.join('%d x %s' % (cnt, name) for name, cnt in id_list.most_common())\n",
    "        print '- %s: %s' % (id, ids_print_list)\n",
    "    "
   ]
  },
  {
   "cell_type": "code",
   "execution_count": 25,
   "metadata": {
    "collapsed": false,
    "scrolled": true
   },
   "outputs": [
    {
     "name": "stdout",
     "output_type": "stream",
     "text": [
      "0 org.apache.mahout.cf.taste.hadoop.als.Context  ctx  org.apache.hadoop.conf.Configuration  org.apache.mahout.math.VectorWritable  org.apache.hadoop.fs.Path  conf  org.apache.hadoop.mapreduce.Job  org.apache.hadoop.io.Text  org.apache.hadoop.io.IntWritable  writer \n",
      "\n",
      "13 org.apache.mahout.math.list.FloatArrayList  list  keyList  procedure  theKeys  valueList  swapper  org.apache.mahout.math.Swapper  condition  org.apache.mahout.math.function.IntComparator \n",
      "\n",
      "16 map  org.apache.mahout.math.list.LongArrayList  keys  map2  values  o  k2  org.apache.mahout.math.list.IntArrayList  valueList  keyList \n",
      "\n",
      "22 org.apache.mahout.classifier.sgd.OnlineLogisticRegression  lr  org.apache.mahout.math.Vector  org.apache.mahout.classifier.sgd.LogisticModelParameters  result  v  org.apache.mahout.classifier.sgd.ModelDissector.Weight  other  w  org.apache.mahout.classifier.AbstractVectorClassifier \n",
      "\n",
      "23 org.apache.mahout.math.list.LongArrayList  list  procedure  copy  valueList  keyList  condition  org.apache.mahout.math.list.DoubleArrayList  org.apache.mahout.math.function.LongProcedure  element \n",
      "\n",
      "24 model  org.apache.mahout.classifier.naivebayes.NaiveBayesModel  classifier  org.apache.mahout.utils.vectors.arff.ARFFModel  pair  matrix  evaluator  log  org.apache.mahout.math.Matrix  org.apache.mahout.common.Pair \n",
      "\n",
      "29 context  org.apache.hadoop.conf.Configuration  configuration  org.apache.hadoop.fs.Path  org.apache.mahout.text.LuceneStorageConfiguration  org.apache.hadoop.io.Text  inputSplit  org.apache.mahout.text.LuceneSegmentInputSplit  value  key \n",
      "\n",
      "31 posterior  org.apache.mahout.clustering.classify.ClusterClassifier  org.apache.mahout.clustering.Cluster  org.apache.mahout.math.Vector  cluster  prior  probabilities  org.apache.mahout.clustering.Model  measure  analyzer \n",
      "\n",
      "33 org.apache.mahout.math.list.CharArrayList  list  keyList  procedure  valueList  theKeys  condition  other  org.apache.mahout.math.list.IntArrayList  swapper \n",
      "\n",
      "34 org.apache.mahout.math.list.ShortArrayList  list  procedure  copy  keyList  condition  valueList  org.apache.mahout.math.function.ShortProcedure  org.apache.mahout.math.list.IntArrayList  element \n",
      "\n",
      "40 map  org.apache.mahout.math.list.CharArrayList  map2  keys  values  o  k2  valueList  keyList  v \n",
      "\n",
      "42 water.fvec.Frame  water.fvec.Vec  org.apache.mahout.h2obindings.drm.H2ODrm  drmA  A  water.fvec.Chunk  chks[]  keys  drmB  org.apache.mahout.classifier.sequencelearning.hmm.HmmModel \n",
      "\n",
      "46 map  keys  map2  second  o  v  k2  org.apache.mahout.math.list.LongArrayList  values  org.apache.mahout.math.list.DoubleArrayList \n",
      "\n",
      "48 org.apache.mahout.common.distance.DistanceMeasure  vectors  org.apache.mahout.math.Vector  distanceMeasure  vector  v  pi  org.apache.mahout.math.CholeskyDecomposition  writer  query \n",
      "\n",
      "53 map  org.apache.mahout.math.list.FloatArrayList  map2  keys  values  k2  org.apache.mahout.math.list.IntArrayList  o  valueList  keyList \n",
      "\n",
      "69 lar  lar2  l2  al  emptyList  listOfFive  larOdd  org.apache.mahout.math.list.LongArrayList  org.apache.mahout.math.list.IntArrayList  org.apache.mahout.math.list.FloatArrayList \n",
      "\n",
      "74 org.apache.mahout.vectorizer.collocations.llr.Gram  org.apache.mahout.vectorizer.collocations.llr.GramKey  context  value  org.apache.mahout.vectorizer.collocations.llr.Context  key  c  org.apache.mahout.math.list.CharArrayList  input  output \n",
      "\n",
      "79 map  org.apache.mahout.math.list.DoubleArrayList  map2  keys  values  o  k2  org.apache.mahout.math.list.FloatArrayList  valueList  org.apache.mahout.math.list.IntArrayList \n",
      "\n",
      "83 map  org.apache.mahout.math.list.IntArrayList  map2  keys  values  o  k2  org.apache.mahout.math.list.ShortArrayList  org.apache.mahout.math.list.DoubleArrayList  valueList \n",
      "\n",
      "91 cluster  org.apache.mahout.clustering.iterator.ClusterWritable  clusterWritable  org.apache.mahout.clustering.Cluster  org.apache.mahout.common.distance.DistanceMeasure  measure  org.apache.mahout.math.Vector  point  org.apache.mahout.clustering.classify.WeightedPropertyVectorWritable  org.apache.hadoop.io.Writable \n",
      "\n",
      "93 org.apache.mahout.classifier.sequencelearning.hmm.HmmModel  model  org.apache.mahout.math.Matrix  org.apache.mahout.math.Vector  transitionMatrix  emissionMatrix  initialProbabilities  org.apache.mahout.utils.vectors.arff.ARFFModel  a  alpha \n",
      "\n",
      "113 org.apache.mahout.math.VarLongWritable  context  org.apache.mahout.cf.taste.hadoop.item.Context  org.apache.mahout.math.VarIntWritable  key  org.apache.mahout.math.VectorWritable  org.apache.mahout.math.Vector  value  org.apache.mahout.cf.taste.impl.common.FastIDSet  org.apache.hadoop.io.IntWritable \n",
      "\n",
      "114 org.apache.mahout.math.list.IntArrayList  procedure  list  copy  valueList  condition  keyList  org.apache.mahout.math.function.IntProcedure  org.apache.mahout.math.list.ByteArrayList  org.apache.mahout.math.list.CharArrayList \n",
      "\n",
      "126 org.apache.mahout.math.list.ByteArrayList  list  procedure  keyList  theKeys  valueList  swapper  org.apache.mahout.math.Swapper  org.apache.mahout.math.function.IntComparator  comp \n",
      "\n",
      "150 org.apache.mahout.math.Vector  org.apache.mahout.vectorizer.encoders.FeatureVectorEncoder  enc  v1  v2  v3  v  featureVector  org.apache.mahout.vectorizer.encoders.StaticWordValueEncoder  org.apache.mahout.cf.taste.similarity.ItemSimilarity \n",
      "\n",
      "153 data  org.apache.mahout.math.Vector  org.apache.mahout.vectorizer.encoders.FeatureVectorEncoder  com.google.common.collect.Multiset  org.apache.mahout.classifier.df.data.Data  r  org.apache.mahout.math.UpperTriangular  v  mx  org.apache.mahout.math.Vector.Element \n",
      "\n",
      "156 org.apache.mahout.math.Vector  v1  v  v2  centroid  jobConf  org.apache.hadoop.conf.Configuration  job  matrix  org.apache.mahout.math.Matrix \n",
      "\n",
      "159 org.apache.lucene.index.IndexReader  org.apache.mahout.vectorizer.Weight  org.apache.mahout.utils.vectors.TermInfo  weight  reader  indexReader  termInfo  terminfo  org.apache.lucene.util.BytesRef  org.apache.mahout.utils.vectors.TermEntry \n",
      "\n",
      "184 org.apache.hadoop.fs.Path  context  org.apache.hadoop.conf.Configuration  org.apache.mahout.math.Vector  org.apache.mahout.math.VectorWritable  value  key  conf  org.apache.mahout.math.hadoop.stochasticsvd.Context  org.apache.hadoop.fs.FileSystem \n",
      "\n",
      "187 org.apache.mahout.cf.taste.model.PreferenceArray  prefs  delegate  org.apache.mahout.math.list.CharArrayList  org.apache.mahout.cf.taste.model.Preference  org.apache.mahout.cf.taste.impl.common.FastIDSet  org.apache.mahout.cf.taste.model.DataModel  org.apache.mahout.cf.taste.recommender.Rescorer  pref  matrix \n",
      "\n",
      "188 other  c  procedure  sortedList  clone  org.apache.mahout.math.list.AbstractIntList  org.apache.mahout.math.list.IntArrayList  org.apache.mahout.math.list.AbstractByteList  org.apache.mahout.math.list.ByteArrayList  org.apache.mahout.math.list.CharArrayList \n",
      "\n",
      "190 map  org.apache.mahout.math.list.ByteArrayList  map2  keys  values  k2  o  valueList  org.apache.mahout.math.list.DoubleArrayList  keyList \n",
      "\n",
      "195 org.apache.mahout.math.OrderedIntDoubleMapping  updates  org.apache.mahout.math.Element  org.apache.mahout.math.Vector  other  e  vector  x  element  org.apache.mahout.math.Vector.Element \n",
      "\n",
      "197 org.apache.mahout.math.list.FloatArrayList  list  procedure  valueList  copy  keyList  condition  org.apache.mahout.math.function.FloatProcedure  org.apache.mahout.math.list.DoubleArrayList  org.apache.mahout.math.list.ShortArrayList \n",
      "\n"
     ]
    }
   ],
   "source": [
    "for id in ids_123:\n",
    "    centroid = X_red[best[1] == id].mean(axis=0)\n",
    "    orig_space_centroid = V.dot(centroid)\n",
    "    top_idx = orig_space_centroid.argsort()[::-1]\n",
    "    terms = vectorizer.get_feature_names()\n",
    "\n",
    "    print id,\n",
    "    for ind in top_idx[:10]:\n",
    "        print '%s ' % terms[ind], \n",
    "        \n",
    "    print\n",
    "    print"
   ]
  },
  {
   "cell_type": "markdown",
   "metadata": {},
   "source": [
    "### Some observations"
   ]
  },
  {
   "cell_type": "markdown",
   "metadata": {},
   "source": [
    "Java source code is not really 100% same as math formulas corpus: \n",
    "\n",
    "- have subclasses - so here it's harder to tell when two things are same \n",
    "\n",
    "\n",
    "Same for both:\n",
    "\n",
    "- \"namespace defining\" classes may be in the package that they don't define: these packages use the \"namespace\" packages and by usage of them in other packages we discribe"
   ]
  }
 ],
 "metadata": {
  "kernelspec": {
   "display_name": "Python 2",
   "language": "python",
   "name": "python2"
  },
  "language_info": {
   "codemirror_mode": {
    "name": "ipython",
    "version": 2
   },
   "file_extension": ".py",
   "mimetype": "text/x-python",
   "name": "python",
   "nbconvert_exporter": "python",
   "pygments_lexer": "ipython2",
   "version": "2.7.7"
  }
 },
 "nbformat": 4,
 "nbformat_minor": 0
}
