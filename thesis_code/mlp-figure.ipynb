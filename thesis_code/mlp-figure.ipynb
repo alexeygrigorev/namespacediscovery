{
 "cells": [
  {
   "cell_type": "code",
   "execution_count": 3,
   "metadata": {
    "collapsed": true
   },
   "outputs": [],
   "source": [
    "import numpy as np\n",
    "import matplotlib.pyplot as plt\n",
    "\n",
    "%matplotlib inline\n",
    "\n",
    "import matplotlib\n",
    "matplotlib.rcParams['mathtext.fontset'] = 'stix'\n",
    "matplotlib.rcParams['font.family'] = 'STIXGeneral'\n",
    "matplotlib.rcParams['axes.labelsize']= 'large'"
   ]
  },
  {
   "cell_type": "code",
   "execution_count": 91,
   "metadata": {
    "collapsed": false
   },
   "outputs": [],
   "source": [
    "x = np.linspace(-10, 10, 101)\n",
    "\n",
    "\n",
    "def R_delta(x):\n",
    "    return np.exp(-0.5 * (x ** 2 - 1) / (12.0 / np.log(2)))\n",
    "\n",
    "sigma_s = 2 * (np.log(2) ** (-0.5))\n",
    "\n",
    "def R_n(x):\n",
    "    return np.exp(-0.5 * (x ** 2) / (4.5 / np.log(2)))"
   ]
  },
  {
   "cell_type": "code",
   "execution_count": 95,
   "metadata": {
    "collapsed": false
   },
   "outputs": [
    {
     "data": {
      "text/plain": [
       "(1.0293022366434921, 1.0)"
      ]
     },
     "execution_count": 95,
     "metadata": {},
     "output_type": "execute_result"
    }
   ],
   "source": [
    "R_delta(np.array(0)), R_n(0)"
   ]
  },
  {
   "cell_type": "code",
   "execution_count": 96,
   "metadata": {
    "collapsed": false
   },
   "outputs": [
    {
     "data": {
      "text/plain": [
       "(0.5, 0.5)"
      ]
     },
     "execution_count": 96,
     "metadata": {},
     "output_type": "execute_result"
    }
   ],
   "source": [
    "R_delta(5), R_n(3)"
   ]
  },
  {
   "cell_type": "code",
   "execution_count": 100,
   "metadata": {
    "collapsed": false
   },
   "outputs": [
    {
     "data": {
      "image/png": "[encoded data removed]",
      "text/plain": [
       "<matplotlib.figure.Figure at 0xcb4a390>"
      ]
     },
     "metadata": {},
     "output_type": "display_data"
    }
   ],
   "source": [
    "items = np.linspace(-10, 10, 21)\n",
    "\n",
    "plt.figure(figsize=(7, 2))\n",
    "plt.plot(x, R_delta(x), color='gray', alpha=0.5)\n",
    "plt.scatter(items[items != 0], R_delta(items[items != 0]), marker='x', color='black', label='words')\n",
    "\n",
    "plt.plot(x, R_n(x), color='gray', alpha=0.5)\n",
    "plt.scatter(items, R_n(items), marker='o', color='black', label='sentences')\n",
    "\n",
    "plt.xlim(-8.8, 8.8)\n",
    "plt.ylim(-0.05, 1.1)\n",
    "\n",
    "plt.xticks([-7, -5, -3, -1, 1, 3, 5, 7], [7, 5, 3, 1, 1, 3, 5, 7])\n",
    "plt.yticks([0, 0.5, 1.0])\n",
    "\n",
    "plt.grid()\n",
    "legend = plt.legend(frameon=1)\n",
    "frame = legend.get_frame()\n",
    "frame.set_color('white')\n",
    "frame.set_edgecolor('black')\n",
    "\n",
    "plt.tight_layout()\n",
    "plt.savefig('figures/mlp.svg', format='svg')\n",
    "plt.show()"
   ]
  },
  {
   "cell_type": "markdown",
   "metadata": {
    "collapsed": true
   },
   "source": [
    "## Cluster Analysis picture"
   ]
  },
  {
   "cell_type": "code",
   "execution_count": 1,
   "metadata": {
    "collapsed": true
   },
   "outputs": [],
   "source": [
    "from sklearn import datasets\n",
    "iris = datasets.load_iris()"
   ]
  },
  {
   "cell_type": "code",
   "execution_count": 2,
   "metadata": {
    "collapsed": true
   },
   "outputs": [],
   "source": [
    "X = iris.data\n",
    "y = iris.target"
   ]
  },
  {
   "cell_type": "code",
   "execution_count": 17,
   "metadata": {
    "collapsed": false
   },
   "outputs": [
    {
     "data": {
      "image/png": "[encoded data removed]",
      "text/plain": [
       "<matplotlib.figure.Figure at 0x183889e8>"
      ]
     },
     "metadata": {},
     "output_type": "display_data"
    }
   ],
   "source": [
    "plt.scatter(X[:, 0], X[:, 1], marker='x', alpha=0.8, color='black')\n",
    "plt.tight_layout()\n",
    "plt.savefig('figures/iris.svg', format='svg')"
   ]
  },
  {
   "cell_type": "code",
   "execution_count": null,
   "metadata": {
    "collapsed": true
   },
   "outputs": [],
   "source": []
  }
 ],
 "metadata": {
  "kernelspec": {
   "display_name": "Python 2",
   "language": "python",
   "name": "python2"
  },
  "language_info": {
   "codemirror_mode": {
    "name": "ipython",
    "version": 2
   },
   "file_extension": ".py",
   "mimetype": "text/x-python",
   "name": "python",
   "nbconvert_exporter": "python",
   "pygments_lexer": "ipython2",
   "version": "2.7.7"
  }
 },
 "nbformat": 4,
 "nbformat_minor": 0
}
