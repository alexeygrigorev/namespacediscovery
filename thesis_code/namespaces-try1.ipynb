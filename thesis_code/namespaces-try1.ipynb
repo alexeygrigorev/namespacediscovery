{
 "cells": [
  {
   "cell_type": "code",
   "execution_count": 1,
   "metadata": {
    "collapsed": false
   },
   "outputs": [],
   "source": [
    "import numpy as np\n",
    "import pandas as pd\n",
    "import matplotlib.pyplot as plt\n",
    "\n",
    "%matplotlib inline"
   ]
  },
  {
   "cell_type": "code",
   "execution_count": 2,
   "metadata": {
    "collapsed": false
   },
   "outputs": [],
   "source": [
    "import json\n",
    "import os\n",
    "from collections import Counter"
   ]
  },
  {
   "cell_type": "code",
   "execution_count": 3,
   "metadata": {
    "collapsed": false
   },
   "outputs": [],
   "source": [
    "from time import time"
   ]
  },
  {
   "cell_type": "code",
   "execution_count": 45,
   "metadata": {
    "collapsed": false
   },
   "outputs": [],
   "source": [
    "root = 'C:/tmp/mlp/output/output-test/'\n",
    "\n",
    "docs = []\n",
    "\n",
    "for f in os.listdir(root): \n",
    "    for line in file(root + f):\n",
    "        doc = json.loads(line)\n",
    "        docs.append(doc)"
   ]
  },
  {
   "cell_type": "code",
   "execution_count": 46,
   "metadata": {
    "collapsed": false
   },
   "outputs": [],
   "source": [
    "titles = [d['title'] for d in docs] \n",
    "ids = [d['identifiers'] for d in docs]"
   ]
  },
  {
   "cell_type": "code",
   "execution_count": 6,
   "metadata": {
    "collapsed": false
   },
   "outputs": [],
   "source": [
    "def rel_to_dict(rels):\n",
    "    return {r['identifier']: r['definition'] for r in rels}"
   ]
  },
  {
   "cell_type": "code",
   "execution_count": 7,
   "metadata": {
    "collapsed": false
   },
   "outputs": [],
   "source": [
    "rels = [rel_to_dict(d['relations']) for d in docs]"
   ]
  },
  {
   "cell_type": "code",
   "execution_count": 8,
   "metadata": {
    "collapsed": false
   },
   "outputs": [],
   "source": [
    "all_ids = sum(ids, [])\n",
    "c = Counter(all_ids)"
   ]
  },
  {
   "cell_type": "code",
   "execution_count": 9,
   "metadata": {
    "collapsed": false
   },
   "outputs": [],
   "source": [
    "frequent = set(el for (el, cnt) in c.items() if cnt > 2)"
   ]
  },
  {
   "cell_type": "code",
   "execution_count": 10,
   "metadata": {
    "collapsed": false
   },
   "outputs": [],
   "source": [
    "def keep_frequent(ids):\n",
    "    return [i for i in ids if i in frequent]"
   ]
  },
  {
   "cell_type": "code",
   "execution_count": 47,
   "metadata": {
    "collapsed": false
   },
   "outputs": [],
   "source": [
    "ids = [keep_frequent(id_list) for id_list in ids]"
   ]
  },
  {
   "cell_type": "code",
   "execution_count": 52,
   "metadata": {
    "collapsed": false
   },
   "outputs": [],
   "source": [
    "title_idx = {title: idx for (idx, title) in enumerate(titles)}"
   ]
  },
  {
   "cell_type": "code",
   "execution_count": 53,
   "metadata": {
    "collapsed": false
   },
   "outputs": [],
   "source": [
    "def get_ids(title):\n",
    "    if isinstance(title, (int, long)):\n",
    "        return ' '.join(ids[title])\n",
    "    else:\n",
    "        return ' '.join(ids[title_idx[title]])\n",
    "    \n",
    "def print_ids(title):\n",
    "    print get_ids(title)"
   ]
  },
  {
   "cell_type": "code",
   "execution_count": 54,
   "metadata": {
    "collapsed": false
   },
   "outputs": [
    {
     "name": "stdout",
     "output_type": "stream",
     "text": [
      "s x d g L ε h F E X t_i l t t_0 t_1 t_n T τ_i π n R F_Y Y λ Y_1 Y_2 Y_n Z U b\n"
     ]
    }
   ],
   "source": [
    "print_ids(u'Laplace–Stieltjes transform')"
   ]
  },
  {
   "cell_type": "code",
   "execution_count": 15,
   "metadata": {
    "collapsed": false
   },
   "outputs": [],
   "source": [
    "sigmas = [idx for (idx, id_list) in enumerate(ids) if u'σ' in id_list]"
   ]
  },
  {
   "cell_type": "code",
   "execution_count": 16,
   "metadata": {
    "collapsed": false
   },
   "outputs": [
    {
     "data": {
      "text/plain": [
       "1302"
      ]
     },
     "execution_count": 16,
     "metadata": {},
     "output_type": "execute_result"
    }
   ],
   "source": [
    "len(sigmas)"
   ]
  },
  {
   "cell_type": "code",
   "execution_count": 17,
   "metadata": {
    "collapsed": false
   },
   "outputs": [
    {
     "name": "stdout",
     "output_type": "stream",
     "text": [
      "Analysis of variance\n",
      "ε N σ j y_i t_j s n y S D F n_T M\n"
     ]
    }
   ],
   "source": [
    "print titles[sigmas[0]]\n",
    "print_ids(sigmas[0])"
   ]
  },
  {
   "cell_type": "code",
   "execution_count": 18,
   "metadata": {
    "collapsed": false
   },
   "outputs": [
    {
     "name": "stdout",
     "output_type": "stream",
     "text": [
      "p m v p_1 p_2 m_1 v_1 m_2 v_2 r_cm r_1 r_2 v_cm Δ F t d t_1 t_2 u_1 u_2 x u C_R v_x v_y v_z p_x p_y p_z y z L T V q_j p_j H q p_i q_i γ c m_0 τ U_0 V_0 U_1 V_1 U_2 V_2 U_3 V_3 U R P E B μ_0 g S ρ J n_j j ϵ_0 E_i E_j B_i B_j M r ϕ p_k B_l ℏ ψ h λ D σ_zx μ σ f\n"
     ]
    }
   ],
   "source": [
    "print_ids('Momentum')"
   ]
  },
  {
   "cell_type": "code",
   "execution_count": 19,
   "metadata": {
    "collapsed": false
   },
   "outputs": [
    {
     "name": "stdout",
     "output_type": "stream",
     "text": [
      "σ n_i T n j σ_11 σ_12 σ_13 σ_21 σ_22 σ_23 σ_31 σ_32 σ_33 σ_x σ_y σ_z m p d S σ_n τ P F b Δ M F_i x t F_n F_s ρ h n_1 n_2 n_3 σ_1 σ_2 σ_3 σ_4 σ_5 σ_6 n_j τ_n n_k V x_j F_k r k n_m K_n λ λ_i λ_1 λ_2 λ_3 y τ_max σ_max σ_min g π u_k x_k u s_12 J_1 J_2 J_3 s_1 s_2 s_3 s σ_e\n"
     ]
    }
   ],
   "source": [
    "print_ids('Cauchy stress tensor')"
   ]
  },
  {
   "cell_type": "code",
   "execution_count": 55,
   "metadata": {
    "collapsed": false
   },
   "outputs": [],
   "source": [
    "def id_intersect(title1, title2):\n",
    "    return set(ids[title_idx[title1]]) & set(ids[title_idx[title2]])\n",
    "\n",
    "def id_union(title1, title2):\n",
    "    return set(ids[title_idx[title1]]) | set(ids[title_idx[title2]])\n",
    "\n",
    "def jaccard(title1, title2):\n",
    "    return len(id_intersect(title1, title2)) * 1.0 / len(id_union(title1, title2))"
   ]
  },
  {
   "cell_type": "code",
   "execution_count": 56,
   "metadata": {
    "collapsed": false
   },
   "outputs": [
    {
     "name": "stdout",
     "output_type": "stream",
     "text": [
      "0.166666666667 Δ n_j λ ρ σ τ F M P S T V d g h j m p r u t y x\n"
     ]
    }
   ],
   "source": [
    "print jaccard('Momentum', 'Cauchy stress tensor'), \n",
    "print \" \".join(id_intersect('Momentum', 'Cauchy stress tensor'))"
   ]
  },
  {
   "cell_type": "code",
   "execution_count": 57,
   "metadata": {
    "collapsed": false
   },
   "outputs": [
    {
     "name": "stdout",
     "output_type": "stream",
     "text": [
      "0.11320754717 ρ c d m σ p μ_0 T v y x μ\n",
      "0.132653061224 ρ π σ b d k m n p s T y x\n"
     ]
    }
   ],
   "source": [
    "print jaccard('Momentum', 'Bayesian linear regression'), \n",
    "print \" \".join(id_intersect('Momentum', 'Bayesian linear regression'))\n",
    "\n",
    "print jaccard('Cauchy stress tensor', 'Bayesian linear regression'), \n",
    "print \" \".join(id_intersect('Cauchy stress tensor', 'Bayesian linear regression'))"
   ]
  },
  {
   "cell_type": "code",
   "execution_count": 23,
   "metadata": {
    "collapsed": false
   },
   "outputs": [
    {
     "name": "stdout",
     "output_type": "stream",
     "text": [
      "0.222222222222 σ k m x_i p β T y_i x y X n\n"
     ]
    }
   ],
   "source": [
    "print jaccard('Least squares', 'Bayesian linear regression'),\n",
    "print \" \".join(id_intersect('Least squares', 'Bayesian linear regression'))"
   ]
  },
  {
   "cell_type": "markdown",
   "metadata": {},
   "source": [
    "## Feature extraction:"
   ]
  },
  {
   "cell_type": "code",
   "execution_count": 24,
   "metadata": {
    "collapsed": false
   },
   "outputs": [],
   "source": [
    "from sklearn.feature_extraction.text import TfidfVectorizer"
   ]
  },
  {
   "cell_type": "code",
   "execution_count": 25,
   "metadata": {
    "collapsed": false
   },
   "outputs": [],
   "source": [
    "identity = lambda x: x\n",
    "vectorizer = TfidfVectorizer(analyzer=identity)\n",
    "\n",
    "X = vectorizer.fit_transform(ids)"
   ]
  },
  {
   "cell_type": "code",
   "execution_count": 26,
   "metadata": {
    "collapsed": false
   },
   "outputs": [
    {
     "data": {
      "text/plain": [
       "(20873, 3614)"
      ]
     },
     "execution_count": 26,
     "metadata": {},
     "output_type": "execute_result"
    }
   ],
   "source": [
    "X.shape"
   ]
  },
  {
   "cell_type": "markdown",
   "metadata": {},
   "source": [
    "## SVD and LSA"
   ]
  },
  {
   "cell_type": "markdown",
   "metadata": {},
   "source": [
    "http://www.datascienceassn.org/sites/default/files/users/user1/lsa_presentation_final.pdf"
   ]
  },
  {
   "cell_type": "code",
   "execution_count": 422,
   "metadata": {
    "collapsed": false
   },
   "outputs": [],
   "source": [
    "from sklearn.decomposition import TruncatedSVD"
   ]
  },
  {
   "cell_type": "code",
   "execution_count": 483,
   "metadata": {
    "collapsed": false
   },
   "outputs": [],
   "source": [
    "lsa = TruncatedSVD(100, algorithm='randomized')\n",
    "X_red = lsa.fit_transform(X)"
   ]
  },
  {
   "cell_type": "code",
   "execution_count": 484,
   "metadata": {
    "collapsed": false
   },
   "outputs": [
    {
     "data": {
      "text/plain": [
       "(20873L, 100L)"
      ]
     },
     "execution_count": 484,
     "metadata": {},
     "output_type": "execute_result"
    }
   ],
   "source": [
    "X_red.shape"
   ]
  },
  {
   "cell_type": "markdown",
   "metadata": {},
   "source": [
    "## Jaccard:"
   ]
  },
  {
   "cell_type": "code",
   "execution_count": 24,
   "metadata": {
    "collapsed": false
   },
   "outputs": [],
   "source": [
    "ids_sets = [set(id_list) for id_list in ids]"
   ]
  },
  {
   "cell_type": "code",
   "execution_count": 25,
   "metadata": {
    "collapsed": false
   },
   "outputs": [],
   "source": [
    "def calc_jaccard(set1, set2):\n",
    "    union = len(set1 | set2)\n",
    "    if not union: \n",
    "        return 0.0\n",
    "\n",
    "    inter = len(set1 & set2)\n",
    "    return inter * 1.0 / union"
   ]
  },
  {
   "cell_type": "code",
   "execution_count": 27,
   "metadata": {
    "collapsed": false
   },
   "outputs": [
    {
     "data": {
      "text/plain": [
       "(20873L, 20873L)"
      ]
     },
     "execution_count": 27,
     "metadata": {},
     "output_type": "execute_result"
    }
   ],
   "source": [
    "N_docs = len(ids_sets)\n",
    "jaccard_dist = np.zeros((N_docs, N_docs))\n",
    "jaccard_dist.shape"
   ]
  },
  {
   "cell_type": "code",
   "execution_count": 28,
   "metadata": {
    "collapsed": false
   },
   "outputs": [
    {
     "name": "stdout",
     "output_type": "stream",
     "text": [
      "done in 927.599s.\n"
     ]
    }
   ],
   "source": [
    "t0 = time()\n",
    "\n",
    "for i in xrange(N_docs):\n",
    "    for j in xrange(i + 1, N_docs):\n",
    "        jaccard_dist[i, j] = jaccard_dist[j, i] = 1 - calc_jaccard(ids_sets[i], ids_sets[j])\n",
    "\n",
    "print \"done in %0.3fs.\" % (time() - t0)"
   ]
  },
  {
   "cell_type": "code",
   "execution_count": 89,
   "metadata": {
    "collapsed": false
   },
   "outputs": [
    {
     "name": "stdout",
     "output_type": "stream",
     "text": [
      "[ 0.          0.62962963  0.63207547  0.6407767   0.65909091  0.66666667\n",
      "  0.66666667  0.68217054  0.68695652  0.7       ]\n",
      "Momentum j p_j p_k p_i v ℏ v_x v_y v_z U_3 U_2 U_1 U_0 p_z Δ p_x p_y E_j E_i v_1 x V_2 v_2 p c p_2 γ μ_0 r H m_2 m_1 m_0 μ ρ r_cm σ B E τ n_j F ψ J M L C_R q_j V_1 t_2 S R ϕ q_i V V_0 D U λ p_1 B_i B_j t_1 B_l d g f h r_2 V_3 m T q u_2 u_1 ϵ_0 u t r_1 y σ_zx z P v_cm \tnot found\n",
      "Laws of science p_i q_i Δ μ_0 γ ψ m_2 λ μ ρ B E F H J M L P S R U ℏ V m_1 c d g h j m q p r u t v t_2 x t_1 T \tnot found\n",
      "Lorentz force U_3 U_2 U_1 U_0 p_z p_x p_y μ_0 γ r μ ρ σ B E τ F J L P S ϕ T V p_2 p_1 c d f m q p ϵ_0 u t v y x z \telectrostatic potential\n",
      "Lagrangian p_i ℏ τ q_i μ_0 γ r μ ρ σ B E D F ψ J M L S R ϕ T V p_2 c d g f j m q ϵ_0 t v y x z \tvolts\n",
      "Hamiltonian mechanics p_j p_i q_j q_i p_z p_x p_y γ ρ B E F H L P ϕ T V c d f j m q p r t y x z \telectric scalar potential\n",
      "List of common physics notations ℏ Δ D x γ μ ρ σ B E τ F H J M L P S R ϕ T V c d g f h j m q p r u t v y U \tnot found\n",
      "Operator (physics) ℏ p_z Δ p_x p_y x H σ B E D F ψ J L P S R ϕ T V c d f j m q p r t v y U z \tnot found\n",
      "List of mathematical symbols p_k v_x v_y v_z Δ x r λ μ ρ σ B E τ P F H t_2 S R ϕ T V p_2 p_1 c t_1 d g f h j m p ϵ_0 u t v y U z \tnot found\n",
      "List of equations in classical mechanics p_i Δ x γ m_2 λ μ ρ σ E τ F H M L P S R ϕ T V m_1 d g r_1 r_2 j m q p r t v t_2 U t_1 \tnot found\n",
      "Fraktur B E D F H J M L P S R U T V c d g f h j m q p r u t v y x z \tnot found\n"
     ]
    }
   ],
   "source": [
    "momentum = jaccard_dist[title_idx['Momentum'], :]\n",
    "\n",
    "momentum_neighbors = momentum[momentum.argsort()[:10]]\n",
    "print momentum_neighbors\n",
    "\n",
    "for i in np.nditer(momentum.argsort()[:10]):\n",
    "    print titles[i], \" \".join(id_intersect('Momentum', titles[i])), '\\t', rels[i].get(u'ϕ', 'not found')"
   ]
  },
  {
   "cell_type": "code",
   "execution_count": null,
   "metadata": {
    "collapsed": false
   },
   "outputs": [],
   "source": []
  },
  {
   "cell_type": "code",
   "execution_count": 81,
   "metadata": {
    "collapsed": false
   },
   "outputs": [
    {
     "name": "stdout",
     "output_type": "stream",
     "text": [
      "Bayesian linear regression Λ_n m x_i Γ Λ_0 b_0 Λ b_n ϵ_i y_n μ_0 β y_i μ ρ π σ v_0 χ N T X c b d k μ_n y_1 n p s v y x\n",
      "Proofs involving ordinary least squares π σ b d χ m N p β T n x y X x_i\n",
      "Möbius function π c b d k m N p s T x X n μ\n",
      "Quartic reciprocity π c b d k m σ N p s β y x n μ\n",
      "List of integrals of exponential functions π c b d k m σ n p Γ y x μ\n",
      "FKG inequality x c b d b_n μ_n m n p Γ β v y X Λ μ\n",
      "Normal-gamma distribution π σ b s m μ_0 x_i p Γ β T n x X N μ\n",
      "Median π σ d k m c N p s x v y X n μ\n",
      "Optical transfer function π σ d k c N y_n s n T x X x_i μ\n",
      "Mean σ b d m c y_1 N y_n n y_i y x x_i μ\n"
     ]
    }
   ],
   "source": [
    "doc_name = 'Bayesian linear regression'\n",
    "neighbors = jaccard_dist[title_idx[doc_name], :]\n",
    "\n",
    "for i in np.nditer(neighbors.argsort()[:10]):\n",
    "    print titles[i], \" \".join(id_intersect(doc_name, titles[i]))"
   ]
  },
  {
   "cell_type": "markdown",
   "metadata": {},
   "source": [
    "## Locality sensitive hashing"
   ]
  },
  {
   "cell_type": "markdown",
   "metadata": {},
   "source": [
    "https://github.com/pixelogik/NearPy"
   ]
  },
  {
   "cell_type": "code",
   "execution_count": 574,
   "metadata": {
    "collapsed": false
   },
   "outputs": [
    {
     "name": "stdout",
     "output_type": "stream",
     "text": [
      "0\n",
      "1000\n",
      "2000\n",
      "3000\n",
      "4000\n",
      "5000\n",
      "6000\n",
      "7000\n",
      "8000\n",
      "9000\n",
      "10000\n",
      "11000\n",
      "12000\n",
      "13000\n",
      "14000\n",
      "15000\n",
      "16000\n",
      "17000\n",
      "18000\n",
      "19000\n",
      "20000\n"
     ]
    }
   ],
   "source": [
    "from nearpy import Engine\n",
    "from nearpy.hashes import RandomBinaryProjections\n",
    "from nearpy.distances import CosineDistance\n",
    "\n",
    "# Dimension of our vector space\n",
    "dims = 3614\n",
    "\n",
    "# Create a random binary hash with 10 bits\n",
    "rbp = RandomBinaryProjections('rbp', 10)\n",
    "\n",
    "engine = Engine(dims, lshashes=[rbp], distance=CosineDistance())\n",
    "\n",
    "for (idx, row) in enumerate(X):\n",
    "    if (idx % 1000 == 0):\n",
    "        print idx\n",
    "    engine.store_vector(row.T, idx)"
   ]
  },
  {
   "cell_type": "code",
   "execution_count": 719,
   "metadata": {
    "collapsed": false
   },
   "outputs": [],
   "source": [
    "import scipy.sparse\n",
    "\n",
    "def neighborhood_2(self, v):\n",
    "    candidates = []\n",
    "    for lshash in self.lshashes:\n",
    "        for bucket_key in lshash.hash_vector(v, querying=True):\n",
    "            bucket_content = self.storage.get_bucket(lshash.hash_name, bucket_key)\n",
    "            #print 'Bucket %s size %d' % (bucket_key, len(bucket_content))\n",
    "            candidates.extend(bucket_content)\n",
    "\n",
    "    print 'Candidate count is %d' % len(candidates)\n",
    "\n",
    "    #if scipy.sparse.issparse(v):\n",
    "    candidate_vec, indexes = zip(*candidates)\n",
    "    candidate_matrix = scipy.sparse.hstack(blocks=candidate_vec, format=v.format)\n",
    "\n",
    "    cos = 1 - cosine_similarity(candidate_matrix.T, v.T)\n",
    "    cos = cos.reshape(-1)\n",
    "\n",
    "    candidates = zip(candidate_vec, indexes, cos)\n",
    "    return candidates\n",
    "\n",
    "Engine.neighborhood_sparse = neighborhood_2"
   ]
  },
  {
   "cell_type": "code",
   "execution_count": 720,
   "metadata": {
    "collapsed": false
   },
   "outputs": [
    {
     "name": "stdout",
     "output_type": "stream",
     "text": [
      "Candidate count is 15\n"
     ]
    }
   ],
   "source": [
    "query = X[50, :].T\n",
    "\n",
    "candidates = engine.neighborhood_sparse(query)\n",
    "_, indexes, cos = zip(*candidates)"
   ]
  },
  {
   "cell_type": "code",
   "execution_count": 717,
   "metadata": {
    "collapsed": false
   },
   "outputs": [
    {
     "data": {
      "text/plain": [
       "Int64Index([1, 5, 7, 13, 6, 11, 8, 3], dtype='int64')"
      ]
     },
     "execution_count": 717,
     "metadata": {},
     "output_type": "execute_result"
    }
   ],
   "source": [
    "cand_idx = pd.DataFrame({'index': indexes, 'cosine': cos})\n",
    "cand_idx.sort('cosine', inplace=True, ascending=False)\n",
    "idx = cand_idx[cand_idx.cosine > 0].index \n",
    "\n",
    "idx"
   ]
  },
  {
   "cell_type": "code",
   "execution_count": 583,
   "metadata": {
    "collapsed": false
   },
   "outputs": [
    {
     "ename": "ValueError",
     "evalue": "setting an array element with a sequence.",
     "output_type": "error",
     "traceback": [
      "\u001b[1;31m---------------------------------------------------------------------------\u001b[0m\n\u001b[1;31mValueError\u001b[0m                                Traceback (most recent call last)",
      "\u001b[1;32m<ipython-input-583-65695ba9c6bc>\u001b[0m in \u001b[0;36m<module>\u001b[1;34m()\u001b[0m\n\u001b[0;32m      1\u001b[0m \u001b[0mquery\u001b[0m \u001b[1;33m=\u001b[0m \u001b[0mX\u001b[0m\u001b[1;33m[\u001b[0m\u001b[1;36m10\u001b[0m\u001b[1;33m,\u001b[0m \u001b[1;33m:\u001b[0m\u001b[1;33m]\u001b[0m\u001b[1;33m.\u001b[0m\u001b[0mT\u001b[0m\u001b[1;33m\u001b[0m\u001b[0m\n\u001b[0;32m      2\u001b[0m \u001b[1;33m\u001b[0m\u001b[0m\n\u001b[1;32m----> 3\u001b[1;33m \u001b[0mN\u001b[0m \u001b[1;33m=\u001b[0m \u001b[0mengine\u001b[0m\u001b[1;33m.\u001b[0m\u001b[0mneighbours\u001b[0m\u001b[1;33m(\u001b[0m\u001b[0mquery\u001b[0m\u001b[1;33m)\u001b[0m\u001b[1;33m\u001b[0m\u001b[0m\n\u001b[0m\u001b[0;32m      4\u001b[0m \u001b[1;32mprint\u001b[0m \u001b[0mlen\u001b[0m\u001b[1;33m(\u001b[0m\u001b[0mN\u001b[0m\u001b[1;33m)\u001b[0m\u001b[1;33m\u001b[0m\u001b[0m\n",
      "\u001b[1;32mC:\\soft\\anaconda\\2.0.1\\lib\\site-packages\\nearpy\\engine.pyc\u001b[0m in \u001b[0;36mneighbours\u001b[1;34m(self, v)\u001b[0m\n\u001b[0;32m    140\u001b[0m                 \u001b[0mcandidate_matrix\u001b[0m \u001b[1;33m=\u001b[0m \u001b[0mnp\u001b[0m\u001b[1;33m.\u001b[0m\u001b[0mzeros\u001b[0m\u001b[1;33m(\u001b[0m\u001b[1;33m(\u001b[0m\u001b[0mlen\u001b[0m\u001b[1;33m(\u001b[0m\u001b[0mcandidates\u001b[0m\u001b[1;33m)\u001b[0m\u001b[1;33m,\u001b[0m\u001b[0mself\u001b[0m\u001b[1;33m.\u001b[0m\u001b[0mlshashes\u001b[0m\u001b[1;33m[\u001b[0m\u001b[1;36m0\u001b[0m\u001b[1;33m]\u001b[0m\u001b[1;33m.\u001b[0m\u001b[0mdim\u001b[0m\u001b[1;33m)\u001b[0m\u001b[1;33m)\u001b[0m\u001b[1;33m\u001b[0m\u001b[0m\n\u001b[0;32m    141\u001b[0m                 \u001b[1;32mfor\u001b[0m \u001b[0mi\u001b[0m \u001b[1;32min\u001b[0m \u001b[0mxrange\u001b[0m\u001b[1;33m(\u001b[0m\u001b[0mlen\u001b[0m\u001b[1;33m(\u001b[0m\u001b[0mcandidates\u001b[0m\u001b[1;33m)\u001b[0m\u001b[1;33m)\u001b[0m\u001b[1;33m:\u001b[0m\u001b[1;33m\u001b[0m\u001b[0m\n\u001b[1;32m--> 142\u001b[1;33m                     \u001b[0mcandidate_matrix\u001b[0m\u001b[1;33m[\u001b[0m\u001b[0mi\u001b[0m\u001b[1;33m]\u001b[0m \u001b[1;33m=\u001b[0m \u001b[0mcandidates\u001b[0m\u001b[1;33m[\u001b[0m\u001b[0mi\u001b[0m\u001b[1;33m]\u001b[0m\u001b[1;33m[\u001b[0m\u001b[1;36m0\u001b[0m\u001b[1;33m]\u001b[0m\u001b[1;33m\u001b[0m\u001b[0m\n\u001b[0m\u001b[0;32m    143\u001b[0m                     \u001b[0mnpv\u001b[0m \u001b[1;33m=\u001b[0m \u001b[0mnp\u001b[0m\u001b[1;33m.\u001b[0m\u001b[0marray\u001b[0m\u001b[1;33m(\u001b[0m\u001b[0mv\u001b[0m\u001b[1;33m)\u001b[0m\u001b[1;33m\u001b[0m\u001b[0m\n\u001b[0;32m    144\u001b[0m                     \u001b[0mnpv\u001b[0m \u001b[1;33m=\u001b[0m \u001b[0mnpv\u001b[0m\u001b[1;33m.\u001b[0m\u001b[0mreshape\u001b[0m\u001b[1;33m(\u001b[0m\u001b[1;33m(\u001b[0m\u001b[1;36m1\u001b[0m\u001b[1;33m,\u001b[0m\u001b[0mlen\u001b[0m\u001b[1;33m(\u001b[0m\u001b[0mnpv\u001b[0m\u001b[1;33m)\u001b[0m\u001b[1;33m)\u001b[0m\u001b[1;33m)\u001b[0m\u001b[1;33m\u001b[0m\u001b[0m\n",
      "\u001b[1;31mValueError\u001b[0m: setting an array element with a sequence."
     ]
    }
   ],
   "source": [
    "query = X[10, :].T\n",
    "\n",
    "N = engine.neighbours(query)\n",
    "print len(N)"
   ]
  },
  {
   "cell_type": "code",
   "execution_count": null,
   "metadata": {
    "collapsed": false
   },
   "outputs": [],
   "source": []
  },
  {
   "cell_type": "markdown",
   "metadata": {},
   "source": [
    "## K-means"
   ]
  },
  {
   "cell_type": "markdown",
   "metadata": {},
   "source": [
    "Link: http://brandonrose.org/clustering"
   ]
  },
  {
   "cell_type": "code",
   "execution_count": 425,
   "metadata": {
    "collapsed": false
   },
   "outputs": [],
   "source": [
    "from sklearn.cluster import KMeans, MiniBatchKMeans"
   ]
  },
  {
   "cell_type": "code",
   "execution_count": 485,
   "metadata": {
    "collapsed": false
   },
   "outputs": [],
   "source": [
    "num_clusters = 300\n",
    "km = KMeans(n_clusters=num_clusters, max_iter=1000, random_state=10)"
   ]
  },
  {
   "cell_type": "code",
   "execution_count": 486,
   "metadata": {
    "collapsed": false
   },
   "outputs": [
    {
     "data": {
      "text/plain": [
       "KMeans(copy_x=True, init='k-means++', max_iter=1000, n_clusters=300,\n",
       "    n_init=10, n_jobs=1, precompute_distances=True, random_state=10,\n",
       "    tol=0.0001, verbose=0)"
      ]
     },
     "execution_count": 486,
     "metadata": {},
     "output_type": "execute_result"
    }
   ],
   "source": [
    "km.fit(X_red)"
   ]
  },
  {
   "cell_type": "markdown",
   "metadata": {},
   "source": [
    "http://stackoverflow.com/questions/27889873/clustering-text-documents-using-scikit-learn-kmeans-in-python"
   ]
  },
  {
   "cell_type": "code",
   "execution_count": 472,
   "metadata": {
    "collapsed": false
   },
   "outputs": [
    {
     "data": {
      "text/plain": [
       "10     4654\n",
       "194     262\n",
       "278     239\n",
       "3       225\n",
       "22      189\n",
       "176     185\n",
       "276     184\n",
       "51      184\n",
       "1       183\n",
       "11      181\n",
       "152     174\n",
       "244     169\n",
       "227     160\n",
       "111     157\n",
       "219     151\n",
       "...\n",
       "174    12\n",
       "124    12\n",
       "293    11\n",
       "246    10\n",
       "179    10\n",
       "94     10\n",
       "113    10\n",
       "266     9\n",
       "162     8\n",
       "182     8\n",
       "8       8\n",
       "292     7\n",
       "205     5\n",
       "13      5\n",
       "241     5\n",
       "Length: 300, dtype: int64"
      ]
     },
     "execution_count": 472,
     "metadata": {},
     "output_type": "execute_result"
    }
   ],
   "source": [
    "pd.Series(km.labels_).value_counts()"
   ]
  },
  {
   "cell_type": "code",
   "execution_count": 480,
   "metadata": {
    "collapsed": false
   },
   "outputs": [
    {
     "data": {
      "text/plain": [
       "244    86\n",
       "183    74\n",
       "194    68\n",
       "272    55\n",
       "223    53\n",
       "265    52\n",
       "93     49\n",
       "105    42\n",
       "285    41\n",
       "22     38\n",
       "115    28\n",
       "186    27\n",
       "73     23\n",
       "219    22\n",
       "142    22\n",
       "...\n",
       "220    1\n",
       "77     1\n",
       "76     1\n",
       "139    1\n",
       "282    1\n",
       "192    1\n",
       "202    1\n",
       "264    1\n",
       "187    1\n",
       "61     1\n",
       "60     1\n",
       "225    1\n",
       "145    1\n",
       "150    1\n",
       "190    1\n",
       "Length: 148, dtype: int64"
      ]
     },
     "execution_count": 480,
     "metadata": {},
     "output_type": "execute_result"
    }
   ],
   "source": [
    "sigma_clusters = km.labels_[sigmas]\n",
    "pd.Series(sigma_clusters).value_counts()"
   ]
  },
  {
   "cell_type": "code",
   "execution_count": 488,
   "metadata": {
    "collapsed": false
   },
   "outputs": [
    {
     "name": "stdout",
     "output_type": "stream",
     "text": [
      "Acoustic theory \tρ_0 v t p m κ x y z c_0 c φ ρ s b σ μ T λ x_i v_i x_j v_j v_k x_k c_p c_v d γ r θ v_r v_θ v_z ω R Q α k J_α B_α C_α D_α\n",
      "Arithmetic function \tχ n m p f k d σ_k ω τ p_1 p_2 φ J_k μ Ω q c_q gcd π c_r λ χ_0 x Π ϑ ψ Λ l t ϕ r_k g F_a s ζ R F_b b c j F_c δ J_r J_s σ r_2 r_4 ν r_6 r_8 r_24 b_n b_j c_n σ_3 σ_1 σ_5 σ_7 σ_9 σ_11 h D r r_3 H_n γ ν_p θ k_1 k_2 k_s m_1 m_2 d_2 d_1 u v\n",
      "List of equations in classical mechanics \tm λ d l σ S ρ V r x_i r_i m_i N r_com M m_1 m_2 μ v t j ω n θ α p F t_1 t_2 Δ r_0 L τ W W_ON W_BY P E q Q T H v_average j_average ζ p_i F_E L_i τ_E Y Ω w E_k E_p r_2 r_1 k F_⊥ R F_c v_0 ω_1 ω_0 s F_app Λ τ_app x ϕ Θ b ω_res γ κ g U U_max\n",
      "Force \tF m d p t v Δ m_0 c x F_x γ F_y F_z μ g m_⊕ R_⊕ G R r m_1 m_2 E q B l F_sf μ_sf F_N F_kf μ_kf k F_d F_g V P b σ τ α L dt t_1 t_2 W U m_n q_1 q_2 ϵ_0 π q_n\n",
      "Felix Hausdorff \tℵ_0 ℵ ℵ_α card T ℵ_1 μ ℵ_μ ω_ξ ω_η ω η W η_α δ σ R n ρ G_δ φ x L p F E\n",
      "Lorentz transformation \tt m p γ v x c y z β X Λ r_⟂ r_∥ r r_⊥ T β_x β_y β_z v_x v_y v_z β_1 β_2 β_3 v_1 v_2 v_3 Λ_00 Λ_01 Λ_02 Λ_03 Λ_10 Λ_11 Λ_12 Λ_13 Λ_20 Λ_21 Λ_22 Λ_23 Λ_30 Λ_31 Λ_32 Λ_33 β_i β_j v_i v_j B u Gyr gyr w L U V ϕ K_x Z α θ ι κ ζ μ ν ρ σ υ ψ χ t_B t_A x_B x_A y_B y_A z_B z_A Δ s C b P\n",
      "Lorentz force \tF q E v B r t d f ρ J V σ c S l Φ_B ϕ ∇_x x L m T y z p F_x E_x P q_cgs E_cgs B_cgs q_SI ϵ_0 E_SI μ_0 B_SI π U_β α τ β p_0 p_1 p_2 p_3 p_x p_y p_z E_y E_z B_z B_y B_x U_0 U_1 U_2 U_3 u_x u_y u_z γ μ ν Λ u γ_0\n",
      "Mathematical constant \tε_0 q_1 q_2 F π r n p_n ζ φ γ c j C_10 y x d C f G b α β E_B B_2 C_b ℵ_0 googol googolplex ϕ ρ δ Λ μ λ σ θ ψ\n",
      "Magnetism \tμ_0 B H M χ μ_r μ F q v θ u_A u_B σ r_1 r_2 ψ s_1 s_2 α β C s U Δ V ϕ E J kg m R Z X Ω ρ P W N D ε G Υ S γ κ T Wb Φ L Hm\n",
      "Maxwell's equations \tΩ ε_0 E d S ρ V B l t μ_0 J Q m p c s v_p μ_r ε_r ρ_f D J_f H Q_f Q_b ρ_b J_b r P M ε μ σ π φ F β α ∇_α g R x y z\n",
      "Momentum \tp m v p_1 p_2 m_1 v_1 m_2 v_2 r_cm r_1 r_2 v_cm Δ F t d t_1 t_2 u_1 u_2 x u C_R v_x v_y v_z p_x p_y p_z y z wrong L T V q_j p_j H q p_i q_i γ c m_0 τ U_0 V_0 U_1 V_1 U_2 V_2 U_3 V_3 U R P E B μ_0 g S P_mech ρ J P_field n_j j ϵ_0 E_i E_j B_i B_j M r ϕ p_k B_l ℏ ψ h λ D σ_zx μ σ f\n",
      "Special relativity \tt m p γ v x c y z x_2 x_1 t_2 t_1 Δ u d s X β ν μ Λ T v_x v_y v_z U τ E P_ν U_ν p_x p_y p_z ϕ θ ι κ α ζ ρ σ υ ψ χ η S_α T_α S_β S X_μ P_μ P E_rest F_ν\n",
      "Uncertainty principle \tσ_x σ_p ℏ Ψ x t k_0 p_0 ψ X b d p_n n π ϕ p σ f u v g m z B x_0 O σ_O σ_A σ_B J_i J_j J_k J_x J_y J_z J y σ_E Δ N E h ω Ω Φ μ α L ψ_n k_n ω_n l ϕ_n k ω_0 tr ρ W c ϵ_O η_O ϵ_A η_B ϵ_x η_p H_x H_p x_j j δ p_j for x_1 sinc ξ C S Σ P R\n",
      "Wave \tx u v t F G k ω ϕ v_g ψ π λ v_p k_1 d α N σ ℏ m T f μ ρ_0 B c h p r k_0\n",
      "Dirac equation \tα_1 p_1 α_2 p_2 α_3 p_3 β m c ψ x t ℏ α α_i α_j ϕ E p ρ J μ B C D κ γ k σ_x σ_y σ_z ν g b P_op S U V γ_5 H σ ψ_+ ψ_- v p_k q\n",
      "Allan variance \tσ y τ σ_y M T n τ_0 f x x_n V_0 V t Φ ω_n v_n π ϕ T_REF E v d t_v N x_i j o σ_x χ s m p h_2 S_x f_H h_1 γ σ_t h_0 h_α α β S_y K_α μ S_ϕ f_b ν x_0 y_0 D y_i H_A B_1 r B_2 B_3 T_0 F B_τ τ_1 τ_2 N_2 T_2 r_2 N_1 r_1 T_1 M_2 M_1\n",
      "Dimensionless quantity \tn_d n_F n_C V γ x α θ_i D ρ_l Ar g L ρ μ E_a R T ρ_1 ρ_2 Ba d λ Be Δ P S gen p τ_y Bm L_C k_b Bi h B u ϵ Bo v Re Sc T_w T_0 Br U κ N_BK k_rw σ Ca μ_0 Q ν μ_k μ_s μ_X μ_Y σ_X σ_Y E X Y x_k y_k k n y C t Da τ ζ c m K t_c t_p De c_d F_d K_m Du c_p Ec Ek Ω φ Eo Er Eu Θ_r T_e δ ε_0 f l r Fo F Fr Ga U_e G θ D_H Gz Pr Gr_L T_s T_∞ β α_G ℏ N_A0 Ha N A0 phys Hg h_2 h_1 length L_0 Ir H T_sat H_f Ja Ka K_C Kn U_h ρ_g Ku La Le C_L q χ m_l m_g V_A η v_sound M R_m Mg Mo Nu Oh We Pe N_P f_e π ε_trans ε_axial ϕ V_V V_T N_p H_r C_p p_∞ ρ_∞ Ra_x ρ_substance ρ_reference μ_r ε_r C_x C_0 Ri N_f Ro St w_s u_* Sh τ_* τ_∗ ρ_s Ste U_o d_c Stk ω L_c Ta Va j w_H Wea w Wi\n",
      "Fourier transform \tf R C ξ x π d c_n T n ξ_n Δ l t g h b x_0 ξ_0 F P Id y p q ψ_n He_n D_0 C_1 σ H k F_0 f_0 r s f_R E_R T_f φ μ G H_σ U η λ E_σ E Σ d_σ ω j rect sinc μ_X X ν z u α H_n δ Γ J_0 J_n T_n γ ξ_x ξ_y ω_x ω_y ν_x ν_y circ J_1 c_α\n",
      "Stress–energy tensor \tT α β μ ν m p ρ ϵ_0 E c B k g s_ν d N ∇_ν σ Γ ξ R π G x_p t x v δ u μ_0 F γ ϕ ℏ L_matter\n",
      "X-ray photoelectron spectroscopy \tE_binding E_photon E_kinetic ϕ V_1 V_2 R_2 R_1 V r c o n s t E R_0 R F_E F_C V_0 E_0 Δ w α h ν b v F Φ_0 ℏ ψ m p H ψ_i ψ_f E_f E_i d ω π δ ρ_f τ Γ E_b σ ϕ_j W_j k j U Θ_D k_B T\n",
      "Electric motor \tF l B J r p m T s d v R_r P_m P_e η V ω l_m l_e G t n c u μ σ\n",
      "Hawking radiation \td s M r t Ω u X ρ τ β π T_H k_B G c ℏ κ T S Q R σ k B r_s g E P j ϵ H M_⊙ K_ev M_0 t_ev kg m_P t_P m T_u M_H M_⊕ W yr M_* n\n",
      "Thermal radiation \tα ρ τ λ ϵ σ T ϵ_1 ϵ_2 Q ν k_B u h c β E P b\n",
      "Planck's law \tB_ν k_B T h ν c B_λ λ ω B_ω ℏ π y B_y k B_k d u_i B_i λ_i n_i L n_1 n_2 n_3 r n P_r β E Z ε U g u_ν u_λ x u J V σ T_X T_Y q in thermodynamic equilibrium when it is true that at Φ θ Ω P ϕ B s m K α ρ κ_ν j_ν E_1 E_2 B_21 B_12 g_2 g_1 W μ B_1 U_λ S C ϵ R N τ_2 τ_1\n",
      "Levi-Civita symbol \tp m j ε_11 ε_12 ε_21 ε_22 k ε_132 ε_123 ε_312 ε_213 ε_231 ε_232 l ε_1432 ε_1234 ε_2134 ε_4321 ε_1324 ε_3243 n t sgn ε δ_i δ δ_j j_1 j_n j_2 R b c F x μ_1 μ_n ν_1 ν_n E α β γ ρ σ μ ν g ζ η θ ι\n",
      "Hermite polynomials \tHe_n x n d H_n π He_0 He_1 He_2 He_3 He_4 He_5 He_6 He_7 He_8 He_9 He_10 H_0 H_1 H_2 H_3 H_4 H_5 H_6 H_7 H_8 H_9 H_10 w H_m He_m f l t g F z u λ L He k H He_k y H_k m He_i γ E X μ Γ ϕ ϵ O ω Ai p U b F_1 M D α h β σ ψ_n ψ_m D_n ψ ψ_0 ψ_1 ψ_2 ψ_3 ψ_4 ψ_5 K T H_i δ ρ s τ\n",
      "Beta distribution \tx α β Β X ψ g t ψ_1 k r F m p f u d Γ B Beta μ G_X X_i Y_i G H_X ν E π γ_1 l φ_X n M_X h X_1 X_2 H D_KL q κ excess kurtosis N v y c v_Y G_1 G_2 Y L_i L θ_1 θ_2 θ_N θ_i θ_j θ λ χ Pr δ NonCentralBeta s P b σ G_Y H_Y\n",
      "Klein–Gordon equation \tc t ψ m ℏ μ k_μ ω k x p_μ p E P r n η ν V S d T α β D_μ D ϕ D_ν D_α F ∇_μ ∇_ν g Γ σ\n",
      "Fractional calculus \tD d x H f P J t s n α Γ β m p r B k π L τ g C ν ρ β_s β_w u Δ ϕ K c σ ϵ D_α ℏ ψ V φ\n",
      "Dynamo theory \tB t η u σ μ D p ν ρ g Ω R J α Δ T κ ϵ c_p k E P r m\n",
      "Skin effect \tJ_S J d δ μ_r μ_0 ρ ω μ ϵ R L π D D_W mm f Hz σ L_cen r l t L_ext b L_shd c L_total L_DC L_∞ l_0 l_∞ f_m\n",
      "Rayleigh distribution \tσ g t x π γ f F Y U V f_U u f_V v d δ ϕ r μ_k k Γ z μ X f_max γ_1 γ_2 φ M H x_i N χ P n α R Rayleigh Q λ Exponential\n",
      "Dirac spinor \tψ p x γ μ m c ℏ p_μ ϕ σ α β t ω χ E σ_1 σ_2 σ_3 p_1 p_2 p_3 u s and v b Q γ_1 γ_2 P γ_0 γ_k k\n",
      "Knudsen number \tKn λ L k_B T π σ p μ ρ c m U_∞ c_s Ma γ R M Re ν\n",
      "Continuity equation \tρ d q V j v ρ_1 v_1 S_1 ρ_2 v_2 S_2 j_1 j_2 S n t σ Σ r m p J μ c H D u α U Ψ P ℏ T β x ν ϕ δ L t_2 t_1\n",
      "Effect size \tρ S_Treatment S_Total η S S_treatment f_treatment S_error S_total ω d M f R B f_effect F_effect N μ_1 μ_2 μ_K K σ θ n s n_1 n_2 s_2 Δ g J Γ Ψ k Σ X ϕ χ ϕ_c μ_baseline t D μ c p M_1 M_2 D_within S_within f_within S_between f_between F M_i n_i μ_i w m j n_K p_F p_t\n",
      "Dirac equation in the algebra of physical space \tΨ m ψ_11 P_3 ψ_12 ψ_21 ψ_22 p ψ Ψ_L Ψ_R ψ_L ψ_R σ γ μ ψ_= Φ ϕ R_0 R χ J F g t u d τ l L\n",
      "Fermi–Walker transport \tγ s D_F X d D V u_σ τ μ F λ u σ u_τ v\n",
      "Self-creation cosmology \tR π ϕ G_N T_M λ T M σ ∇_μ ν μ f_ν m ∇_ν Φ_N x d r t m_p m_0 G_M p ρ c Ω ω L S C g G o n s ∇_α ∇_β α β γ δ l δ_l R_0 t_0 Ω_m Ω_Λ Ω_b\n",
      "Lorentz–Heaviside units \tD m p ρ β B κ E t H J c F_q v_q q q_LH q_G π E_LH E_G B_LH B_G ρ_f ϵ_0 J_f μ_0 F v q_1 q_2 r d l P χ_e ϵ χ M χ_m μ ϕ φ ε_0 Φ_m ε ε_r μ_r σ S C R L\n",
      "Electromagnetic stress–energy tensor \tμ_0 T μ ν F α η β ϵ_0 S_x S_y S_z E B m p c S E_i E_j B_i B_j π P x g t f_ρ ρ u_em J p_em σ\n",
      "Covariant formulation of classical electromagnetism \tx α c t y z u γ p_α u_α E p m x_ν ν η μ E_x E_y E_z B_z B_y B_x F β J ρ ϕ ϵ_0 μ_0 S_x S_y S_z T B S E_i E_j B_i B_j ϵ δ σ d q τ f f_α J_β ρ_free J_free D H ρ_bound J_bound P M P_x P_y P_z M_z M_y M_x D_x D_y D_z H_z H_y H_x π χ_e χ_m u_ν L_field L_int L λ\n",
      "Maxwell's equations in curved spacetime \tμ_0 D μ ν g α β J f_μ x γ m p δ Γ M σ ρ p_α p_β d t q ϵ ζ η p_δ p_ϵ θ ι L F T c b R s π G ∇_0\n",
      "Toroidal coordinates \tF_1 F_2 x y z σ τ ϕ P d_1 d_2 π l t ρ d h_σ h_τ h_ϕ V Φ m p F U S_ν Φ_μ ν and μ Q η n K E θ\n",
      "Bhabha scattering \td σ θ π α s u t k p γ μ and v M γ_μ u_p γ_ν ν spins r v_k m p_ν p_μ η γ_ρ γ_σ ρ\n",
      "Stochastic volatility \tS_t W_t d μ t σ S_0 t_i t_n t_0 m p n E ν_t B_t ν ρ θ ω ξ S γ g l F F_t σ_t β Z_t α F_0 σ_0 r_t θ_t α_t ζ_t β_t η_t Ψ_0 Ψ\n",
      "Mock modular form \tf τ b c d ρ m p k y b_n g F n q β_k z t u π Z ε κ μ v θ R ν sign E E_2 σ_1 N H β x j l B U_0 U_1 V_0 V_1 ϕ ψ χ ω θ_4 θ_2 θ_3 r f_0 f_1 ϕ_0 ϕ_1 ψ_0 ψ_1 χ_0 F_0 χ_1 F_1 Ψ_0 Ψ_1 σ λ γ ϕ_- ψ_- F_2 M_1 M_2 M_3 F_3 M_j M_k S_0 S_1 T_0 T_1 X\n",
      "Newman–Penrose formalism \tΨ_4 κ ρ σ τ λ μ ν π ϵ γ β α Ψ_0 Φ_00 Φ_11 Φ_22 Λ Φ_01 Φ_10 Φ_02 Φ_20 Φ_12 Φ_21 l n n_a m θ ϕ Ψ_i l_a m_a n_b l_b m_b g b ∇_l ∇_a ∇_n ∇_m D Δ δ ∇_b ε Ψ_1 Ψ_2 Ψ_3 c d R ϕ_0 ϕ_1 ϕ_2 F ϕ_i ϕ_j j ϝ_i t r h_+ h_× S Y G\n",
      "Merton's portfolio problem \tc_s W_T E T ρ s u d W_t π_t c_t B_t r μ t σ x γ π W c ν ϵ m p l\n",
      "BKL singularity \tR T p_1 p_2 p_3 d l t x y z p u l_α l_β m_α m_β n_α n_β b c α β p_l p_m p_n g v λ rot μ m ν n ϰ P γ σ u_i ε k u_0 u_α const u_n δ τ α_τ β_τ γ_τ Λ at s ξ_0 τ_0 ξ χ_ξ χ γ_ξ c_0 t_0 t_1 δ_1 δ_2 ch ch2 Ω α_n δ_n Ω_n γ_n δ_0 Ω_0 Δ_n f Ω_k ε_n ε_k ε_0 w W N K ξ_s ξ_p τ_s q ρ s_τ η_s ξ_q η_p ε_τ π g_00 γ_33 ψ G f_1 f_2 O l_a l_b m_a m_b l_1 m_2 l_2 m_1 L H φ ω λ_a λ_b s_1 μ_a μ_b s_2 λ_1 μ_2 λ_2 μ_1 X V B_20 B η Δ\n",
      "Alternatives to general relativity \tc G ϕ ∇_μ L S g d x R τ μ ν ∇_ν T Γ σ α ρ j π t M r δ m_0 m u_μ u ψ x_μ s S_m f c_∞ L_ϕ k y z η χ β γ B B_μ F N K K_μ K_ν Σ_α w y_μ h λ ω G_N L_m q ϵ Ω ξ ζ η_1234 α_1 α_2 α_3 ζ_1 ζ_2 ζ_3 ζ_4 c_0 c_1 b Λ l l_0 U_α S_g S_s S_v U_μ U_ν U ϕ_0 S_M κ Υ v L_R L_M W_μ W_ν W J_μ S_G S_F J_ν S_K S_S V p ϕ_μ\n",
      "Dielectric loss \tϵ j E_o E ω t H σ δ P_o P k z μ π λ δ_m δ_e ESR C X_c D F Q\n",
      "Bayesian linear regression \tn y_i k x_i ϵ_i x T β N σ ρ y X y_1 y_n m p v s v_0 b_0 χ μ_0 Λ_0 Λ μ_n μ b_n Λ_n d π b Γ c\n",
      "Yield surface \tJ_2 J_3 σ_1 σ_2 σ_3 f σ_i p q r ξ ρ θ σ s s_1 s_2 s_3 m σ_eq J π S_y S y K c_0 c_1 c_2 σ_c σ_t σ_b b c F g p_c M ϕ α β γ t l\n",
      "Table of thermodynamic equations \tk_B β T p_i S E_i U H p V G μ_i N_i F Ω μ N Φ_G Φ Ξ C Q C_p m n C_V L c_p c_V γ P d t q Δ W V_2 V_1 k δ p_1 p_2 T_1 T_2 R n_1 n_2 N_1 N_2 M_m v ρ f C_v Q_p Q_V θ c π K_2 P_i Q_1 Q_2 F_S E_k d_f v_rms v_mode l σ n_i C_P K_T Z Z_t h Z_v ω Z_r α_p ϵ external system λ_net λ_j j Q_H η η_c Q_L T_L T_H K K_C\n",
      "Mathematical descriptions of the electromagnetic field \tε_0 E ρ B t μ_0 J φ c λ ψ α σ_k F k C R σ_1 σ_2 σ_3 σ ϵ_0 γ_k γ_0 γ_1 γ_2 γ_3 γ μ γ_μ B_x B_y B_z E_x E_y E_z m p d x ν y z j_x j_y j_z Λ G θ q n g b ∇_α π j β Γ ∇_γ ∇_β δ η\n",
      "Orr–Sommerfeld equation \tu U z x t w α c μ ρ d φ U_0 h R z_1 z_2 g α_c c_r λ Ω F r W σ χ_1 χ_2 χ_3 ξ π χ_4 c_i χ_i Ω_1 Ω_2 Ω_3 Ω_4 m p χ\n",
      "Spacetime algebra \tγ_0 γ_1 γ_2 γ_3 γ_μ γ_ν γ γ_k μ ν δ k m p F x τ c t E v σ_k γ_i H_S ℏ Ψ σ B σ_3 ψ σ_1 σ_2 β ϕ R ρ Φ_λ λ j d Ω ω D_τ\n",
      "Determination of equilibrium constants \tK S σ T τ α B β E R n F p H s l ϵ c ϕ c_i δ_i δ B_q q H_2 O W K_W T_A T_B m T_R R_0 v_i v_0 r_i y r_j U j r p_i p_k J WJ Wr f λ C Wy obs Σ W_k v k σ_E σ_v n_d n_p β_12 L H_3 β_13 K_a σ_K M\n",
      "Itō diffusion \tX_t B_t d b t σ x y C Y_t P u E f Σ_t Σ B s Ω R n X_h ω F_t m p Σ_τ X_τ b_i x_i x_j j ∇_x g S ρ ρ_0 X_s v q τ_U U U_k k D_A Δ_LB R_α α ρ_∞ Ψ β Z F κ π M_t B_s Σ_s M_s F_s τ τ_R τ_H H τ_G μ G φ τ_D χ_H\n",
      "Spinodal decomposition \tx y z c N_v F_0 d F k V c_o f β Δ κ g t β_c λ_c π μ_a μ_b J M J_a ∇_c D K μ_2 μ_1 m c_0 R N ϵ W_E σ_i ϵ_i c_11 c_12 σ c_22 c_44 l n Y η iso E ν E_ν F_t N_ν p o s r B ϕ ρ_A ρ_B μ ξ δ\n",
      "List of nonlinear partial differential equations \td L t u_t u_x u H v_x b v x ν c D γ κ v_t ρ σ f ϕ c_0 c_1 c_2 ϕ_x c_3 w_t w_x w F Ω R u_r u_z r m p E ϵ g α ψ β ℏ Δ V n n_0 z S_t S y λ f_x g_t s B C μ J v_i v_j x_j x_i v_k x_k f_i ω V_g ∇_p ζ_g T u_y v_y U_t U_x U θ K t_j t_i j η N u_n τ η_t η_x η_ξ ξ h D_μ L_1 L_2 L_3\n",
      "Aerodynamic potential-flow code \tV d t ϕ M F S n R P Q U_p V_Q π U S_Q Un ϕ_p ϕ_U ϕ_L σ μ V_∞ μ_P S_U λ σ_Q λ_i s_i μ_Q m_i l r C_p p_∞ q_∞ ρ_∞ p γ u v w\n",
      "Viscoplasticity \tε_e ε_vp ε ε_1 ε_2 ε_R d t E σ σ_y η λ N s K m ϵ p for l f q τ g f_0 n χ P J_2 ε_p T B C ε_p0 T_0 T_m σ_a σ_t μ_0 σ_max σ_p μ β C_1 U_k k_b C_2 L_d ρ_d b ν w D B_0 α σ_g k_h α_0 α_1 β_0 β_1 S_i σ_i S_e σ_e ε_0 q_i p_i q_e p_e θ θ_0 F k τ_s φ s_0 τ_y s_∞ s_1 y_0 y_∞ y_1 y_2 erf κ γ ξ π ρ M\n",
      "Newton–Cartan theory \tΔ U π G ρ m_t m_g x d λ s Γ μ ν Ψ_μ Ψ_ν γ δ B Ψ_κ R κ σ\n",
      "Foldy–Wouthuysen transformation \tψ U β α p θ γ m H E O v_i x_i p_j j γ_i α_i d t p_0 p_i v m_o c V Φ λ ϕ Ψ E_0 m_0 σ ϵ_0\n",
      "Viscosity \tu F y μ τ ν ρ R L b χ_a F_a χ_b F_b μ_a μ_b u_x d p m λ μ_0 T_0 C T M σ ω VBN_Blend x_A VBN_A x_B VBN_B x_N VBN_N μ_s μ_r μ_l ϕ B Q R_D Q_H Q_L D H_d H_m\n",
      "Bispinor \tψ_L ψ_R ψ S O m p x Λ b χ σ ϕ σ_i γ_5 γ μ ν γ_0 L M ρ η π u α β GL U X s o j Λ_B Λ_R J K\n",
      "Relativistic quantum mechanics \tℏ t ψ H E c p m d ψ_σ r D Λ V μ_B μ_S g S σ B α β α_i α_j ρ j γ J μ q ϕ v P ψ_↑ ψ_↓ u χ η ψ_+ ψ_- σ_μ σ_a σ_b σ_c σ_0 m_0 h L P_μ ν M X W_γ p_δ ε δ W W_α\n",
      "F(R) gravity \tS g κ R d x f δ μ ν ∇_ρ ∇_ν m p Γ ρ ∇_μ ∇_a λ F L_m ρ_m ρ_rad H s Φ t α Ψ j G_eff π k V Φ_0 h_f v_g z ω D σ\n",
      "Eight-vertex model \tN j ϵ_j w_j k T n_j Z w_1 w_2 w_3 w_4 w_5 w_6 w_7 w_8 m p b c d Δ Γ η u H Θ v Q ζ ϕ ϵ_5 f n τ λ α π K σ J_h J_v ϵ J μ ϵ_1 ϵ_2 ϵ_3 ϵ_6 ϵ_7 ϵ_8 Z_I\n",
      "Vacuum airship \tR P π σ h ρ_a ρ_s E μ ρ s k g m\n",
      "Higgs boson \tV ϕ μ λ l t ϕ_0 g ψ m ψ_R ψ_L τ ℏ Γ L_H B_μ W σ v W_μ M_W M_Z θ_W γ L_Y p u j L R d ν L_m\n",
      "Partial element equivalent circuit \tE r t J σ ϕ v_α v_β μ π d α β S_i S_j ϵ_0 R_γ l_γ σ_γ\n",
      "Wind turbine aerodynamics \tP F v C_P ρ V λ U C_L L W C_D D g t γ U_1 U_2 U_4 m p C_p R Ω σ ϕ C_n C_t π B r C_T c c_t\n",
      "Metal-mesh optical filters \tt l λ g Γ ω τ w ϕ_Γ ϕ_τ R m ρ δ σ J c π P_D η P_d P_o ϕ Y B L C ω_o Z_o Ω λ_o Z o μ\n",
      "Percolation critical exponents \tp p_c σ τ d_f ν D M L n_s s r g d η Ω ξ s_max f n_c α D_± B C P P_∞ β S γ δ d_b d_min\n",
      "Equilibrium chemistry \tG_r δ E q μ_i N_i n_j t_j m_k t_k j R c t n k P r o d u μ_k μ_j μ T Δ G l K γ_i γ_k γ_j γ Γ α β B σ S τ H C_p f p Φ N_2 H_2 H_3 N K_1 K_2 β_2 B_β T_A T_B w_i U y b s v M_p L_q H_r M L F C Q O K_d ν\n",
      "Laser drilling \tρ_l ν_i L_v ρ_v ν_v c_p T_i E_v k T z r t β ρ u P μ σ δ\n",
      "Open statistical ensemble \tΥ_v r_1 p m v z t j ψ χ B d r_m ϱ G β U k_B T r_t Ξ_v P σ\n",
      "Sea ice thickness \tT_s T_w h Q k Q_E Q_H k_E T_a L ρ v R H k_H C_p ϵ_i σ ϕ c T s S θ t T_h T_v G z α γ T_p ν\n",
      "Vaidya metric \td s M r t θ ϕ u v R g b π l_a l_b x l k Ψ_2 Φ_22 ρ μ F L λ n m n_a m_a κ σ τ ν ε α β γ Ψ_0 Ψ_1 Ψ_3 Ψ_4 Φ_00 Φ_10 Φ_20 Φ_11 Φ_12 Λ G n_b Q\n",
      "Stockmayer potential \tΦ_12 θ_1 θ_2 μ_1 μ_2 ϵ_0 r ϕ ϵ σ π r_1 r_2 Φ μ T c ρ P\n",
      "Berry connection and curvature \tH R t n ε_n Ψ_n γ_n ℏ d ∇_R C T β π m μ ν Ω_n S R_μ R_ν σ B u_- u_+ θ ϕ u r k ∇_k\n",
      "Dynamical mean field theory \tΔ τ U H_Hubbard t j σ c c_i n_i d p H_AIM ϵ_p H_bath H_mix n_↑ n_↓ H_loc V h μ G_imp T Δ_σ ω_n G_0 G k ϵ Σ m n n_α n_β α β\n",
      "Weyl equation \tσ μ ψ σ_x σ_y σ_z c t x y z σ_μ σ_0 σ_1 σ_2 σ_3 ψ_1 ψ_2 χ k r ω p E ℏ χ_1 χ_2 ψ_R ψ_L m J λ L R\n"
     ]
    }
   ],
   "source": [
    "for t0 in np.nditer(np.where(sigma_clusters == 244)[0]):\n",
    "    t = sigmas[int(t0)]\n",
    "    print titles[t], '\\t', get_ids(t) #, '\\t', rels[t].get(u'σ', 'not found')"
   ]
  },
  {
   "cell_type": "markdown",
   "metadata": {},
   "source": [
    "Usual k-means with euclidean distances doesn't work fine. Let's try to use cosine "
   ]
  },
  {
   "cell_type": "markdown",
   "metadata": {},
   "source": [
    "## Kernel KMneans"
   ]
  },
  {
   "cell_type": "markdown",
   "metadata": {},
   "source": [
    "https://gist.github.com/mblondel/6230787"
   ]
  },
  {
   "cell_type": "code",
   "execution_count": 125,
   "metadata": {
    "collapsed": false
   },
   "outputs": [],
   "source": [
    "from sklearn.metrics.pairwise import linear_kernel, cosine_similarity, euclidean_distances"
   ]
  },
  {
   "cell_type": "code",
   "execution_count": 140,
   "metadata": {
    "collapsed": false
   },
   "outputs": [],
   "source": [
    "def cosine_distance(X, Y=None):\n",
    "    return 1 - cosine_similarity(X, Y)"
   ]
  },
  {
   "cell_type": "code",
   "execution_count": 141,
   "metadata": {
    "collapsed": false
   },
   "outputs": [],
   "source": [
    "kkm = KernelKMeans(n_clusters=10, kernel=cosine_distance, verbose=1)"
   ]
  },
  {
   "cell_type": "code",
   "execution_count": 142,
   "metadata": {
    "collapsed": false
   },
   "outputs": [
    {
     "data": {
      "text/plain": [
       "(2000L, 50L)"
      ]
     },
     "execution_count": 142,
     "metadata": {},
     "output_type": "execute_result"
    }
   ],
   "source": [
    "idx = np.random.choice(range(X.shape[0]), size=2000)\n",
    "X_sample = X_red[idx, :]\n",
    "X_sample.shape"
   ]
  },
  {
   "cell_type": "code",
   "execution_count": 143,
   "metadata": {
    "collapsed": false
   },
   "outputs": [
    {
     "name": "stdout",
     "output_type": "stream",
     "text": [
      "Computing kernel...\n",
      "Done computing kernel\n",
      "iteration  0\n",
      "iteration  1\n",
      "iteration  2\n",
      "iteration  3\n",
      "iteration  4\n",
      "iteration  5\n",
      "iteration  6\n",
      "iteration  7\n",
      "iteration  8\n",
      "iteration  9\n",
      "iteration  10\n",
      "iteration  11\n",
      "iteration  12\n",
      "iteration  13\n",
      "iteration  14\n",
      "iteration  15\n",
      "iteration  16\n",
      "iteration  17\n",
      "iteration  18\n",
      "iteration  19\n",
      "iteration  20\n",
      "iteration  21\n",
      "iteration  22\n",
      "iteration  23\n",
      "iteration  24\n",
      "iteration  25\n",
      "iteration  26\n",
      "iteration  27\n",
      "iteration  28\n",
      "iteration  29\n",
      "iteration  30\n",
      "iteration  31\n",
      "iteration  32\n",
      "iteration  33\n",
      "iteration  34\n",
      "iteration  35\n",
      "iteration  36\n",
      "iteration  37\n",
      "iteration  38\n",
      "iteration  39\n",
      "iteration  40\n",
      "iteration  41\n",
      "iteration  42\n",
      "iteration  43\n",
      "iteration  44\n",
      "iteration  45\n",
      "iteration  46\n",
      "iteration  47\n",
      "iteration  48\n",
      "iteration  49\n"
     ]
    },
    {
     "data": {
      "text/plain": [
       "KernelKMeans(kernel=<function cosine_distance at 0x0000000022B7B048>,\n",
       "       max_iter=50, n_clusters=10, random_state=None, tol=0.001, verbose=1)"
      ]
     },
     "execution_count": 143,
     "metadata": {},
     "output_type": "execute_result"
    }
   ],
   "source": [
    "kkm.fit(X_sample)"
   ]
  },
  {
   "cell_type": "code",
   "execution_count": 145,
   "metadata": {
    "collapsed": false
   },
   "outputs": [
    {
     "data": {
      "text/plain": [
       "0    2000\n",
       "dtype: int64"
      ]
     },
     "execution_count": 145,
     "metadata": {},
     "output_type": "execute_result"
    }
   ],
   "source": [
    "pd.Series(kkm.labels_).value_counts()"
   ]
  },
  {
   "cell_type": "markdown",
   "metadata": {},
   "source": [
    "## Non-Negative Matrix Factorization"
   ]
  },
  {
   "cell_type": "markdown",
   "metadata": {},
   "source": [
    "- http://scikit-learn.org/stable/auto_examples/applications/topics_extraction_with_nmf.html\n",
    "- http://scikit-learn.org/stable/modules/generated/sklearn.decomposition.NMF.html#sklearn.decomposition.NMF"
   ]
  },
  {
   "cell_type": "code",
   "execution_count": 146,
   "metadata": {
    "collapsed": false
   },
   "outputs": [],
   "source": [
    "from sklearn.decomposition import NMF"
   ]
  },
  {
   "cell_type": "code",
   "execution_count": 147,
   "metadata": {
    "collapsed": false
   },
   "outputs": [
    {
     "data": {
      "text/plain": [
       "(2000, 3614)"
      ]
     },
     "execution_count": 147,
     "metadata": {},
     "output_type": "execute_result"
    }
   ],
   "source": [
    "idx = np.random.choice(range(X.shape[0]), size=2000)\n",
    "X_sample = X[idx, :]\n",
    "X_sample.shape"
   ]
  },
  {
   "cell_type": "code",
   "execution_count": 376,
   "metadata": {
    "collapsed": false
   },
   "outputs": [
    {
     "name": "stdout",
     "output_type": "stream",
     "text": [
      "done in 514.840s.\n"
     ]
    }
   ],
   "source": [
    "t0 = time()\n",
    "\n",
    "n_topics = 200\n",
    "nmf = NMF(n_components=n_topics, random_state=1).fit(X_sample)\n",
    "\n",
    "print \"done in %0.3fs.\" % (time() - t0)"
   ]
  },
  {
   "cell_type": "code",
   "execution_count": 377,
   "metadata": {
    "collapsed": false
   },
   "outputs": [
    {
     "name": "stdout",
     "output_type": "stream",
     "text": [
      "Topic #0: l p_t ε_r H_n t_0 C_A C_d p_θ L_r x_min\n",
      "Topic #1: P R_t Alg P_X V_λ π_i U_a F_C F_D W_f\n",
      "Topic #2: n V_1 B_L d_H P_n l_n m_n n_0 U_a U_p\n",
      "Topic #3: x M_f l_n P_n E_A ℵ_1 M_i m_n D_K M_x\n",
      "Topic #4: G Σ r_s T_A C_4 T_p G_i U_e C_p O_p\n",
      "Topic #5: p pc m_i D_3 SL R_* R_⊙ U_a T_b U_p\n",
      "Topic #6: X M_f B_r P_X π_1 X_t π_i Σ_j R_+ M_*\n",
      "Topic #7: b AB h_f G_i Ax F_x r_N d_b U_a η_B\n",
      "Topic #8: π D_3 M_x ×_G π_t R_I R_O x_s Ψ_3 ϵ_r\n",
      "Topic #9: N n_0 Alg r_N OH C_4 π_i G_2 f_p S_N\n",
      "Topic #10: T E_A R_t ε_r C_d T_b ρ_A Ax D_T η_A\n",
      "Topic #11: S W_n N_v z_i B_ν T_b p_t L_0 λ_1 S_0\n",
      "Topic #12: θ_m G_n H_n ω_o τ_g G_0 f_H G_1 ω_0 f_0\n",
      "Topic #13: f L_U B_10 M_f θ_m f_t ℵ_0 k_I p_c Ψ_3\n",
      "Topic #14: k Da R_eq k_i C_d k_g Th λ_d P_e x_d\n",
      "Topic #15: B H_T AB GL ρ_A b_n k_I k_R U_a k_r\n",
      "Topic #16: R V_D SL pd_R depth soc ρ_A R_R U_e Ax\n",
      "Topic #17: r n_0 r_s years r_N ρ_A R_o R_s p_θ B_r\n",
      "Topic #18: z z_0 d_b ℶ_1 B_r E_1 λ_r W_p d_H H_n\n",
      "Topic #19: q M_x C_d k_f S_0 C_L _ cm u_* Ψ_3\n",
      "Topic #20: x_2 x_1 x_N x_d y_2 x_3 x_j y_1 Np dB\n",
      "Topic #21: s f_R d_b f_T Hz X_s c_q n_j _ j_2\n",
      "Topic #22: O O_p n_a Σ xy Pic ı α_i w_j C_p\n",
      "Topic #23: y H_T T_p Ax δ_s t_0 B_r R_I G_2 H_4\n",
      "Topic #24: σ_2 σ_1 σ_3 σ_22 σ_6 σ_11 σ_i σ_b σ_y σ_33\n",
      "Topic #25: V V_1 GL h_f n_0 R_eq l_k q_2 q_1 V_0\n",
      "Topic #26: H ρ_A π_i G_2 Ax T_b p_t O_X f_p h_C\n",
      "Topic #27: M f_t Spec Y_i pd_R depth r_s M_* ×_G M_2\n",
      "Topic #28: L l_n ε_r h_f ℵ_1 p_θ Σ W_p p_t R_s\n",
      "Topic #29: F T_A G_2 T_p Tr u_t M_N E_t n_a T_x\n",
      "Topic #30: c r_s y_0 x_d b_y v_0 B_ν v_s c_y F_x\n",
      "Topic #31: m D_3 R_* R_⊙ nil years SL B_L C_A R_T\n",
      "Topic #32: Z SL k_I O_p U_a ∇_X soc U_p R_R Pic\n",
      "Topic #33: λ T_A π_i K_g ϵ_r z_i sech B_ν D_μ V_β\n",
      "Topic #34: Δ Alg T_b S_t ξ_0 η_B V_λ φ_n k_i cm\n",
      "Topic #35: g f_t S_t C_A ×_G M_j ∇_X x_m Th l_k\n",
      "Topic #36: α M_x B_ν k_i ξ_0 f_X Y_k γ_2 γ_1 G_n\n",
      "Topic #37: θ B_10 θ_m p_θ U_e θ_0 ϵ_r u_* r_s θ_s\n",
      "Topic #38: j x_j h_j S_N Spec B_j T_j X_j D_j g_j\n",
      "Topic #39: D P_X h_f n_a W_p Pic b_c D_1 z_R G_n\n",
      "Topic #40: S_1 S_2 R_2 R_1 ′′′′ ′′′′′ ′′′ S_m Ω_x H_B\n",
      "Topic #41: ζ V_λ W_p f_* P_μ ζ_p μ_p s_1 B_k s_l\n",
      "Topic #42: E ℵ_1 G_i E_p E_x R_t E_k S_N X_s sech\n",
      "Topic #43: K g_s K_5 S_5 W_f W_i L_r N_u xy π_k\n",
      "Topic #44: γ N_v p_m θ_s Q_p λ_v k_i T_c V_h ω_0\n",
      "Topic #45: u nil N_v u_0 F_C Th F_D u_k N_u p_∞\n",
      "Topic #46: h r_N years n_s h_0 in E_k AB _ R_I\n",
      "Topic #47: t P_n STFT K_5 B_10 M_i R_T V_a v_T E_A\n",
      "Topic #48: ϵ d_H β_s P_e γ_5 G_n d_n Np ω_i ϵ_p\n",
      "Topic #49: ρ R_L Z_0 p_∞ F_C F_D C_L Ψ_3 n_s c_l\n",
      "Topic #50: W Z_i W_f W_i r_L M_f ϑ_t L_A W_e h_a\n",
      "Topic #51: Q D_1 m_α p_c ϵ_r Q_c term Q_i N_i Z_p\n",
      "Topic #52: ω STFT ℵ_1 ω_0 v_o h_0 v_f v_t ω_i V_π\n",
      "Topic #53: U p_∞ k_R N_v p_c k_r V_α sech P_H D_T\n",
      "Topic #54: σ p_t z_i h_C S_t Tr Z_i C_p σ_0 σ_S\n",
      "Topic #55: w u_* r_i Q_p w_0 z_R f_v Z_N f_N w_k\n",
      "Topic #56: ϕ p_c t_j conv D_μ h_C D_y Z_0 ϕ_0 Hom\n",
      "Topic #57: β β_s μ_s v_p v_o T_M xy τ_1 x_p R_M\n",
      "Topic #58: y_1 y_n y_i y_2 y_0 ′′′ y_3 cov y_p y_t\n",
      "Topic #59: Y ∇_X y_0 N_v d_b k_I id_A E_X b_c Z_i\n",
      "Topic #60: X_1 X_n X_2 X_i X_3 j_n j_1 X_j Y_r X_0\n",
      "Topic #61: Ω R_eq Z_o V_k u_k X_t M_f X_s V_π L_A\n",
      "Topic #62: δ γ_5 θ_s Np M_0 ϕ_B dB ϕ_x δ_x z_0\n",
      "Topic #63: τ Da k_g f_i ı t_0 δ_r τ_n P_μ P_b\n",
      "Topic #64: E_1 E_2 E_i n_i E_3 H_n Z_p U_1 X_o S_m\n",
      "Topic #65: Γ Spec N_v Ω_n g_00 R_+ Γ_i P_b γ_2 γ_1\n",
      "Topic #66: J R_t soc R_R B_p Hom P_b T_c G_j J_c\n",
      "Topic #67: o K_g θ_s id_A D_T id d_m d_B D_f m_C\n",
      "Topic #68: φ B_L L_0 φ_n φ_1 F_q k_l F_p v_6 r_u\n",
      "Topic #69: ℏ H_S D_μ k_e z_0 m_P g_J k_f t_m C_J\n",
      "Topic #70: f_1 f_2 f_i f_k f_m R_2 R_1 f_j f_p F_2\n",
      "Topic #71: T_1 T_2 μ_s T_α T_m y_i tot Y_2 q_C q_H\n",
      "Topic #72: λ_1 λ_2 λ_3 λ_r λ_n λ_d C_h α_i km ρ_0\n",
      "Topic #73: r_1 r_2 r_3 r_j r_4 r_N r_5 r_i E_a Z_p\n",
      "Topic #74: ν U_e B_ν g_00 D_T q_t r_t Lin F_S μ_T\n",
      "Topic #75: m_1 m_2 m_n E_a m_N x_N m_k m_3 F_r SS\n",
      "Topic #76: H_2 H_3 OH Hg λ_v Β H_4 H_1 ρ_substance α_n\n",
      "Topic #77: p_2 p_1 p_4 p_3 P_F S_i ′′′ p_i f_W f_b\n",
      "Topic #78: x_i y_j y_i x_j AB α_i x_N c_i x_m x_k\n",
      "Topic #79: Π V_α ℵ_0 x_t λ_t λ_T G_δ t_f v_s B_3\n",
      "Topic #80: wins losses Games TeamB TeamA behind s H ¬ K\n",
      "Topic #81: Φ π_t u_0 h_n Φ_S t_N z_S y_N grad P_S\n",
      "Topic #82: b_1 b_2 b_0 b_3 b_m b_4 b_d b_n x_s c_3\n",
      "Topic #83: B_k B_1 γ_k B_0 B_2 Ψ_k AB Ψ_m G_k B_i\n",
      "Topic #84: κ c_m c_n D_μ χ λ_J μ_t F_K ℵ_0 ψ_c\n",
      "Topic #85: T_i P_i R_i R_j Q_i P_j ADP ATP Z_S dB\n",
      "Topic #86: k_1 k_2 k_3 k_4 k_l k_i E_n lcm χ_0 Var\n",
      "Topic #87: k_B T_c ϵ_0 k_e m_e U_B λ_D U_s U_A ϵ_F\n",
      "Topic #88: ¬ that ℵ_0 c_q x_p c_j false Λ C_l α_n\n",
      "Topic #89: N_B N_A χ N_S O_i E_i U_B D_B D_A U_A\n",
      "Topic #90: C_0 C_1 V_g H_n S_0 im op σ_i id_X n_i\n",
      "Topic #91: T_n T_j N_n P_n R_4 R_n R_m R_3 R_0 R_1\n",
      "Topic #92: f_n ϕ_n f_k N_k λ_0 Σ z_0 f_p t_p ϕ_j\n",
      "Topic #93: x_n x_1 x_j c_i U_n f_i f_m U_k x_0 M_o\n",
      "Topic #94: v_i v_o v_f s_i h_a β_0 β_1 w_j c_i x_j\n",
      "Topic #95: v_f V_v V_m v_c V_f v_o Φ_S z_S P_S R_∞\n",
      "Topic #96: m_0 v_e m_1 H_m E_p E_k m_o v_0 f_c r_j\n",
      "Topic #97: C_1 C_2 C_i C_k C_r P_f C_4 C_l α_k D_j\n",
      "Topic #98: F_i F_2 N_i N_k F_1 P_j ϵ_n D_i X_i X_0\n",
      "Topic #99: t_i r_i R_i r_j M_i t_j n_i T_j s_j R_N\n",
      "Topic #100: μ Σ C_A m_n p_∞ M_* B_r η_A P_μ c_m\n",
      "Topic #101: D_n E_8 E_7 E_6 B_n G_2 F_4 m_v m_e ad_g\n",
      "Topic #102: t_1 t_2 t_n t_3 t_0 t_4 s_1 H_S v_m t_r\n",
      "Topic #103: N_1 N_2 N_3 M_1 M_2 f_p P_c U_2 P_s λ_s\n",
      "Topic #104: D_t K_t P_t Π φ_s ψ_s δ_t ψ_t J w_0\n",
      "Topic #105: Q_f Q_c F_w Q_p P_p C_p P_f C_f C_c P_c\n",
      "Topic #106: C_n B_n π_n D_n Z_n x_j Y_n n_i im J_n\n",
      "Topic #107: z_2 z_1 z_n z_j Q_A z_3 y_1 μ_1 z_k L_Y\n",
      "Topic #108: x_0 y_0 t_0 x_t λ_t λ_T h_C t_f x_1 u_t\n",
      "Topic #109: F_7 f_a F_p L_a u_k F_a R_a D_a F_l m\n",
      "Topic #110: v_1 c_1 c_2 v_n v_2 c_n c_k c_3 v_k v_j\n",
      "Topic #111: x_3 x_4 x_2 x_5 x_1 x_13 x_10 x_8 x_9 x_7\n",
      "Topic #112: n_2 n_1 grad n_3 r_s C_h km m_P λ_c n_i\n",
      "Topic #113: C_v T_α y_i u_e eV R_y d_f u_m ν_2 θ_2\n",
      "Topic #114: H_0 H_1 H_i n_s d_p f_j Ω_k Ω_Λ Ω_m Β\n",
      "Topic #115: c_p λ_v H_m T_m m_w J_d m_a J_D J_h J_M\n",
      "Topic #116: E_0 χ t_n u_n J_c Φ_0 G_0 V_0 E_max v_2\n",
      "Topic #117: l_2 δ_s l_1 CH_2 R_1 W_i R_2 D_i l_n t_3\n",
      "Topic #118: f_r Γ_α f_1 O_1 x_1 f_k r_h V_z t_g z_a\n",
      "Topic #119: X_k Σ Σ_j y_j r_j Y_k p_j erf y_i S_0\n",
      "Topic #120: M_⊙ l_n T_I T_E L_⊙ l_3 l_1 N_G r_j r_i\n",
      "Topic #121: C_J r_D Q_D V_th n_B v_D V_O f_C v_R p_B\n",
      "Topic #122: M_w M_i M_s M_j t_e t_s E_x E_k r_k t_l\n",
      "Topic #123: L_2 L_1 x_j L_p L_q L_0 tot V_A Z_n w_k\n",
      "Topic #124: μ_t μ_z μ_y μ_x μ_a μ ξ φ θ U_e\n",
      "Topic #125: Y_1 Y_2 Y_i Y_j Y_n X_j X_2 θ_m X_r Y_s\n",
      "Topic #126: d_o d_i h_i h_o N_2 l_r ρ_j Λ_i d_r κ_3\n",
      "Topic #127: g_1 g_2 g_j g_n g_i X_G deg P_j E_g Var\n",
      "Topic #128: ε_t Y_t X_t η_t b_0 b_j θ_1 L_U ε_s ∇_w\n",
      "Topic #129: F_t M_1 X_s X_t X_τ F_s P_N P_t X_0 X_n\n",
      "Topic #130: M_k L_j k N_k E_k m_H m_P R_k n_k E_n\n",
      "Topic #131: V_out g_m Q_c v_out v_in Δ_T f_c ω_c R_2 ad\n",
      "Topic #132: N_0 Σ M_o N_i N_o p_X N_c α_n Ω_+ Ω_-\n",
      "Topic #133: S_A S_B for S_D erf f_b f_W n_i h_L is\n",
      "Topic #134: F_n V_a V_c C_f p_e K_s F_i φ_1 φ_2 F_0\n",
      "Topic #135: m_i n_e n_i T_e n_0 m_e C_i λ_D ρ_s r_e\n",
      "Topic #136: V_S V_s V_P V_R V_C V_p R_L q_P E_P V_0\n",
      "Topic #137: p_0 r_L η_B V_m ′′′ ψ_S ρ_S H_S m_α p_k\n",
      "Topic #138: p_i q_i p_j X_F X_G b_y b_t q_1 q_N q_2\n",
      "Topic #139: ε_1 ε_2 ε_3 ε_4 β_32 β_11 ε_5 β_31 β_21 β_1\n",
      "Topic #140: ε M_* G_n q_n Σ ε_s y_j Normal ω_f Ω_x\n",
      "Topic #141: K_2 K_3 K_1 K_4 D_K K_0 E_K K_i k_1 v_p\n",
      "Topic #142: r_0 ρ_0 v_t q_t r_t θ_0 Θ_0 R_0 ϕ_e D_e\n",
      "Topic #143: ω_2 ω_1 k_i ω_3 ω_0 ω_i ω_n h_0 k_f K_r\n",
      "Topic #144: d_2 d_1 d_n B_r R_+ K_3 false true h_j t_N\n",
      "Topic #145: p_n p_k x_min W_n g_n λ_n q_1 s_c p_m as\n",
      "Topic #146: ρ_1 ρ_2 cm V_A c_s ρ_p u_t ρ_i χ α_0\n",
      "Topic #147: ψ_1 ψ_2 ψ_3 ψ_0 ψ_m λ_d F_q F_p V_k y_P\n",
      "Topic #148: v E_A nil N_v C_L λ_0 u_k Σ Z_i K_m\n",
      "Topic #149: Q_1 Q_3 Q_2 G_2 d_H m_a G_1 Q_i R_X H_a\n",
      "Topic #150: l_i ϕ_i θ_i U_k U_i F_i θ_j U_j t_j E_ν\n",
      "Topic #151: mm μ m M f ϕ_Y ϕ_X c_q ν_1 Y_k\n",
      "Topic #152: Z_2 Z_1 R_b R_a Z_i Y_i λ_M Z_n AB S_q\n",
      "Topic #153: b_i b_d r_i α_q α_p Y_i c_r D_1 k_s D_m\n",
      "Topic #154: K_n P_n B_l S_i K_s B_1 S_1 J_n K_* C_r\n",
      "Topic #155: Y_12 Y_22 Y_21 Y_11 V_1 Z_0 V_n V_2 Δ_S Y_L\n",
      "Topic #156: R_o R_i V_M V_o V_i V_m R_s R_n W_e R_j\n",
      "Topic #157: D_0 P_0 L_0 L_+ L_- P_1 D_u t_E D_s v_0\n",
      "Topic #158: P_1 P_2 V_1 V_2 V_V V_b ϕ_0 V_a V_T y_3\n",
      "Topic #159: h_1 h_2 D_1 D_u D_s h_k h_j h_0 Q_s Q_r\n",
      "Topic #160: B_j R_t L_x L_z C_d L_y L_t R_x φ_i N_x\n",
      "Topic #161: b_r m ρ u_a v_a V_P x_a V_s λ_s τ_0\n",
      "Topic #162: rad δ g H_μ Z_α B_α J_β O_k χ_n j_n\n",
      "Topic #163: C_x P_x F_x F_y X_j t_j X_i F_z H_k μ_j\n",
      "Topic #164: π_1 π_n π_2 f_v gcd F_Y F_i f_i ′′′′ ′′′\n",
      "Topic #165: O_2 SO_3 SO_2 CO_2 H_2 Q_c kJ Q_t Q_s H_4\n",
      "Topic #166: ϕ_2 ϕ_1 ϕ_j ϕ_n ϕ_i C_h km ϕ_3 R_1 ϕ_4\n",
      "Topic #167: ψ M_N sech γ_5 H_S θ_s r_f k_+ k_- B_p\n",
      "Topic #168: u_i u_j u_2 u_1 N_21 N_11 N_12 N_22 J_2 J_1\n",
      "Topic #169: λ_i Tr λ_0 M_0 K_0 u_i α_i B_δ λ_s B_R\n",
      "Topic #170: ξ ν_i ξ_0 r_f k_- k_+ k_f ξ_i ξ_k const\n",
      "Topic #171: k_0 V_t V_0 k_t c_t V_T σ_R σ_I k_X k_o\n",
      "Topic #172: d E_a pc E_A P_X B_10 R_T v_T b_d k_I\n",
      "Topic #173: μ_B ρ_0 E_m c_v m_F g_s c_0 L_y L_z g_J\n",
      "Topic #174: η η_A n_s T_c v_t d_m g_00 d_Y G_2 d_X\n",
      "Topic #175: th F_k r_k m_k μ_s H_m F_s μ_k H_1 R_+\n",
      "Topic #176: K_i K_m V_max o_p T_p K_L o_2 o_1 T_L K_1\n",
      "Topic #177: T_x f_i f_* X_x L_X g_i M_o f_j E_ν ϕ_12\n",
      "Topic #178: C Da GL Alg T_x Ax k_g Th y_i η_A\n",
      "Topic #179: l_m P_m ρ_r P_s l_e R_i P_c U_2 p_m μ_0\n",
      "Topic #180: E_t S_t E_X E_Y P_t P_N ϵ_r μ_3 ϵ_B F_M\n",
      "Topic #181: c_K O_K Li M_J O_L d_K ClO Cl NO Br\n",
      "Topic #182: M_n b_n H_k S_i T_x X_2 C_x X_n f_1 H_0\n",
      "Topic #183: α_1 α_2 α_0 α_n β_1 α_3 β_2 α_k α_j α_i\n",
      "Topic #184: c_0 c_l u_0 u_m δ_r χ_m χ_k R_m c_1 χ_1\n",
      "Topic #185: b_n b_k c_n l_k h_n P_n ϱ N_n ′′′′ ′′′\n",
      "Topic #186: s_i s_0 s_j s_n s_1 s_2 F_i c_i n_0 c_k\n",
      "Topic #187: T_0 T_α l_n ρ_i Q_0 W_0 r_j y_i N_G V_i\n",
      "Topic #188: Θ z_R w_0 u_j χ J_n Θ_0 θ_0 η_00 r_π\n",
      "Topic #189: f_s ϕ_k θ_k f_k r_k f_0 b_k j_l P_l ϕ_r\n",
      "Topic #190: Pr H_n f_X χ T_+ W_s M_t W_t B_n D_n\n",
      "Topic #191: y_k x_k w_1 u_1 w_i z_i v_1 y_2 z_1 w_2\n",
      "Topic #192: μ_0 α_R χ_0 ϵ_0 μ_1 γ_S B_z H_D v_s γ_2\n",
      "Topic #193: H_v S_v T_v ρ_v v_y E_v v_x p_y p_x T_δ\n",
      "Topic #194: S_n C_2 S_6 S_3 τ_n N_u S_0 χ N_d C_4\n",
      "Topic #195: ℵ_α κ α l t λ k_0 x_4 Λ ξ\n",
      "Topic #196: Ψ Ψ_s Ψ_0 Y_r λ_J X_i S_0 r_j z_0 Θ_1\n",
      "Topic #197: ε_0 ε_r n_i n_r χ ψ_c ψ_p ε_s χ_e τ_0\n",
      "Topic #198: P_K P_C d k_f r_f k_+ k_- T_h μ_s T_c\n",
      "Topic #199: Λ l_n odd even Aut g_x E_x v_k v_2 λ_D\n"
     ]
    }
   ],
   "source": [
    "feature_names = vectorizer.get_feature_names()\n",
    "n_top_words = 10\n",
    "for topic_idx, topic in enumerate(nmf.components_):\n",
    "    print \"Topic #%d:\" % topic_idx, \n",
    "    print \" \".join([feature_names[i]\n",
    "                    for i in topic.argsort()[:-n_top_words - 1:-1]])"
   ]
  },
  {
   "cell_type": "code",
   "execution_count": 378,
   "metadata": {
    "collapsed": false
   },
   "outputs": [
    {
     "data": {
      "text/plain": [
       "(20873L, 200L)"
      ]
     },
     "execution_count": 378,
     "metadata": {},
     "output_type": "execute_result"
    }
   ],
   "source": [
    "X_topic = nmf.transform(X)\n",
    "X_topic.shape"
   ]
  },
  {
   "cell_type": "code",
   "execution_count": 379,
   "metadata": {
    "collapsed": false
   },
   "outputs": [
    {
     "data": {
      "text/plain": [
       "0.80884396109806933"
      ]
     },
     "execution_count": 379,
     "metadata": {},
     "output_type": "execute_result"
    }
   ],
   "source": [
    "(X_topic.sum(axis=1) > 0).mean()"
   ]
  },
  {
   "cell_type": "code",
   "execution_count": 380,
   "metadata": {
    "collapsed": false
   },
   "outputs": [
    {
     "data": {
      "text/plain": [
       "count    20873.000000\n",
       "mean         0.121951\n",
       "std          0.095763\n",
       "min          0.000000\n",
       "25%          0.064970\n",
       "50%          0.108711\n",
       "75%          0.171699\n",
       "max          0.495830\n",
       "dtype: float64"
      ]
     },
     "execution_count": 380,
     "metadata": {},
     "output_type": "execute_result"
    }
   ],
   "source": [
    "X_1 = X_topic\n",
    "X_1.sort(axis=1)\n",
    "pd.Series(X_1[:, n_topics - 1]).describe()"
   ]
  },
  {
   "cell_type": "code",
   "execution_count": 371,
   "metadata": {
    "collapsed": false
   },
   "outputs": [],
   "source": [
    "threshold = 0.05\n",
    "clustering = []\n",
    "for doc, row in enumerate(X_topic):\n",
    "    clus, = np.where(row >= threshold)\n",
    "    if clus.shape[0] == 0:\n",
    "        continue\n",
    "    for c in np.nditer(clus):\n",
    "        clustering.append((int(c), doc))"
   ]
  },
  {
   "cell_type": "code",
   "execution_count": 372,
   "metadata": {
    "collapsed": false
   },
   "outputs": [],
   "source": [
    "clustering = pd.DataFrame(clustering, columns=['cluster', 'document'])"
   ]
  },
  {
   "cell_type": "code",
   "execution_count": 373,
   "metadata": {
    "collapsed": false
   },
   "outputs": [
    {
     "data": {
      "text/html": [
       "<div style=\"max-height:1000px;max-width:1500px;overflow:auto;\">\n",
       "<table border=\"1\" class=\"dataframe\">\n",
       "  <thead>\n",
       "    <tr style=\"text-align: right;\">\n",
       "      <th></th>\n",
       "      <th>cluster</th>\n",
       "      <th>document</th>\n",
       "    </tr>\n",
       "  </thead>\n",
       "  <tbody>\n",
       "    <tr>\n",
       "      <th>0</th>\n",
       "      <td> 21</td>\n",
       "      <td> 1</td>\n",
       "    </tr>\n",
       "    <tr>\n",
       "      <th>1</th>\n",
       "      <td> 35</td>\n",
       "      <td> 1</td>\n",
       "    </tr>\n",
       "    <tr>\n",
       "      <th>2</th>\n",
       "      <td> 47</td>\n",
       "      <td> 1</td>\n",
       "    </tr>\n",
       "    <tr>\n",
       "      <th>3</th>\n",
       "      <td>  2</td>\n",
       "      <td> 2</td>\n",
       "    </tr>\n",
       "    <tr>\n",
       "      <th>4</th>\n",
       "      <td>  3</td>\n",
       "      <td> 2</td>\n",
       "    </tr>\n",
       "  </tbody>\n",
       "</table>\n",
       "</div>"
      ],
      "text/plain": [
       "   cluster  document\n",
       "0       21         1\n",
       "1       35         1\n",
       "2       47         1\n",
       "3        2         2\n",
       "4        3         2"
      ]
     },
     "execution_count": 373,
     "metadata": {},
     "output_type": "execute_result"
    }
   ],
   "source": [
    "clustering.head()"
   ]
  },
  {
   "cell_type": "code",
   "execution_count": 374,
   "metadata": {
    "collapsed": false
   },
   "outputs": [
    {
     "data": {
      "text/plain": [
       "[(0, 991),\n",
       " (1, 1820),\n",
       " (2, 3685),\n",
       " (3, 3484),\n",
       " (4, 1842),\n",
       " (5, 1940),\n",
       " (6, 1989),\n",
       " (7, 3273),\n",
       " (8, 1545),\n",
       " (9, 1792),\n",
       " (10, 1346),\n",
       " (11, 2013),\n",
       " (12, 1753),\n",
       " (13, 998),\n",
       " (14, 2112),\n",
       " (15, 2014),\n",
       " (16, 1454),\n",
       " (17, 896),\n",
       " (18, 1459),\n",
       " (19, 758),\n",
       " (20, 1159),\n",
       " (21, 1370),\n",
       " (22, 1259),\n",
       " (23, 941),\n",
       " (24, 893),\n",
       " (25, 1193),\n",
       " (26, 907),\n",
       " (27, 911),\n",
       " (28, 884),\n",
       " (29, 668),\n",
       " (30, 518),\n",
       " (31, 1081),\n",
       " (32, 740),\n",
       " (33, 979),\n",
       " (34, 926),\n",
       " (35, 638),\n",
       " (36, 811),\n",
       " (37, 980),\n",
       " (38, 876),\n",
       " (39, 999),\n",
       " (40, 776),\n",
       " (41, 730),\n",
       " (42, 861),\n",
       " (43, 700),\n",
       " (44, 882),\n",
       " (45, 530),\n",
       " (46, 698),\n",
       " (47, 757),\n",
       " (48, 786),\n",
       " (49, 562)]"
      ]
     },
     "execution_count": 374,
     "metadata": {},
     "output_type": "execute_result"
    }
   ],
   "source": [
    "gb = clustering.groupby('cluster', )\n",
    "[(k, len(v)) for (k, v) in gb.groups.items()]"
   ]
  },
  {
   "cell_type": "code",
   "execution_count": 375,
   "metadata": {
    "collapsed": false
   },
   "outputs": [
    {
     "name": "stdout",
     "output_type": "stream",
     "text": [
      "Calculus \tnot found\n",
      "Carnot heat engine \tnot found\n",
      "Design of experiments \tnot found\n",
      "Group action \tnot found\n",
      "Laplace transform \tnumbers\n",
      "Physical quantity \tnot found\n",
      "Regular grammar \tnot found\n",
      "Beam diameter \tstandard deviation\n",
      "Waveguide \tnot found\n",
      "Intensity (physics) \tnot found\n",
      "Pythagorean tuning \tnot found\n",
      "Isomorphism theorem \tsubgroup\n",
      "Computer number format \tnot found\n",
      "Newton's laws of motion \tnot found\n",
      "Conjunctive normal form \tnot found\n",
      "Self-organizing map \tnot found\n",
      "A New Kind of Science \tnot found\n",
      "Proofs of Fermat's little theorem \tnot found\n",
      "Hebron, Connecticut \tnot found\n",
      "Spin glass \tnot found\n",
      "Value at risk \tnot found\n",
      "Liquid air cycle engine \tnot found\n",
      "Price discrimination \tnot found\n",
      "Profit maximization \tnot found\n",
      "Latent heat \tnot found\n",
      "Time hierarchy theorem \tnot found\n",
      "Impulse (physics) \tnot found\n",
      "Erythrocyte sedimentation rate \tnot found\n",
      "Subsequence \tnot found\n",
      "Mahlo cardinal \tnot found\n",
      "HSL and HSV \tnot found\n",
      "Ergodic theory \tnot found\n",
      "Curve sketching \tnot found\n",
      "Operational semantics \tnot found\n",
      "Weakly compact cardinal \tnot found\n",
      "Wightman axioms \tnot found\n",
      "Chern–Simons form \tnot found\n",
      "Common base \tnot found\n",
      "Bohlen–Pierce scale \tnot found\n",
      "Chebyshev filter \tnot found\n",
      "Electrophoresis \tnot found\n",
      "Laplace transform applied to differential equations \tnot found\n",
      "Metacentric height \tnot found\n",
      "Gravity current \tnot found\n",
      "Levenshtein distance \tnot found\n",
      "Einstein field equations \tnot found\n",
      "Borel–Kolmogorov paradox \tnot found\n",
      "De Laval nozzle \tnot found\n",
      "Block matrix \tnot found\n",
      "Gas engine \tnot found\n",
      "Blattner's conjecture \tnot found\n",
      "Engel expansion \tnot found\n",
      "Penrose graphical notation \tnot found\n",
      "Hartogs number \tnot found\n",
      "257 (number) \tnot found\n",
      "Hodgkin–Huxley model \tnot found\n",
      "Bauer–Fike theorem \tnot found\n",
      "Fano variety \tnot found\n",
      "Nikolay Umov \tnot found\n",
      "Smoluchowski coagulation equation \tnot found\n",
      "Predicate abstraction \tnot found\n",
      "Electromagnetic reverberation chamber \tnot found\n",
      "Lagrangian Grassmannian \tnot found\n",
      "Andreotti–Frankel theorem \tnot found\n",
      "Dual wavelet \tnot found\n",
      "Correlated equilibrium \tnot found\n",
      "Fairness measure \tnot found\n",
      "Isothermal–isobaric ensemble \tnot found\n",
      "Malnormal subgroup \tnot found\n",
      "Pseudo algebraically closed field \tnot found\n",
      "Continuously compounded nominal and real returns \tnot found\n",
      "Block walking \tnot found\n",
      "Keltner channel \tnot found\n",
      "MIMIC \tnot found\n",
      "K-theory (physics) \tnot found\n",
      "Jeffrey Lagarias \tnot found\n",
      "Five-point stencil \tnot found\n",
      "Conjugate index \tnot found\n",
      "Commitment ordering \tnot found\n",
      "Bagnold number \tnot found\n",
      "Kuhn length \tnot found\n",
      "Permeation \tnot found\n",
      "Periodic point \tnot found\n",
      "Bispherical coordinates \tcoordinate\n",
      "Ultimate oscillator \tnot found\n",
      "Born coordinates \tnot found\n",
      "Darboux derivative \tnot found\n",
      "Cap product \tsimplicial map\n",
      "Bertrand's theorem \tnot found\n",
      "Dowling geometry \tnot found\n",
      "Martin Huxley \tnot found\n",
      "List of earthquakes in the British Isles \tnot found\n",
      "Screw (simple machine) \tnot found\n",
      "Catechol 2,3-dioxygenase \tnot found\n",
      "Godunov's scheme \tnot found\n",
      "Clamper (electronics) \tnot found\n",
      "Chebyshev rational functions \tnot found\n",
      "Electron temperature \tnot found\n",
      "Smearing retransformation \tnot found\n",
      "Normal-inverse Gaussian distribution \tnot found\n",
      "Integral representation theorem for classical Wiener space \tnot found\n",
      "Hypercube graph \tnot found\n",
      "Epsilon-neighborhood \tnot found\n",
      "Malliavin derivative \tnot found\n",
      "Matrix pencil \tnot found\n",
      "Unity amplitude \tnot found\n",
      "Pappus graph \tnot found\n",
      "Orthogonal convex hull \tnot found\n",
      "Spatial multiplexing \tnot found\n",
      "Kutta–Joukowski theorem \tnot found\n",
      "Goodman and Kruskal's gamma \tnot found\n",
      "Quantum amplifier \tnot found\n",
      "Monotone cubic interpolation \tnot found\n",
      "Truncation error \tnot found\n",
      "Directed infinity \tnot found\n",
      "Self-diffusion \tnot found\n",
      "Doctor sweetening process \tnot found\n",
      "Young measure \tnot found\n",
      "Minimal polynomial (linear algebra) \tnot found\n",
      "Eilenberg's inequality \tnot found\n",
      "Bloch space \tnot found\n",
      "Tip-speed ratio \tnot found\n",
      "Complete set of invariants \tnot found\n",
      "Milner Baily Schaefer \tnot found\n",
      "Partial oxidation \tnot found\n",
      "Quadrature domains \tnot found\n",
      "Exner function \tnot found\n",
      "Lambek–Moser theorem \tnot found\n",
      "Positive-definite function on a group \tnot found\n",
      "Isotropic quadratic form \tnot found\n",
      "Schouten–Nijenhuis bracket \tnot found\n",
      "Monotonically normal space \tnot found\n",
      "Ropelength \tnot found\n",
      "M-Xylene (data page) \tnot found\n",
      "Threshold graph \tnot found\n",
      "Weibull modulus \tnot found\n",
      "Stochastic processes and boundary value problems \tmatrix field\n",
      "Analytic Fredholm theorem \tnot found\n",
      "Sonic logging \tnot found\n",
      "Relaxation (iterative method) \tnot found\n",
      "Strategic complements \tnot found\n",
      "Carr index \tnot found\n",
      "Iitaka dimension \tnot found\n",
      "30000 (number) \tnot found\n",
      "Gamma-ray burst emission mechanisms \tnot found\n",
      "Succinate-semialdehyde dehydrogenase \tnot found\n",
      "4-Hydroxycyclohexanecarboxylate dehydrogenase \tnot found\n",
      "Isopiperitenol dehydrogenase \tnot found\n",
      "2-dehydro-3-deoxy-D-gluconate 6-dehydrogenase \tnot found\n",
      "MRNA (2'-O-methyladenosine-N6-)-methyltransferase \tnot found\n",
      "TRNA (guanine-N2-)-methyltransferase \tnot found\n",
      "Arogenate dehydrogenase \tnot found\n",
      "Cholestanetriol 26-monooxygenase \tnot found\n",
      "Glyceollin synthase \tnot found\n",
      "Linear sweep voltammetry \tnot found\n",
      "(R)-pantolactone dehydrogenase (flavin) \tnot found\n",
      "2-oxoglutarate synthase \tnot found\n",
      "4-hydroxyphenylacetaldehyde dehydrogenase \tnot found\n",
      "Formate dehydrogenase (cytochrome) \tnot found\n",
      "N5-(carboxyethyl)ornithine synthase \tnot found\n",
      "METAP2 \tnot found\n",
      "Maleylpyruvate isomerase \tnot found\n",
      "Protein-serine epimerase \tnot found\n",
      "Deoxycytidylate 5-hydroxymethyltransferase \tnot found\n",
      "Aconitate decarboxylase \tnot found\n",
      "Phosphoribosylamine—glycine ligase \tnot found\n",
      "Pinene synthase \tnot found\n",
      "Nickel-transporting ATPase \tnot found\n",
      "N-acetylglucosamine-1-phosphodiester alpha-N-acetylglucosaminidase \tnot found\n",
      "Formimidoylglutamase \tnot found\n",
      "N-acyl-D-glutamate deacylase \tnot found\n",
      "Ureidosuccinase \tnot found\n",
      "Fisher's inequality \tnot found\n",
      "Homocitrate synthase \tnot found\n",
      "Serine O-acetyltransferase \tnot found\n",
      "UDP-N-acetylglucosamine 1-carboxyvinyltransferase \tnot found\n",
      "Histidine transaminase \tnot found\n",
      "Ornithine(lysine) transaminase \tnot found\n",
      "Tricubic interpolation \tnot found\n",
      "Ogden (hyperelastic model) \tnot found\n",
      "Coniferyl-alcohol glucosyltransferase \tnot found\n",
      "Hydroxycinnamate 4-beta-glucosyltransferase \tnot found\n",
      "Neolactotetraosylceramide alpha-2,3-sialyltransferase \tnot found\n",
      "Diacylglycerol cholinephosphotransferase \tnot found\n",
      "(glutamate—ammonia-ligase) adenylyltransferase \tnot found\n",
      "Inositol-tetrakisphosphate 1-kinase \tnot found\n",
      "Low-density-lipoprotein receptor kinase \tnot found\n",
      "UDP-glucose—glycoprotein glucose phosphotransferase \tnot found\n",
      "Szász–Mirakyan operator \tnot found\n",
      "Stokes drift \tnot found\n",
      "Stokes wave \tnot found\n",
      "Sectional density \tnot found\n",
      "Frobenius solution to the hypergeometric equation \tnot found\n",
      "Regret (decision theory) \tnot found\n",
      "FSC15307+3253 \tnot found\n",
      "Size functor \tnot found\n",
      "R (cross section ratio) \tnot found\n",
      "Anger function \tnot found\n",
      "Air mass (solar energy) \tnot found\n",
      "René François Walter de Sluse \tnot found\n",
      "Mangler Transformation \tnot found\n",
      "Skew-symmetric graph \tnot found\n",
      "Godement resolution \tnot found\n",
      "Discrete Morse theory \tcell\n",
      "Numerical sign problem \tc fields\n",
      "Proof without words \tnot found\n",
      "Abbe error \tnot found\n",
      "Schild's ladder \tnot found\n",
      "Valuative criterion \tnot found\n",
      "CP violation \tnot found\n",
      "Smoothing spline \tnot found\n",
      "Asymptotology \tnot found\n",
      "Hurwitz quaternion order \tnot found\n",
      "Fréchet distance \tnot found\n",
      "Optical properties of carbon nanotubes \tnot found\n",
      "Poole–Frenkel effect \tnot found\n",
      "Borda–Carnot equation \tnot found\n",
      "Multiplicatively closed set \tnot found\n",
      "Solvency ratio \tnot found\n",
      "Aanderaa–Karp–Rosenberg conjecture \tnot found\n",
      "Bubble chart \tnot found\n",
      "Quasireversibility \tnot found\n",
      "RV coefficient \tnot found\n",
      "Stream power \tnot found\n",
      "Lawvere theory \tnot found\n",
      "Kostka polynomial \tnot found\n",
      "Special classes of semigroups \tnot found\n",
      "Option type \tnot found\n",
      "Clebsch surface \tnot found\n",
      "Iterative proportional fitting \tnot found\n",
      "Closed range theorem \tnot found\n",
      "1988–89 Mersin İdmanyurdu season \tnot found\n",
      "Severe plastic deformation \tnot found\n",
      "Ligand K-edge \tnot found\n",
      "Frequency offset \tnot found\n",
      "Shannon multigraph \tnot found\n",
      "Searle's bar method \tnot found\n",
      "Bivariate von Mises distribution \tnot found\n",
      "Savilian Professor of Geometry \tnot found\n",
      "Wrapped Lévy distribution \tnot found\n",
      "Witten zeta function \tnot found\n",
      "Non-minimally coupled inflation \tnot found\n",
      "ReDoS \tnot found\n",
      "Frame-dragging \tnot found\n",
      "Spiral antenna \tnot found\n",
      "List of aperiodic sets of tiles \tnot found\n",
      "Modular decomposition \tnot found\n",
      "Rayleigh sky model \tnot found\n",
      "Stratifold \tnot found\n",
      "Baker's theorem \tnot found\n",
      "Hodges' estimator \tnot found\n",
      "Thermal fluctuations \tnot found\n",
      "Regular semi-algebraic system \tnot found\n",
      "Rauzy fractal \tnot found\n",
      "Lovelock theory of gravity \tnot found\n",
      "Time–frequency analysis for music signals \tnot found\n",
      "Akhiezer's theorem \tnot found\n",
      "Sudhansu Datta Majumdar \tnot found\n",
      "Schwarzschild coordinates \tnot found\n",
      "Passivity (engineering) \tnot found\n",
      "2010 SO16 \tnot found\n",
      "Betweenness centrality \tnot found\n",
      "Spring system \tnot found\n",
      "Iterated filtering \tnot found\n",
      "Infinity Laplacian \tnot found\n",
      "Parametric process (optics) \tnot found\n",
      "Wangerin function \tnot found\n",
      "Actuarial polynomials \tnot found\n",
      "Atiyah algebroid \tnot found\n",
      "Busemann–Petty problem \tnot found\n",
      "Supercapacitor \tnot found\n",
      "Ince equation \tnot found\n",
      "Size (statistics) \tnot found\n",
      "Fréchet-Kolmogorov theorem \tnot found\n",
      "Network controllability \tnot found\n",
      "P–n diode \tnot found\n",
      "Truncated simplectic honeycomb \tnot found\n",
      "Carathéodory kernel theorem \tnot found\n",
      "Τ-additivity \tnot found\n",
      "Hierarchical Dirichlet process \tnot found\n",
      "Weight-of-conflict conjecture \tnot found\n",
      "Web (differential geometry) \tnot found\n"
     ]
    },
    {
     "ename": "IndexError",
     "evalue": "list index out of range",
     "output_type": "error",
     "traceback": [
      "\u001b[1;31m---------------------------------------------------------------------------\u001b[0m\n\u001b[1;31mIndexError\u001b[0m                                Traceback (most recent call last)",
      "\u001b[1;32m<ipython-input-375-58d97c42be59>\u001b[0m in \u001b[0;36m<module>\u001b[1;34m()\u001b[0m\n\u001b[0;32m      2\u001b[0m \u001b[1;33m\u001b[0m\u001b[0m\n\u001b[0;32m      3\u001b[0m \u001b[1;32mfor\u001b[0m \u001b[0mt\u001b[0m \u001b[1;32min\u001b[0m \u001b[0mcluster_0\u001b[0m\u001b[1;33m:\u001b[0m\u001b[1;33m\u001b[0m\u001b[0m\n\u001b[1;32m----> 4\u001b[1;33m     \u001b[1;32mprint\u001b[0m \u001b[0mtitles\u001b[0m\u001b[1;33m[\u001b[0m\u001b[0mt\u001b[0m\u001b[1;33m]\u001b[0m\u001b[1;33m,\u001b[0m \u001b[1;34m'\\t'\u001b[0m\u001b[1;33m,\u001b[0m \u001b[0mrels\u001b[0m\u001b[1;33m[\u001b[0m\u001b[0mt\u001b[0m\u001b[1;33m]\u001b[0m\u001b[1;33m.\u001b[0m\u001b[0mget\u001b[0m\u001b[1;33m(\u001b[0m\u001b[1;34mu'σ'\u001b[0m\u001b[1;33m,\u001b[0m \u001b[1;34m'not found'\u001b[0m\u001b[1;33m)\u001b[0m\u001b[1;33m\u001b[0m\u001b[0m\n\u001b[0m",
      "\u001b[1;31mIndexError\u001b[0m: list index out of range"
     ]
    }
   ],
   "source": [
    "cluster_0 = gb.groups[0]\n",
    "\n",
    "for t in cluster_0:\n",
    "    print titles[t], '\\t', rels[t].get(u'σ', 'not found')"
   ]
  },
  {
   "cell_type": "markdown",
   "metadata": {},
   "source": [
    "## Some stuff"
   ]
  },
  {
   "cell_type": "code",
   "execution_count": 20,
   "metadata": {
    "collapsed": false
   },
   "outputs": [
    {
     "data": {
      "text/plain": [
       "(3614L, 3614L)"
      ]
     },
     "execution_count": 20,
     "metadata": {},
     "output_type": "execute_result"
    }
   ],
   "source": [
    "dist_ids = 1 - cosine_similarity(X.T)\n",
    "dist_ids.shape"
   ]
  },
  {
   "cell_type": "code",
   "execution_count": 14,
   "metadata": {
    "collapsed": false
   },
   "outputs": [
    {
     "data": {
      "text/plain": [
       "(20873L, 20873L)"
      ]
     },
     "execution_count": 14,
     "metadata": {},
     "output_type": "execute_result"
    }
   ],
   "source": [
    "dist_docs = 1 - cosine_similarity(X)\n",
    "dist_docs.shape"
   ]
  },
  {
   "cell_type": "markdown",
   "metadata": {},
   "source": [
    "## Hierarchical"
   ]
  },
  {
   "cell_type": "markdown",
   "metadata": {},
   "source": [
    "https://de.dariah.eu/tatom/working_with_text.html"
   ]
  },
  {
   "cell_type": "code",
   "execution_count": 35,
   "metadata": {
    "collapsed": false
   },
   "outputs": [],
   "source": [
    "from scipy.cluster.hierarchy import ward, dendrogram"
   ]
  },
  {
   "cell_type": "code",
   "execution_count": null,
   "metadata": {
    "collapsed": false
   },
   "outputs": [],
   "source": [
    "linkage_matrix = ward(dist_docs)"
   ]
  },
  {
   "cell_type": "code",
   "execution_count": null,
   "metadata": {
    "collapsed": false
   },
   "outputs": [],
   "source": []
  }
 ],
 "metadata": {
  "kernelspec": {
   "display_name": "Python 2",
   "language": "python",
   "name": "python2"
  },
  "language_info": {
   "codemirror_mode": {
    "name": "ipython",
    "version": 2
   },
   "file_extension": ".py",
   "mimetype": "text/x-python",
   "name": "python",
   "nbconvert_exporter": "python",
   "pygments_lexer": "ipython2",
   "version": "2.7.7"
  }
 },
 "nbformat": 4,
 "nbformat_minor": 0
}
