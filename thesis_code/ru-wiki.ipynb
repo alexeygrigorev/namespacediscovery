{
 "cells": [
  {
   "cell_type": "code",
   "execution_count": 1,
   "metadata": {
    "collapsed": true
   },
   "outputs": [],
   "source": [
    "import numpy as np\n",
    "import pandas as pd\n",
    "import matplotlib.pyplot as plt\n",
    "\n",
    "import json\n",
    "import os\n",
    "from collections import Counter\n",
    "\n",
    "from time import time\n",
    "\n",
    "%matplotlib inline\n",
    "\n",
    "import scipy.sparse"
   ]
  },
  {
   "cell_type": "code",
   "execution_count": 2,
   "metadata": {
    "collapsed": true
   },
   "outputs": [],
   "source": [
    "import matplotlib\n",
    "matplotlib.rcParams['mathtext.fontset'] = 'stix'\n",
    "matplotlib.rcParams['font.family'] = 'STIXGeneral'\n",
    "matplotlib.rc('axes', labelsize='large') "
   ]
  },
  {
   "cell_type": "code",
   "execution_count": 3,
   "metadata": {
    "collapsed": true
   },
   "outputs": [],
   "source": [
    "import pymorphy2\n",
    "morph = pymorphy2.MorphAnalyzer()"
   ]
  },
  {
   "cell_type": "code",
   "execution_count": 4,
   "metadata": {
    "collapsed": false
   },
   "outputs": [
    {
     "name": "stdout",
     "output_type": "stream",
     "text": [
      "постоянный планка\n"
     ]
    }
   ],
   "source": [
    "def normal_form(string):\n",
    "    result = []\n",
    "    for s in string.split(' '):\n",
    "        result.append(morph.parse(s)[0].normal_form)\n",
    "    \n",
    "    return u' '.join(result)\n",
    "\n",
    "print normal_form(u'постоянная Планка')"
   ]
  },
  {
   "cell_type": "code",
   "execution_count": 5,
   "metadata": {
    "collapsed": true
   },
   "outputs": [],
   "source": [
    "def_black_list = {u'то есть', u'есть', u'здесь', u'найти', u'типа', u'любом', u'равной',\n",
    "                  u'со значениями', u'мы можем', u'обозначается символом', u'другой',\n",
    "                  u'образом', u'условие',\n",
    "                  u'точка', u'степень', u'элемент', u'сумма',\n",
    "                  u'значение', u'матрица', u'параметр', u'формула', u'константа',\n",
    "                  u'коэффициент', u'нуль', u'уравнение', u'число', u'символ', u'себя',\n",
    "                  u'переменный', u'вектор', u'координата', u'величина', u'порядок',\n",
    "                  u'люба', u''}\n",
    "\n",
    "id_replacement_list = {u'ℏ': 'h'}\n",
    "\n",
    "def normalize_id(id):\n",
    "    if id in id_replacement_list:\n",
    "        return id_replacement_list[id]\n",
    "    return id\n",
    "\n",
    "def valid_def(definition):\n",
    "    if len(definition) <= 3:\n",
    "        return False\n",
    "\n",
    "    return definition.lower() not in def_black_list"
   ]
  },
  {
   "cell_type": "code",
   "execution_count": 6,
   "metadata": {
    "collapsed": true
   },
   "outputs": [],
   "source": [
    "from collections import defaultdict\n",
    "\n",
    "def id_counter(id_list):\n",
    "    cnt = Counter()\n",
    "    for el in id_list:\n",
    "        id = el[u'element']\n",
    "        cnt[normalize_id(id)] = el[u'count']\n",
    "    return cnt\n",
    "\n",
    "def rel_to_dict(rels):\n",
    "    res = defaultdict(list)\n",
    "    for r in rels:\n",
    "        if not valid_def(r['definition']):\n",
    "            continue\n",
    "        normalized_def = normal_form(r['definition'])\n",
    "        \n",
    "        if not valid_def(normalized_def):\n",
    "            continue\n",
    "        \n",
    "        id = r['identifier']\n",
    "        res[normalize_id(id)].append((normalized_def, r['score']))\n",
    "    return res"
   ]
  },
  {
   "cell_type": "code",
   "execution_count": 7,
   "metadata": {
    "collapsed": false
   },
   "outputs": [],
   "source": [
    "from collections import defaultdict\n",
    "\n",
    "doc_categories = defaultdict(set)\n",
    "\n",
    "for line in file('C:/tmp/mlp/ru_cats_extended.txt'):\n",
    "    lst = line.strip().split('\\t')\n",
    "    title = lst[0].decode('utf-8')\n",
    "    \n",
    "    for cat in lst[1:]:\n",
    "        cat = cat.decode('utf-8')\n",
    "        doc_categories[title].add(cat)"
   ]
  },
  {
   "cell_type": "code",
   "execution_count": 8,
   "metadata": {
    "collapsed": false
   },
   "outputs": [
    {
     "name": "stdout",
     "output_type": "stream",
     "text": [
      "5319 14905\n"
     ]
    }
   ],
   "source": [
    "root = 'C:/tmp/mlp/ru-out/'\n",
    "\n",
    "docs = []\n",
    "titles = []\n",
    "ids = []\n",
    "rels = []\n",
    "\n",
    "empty = 0\n",
    "small = 0\n",
    "uncategorized = 0\n",
    "\n",
    "cnt = 0\n",
    "for f in os.listdir(root): \n",
    "    for line in file(root + f):\n",
    "        cnt = cnt + 1\n",
    "        doc = json.loads(line)\n",
    "\n",
    "        title = doc['title']        \n",
    "        if title not in doc_categories:\n",
    "            uncategorized = uncategorized + 1\n",
    "            continue\n",
    "\n",
    "        if '(disambiguation)' in title:\n",
    "            continue\n",
    "\n",
    "        id_bag = id_counter(doc['identifiers'])\n",
    "        if len(id_bag) <= 1:\n",
    "            if len(id_bag) == 0:\n",
    "                empty = empty + 1\n",
    "            else:\n",
    "                small = small + 1\n",
    "            continue\n",
    "\n",
    "        docs.append(doc)\n",
    "        titles.append(title)\n",
    "        ids.append(id_bag)\n",
    "\n",
    "        id_rels = rel_to_dict(doc['relations'])\n",
    "        rels.append(id_rels)\n",
    "\n",
    "\n",
    "N_doc = len(ids)\n",
    "print N_doc, cnt"
   ]
  },
  {
   "cell_type": "code",
   "execution_count": 9,
   "metadata": {
    "collapsed": false
   },
   "outputs": [
    {
     "name": "stdout",
     "output_type": "stream",
     "text": [
      "5319\n"
     ]
    }
   ],
   "source": [
    "title_idx = {title: idx for (idx, title) in enumerate(titles)}\n",
    "\n",
    "for doc, cats in doc_categories.items():\n",
    "    if doc in title_idx:\n",
    "        continue\n",
    "\n",
    "    for cat in cats: \n",
    "        category_docs[cat].remove(doc)\n",
    "    \n",
    "    del doc_categories[doc]\n",
    "\n",
    "print len(doc_categories)"
   ]
  },
  {
   "cell_type": "code",
   "execution_count": 10,
   "metadata": {
    "collapsed": true
   },
   "outputs": [],
   "source": [
    "doc_categories_list = [doc_categories[doc] for doc in titles]"
   ]
  },
  {
   "cell_type": "markdown",
   "metadata": {},
   "source": [
    "## Some stats"
   ]
  },
  {
   "cell_type": "code",
   "execution_count": 19,
   "metadata": {
    "collapsed": false
   },
   "outputs": [],
   "source": [
    "cnt = Counter() \n",
    "\n",
    "for id_list in ids:\n",
    "    cnt.update(id_list)\n",
    "\n",
    "cnt_pd = pd.Series(cnt.values())\n",
    "cnt_pd.sort(ascending=0, inplace=1)"
   ]
  },
  {
   "cell_type": "code",
   "execution_count": 21,
   "metadata": {
    "collapsed": false
   },
   "outputs": [
    {
     "data": {
      "text/plain": [
       "[(u'x', 13248),\n",
       " (u'n', 9224),\n",
       " (u'f', 4777),\n",
       " (u'b', 4132),\n",
       " (u'c', 3828),\n",
       " (u'd', 3534),\n",
       " (u'k', 3337),\n",
       " (u't', 3287),\n",
       " (u'p', 3124),\n",
       " (u'm', 3072)]"
      ]
     },
     "execution_count": 21,
     "metadata": {},
     "output_type": "execute_result"
    }
   ],
   "source": [
    "cnt.most_common(10)"
   ]
  },
  {
   "cell_type": "code",
   "execution_count": 20,
   "metadata": {
    "collapsed": false
   },
   "outputs": [
    {
     "data": {
      "text/plain": [
       "count     2319.000000\n",
       "mean        63.935748\n",
       "std        454.266901\n",
       "min          1.000000\n",
       "25%          1.000000\n",
       "50%          3.000000\n",
       "75%          9.000000\n",
       "max      13248.000000\n",
       "dtype: float64"
      ]
     },
     "execution_count": 20,
     "metadata": {},
     "output_type": "execute_result"
    }
   ],
   "source": [
    "cnt_pd.describe()"
   ]
  },
  {
   "cell_type": "code",
   "execution_count": 22,
   "metadata": {
    "collapsed": true
   },
   "outputs": [],
   "source": [
    "cnt_doc = pd.Series([sum(c.values()) for c in ids])\n",
    "cnt_doc.sort(ascending=0, inplace=1)"
   ]
  },
  {
   "cell_type": "code",
   "execution_count": 25,
   "metadata": {
    "collapsed": false
   },
   "outputs": [
    {
     "data": {
      "text/plain": [
       "1014    1831\n",
       "146     1266\n",
       "92      1095\n",
       "1120    1095\n",
       "511     1066\n",
       "dtype: int64"
      ]
     },
     "execution_count": 25,
     "metadata": {},
     "output_type": "execute_result"
    }
   ],
   "source": [
    "cnt_doc[:5]"
   ]
  },
  {
   "cell_type": "code",
   "execution_count": 27,
   "metadata": {
    "collapsed": false
   },
   "outputs": [
    {
     "name": "stdout",
     "output_type": "stream",
     "text": [
      "Уравнения Максвелла\n"
     ]
    }
   ],
   "source": [
    "print titles[1014]"
   ]
  },
  {
   "cell_type": "code",
   "execution_count": 23,
   "metadata": {
    "collapsed": false
   },
   "outputs": [
    {
     "data": {
      "text/plain": [
       "count    5319.000000\n",
       "mean       27.874976\n",
       "std        70.662725\n",
       "min         2.000000\n",
       "25%         4.000000\n",
       "50%         9.000000\n",
       "75%        22.000000\n",
       "max      1831.000000\n",
       "dtype: float64"
      ]
     },
     "execution_count": 23,
     "metadata": {},
     "output_type": "execute_result"
    }
   ],
   "source": [
    "cnt_doc.describe()"
   ]
  },
  {
   "cell_type": "code",
   "execution_count": 29,
   "metadata": {
    "collapsed": false
   },
   "outputs": [
    {
     "data": {
      "text/plain": [
       "1014    112\n",
       "146      83\n",
       "246      82\n",
       "4517     76\n",
       "92       71\n",
       "dtype: int64"
      ]
     },
     "execution_count": 29,
     "metadata": {},
     "output_type": "execute_result"
    }
   ],
   "source": [
    "cnt_doc_d = pd.Series([len(c.values()) for c in ids])\n",
    "cnt_doc_d.sort(ascending=0, inplace=1)\n",
    "cnt_doc_d[:5]"
   ]
  },
  {
   "cell_type": "code",
   "execution_count": 30,
   "metadata": {
    "collapsed": false
   },
   "outputs": [
    {
     "data": {
      "text/plain": [
       "count    5319.000000\n",
       "mean        7.376763\n",
       "std         7.944677\n",
       "min         2.000000\n",
       "25%         3.000000\n",
       "50%         5.000000\n",
       "75%         8.000000\n",
       "max       112.000000\n",
       "dtype: float64"
      ]
     },
     "execution_count": 30,
     "metadata": {},
     "output_type": "execute_result"
    }
   ],
   "source": [
    "cnt_doc_d.describe()"
   ]
  },
  {
   "cell_type": "code",
   "execution_count": 31,
   "metadata": {
    "collapsed": false
   },
   "outputs": [
    {
     "data": {
      "text/plain": [
       "1014    44\n",
       "207     31\n",
       "647     31\n",
       "2297    30\n",
       "2360    29\n",
       "dtype: int64"
      ]
     },
     "execution_count": 31,
     "metadata": {},
     "output_type": "execute_result"
    }
   ],
   "source": [
    "cnt_def = pd.Series([len(r) for r in rels])\n",
    "cnt_def.sort(ascending=0, inplace=1)\n",
    "cnt_def[:5]"
   ]
  },
  {
   "cell_type": "code",
   "execution_count": 32,
   "metadata": {
    "collapsed": false
   },
   "outputs": [
    {
     "data": {
      "text/plain": [
       "count    5319.000000\n",
       "mean        3.268660\n",
       "std         3.249702\n",
       "min         0.000000\n",
       "25%         1.000000\n",
       "50%         2.000000\n",
       "75%         4.000000\n",
       "max        44.000000\n",
       "dtype: float64"
      ]
     },
     "execution_count": 32,
     "metadata": {},
     "output_type": "execute_result"
    }
   ],
   "source": [
    "cnt_def.describe()"
   ]
  },
  {
   "cell_type": "code",
   "execution_count": 14,
   "metadata": {
    "collapsed": false
   },
   "outputs": [
    {
     "name": "stdout",
     "output_type": "stream",
     "text": [
      "Корень многочлена\n"
     ]
    }
   ],
   "source": [
    "print titles[1447]"
   ]
  },
  {
   "cell_type": "markdown",
   "metadata": {},
   "source": [
    "## Definitions"
   ]
  },
  {
   "cell_type": "code",
   "execution_count": 11,
   "metadata": {
    "collapsed": false,
    "scrolled": true
   },
   "outputs": [
    {
     "name": "stdout",
     "output_type": "stream",
     "text": [
      "f функция 215\n",
      "t время 130\n",
      "X множество 113\n",
      "m масса 103\n",
      "c скорость свет 89\n",
      "G группа 87\n",
      "T температура 69\n",
      "h постоянный планка 68\n",
      "ρ плотность 57\n",
      "M многообразие 53\n",
      "K поль 53\n",
      "x функция 53\n",
      "X пространство 50\n",
      "v скорость 50\n",
      "M множество 48\n",
      "X топологический пространство 46\n",
      "G граф 44\n",
      "n функция 40\n",
      "V множество 38\n",
      "R радиус 38\n"
     ]
    }
   ],
   "source": [
    "def_freq = Counter()\n",
    "\n",
    "for def_dict in rels: \n",
    "    for id, def_list in def_dict.items():\n",
    "        def_freq.update([(id, d) for d, s in def_list])\n",
    "\n",
    "for (n, d), cnt in def_freq.most_common(20):\n",
    "    print n, d, cnt"
   ]
  },
  {
   "cell_type": "code",
   "execution_count": 12,
   "metadata": {
    "collapsed": false
   },
   "outputs": [
    {
     "name": "stdout",
     "output_type": "stream",
     "text": [
      "24633\n"
     ]
    }
   ],
   "source": [
    "low_freq_def = {id for id, cnt in def_freq.items() if cnt == 1}\n",
    "print len(low_freq_def)\n",
    "\n",
    "for def_dict in rels: \n",
    "    for id, def_list in def_dict.items():\n",
    "        clean_def_list = []\n",
    "        for definition, score in def_list:\n",
    "            if definition not in low_freq_def:\n",
    "                clean_def_list.append((definition, score))\n",
    "        \n",
    "        if not clean_def_list:\n",
    "            del def_dict[id]\n",
    "        else:\n",
    "            def_dict[id] = clean_def_list"
   ]
  },
  {
   "cell_type": "code",
   "execution_count": 13,
   "metadata": {
    "collapsed": true
   },
   "outputs": [],
   "source": [
    "import cluster_evaluation\n",
    "reload(cluster_evaluation)\n",
    "evaluate = cluster_evaluation.Evaluator(doc_titles=titles, doc_ids=ids, \n",
    "                                        doc_ids_definitions=rels, doc_categories=doc_categories_list)"
   ]
  },
  {
   "cell_type": "markdown",
   "metadata": {},
   "source": [
    "Now let's incorporate definitions into the vector space"
   ]
  },
  {
   "cell_type": "code",
   "execution_count": 14,
   "metadata": {
    "collapsed": true
   },
   "outputs": [],
   "source": [
    "for idx in xrange(N_doc):\n",
    "    vals = rels[idx].items()\n",
    "    id_list = ids[idx]\n",
    "\n",
    "    for id, definitions in vals:\n",
    "        for definition, score in definitions:\n",
    "            unigrams = definition.lower().split()\n",
    "            id_list[id] = id_list[id] + 1\n",
    "            id_list.update(unigrams)"
   ]
  },
  {
   "cell_type": "code",
   "execution_count": 15,
   "metadata": {
    "collapsed": false
   },
   "outputs": [
    {
     "name": "stdout",
     "output_type": "stream",
     "text": [
      "время S_ν среднеквадратический оператор значение γ α μ_0 β J_x J_y J_z μ момент J M L P всего U угловой компонент компонента g h вектор l алгебра p s y x z\n"
     ]
    }
   ],
   "source": [
    "print ' '.join(ids[201].keys())"
   ]
  },
  {
   "cell_type": "markdown",
   "metadata": {},
   "source": [
    "## K-Means"
   ]
  },
  {
   "cell_type": "code",
   "execution_count": 16,
   "metadata": {
    "collapsed": true
   },
   "outputs": [],
   "source": [
    "from sklearn.cluster import KMeans, MiniBatchKMeans\n",
    "\n",
    "from sklearn.feature_extraction.text import TfidfVectorizer\n",
    "from sklearn.decomposition import TruncatedSVD, randomized_svd\n",
    "\n",
    "from sklearn.preprocessing import Normalizer\n",
    "normalizer = Normalizer(copy=False)"
   ]
  },
  {
   "cell_type": "code",
   "execution_count": 17,
   "metadata": {
    "collapsed": false
   },
   "outputs": [
    {
     "data": {
      "text/plain": [
       "<5319x3948 sparse matrix of type '<type 'numpy.float64'>'\n",
       "\twith 79171 stored elements in Compressed Sparse Row format>"
      ]
     },
     "execution_count": 17,
     "metadata": {},
     "output_type": "execute_result"
    }
   ],
   "source": [
    "def unwrap_counter(cnt):\n",
    "    res = []\n",
    "    for id, c in cnt.items():\n",
    "        res.extend([id] * c)\n",
    "    return res\n",
    "\n",
    "vectorizer = TfidfVectorizer(analyzer=unwrap_counter, use_idf=True, sublinear_tf=True, min_df=2)\n",
    "X = vectorizer.fit_transform(ids)\n",
    "\n",
    "X"
   ]
  },
  {
   "cell_type": "code",
   "execution_count": 18,
   "metadata": {
    "collapsed": false
   },
   "outputs": [
    {
     "data": {
      "text/plain": [
       "0.0037701531833367525"
      ]
     },
     "execution_count": 18,
     "metadata": {},
     "output_type": "execute_result"
    }
   ],
   "source": [
    "79171.0 / (X.shape[0] * X.shape[1])"
   ]
  },
  {
   "cell_type": "code",
   "execution_count": 19,
   "metadata": {
    "collapsed": true
   },
   "outputs": [],
   "source": [
    "km_grid_hyperparam_res = {}\n",
    "km_grid_hyperparam_lr = []"
   ]
  },
  {
   "cell_type": "code",
   "execution_count": 36,
   "metadata": {
    "collapsed": false,
    "scrolled": true
   },
   "outputs": [
    {
     "name": "stdout",
     "output_type": "stream",
     "text": [
      "purity for n=150, k=500 is 0.3495, number of >0.8 clusters: 35\n",
      "purity for n=150, k=750 is 0.4053, number of >0.8 clusters: 52\n",
      "purity for n=150, k=1000 is 0.4362, number of >0.8 clusters: 49\n",
      "purity for n=150, k=1250 is 0.4779, number of >0.8 clusters: 71\n",
      "purity for n=150, k=1500 is 0.5198, number of >0.8 clusters: 85\n",
      "purity for n=150, k=1750 is 0.5492, number of >0.8 clusters: 86\n",
      "purity for n=150, k=2000 is 0.6007, number of >0.8 clusters: 102\n",
      "purity for n=150, k=2250 is 0.6283, number of >0.8 clusters: 98\n",
      "purity for n=150, k=2500 is 0.6627, number of >0.8 clusters: 79\n",
      "purity for n=150, k=2750 is 0.6885, number of >0.8 clusters: 78\n",
      "purity for n=150, k=3000 is 0.7210, number of >0.8 clusters: 85\n",
      "purity for n=150, k=3250 is 0.7526, number of >0.8 clusters: 67\n",
      "purity for n=150, k=3500 is 0.7772, number of >0.8 clusters: 65\n",
      "purity for n=150, k=3750 is 0.8114, number of >0.8 clusters: 53\n",
      "purity for n=150, k=4000 is 0.8389, number of >0.8 clusters: 43\n",
      "purity for n=150, k=4250 is 0.8539, number of >0.8 clusters: 50\n",
      "purity for n=150, k=4500 is 0.8958, number of >0.8 clusters: 28\n",
      "purity for n=150, k=4750 is 0.9197, number of >0.8 clusters: 16\n",
      "purity for n=150, k=5000 is 0.9438, number of >0.8 clusters: 14\n",
      "purity for n=250, k=500 is 0.3604, number of >0.8 clusters: 37\n",
      "purity for n=250, k=750 is 0.4052, number of >0.8 clusters: 38\n",
      "purity for n=250, k=1000 is 0.4469, number of >0.8 clusters: 71\n",
      "purity for n=250, k=1250 is 0.4871, number of >0.8 clusters: 71\n",
      "purity for n=250, k=1500 is 0.5148, number of >0.8 clusters: 80\n",
      "purity for n=250, k=1750 is 0.5576, number of >0.8 clusters: 93\n",
      "purity for n=250, k=2000 is 0.5990, number of >0.8 clusters: 102\n",
      "purity for n=250, k=2250 is 0.6309, number of >0.8 clusters: 90\n",
      "purity for n=250, k=2500 is 0.6575, number of >0.8 clusters: 96\n",
      "purity for n=250, k=2750 is 0.6996, number of >0.8 clusters: 84\n",
      "purity for n=250, k=3000 is 0.7300, number of >0.8 clusters: 105\n",
      "purity for n=250, k=3250 is 0.7569, number of >0.8 clusters: 76\n",
      "purity for n=250, k=3500 is 0.7761, number of >0.8 clusters: 60\n",
      "purity for n=250, k=3750 is 0.8173, number of >0.8 clusters: 61\n",
      "purity for n=250, k=4000 is 0.8394, number of >0.8 clusters: 54\n",
      "purity for n=250, k=4250 is 0.8748, number of >0.8 clusters: 31\n",
      "purity for n=250, k=4500 is 0.8855, number of >0.8 clusters: 28\n",
      "purity for n=250, k=4750 is 0.9267, number of >0.8 clusters: 14\n",
      "purity for n=250, k=5000 is 0.9554, number of >0.8 clusters: 10\n",
      "purity for n=350, k=500 is 0.3506, number of >0.8 clusters: 33\n",
      "purity for n=350, k=750 is 0.4070, number of >0.8 clusters: 41\n",
      "purity for n=350, k=1000 is 0.4473, number of >0.8 clusters: 54\n",
      "purity for n=350, k=1250 is 0.4875, number of >0.8 clusters: 70\n",
      "purity for n=350, k=1500 is 0.5206, number of >0.8 clusters: 76\n",
      "purity for n=350, k=1750 is 0.5505, number of >0.8 clusters: 78\n",
      "purity for n=350, k=2000 is 0.6050, number of >0.8 clusters: 105\n",
      "purity for n=350, k=2250 is 0.6326, number of >0.8 clusters: 94\n",
      "purity for n=350, k=2500 is 0.6575, number of >0.8 clusters: 86\n",
      "purity for n=350, k=2750 is 0.6926, number of >0.8 clusters: 96\n",
      "purity for n=350, k=3000 is 0.7248, number of >0.8 clusters: 83\n",
      "purity for n=350, k=3250 is 0.7590, number of >0.8 clusters: 82\n",
      "purity for n=350, k=3500 is 0.7825, number of >0.8 clusters: 58\n",
      "purity for n=350, k=3750 is 0.8220, number of >0.8 clusters: 53\n",
      "purity for n=350, k=4000 is 0.8338, number of >0.8 clusters: 45\n",
      "purity for n=350, k=4250 is 0.8661, number of >0.8 clusters: 46\n",
      "purity for n=350, k=4500 is 0.9015, number of >0.8 clusters: 26\n",
      "purity for n=350, k=4750 is 0.9239, number of >0.8 clusters: 19\n",
      "purity for n=350, k=5000 is 0.9457, number of >0.8 clusters: 9\n"
     ]
    }
   ],
   "source": [
    "for n in [150, 250, 350]:\n",
    "    U, S, Vt = randomized_svd(X, n_components=n)\n",
    "    V = Vt.T\n",
    "\n",
    "    X_red_grid = X.dot(V)\n",
    "    X_red_grid = normalizer.fit_transform(X_red_grid)\n",
    "\n",
    "    ks = [k for k in xrange(500, 5001, 250)]\n",
    "    \n",
    "    for k in ks:\n",
    "        km_grid = MiniBatchKMeans(n_clusters=k, init_size=k*3, n_init=10, init='random')\n",
    "        km_grid.fit(X_red_grid)\n",
    "\n",
    "        km_grid_hyperparam_res[(n, k)] = km_grid.labels_\n",
    "        cluster_purity = evaluate.overall_purity(km_grid.labels_)\n",
    "        no_pure_clusters = len(evaluate.high_purity_clusters(km_grid.labels_, threshold=0.8, min_size=3))\n",
    "        km_grid_hyperparam_lr.append((n, k, cluster_purity, no_pure_clusters))\n",
    "\n",
    "        print 'purity for n=%d, k=%d is %0.4f, number of >0.8 clusters: %d' % (n, k, cluster_purity, no_pure_clusters)"
   ]
  },
  {
   "cell_type": "code",
   "execution_count": 37,
   "metadata": {
    "collapsed": true
   },
   "outputs": [],
   "source": [
    "import pickle\n",
    "pickle.dump(km_grid_hyperparam_res, file('C:/tmp/mlp/namespaces/rus-models-07-25-svd2.bin', 'w'))"
   ]
  },
  {
   "cell_type": "code",
   "execution_count": 20,
   "metadata": {
    "collapsed": true
   },
   "outputs": [],
   "source": [
    "import pickle\n",
    "km_grid_hyperparam_res = pickle.load(file('C:/tmp/mlp/namespaces/rus-models-07-25-svd2.bin'))"
   ]
  },
  {
   "cell_type": "code",
   "execution_count": 38,
   "metadata": {
    "collapsed": false
   },
   "outputs": [
    {
     "data": {
      "text/html": [
       "<div style=\"max-height:1000px;max-width:1500px;overflow:auto;\">\n",
       "<table border=\"1\" class=\"dataframe\">\n",
       "  <thead>\n",
       "    <tr style=\"text-align: right;\">\n",
       "      <th></th>\n",
       "      <th>n</th>\n",
       "      <th>k</th>\n",
       "      <th>purity</th>\n",
       "      <th>sizes</th>\n",
       "    </tr>\n",
       "  </thead>\n",
       "  <tbody>\n",
       "    <tr>\n",
       "      <th>0</th>\n",
       "      <td>150</td>\n",
       "      <td>500</td>\n",
       "      <td>0.349502</td>\n",
       "      <td>35</td>\n",
       "    </tr>\n",
       "    <tr>\n",
       "      <th>1</th>\n",
       "      <td>150</td>\n",
       "      <td>750</td>\n",
       "      <td>0.405339</td>\n",
       "      <td>52</td>\n",
       "    </tr>\n",
       "    <tr>\n",
       "      <th>2</th>\n",
       "      <td>150</td>\n",
       "      <td>1000</td>\n",
       "      <td>0.436172</td>\n",
       "      <td>49</td>\n",
       "    </tr>\n",
       "    <tr>\n",
       "      <th>3</th>\n",
       "      <td>150</td>\n",
       "      <td>1250</td>\n",
       "      <td>0.477909</td>\n",
       "      <td>71</td>\n",
       "    </tr>\n",
       "    <tr>\n",
       "      <th>4</th>\n",
       "      <td>150</td>\n",
       "      <td>1500</td>\n",
       "      <td>0.519835</td>\n",
       "      <td>85</td>\n",
       "    </tr>\n",
       "  </tbody>\n",
       "</table>\n",
       "</div>"
      ],
      "text/plain": [
       "     n     k    purity  sizes\n",
       "0  150   500  0.349502     35\n",
       "1  150   750  0.405339     52\n",
       "2  150  1000  0.436172     49\n",
       "3  150  1250  0.477909     71\n",
       "4  150  1500  0.519835     85"
      ]
     },
     "execution_count": 38,
     "metadata": {},
     "output_type": "execute_result"
    }
   ],
   "source": [
    "df_nf = pd.DataFrame(km_grid_hyperparam_lr, columns=['n', 'k', 'purity', 'sizes'])\n",
    "df_nf.head()"
   ]
  },
  {
   "cell_type": "code",
   "execution_count": 62,
   "metadata": {
    "collapsed": false
   },
   "outputs": [
    {
     "data": {
      "image/png": "[encoded data removed]",
      "text/plain": [
       "<matplotlib.figure.Figure at 0x23cb3a90>"
      ]
     },
     "metadata": {},
     "output_type": "display_data"
    }
   ],
   "source": [
    "visual = {150: ('black', '-'), 250: ('black', '--'), 350: ('grey', '-') }\n",
    "\n",
    "for n, g in df_nf.groupby('n'):\n",
    "    color, line = visual[n]\n",
    "    med = g.groupby('k').sizes.median()\n",
    "    smoothed = pd.stats.moments.rolling_mean(med, window=3, center=True)\n",
    "    smoothed.plot(figsize=(8, 3), label='$k$ = %d' % n, color=color, linestyle=line)\n",
    "\n",
    "plt.grid(0)\n",
    "plt.xlabel('number of clusters $K$')\n",
    "plt.ylabel('no. pure clusters')\n",
    "plt.legend(loc='lower center', ncol=4)\n",
    "plt.xlim(800, 4000)\n",
    "plt.ylim(30, 100)\n",
    "\n",
    "plt.tight_layout()\n",
    "plt.savefig('figures/k-vs-kmeans-rus.pdf', format='pdf')\n",
    "plt.show()"
   ]
  },
  {
   "cell_type": "code",
   "execution_count": 66,
   "metadata": {
    "collapsed": false,
    "scrolled": true
   },
   "outputs": [
    {
     "data": {
      "text/plain": [
       "n          250.000000\n",
       "k         3000.000000\n",
       "purity       0.730024\n",
       "sizes      105.000000\n",
       "Name: 29, dtype: float64"
      ]
     },
     "execution_count": 66,
     "metadata": {},
     "output_type": "execute_result"
    }
   ],
   "source": [
    "df_nf.ix[df_nf.sizes.argmax()]"
   ]
  },
  {
   "cell_type": "code",
   "execution_count": 21,
   "metadata": {
    "collapsed": false
   },
   "outputs": [],
   "source": [
    "from fuzzywuzzy import fuzz"
   ]
  },
  {
   "cell_type": "code",
   "execution_count": 22,
   "metadata": {
    "collapsed": false,
    "scrolled": true
   },
   "outputs": [
    {
     "name": "stdout",
     "output_type": "stream",
     "text": [
      "overall purity 0.7300\n",
      "number of high purity clusters of size at least 5 is 105\n",
      "\n",
      "- Общая алгебра (id=824) size=7, purity=0.8571\n",
      "- Дифференциальная геометрия и топология (id=2215) size=7, purity=1.0000\n",
      "- Дифференциальная геометрия и топология (id=41) size=6, purity=0.8333\n",
      "- Функциональный анализ (id=833) size=6, purity=0.8333\n",
      "- Животные (id=1775) size=6, purity=0.8333\n",
      "- Картография (id=2288) size=6, purity=1.0000\n",
      "- Математический анализ (id=7) size=5, purity=1.0000\n",
      "- Математический анализ (id=90) size=5, purity=0.8000\n",
      "- Теория вероятностей (id=216) size=5, purity=1.0000\n",
      "- Механика (id=770) size=5, purity=0.8000\n",
      "- Дифференциальные уравнения в частных производных (id=776) size=5, purity=0.8000\n",
      "- Математический анализ (id=995) size=5, purity=0.8000\n",
      "- Релятивистские и гравитационные явления (id=1056) size=5, purity=0.8000\n",
      "- Линейная алгебра (id=1142) size=5, purity=1.0000\n",
      "- Математический анализ (id=1415) size=5, purity=1.0000\n",
      "- Физика твёрдого тела (id=1643) size=5, purity=0.8000\n",
      "- Гидродинамика (id=1683) size=5, purity=1.0000\n",
      "- Термодинамика (id=1940) size=5, purity=1.0000\n",
      "- Топология (id=2441) size=5, purity=0.8000\n",
      "- Цифровые системы (id=2574) size=5, purity=1.0000\n",
      "- Функциональный анализ (id=2724) size=5, purity=0.8000\n",
      "- Физические науки (id=2901) size=5, purity=0.8000\n",
      "- Химические соединения по элементам (id=282) size=4, purity=1.0000\n",
      "- Химические соединения по элементам (id=428) size=4, purity=1.0000\n",
      "- Теория графов (id=1073) size=4, purity=1.0000\n",
      "- Теория графов (id=1447) size=4, purity=1.0000\n",
      "- Уравнения (id=1494) size=4, purity=1.0000\n",
      "- Гравитация (id=1498) size=4, purity=1.0000\n",
      "- Теория групп (id=1820) size=4, purity=1.0000\n",
      "- Прикладная математика (id=2046) size=4, purity=1.0000\n",
      "- Топология (id=2129) size=4, purity=1.0000\n",
      "- Теория категорий (id=2250) size=4, purity=1.0000\n",
      "- Оптика (id=2522) size=4, purity=1.0000\n",
      "- Теория множеств (id=2567) size=4, purity=1.0000\n",
      "- Аутентификация (id=2760) size=4, purity=1.0000\n",
      "- Гравитация (id=2839) size=4, purity=1.0000\n",
      "- Технические индикаторы (id=2844) size=4, purity=1.0000\n",
      "- Арифметика (id=19) size=3, purity=1.0000\n",
      "- Топология (id=44) size=3, purity=1.0000\n",
      "- Комплексный анализ (id=51) size=3, purity=1.0000\n",
      "- Топология (id=59) size=3, purity=1.0000\n",
      "- Теория вероятностей (id=92) size=3, purity=1.0000\n",
      "- Уравнения (id=150) size=3, purity=1.0000\n",
      "- Топология (id=321) size=3, purity=1.0000\n",
      "- Категории учёных (id=330) size=3, purity=1.0000\n",
      "- Кривые (id=443) size=3, purity=1.0000\n",
      "- Цифровые системы (id=452) size=3, purity=1.0000\n",
      "- Теория вероятностей (id=526) size=3, purity=1.0000\n",
      "- Потенциал (id=565) size=3, purity=1.0000\n",
      "- Теория вероятностей (id=599) size=3, purity=1.0000\n",
      "- Эконометрика (id=634) size=3, purity=1.0000\n",
      "- Дискретная математика (id=769) size=3, purity=1.0000\n",
      "- Линейная алгебра (id=888) size=3, purity=1.0000\n",
      "- Квантовая физика (id=902) size=3, purity=1.0000\n",
      "- Блочные шифры (id=912) size=3, purity=1.0000\n",
      "- Классическая механика (id=944) size=3, purity=1.0000\n",
      "- Теория алгоритмов (id=1015) size=3, purity=1.0000\n",
      "- Теоремы комплексного анализа (id=1016) size=3, purity=1.0000\n",
      "- Математика (id=1030) size=3, purity=1.0000\n",
      "- Физические науки (id=1048) size=3, purity=1.0000\n",
      "- Физические науки (id=1063) size=3, purity=1.0000\n",
      "- Логика (id=1070) size=3, purity=1.0000\n",
      "- Общая алгебра (id=1132) size=3, purity=1.0000\n",
      "- Дифференциальная геометрия кривых (id=1195) size=3, purity=1.0000\n",
      "- Математическая статистика (id=1205) size=3, purity=1.0000\n",
      "- Топология (id=1206) size=3, purity=1.0000\n",
      "- Математический анализ (id=1387) size=3, purity=1.0000\n",
      "- Аналоговые системы (id=1395) size=3, purity=1.0000\n",
      "- Теория групп (id=1429) size=3, purity=1.0000\n",
      "- Экономика (id=1482) size=3, purity=1.0000\n",
      "- Алгебра (id=1497) size=3, purity=1.0000\n",
      "- Математический анализ (id=1504) size=3, purity=1.0000\n",
      "- Алгебраические кривые (id=1537) size=3, purity=1.0000\n",
      "- Дискретная математика (id=1569) size=3, purity=1.0000\n",
      "- Химические соединения по элементам (id=1578) size=3, purity=1.0000\n",
      "- Физика конденсированного состояния (id=1622) size=3, purity=1.0000\n",
      "- Оптика (id=1636) size=3, purity=1.0000\n",
      "- Теория вероятностей (id=1645) size=3, purity=1.0000\n",
      "- Термодинамические потенциалы (id=1650) size=3, purity=1.0000\n",
      "- Алгебраическая теория чисел (id=1712) size=3, purity=1.0000\n",
      "- Демография (id=1732) size=3, purity=1.0000\n",
      "- Теория графов (id=1797) size=3, purity=1.0000\n",
      "- Безразмерные параметры (id=1853) size=3, purity=1.0000\n",
      "- Механика (id=1913) size=3, purity=1.0000\n",
      "- Электротехника (id=1938) size=3, purity=1.0000\n",
      "- Общие понятия о функциях (id=1956) size=3, purity=1.0000\n",
      "- Статистическая физика (id=2122) size=3, purity=1.0000\n",
      "- Математический анализ (id=2163) size=3, purity=1.0000\n",
      "- Теоремы комплексного анализа (id=2211) size=3, purity=1.0000\n",
      "- Математическая логика (id=2226) size=3, purity=1.0000\n",
      "- Математика (id=2271) size=3, purity=1.0000\n",
      "- Океанология (id=2277) size=3, purity=1.0000\n",
      "- Общая алгебра (id=2279) size=3, purity=1.0000\n",
      "- Безразмерные величины в гидродинамике (id=2321) size=3, purity=1.0000\n",
      "- Механика (id=2360) size=3, purity=1.0000\n",
      "- Теоремы комплексного анализа (id=2365) size=3, purity=1.0000\n",
      "- Теория колец (id=2397) size=3, purity=1.0000\n",
      "- Соединения калия (id=2562) size=3, purity=1.0000\n",
      "- Единицы измерения (id=2637) size=3, purity=1.0000\n",
      "- Оптика (id=2692) size=3, purity=1.0000\n",
      "- Математический анализ (id=2694) size=3, purity=1.0000\n",
      "- Оптика (id=2739) size=3, purity=1.0000\n",
      "- Волновая физика (id=2796) size=3, purity=1.0000\n",
      "- Атомы (id=2815) size=3, purity=1.0000\n",
      "- Небесная механика (id=2939) size=3, purity=1.0000\n"
     ]
    }
   ],
   "source": [
    "clustering = km_grid_hyperparam_res[(250, 3000)]\n",
    "evaluate.report_overall(clustering, purity_threshold=0.8, min_size=3, sort_by='size')"
   ]
  },
  {
   "cell_type": "code",
   "execution_count": 23,
   "metadata": {
    "collapsed": false,
    "scrolled": true
   },
   "outputs": [
    {
     "name": "stdout",
     "output_type": "stream",
     "text": [
      "cluster 1142, size: 5\n",
      "- Линейная алгебра (categories: Алгебра, Линейная алгебра) элемент V v_n древнекитайский вектор-строка книга α уравнение инвариантный v_1 v_2 подстановка L решение P комбинация l x то обратный тензорный число j порядок α_1 контравариантный базис W_i W_k девять β единичный подпространство α_n W математика векторный притом ковариантный k алгебраический W_1 сопрячь сложение x_n матрица возможность b_1 b_2 равенство в множество λ B b_m F роль размер x_2 x_1 поль b f группа вектор n r v характеристика пространство n_i n_k экземпляр отображение частное операция образ n_1 линейный U конструкция произведение m абелев u y\n",
      "- Спектральная теорема (categories: Математические теоремы, Алгебра, Функциональный анализ, Линейная алгебра, Матрицы, ...) соответствие эрмитовый проектирование шура элемент матрица пространство гильбертов случай функция собственный Λ разложение диагональный равенство базис умножение скалярный оператор значение определение ортонормированный λ инвариантный иметь подпространство H K P U T V X мы вектор-столбцы унитарный произведение ненулевой f вектор спектр теперь y x комплекснозначный измеримый мера скаляр\n",
      "- Сингулярное разложение (categories: Линейная алгебра, Численные методы, Матрицы, Численные методы линейной алгебры, Разложения матриц) число строка шаг элемент матрица один вдоль координатный легко воздействие разложение диагональный сопряжённо-транспонировать ранг Σ масштабирование определение замена поворот простой отображение вещественный единичный вид V_k σ ненулевой размер K M сингулярный линейный S R U T V превращать унитарный поль столбцы следующий k вектор m последний представление n визуальный преобразование r u v наибольший радиус затем мы ось сфера\n",
      "- Ковариантность и контравариантность (математика) (categories: Дифференциальная геометрия и топология, Линейная алгебра, Тензорное исчисление) координата матрица пространство функция базис скалярный применение набор помощь искривить билинейный иметь тип тензор форма линейный S V смена произведение d g f общий k вектор m f_i представление n преобразование u v x обратный\n",
      "- Теорема Куранта — Фишера (categories: Линейная алгебра, Теоремы алгебры, Теоремы линейной алгебры) оболочка базис вектор подпространство оператор значение k V действительный пространство линейный S сфера ортонормированный L_k собственный единичный\n",
      "\n",
      "common terms: (вектор V)\n",
      "top categories: (Линейная алгебра, 5), (Алгебра, 2), (Матрицы, 2), (Спектральная теория, 1), (Тензорное исчисление, 1)\n",
      "purity: 1.000\n",
      "relations:\n",
      "     F: (поль: 0.99)\n",
      "     H: (гильбертов: 0.95), (оператор: 0.83)\n",
      "     K: (подпространство*: 3.67), (поль: 0.99), (оператор: 0.84), (эрмитовый матрица: 0.84), (вещественный число: 0.83)\n",
      "     L: (отображение*: 3.69), (подпространство*: 1.85), (образ: 0.81), (роль: 0.81)\n",
      "     L_k: (оператор: 0.87), (подпространство: 0.83), (собственный значение: 0.81)\n",
      "     M: (воздействие матрица*: 1.77), (превращать: 0.91), (затем мы: 0.85), (сингулярный вектор матрица: 0.82), (простой преобразование: 0.82)\n",
      "     P: (обратный: 0.96), (проектирование: 0.89), (спектр оператор: 0.83), (характеристика: 0.81)\n",
      "     S: (единичный радиус*: 1.94), (сфера: 0.99), (помощь матрица преобразование: 0.99), (действительный: 0.89), (визуальный представление: 0.89)\n",
      "     T: (линейный отображение: 0.93), (оператор: 0.89), (сфера: 0.87), (легко: 0.86), (оператор умножение: 0.82)\n",
      "     U: (унитарный матрица*: 1.77), (соответствие разложение шура мы иметь: 0.89), (оператор: 0.89), (вектор-столбцы матрица: 0.86), (собственный вектор: 0.82), (столбцы: 0.82)\n",
      "     V: (пространство*: 5.57), (подпространство*: 3.60), (экземпляр: 1.88), (скалярный произведение*: 1.85), (ортонормированный базис: 1.83), (поворот: 0.95), (операция сложение вектор: 0.93), (множество элемент: 0.93), (линейный: 0.93), (сопрячь: 0.93), (определение: 0.92), (абелев группа: 0.89), (сопряжённо-транспонировать матрица: 0.87), (простой преобразование: 0.85), (линейный оболочка вектор: 0.84), (притом вектор: 0.84), (унитарный: 0.82)\n",
      "     W: (инвариантный подпространство: 1.82)\n",
      "     W_i: (базис: 0.89)\n",
      "     X: (измеримый функция: 0.89)\n",
      "     f: (измеримый функция: 0.99), (теперь: 0.95), (комплекснозначный: 0.86), (мера: 0.83)\n",
      "     f_i: (набор: 0.95)\n",
      "     g: (билинейный форма*: 1.78), (скалярный произведение: 0.99)\n",
      "     j: (единичный: 0.86)\n",
      "     k: (подпространство*: 3.60), (функция: 1.78), (наибольший элемент*: 1.75), (ранг: 0.96), (тензорный произведение: 0.94), (экземпляр: 0.94), (собственный значение: 0.93), (ковариантный: 0.92), (оператор: 0.87), (один столбцы: 0.83)\n",
      "     l: (экземпляр: 1.81), (контравариантный: 0.93), (сопрячь: 0.89)\n",
      "     m: (смена базис*: 1.89), (преобразование тензор тип*: 1.73), (вектор-строка: 0.95), (алгебраический уравнение: 0.91), (матрица размер: 0.89), (обратный: 0.89), (обратный матрица преобразование базис: 0.87)\n",
      "     n: (пространство*: 2.67), (уравнение порядок: 0.92), (частное решение: 0.92), (линейный комбинация: 0.92), (математика в девять книга: 0.92), (древнекитайский: 0.86), (общий: 0.83)\n",
      "     r: (ранг: 0.99), (строка: 0.99), (столбцы: 0.99), (представление разложение: 0.83), (возможность: 0.81)\n",
      "     u: (последний шаг: 0.93), (определение: 0.89), (координата иметь: 0.83)\n",
      "     v: (функция: 0.83)\n",
      "     x: (собственный вектор: 0.95), (представление вектор: 0.95), (ненулевой: 0.91), (пространство: 0.89), (линейный подстановка: 0.83)\n",
      "     y: (пространство*: 1.82), (линейный подстановка: 0.95)\n",
      "     Λ: (диагональный элемент матрица*: 2.76), (собственный значение: 0.91), (эрмитовый: 0.82)\n",
      "     Σ: (вдоль: 0.94), (масштабирование: 0.94), (следующий вид: 0.87), (размер: 0.87), (координатный ось: 0.85)\n",
      "     λ: (скаляр: 0.99), (собственный значение: 0.95), (равенство: 0.95), (число отображение: 0.89), (конструкция: 0.89)\n",
      "     σ: (сингулярный число: 0.96), (ненулевой элемент: 0.93), (число матрица: 0.87), (замена: 0.84)\n"
     ]
    }
   ],
   "source": [
    "evaluate.print_cluster(clustering, 1142, scorer=fuzz.UQRatio)"
   ]
  },
  {
   "cell_type": "code",
   "execution_count": 24,
   "metadata": {
    "collapsed": false,
    "scrolled": true
   },
   "outputs": [
    {
     "name": "stdout",
     "output_type": "stream",
     "text": [
      "overall purity 0.7300\n",
      "number of high purity clusters of size at least 5 is 105\n",
      "\n",
      "category \"Теория алгоритмов\", cluster_id=1015, size=3:\n",
      "top categories: [(u'\\u0422\\u0435\\u043e\\u0440\\u0438\\u044f \\u0430\\u043b\\u0433\\u043e\\u0440\\u0438\\u0442\\u043c\\u043e\\u0432', 3), (u'\\u0422\\u0435\\u043e\\u0440\\u0438\\u044f \\u0430\\u0432\\u0442\\u043e\\u043c\\u0430\\u0442\\u043e\\u0432', 3), (u'\\u0412\\u0438\\u0437\\u0443\\u0430\\u043b\\u0438\\u0437\\u0430\\u0446\\u0438\\u044f \\u0434\\u0430\\u043d\\u043d\\u044b\\u0445', 1), (u'\\u0414\\u0438\\u0430\\u0433\\u0440\\u0430\\u043c\\u043c\\u044b', 1)]\n",
      "     λ: (функция выход: 1.90), (функция переход: 0.96)\n",
      "category \"Релятивистские и гравитационные явления\", cluster_id=1056, size=5:\n",
      "top categories: [(u'\\u0420\\u0435\\u043b\\u044f\\u0442\\u0438\\u0432\\u0438\\u0441\\u0442\\u0441\\u043a\\u0438\\u0435 \\u0438 \\u0433\\u0440\\u0430\\u0432\\u0438\\u0442\\u0430\\u0446\\u0438\\u043e\\u043d\\u043d\\u044b\\u0435 \\u044f\\u0432\\u043b\\u0435\\u043d\\u0438\\u044f', 4), (u'\\u0424\\u0438\\u0437\\u0438\\u0447\\u0435\\u0441\\u043a\\u0438\\u0435 \\u044d\\u0444\\u0444\\u0435\\u043a\\u0442\\u044b \\u0438 \\u044f\\u0432\\u043b\\u0435\\u043d\\u0438\\u044f', 3), (u'\\u041e\\u0431\\u0449\\u0430\\u044f \\u0442\\u0435\\u043e\\u0440\\u0438\\u044f \\u043e\\u0442\\u043d\\u043e\\u0441\\u0438\\u0442\\u0435\\u043b\\u044c\\u043d\\u043e\\u0441\\u0442\\u0438', 3), (u'\\u0424\\u0438\\u0437\\u0438\\u0447\\u0435\\u0441\\u043a\\u0438\\u0435 \\u043d\\u0430\\u0443\\u043a\\u0438', 2), (u'\\u0413\\u0440\\u0430\\u0432\\u0438\\u0442\\u0430\\u0446\\u0438\\u044f', 2)]\n",
      "     λ: (частота: 0.89)\n",
      "category \"Линейная алгебра\", cluster_id=1142, size=5:\n",
      "top categories: [(u'\\u041b\\u0438\\u043d\\u0435\\u0439\\u043d\\u0430\\u044f \\u0430\\u043b\\u0433\\u0435\\u0431\\u0440\\u0430', 5), (u'\\u0410\\u043b\\u0433\\u0435\\u0431\\u0440\\u0430', 2), (u'\\u041c\\u0430\\u0442\\u0440\\u0438\\u0446\\u044b', 2), (u'\\u0421\\u043f\\u0435\\u043a\\u0442\\u0440\\u0430\\u043b\\u044c\\u043d\\u0430\\u044f \\u0442\\u0435\\u043e\\u0440\\u0438\\u044f', 1), (u'\\u0422\\u0435\\u043d\\u0437\\u043e\\u0440\\u043d\\u043e\\u0435 \\u0438\\u0441\\u0447\\u0438\\u0441\\u043b\\u0435\\u043d\\u0438\\u0435', 1)]\n",
      "     λ: (скаляр: 0.99), (собственный значение: 0.95), (равенство: 0.95), (число отображение: 0.89), (конструкция: 0.89)\n",
      "category \"Алгебра\", cluster_id=1497, size=3:\n",
      "top categories: [(u'\\u0410\\u043b\\u0433\\u0435\\u0431\\u0440\\u0430', 3), (u'\\u041b\\u0438\\u043d\\u0435\\u0439\\u043d\\u0430\\u044f \\u0430\\u043b\\u0433\\u0435\\u0431\\u0440\\u0430', 2), (u'\\u041e\\u0431\\u0449\\u0430\\u044f \\u0442\\u043e\\u043f\\u043e\\u043b\\u043e\\u0433\\u0438\\u044f', 1), (u'\\u0424\\u0443\\u043d\\u043a\\u0446\\u0438\\u043e\\u043d\\u0430\\u043b\\u044c\\u043d\\u044b\\u0439 \\u0430\\u043d\\u0430\\u043b\\u0438\\u0437', 1), (u'\\u0422\\u043e\\u043f\\u043e\\u043b\\u043e\\u0433\\u0438\\u0447\\u0435\\u0441\\u043a\\u0438\\u0435 \\u0432\\u0435\\u043a\\u0442\\u043e\\u0440\\u043d\\u044b\\u0435 \\u043f\\u0440\\u043e\\u0441\\u0442\\u0440\\u0430\\u043d\\u0441\\u0442\\u0432\\u0430', 1)]\n",
      "     λ: (поль: 1.90)\n",
      "category \"Гидродинамика\", cluster_id=1683, size=5:\n",
      "top categories: [(u'\\u0413\\u0438\\u0434\\u0440\\u043e\\u0434\\u0438\\u043d\\u0430\\u043c\\u0438\\u043a\\u0430', 5), (u'\\u041a\\u0440\\u0438\\u0442\\u0435\\u0440\\u0438\\u0438 \\u043f\\u043e\\u0434\\u043e\\u0431\\u0438\\u044f', 2), (u'\\u0411\\u0435\\u0437\\u0440\\u0430\\u0437\\u043c\\u0435\\u0440\\u043d\\u044b\\u0435 \\u043f\\u0430\\u0440\\u0430\\u043c\\u0435\\u0442\\u0440\\u044b', 2), (u'\\u0411\\u0435\\u0437\\u0440\\u0430\\u0437\\u043c\\u0435\\u0440\\u043d\\u044b\\u0435 \\u0432\\u0435\\u043b\\u0438\\u0447\\u0438\\u043d\\u044b \\u0432 \\u0433\\u0438\\u0434\\u0440\\u043e\\u0434\\u0438\\u043d\\u0430\\u043c\\u0438\\u043a\\u0435', 2), (u'\\u041c\\u0435\\u0442\\u043e\\u0434\\u044b \\u044d\\u043a\\u0441\\u043f\\u0435\\u0440\\u0438\\u043c\\u0435\\u043d\\u0442\\u0430\\u043b\\u044c\\u043d\\u043e\\u0439 \\u0444\\u0438\\u0437\\u0438\\u043a\\u0438', 2)]\n",
      "     λ: (тепловой движение: 0.89), (давление: 0.86), (средний скорость: 0.83)\n",
      "category \"Статистическая физика\", cluster_id=2122, size=3:\n",
      "top categories: [(u'\\u0421\\u0442\\u0430\\u0442\\u0438\\u0441\\u0442\\u0438\\u0447\\u0435\\u0441\\u043a\\u0430\\u044f \\u0444\\u0438\\u0437\\u0438\\u043a\\u0430', 3), (u'\\u0424\\u0438\\u0437\\u0438\\u0447\\u0435\\u0441\\u043a\\u0438\\u0435 \\u043d\\u0430\\u0443\\u043a\\u0438', 2), (u'\\u041f\\u0440\\u0438\\u043a\\u043b\\u0430\\u0434\\u043d\\u0430\\u044f \\u0441\\u0442\\u0430\\u0442\\u0438\\u0441\\u0442\\u0438\\u043a\\u0430', 1), (u'\\u041a\\u0432\\u0430\\u043d\\u0442\\u043e\\u0432\\u0430\\u044f \\u0444\\u0438\\u0437\\u0438\\u043a\\u0430', 1), (u'\\u0421\\u0442\\u0430\\u0442\\u0438\\u0441\\u0442\\u0438\\u0447\\u0435\\u0441\\u043a\\u0430\\u044f \\u043c\\u0435\\u0445\\u0430\\u043d\\u0438\\u043a\\u0430', 1)]\n",
      "     λ: (итоговый выражение: 0.89), (энергия микросостояние: 0.83)\n",
      "category \"Картография\", cluster_id=2288, size=6:\n",
      "top categories: [(u'\\u041a\\u0430\\u0440\\u0442\\u043e\\u0433\\u0440\\u0430\\u0444\\u0438\\u044f', 6), (u'\\u041a\\u0430\\u0440\\u0442\\u043e\\u0433\\u0440\\u0430\\u0444\\u0438\\u0447\\u0435\\u0441\\u043a\\u0438\\u0435 \\u043f\\u0440\\u043e\\u0435\\u043a\\u0446\\u0438\\u0438', 5), (u'\\u0421\\u0438\\u0441\\u0442\\u0435\\u043c\\u044b \\u043a\\u043e\\u043e\\u0440\\u0434\\u0438\\u043d\\u0430\\u0442', 5), (u'\\u0412\\u0438\\u0437\\u0443\\u0430\\u043b\\u0438\\u0437\\u0430\\u0446\\u0438\\u044f \\u0434\\u0430\\u043d\\u043d\\u044b\\u0445', 1), (u'\\u0424\\u0438\\u0437\\u0438\\u0447\\u0435\\u0441\\u043a\\u0430\\u044f \\u0433\\u0435\\u043e\\u0433\\u0440\\u0430\\u0444\\u0438\\u044f', 1)]\n",
      "     λ: (долгота: 4.75), (широта: 4.63), (центр проекция: 0.83)\n",
      "category \"Теоремы комплексного анализа\", cluster_id=2365, size=3:\n",
      "top categories: [(u'\\u0422\\u0435\\u043e\\u0440\\u0435\\u043c\\u044b \\u043a\\u043e\\u043c\\u043f\\u043b\\u0435\\u043a\\u0441\\u043d\\u043e\\u0433\\u043e \\u0430\\u043d\\u0430\\u043b\\u0438\\u0437\\u0430', 3), (u'\\u041c\\u0430\\u0442\\u0435\\u043c\\u0430\\u0442\\u0438\\u0447\\u0435\\u0441\\u043a\\u0438\\u0435 \\u0442\\u0435\\u043e\\u0440\\u0435\\u043c\\u044b', 3), (u'\\u041a\\u043e\\u043c\\u043f\\u043b\\u0435\\u043a\\u0441\\u043d\\u044b\\u0439 \\u0430\\u043d\\u0430\\u043b\\u0438\\u0437', 3), (u'\\u0422\\u0435\\u043e\\u0440\\u0438\\u044f \\u0443\\u043f\\u0440\\u0430\\u0432\\u043b\\u0435\\u043d\\u0438\\u044f', 2), (u'\\u0424\\u0443\\u043d\\u043a\\u0446\\u0438\\u0438', 2)]\n",
      "     λ: (нуль порядок: 0.96), (корень функция: 0.83)\n",
      "category \"Оптика\", cluster_id=2522, size=4:\n",
      "top categories: [(u'\\u041e\\u043f\\u0442\\u0438\\u043a\\u0430', 4), (u'\\u0424\\u0438\\u0437\\u0438\\u0447\\u0435\\u0441\\u043a\\u0438\\u0435 \\u043d\\u0430\\u0443\\u043a\\u0438', 4), (u'\\u0412\\u043e\\u043b\\u043d\\u043e\\u0432\\u0430\\u044f \\u0444\\u0438\\u0437\\u0438\\u043a\\u0430', 4), (u'\\u042d\\u043b\\u0435\\u043a\\u0442\\u0440\\u043e\\u043c\\u0430\\u0433\\u043d\\u0438\\u0442\\u043d\\u043e\\u0435 \\u0438\\u0437\\u043b\\u0443\\u0447\\u0435\\u043d\\u0438\\u0435', 3), (u'\\u0424\\u043e\\u0442\\u043e\\u043c\\u0435\\u0442\\u0440\\u0438\\u044f', 3)]\n",
      "     λ: (длина: 2.75), (ширина: 1.63), (текущий значение: 0.99), (спектральный плотность энергетический: 0.95), (спектральный плотность: 0.91), (монохроматический излучение: 0.83), (поток излучение: 0.81)\n",
      "category \"Оптика\", cluster_id=2739, size=3:\n",
      "top categories: [(u'\\u041e\\u043f\\u0442\\u0438\\u043a\\u0430', 3), (u'\\u0424\\u0438\\u0437\\u0438\\u043a\\u0430 \\u0442\\u0432\\u0451\\u0440\\u0434\\u043e\\u0433\\u043e \\u0442\\u0435\\u043b\\u0430', 2), (u'\\u0422\\u0432\\u0451\\u0440\\u0434\\u043e\\u0435 \\u0442\\u0435\\u043b\\u043e', 2), (u'\\u0424\\u0438\\u0437\\u0438\\u043a\\u0430 \\u043a\\u043e\\u043d\\u0434\\u0435\\u043d\\u0441\\u0438\\u0440\\u043e\\u0432\\u0430\\u043d\\u043d\\u043e\\u0433\\u043e \\u0441\\u043e\\u0441\\u0442\\u043e\\u044f\\u043d\\u0438\\u044f', 2), (u'\\u0424\\u0438\\u0437\\u0438\\u0447\\u0435\\u0441\\u043a\\u0438\\u0435 \\u043d\\u0430\\u0443\\u043a\\u0438', 1)]\n",
      "     λ: (длина волна: 0.95), (длина: 0.91), (частота: 0.83)\n",
      "category \"Гравитация\", cluster_id=2839, size=4:\n",
      "top categories: [(u'\\u0413\\u0440\\u0430\\u0432\\u0438\\u0442\\u0430\\u0446\\u0438\\u044f', 4), (u'\\u0410\\u0441\\u0442\\u0440\\u043e\\u043d\\u043e\\u043c\\u0438\\u044f', 3), (u'\\u0424\\u0438\\u0437\\u0438\\u043a\\u0430', 2), (u'\\u0418\\u0441\\u0442\\u043e\\u0440\\u0438\\u044f \\u0444\\u0438\\u0437\\u0438\\u043a\\u0438', 2), (u'\\u041e\\u0431\\u0449\\u0430\\u044f \\u0442\\u0435\\u043e\\u0440\\u0438\\u044f \\u043e\\u0442\\u043d\\u043e\\u0441\\u0438\\u0442\\u0435\\u043b\\u044c\\u043d\\u043e\\u0441\\u0442\\u0438', 2)]\n",
      "     λ: (коэффициент затухание: 0.99), (смещение перигелий меркурий: 0.83)\n",
      "category \"Физические науки\", cluster_id=2901, size=5:\n",
      "top categories: [(u'\\u0424\\u0438\\u0437\\u0438\\u0447\\u0435\\u0441\\u043a\\u0438\\u0435 \\u043d\\u0430\\u0443\\u043a\\u0438', 4), (u'\\u041a\\u0432\\u0430\\u043d\\u0442\\u043e\\u0432\\u0430\\u044f \\u0444\\u0438\\u0437\\u0438\\u043a\\u0430', 3), (u'\\u041c\\u0435\\u0445\\u0430\\u043d\\u0438\\u043a\\u0430', 2), (u'\\u0418\\u043d\\u043e\\u0441\\u0442\\u0440\\u0430\\u043d\\u043d\\u044b\\u0435 \\u0447\\u043b\\u0435\\u043d\\u044b \\u0410\\u041d \\u0421\\u0421\\u0421\\u0420', 1), (u'\\u0424\\u0438\\u0437\\u0438\\u0447\\u0435\\u0441\\u043a\\u0438\\u0435 \\u0432\\u0435\\u043b\\u0438\\u0447\\u0438\\u043d\\u044b', 1)]\n",
      "     λ: (длина: 0.93), (связанный: 0.91), (зависимость: 0.86), (дебройлевский: 0.82), (скорость: 0.82)\n"
     ]
    }
   ],
   "source": [
    "evaluate.find_identifier(clustering, purity_threshold=0.8, id=u'λ', min_size=3)"
   ]
  },
  {
   "cell_type": "code",
   "execution_count": null,
   "metadata": {
    "collapsed": true
   },
   "outputs": [],
   "source": []
  },
  {
   "cell_type": "markdown",
   "metadata": {
    "collapsed": true
   },
   "source": [
    "## Hierarchies"
   ]
  },
  {
   "cell_type": "code",
   "execution_count": 25,
   "metadata": {
    "collapsed": false
   },
   "outputs": [],
   "source": [
    "grnti_file = file('C:/tmp/mlp/categories_ru_hierarchy.txt')\n",
    "next(grnti_file) # header\n",
    "\n",
    "tree_grnti = {}\n",
    "top_parent = None\n",
    "parent = None\n",
    "\n",
    "\n",
    "for line in grnti_file:\n",
    "    line = line.decode('utf8')\n",
    "    code, name, level = line.strip().split(';')\n",
    "    \n",
    "    if level == '0':\n",
    "        top_parent = name\n",
    "        tree_grnti[top_parent] = {}\n",
    "    elif level == '1':\n",
    "        parent = name \n",
    "        tree_grnti[top_parent][parent] = [name]\n",
    "    else:\n",
    "        if name.lower().startswith(u'общие вопросы'):\n",
    "            continue\n",
    "        if name.lower().startswith(u'общие проблемы'):\n",
    "            continue\n",
    "        tree_grnti[top_parent][parent].append(name)"
   ]
  },
  {
   "cell_type": "code",
   "execution_count": 26,
   "metadata": {
    "collapsed": true
   },
   "outputs": [],
   "source": [
    "keep = [u'ЭКОНОМИКА. ЭКОНОМИЧЕСКИЕ НАУКИ', u'ИНФОРМАТИКА', u'МАТЕМАТИКА', u'КИБЕРНЕТИКА',\n",
    "        u'ФИЗИКА', u'МЕХАНИКА', u'ХИМИЯ', u'БИОЛОГИЯ', u'ГЕОДЕЗИЯ. КАРТОГРАФИЯ', \n",
    "        u'ГЕОФИЗИКА', u'АСТРОНОМИЯ', u'ЭЛЕКТРОТЕХНИКА', u'ЭЛЕКТРОНИКА. РАДИОТЕХНИКА',\n",
    "        u'ЯДЕРНАЯ ТЕХНИКА', u'ХИМИЧЕСКАЯ ТЕХНОЛОГИЯ.  ХИМИЧЕСКАЯ ПРОМЫШЛЕННОСТЬ', \n",
    "        u'БИОТЕХНОЛОГИЯ', u'СТАТИСТИКА', u'КОСМИЧЕСКИЕ ИССЛЕДОВАНИЯ', u'МЕТРОЛОГИЯ']\n",
    "\n",
    "for k in tree_grnti.keys():\n",
    "    if k not in keep:\n",
    "        del tree_grnti[k]"
   ]
  },
  {
   "cell_type": "code",
   "execution_count": 27,
   "metadata": {
    "collapsed": false,
    "scrolled": true
   },
   "outputs": [
    {
     "name": "stdout",
     "output_type": "stream",
     "text": [
      "АСТРОНОМИЯ\n",
      "БИОЛОГИЯ\n",
      "БИОТЕХНОЛОГИЯ\n",
      "ГЕОДЕЗИЯ. КАРТОГРАФИЯ\n",
      "ГЕОФИЗИКА\n",
      "ИНФОРМАТИКА\n",
      "КИБЕРНЕТИКА\n",
      "КОСМИЧЕСКИЕ ИССЛЕДОВАНИЯ\n",
      "МАТЕМАТИКА\n",
      "МЕТРОЛОГИЯ\n",
      "МЕХАНИКА\n",
      "СТАТИСТИКА\n",
      "ФИЗИКА\n",
      "ХИМИЧЕСКАЯ ТЕХНОЛОГИЯ.  ХИМИЧЕСКАЯ ПРОМЫШЛЕННОСТЬ\n",
      "ХИМИЯ\n",
      "ЭКОНОМИКА. ЭКОНОМИЧЕСКИЕ НАУКИ\n",
      "ЭЛЕКТРОНИКА. РАДИОТЕХНИКА\n",
      "ЭЛЕКТРОТЕХНИКА\n",
      "ЯДЕРНАЯ ТЕХНИКА\n"
     ]
    }
   ],
   "source": [
    "print '\\n'.join(sorted(tree_grnti.keys()))"
   ]
  },
  {
   "cell_type": "code",
   "execution_count": 28,
   "metadata": {
    "collapsed": true
   },
   "outputs": [],
   "source": [
    "for k_top, top in tree_grnti.items():\n",
    "    for k_2, v in top.items():\n",
    "        if len(v) <= 1 :\n",
    "            del top[k_2]"
   ]
  },
  {
   "cell_type": "code",
   "execution_count": 29,
   "metadata": {
    "collapsed": false,
    "scrolled": true
   },
   "outputs": [
    {
     "name": "stdout",
     "output_type": "stream",
     "text": [
      "АСТРОНОМИЯ\n",
      "    Астрофизика, Элементарные частицы и поля в астрофизике, Приложение квантовой теории в астрофизике. Ядерные и атомно-молекулярные процессы, Теория поглощения и излучения. Перенос излучения, Методы статистической физики. Космическая электродинамика, Релятивистская астрофизика. Приложения общей теории относительности в астрономии, Происхождение элементов, Прочие проблемы теоретической астрофизики\n",
      "    Звезды, Внутреннее строение и эволюция звезд, Статистические исследования, Атмосферы, Стационарные звезды, Физические переменные звезды, Звездообразные источники излучения, Двойные и кратные звезды\n",
      "    Солнечная система, Строение и происхождение Солнечной системы, Планеты и их спутники, Луна. Лунные затмения, Кометы, Метеоры. Зодиакальный свет. Межпланетная среда, Метеориты\n",
      "    Туманности. Межзвездная среда, Туманности, Межзвездная среда, Астрофизика космических лучей\n",
      "    Звездные системы, Кинематика и динамика звездных систем, Звездные скопления и ассоциации, Строение и эволюция Галактики, Галактики. Квазары, Группы и скопления галактик. Сверхскопления галактик. Метагалактика\n",
      "    Астрометрия, Фундаментальная астрометрия. Каталоги, Астрометрические наблюдения, Вращение Земли. Измерение времени в астрономии. Движение земных полюсов, Сферическая астрономия. Астрономические постоянные, Практическая астрономия\n",
      "    Общие вопросы астрономии, Руководящие материалы, Материалы общего характера, Философские вопросы и методология, История астрономии. Персоналия, Современное состояние и перспективы развития, Научные общества, Koммepчecкиe вoпpocы, Международное сотрудничество, Экспедиции, Организация научно-исследовательских работ. Деятельность учреждений, Научная и научно-техническая экспертиза, Информационная деятельность, Терминология. Справочная литература. Учебная литература, Метрология в астрономии, Cтaндapтизaция в acтpoнoмии, Пpoпaгaндa и пoпyляpизaция в acтpoнoмии, Преподавание астрономии, Maтeмaтичecкиe и кибepнeтичecкиe мeтoды в acтpoнoмии, Кадры, Автоматизация и автоматизированные системы, Уcлoвия тpyдa\n",
      "    Обсерватории. Инструменты, Астрономические обсерватории. Астроклимат, Астрономическая оптика. Телескопы оптического диапазона, Астрометрические инструменты. Приборы для измерения времени, Инструменты для исследования Солнца, Приборы и методы наблюдательной оптической астрофизики, Приборы и методы радиоастрономии, Приемники излучения и приемная аппаратура инфракрасного, Обработка наблюдений. Применение вычислительной техники в астрономии\n",
      "    Солнце, Характеристики Солнца в целом, Спокойное Солнце, Активные образования и центры активности на Солнце, Околосолнечное космическое пространство и динамические процессы, Цикличность солнечной активности. Служба Солнца, Проблема Солнце - Земля\n",
      "    Теоретическая астрономия. Небесная механика, Теория движения тел Солнечной системы, Теория вращения фигур и притяжения естественных небесных тел, Практическое приложение небесной механики. Эфемериды. Ежегодники. Вспомогательные таблицы\n",
      "    Космология, Наблюдательная космология, Физика Вселенной, Гравитационная устойчивость. Космологические аспекты теории образования галактик, Космологические модели, Новые космологические теории и гипотезы\n",
      "\n",
      "БИОЛОГИЯ\n",
      "    Зоология, Общая зоология, Зоология беспозвоночных, Энтомология, Зоопаразитология, Зоология наземных позвоночных, Ихтиология\n",
      "    Вирусология, Методы и аппаратура в вирусологии, Систематика и номенклатура вирусов, Морфология и физиология вирусов, Репликация вирусов, Генетика вирусов, Противовирусный иммунитет, Биология вирусов человека, Вирусные препараты, Вопросы экологии и эпидемиология вирусов\n",
      "    Эмбриология, Методы и аппаратура в эмбриологии, Половые клетки и оплодотворение, Эмбриональное развитие, Тератогенез\n",
      "    Теоретическая биология, Эволюционное учение, Таксономия и номенклатура в биологии, Математическая биология и теоретическое моделирование биологических процессов. Биоинформатика, Происхождение жизни, Биология старения, Криобиология, Трансплантация тканей и органов, Регенерация органов и тканей, Биоритмы. Хронобиология, Прочие проблемы биологии\n",
      "    Методы и оборудование для биологических исследований, Организация биологического эксперимента, Методы биологических исследований, Методы и аппаратура для регистрации, Лабораторные биологические объекты и оборудование для их содержания, Проблемы безопасности биологического эксперимента\n",
      "    Радиационная биология, Теоретическая радиобиология, Методы и аппаратура в радиобиологии, Радиационная биофизика, Молекулярная и клеточная радиобиология, Радиобиология организма, Радиоэкология, Биомедицинское применение источников ионизирующих излучений, Дозиметрия ионизирующих излучений в биологии и медицине, Радиометрия в биологии и медицине, Радиационные методы и средства исследования в биологии и медицине, Получение и использование радиофармацевтических препаратов, Прикладная радиобиология\n",
      "    Антропология, Морфологическая антропология, Физиологическая антропология, Антропогенез, Антропогенетика, Этническая антропология\n",
      "    Физиология человека и животных, Общие и теоретические проблемы нормальной и патологической физиологии, Методы и аппаратура в физиологии человека и животных, Общая нейрофизиология, Физиология центральной нервной системы, Физиология сенсорных систем, Физиология нервно-мышечной системы скелета. Движение, Высшая нервная деятельность. Поведение, Кровь. Лимфа, Кровообращение, Дыхание, Пищеварение, Физиология почек, Размножение. Лактация, Физиология эндокринной системы. Гормональная регуляция, Обмен веществ. Питание, Физиологическая терморегуляция, Физиология кожи, Физиология соединительной ткани, Физиологически активные вещества, Возрастная физиология, Экологическая физиология, Физиология различных видов деятельности человека, Физиология домашних и сельскохозяйственных животных\n",
      "    Генетика, Теоретическая генетика, Методы и аппаратура в генетике, Биохимическая генетика, Мутагенез, Мутагены, Антимутагены, Цитогенетика, Генетика соматических клеток, Генетика развития, Иммуногенетика, Генетика поведения, Популяционная генетика, Генетика количественных признаков, Наследование нормальных признаков у человека, Экологическая генетика, Хромосомные мутации у человека, Гены человека с патологическим эффектом, Генетика возделываемых растений и лесных пород, Генетика домашних и сельскохозяйственных животных\n",
      "    Биокибернетика, Математические и машинные модели биосистем, Физиологическая кибернетика, Нейрокибернетика, Изучение\n",
      "    Молекулярная биология, Методы и аппаратура в молекулярной биологии, Пространственная структура и свойства биополимеров, Макромолекулярные ассоциации и проблемы узнавания в молекулярной биологии, Иммобилизованные биологические системы, Молекулярная генетика, Молекулярная биология гена, Генетическая инженерия, Молекулярная эволюция, Молекулярная биология вирусов, Молекулярная иммунология, Молекулярная мембранология, Молекулярная биология клеточной поверхности, Молекулярная биоэнергетика, Молекулярная эндокринология, Молекулярная нейробиология, Молекулярная биология подвижности и опорного аппарата клетки, Молекулярная биология свертывания крови, Молекулярная биология развития и старения, Молекулярная онкология, Молекулярные критерии биосистематики, Молекулярные критерии адаптации, Молекулярная фармакология и токсикология, Молекулярная патология\n",
      "    Общие вопросы биологии, Руководящие материалы, Материалы общего характера, Философские вопросы и методология, История биологии. Персоналия, Современное состояние и перспективы развития биологии, Научные и технические общества, Koммepчecкиe вoпpocы, Международное сотрудничество по биологии, Организация научно-исследовательских работ, Научная и научно-техническая экспертиза, Информационная деятельность, Терминология. Справочная литература. Учебная литература, Метрология в биологии, Cтaндapтизaция в биoлoгии, Пpoпaгaндa и пoпyляpизaция биoлoгичecкиx знaний, Преподавание биологии, Экономика, Maтeмaтичecкиe и кибepнeтичecкиe мeтoды в биoлoгии, Кадры, Измepeния, Автоматизация и автоматизированные системы, Уcлoвия тpyдa, Oxpaнa oкpyжaющeй cpeды в oблacти биoлoгии\n",
      "    Токсикология, Теоретическая токсикология, Методы и аппаратура в токсикологии, Общая токсикология, Частная токсикология, Экологическая токсикология, Наркологическая токсикология\n",
      "    Биофизика, Теоретическая и математическая биофизика, Методы и аппаратура в биофизике, Фотофизические и фотохимические процессы в биологии, Молекулярная биофизика, Свободнорадикальные состояния в биологии, Биофизика подвижности и цитоскелета, Биофизика клетки, Искусственные и биологические мембраны, Межклеточные и межмембранные взаимодействия, Биофизические эффекты электрических и магнитных полей, Биореология и гемодинамика, Биофизика тканей, Частная биофизика, Прикладная биофизика\n",
      "    Иммунология, Методы и аппаратура в иммунологии, Сравнительная иммунология, Гибридомы, Система комплемента, Неспецифические факторы иммунитета, Антигены, Иммунокомпетентные клетки и органы, Механизмы трансплантационного иммунитета, Антитела, Регуляция иммунного ответа, Медиаторы иммунитета, Иммунодефицитные состояния, Иммунобиология беременности, Онкоиммунология, Аллергология, Аутоиммунные состояния, Иммунология коллагенозов, Инфекционная иммунология\n",
      "    Микробиология, Методы и аппаратура в микробиологии, Систематика и номенклатура микроорганизмов, Морфология и физиология микроорганизмов, Рост и культивирование микроорганизмов, Генетика и селекция микроорганизмов, Экология микроорганизмов, Биология возбудителей заболеваний человека и животных, Техническая микробиология, Санитарная микробиология, Бактерийные препараты, Эпидемиология микроорганизмов\n",
      "    Бионика, Бионически важные системы, Биокоммуникация, Нейробионика. Сенсоры, Бионически важные системы ориентации, Наземные локомоции, Биогидродинамика, Биоаэродинамика, Механика биологических жидкостей и газов, Биомеханика естественных и искусственных органов, Механические аспекты биоматериалов, Эргатические системы, Прикладные вопросы бионики\n",
      "    Морфология человека и животных, Общие закономерности морфогенеза, Методы и аппаратура в морфологии человека и животных, Нормальная гистология человека и животных, Нормальная анатомия человека и животных, Анатомия и гистология домашних и сельскохозяйственных животных\n",
      "    Цитология, Методы и аппаратура в цитологии, Цитоморфология, Цитофизиология, Особенности поведения клеток в культуре, Цитоэкология. Реакция клетки на внешние воздействия, Частная цитология, Цитопатология\n",
      "    Физиология растений, Методы и аппаратура в физиологии растений, Действие физических факторов на растения, Фотосинтез, Дыхание и обмен веществ в растениях, Минеральное питание растений, Водный режим растений, Тепловой режим растений, Рост и развитие растений, Регуляторы роста растений, Культура тканей и органов растений, Патофизиология растений, Биология и физиология культурных растений\n",
      "    Экология, Организм и среда, Популяция и среда, Биоценозы. Экосистемы, Гидробиология, Антропогенные воздействия на экосистемы, Биобезопасность. Акклиматизация животных и растений\n",
      "    Фармакология, Методы доклинического исследования и отбора лекарственных средств, Общая фармакология, Частная фармакология\n",
      "    Ботаника, Споровые растения, Семенные растения, Растительность. Фитоценология\n",
      "    Космическая биология, Космическая физиология, Космическая микробиология, Космическая токсикология, Экзобиология\n",
      "    Биоинженерия, Биоаппаратура для биологических исследований, Материалы для биомедицинского применения, Методы получения биомедицинской информации, Конструирование и эксплуатация биомедицинской техники\n",
      "\n",
      "БИОТЕХНОЛОГИЯ\n",
      "    Общие вопросы биотехнологии, Руководящие материалы, Материалы общего характера, Философские вопросы и методология, История науки. Персоналия, Современное состояние и перспективы развития, Научные общества, Коммерческие вопросы, Международное сотрудничество, Организация научно-исследовательских работ, Научная и научно-техническая экспертиза, Патентное дело. Изобретательство и рационализаторство, Информационная деятельность, Терминология. Справочная литература. Учебная литература, Метрология, Стандартизация, Пропаганда и популяризация достижений, Преподавание, Статистика, Экономика, Описание предприятий, Методы исследования и моделирования. Математические и кибернетические методы, Кадры, Правовые вопросы, Измерения, Проектирование, Энергоснабжение, Автоматизация и автоматизированные системы, Связь и сигнализация на предприятии, Транспорт на предприятиях, Материально-техническое снабжение. Логистика, Складское хозяйство, Тара, Отходы производства и их переработка. Вторичное сырьe. Ресурсосбережение, Пожарная безопасность, Условия труда, Охрана окружающей среды, Техническая эстетика. Эргономика, Прочие общие вопросы\n",
      "    Технологическая биоэнергетика, Получение газообразного топлива, Получение жидкого топлива, Биоконверсия растительного сырья, Биохимические топливные элементы и фотосинтетические ячейки\n",
      "    Клеточная инженерия, Культивирование растительных клеток и тканей, Культивирование клеток и тканей человека и животных\n",
      "    Иммунобиотехнологические методы анализа, Реагенты для анализа, Радиоиммуноанализ, Иммуноферментный анализ, Другие методы анализа\n",
      "    Инженерная энзимология, Иммобилизованные ферменты, Ферменты и ферментативные процессы в науке\n",
      "    Прикладная генетическая инженерия, Генетическая инженерия растений, Получение трансгенных животных биотехнологическим методом, Применение генетической инженерии для решения проблемы биодеградации, Вакцины, Сывороточный альбумин крови, Гормоны, Интерфероны, Традиционные продукты, Другие проблемы генетической инженерии\n",
      "    Сырье и продуценты для биотехнологического производства, Метан, Углеводороды нефти как сырье, Спирты как сырье, Растительное сырье, Микроорганизмы - продуценты для биотехнологического производства, Прочие виды биотехнологического сырья\n",
      "    Биотехнологические процессы и аппараты, Биотехнологические аппараты, Оптимизация биотехнологических процессов, Гидролизно-спиртовое производство (биотехнологический аспект), Биотехнологическое получение белка одноклеточных, Биотехнологическое получение антибиотиков, Биотехнологическое получение аминокислот, Биотехнологическое получение пептидов, Биотехнологическое получение ферментных препаратов, Биотехнологическое получение пестицидов, Биотехнологическое получение органических кислот, Биотехнологическое получение витаминов и коферментов, Биотехнологическое получение алкалоидов, Биотехнологическое получение нуклеозидов, Биотехнологическое получение микробиологических удобрений, Биотехнологическое получение биолипидов, Биотехнологическое получение полисахаридов, Биотехнологическое получение стероидных гормонов, Культивирование высших грибов, Биотехнологическое получение других продуктов\n",
      "    Другие проблемы биотехнологии, Биогеотехнология, Белковая инженерия, Получение биоспецифических полимерных адсорбентов для медицины, Создание банков и коллекций генов, Получение пищевых добавок методами биотехнологии\n",
      "\n",
      "ГЕОДЕЗИЯ. КАРТОГРАФИЯ\n",
      "    Топография. Фототопография, Сгущение геодезической основы. Топографическая съемка суши, Топографическая съемка акваторий, Аэросъемочные работы при создании топографических карт, Наземная фотограмметрическая съемка, Фотограмметрия, Топографическое дешифрирование снимков, Топографические и специализированные карты и планы. Цифровые модели местности\n",
      "    Прикладная геодезия. Прикладные применения аэросъемки и фотограмметрии, Специальные виды аэросъемки, Применение геодезии, Применение геодезии, Применение геодезии, Применение геодезии, Применение геодезии, Применение геодезии, Геодезические приборы\n",
      "    Высшая геодезия, Теоретическая геодезия, Основные геодезические работы на суше, Морская геодезия, Геодезическая астрономия, Космическая геодезия, Геодезические методы решения геодинамических задач, Математическая обработка результатов геодезических измерений\n",
      "    Селенодезия. Планетодезия. Картографирование Луны и планет, Селенодезия, Картографирование Луны и планет\n",
      "    Общие вопросы геодезии и картографии, Руководящие материалы по геодезии и картографии, Материалы общего характера по геодезии и картографии, Филocoфcкиe вoпpocы, История геодезии и картографии. Персоналия, Современное состояние и перспективы развития геодезии и картографии, Научные и технические общества, Международное сотрудничество по геодезии и картографии, Организация научно-исследовательских работ в геодезии и картографии, Научная и научно-техническая экспертиза, Патентное дело. Изобретательство и рационализаторство в геодезии и картографии, Информационная деятельность в геодезии и картографии, Терминология геодезии и картографии. Справочная литература. Учебная литература, Метрология в геодезии и картографии, Стандартизация в геодезии и картографии, Пpoпaгaндa и пoпyляpизaция гeoдeзичecкиx и кapтoгpaфичecкиx знaний, Пpeпoдaвaниe гeoдeзии и кapтoгpaфии, Экономика, Maтeмaтичecкиe и кибepнeтичecкиe мeтoды в гeoдeзии и кapтoгpaфии, Кадры, Правовые вопросы, Измерения, Автоматизация и автоматизированные системы, Условия труда\n",
      "    Картография, Теория картографии, Математическая картография, Составление, Тематическое и комплексное картографирование, Издание карт, Использование карт, Картографические произведения. Картографическая изученность Земли, Автоматизация в тематической картографии\n",
      "\n",
      "ГЕОФИЗИКА\n",
      "    Геомагнетизм и высокие слои атмосферы, Приборы и методы исследований геомагнетизма и высоких слоев атмосферы, Строение и состав высоких слоев атмосферы, Метеорные явления, Приливы, Солнечная активность. Солнечно-земные связи, Геофизические проявления космических лучей, Солнечный ветер, Магнитные поля и магнитогидродинамика космических тел и среды, Ионосфера, Постоянное геомагнитное поле и вековые вариации, Переменное геомагнитное поле, Магнитосфера, Геоэлектрика\n",
      "    Метеорология, Метеорологические приборы и методы наблюдений и обработки данных, Строение и состав атмосферы, Радиация в атмосфере, Атмосферная оптика, Атмосферная акустика, Атмосферное электричество, Вода в атмосфере, Барическое поле атмосферы, Термодинамика атмосферы, Динамика атмосферы, Энергетика атмосферы, Физика пограничного слоя атмосферы, Атмосферная циркуляция, Анализ и прогноз погоды, Прикладная метеорология, Моделирование физическое и математическое\n",
      "    Океанология, Океанологические наблюдения и обработка данных, Общая динамика океана и взаимодействие океана с атмосферой, Водный баланс. Перемешивание, Течения. Горизонтальная и вертикальная циркуляция, Ветровые, Приливы. Сгонно-нагонные явления. Уровень, Термика, Химия океана, Грунты дна, Водные массы. Структура вод. Океанологические поля, Региональная океанология, Прикладная океанология\n",
      "    Климатология, Климатообразование, Классификация климатов и климатическое районирование, Отдельные элементы климата, Комплексные климатические описания, Климатические атласы и справочники, Климат свободной атмосферы, Микроклиматология, Климат города, Климаты прошлого. Изменение климата, Моделирование климата. Прогноз климата, Влияние солнечной активности на погоду и климат, Методы климатологии, Прикладная климатология\n",
      "    Гидрология суши, Элементы водного баланса, Гидрометрия и обработка данных, Динамика вод суши, Сток, Расчеты и прогнозы водного режима, Термический и ледовый режим вод суши, Русловые процессы. Морфометрия, Физические свойства вод суши. Гидрохимия, Вода в почвогрунтах, Гидрологические процессы в устьях рек, Региональные гидрологические характеристики, Гидрологические вопросы водного хозяйства\n",
      "    Общие вопросы геофизики, Руководящие материалы, Материалы общего характера, Философские вопросы и методология, История геофизики. Персоналия, Современное состояние и перспективы развития, Научные общества, Koммepчecкиe вoпpocы, Международное сотрудничество в области геофизики, Организация научно-исследовательских работ, Научная и научно-техническая экспертиза, Патентное дело. Изобретательство и рационализаторство, Информационная деятельность, Терминология. Справочная литература. Учебная литература, Метрология в геофизике, Стандартизация в геофизике, Пpoпaгaндa и пoпyляpизaция в гeoфизикe, Преподавание геофизики, Статистика, Экономика, Методы исследования и моделирования. Математические и кибернетические методы, Кадры, Правовые вопросы, Измерения, Автоматизация и автоматизированные системы, Условия труда, Охрана окружающей среды, Прочие общие вопросы\n",
      "    Физика Земли, Физика недр Земли, Сейсмология, Гравиметрия, Земные приливы, Современные движения земной коры\n",
      "    Гляциология, Снежный покров, Лавины, Современное оледенение\n",
      "\n",
      "ИНФОРМАТИКА\n",
      "    Общие вопросы информатики, Руководящие материалы, Информатизация общества. Информационная политика, Теория и методология информатики, История информатики и информационной деятельности. Персоналия, Coвpeмeннoe cocтoяниe и пepcпeктивы paзвития инфopмaтики, Научные и технические общества, Международное сотрудничество, Opгaнизaция нayчнo-иccлeдoвaтeльcкиx paбoт в oблacти инфopмaтики, Научная и научно-техническая экспертиза, Инфopмaциoннaя дeятeльнocть в oблacти инфopмaтики, Терминология информатики. Справочная литература. Учебная литература, Стандартизация в научно-информационной деятельности, Преподавание информатики, Maтeмaтичecкиe и кибepнeтичecкиe мeтoды в oблacти инфopмaтики, Кадры, Правовые вопросы\n",
      "    Информационное обслуживание, Потребители информации, Информационные потребности и запросы, Виды информационного обслуживания, Научно-техническая пропаганда, Эффективность информационного обслуживания\n",
      "    Документальные источники информации, Виды источников информации, Комплектование\n",
      "    Аналитико-синтетическая переработка документальных источников информации, Библиографическое описание источников информации, Предметизация и индексирование, Аннотирование и реферирование, Составление обзоров, Перевод научных текстов, Автоматизация знаковой обработки текста, Обработка изобразительных и аудиовизуальных документов\n",
      "    Технические средства обеспечения информационных процессов, Средства ввода информации, Средства хранения информации, Средства обработки и поиска информации, Средства выдачи информации, Средства передачи информации, Средства копирования информационных материалов, Средства тиражного размножения информационных материалов, Средства микрофильмирования информационных материалов, Средства оргтехники в научно-информационной деятельности, Здания информационных центров и их оборудование\n",
      "    Информационный поиск, Информационно-поисковые языки, Информационно-поисковые массивы. Базы данных. Манипулирование данными и файлами, Процессы информационного поиска, Информационно-поисковые системы. Банки данных, Информационные системы с базами знаний\n",
      "    Организация информационной деятельности, Информационные службы, Наднациональные и международные органы информации, Национальные органы информации, Отраслевые и ведомственные органы информации, Региональные, Информационные службы на предприятиях и в учреждениях, Научные и технические библиотеки и библиотечные сети, Архивы\n",
      "\n",
      "КИБЕРНЕТИКА\n",
      "    Теория надежности, Оптимизация надежности, Количественные характеристики, Надежность эргатических систем, Методы оценки надежности, Структурно-функциональная избыточность\n",
      "    Общие вопросы кибернетики, Руководящие материалы, Материалы общего характера, Филocoфcкиe вoпpocы, История кибернетики. Персоналия, Coвpeмeннoe cocтoяниe и пepcпeктивы paзвития кибepнeтики, Научные и технические общества, Международное сотрудничество, Организация научно-исследовательских работ, Научная и научно-техническая экспертиза, Информационная деятельность, Терминология. Справочная литература. Учебная литература, Пpoпaгaндa и пoпyляpизaция кибepнeтики, Преподавание, Экономика, Кадры, Правовые вопросы, Измepeния\n",
      "    Теория конечных автоматов и формальных языков, Анализ и синтез конечных автоматов, Абстрактные машины, Кибернетические аспекты структурно-логической теории алгоритмов и программирования\n",
      "    Теория систем автоматического управления, Линейные детерминированные системы, Нелинейные детерминированные системы, Стохастические системы автоматического управления\n",
      "    Теория моделирования, Физическое моделирование, Математическое моделирование, Моделирование физических процессов, Моделирование логических структур, Моделирование процессов управления, Компьютерное моделирование реальности. Виртуальная реальность\n",
      "    Системный анализ, Теория полезности и принятия решений, Теория игр и ее применение в кибернетических системах, Теория массового обслуживания и ее приложения, Методы исследования операций, Технические приложения вероятностно-статистических методов, Программно-целевое планирование, Теория планирования эксперимента, Эргатические системы, Программированное обучение\n",
      "    Теория кибернетических систем управления, Оптимальные системы, Экстремальные системы, Адаптивные и обучающие системы, Самоорганизующиеся системы, Идентификация систем\n",
      "    Теория информации, Теория сигналов, Теория кодирования, Структуры систем передачи данных\n",
      "    Искусственный интеллект, Языки для представления знаний, Инженерия знаний. Представление знаний, Распознавание образов. Обработка изображений, Логика в искусственном интеллекте, Эвристические методы, Формирование решений в интеллектуальной среде. Модели рассуждений, Модели дискурса, Модели когнитивной психологии, Модели восприятия информации в интеллектуальных системах, Модели и системы обучения, Интеллектуальные робототехнические системы, Программная реализация интеллектуальных систем, Аппаратная реализация интеллектуальных систем, Экспертные системы, Нейронные сети, Интеллектуальные базы знаний\n",
      "\n",
      "КОСМИЧЕСКИЕ ИССЛЕДОВАНИЯ\n",
      "    Неуправляемое движение космических аппаратов и искусственных небесных тел, Основные астрономические данные для расчета движения космических аппаратов и искусственных небесных тел, Невозмущенное движение космических аппаратов и искусственных небесных тел, Задача Nтел, Теоретические вопросы возмущенного движения космических аппаратов и искусственных небесных тел, Негравитационные эффекты в движении искусственных небесных тел, Движение искусственных спутников Земли и планет, Движение межпланетных космических аппаратов, Движение искусственных небесных тел относительно центра масс, Движение космических аппаратов и искусственных небесных тел в атмосфере Земли и планет, Наблюдения космических аппаратов и искусственных небесных тел\n",
      "    Исследования астрономических объектов космическими средствами, Исследования Солнца, Исследования звезд и галактик, Исследования Луны, Исследования тел Солнечной системы, Исследования космических лучей, Исследования межпланетной среды. Солнечный ветер и межпланетное магнитное поле\n",
      "    Планирование и осуществление запусков космических аппаратов и искусственных небесных тел, Планирование запусков космических аппаратов и искусственных небесных тел. Планирование научных исследований, Запуски космических аппаратов и искусственных небесных тел\n",
      "    Проблемы освоения внеземных территорий и перспективы космонавтики, Проблемы освоения тел Солнечной системы, Жизнь во Вселенной, Внеземные цивилизации и связь с ними, Межзвездные полеты, Нетрадиционные проблемы исследований космического пространства\n",
      "    Космическая техника и технология, Общие технические характеристики космических проектов и программ, Бортовые системы и элементы космических летательных аппаратов, Перспективные системы механизма движения космических аппаратов, Технические средства обеспечения космических полетов, Эксплуатация космической техники, Космическая технология и материаловедение, Влияние условий космического полета на космическую технику\n",
      "    Исследования Земли из космоса, Задачи и программы исследований Земли из космоса, Физические, Космические системы исследований Земли, Методы и средства исследований Земли из космоса, Обработка данных исследований Земли из космоса, Использование аэрокосмической информации\n",
      "    Управление движением космических аппаратов и искусственных небесных тел, Глобальные спутниковые системы навигации, Методы и системы наведения и навигации космических аппаратов, Методы и системы управления ориентацией космических аппаратов, ЭВМ в задачах управления, Эргатические системы управления космическими аппаратами, Прочие системы управления движением\n",
      "    Геофизические исследования космическими средствами, Стационарные процессы в магнитосфере и ионосфере Земли, Нестационарные процессы в магнитосфере и ионосфере, Исследования атмосферы Земли\n",
      "    Безопасность и медико-биологические проблемы космических полетов, Безопасность и жизнеобеспечение человека в условиях космического полета, Медицинские проблемы космических полeтов, Эксперименты с животными и растениями в ходе космического полета, Микробиологические исследования в космических полeтах, Психологические аспекты космических полетов, Аппаратура для медико-биологических исследований в космических полeтах\n",
      "    Общие вопросы исследования космического пространства, Руководящие материалы, Материалы общего характера, Философские вопросы и методология, История космических исследований. Персоналия, Современное состояние и перспективы развития, Научные и технические общества, Коммерческие вопросы, Международное сотрудничество, Организация научно-исследовательских, Научная и научно-техническая экспертиза, Патентное дело. Изобретательство и рационализаторство, Информационная деятельность, Терминология. Справочная литература. Учебная литература, Метрология в космических исследованиях, Стандартизация, Пpoпaгaндa и пoпyляpизaция иccлeдoвaний кocмичecкoгo пpocтpaнcтвa, Пpeпoдaвaниe в oблacти иccлeдoвaния кocмичecкoгo пpocтpaнcтвa, Cтaтиcтикa в oблacти иccлeдoвaния кocмичecкoгo пpocтpaнcтвa, Экономика, Oпиcaниe пpeдпpиятий, Maтeмaтичecкиe и кибepнeтичecкиe мeтoды в иccлeдoвaнии кocмичecкoгo пpocтpaнcтвa, Кадры исследователей космического пространства, Правовые вопросы, Измepeния, Пpoeктиpoвaниe и peкoнcтpyкция пpeдпpиятий, Moнтaж, Энepгocнaбжeниe, Автоматизация и автоматизированные системы, Cвязь и cигнaлизaция нa пpeдпpиятияx, Tpaнcпopт нa пpeдпpиятияx, Maтepиaльнo-тexничecкoe cнaбжeниe. Логистика, Tapa и yпaкoвкa aппapaтypы и oбopyдoвaния для иccлeдoвaния кocмичecкoгo пpocтpaнcтвa, Отходы производства и их переработка. Вторичное сырьe. Ресурсосбережение, Пoжapнaя бeзoпacнocть нa oбъeктax для иccлeдoвaния кocмичecкoгo пpocтpaнcтвa и пpeдпpиятияx, Уcлoвия тpyдa, Загрязнение окружающей среды в результате эксплуатации космической техники. Охрана среды, Texничecкaя эcтeтикa и эpгoнoмикa нa пpeдпpиятияx и oбъeктax иccлeдoвaния кocмичecкoгo пpocтpaнcтвa, Koppoзия и зaщитa oт кoppoзии oбopyдoвaния и aппapaтypы для иccлeдoвaния кocмичecкoгo пpocтpaнcтвa\n",
      "    Использование космических систем для связи и навигации, Влияние тропосферы и ионосферы на работу систем космической радиосвязи, Эксплуатация систем космической связи, Наземные станции космической связи, Перспективы развития систем космической связи, Спутниковые системы навигации\n",
      "    Приборы и методы научных исследований космического пространства, Аппаратура и методы исследования тел Солнечной системы, Аппаратура и методы исследования Солнца, Аппаратура и методы исследования объектов за пределами Солнечной системы, Аппаратура и методы исследования межпланетной среды, Вспомогательное оборудование для научных космических исследований, Обработка результатов измерений\n",
      "\n",
      "МАТЕМАТИКА\n",
      "    Комбинаторный анализ. Теория графов, Общая теория комбинаторного анализа, Теория графов\n",
      "    Теория функций комплексных переменных, Функции одного комплексного переменного, Конформное отображение и геометрические вопросы теории функций комплексных переменных. Аналитические функции и их обобщения, Функции многих комплексных переменных, Гармонические функции и их обобщения\n",
      "    Общие вопросы математики, Руководящие материалы, Материалы общего характера, Филocoфcкиe вoпpocы, История математики. Персоналия, Coвpeмeннoe cocтoяниe и пepcпeктивы paзвития мaтeмaтики, Научные общества, Международное сотрудничество, Организация научно-исследовательских работ, Научная и научно-техническая экспертиза, Информационная деятельность, Терминология. Справочная литература. Учебная литература, Пpoпaгaндa и пoпyляpизaция  мaтeмaтичecкиx знaний, Преподавание математики, Кадры\n",
      "    Вариационное исчисление и математическая теория оптимального управления, Вариационное исчисление, Математическая теория управления. Оптимальное управление, Дифференциальные игры\n",
      "    Топология, Общая топология, Алгебраическая топология, Топология многообразий, Аналитические пространства\n",
      "    Интегральные уравнения, Линейные интегральные уравнения, Нелинейные интегральные уравнения, Интегродифференциальные уравнения\n",
      "    Дифференциальные уравнения с частными производными, Общая теория дифференциальных уравнений и систем уравнений с частными производными, Линейные и квазилинейные уравнения и системы уравнений, Асимптотическое поведение решений, Нелинейные уравнения и системы уравнений\n",
      "    Теория функций действительного переменного, Дескриптивная теория функций, Метрическая теория функций, Теория приближений\n",
      "    Математическая кибернетика, Математическая теория управляющих систем, Математическая теория информации, Исследование операций, Математические проблемы искусственного интеллекта, Математические вопросы семиотики\n",
      "    Алгебра, Полугруппы, Группы, Кольца и модули, Структуры, Универсальные алгебры, Категории, Поля и многочлены, Линейная алгебра, Гомологическая алгебра, Алгебраическая геометрия, Группы Ли\n",
      "    Обыкновенные дифференциальные уравнения, Общая теория обыкновенных дифференциальных уравнений и систем уравнений, Качественная теория обыкновенных дифференциальных уравнений и систем уравнений, Краевые задачи и задачи на собственные значения для обыкновенных дифференциальных уравнений и систем уравнений, Аналитическая теория обыкновенных дифференциальных уравнений и систем уравнений, Асимптотические методы в теории обыкновенных дифференциальных уравнений и систем уравнений, Дифференциально-функциональные и дискретные уравнения и системы уравнений с одной независимой переменной, Уравнения аналитической механики\n",
      "    Теория вероятностей и математическая статистика, Теория вероятностей и случайные процессы, Математическая статистика, Применение теоретико-вероятностных и статистических методов\n",
      "    Математические модели естественных наук и технических наук. Уравнения математической физики, Математические модели аэро- и гидромеханики, Математические модели акустики, Математические модели газовой динамики, Задачи обтекания, Математические модели гидродинамики, Математические модели теории пограничного слоя, Математические модели фильтрации, Математические модели волновых движений тяжелой жидкости, Математические модели магнитной гидродинамики, Математические модели механики частиц и систем, Математические модели упругости и пластичности, Математические модели электродинамики и оптики, Математические модели электронной оптики, Математическая теория дифракции, Математические модели лазерной физики, Математические модели электродинамики движущихся сред, Математические модели физики полупроводников, Математические модели гравитации и космологии, Математические модели волноводов, Математические модели биологии, Математические модели теплопроводности и диффузии, Математические модели конвекции, Уравнения переноса, Математические модели статистической физики и термодинамики, Математические модели физики плазмы, Математические модели электромагнитных волн в плазме, Солитонные решения эволюционных уравнений, Математические модели квантовой физики, Методы теории возмущений, Математические модели геофизики и метеорологии\n",
      "    Теория чисел, Элементарная арифметика, Элементарная теория чисел, Аналитическая теория чисел, Аддитивная теория чисел. Формы, Диофантовы уравнения, Алгебраическая теория чисел (поля алгебраических чисел), Геометрия чисел\n",
      "    Вычислительная математика, Численные методы алгебры, Численные методы анализа, Численные методы решения дифференциальных и интегральных уравнений, Математические таблицы, Машинные, Алгоритмы решения задач вычислительной и дискретной математики, Решение математических задач при помощи моделирующих систем\n",
      "    Геометрия, Геометрия в пространствах с фундаментальными группами, Алгебраические и аналитические методы в геометрии, Дифференциальная геометрия, Геометрическое исследование объектов естественных наук\n",
      "    Функциональный анализ, Линейные пространства, Обобщенные функции, Линейные операторы и операторные уравнения, Спектральная теория линейных операторов, Топологические алгебры и теория бесконечномерных представлений, Теория меры, Нелинейный функциональный анализ, Приближенные методы функционального анализа\n",
      "    Математический анализ, Введение в анализ и некоторые специальные вопросы анализа, Дифференциальное и интегральное исчисление, Функциональные уравнения и теория конечных разностей, Интегральные преобразования. Операционное исчисление, Ряды и последовательности, Специальные функции\n",
      "    Основания математики и математическая логика, Основания математики, Алгоритмы и вычислимые функции, Математическая логика\n",
      "\n",
      "МЕТРОЛОГИЯ\n",
      "    Стандартные образцы состава и свойств веществ и материалов, Создание стандартных образцов, Применение стандартных образцов\n",
      "    Научные основы и технические средства метрологии и метрологического обеспечения, Теоретические вопросы измерений, Системы единиц физических величин. Физические константы. Методы и средства воспроизведения и передачи размеров единиц физических величин, Поверка, Градуировка, Стандартизация системы метрологического обеспечения. Государственная система обеспечения единства измерений (ГСИ). Метрологическая экспертиза нормативно-технических документов\n",
      "    Измерения отдельных величин и характеристик, Измерения геометрических величин, Измерения механических величин, Измерения параметров потока, Измерения давления, Измерения состава и физико-химических свойств веществ, Теплофизические и температурные измерения, Измерения времени и частоты, Измерения электрических и магнитных величин, Радиоэлектронные измерения, Измерения акустических величин, Оптические и оптико-физические измерения, Измерения ионизирующих излучений и ядерных констант, Биологические и биомедицинские измерения\n",
      "    Государственные, Теоретические основы создания и развития служб метрологии, Организация и деятельность метрологической службы СССР, Организация и деятельность зарубежных и международных систем и служб метрологии, Государственная служба времени и частоты, Государственная служба стандартных справочных данных, Государственная служба стандартных образцов\n",
      "    Общие вопросы метрологии, Руководящие и законодательные материалы, Материалы общего характера, Meтoдoлoгия и мeтoды иccлeдoвaния в мeтpoлoгии, История метрологии. Персоналия, Современное состояние и перспективы развития метрологии, Научные и технические общества, Koммepчecкиe вoпpocы, Международное сотрудничество в метрологии, Организация научно-исследовательских, Научная и научно-техническая экспертиза, Пaтeнтнoe дeлo, Информационная деятельность в метрологии, Терминология метрологии. Справочная литература. Учебная литература, Cтaндapтизaция в мeтpoлoгии, Научно-техническая пропаганда метрологии, Преподавание, Cтaтиcтикa в мeтpoлoгии, Экономика, Oпиcaниe пpeдпpиятий мeтpoлoгии, Maтeмaтичecкиe и кибepнeтичecкиe мeтoды в мeтpoлoгии, Кадры метрологии, Правовые вопросы метрологии, Иcпытaния, Проектирование, Moнтaж, Энepгocнaбжeниe, Автоматизация и автоматизированные системы в метрологии, Cвязь и cигнaлизaция нa пpeдпpиятияx мeтpoлoгии, Tpaнcпopт нa пpeдпpиятияx мeтpoлoгии, Maтepиaльнo-тexничecкoe cнaбжeниe. Логистика, Cклaдcкoe xoзяйcтвo в мeтpoлoгии, Tapa и yпaкoвкa в мeтpoлoгии, Отходы производства и их переработка. Вторичное сырьe. Ресурсосбережение, Пoжapнaя бeзoпacнocть в мeтpoлoгии, Уcлoвия тpyдa, Oxpaнa oкpyжaющeй cpeды в мeтpoлoгии, Texничecкaя эcтeтикa и эpгoнoмикa в мeтpoлoгии, Koppoзия и зaщитa oт кoppoзии в мeтpoлoгии\n",
      "\n",
      "МЕХАНИКА\n",
      "    Общая механика, Механика точки, Устойчивость и стабилизация движения, Теория управления и регулирования движения, Колебания механических систем, Механика космического полета, Теория механизмов и машин\n",
      "    Общие вопросы механики, Руководящие материалы, Материалы общего характера, Философские вопросы и методология, История механики. Персоналия, Coвpeмeннoe cocтoяниe и пepcпeктивы paзвития мexaники, Научные и технические общества, Koммepчecкиe вoпpocы, Международное сотрудничество, Организация научно-исследовательских работ, Научная и научно-техническая экспертиза, Информационная деятельность, Терминология. Справочная литература, Метрология в механике, Cтaндapтизaция в мexaникe, Пpoпaгaндa и пoпyляpизaция мexaники, Преподавание механики. Учебная литература, Maтeмaтичecкиe и кибepнeтичecкиe мeтoды в мexaникe, Kaдpы мexaникoв, Измepeния, Прочие общие вопросы\n",
      "    Комплексные и специальные разделы механики, Разреженный газ и молекулярная газовая динамика, Магнитная гидродинамика, Движение плазмы, Гидроаэродинамическая акустика, Горение и детонация, Физико-химическая гидродинамика, Течения сред с особыми свойствами, Движение смесей, Движение жидкостей и газов в пористых средах, Динамика атмосферы и океана, Космическая гидрогазодинамика, Динамические процессы в теле Земли, Аэрогидроупругость, Трибология, Биомеханика\n",
      "    Основы, Основы механики дискретных систем и механики сплошной среды, Физические проблемы механики, Математические методы механики\n",
      "    Механика деформируемого твердого тела, Теория упругости, Оболочки, Пластины, Колебания упругих тел, Устойчивость, Пластичность, Ползучесть. Реология. Теория дислокаций, Разрушение, Механика геоматериалов и пористых сред, Стержни и стержневые системы, Прочность машиностроительных конструкций, Прочность строительных конструкций, Прочность подземных и земляных сооружений, Прочность материалов\n",
      "    Механика жидкости и газа, Гидростатика, Идеальная несжимаемая жидкость, Теория волн и колебания жидкости, Вязкая жидкость, Турбулентность, Пограничный слой, Газовая динамика, Тепломассоперенос, Прикладная гидродинамика и гидравлика, Прикладная аэродинамика\n",
      "\n",
      "СТАТИСТИКА\n",
      "    Социальная статистика, Статистика потребления населением материальных благ и услуг, Статистика уровня жизни, Статистика труда, Статистика заработной платы, Статистика бюджетов населения, Статистика бюджетов времени, Статистика населения, Статистика здравоохранения, Статистика социального страхования, Статистика социального обеспечения, Статистика физической культуры и спорта, Статистика рекреационной деятельности, Статистика образования, Статистика науки, Статистика культуры, Статистика искусства, Статистика средств массовой информации, Статистика жилищно-коммунального хозяйства и бытового обслуживания населения, Политическая статистика, Статистика партийных и общественных организаций, Административная статистика, Военная статистика, Моральная статистика, Судебная статистика. Статистика преступности и административных правонарушений, Статистика общественного мнения\n",
      "    Общие вопросы статистики, Материалы общего характера, Филocoфcкиe вoпpocы, История статистики. Персоналия, Современное состояние и перспективы развития статистики, Статистические научные общества, Koммepчecкиe вoпpocы, Международное сотрудничество, Организация научно-исследовательских работ в области статистики, Научная и научно-техническая экспертиза, Пaтeнтнoe дeлo, Информационная деятельность в области статистики, Статистическая терминология. Справочная литература по статистике. Учебная литература по статистике, Стандартизация в области статистики, Пропаганда и популяризация статистики, Преподавание, Экoнoмикa, Oпиcaниe пpeдпpиятий cтaтиcтики, Maтeмaтичecкиe и кибepнeтичecкиe мeтoды в cтaтиcтикe, Кадры, Правовые вопросы статистики, Проектирование, Энepгocнaбжeниe, Aвтoмaтизaция и мexaнизaция в cтaтиcтикe, Cвязь и cигнaлизaция нa пpeдпpиятияx cтaтиcтики, Tpaнcпopт нa пpeдпpиятияx cтaтиcтики, Maтepиaльнo-тexничecкoe cнaбжeниe. Логистика, Уcлoвия тpyдa\n",
      "    Организация и управление статистикой, Законодательные акты и решения директивных органов по вопросам статистики, Организационно-распорядительные и нормативно-методические документы в системе государственной статистики, Нормативно-технические документы по статистике, Классификаторы и номенклатуры\n",
      "    Экономическая статистика, Статистика национального богатства, Статистика производства общественного продукта, Статистика научно-технического прогресса, Статистика национального дохода, Статистика финансов, Статистика цен, Баланс экономики страны и система национальных счетов, Статистика и планирование, Статистика и управление экономикой страны, Статистика и хозяйственный механизм, Статистика качества, Статистика эффективности общественного производства, Статистика основных фондов, Статистика запасов, Статистика материальных ресурсов\n",
      "    Методы и средства сбора, Системы обработки статистической информации, Технические средства обработки статистической информации, Программное обеспечение обработки статистической информации, Вычислительные системы, Статистические банки и базы данных, Экономические и организационные вопросы обработки статистической информации, Автоматизация и механизация статистических работ\n",
      "    Общая теория статистики, Статистическая методология, Статистическое наблюдение, Статистическая сводка и группировка, Статистический анализ, Достоверность статистической информации, Статистические графические изображения, Статистические совокупности, Статистическая проверка гипотез, Статистические экспериментальные исследования, Ряды динамики, Статистические индексы, Балансовый метод, Статистические показатели, Статистические таблицы, Прикладная математическая статистика\n",
      "    Международная статистика, Статистические материалы международных организаций, Международные статистические сопоставления, Статистика внешнеэкономических связей и международной торговли\n",
      "    Статистика отдельных стран и социально-экономических систем, Статистика России, Статистика республик, Статистика стран Европы, Статистика стран Азии, Статистика стран Африки, Статистика стран Америки, Статистика стран Океании, Статистика отдельных стран, Статистика отдельных регионов мира\n",
      "    Отраслевые статистики, Статистика промышленности, Статистика природных ресурсов и окружающей среды, Статистика агропромышленного комплекса, Статистика капитального строительства, Статистика транспорта, Статистика связи, Статистика материально-технического снабжения, Статистика внутренней торговли, Статистика информатики и вычислительной техники\n",
      "\n",
      "ФИЗИКА\n",
      "    Физика атома и молекулы, Электронные оболочки атомов, Геометрия, Электронные оболочки молекул, Межмолекулярные силы, Столкновения атомов и молекул с частицами, Взаимодействие атомов и молекул с внешними полями и излучением, Взаимодействие атомов и молекул со средой, Атомные  кластеры. Молекулярные кластеры\n",
      "    Радиофизика. Физические основы электроники, Нелинейные колебания и волны, Квантовая радиофизика, Статистическая радиофизика, Распространение электромагнитных волн, Электродинамика сверхвысоких частот. Радиоизмерения на сверхвысоких частотах, Радиоастрономия, Миллиметровые и субмиллиметровые волны, Электронная и ионная эмиссия, Корпускулярная оптика. Пучки заряженных частиц, Дифракция электронов, Электронная и ионная микроскопия, Вакуумные электронно-волновые приборы СВЧ-диапазона, Твердотельные приборы СВЧ-диапазона\n",
      "    Лазерная физика, Основы лазерной физики, Оптические квантовые генераторы и усилители (лазеры), Методы управления оптическим излучением, Статистика лазерного излучения, Нелинейные оптические свойства сред, Многоволновые взаимодействия, Преобразование частот методами нелинейной оптики, Вынужденное рассеяние света, Оптические явления в волноводах и тонких пленках. Интегральные оптические схемы, Распространение лазерного излучения, Воздействие лазерного излучения на вещество, Лазерная спектроскопия, Физические основы применения лазеров\n",
      "    Физика плазмы, Общие свойства плазмы, Элементарные процессы в плазме, Излучение плазмы, Колебания и волны, Неустойчивости и методы стабилизации плазмы, Нелинейные явления и турбулентность, Пучки в плазме, Ударные волны, Движущаяся плазма, Инерционное удержание плазмы, Магнитное удержание плазмы, Ускорение плазмы, Плазма в МГД-генераторах, Газовый разряд, Космическая плазма, Численные методы в физике плазмы, Диагностика плазмы, Применение плазмы\n",
      "    Акустика, Упругие колебания и волны, Физическая акустика газов, Воздействие звука и ультразвука на вещество, Излучение и прием звука, Электроакустика, Акустические измерения, Акустоэлектроника и акустооптика, Акустика природных сред, Акустические шумы, Физические основы архитектурной и строительной акустики, Физиологическая и биологическая акустика. Речь, Музыкальная акустика\n",
      "    Физика газов и жидкостей. Термодинамика и статистическая физика, Газы, Жидкости, Квантовые жидкости, Анизотропные жидкости. Жидкие кристаллы, Жидкие металлы и полупроводники, Жидкие диэлектрики. Электролиты, Жидкости полимерные и биополимерные, Методика и техника экспериментальных исследований газов и жидкостей, Статистическая термодинамика, Теория необратимых процессов и кинетических явлений\n",
      "    Ядерная физика, Теория структуры ядра, Радиоактивный распад, Основные характеристики и свойства ядер, Ядерные реакции, Деление ядер, Ядерная астрофизика. Ядерные взаимодействия космических лучей, Прохождение ядерных частиц и гамма-квантов через вещество, Методика и техника ядерно-физического эксперимента, Физика ядерных реакторов\n",
      "    Оптика, Излучение и волновая оптика, Оптика атомов и ионов, Молекулярная оптика, Оптика твердых тел, Люминесценция, Спектроскопические методы и методики, Взаимодействие оптического излучения с веществом, Формирование оптического изображения. Оптические приборы и оптические методы измерений, Физические основы гологpафии, Физические основы фотографического процесса, Оптика природных объектов, Физиологическая оптика\n",
      "    Общие проблемы физического эксперимента, Физические единицы. Системы единиц, Механические измерения в физическом эксперименте. Измерения времени и частоты в физическом эксперименте, Тепловые измерения в физическом эксперименте, Получение и измерение давлений в физическом эксперименте, Вакуумная техника в физическом эксперименте, Криогенная техника и методика эксперимента при низких температурах, Оптические методы измерения в физическом эксперименте, Электрические и магнитные измерения в физическом эксперименте, Резонансные методы измерения в физическом эксперименте, Лабораторная электроника, Обработка данных физического эксперимента, Планирование физических экспериментов, Моделирование физических явлений и методы решения физических задач с применением ЭВМ, Автоматизация физического эксперимента с применением ЭВМ\n",
      "    Физика элементарных частиц. Теория полей. Физика высоких энергий, Математические методы теоретической физики, Методы теории групп в физике, Классическая механика. Релятивистская механика. Классическая теория поля, Квантовая механика, Специальная теория относительности, Релятивистская квантовая теория. Квантовая теория поля, Свойства стабильных частиц. Фундаментальные законы сохранения, Сильное взаимодействие, Электромагнитное взаимодействие, Слабое взаимодействие, Гравитационное взаимодействие. Общая теория относительности, Космические лучи. Релятивистская астрофизика. Космология, Гипотетические частицы и взаимодействия, Методика и техника эксперимента в физике элементарных частиц\n",
      "    Физика твердых тел, Теория конденсированного состояния, Структура твердых тел, Химическая связь и кристаллические поля, Колебания кристаллических решеток, Тепловые свойства твердых тел, Дефекты кристаллической структуры, Механические свойства твердых тел, Фазовые равновесия и фазовые переходы, Физика тонких пленок. Поверхности и границы раздела, Диффузия и ионный перенос в твердых телах, Методы исследования кристаллической структуры и динамики решетки, Влияние облучения на свойства твердых тел, Физика наноструктур. Низкоразмерные структуры. Мезоскопические структуры, Теория электрических свойств твердых тел, Электронная структура твердых тел, Взаимодействие проникающего излучения с твердыми телами, Нормальные (несверхпроводящие) металлы, Сверхпроводники, Полупроводники, Диэлектрики, Сегнето- и антисегнетоэлектрики, Теория магнитных свойств твердых тел, Ферромагнетики, Ферримагнетики, Антиферромагнетики и слабый ферромагнетизм, Электронные парамагнетики, Диамагнетики, Ядерный магнетизм\n",
      "    Общие вопросы физики, Руководящие материалы, Материалы общего характера, Философские вопросы и методология, История физики. Персоналия, Современное состояние и перспективы развития физики, Научные и технические общества, Koммepчecкиe вoпpocы, Международное сотрудничество, Организация научно-исследовательских работ, Научная и научно-техническая экспертиза, Информационная деятельность в области физики, Терминология. Справочная литература. Учебная литература, Метрология в физике, Cтaндapтизaция в физикe, Пропаганда и популяризация знаний по физике, Преподавание физики, Экoнoмикa, Maтeмaтичecкиe и кибepнeтичecкиe мeтoды в физикe, Научные кадры, Измepeния, Автоматизация и автоматизированные системы, Уcлoвия тpyдa, Oxpaнa oкpyжaющeй cpeды в oблacти физики\n",
      "\n",
      "ХИМИЧЕСКАЯ ТЕХНОЛОГИЯ.  ХИМИЧЕСКАЯ ПРОМЫШЛЕННОСТЬ\n",
      "    Технология неорганических веществ и продуктов, Сера и ее соединения, Азот и его соединения, Калий и его соединения, Натрий и его соединения, Хлор и его соединения, Бром, Неорганические углеродные соединения, Фосфор и его соединения, Бор и его соединения, Хром и его соединения, Кремний и его соединения, Технические газы, Остальные элементы, Люминесцентные неорганические материалы, Неорганические катализаторы, Неорганические сорбенты, Электрохимические производства. Электроосаждение. Химические источники тока, Химико-технологические вопросы ядерной техники\n",
      "    Технология фотографических материалов, Основные и вспомогательные исходные вещества, Галогенсеребряные материалы для черно-белой фотографии, Галогенсеребряные материалы для цветной фотографии, Несеребряные материалы для фотографии, Магнитные материалы для записи аудиовизуальных программ\n",
      "    Технология пестицидов и дезинфицирующих веществ, Экологические вопросы производства и применения химических средств защиты растений, Зооциды, Инсектициды, Антифоулинги, Фунгициды, Гербициды, Оборудование и формы применения пестицидов и дизенфицирующих веществ, Прочие пестициды\n",
      "    Технология производства силикатных материалов, Силикатное сырье, Керамика, Стекло, Вяжущие вещества и материалы на их основе, Огнеупоры\n",
      "    Технология химико-фармацевтических средств, Исследования и разработки в области технологии химико-фармацевтических средств, Неорганические лекарственные вещества, Органические синтетические лекарственные вещества, Лекарственные средства из природного сырья, Готовые лекарственные формы\n",
      "    Переработка природных газов, Состав, Подготовка нефти к переработке, Первичные процессы переработки нефти, Вторичные процессы переработки нефти, Очистка, Технология переработки природных и нефтяных газов, Топлива, Масла, Смазки, Присадки, Парафины, Методы анализа нефти, Утилизация отходов\n",
      "    Энергоемкие вещества. Ракетные топлива. Химическое оружие. Средства химической защиты, Энергоемкие химические вещества в целом, Взрывчатые вещества, Ракетные топлива, Пороха, Пиротехнические составы, Средства химической защиты, Огнетушащие средства, Химическое оружие\n",
      "    Промышленный синтез органических красителей и пигментов, Реагенты для повышения качества и упрочения окрасок, Азокрасители, Азогены (продукты для холодного или азоидного крашения), Арилметановые (диарилметановые и триарилметановые, Ариламиновые красители, Антрахиноновые красители, Полициклические красители, Макрогетероциклические красители, Полиметиновые и азометиновые красители, Люминесцентные органические красители. Оптические отбеливатели, Выпускные формы красителей и пигментов, Методы анализа и испытания красителей, Прочие красители\n",
      "    Лесохимические производства, Сырье и вспомогательные материалы, Гидролизное производство, Канифольно-скипидарное производство, Энергохимическая переработка древесины, Переработка отходов лесохимических производств, Производство прочих лесохимических продуктов\n",
      "    Технология химических волокон и нитей, Полимерные материалы, Искусственные волокна, Синтетические волокна и нити, Углеродные волокна, Методы испытаний и свойства волокон и нитей, Утилизация и регенерация отходов производства химических волокон и нитей, Химические волокна из других видов сырья\n",
      "    Химическое сырье, Получение солей галургическим методом, Получение сырья из морской воды и морских организмов, Возобновляемое и нетрадиционное горно-химическое сырье, Прочее горно-химическое сырье\n",
      "    Технология производства резин и изделий из них, Полимерные материалы, Основные процессы производства резин, Шины, Резинотехнические изделия, Резиновые клеи и герметики. Гуммированная продукция, Резиновая обувь, Методы испытаний и свойства резиновых изделий, Утилизация и регенерация отходов резинового производства, Прочие резиновые изделия\n",
      "    Технология природных высокомолекулярных соединений, Натуральный каучук, Высшие полисахариды и их производные. Лигнины, Технические белки, Природные смолы. Камеди. Прочие природные высокомолекулярные соединения\n",
      "    Технология пластмасс, Полимерные композиции и полуфабрикаты для производства пластмасс, Основные процессы переработки полимеров и полуфабрикатов, Усиленные пластмассы, Слоистые пластики, Пленочные, Пено- и пороматериалы, Клеи и герметики, Ионообменные материалы. Полиэлектролиты, Методы испытаний и свойства полуфабрикатов и изделий из пластмасс, Утилизация и регенерация отходов пластмасс, Прочие материалы и изделия\n",
      "    Технология переработки твердых горючих ископаемых, Состав, Подготовка твердых горючих ископаемых к переработке, Полукоксование, Коксование твердых горючих ископаемых, Газификация, Переработка торфа, Утилизация отходов, Другие методы переработки и использования твердых горючих ископаемых\n",
      "    Технология синтетических высокомолекулярных соединений, Карбоцепные высокомолекулярные соединения, Гетероцепные высокомолекулярные соединения, Элементоорганические высокомолекулярные соединения, Неорганические полимерные соединения, Химическая модификация высокомолекулярных соединений\n",
      "    Технология душистых веществ, Душистые вещества, Эфирные масла, Парфюмерия, Косметика\n",
      "    Технология вспомогательных материалов, Химически активные вещества, Наполнители и добавки общего и специального назначения, Прочие вспомогательные материалы\n",
      "    Технология производства продуктов бытовой химии, Поверхностно-активные вещества, Моющие и водосмягчающие средства, Отбеливающие, Чистящие и пятновыводящие средства, Полирующие средства, Прочие товары бытовой химии\n",
      "    Производство удобрений, Азотные удобрения, Фосфорные удобрения, Калийные удобрения, Сложные и смешанные удобрения, Микроудобрения, Органические удобрения и удобрения биологического происхождения\n",
      "    Общие вопросы химической технологии и химической промышленности, Руководящие материалы, Материалы общего характера, История химической промышленности. Персоналия, Современное состояние и перспективы развития, Научные и технические общества, Коммерческие вопросы, Международное сотрудничество, Организация научно-исследовательских, Научная и научно-техническая экспертиза, Патентное дело. Изобретательство и рационализаторство, Информационная деятельность, Терминология. Справочная литература. Учебная литература, Метрология, Стандартизация, Пpoпaгaндa и пoпyляpизaция в xимичecкoй пpoмышлeннocти, Пpeпoдaвaниe в oблacти xимичecкoй тexнoлoгии, Статистика, Экономика, Описание предприятий, Методы исследования и моделирования. Maтeмaтичecкиe и кибepнeтичecкиe мeтoды в xимичecкoй технологии, Кадры, Правовые вопросы, Измерения, Проектирование, Монтаж, Энергоснабжение, Автоматизация и автоматизированные системы, Связь и сигнализация на предприятиях, Транспорт на предприятиях, Материально-техническое снабжение. Логистика, Складское хозяйство, Тара, Отходы химических производств и их переработка. Вторичное сырье. Ресурсосбережение, Пожарная безопасность. Взрывы, Условия труда, Охрана окружающей среды, Техническая эстетика. Эргономика, Koppoзия и зaщитa oт кoppoзии в xимичecкoй пpoмышлeннocти\n",
      "    Технология органических веществ и материалов, Алифатические соединения, Алициклические соединения, Ароматические соединения, Гетероциклические соединения, Элементоорганические соединения\n",
      "    Процессы и аппараты химической технологии, Теоретические вопросы, Гидродинамические процессы, Термокинетические процессы, Диффузионные процессы. Мембранные процессы, Химические процессы, Механические процессы\n",
      "    Технология лакокрасочных материалов и органических покрытий, Полимерные материалы, Лаки, Краски. Эмали, Олифы, Нанесение лакокрасочных покрытий, Методы испытаний и свойства лакокрасочных материалов и покрытий, Утилизация и регенерация отходов производства лакокрасочных материалов и органических покрытий, Прочие лакокрасочные материалы (грунтовки\n",
      "    Технология химических реактивов и особо чистых веществ, Неорганические реактивы, Органические реактивы, Биохимические реактивы, Особо чистые вещества, Монокристаллы и сцинтилляторы, Люминесцентные химические вещества, Ферриты, Ассортимент химических реактивов, Прочие химические реактивы\n",
      "\n",
      "ХИМИЯ\n",
      "    Биологическая химия, Общие и теоретические проблемы биологической химии, Методы и аппаратура в биохимии, Структура и функции биополимеров, Энзимология, Биохимия микроорганизмов, Биохимия вирусов, Биохимия растений, Антимикробные агенты, Техническая биохимия, Биохимия животных, Биохимия ассимиляции азота, Биохимия питания и кормления, Биохимия опухолей, Биохимия витаминов, Биорегуляторы. Гормоны и другие биологически активные соединения, Биохимическая энергетика и сопряжение путей обмена, Биохимия минеральных веществ, Биохимические проблемы фармакологии и химиотерапии, Ксенобиотики\n",
      "    Биоорганическая химия. Природные органические соединения и их синтетические аналоги, Углеводы и родственные соединения, Терпены и родственные соединения, Стероиды и родственные соединения, Алкалоиды, Витамины. Коферменты, Антибиотики, Пептиды, Нуклеиновые кислоты и их компоненты, Липиды, Лейкотриены и простагландины, Феромоны, Кумарины, Порфирины, Макролиды и их аналоги, Прочие природные соединения\n",
      "    Органическая химия, Вопросы строения и стереохимия, Реакционная способность, Механизмы органических реакций, Общие синтетические методы, Алифатические соединения, Алициклические соединения, Ароматические соединения, Гетероциклические соединения, Элементоорганические соединения\n",
      "    Физическая химия, Теория строения молекул и химической связи, Исследования строения и свойств молекул и химической связи, Кристаллохимия и кристаллография, Химия твердого тела, Газы. Жидкости. Аморфные тела, Радиохимия, Химическая термодинамика. Термохимия. Равновесия. Физико-химический анализ, Кинетика. Гомогенный катализ. Горение. Взрывы, Топохимия. Гетерогенный катализ, Фотохимия. Лазерохимия, Радиационная химия. Плазмохимия, Растворы, Электрохимия, Поверхностные явления. Адсорбция. Хроматография. Ионный обмен, Химия коллоидов. Дисперсные системы, Сонохимия, Теория фотографического процесса\n",
      "    Аналитическая химия, Теоретические вопросы аналитической химии, Анализ неорганических веществ, Анализ органических веществ\n",
      "    Общелабораторное химическое оборудование. Аппаратура, Лаборатории и их комплектование, Приборы общехимического назначения, Приборы многоцелевого применения для химии\n",
      "    Общие вопросы химии, Руководящие материалы по химии, Материалы общего характера, Философские вопросы химии и методология, История химии. Персоналия, Современное состояние и перспективы развития, Научные химические общества, Koммepчecкиe вoпpocы, Международное сотрудничество, Организация научно-исследовательских работ, Научная и научно-техническая экспертиза, Патентное дело. Изобретательство и рационализаторство, Информационная деятельность, Справочная литература. Учебная литература, Терминология, Стандартизация, Пpoпaгaндa и пoпyляpизaция xимичecкиx знaний, Преподавание химии, Cтaтиcтикa в xимии, Экономика, Математические и кибернетические методы, Кадры, Правовые вопросы, Измepeния, Автоматизация и автоматизированные системы, Уcлoвия тpyдa, Oxpaнa oкpyжaющeй cpeды в oблacти xимии\n",
      "    Химия высокомолекулярных соединений, Структура и свойства природных и синтетических высокомолекулярных соединений, Синтез высокомолекулярных соединений. Физико-химические основы синтеза высокомолекулярных соединений\n",
      "    Неорганическая химия. Комплексные соединения, Неорганическая химия, Комплексные соединения, Экстракционная химия неорганических и комплексных соединений\n",
      "\n",
      "ЭКОНОМИКА. ЭКОНОМИЧЕСКИЕ НАУКИ\n",
      "    Экономические проблемы организации и управления хозяйством страны, Проблемы функционирования рыночного хозяйства, Технико-экономическое нормирование, Производственные фонды. Основные и оборотные фонды. Оборотные средства. Основной и оборотный капитал, Средства производства. Материальные активы, Хозрасчет. Экономическое стимулирование, Прибыль. Рентабельность. Цены, Материалоемкость, Сбыт продукции, Экономическая эффективность производства\n",
      "    Территориальная структура экономики. Региональная и городская экономика, Размещение производительных сил. Экономическая география, Региональная экономика, Территориально-промышленные комплексы. Промышленные узлы и центры, Экономика города. Урбанизация.Городское развитие\n",
      "    Наука управления экономикой, Экономическая кибернетика, Экономическая информатика, Теории организации и принятия экономических решений, Теории менеджмента\n",
      "    Общественно-экономическая структура, Рыночная структура. Концентрация. Конкуренция. Предпринимательство, Крупные, Экономическая политика. Государственное регулирование экономики, Частный сектор и частные предприятия, Государственный сектор. Государственные предприятия, Общественный сектор, Кооперативный сектор. Кооперативные предприятия, Неформальный сектор. Нелегальная экономическая деятельность, Трансформация форм собственности (приватизация\n",
      "    Экономическая история, Всеобщая экономическая история, Экономическая история отдельных стран\n",
      "    Экономика и организация предприятия. Управление предприятием, Организация и управление. Планирование на предприятии, Управление производством, Интеллектуальный капитал. Управление знаниями, Научно-технический прогресс на предприятии, Основной и оборотный капитал предприятия. Капиталовложения. Финансы, Себестоимость. Рентабельность. Прибыль. Ценообразование на предприятии, Сбыт продукции, Кадры предприятия. Организация труда. Условия труда. Оплата труда. Заработная плата на предприятии, Учет и отчетность. Анализ хозяйственной деятельности предприятия\n",
      "    Производительные силы и научно-технический прогресс, Теории научно-технической революции, Научно-технический прогресс. Новые технологии. Нововведения. Исследования и разработки, Наука как производительная сила. Экономика науки, Компьютеризация. Информатизация. Экономика информационного обслуживания\n",
      "    Учетно-экономические науки, Учет, Экономическая статистика, Экономический анализ, Экономико-математические методы и модели\n",
      "    Мировое хозяйство. Международные экономические отношения, Мировые природные ресурсы, Мировое экономическое развитие. Глобальные проблемы экономики, Международные экономические отношения, Деятельность международных экономических организаций и объединений, Международная торговля, Международное движение капиталов, Международные научно-технические связи, Экономическая интеграция, Международные финансы\n",
      "    История экономической мысли, Всеобщая история экономической мысли, Экономическая мысль древнего мира и средних веков, Экономическая мысль XVII - XIX вв., Экономическая мысль XX в., История экономической мысли отдельных стран\n",
      "    Экономические теории, Общие экономические теории, Теории экономических систем\n",
      "    Экономическое развитие и рост. Прогнозирование и планирование экономики. Экономические циклы и кризисы, Экономическое развитие. Экономический рост, Социальные и экономические проблемы развития, Теория и практика прогнозировангия и планирования экономического развития, Экономическое развитие отдельных групп стран, Экономика постсоциалистических стран, Экономические проблемы развивающихся стран, Экономические циклы и кризисы. Стабилизация экономики\n",
      "    Экономика труда. Трудовые ресурсы, Социально-экономические проблемы труда, Население и трудовые ресурсы в целом, Трудовые ресурсы, Рынок труда, Занятость. Безработица, Внутренняя и международная миграция рабочей силы, Организация труда. Нормирование труда, Производительность труда, Условия труда, Оплата труда. Заработная плата, Трудовые отношения, Профессиональное движение. Борьба за права трудящихся, Демографические характеристики рынка труда. Труд женщин\n",
      "    Общие вопросы экономических наук, Материалы общего характера, Философские вопросы и методология экономических наук, Современное состояние экономических наук, Научные общества, Международное сотрудничество в области экономических наук, Организация научно-исследовательской работы в области экономических наук, Научная и научно-техническая экспертиза, Информационная деятельность в области экономических наук, Терминология экономических наук, Пропаганда и популяризация экономических знаний, Преподавание экономических наук, Кадры экономистов\n",
      "    Воспроизводственная структура экономики. Накопление и потребление. Благосостояние, Национальное богатство. Национальное имущество. Основной и непроизводственный капитал, Валовой национальный продукт. Национальный доход, Накопление и сбережения. Капиталовложения, Эффективность производства. Производительность, Издержки производства. Ценообразование. Ценовая политика, Потребление. Уровень жизни. Благосостояние. Социальная политика\n",
      "    Финансовая наука. Денежные и налоговые теории. Кредитно-финансовые институты, Денежные и финансовые теории и политика, Государственные финансы. Налоги, Концентрация капитала. Финансово-промышленные группы. Инвестиционные институты, Рынки капиталов, Денежное обращение. Инфляция, Банки, Финансовое посредничество. Страхование. Сберегательное дело, Кредит\n",
      "    Отраслевая структура экономики, Организация и структура отраслей экономики. Внутриотраслевые и межотраслевые связи, Экономика промышленности в целом, Экономика строительства, Экономика агропромышленного комплекса в целом, Экономика транспорта, Экономика связи, Экономика торговли, Экономика материально-технического снабжения, Экономика непроизводственной сферы. Неприбыльные отрасли экономики в целом, Экономика науки, Экономика культуры, Экономика образования, Экономика здравоохранения и социального обеспечения, Экономика сферы обслуживания, Экономика спорта, Экономика туризма, Экономика водного хозяйства, Экономика природопользования и охраны окружающей среды, Рекреационная экономика, Военная экономика\n",
      "\n",
      "ЭЛЕКТРОНИКА. РАДИОТЕХНИКА\n",
      "    Радиопередающие и радиоприемные устройства, Радиопередающие устройства, Радиоприемные устройства\n",
      "    Радиоэлектронные схемы, Фильтры, Задающие генераторы, Усилители, Модуляторы, Импульсные схемы, Прочие радиоэлектронные схемы\n",
      "    Приборы для радиотехнических измерений, Приборы для измерения параметров радиосигналов, Приборы для измерения параметров радиотехнических цепей, Приборы для измерения радиотехнических параметров материалов, Настройка\n",
      "    Криоэлектроника, Сверхпроводящие линии передачи, Сверхпроводящие резонаторы, Криоэлектронные приборы, Криоэлектронные устройства, Сверхпроводящие магнитные системы\n",
      "    Ускорители заряженных частиц и плазмы, Линейные ускорители, Циклические ускорители, Ускорители, Ускорители, Устройства для осуществления встречи релятивистских пучков заряженных частиц, Накопительные кольца релятивистских заряженных частиц, Ускорительные комплексы\n",
      "    Инфракрасная техника, Приборы ночного видения, Устройства сигнализации в инфракрасном диапазоне\n",
      "    Твердотельные приборы, Дискретные полупроводниковые приборы, Интегральные микросхемы, Оптоэлектронные приборы, Приборы функциональной микроэлектроники\n",
      "    Теоретическая радиотехника, Теория радиосигналов, Теория радиотехнических цепей, Шумы и помехи, Теория помехоустойчивости, Теоретико-информационные аспекты радиотехнических систем, Электромагнитная совместимость, Методы приема и обработки сигналов\n",
      "    Проектирование и конструирование электронных приборов и радиоэлектронной аппаратуры, Проектирование и конструирование радиодеталей и компонентов, Проектирование и конструирование электровакуумных и газоразрядных приборов, Проектирование и конструирование полупроводниковых приборов и приборов микроэлектроники, Проектирование и конструирование приборов и устройств квантовой электроники, Проектирование и конструирование приборов криоэлектроники и приборов на основе явления сверхпроводимости, Проектирование и конструирование изделий электронной техники СВЧ-диапазона, Проектирование и конструирование приборов молекулярной электроники, Проектирование и конструирование радиоэлектронной аппаратуры, Условия эксплуатации радиоэлектронной аппаратуры и защита от внешних воздействий, Оценивания и обеспечение надежности радиоэлектронной аппаратуры\n",
      "    Радиотехнические системы зондирования, Дистанционное зондирование, Радиолокационные системы, Радиотехнические навигационные системы и устройства, Системы и устройства радиоуправления, Акустические системы локации, Оптические системы локации\n",
      "    Узлы, Емкостные элементы, Индуктивные элементы, Резистивные элементы, Прочие электронные элементы радиоэлектронной аппаратуры, Конструктивные и крепежные элементы. Арматура, Коммутационные элементы, Источники электропитания, Соединительные детали и установочные изделия, Разрядники и токосъемники, Пьезоэлектрические приборы, Электромеханические фильтры, Печатные платы. Печатные узлы\n",
      "    Электровакуумные и газоразрядные приборы и устройства, Электронно-лучевые приборы, Вакуумные фотоэлектронные приборы, Газоразрядные приборы и устройства, Электронные лампы, Электровакуумные приборы сверхвысоких частот, Рентгеновские приборы и излучатели\n",
      "    Распространение радиоволн, Распространение радиоволн в ионосфере, Распространение радиоволн в тропосфере, Распространение радиоволн в атмосферных волноводах, Влияние различных факторов среды на распространение радиоволн, Распространение радиоволн в космическом пространстве, Распространение поверхностных радиоволн\n",
      "    Системы и устройства отображения информации, Системы и устройства отображения информации коллективного пользования, Устройства отображения информации индивидуального пользования, Индикаторные приборы\n",
      "    Электроакустика, Электроакустические приборы, Ультразвуковая и инфразвуковая техника. Гидроакустическая аппаратура, Звукофикация помещений и открытых пространств, Анализ и обработка электроакустических сигналов\n",
      "    Общие вопросы электроники и радиотехники, Руководящие материалы, Материалы общего характера, Meтoдoлoгия и мeтoды иccлeдoвaния в элeктpoникe и paдиoтexникe, История электроники и радиотехники. Персоналия, Современное состояние и перспективы развития, Научные и технические общества, Коммерческие вопросы, Международное сотрудничество, Организация научно-исследовательских, Научная и научно-техническая экспертиза, Патентное дело. Изобретательство и рационализаторство, Информационная деятельность, Терминология. Справочная литература. Учебная литература, Метрология, Стандартизация, Пpoпaгaндa и пoпyляpизaция элeктpoники и paдиoтexники, Пpeпoдaвaниe элeктpoники и paдиoтexники, Бытовая радиоэлектронная аппаратура, Статистика, Экономика, Описание предприятий, Методы исследования и моделирования. Математические и кибернетические методы, Кадры, Правовые вопросы, Измерения, Проектирование, Монтаж, Энергоснабжение, Автоматизация и автоматизированные системы, Связь и сигнализация на предприятиях отрасли, Транспорт, Материально-техническое снабжение. Логистика, Складское хозяйство, Тара, Отходы производства и их переработка. Вторичное сырьe. Ресурсосбережение, Пожарная безопасность, Условия труда, Охрана окружающей среды, Техническая эстетика. Эргономика, Коррозия и защита от коррозии электронных приборов и радиоэлектронной аппаратуры\n",
      "    Запись и воспроизведение сигналов, Магнитные системы записи и воспроизведения сигналов, Оптические системы записи и воспроизведения сигналов, Термические системы записи и воспроизведения сигналов, Электростатические системы записи и воспроизведения сигналов, Механические системы записи и воспроизведения сигналов, Другие системы записи и воспроизведения сигналов\n",
      "    Антенны. Волноводы. Элементы СВЧ-техники, Расчеты волновых полей в радиоэлектронной аппаратуре, Антенны, Волноводы, Объемные резонаторы, Прочие элементы СВЧ-техники\n",
      "    Квантовая электроника, Мазеры, Лазеры, Приборы управления оптическим излучением, Приемные устройства оптического когерентного излучения, Квантовые приборы нелинейной оптики, Волоконно-оптические системы. Приборы на основе волоконной оптики\n",
      "    Телевизионная техника, Теория и статистика видеопроцессов, Системы телевидения, Телевизионные камеры и сканеры, Телевизионные индикаторы и приeмники, Технические средства телецентров и телестудий, Синтез и обработка телевизионных сигналов\n",
      "    Теоретические основы электронной техники, Теоретические основы радиодеталей и компонентов, Теоретические основы электровакуумных и газоразрядных приборов, Теоретические основы полупроводниковых приборов, Теоретические основы квантовой электроники, Теоретические основы криоэлектроники и сверхпроводимости, Теоретические основы СВЧ электронной техники, Оптические явления в волноводах и тонких пленках, Теоретические основы молекулярной электроники\n",
      "    Материалы для электроники и радиотехники, Полупроводниковые материалы, Диэлектрические материалы, Сегнетоэлектрики и пьезоэлектрики, Магнитные материалы для радиоэлектроники, Металлы, Сверхпроводящие материалы, Стекла, Люминофоры, Жидкие кристаллы, Материалы для лазерной техники и голографии, Наноматериалы для электроники, Газы и газовые смеси, Полимеры и полимерные материалы для радиоэлектроники, Композиционные материалы для радиоэлектроники, Клеи, Растворители и поверхностно-активные вещества, Резисты, Пасты, Материалы для молекулярной электроники, Прочие материалы для радиоэлектроники\n",
      "    Технология и оборудование для электронного и радиотехнического производства, Организация радиоэлектронного производства, Технология и оборудование для производства приборов и устройств квантовой электроники, Технология и оборудование для производства приборов и устройств наноэлектроники, Технология и оборудование для производства приборов криоэлектроники и сверхпроводящих устройств, Технология и оборудование для производства электровакуумных и газоразрядных приборов, Технология и оборудование для производства изделий электронной техники СВЧ-диапазона, Технология и оборудование для производства полупроводниковых приборов и приборов микроэлектроники, Технология и оборудование для производства приборов и устройств молекулярной электроники, Технология и оборудование для производства радиодеталей и компонентов, Технология и оборудование для монтажа и сборки радиоэлектронной аппаратуры, Технология производства печатных плат. Печатный монтаж, Прочие технологические процессы и оборудование в производстве радиоэлектронной аппаратуры, Прецизионные и мехатронные технологии электронного производства, Электронно-ионно-плазменные технологии электронного производства, Лазерные технологии в электронном производстве, Производственный контроль. Настройка и регулировка радиоэлектронной аппаратуры, Ремонт и эксплуатационное обслуживание радиоэлектронной аппаратуры\n",
      "    Голография, Оптическая голография, Радио- и акустическая голография, Электронная и другие виды голографии, Регистрирующие среды для голографии, Голографическая обработка изображений и сигналов\n",
      "\n",
      "ЭЛЕКТРОТЕХНИКА\n",
      "    Электросварочное оборудование, Электрооборудование дуговой сварки, Электрооборудование контактной электросварки, Электрооборудование высокочастотной сварки, Электрооборудование электроннолучевой сварки, Электрооборудование сварки лазером, Электрооборудование сварки импульсным магнитным полем, Электрооборудование электрошлаковой сварки, Электрооборудование плазменной электросварки, Электрооборудование для пайки, Электрооборудование прочих видов электросварки\n",
      "    Трансформаторы и электрические реакторы, Трансформаторы, Электрические реакторы\n",
      "    Электротехническое оборудование специального назначения, Электротехническое оборудование термоядерных установок, Электротехническое оборудование электрофизических установок, Электротехническое оборудование импульсных источников энергии, Электротехническое оборудование электротехнологических установок, Электротехническое оборудование железнодорожного, Электротехническое оборудование автомобилей, Электротехническое оборудование электромобилей и электрокары, Электротехническое оборудование ракетно-космических систем и летательных аппаратов, Электротехническое оборудование судов, Бытовые электроприборы, Электротехническое медицинское оборудование, Системы электропитания и электротехническое оборудование наземных подвижных объектов связи, Прочие виды электротехнического оборудования\n",
      "    Электрические машины, Машины постоянного тока, Машины переменного тока, Специальные электрические машины\n",
      "    Общие вопросы электротехники, Руководящие материалы, Материалы общего характера, Meтoдoлoгия и мeтoды иccлeдoвaния в элeктpoтexникe, История электротехники. Персоналия, Современное состояние и перспективы развития, Научные и технические общества, Коммерческие вопросы, Международное сотрудничество, Организация научно-исследовательских, Научная и научно-техническая экспертиза, Патентное дело. Изобретательство и рационализаторство, Информационная деятельность, Терминология. Справочная литература. Учебная литература, Метрология, Стандартизация, Пpoпaгaндa и пoпyляpизaция элeктpoтexники, Преподавание в электротехнике, Cтaтиcтикa в элeктpoтexникe, Экономика, Описание предприятий, Методы исследования и моделирования. Математические и кибернетические методы, Кадры, Правовые вопросы, Измерения, Проектирование, Монтаж, Энepгocнaбжeниe, Автоматизация и автоматизированные системы, Связь и сигнализация на предприятиях, Транспорт на предприятиях, Материально-техническое снабжение. Логистика, Складское хозяйство на предприятиях, Тара, Отходы производства и их переработка. Вторичное сырьe. Ресурсосбережение, Пожарная безопасность, Условия труда, Охрана окружающей среды, Техническая эстетика. Эргономика, Koppoзия и зaщитa oт кoppoзии в элeктpoтexникe\n",
      "    Электропривод, Электропривод постоянного тока, Электропривод переменного тока, Комплексный автоматизированный электропривод\n",
      "    Силовая преобразовательная техника, Силовые вентили, Силовые статические преобразователи\n",
      "    Электротехнические материалы, Магнитные материалы, Проводниковые материалы, Сверхпроводниковые материалы, Полупроводниковые материалы, Диэлектрические материалы\n",
      "    Электротермия, Дуговые и руднотермические электропечи и установки, Электропечи и установки нагрева сопротивлением, Электропечи и установки для электрошлаковых процессов, Электропечи и установки индукционного нагрева, Электропечи и установки диэлектрического и сверхвысокочастотного нагрева, Электропечи и установки электроннолучевого нагрева, Электропечи и установки плазменного нагрева, Электропечи и установки инфракрасного нагрева, Электропечи и установки лазерного нагрева, Прочие электропечи\n",
      "    Силовые электрические конденсаторы, Бумажные и пленочные конденсаторы, Слюдяные конденсаторы, Керамические и стеклянные конденсаторы, Оксидные конденсаторы, Газовые и вакуумные конденсаторы, Конденсаторные батареи и установки, Конденсаторные устройства, Прочие виды силовых электрических конденсаторов\n",
      "    Провода и кабели, Материалы для проводов и кабелей, Провода и шнуры, Шины, Силовые кабели, Кабели связи, Радиочастотные кабели, Специальные кабели, Кабельная арматура\n",
      "    Теоретическая электротехника, Физические основы электротехники, Теория электромагнитного поля, Теория электрических цепей, Теория магнитных цепей\n",
      "    Электрические изоляторы, Проходные изоляторы, Опорные изоляторы, Линейные изоляторы, Установочные изоляторы, Арматура для электрических изоляторов, Электрические изоляторы прочих типов\n",
      "    Электрические аппараты, Электрические аппараты высокого напряжения, Электрические аппараты низкого напряжения\n",
      "    Светотехника, Источники света, Приборы включения и управления источниками света, Осветительные приборы и установки, Светотехнические электроустановочные изделия, Облучательные приборы и установки\n",
      "\n",
      "ЯДЕРНАЯ ТЕХНИКА\n",
      "    Ядерные сырьевые материалы и топливо, Уран, Плутоний, Торий, Синтетические топлива, Другие виды топлива, Покрытия ядерного топлива, Добавки к ядерному топливу, Производство и исследование ядерного топлива, Методы и средства контроля ядерных сырьевых материалов и топлива\n",
      "    Ядерные взрывы, Взрывы в космосе, Воздушные ядерные взрывы, Наземные ядерные взрывы, Подземные ядерные взрывы, Подводные ядерные взрывы\n",
      "    Общие вопросы ядерной техники, Руководящие материалы, Материалы общего характера, Meтoдoлoгия и мeтoды иccлeдoвaния пo ядepнoй тexникe, История ядерной техники. Персоналия, Современное состояние и перспективы развития, Научные и технические общества, Коммерческие вопросы, Международное сотрудничество. Зарубежные атомные центры, Организация научно-исследовательских, Научная и научно-техническая экспертиза, Патентное дело. Изобретательство и рационализаторство, Информационная деятельность, Терминология. Справочная литература. Учебная литература, Метрология, Стандартизация, Пропаганда и популяризация знаний, Пpeпoдaвaниe в ядepнoй тexникe, Производство товаров народного потребления, Статистика, Экономика, Oпиcaниe пpeдпpиятий ядepнoй тexники, Методы исследования и моделирования. Математические и кибернетические методы, Кадры, Правовые вопросы, Измерения, Проектирование, Монтаж, Энергоснабжение, Автоматизация и автоматизированные системы, Связь и сигнализация на предприятиях, Транспорт на предприятиях, Материально-техническое снабжение. Логистика, Складское хозяйство, Тара и упаковка материалов, Отходы производства и их переработка. Вторичное сырьe. Ресурсосбережение, Пожарная безопасность, Условия труда, Охрана окружающей среды, Техническая эстетика. Эргономика, Коррозия и защита от коррозии, Подсобные хозяйства предприятий и организаций\n",
      "    Получение изотопов, Выделение, Получение тяжелой воды, Производство радиоактивных изотопов в ядерных реакторах, Получение трансурановых изотопов\n",
      "    Ядерные реакторы, Расчеты ядерных реакторов, Топливный цикл ядерных реакторов, Конструкционные материалы ядерных реакторов, Технология и производство ядерных реакторов, Ядерные реакторы по назначению, Ядерные реакторы по конструкции, Замедлители, Теплоносители, Тепловыделяющие элементы и их компоненты, Основные узлы ядерных реакторов и реакторных установок, Регулирование ядерных реакторов, Экспериментальные исследования ядерных реакторов, Специальное и вспомогательное оборудование ядерных реакторов, Эксплуатация ядерных реакторов, Контрольно-измерительные приборы\n",
      "    Переработка ядерного топлива и удаление отходов, Хранение, Разгрузочное и загрузочное оборудование, Бассейны для хранения облученных твэлов, Вскрытие твэлов. Переведение ядерного горючего в раствор, Осветление растворов, Очистка и извлечение ценных компонентов, Радиоактивные отходы, Переработка отходов, Дезактивация отходов, Оборудование для работы с радиоактивными веществами, Захоронение радиоактивных отходов, Контроль переработки ядерного топлива\n",
      "    Действие излучений и защита от них, Действие излучения на биологические объекты, Действие излучения на человека, Действие излучения на материалы и конструкции, Материалы радиационной защиты (бетон, Конструктивные элементы и оборудование защиты от излучений, Дезактивация, Вспомогательные материалы и портативное оборудование защиты от излучения\n",
      "    Термоядерные реакторы, Нейтронная физика термоядерных реакторов, Конструкционные материалы термоядерных реакторов, Технологические процессы и оборудование термоядерных реакторов, Топливный цикл термоядерных реакторов, Системы преобразования энергии в термоядерных реакторах, Типы термоядерных реакторов, Схемы и конструкции термоядерных реакторов, Исследования\n",
      "    Применение изотопов и ионизирующих излучений, Источники излучений, Радиоизотопная энергетика, Радиоизотопные приборы и установки, Методы меченых атомов, Применение изотопов и ионизирующих излучений в промышленности\n",
      "\n"
     ]
    }
   ],
   "source": [
    "for top in sorted(tree_grnti.keys()):\n",
    "    print top\n",
    "    \n",
    "    for sec, items in tree_grnti[top].items():\n",
    "        print '   ', u', '.join(items)\n",
    "    \n",
    "    print "
   ]
  },
  {
   "cell_type": "code",
   "execution_count": 30,
   "metadata": {
    "collapsed": true
   },
   "outputs": [],
   "source": [
    "from nltk.tokenize import word_tokenize\n",
    "from nltk.corpus import stopwords"
   ]
  },
  {
   "cell_type": "code",
   "execution_count": 31,
   "metadata": {
    "collapsed": true
   },
   "outputs": [],
   "source": [
    "def lemmatize_rus(t):\n",
    "    return morph.parse(t)[0].normal_form"
   ]
  },
  {
   "cell_type": "code",
   "execution_count": 32,
   "metadata": {
    "collapsed": false
   },
   "outputs": [],
   "source": [
    "all_categories = []\n",
    "all_categories_idx = {}\n",
    "\n",
    "rus_sw = set(stopwords.words('russian'))\n",
    "domain_sw = {u'метод', u'теория', u'общий', u'вопрос', u'исследование', u'организация'\n",
    "             u'прочий', u'международный', u'научный'}\n",
    "\n",
    "cnt = 0\n",
    "\n",
    "for k_top, top in tree_grnti.items():\n",
    "    for k_2, v in top.items():\n",
    "        top = ' '.join([k_top] * 3)\n",
    "        document = top + ' ' + ' ' + ' '.join(v)\n",
    "        tokens = word_tokenize(document)\n",
    "        tokens = [t.lower() for t in tokens if t.isalpha()]\n",
    "        tokens = [t for t in tokens if t not in rus_sw]\n",
    "        tokens = [lemmatize_rus(t) for t in tokens]\n",
    "        tokens = [t for t in tokens if t not in domain_sw]\n",
    "        all_categories.append(tokens)\n",
    "        all_categories_idx[cnt] = (k_top, k_2)\n",
    "        cnt = cnt + 1"
   ]
  },
  {
   "cell_type": "code",
   "execution_count": 33,
   "metadata": {
    "collapsed": false,
    "scrolled": true
   },
   "outputs": [
    {
     "name": "stdout",
     "output_type": "stream",
     "text": [
      "система (60),  материал (42),  организация (31),  экономика (30),  технология (29),  химический (29),  прочий (28),  промышленность (28),  производство (27),  техника (27),  деятельность (27),  электроника (26),  биология (26),  технический (25),  среда (25),  аппаратура (25),  информационный (24),  космический (24),  радиотехник (24),  прибор (24),  процесс (24),  развитие (23),  вещество (23),  математический (23),  наука (22),  история (20),  экспертиза (20),  кадр (19),  справочный (19),  сотрудничество (19),  общество (19),  экономический (19),  математика (19),  теоретический (19),  терминология (19),  литература (18),  персоналия (18),  статистика (18),  учебный (18),  состояние (18),  характер (18),  проблема (18),  современный (17),  метрология (17),  измерение (17),  средство (17),  работа (17),  руководящий (17),  автоматизация (17),  физический (16), \n"
     ]
    }
   ],
   "source": [
    "df = Counter()\n",
    "for cat in all_categories:\n",
    "    df.update(set(cat))\n",
    "\n",
    "for w, c in df.most_common(50):\n",
    "    print u'%s (%d), ' % (w, c),"
   ]
  },
  {
   "cell_type": "code",
   "execution_count": 34,
   "metadata": {
    "collapsed": true
   },
   "outputs": [],
   "source": [
    "from sklearn.feature_extraction.text import TfidfVectorizer\n",
    "\n",
    "def identity(lst): return lst\n",
    "category_vectorizer = TfidfVectorizer(analyzer=identity).fit(all_categories)"
   ]
  },
  {
   "cell_type": "code",
   "execution_count": 35,
   "metadata": {
    "collapsed": false
   },
   "outputs": [
    {
     "data": {
      "text/plain": [
       "<237x1808 sparse matrix of type '<type 'numpy.float64'>'\n",
       "\twith 5031 stored elements in Compressed Sparse Row format>"
      ]
     },
     "execution_count": 35,
     "metadata": {},
     "output_type": "execute_result"
    }
   ],
   "source": [
    "cat_index = category_vectorizer.transform(all_categories)\n",
    "cat_index"
   ]
  },
  {
   "cell_type": "markdown",
   "metadata": {},
   "source": [
    "###  Now apply it to clusters"
   ]
  },
  {
   "cell_type": "code",
   "execution_count": 37,
   "metadata": {
    "collapsed": false
   },
   "outputs": [],
   "source": [
    "cluster_assignment = clustering"
   ]
  },
  {
   "cell_type": "code",
   "execution_count": 38,
   "metadata": {
    "collapsed": false
   },
   "outputs": [
    {
     "data": {
      "text/plain": [
       "105"
      ]
     },
     "execution_count": 38,
     "metadata": {},
     "output_type": "execute_result"
    }
   ],
   "source": [
    "descriptions = evaluate.high_purity_clusters(cluster_assignment, threshold=0.8, all_categories=1, min_size=3)\n",
    "desc_ids = [d['cluster'] for d in descriptions]\n",
    "len(desc_ids)"
   ]
  },
  {
   "cell_type": "code",
   "execution_count": 39,
   "metadata": {
    "collapsed": true
   },
   "outputs": [],
   "source": [
    "def counter_to_string(cnt, repeat=1):\n",
    "    if repeat:\n",
    "        return ' '.join([(word + ' ') * cnt for word, cnt in cl_cats.items()])\n",
    "    else:\n",
    "        return ' '.join(cnt.keys())\n",
    "\n",
    "def all_definitions(clustering, cluster_index):\n",
    "    indices, = np.where(clustering == cluster_index)\n",
    "    \n",
    "    all_defs = []\n",
    "    for idx in indices: \n",
    "        idx = int(idx)\n",
    "        for lst in rels[idx].values():\n",
    "            for d, _ in lst:\n",
    "                all_defs.extend(d.split())\n",
    "    return all_defs"
   ]
  },
  {
   "cell_type": "code",
   "execution_count": 40,
   "metadata": {
    "collapsed": true
   },
   "outputs": [],
   "source": [
    "clusters_representation = []\n",
    "\n",
    "for cl_id in desc_ids:\n",
    "    cl_titles, cl_cats = evaluate.cluster_details(cluster_assignment, cl_id)\n",
    "    document = ' '.join(cl_titles) + ' ' + counter_to_string(cl_cats) #+ ' '.join(defs)\n",
    "\n",
    "    tokens = word_tokenize(document)\n",
    "    tokens = [t.lower() for t in tokens if t.isalpha()]\n",
    "    tokens = [t for t in tokens if t not in rus_sw]\n",
    "    tokens = [lemmatize_rus(t) for t in tokens]\n",
    "    tokens = [t for t in tokens if t not in domain_sw]\n",
    "    \n",
    "    clusters_representation.append(tokens)"
   ]
  },
  {
   "cell_type": "code",
   "execution_count": 41,
   "metadata": {
    "collapsed": false
   },
   "outputs": [
    {
     "data": {
      "text/plain": [
       "<105x1808 sparse matrix of type '<type 'numpy.float64'>'\n",
       "\twith 1193 stored elements in Compressed Sparse Row format>"
      ]
     },
     "execution_count": 41,
     "metadata": {},
     "output_type": "execute_result"
    }
   ],
   "source": [
    "clus_index = category_vectorizer.transform(clusters_representation)\n",
    "clus_index"
   ]
  },
  {
   "cell_type": "code",
   "execution_count": 42,
   "metadata": {
    "collapsed": false
   },
   "outputs": [
    {
     "data": {
      "text/plain": [
       "array([198, 194, 196, 185, 182, 185,   9, 192, 187, 192, 156, 185,  24,\n",
       "       156, 196, 207, 192, 193, 192, 192, 181, 231, 187, 190, 197, 190,\n",
       "        24,  93, 231,   9, 202,   9, 199, 146,  24, 146, 199, 181, 190,\n",
       "       190, 196, 144, 185, 189, 113,   9, 190, 181, 225, 187, 190,  24,\n",
       "         9, 196, 181, 156,  25,  22,  25, 192,  23, 233, 194,  43,  53,\n",
       "       181, 190, 194, 231, 100,  23, 188, 199, 141, 185,   9,   9, 185,\n",
       "       199, 190, 194,  91, 190,   5, 194, 231, 182, 190, 185,  22, 156,\n",
       "       190, 207, 228,  22, 182, 197,  22, 206,  22, 122,  24,   9, 222, 231], dtype=int64)"
      ]
     },
     "execution_count": 42,
     "metadata": {},
     "output_type": "execute_result"
    }
   ],
   "source": [
    "clus_cat_sim = (clus_index * cat_index.T).toarray()\n",
    "best_similarity = clus_cat_sim.max(axis=1)\n",
    "clus_cat_assignment = clus_cat_sim.argmax(axis=1)\n",
    "clus_cat_assignment"
   ]
  },
  {
   "cell_type": "code",
   "execution_count": 47,
   "metadata": {
    "collapsed": false
   },
   "outputs": [],
   "source": [
    "namespaces = defaultdict(list)\n",
    "namespace_name = []\n",
    "\n",
    "for idx in range(len(desc_ids)):\n",
    "    cat_id = clus_cat_assignment[idx]\n",
    "    desc = descriptions[idx]\n",
    "\n",
    "    score = best_similarity[idx]\n",
    "    common_keywords = set(clusters_representation[idx]) & set(all_categories[cat_id])\n",
    "\n",
    "    parent_cat, namespace_cat = all_categories_idx[cat_id]\n",
    "    if score <= 0.2 or len(common_keywords) == 1:\n",
    "        parent_cat = 'OTHER'\n",
    "\n",
    "    namespaces[parent_cat].append((namespace_cat, score, desc, common_keywords))\n",
    "    namespace_name.append((desc['cluster'], (parent_cat, namespace_cat)))\n",
    "\n",
    "namespaces = sorted(namespaces.items())"
   ]
  },
  {
   "cell_type": "code",
   "execution_count": 44,
   "metadata": {
    "collapsed": true
   },
   "outputs": [],
   "source": [
    "class Namespace():\n",
    "\n",
    "    _parent = None\n",
    "    _name = None\n",
    "    _identifiers = None\n",
    "    _children = None\n",
    "    _relations = None\n",
    "    _wiki_cats = None\n",
    "\n",
    "    _cluster_id = None\n",
    "\n",
    "    def __init__(self, name, parent=None):\n",
    "        self._name = name\n",
    "        self._children = []\n",
    "\n",
    "        if parent:\n",
    "            self._parent = parent\n",
    "            self._parent._children.append(self)\n",
    "\n",
    "    def set_wiki_categories(self, wiki_cats):\n",
    "        self._wiki_cats = wiki_cats\n",
    "        \n",
    "    def most_common_wiki_cat(self):\n",
    "        if self._wiki_cats:\n",
    "            return self._wiki_cats.most_common(1)[0]\n",
    "        else:\n",
    "            return None\n",
    "\n",
    "    def set_relations(self, relations):\n",
    "        self._relations = relations\n",
    "\n",
    "    def set_additional_info(self, cluster_id, purity, matching_score, matching_terms):\n",
    "        self._cluster_id = cluster_id\n",
    "        self._purity = purity\n",
    "        self._matching_score = matching_score\n",
    "        self._matching_terms = matching_terms\n",
    "\n",
    "    def print_ns(self, indend=0, print_rels=0):\n",
    "        indend_str = ' ' * (4 * indend)\n",
    "        print indend_str, 'Category: %s' % self._name\n",
    "        if self._wiki_cats:\n",
    "            print indend_str, '          wiki categories:', \n",
    "            print ', '.join('%s (%d)' % (cat, cnt) for cat, cnt in self._wiki_cats.most_common(3))\n",
    "        if self._cluster_id:\n",
    "            print indend_str, '          cluster_id: %d (matching score: %0.2f, purity: %0.2f)' % \\\n",
    "                                    (self._cluster_id, self._matching_score, self._purity)\n",
    "            print indend_str, '          common:', ' '.join(self._matching_terms)\n",
    "\n",
    "        if print_rels and self._relations:\n",
    "            for id, def_list in self._relations:\n",
    "                print indend_str, '-',\n",
    "                print evaluate._string_def_list(id, def_list) \n",
    "        \n",
    "        print \n",
    "        for child in self._children:\n",
    "            child.print_ns(indend+1, print_rels=print_rels)\n",
    "            print\n",
    "    \n",
    "    def __repr__(self):\n",
    "        return self._name"
   ]
  },
  {
   "cell_type": "code",
   "execution_count": 45,
   "metadata": {
    "collapsed": true
   },
   "outputs": [],
   "source": [
    "ROOT = Namespace(u'ROOT')\n",
    "\n",
    "for parent_cat, groups in namespaces:\n",
    "    parent_namespace = Namespace(parent_cat, ROOT)\n",
    "\n",
    "    for cat, score, desc, common in groups:\n",
    "        ns = Namespace(cat, parent_namespace)\n",
    "        ns.set_wiki_categories(desc['all_categories'])\n",
    "\n",
    "        wiki_category = ns.most_common_wiki_cat()\n",
    "        cluster_id = desc['cluster']\n",
    "        ns.set_additional_info(cluster_id, desc['purity'], score, common)\n",
    "\n",
    "        all_def = evaluate.find_all_def(cluster_assignment, cluster_id) \n",
    "        all_items = sorted(all_def.items())\n",
    "        ns.set_relations(all_items)"
   ]
  },
  {
   "cell_type": "code",
   "execution_count": 46,
   "metadata": {
    "collapsed": false,
    "scrolled": true
   },
   "outputs": [
    {
     "name": "stdout",
     "output_type": "stream",
     "text": [
      " Category: ROOT\n",
      "\n",
      "     Category: OTHER\n",
      "\n",
      "         Category: Иммунобиотехнологические методы анализа\n",
      "                   wiki categories: Математический анализ (4), Комплексный анализ (4), Теоремы комплексного анализа (3)\n",
      "                   cluster_id: 90 (matching score: 0.46, purity: 0.80)\n",
      "                   common: анализ\n",
      "\n",
      "\n",
      "         Category: Общая механика\n",
      "                   wiki categories: Механика (4), Классическая механика (3), Теоретическая механика (2)\n",
      "                   cluster_id: 770 (matching score: 0.60, purity: 0.80)\n",
      "                   common: механик\n",
      "\n",
      "\n",
      "         Category: Гидрология суши\n",
      "                   wiki categories: Блочные шифры (3), Режимы шифрования (3), Криптография (3)\n",
      "                   cluster_id: 912 (matching score: 0.22, purity: 1.00)\n",
      "                   common: режим\n",
      "\n",
      "\n",
      "         Category: Общая механика\n",
      "                   wiki categories: Классическая механика (3), Механика (3), Теоретическая физика (3)\n",
      "                   cluster_id: 944 (matching score: 0.61, purity: 1.00)\n",
      "                   common: механик\n",
      "\n",
      "\n",
      "         Category: Иммунобиотехнологические методы анализа\n",
      "                   wiki categories: Математический анализ (4), Комплексный анализ (4), Фильтрация (1)\n",
      "                   cluster_id: 995 (matching score: 0.44, purity: 0.80)\n",
      "                   common: анализ\n",
      "\n",
      "\n",
      "         Category: Иммунобиотехнологические методы анализа\n",
      "                   wiki categories: Теоремы комплексного анализа (3), Математические теоремы (3), Математический анализ (3)\n",
      "                   cluster_id: 1016 (matching score: 0.45, purity: 1.00)\n",
      "                   common: анализ\n",
      "\n",
      "\n",
      "         Category: Отраслевые статистики\n",
      "                   wiki categories: Математическая статистика (3), Выборочный метод (2), Статистика (1)\n",
      "                   cluster_id: 1205 (matching score: 0.64, purity: 1.00)\n",
      "                   common: статистика\n",
      "\n",
      "\n",
      "         Category: Иммунобиотехнологические методы анализа\n",
      "                   wiki categories: Математический анализ (5), Комплексный анализ (5), Теоремы комплексного анализа (2)\n",
      "                   cluster_id: 1415 (matching score: 0.46, purity: 1.00)\n",
      "                   common: анализ\n",
      "\n",
      "\n",
      "         Category: Отраслевая структура экономики\n",
      "                   wiki categories: Экономика (3), Макроэкономика (3), Государство (3)\n",
      "                   cluster_id: 1482 (matching score: 0.50, purity: 1.00)\n",
      "                   common: экономика\n",
      "\n",
      "\n",
      "         Category: Дифференциальные уравнения с частными производными\n",
      "                   wiki categories: Уравнения (4), Физические законы и уравнения (4), Термодинамика (4)\n",
      "                   cluster_id: 1494 (matching score: 0.65, purity: 1.00)\n",
      "                   common: уравнение\n",
      "\n",
      "\n",
      "         Category: Иммунобиотехнологические методы анализа\n",
      "                   wiki categories: Математический анализ (3), Векторный анализ (2), Классический математический анализ (1)\n",
      "                   cluster_id: 1504 (matching score: 0.43, purity: 1.00)\n",
      "                   common: анализ\n",
      "\n",
      "\n",
      "         Category: Морфология человека и животных\n",
      "                   wiki categories: Животные (5), Организмы по алфавиту (5), Животные по алфавиту (5)\n",
      "                   cluster_id: 1775 (matching score: 0.37, purity: 0.83)\n",
      "                   common: животное\n",
      "\n",
      "\n",
      "         Category: Теория чисел\n",
      "                   wiki categories: Безразмерные параметры (3), Критерии подобия (3), Статистическая физика (2)\n",
      "                   cluster_id: 1853 (matching score: 0.44, purity: 1.00)\n",
      "                   common: число\n",
      "\n",
      "\n",
      "         Category: Общая механика\n",
      "                   wiki categories: Механика (3), Физические законы и уравнения (3), Классическая механика (3)\n",
      "                   cluster_id: 1913 (matching score: 0.47, purity: 1.00)\n",
      "                   common: механик\n",
      "\n",
      "\n",
      "         Category: Основания математики и математическая логика\n",
      "                   wiki categories: Прикладная математика (4), Технологии программного обеспечения (4), Информационная безопасность (4)\n",
      "                   cluster_id: 2046 (matching score: 0.19, purity: 1.00)\n",
      "                   common: функция математика алгоритм\n",
      "\n",
      "\n",
      "         Category: Иммунобиотехнологические методы анализа\n",
      "                   wiki categories: Математический анализ (3), Комплексный анализ (3), Теоремы комплексного анализа (2)\n",
      "                   cluster_id: 2163 (matching score: 0.42, purity: 1.00)\n",
      "                   common: анализ\n",
      "\n",
      "\n",
      "         Category: Иммунобиотехнологические методы анализа\n",
      "                   wiki categories: Теоремы комплексного анализа (3), Математические теоремы (3), Математический анализ (3)\n",
      "                   cluster_id: 2211 (matching score: 0.44, purity: 1.00)\n",
      "                   common: анализ\n",
      "\n",
      "\n",
      "         Category: Общая механика\n",
      "                   wiki categories: Механика (3), Квантовая физика (3), Квантовая механика (3)\n",
      "                   cluster_id: 2360 (matching score: 0.40, purity: 1.00)\n",
      "                   common: механик\n",
      "\n",
      "\n",
      "         Category: Алгебра\n",
      "                   wiki categories: Теория множеств (4), Математические отношения (3), Общая алгебра (3)\n",
      "                   cluster_id: 2567 (matching score: 0.24, purity: 1.00)\n",
      "                   common: алгебра\n",
      "\n",
      "\n",
      "         Category: Теория кибернетических систем управления\n",
      "                   wiki categories: Аутентификация (4), Сетевые протоколы (3), Протоколы AAA (3)\n",
      "                   cluster_id: 2760 (matching score: 0.19, purity: 1.00)\n",
      "                   common: идентификация\n",
      "\n",
      "\n",
      "         Category: Иммунобиотехнологические методы анализа\n",
      "                   wiki categories: Технические индикаторы (4), Технический анализ (4)\n",
      "                   cluster_id: 2844 (matching score: 0.23, purity: 1.00)\n",
      "                   common: анализ\n",
      "\n",
      "\n",
      "\n",
      "     Category: АСТРОНОМИЯ\n",
      "\n",
      "         Category: Звезды\n",
      "                   wiki categories: Физические науки (3), Астрофизика (3), Астрономия (3)\n",
      "                   cluster_id: 1048 (matching score: 0.59, purity: 1.00)\n",
      "                   common: переменный астрономия звезда физический\n",
      "\n",
      "\n",
      "         Category: Звезды\n",
      "                   wiki categories: Физические науки (3), Астрофизика (3), Астрономия (3)\n",
      "                   cluster_id: 1063 (matching score: 0.62, purity: 1.00)\n",
      "                   common: эволюция звезда астрономия физический\n",
      "\n",
      "\n",
      "\n",
      "     Category: БИОЛОГИЯ\n",
      "\n",
      "         Category: Физиология человека и животных\n",
      "                   wiki categories: Демография (3), Физиология (2), Клинические разделы медицины (2)\n",
      "                   cluster_id: 1732 (matching score: 0.30, purity: 1.00)\n",
      "                   common: физиология биология человек\n",
      "\n",
      "\n",
      "\n",
      "     Category: ГЕОДЕЗИЯ. КАРТОГРАФИЯ\n",
      "\n",
      "         Category: Картография\n",
      "                   wiki categories: Картография (6), Картографические проекции (5), Системы координат (5)\n",
      "                   cluster_id: 2288 (matching score: 0.70, purity: 1.00)\n",
      "                   common: математический картографический картография\n",
      "\n",
      "\n",
      "\n",
      "     Category: ГЕОФИЗИКА\n",
      "\n",
      "         Category: Океанология\n",
      "                   wiki categories: Океанология (3), Физическая география (3), Гидрология (3)\n",
      "                   cluster_id: 2277 (matching score: 0.23, purity: 1.00)\n",
      "                   common: океанология атмосфера геофизик\n",
      "\n",
      "\n",
      "\n",
      "     Category: КИБЕРНЕТИКА\n",
      "\n",
      "         Category: Теория информации\n",
      "                   wiki categories: Цифровые системы (3), Теория информации (3), Теория кодирования (3)\n",
      "                   cluster_id: 452 (matching score: 0.34, purity: 1.00)\n",
      "                   common: информация система кодирование\n",
      "\n",
      "\n",
      "         Category: Теория конечных автоматов и формальных языков\n",
      "                   wiki categories: Теория алгоритмов (3), Теория автоматов (3), Визуализация данных (1)\n",
      "                   cluster_id: 1015 (matching score: 0.54, purity: 1.00)\n",
      "                   common: алгоритм абстрактный автомат\n",
      "\n",
      "\n",
      "         Category: Теория информации\n",
      "                   wiki categories: Цифровые системы (5), Теория информации (5), Теория кодирования (5)\n",
      "                   cluster_id: 2574 (matching score: 0.35, purity: 1.00)\n",
      "                   common: информация кибернетик система кодирование\n",
      "\n",
      "\n",
      "\n",
      "     Category: МАТЕМАТИКА\n",
      "\n",
      "         Category: Математический анализ\n",
      "                   wiki categories: Математический анализ (5), Разделы математики (3), Функциональный анализ (3)\n",
      "                   cluster_id: 7 (matching score: 0.46, purity: 1.00)\n",
      "                   common: математика ряд функциональный математический анализ\n",
      "\n",
      "\n",
      "         Category: Теория чисел\n",
      "                   wiki categories: Арифметика (3), Делимость и остатки (3), Теория чисел (3)\n",
      "                   cluster_id: 19 (matching score: 0.79, purity: 1.00)\n",
      "                   common: число математика элементарный арифметика\n",
      "\n",
      "\n",
      "         Category: Геометрия\n",
      "                   wiki categories: Дифференциальная геометрия и топология (5), Топология (3), Геометрия (3)\n",
      "                   cluster_id: 41 (matching score: 0.61, purity: 0.83)\n",
      "                   common: пространство математика дифференциальный геометрия\n",
      "\n",
      "\n",
      "         Category: Топология\n",
      "                   wiki categories: Топология (3), Геометрия (3), Общая топология (2)\n",
      "                   cluster_id: 44 (matching score: 0.78, purity: 1.00)\n",
      "                   common: пространство математика топология алгебраический многообразие\n",
      "\n",
      "\n",
      "         Category: Теория функций комплексных переменных\n",
      "                   wiki categories: Комплексный анализ (3), Гармонические функции (2), Теория потенциала (2)\n",
      "                   cluster_id: 51 (matching score: 0.53, purity: 1.00)\n",
      "                   common: функция комплексный гармонический\n",
      "\n",
      "\n",
      "         Category: Топология\n",
      "                   wiki categories: Топология (3), Алгебраическая топология (3), Общая алгебра (3)\n",
      "                   cluster_id: 59 (matching score: 0.70, purity: 1.00)\n",
      "                   common: топология алгебраический\n",
      "\n",
      "\n",
      "         Category: Теория вероятностей и математическая статистика\n",
      "                   wiki categories: Теория вероятностей (3), Теория вероятностей и математическая статистика (3), Теория меры (3)\n",
      "                   cluster_id: 92 (matching score: 0.68, purity: 1.00)\n",
      "                   common: статистика математический вероятность\n",
      "\n",
      "\n",
      "         Category: Дифференциальные уравнения с частными производными\n",
      "                   wiki categories: Уравнения (3), Дифференциальные уравнения (2), Математический анализ (2)\n",
      "                   cluster_id: 150 (matching score: 0.77, purity: 1.00)\n",
      "                   common: нелинейный уравнение дифференциальный математика\n",
      "\n",
      "\n",
      "         Category: Теория вероятностей и математическая статистика\n",
      "                   wiki categories: Теория вероятностей (5), Теория вероятностей и математическая статистика (5), Теория меры (5)\n",
      "                   cluster_id: 216 (matching score: 0.68, purity: 1.00)\n",
      "                   common: статистика случайный математический вероятность\n",
      "\n",
      "\n",
      "         Category: Топология\n",
      "                   wiki categories: Топология (3), Общая топология (1), Расслоения (1)\n",
      "                   cluster_id: 321 (matching score: 0.85, purity: 1.00)\n",
      "                   common: топология алгебраический\n",
      "\n",
      "\n",
      "         Category: Геометрия\n",
      "                   wiki categories: Кривые (3), Трансцендентные кривые (2), Дифференциальная геометрия кривых (2)\n",
      "                   cluster_id: 443 (matching score: 0.44, purity: 1.00)\n",
      "                   common: геометрический дифференциальный алгебраический геометрия\n",
      "\n",
      "\n",
      "         Category: Теория вероятностей и математическая статистика\n",
      "                   wiki categories: Теория вероятностей (3), Теория вероятностей и математическая статистика (3), Теория меры (3)\n",
      "                   cluster_id: 526 (matching score: 0.68, purity: 1.00)\n",
      "                   common: статистика математика математический вероятность\n",
      "\n",
      "\n",
      "         Category: Математические модели естественных наук и технических наук. Уравнения математической физики\n",
      "                   wiki categories: Потенциал (3), Математическая физика (3), Физические науки (2)\n",
      "                   cluster_id: 565 (matching score: 0.24, purity: 1.00)\n",
      "                   common: электродинамика электромагнитный математический наука\n",
      "\n",
      "\n",
      "         Category: Теория вероятностей и математическая статистика\n",
      "                   wiki categories: Теория вероятностей (3), Теория меры (3), Теория вероятностей и математическая статистика (3)\n",
      "                   cluster_id: 599 (matching score: 0.59, purity: 1.00)\n",
      "                   common: статистика математический вероятность\n",
      "\n",
      "\n",
      "         Category: Теория вероятностей и математическая статистика\n",
      "                   wiki categories: Эконометрика (3), Математическая статистика (3), Анализ временных рядов (2)\n",
      "                   cluster_id: 634 (matching score: 0.69, purity: 1.00)\n",
      "                   common: статистический статистика случайный процесс вероятность математический\n",
      "\n",
      "\n",
      "         Category: Комбинаторный анализ. Теория графов\n",
      "                   wiki categories: Дискретная математика (3), Теория графов (3)\n",
      "                   cluster_id: 769 (matching score: 0.63, purity: 1.00)\n",
      "                   common: математика граф\n",
      "\n",
      "\n",
      "         Category: Дифференциальные уравнения с частными производными\n",
      "                   wiki categories: Дифференциальные уравнения в частных производных (4), Дифференциальное исчисление многих переменных (4), Математическая физика (4)\n",
      "                   cluster_id: 776 (matching score: 0.69, purity: 0.80)\n",
      "                   common: производный частное уравнение дифференциальный математика\n",
      "\n",
      "\n",
      "         Category: Алгебра\n",
      "                   wiki categories: Общая алгебра (6), Теория групп (5), Алгебра (2)\n",
      "                   cluster_id: 824 (matching score: 0.76, purity: 0.86)\n",
      "                   common: группа математика алгебра кольцо геометрия\n",
      "\n",
      "\n",
      "         Category: Функциональный анализ\n",
      "                   wiki categories: Функциональный анализ (5), Математический анализ (4), Математические теоремы (3)\n",
      "                   cluster_id: 833 (matching score: 0.57, purity: 0.83)\n",
      "                   common: функциональный оператор анализ\n",
      "\n",
      "\n",
      "         Category: Алгебра\n",
      "                   wiki categories: Линейная алгебра (3), Алгебра (3), Функциональный анализ (2)\n",
      "                   cluster_id: 888 (matching score: 0.57, purity: 1.00)\n",
      "                   common: линейный математика алгебра геометрия\n",
      "\n",
      "\n",
      "         Category: Основания математики и математическая логика\n",
      "                   wiki categories: Математика (3), Элементарная математика (2), Математические операции (1)\n",
      "                   cluster_id: 1030 (matching score: 0.47, purity: 1.00)\n",
      "                   common: функция математика математический\n",
      "\n",
      "\n",
      "         Category: Основания математики и математическая логика\n",
      "                   wiki categories: Логика (3), Разделы математики (3), Математика (3)\n",
      "                   cluster_id: 1070 (matching score: 0.65, purity: 1.00)\n",
      "                   common: математика логика математический\n",
      "\n",
      "\n",
      "         Category: Комбинаторный анализ. Теория графов\n",
      "                   wiki categories: Теория графов (4), Дискретная математика (3), Алгоритмы (2)\n",
      "                   cluster_id: 1073 (matching score: 0.54, purity: 1.00)\n",
      "                   common: математика граф\n",
      "\n",
      "\n",
      "         Category: Алгебра\n",
      "                   wiki categories: Общая алгебра (3), Теория колец (3), Теория категорий (1)\n",
      "                   cluster_id: 1132 (matching score: 0.67, purity: 1.00)\n",
      "                   common: категория кольцо модуль алгебра\n",
      "\n",
      "\n",
      "         Category: Алгебра\n",
      "                   wiki categories: Линейная алгебра (5), Алгебра (2), Матрицы (2)\n",
      "                   cluster_id: 1142 (matching score: 0.64, purity: 1.00)\n",
      "                   common: линейный математика алгебра геометрия\n",
      "\n",
      "\n",
      "         Category: Геометрия\n",
      "                   wiki categories: Дифференциальная геометрия кривых (3), Дифференциальная геометрия и топология (3), Общая топология (1)\n",
      "                   cluster_id: 1195 (matching score: 0.60, purity: 1.00)\n",
      "                   common: дифференциальный геометрия\n",
      "\n",
      "\n",
      "         Category: Топология\n",
      "                   wiki categories: Топология (3), Общая топология (2), Алгебраическая топология (1)\n",
      "                   cluster_id: 1206 (matching score: 0.88, purity: 1.00)\n",
      "                   common: математика топология алгебраический\n",
      "\n",
      "\n",
      "         Category: Математическая кибернетика\n",
      "                   wiki categories: Математический анализ (3), Пределы (2), Динамические системы (1)\n",
      "                   cluster_id: 1387 (matching score: 0.25, purity: 1.00)\n",
      "                   common: система математический\n",
      "\n",
      "\n",
      "         Category: Алгебра\n",
      "                   wiki categories: Теория групп (3), Общая алгебра (3)\n",
      "                   cluster_id: 1429 (matching score: 0.64, purity: 1.00)\n",
      "                   common: группа алгебра\n",
      "\n",
      "\n",
      "         Category: Комбинаторный анализ. Теория графов\n",
      "                   wiki categories: Теория графов (4), Дискретная математика (3), Семейства графов (2)\n",
      "                   cluster_id: 1447 (matching score: 0.61, purity: 1.00)\n",
      "                   common: математика граф\n",
      "\n",
      "\n",
      "         Category: Алгебра\n",
      "                   wiki categories: Алгебра (3), Линейная алгебра (2), Общая топология (1)\n",
      "                   cluster_id: 1497 (matching score: 0.64, purity: 1.00)\n",
      "                   common: линейный математика алгебра\n",
      "\n",
      "\n",
      "         Category: Геометрия\n",
      "                   wiki categories: Алгебраические кривые (3), Кривые (2), Геометрические фигуры (2)\n",
      "                   cluster_id: 1537 (matching score: 0.50, purity: 1.00)\n",
      "                   common: аналитический геометрический дифференциальный алгебраический геометрия\n",
      "\n",
      "\n",
      "         Category: Комбинаторный анализ. Теория графов\n",
      "                   wiki categories: Дискретная математика (3), Теория графов (3), Геометрические графы (1)\n",
      "                   cluster_id: 1569 (matching score: 0.65, purity: 1.00)\n",
      "                   common: математика граф\n",
      "\n",
      "\n",
      "         Category: Теория вероятностей и математическая статистика\n",
      "                   wiki categories: Теория вероятностей (3), Теоремы теории вероятностей и математической статистики (2), Теория меры (2)\n",
      "                   cluster_id: 1645 (matching score: 0.77, purity: 1.00)\n",
      "                   common: статистика случайный процесс математический вероятность\n",
      "\n",
      "\n",
      "         Category: Теория чисел\n",
      "                   wiki categories: Алгебраическая теория чисел (3), Теория чисел (3), Теория колец (3)\n",
      "                   cluster_id: 1712 (matching score: 0.77, purity: 1.00)\n",
      "                   common: число алгебраический\n",
      "\n",
      "\n",
      "         Category: Комбинаторный анализ. Теория графов\n",
      "                   wiki categories: Теория графов (3), Алгоритмы на графах (2), Алгоритмы (2)\n",
      "                   cluster_id: 1797 (matching score: 0.45, purity: 1.00)\n",
      "                   common: математика граф\n",
      "\n",
      "\n",
      "         Category: Алгебра\n",
      "                   wiki categories: Теория групп (4), Общая алгебра (3), Конечные группы (1)\n",
      "                   cluster_id: 1820 (matching score: 0.52, purity: 1.00)\n",
      "                   common: группа алгебра\n",
      "\n",
      "\n",
      "         Category: Теория функций действительного переменного\n",
      "                   wiki categories: Общие понятия о функциях (3), Теория множеств (3), Функции (3)\n",
      "                   cluster_id: 1956 (matching score: 0.70, purity: 1.00)\n",
      "                   common: функция математика\n",
      "\n",
      "\n",
      "         Category: Топология\n",
      "                   wiki categories: Топология (4), Общая топология (3), Многообразия (1)\n",
      "                   cluster_id: 2129 (matching score: 0.85, purity: 1.00)\n",
      "                   common: пространство топология многообразие\n",
      "\n",
      "\n",
      "         Category: Топология\n",
      "                   wiki categories: Дифференциальная геометрия и топология (7), Топология (6), Геометрия (4)\n",
      "                   cluster_id: 2215 (matching score: 0.58, purity: 1.00)\n",
      "                   common: математика топология многообразие\n",
      "\n",
      "\n",
      "         Category: Основания математики и математическая логика\n",
      "                   wiki categories: Математическая логика (3), Логика (2), Логика высказываний (2)\n",
      "                   cluster_id: 2226 (matching score: 0.47, purity: 1.00)\n",
      "                   common: математика логика математический\n",
      "\n",
      "\n",
      "         Category: Алгебра\n",
      "                   wiki categories: Теория категорий (4), Общая алгебра (4), Алгебра (2)\n",
      "                   cluster_id: 2250 (matching score: 0.60, purity: 1.00)\n",
      "                   common: категория математика алгебра\n",
      "\n",
      "\n",
      "         Category: Теория чисел\n",
      "                   wiki categories: Математика (3), Разделы математики (2), Теория чисел (2)\n",
      "                   cluster_id: 2271 (matching score: 0.80, purity: 1.00)\n",
      "                   common: число математика элементарный\n",
      "\n",
      "\n",
      "         Category: Алгебра\n",
      "                   wiki categories: Общая алгебра (3), Дифференциальная алгебра (1), Геометрия (1)\n",
      "                   cluster_id: 2279 (matching score: 0.70, purity: 1.00)\n",
      "                   common: геометрия кольцо алгебраический алгебра\n",
      "\n",
      "\n",
      "         Category: Теория чисел\n",
      "                   wiki categories: Безразмерные величины в гидродинамике (3), Критерии подобия (3), Гидродинамика (3)\n",
      "                   cluster_id: 2321 (matching score: 0.28, purity: 1.00)\n",
      "                   common: число уравнение\n",
      "\n",
      "\n",
      "         Category: Теория функций комплексных переменных\n",
      "                   wiki categories: Теоремы комплексного анализа (3), Математические теоремы (3), Комплексный анализ (3)\n",
      "                   cluster_id: 2365 (matching score: 0.45, purity: 1.00)\n",
      "                   common: функция комплексный\n",
      "\n",
      "\n",
      "         Category: Алгебра\n",
      "                   wiki categories: Теория колец (3), Теория полей (2), Теория групп (1)\n",
      "                   cluster_id: 2397 (matching score: 0.42, purity: 1.00)\n",
      "                   common: группа кольцо поль алгебраический алгебра\n",
      "\n",
      "\n",
      "         Category: Топология\n",
      "                   wiki categories: Топология (4), Дифференциальная геометрия и топология (4), Слоения (4)\n",
      "                   cluster_id: 2441 (matching score: 0.73, purity: 0.80)\n",
      "                   common: математика топология\n",
      "\n",
      "\n",
      "         Category: Теория функций комплексных переменных\n",
      "                   wiki categories: Математический анализ (3), Комплексный анализ (3), Теоремы комплексного анализа (2)\n",
      "                   cluster_id: 2694 (matching score: 0.47, purity: 1.00)\n",
      "                   common: функция комплексный\n",
      "\n",
      "\n",
      "         Category: Функциональный анализ\n",
      "                   wiki categories: Функциональный анализ (4), Линейная алгебра (3), Математический анализ (3)\n",
      "                   cluster_id: 2724 (matching score: 0.59, purity: 0.80)\n",
      "                   common: функциональный оператор топологический алгебра пространство линейный анализ математика\n",
      "\n",
      "\n",
      "\n",
      "     Category: МЕТРОЛОГИЯ\n",
      "\n",
      "         Category: Измерения отдельных величин и характеристик\n",
      "                   wiki categories: Единицы измерения (3), Системы мер (2), Макс Планк (2)\n",
      "                   cluster_id: 2637 (matching score: 0.48, purity: 1.00)\n",
      "                   common: измерение время величина константа\n",
      "\n",
      "\n",
      "\n",
      "     Category: МЕХАНИКА\n",
      "\n",
      "         Category: Комплексные и специальные разделы механики\n",
      "                   wiki categories: Гидродинамика (5), Критерии подобия (2), Безразмерные параметры (2)\n",
      "                   cluster_id: 1683 (matching score: 0.25, purity: 1.00)\n",
      "                   common: гидродинамика среда магнитный свойство плазма раздел\n",
      "\n",
      "\n",
      "         Category: Общая механика\n",
      "                   wiki categories: Небесная механика (3), Гравитация (3), Орбиты (2)\n",
      "                   cluster_id: 2939 (matching score: 0.43, purity: 1.00)\n",
      "                   common: космический полёт механик\n",
      "\n",
      "\n",
      "\n",
      "     Category: СТАТИСТИКА\n",
      "\n",
      "         Category: Общая теория статистики\n",
      "                   wiki categories: Статистическая физика (3), Физические науки (2), Прикладная статистика (1)\n",
      "                   cluster_id: 2122 (matching score: 0.69, purity: 1.00)\n",
      "                   common: статистика статистический прикладной\n",
      "\n",
      "\n",
      "\n",
      "     Category: ФИЗИКА\n",
      "\n",
      "         Category: Физика элементарных частиц. Теория полей. Физика высоких энергий\n",
      "                   wiki categories: Категории учёных (3), Альберт Эйнштейн (3), Гравитация (2)\n",
      "                   cluster_id: 330 (matching score: 0.31, purity: 1.00)\n",
      "                   common: элементарный частица фундаментальный физик астрофизик физика космология относительность\n",
      "\n",
      "\n",
      "         Category: Физика элементарных частиц. Теория полей. Физика высоких энергий\n",
      "                   wiki categories: Квантовая физика (3), Физические науки (2), Прикладная статистика (1)\n",
      "                   cluster_id: 902 (matching score: 0.44, purity: 1.00)\n",
      "                   common: физик взаимодействие квантовый физика механик\n",
      "\n",
      "\n",
      "         Category: Физика элементарных частиц. Теория полей. Физика высоких энергий\n",
      "                   wiki categories: Релятивистские и гравитационные явления (4), Физические эффекты и явления (3), Общая теория относительности (3)\n",
      "                   cluster_id: 1056 (matching score: 0.32, purity: 0.80)\n",
      "                   common: физика специальный гравитационный релятивистский физик астрофизик космология относительность\n",
      "\n",
      "\n",
      "         Category: Физика элементарных частиц. Теория полей. Физика высоких энергий\n",
      "                   wiki categories: Гравитация (4), Классическая механика (3), Классическая физика (2)\n",
      "                   cluster_id: 1498 (matching score: 0.45, purity: 1.00)\n",
      "                   common: элементарный взаимодействие физика механик закон фундаментальный гравитационный физик частица относительность космология классический\n",
      "\n",
      "\n",
      "         Category: Физика твердых тел\n",
      "                   wiki categories: Физика конденсированного состояния (3), Кристаллография (3), Физика твёрдого тела (3)\n",
      "                   cluster_id: 1622 (matching score: 0.59, purity: 1.00)\n",
      "                   common: дефект твёрдый состояние физик конденсировать тело\n",
      "\n",
      "\n",
      "         Category: Оптика\n",
      "                   wiki categories: Оптика (3), Физические науки (3), Методы экспериментальной физики (3)\n",
      "                   cluster_id: 1636 (matching score: 0.56, purity: 1.00)\n",
      "                   common: оптик волновой физик излучение физический\n",
      "\n",
      "\n",
      "         Category: Физика твердых тел\n",
      "                   wiki categories: Физика твёрдого тела (4), Твёрдое тело (4), Физика конденсированного состояния (4)\n",
      "                   cluster_id: 1643 (matching score: 0.66, purity: 0.80)\n",
      "                   common: твёрдый состояние полупроводник физик конденсировать тело\n",
      "\n",
      "\n",
      "         Category: Общие проблемы физического эксперимента\n",
      "                   wiki categories: Термодинамические потенциалы (3), Физические величины (3), Термодинамика (3)\n",
      "                   cluster_id: 1650 (matching score: 0.36, purity: 1.00)\n",
      "                   common: физик физический\n",
      "\n",
      "\n",
      "         Category: Общие проблемы физического эксперимента\n",
      "                   wiki categories: Термодинамика (5), Физика (3), Статистическая физика (3)\n",
      "                   cluster_id: 1940 (matching score: 0.40, purity: 1.00)\n",
      "                   common: система физик физический\n",
      "\n",
      "\n",
      "         Category: Оптика\n",
      "                   wiki categories: Оптика (4), Физические науки (4), Волновая физика (4)\n",
      "                   cluster_id: 2522 (matching score: 0.45, purity: 1.00)\n",
      "                   common: излучение волновой физик оптик физический\n",
      "\n",
      "\n",
      "         Category: Оптика\n",
      "                   wiki categories: Оптика (3), Физические науки (3), Методы экспериментальной физики (3)\n",
      "                   cluster_id: 2692 (matching score: 0.51, purity: 1.00)\n",
      "                   common: оптик волновой физик физический\n",
      "\n",
      "\n",
      "         Category: Оптика\n",
      "                   wiki categories: Оптика (3), Физика твёрдого тела (2), Твёрдое тело (2)\n",
      "                   cluster_id: 2739 (matching score: 0.62, purity: 1.00)\n",
      "                   common: оптический оптик твёрдый физический физик волновой тело\n",
      "\n",
      "\n",
      "         Category: Оптика\n",
      "                   wiki categories: Волновая физика (3), Оптика (3), Фотометрия (3)\n",
      "                   cluster_id: 2796 (matching score: 0.42, purity: 1.00)\n",
      "                   common: оптик волновой физик физический\n",
      "\n",
      "\n",
      "         Category: Физика элементарных частиц. Теория полей. Физика высоких энергий\n",
      "                   wiki categories: Гравитация (4), Астрономия (3), Физика (2)\n",
      "                   cluster_id: 2839 (matching score: 0.41, purity: 1.00)\n",
      "                   common: взаимодействие эксперимент механик фундаментальный гравитационный релятивистский физик классический физика космология относительность\n",
      "\n",
      "\n",
      "\n",
      "     Category: ХИМИЧЕСКАЯ ТЕХНОЛОГИЯ.  ХИМИЧЕСКАЯ ПРОМЫШЛЕННОСТЬ\n",
      "\n",
      "         Category: Технология неорганических веществ и продуктов\n",
      "                   wiki categories: Химические соединения по элементам (4), Соединения меди (4), Соединения кислорода (2)\n",
      "                   cluster_id: 282 (matching score: 0.72, purity: 1.00)\n",
      "                   common: вещество соединение элемент сера химический\n",
      "\n",
      "\n",
      "         Category: Технология неорганических веществ и продуктов\n",
      "                   wiki categories: Химические соединения по элементам (4), Соединения марганца (3), Марганец (3)\n",
      "                   cluster_id: 428 (matching score: 0.62, purity: 1.00)\n",
      "                   common: соединение неорганический элемент химический вещество материал калия\n",
      "\n",
      "\n",
      "         Category: Технология неорганических веществ и продуктов\n",
      "                   wiki categories: Химические соединения по элементам (3), Сульфиды (1), Соединения палладия (1)\n",
      "                   cluster_id: 1578 (matching score: 0.73, purity: 1.00)\n",
      "                   common: соединение сера элемент химический\n",
      "\n",
      "\n",
      "         Category: Технология неорганических веществ и продуктов\n",
      "                   wiki categories: Соединения калия (3), Калий (3), Химические соединения по элементам (3)\n",
      "                   cluster_id: 2562 (matching score: 0.54, purity: 1.00)\n",
      "                   common: соединение неорганический элемент химический вещество материал калия\n",
      "\n",
      "\n",
      "\n",
      "     Category: ЭКОНОМИКА. ЭКОНОМИЧЕСКИЕ НАУКИ\n",
      "\n",
      "         Category: Общие вопросы экономических наук\n",
      "                   wiki categories: Физические науки (4), Квантовая физика (3), Механика (2)\n",
      "                   cluster_id: 2901 (matching score: 0.29, purity: 0.80)\n",
      "                   common: общество наука\n",
      "\n",
      "\n",
      "\n",
      "     Category: ЭЛЕКТРОНИКА. РАДИОТЕХНИКА\n",
      "\n",
      "         Category: Радиоэлектронные схемы\n",
      "                   wiki categories: Аналоговые системы (3), Электронные схемы (2), Схемотехника (2)\n",
      "                   cluster_id: 1395 (matching score: 0.39, purity: 1.00)\n",
      "                   common: схема радиотехник электроника\n",
      "\n",
      "\n",
      "         Category: Узлы\n",
      "                   wiki categories: Атомы (3), Химические элементы (3), Элементы, предсказанные Дмитрием Менделеевым (3)\n",
      "                   cluster_id: 2815 (matching score: 0.41, purity: 1.00)\n",
      "                   common: элемент электроника\n",
      "\n",
      "\n",
      "\n",
      "     Category: ЭЛЕКТРОТЕХНИКА\n",
      "\n",
      "         Category: Электрические машины\n",
      "                   wiki categories: Электротехника (3), Электрические машины (2), Электромеханика (2)\n",
      "                   cluster_id: 1938 (matching score: 0.85, purity: 1.00)\n",
      "                   common: переменный постоянный электрический ток машина электротехник\n",
      "\n",
      "\n",
      "\n"
     ]
    }
   ],
   "source": [
    "ROOT.print_ns(print_rels=0)"
   ]
  },
  {
   "cell_type": "code",
   "execution_count": null,
   "metadata": {
    "collapsed": true
   },
   "outputs": [],
   "source": []
  },
  {
   "cell_type": "code",
   "execution_count": 48,
   "metadata": {
    "collapsed": false
   },
   "outputs": [
    {
     "name": "stdout",
     "output_type": "stream",
     "text": [
      "МАТЕМАТИКА: Алгебра 10\n",
      "OTHER: Иммунобиотехнологические методы анализа 8\n",
      "МАТЕМАТИКА: Топология 7\n",
      "МАТЕМАТИКА: Теория вероятностей и математическая статистика 6\n",
      "ФИЗИКА: Физика элементарных частиц. Теория полей. Физика высоких энергий 5\n",
      "МАТЕМАТИКА: Комбинаторный анализ. Теория графов 5\n",
      "ФИЗИКА: Оптика 5\n",
      "МАТЕМАТИКА: Теория чисел 4\n",
      "МАТЕМАТИКА: Геометрия 4\n",
      "OTHER: Общая механика 4\n",
      "ХИМИЧЕСКАЯ ТЕХНОЛОГИЯ.  ХИМИЧЕСКАЯ ПРОМЫШЛЕННОСТЬ: Технология неорганических веществ и продуктов 4\n",
      "МАТЕМАТИКА: Основания математики и математическая логика 3\n",
      "МАТЕМАТИКА: Теория функций комплексных переменных 3\n",
      "КИБЕРНЕТИКА: Теория информации 2\n",
      "ФИЗИКА: Физика твердых тел 2\n"
     ]
    }
   ],
   "source": [
    "top_namespaces = set()\n",
    "for (p, c), t in Counter([(p, c) for id, (p, c) in namespace_name]).most_common(15):\n",
    "    print p + ': ' + c, t\n",
    "    top_namespaces.add((p, c))"
   ]
  },
  {
   "cell_type": "code",
   "execution_count": 49,
   "metadata": {
    "collapsed": true
   },
   "outputs": [],
   "source": [
    "top_ns = defaultdict(list)\n",
    "\n",
    "for id, pair in namespace_name:\n",
    "    if pair in top_namespaces:\n",
    "        top_ns[pair].append(id)"
   ]
  },
  {
   "cell_type": "code",
   "execution_count": 50,
   "metadata": {
    "collapsed": true
   },
   "outputs": [],
   "source": [
    "import cluster_evaluation\n",
    "reload(cluster_evaluation)\n",
    "evaluate = cluster_evaluation.Evaluator(doc_titles=titles, doc_ids=ids, \n",
    "                                        doc_ids_definitions=rels, doc_categories=doc_categories_list)"
   ]
  },
  {
   "cell_type": "code",
   "execution_count": 62,
   "metadata": {
    "collapsed": false,
    "scrolled": true
   },
   "outputs": [
    {
     "name": "stdout",
     "output_type": "stream",
     "text": [
      "10 МАТЕМАТИКА :  Алгебра\n",
      "common terms: ()\n",
      "top categories: (Общая алгебра, 23), (Алгебра, 13), (Теория групп, 13), (Линейная алгебра, 10), (Теория колец, 8)\n",
      "purity: 7.667\n",
      "relations:\n",
      "G: группа (15.38)\n",
      "V: пространство* (14.65)\n",
      "p: простой число* (7.57)\n",
      "K: подпространство* (6.38)\n",
      "R: кольцо* (6.34)\n",
      "C: категория (5.70)\n",
      "n: o ( n )* (5.42)\n",
      "F: поль (4.79)\n",
      "L: линейный пространство* (4.68)\n",
      "D: категория (4.55)\n",
      "Действие группы (340), Линейная алгебра (291), Векторное пространство (276), Алгебра (236), Нормированное пространство (218),\n",
      "\n",
      "\n",
      "7 МАТЕМАТИКА :  Топология\n",
      "common terms: ()\n",
      "top categories: (Топология, 26), (Дифференциальная геометрия и топология, 16), (Геометрия, 13), (Общая топология, 8), (Общая алгебра, 7)\n",
      "purity: 5.200\n",
      "relations:\n",
      "M: многообразие* (23.39)\n",
      "X: топологический пространство* (14.01)\n",
      "n: многообразие* (7.29)\n",
      "U: окрестность* (3.89)\n",
      "C: класс (3.85)\n",
      "S: пучок (2.76)\n",
      "x: пространство* (2.71)\n",
      "k: ранг (1.97)\n",
      "V: слой (1.95)\n",
      "f: степень отображение* (1.94)\n",
      "Параллельное поле (133), Алгебраическая топология (132), Векторное расслоение (115), Когомологии де Рама (109), Структура (дифференциальная геометрия) (106),\n",
      "\n",
      "\n",
      "6 МАТЕМАТИКА :  Теория вероятностей и математическая статистика\n",
      "common terms: ()\n",
      "top categories: (Теория вероятностей, 18), (Теория вероятностей и математическая статистика, 17), (Теория меры, 16), (Математические теоремы, 9), (Теоремы теории вероятностей и математической статистики, 7)\n",
      "purity: 6.000\n",
      "relations:\n",
      "Ω: элементарный событие* (5.47)\n",
      "P: вероятность* (3.80)\n",
      "F: алгебра событие* (2.96)\n",
      "X: случайный величина* (2.83)\n",
      "ω: множество элемент* (1.94)\n",
      "g: интегрировать функция* (1.94)\n",
      "n: стремление* (1.94)\n",
      "N: счётный мера (1.90)\n",
      "σ: событие (1.90)\n",
      "p: момент (1.86)\n",
      "Случайная величина (178), Аксиоматика Колмогорова (140), Пространство элементарных событий (47), Теорема Лебега о мажорируемой сходимости (42), T-Критерий Стьюдента (30),\n",
      "\n",
      "\n",
      "5 ФИЗИКА :  Физика элементарных частиц. Теория полей. Физика высоких энергий\n",
      "common terms: ()\n",
      "top categories: (Гравитация, 12), (Астрономия, 8), (Общая теория относительности, 8), (Теория относительности, 6), (Физическая космология, 6)\n",
      "purity: 3.000\n",
      "relations:\n",
      "G: гравитационный постоянный* (11.39)\n",
      "M: масса (6.65)\n",
      "c: скорость свет (6.57)\n",
      "m_2: масса (3.69)\n",
      "m: масса (2.94)\n",
      "Ψ: волновой функция (2.90)\n",
      "m_1: материальный точка масса* (2.87)\n",
      "t: время (2.87)\n",
      "r: расстояние* (2.86)\n",
      "R: масса (2.53)\n",
      "Чёрная дыра (538), Гравитационное красное смещение (324), Квантовый компьютер (176), Метрика Шварцшильда (80), Гравитация (70),\n",
      "\n",
      "\n",
      "5 ФИЗИКА :  Оптика\n",
      "common terms: ()\n",
      "top categories: (Оптика, 16), (Физические науки, 14), (Волновая физика, 14), (Фотометрия, 12), (Методы экспериментальной физики, 12)\n",
      "purity: 5.333\n",
      "relations:\n",
      "Φ_0: поток излучение (5.72)\n",
      "λ: длина (3.66)\n",
      "Φ: поток излучение (2.94)\n",
      "l: расстояние (2.89)\n",
      "ε: приёмник (2.78)\n",
      "n_1: показатель преломление* (2.78)\n",
      "K_m: световой эффективность излучение (2.68)\n",
      "n: показатель преломление* (2.66)\n",
      "n_2: преломление среда* (2.64)\n",
      "r: рассеяние (1.97)\n",
      "Энергия излучения (оптика) (90), Облучённость (фотометрия) (73), Фотонный кристалл (72), Свет (66), Сила излучения (фотометрия) (65),\n",
      "\n",
      "\n",
      "5 МАТЕМАТИКА :  Комбинаторный анализ. Теория графов\n",
      "common terms: ()\n",
      "top categories: (Теория графов, 17), (Дискретная математика, 13), (Алгоритмы, 4), (Алгоритмы на графах, 4), (Семейства графов, 3)\n",
      "purity: 5.667\n",
      "relations:\n",
      "G: граф* (10.46)\n",
      "t: сток* (4.75)\n",
      "u: вершина* (4.70)\n",
      "V: множество* (4.66)\n",
      "v: вершина (4.47)\n",
      "s: сток* (4.39)\n",
      "n: вершина (2.96)\n",
      "r: остаток (1.90)\n",
      "k: содержимый* (1.88)\n",
      "G_1: подграф* (1.79)\n",
      "Расстояние (теория графов) (65), Транспортная сеть (59), Шарнир (теория графов) (58), Алгоритм Форда — Фалкерсона (53), Кнезеровский граф (46),\n",
      "\n",
      "\n",
      "4 МАТЕМАТИКА :  Теория чисел\n",
      "common terms: ()\n",
      "top categories: (Теория чисел, 8), (Математика, 6), (Разделы математики, 5), (Критерии подобия, 3), (Гидродинамика, 3)\n",
      "purity: 2.667\n",
      "relations:\n",
      "n: целое число* (3.70)\n",
      "K: кольцо* (3.60)\n",
      "p: простой модуль* (2.96)\n",
      "m: целое число (2.88)\n",
      "Q: рациональный число (1.93)\n",
      "p_0: наименьший (1.86)\n",
      "O_K: кольцо* (1.82)\n",
      "b: делитель* (1.72)\n",
      "S: последовательность (0.99)\n",
      "Z: группа (0.99)\n",
      "Основная теорема арифметики (257), Наибольший общий делитель (156), Наименьшее общее кратное (83), Алгебраическое числовое поле (78), Теорема Дирихле о единицах (56),\n",
      "\n",
      "\n",
      "4 ХИМИЧЕСКАЯ ТЕХНОЛОГИЯ.  ХИМИЧЕСКАЯ ПРОМЫШЛЕННОСТЬ :  Технология неорганических веществ и продуктов\n",
      "common terms: ()\n",
      "top categories: (Химические соединения по элементам, 14), (Химические вещества, 5), (Соединения калия, 5), (Калий, 5), (Соединения меди, 4)\n",
      "purity: 4.667\n",
      "relations:\n",
      "C: пространственный группа (1.97)\n",
      "KCl: ом раствор (1.94)\n",
      "O_2: объём (1.91)\n",
      "NH_4: аммоний (1.86)\n",
      "CuS: ковеллина (0.99)\n",
      "CuSO_4: растворимость (0.99)\n",
      "F: пространственный группа (0.99)\n",
      "KO_2: надпероксид калия (0.99)\n",
      "Cu: гидроксид медь ( ii ) (0.96)\n",
      "CuO: оксид медь ( ii ) (0.96)\n",
      "Медь (377), Марганец (224), Перманганат калия (178), Калий (171), Бромид калия (122),\n",
      "\n",
      "\n",
      "4 МАТЕМАТИКА :  Геометрия\n",
      "common terms: ()\n",
      "top categories: (Дифференциальная геометрия и топология, 8), (Дифференциальная геометрия кривых, 6), (Кривые, 5), (Геометрия, 5), (Геометрические фигуры, 4)\n",
      "purity: 2.667\n",
      "relations:\n",
      "M: многообразие* (8.65)\n",
      "k: эпициклоида* (3.75)\n",
      "p: многообразие* (3.47)\n",
      "s: кривая* (2.73)\n",
      "Γ: псевдогруппа преобразование (1.94)\n",
      "O: фокусный отрезка (0.99)\n",
      "n: индекс (0.99)\n",
      "v: есть точка (0.99)\n",
      "γ: ориентировать кривизна кривая (0.99)\n",
      "π: угол (0.99)\n",
      "Лемниската Бернулли (610), Циссоида Диокла (110), Число Маха (83), Эпициклоида (72), Псевдогруппа преобразований (69),\n",
      "\n",
      "\n",
      "3 МАТЕМАТИКА :  Основания математики и математическая логика\n",
      "common terms: ()\n",
      "top categories: (Математика, 7), (Математическая логика, 6), (Логика, 5), (Разделы математики, 5), (Логика высказываний, 2)\n",
      "purity: 2.333\n",
      "relations:\n",
      "y: вещественный число (1.86)\n",
      "¬: отрицание (1.84)\n",
      "B: импликация (0.99)\n",
      "n: дробь вид (0.99)\n",
      "p: пропозициональный переменный (0.99)\n",
      "r: буква (0.99)\n",
      "z: экспонент (0.99)\n",
      "z_2: модуль (0.99)\n",
      "b: показатель (0.96)\n",
      "R: поль (0.95)\n",
      "Комплексное число (365), История арифметики (80), Возведение в степень (54), Импликация (45), Логика высказываний (20),\n",
      "\n",
      "\n",
      "3 МАТЕМАТИКА :  Теория функций комплексных переменных\n",
      "common terms: (функция)\n",
      "top categories: (Комплексный анализ, 9), (Теоремы комплексного анализа, 6), (Математические теоремы, 6), (Математический анализ, 5), (Функции, 5)\n",
      "purity: 3.000\n",
      "relations:\n",
      "D: голоморфный функция* (5.21)\n",
      "f: целый функция* (4.87)\n",
      "h: функция* (4.34)\n",
      "g: функция* (3.70)\n",
      "z: комплексный плоскость (1.95)\n",
      "F: последовательность (1.90)\n",
      "u: граничный условие* (1.80)\n",
      "n: комплексный (0.99)\n",
      "r: радиус (0.99)\n",
      "λ: нуль порядок (0.96)\n",
      "Теорема Чеботарёва об устойчивости функции (51), Плюрисубгармоническая функция (42), Теорема Стилтьеса (36), Теорема Эрмита — Билера (32), Теорема Монтеля о приближении многочленами (32),\n",
      "\n",
      "\n",
      "2 ФИЗИКА :  Физика твердых тел\n",
      "common terms: (больцмана постоянный)\n",
      "top categories: (Физика твёрдого тела, 7), (Твёрдое тело, 7), (Физика конденсированного состояния, 7), (Кристаллография, 3), (Дефекты кристалла, 3)\n",
      "purity: 1.400\n",
      "relations:\n",
      "k_B: постоянный больцмана (5.64)\n",
      "k: постоянный больцмана (2.85)\n",
      "θ_D: температура (2.85)\n",
      "n: шотткать (1.97)\n",
      "T: температура (1.94)\n",
      "N: атом (1.88)\n",
      "s: скорость звук (0.99)\n",
      "N_A: постоянный авогадро (0.95)\n",
      "S: увеличение энтропия (0.95)\n",
      "T_D: температура дебай (0.95)\n",
      "Температура Дебая (82), Дефект по Шоттки (40), Вакансия (физика) (23), Модель Дебая (20), Вириальное разложение (17),\n",
      "\n",
      "\n",
      "2 КИБЕРНЕТИКА :  Теория информации\n",
      "common terms: (n)\n",
      "top categories: (Цифровые системы, 8), (Теория кодирования, 8), (Теория информации, 8), (Обнаружение и устранение ошибок, 5), (Ошибки, 5)\n",
      "purity: 1.600\n",
      "relations:\n",
      "d: расстояние хэмминг* (7.40)\n",
      "n: кодовый слово* (4.64)\n",
      "C: линейный пространство* (4.38)\n",
      "H: проверочный матрица* (2.84)\n",
      "t: ошибка (2.83)\n",
      "x: расстояние хэмминг (2.79)\n",
      "α: поль (2.61)\n",
      "F_q: поль (1.97)\n",
      "k: фрагмент длина (1.95)\n",
      "q: мощность (1.95)\n",
      "Обнаружение и исправление ошибок (217), Линейный код (175), Код Боуза — Чоудхури — Хоквингема (106), Код Рида — Соломона (105), Неравенство Гильберта — Варшамова (60),\n",
      "\n",
      "\n"
     ]
    }
   ],
   "source": [
    "for (p, c), id_list in sorted(top_ns.items(), key=lambda k: -len(k[1])):\n",
    "    if p == 'OTHER':\n",
    "        continue\n",
    "    print len(id_list), p, ': ', c\n",
    "    \n",
    "    evaluate.print_cluster(cluster_assignment, id_list, print_docs=0, sort_by_score=1, normalize_score=0, \n",
    "                           top_k_def=10, scorer=fuzz.UQRatio)\n",
    "\n",
    "    all_idx = np.array([], dtype=np.int)\n",
    "\n",
    "    for cluster_id in id_list:\n",
    "        indices, = np.where(cluster_assignment == cluster_id)\n",
    "        all_idx = np.concatenate((all_idx, indices))\n",
    "        \n",
    "    all_articles = []\n",
    "    for np_idx in all_idx:\n",
    "        idx = int(np_idx)\n",
    "        no_ids = sum(c for _, c in ids[idx].items())\n",
    "        all_articles.append((idx, no_ids))\n",
    "    \n",
    "    all_articles = sorted(all_articles, key=lambda k: k[1], reverse=True)[:5]\n",
    "    \n",
    "    all_idx, _ = zip(*all_articles)\n",
    "    \n",
    "    for idx, size in all_articles:\n",
    "        print '%s (%s),' % (titles[idx], size),\n",
    "    \n",
    "    print \n",
    "    print\n",
    "    print"
   ]
  },
  {
   "cell_type": "code",
   "execution_count": null,
   "metadata": {
    "collapsed": true
   },
   "outputs": [],
   "source": []
  },
  {
   "cell_type": "code",
   "execution_count": 74,
   "metadata": {
    "collapsed": false,
    "scrolled": true
   },
   "outputs": [
    {
     "name": "stdout",
     "output_type": "stream",
     "text": [
      "overall purity 0.7300\n",
      "number of high purity clusters of size at least 5 is 105\n",
      "\n",
      "category \"Механика\", cluster_id=770, size=5:\n",
      "top categories: [(u'\\u041c\\u0435\\u0445\\u0430\\u043d\\u0438\\u043a\\u0430', 4), (u'\\u041a\\u043b\\u0430\\u0441\\u0441\\u0438\\u0447\\u0435\\u0441\\u043a\\u0430\\u044f \\u043c\\u0435\\u0445\\u0430\\u043d\\u0438\\u043a\\u0430', 3), (u'\\u0422\\u0435\\u043e\\u0440\\u0435\\u0442\\u0438\\u0447\\u0435\\u0441\\u043a\\u0430\\u044f \\u043c\\u0435\\u0445\\u0430\\u043d\\u0438\\u043a\\u0430', 2), (u'\\u0422\\u0435\\u043e\\u0440\\u0435\\u0442\\u0438\\u0447\\u0435\\u0441\\u043a\\u0430\\u044f \\u0444\\u0438\\u0437\\u0438\\u043a\\u0430', 2), (u'\\u0424\\u0438\\u0437\\u0438\\u0447\\u0435\\u0441\\u043a\\u0438\\u0435 \\u043d\\u0430\\u0443\\u043a\\u0438', 1)]\n",
      "     μ: (привести масса: 0.95)\n",
      "category \"Физические науки\", cluster_id=1048, size=3:\n",
      "top categories: [(u'\\u0424\\u0438\\u0437\\u0438\\u0447\\u0435\\u0441\\u043a\\u0438\\u0435 \\u043d\\u0430\\u0443\\u043a\\u0438', 3), (u'\\u0410\\u0441\\u0442\\u0440\\u043e\\u0444\\u0438\\u0437\\u0438\\u043a\\u0430', 3), (u'\\u0410\\u0441\\u0442\\u0440\\u043e\\u043d\\u043e\\u043c\\u0438\\u044f', 3), (u'\\u041d\\u0435\\u0439\\u0442\\u0440\\u043e\\u043d\\u043d\\u0430\\u044f \\u0444\\u0438\\u0437\\u0438\\u043a\\u0430', 1), (u'\\u041f\\u0435\\u0440\\u0435\\u043c\\u0435\\u043d\\u043d\\u044b\\u0435 \\u0437\\u0432\\u0451\\u0437\\u0434\\u044b', 1)]\n",
      "     μ: (идеальный политропной: 0.89), (нейтронизация: 0.83)\n",
      "category \"Математическая статистика\", cluster_id=1205, size=3:\n",
      "top categories: [(u'\\u041c\\u0430\\u0442\\u0435\\u043c\\u0430\\u0442\\u0438\\u0447\\u0435\\u0441\\u043a\\u0430\\u044f \\u0441\\u0442\\u0430\\u0442\\u0438\\u0441\\u0442\\u0438\\u043a\\u0430', 3), (u'\\u0412\\u044b\\u0431\\u043e\\u0440\\u043e\\u0447\\u043d\\u044b\\u0439 \\u043c\\u0435\\u0442\\u043e\\u0434', 2), (u'\\u0421\\u0442\\u0430\\u0442\\u0438\\u0441\\u0442\\u0438\\u043a\\u0430', 1), (u'\\u0422\\u0435\\u043e\\u0440\\u0438\\u044f \\u0432\\u0435\\u0440\\u043e\\u044f\\u0442\\u043d\\u043e\\u0441\\u0442\\u0435\\u0439 \\u0438 \\u043c\\u0430\\u0442\\u0435\\u043c\\u0430\\u0442\\u0438\\u0447\\u0435\\u0441\\u043a\\u0430\\u044f \\u0441\\u0442\\u0430\\u0442\\u0438\\u0441\\u0442\\u0438\\u043a\\u0430', 1)]\n",
      "     μ: (среднее: 0.99), (доверительный интервал: 0.83)\n",
      "category \"Термодинамические потенциалы\", cluster_id=1650, size=3:\n",
      "top categories: [(u'\\u0422\\u0435\\u0440\\u043c\\u043e\\u0434\\u0438\\u043d\\u0430\\u043c\\u0438\\u0447\\u0435\\u0441\\u043a\\u0438\\u0435 \\u043f\\u043e\\u0442\\u0435\\u043d\\u0446\\u0438\\u0430\\u043b\\u044b', 3), (u'\\u0424\\u0438\\u0437\\u0438\\u0447\\u0435\\u0441\\u043a\\u0438\\u0435 \\u0432\\u0435\\u043b\\u0438\\u0447\\u0438\\u043d\\u044b', 3), (u'\\u0422\\u0435\\u0440\\u043c\\u043e\\u0434\\u0438\\u043d\\u0430\\u043c\\u0438\\u043a\\u0430', 3), (u'\\u042d\\u043d\\u0435\\u0440\\u0433\\u0438\\u044f', 1), (u'\\u0424\\u0443\\u043d\\u0434\\u0430\\u043c\\u0435\\u043d\\u0442\\u0430\\u043b\\u044c\\u043d\\u044b\\u0435 \\u0444\\u0438\\u0437\\u0438\\u0447\\u0435\\u0441\\u043a\\u0438\\u0435 \\u043f\\u043e\\u043d\\u044f\\u0442\\u0438\\u044f', 1)]\n",
      "     μ: (химический потенциал: 2.85), (свободный энергия гельмгольц: 0.95), (компонент: 0.95)\n",
      "category \"Гидродинамика\", cluster_id=1683, size=5:\n",
      "top categories: [(u'\\u0413\\u0438\\u0434\\u0440\\u043e\\u0434\\u0438\\u043d\\u0430\\u043c\\u0438\\u043a\\u0430', 5), (u'\\u041a\\u0440\\u0438\\u0442\\u0435\\u0440\\u0438\\u0438 \\u043f\\u043e\\u0434\\u043e\\u0431\\u0438\\u044f', 2), (u'\\u0411\\u0435\\u0437\\u0440\\u0430\\u0437\\u043c\\u0435\\u0440\\u043d\\u044b\\u0435 \\u043f\\u0430\\u0440\\u0430\\u043c\\u0435\\u0442\\u0440\\u044b', 2), (u'\\u0411\\u0435\\u0437\\u0440\\u0430\\u0437\\u043c\\u0435\\u0440\\u043d\\u044b\\u0435 \\u0432\\u0435\\u043b\\u0438\\u0447\\u0438\\u043d\\u044b \\u0432 \\u0433\\u0438\\u0434\\u0440\\u043e\\u0434\\u0438\\u043d\\u0430\\u043c\\u0438\\u043a\\u0435', 2), (u'\\u041c\\u0435\\u0442\\u043e\\u0434\\u044b \\u044d\\u043a\\u0441\\u043f\\u0435\\u0440\\u0438\\u043c\\u0435\\u043d\\u0442\\u0430\\u043b\\u044c\\u043d\\u043e\\u0439 \\u0444\\u0438\\u0437\\u0438\\u043a\\u0438', 2)]\n",
      "     μ: (динамический вязкость раствор: 0.95), (чистый растворитель: 0.83)\n",
      "category \"Статистическая физика\", cluster_id=2122, size=3:\n",
      "top categories: [(u'\\u0421\\u0442\\u0430\\u0442\\u0438\\u0441\\u0442\\u0438\\u0447\\u0435\\u0441\\u043a\\u0430\\u044f \\u0444\\u0438\\u0437\\u0438\\u043a\\u0430', 3), (u'\\u0424\\u0438\\u0437\\u0438\\u0447\\u0435\\u0441\\u043a\\u0438\\u0435 \\u043d\\u0430\\u0443\\u043a\\u0438', 2), (u'\\u041f\\u0440\\u0438\\u043a\\u043b\\u0430\\u0434\\u043d\\u0430\\u044f \\u0441\\u0442\\u0430\\u0442\\u0438\\u0441\\u0442\\u0438\\u043a\\u0430', 1), (u'\\u041a\\u0432\\u0430\\u043d\\u0442\\u043e\\u0432\\u0430\\u044f \\u0444\\u0438\\u0437\\u0438\\u043a\\u0430', 1), (u'\\u0421\\u0442\\u0430\\u0442\\u0438\\u0441\\u0442\\u0438\\u0447\\u0435\\u0441\\u043a\\u0430\\u044f \\u043c\\u0435\\u0445\\u0430\\u043d\\u0438\\u043a\\u0430', 1)]\n",
      "     μ: (химический потенциал*: 3.73), (функция: 0.91), (энергия: 0.89), (есть функция параметр: 0.84)\n",
      "category \"Теоремы комплексного анализа\", cluster_id=2365, size=3:\n",
      "top categories: [(u'\\u0422\\u0435\\u043e\\u0440\\u0435\\u043c\\u044b \\u043a\\u043e\\u043c\\u043f\\u043b\\u0435\\u043a\\u0441\\u043d\\u043e\\u0433\\u043e \\u0430\\u043d\\u0430\\u043b\\u0438\\u0437\\u0430', 3), (u'\\u041c\\u0430\\u0442\\u0435\\u043c\\u0430\\u0442\\u0438\\u0447\\u0435\\u0441\\u043a\\u0438\\u0435 \\u0442\\u0435\\u043e\\u0440\\u0435\\u043c\\u044b', 3), (u'\\u041a\\u043e\\u043c\\u043f\\u043b\\u0435\\u043a\\u0441\\u043d\\u044b\\u0439 \\u0430\\u043d\\u0430\\u043b\\u0438\\u0437', 3), (u'\\u0422\\u0435\\u043e\\u0440\\u0438\\u044f \\u0443\\u043f\\u0440\\u0430\\u0432\\u043b\\u0435\\u043d\\u0438\\u044f', 2), (u'\\u0424\\u0443\\u043d\\u043a\\u0446\\u0438\\u0438', 2)]\n",
      "     μ: (корень функция: 0.95)\n",
      "category \"Оптика\", cluster_id=2692, size=3:\n",
      "top categories: [(u'\\u041e\\u043f\\u0442\\u0438\\u043a\\u0430', 3), (u'\\u0424\\u0438\\u0437\\u0438\\u0447\\u0435\\u0441\\u043a\\u0438\\u0435 \\u043d\\u0430\\u0443\\u043a\\u0438', 3), (u'\\u041c\\u0435\\u0442\\u043e\\u0434\\u044b \\u044d\\u043a\\u0441\\u043f\\u0435\\u0440\\u0438\\u043c\\u0435\\u043d\\u0442\\u0430\\u043b\\u044c\\u043d\\u043e\\u0439 \\u0444\\u0438\\u0437\\u0438\\u043a\\u0438', 3), (u'\\u0424\\u0438\\u0437\\u0438\\u0447\\u0435\\u0441\\u043a\\u0438\\u0435 \\u0432\\u0435\\u043b\\u0438\\u0447\\u0438\\u043d\\u044b', 3), (u'\\u0412\\u043e\\u043b\\u043d\\u043e\\u0432\\u0430\\u044f \\u0444\\u0438\\u0437\\u0438\\u043a\\u0430', 3)]\n",
      "     μ: (рассеяние: 0.83)\n",
      "category \"Небесная механика\", cluster_id=2939, size=3:\n",
      "top categories: [(u'\\u041d\\u0435\\u0431\\u0435\\u0441\\u043d\\u0430\\u044f \\u043c\\u0435\\u0445\\u0430\\u043d\\u0438\\u043a\\u0430', 3), (u'\\u0413\\u0440\\u0430\\u0432\\u0438\\u0442\\u0430\\u0446\\u0438\\u044f', 3), (u'\\u041e\\u0440\\u0431\\u0438\\u0442\\u044b', 2), (u'\\u0410\\u0441\\u0442\\u0440\\u043e\\u0434\\u0438\\u043d\\u0430\\u043c\\u0438\\u043a\\u0430', 2), (u'\\u041a\\u043e\\u0441\\u043c\\u0438\\u0447\\u0435\\u0441\\u043a\\u0438\\u0439 \\u043f\\u043e\\u043b\\u0451\\u0442', 2)]\n",
      "     μ: (гравитационный параметр: 0.99), (соединять масса: 0.96), (масса: 0.96), (находиться: 0.93), (прямая: 0.87), (расстояние: 0.83)\n"
     ]
    }
   ],
   "source": [
    "evaluate.find_identifier(cluster_assignment, purity_threshold=0.8, id=u'μ', min_size=3, scorer=fuzz.UQRatio)"
   ]
  },
  {
   "cell_type": "markdown",
   "metadata": {},
   "source": []
  },
  {
   "cell_type": "markdown",
   "metadata": {},
   "source": [
    "## Utilization Stats"
   ]
  },
  {
   "cell_type": "code",
   "execution_count": 63,
   "metadata": {
    "collapsed": false
   },
   "outputs": [
    {
     "data": {
      "text/plain": [
       "382"
      ]
     },
     "execution_count": 63,
     "metadata": {},
     "output_type": "execute_result"
    }
   ],
   "source": [
    "used = sum((cluster_assignment == id).sum() for id in desc_ids)\n",
    "used"
   ]
  },
  {
   "cell_type": "code",
   "execution_count": 65,
   "metadata": {
    "collapsed": false
   },
   "outputs": [
    {
     "data": {
      "text/plain": [
       "0.071818010904305327"
      ]
     },
     "execution_count": 65,
     "metadata": {},
     "output_type": "execute_result"
    }
   ],
   "source": [
    "(used) * 1.0 / len(ids)"
   ]
  },
  {
   "cell_type": "markdown",
   "metadata": {},
   "source": [
    "## NMF performance"
   ]
  },
  {
   "cell_type": "code",
   "execution_count": 61,
   "metadata": {
    "collapsed": false
   },
   "outputs": [
    {
     "data": {
      "image/png": "[encoded data removed]",
      "text/plain": [
       "<matplotlib.figure.Figure at 0x232a5da0>"
      ]
     },
     "metadata": {},
     "output_type": "display_data"
    }
   ],
   "source": [
    "plt.figure(figsize=(5, 2.5))\n",
    "ns = [150, 250, 350]\n",
    "times = np.array([3036.0, 5247.0, 17515.0])\n",
    "\n",
    "plt.plot(ns, times / (60 * 60), 'o-', color='black')\n",
    "plt.xlim(140, 360)\n",
    "plt.ylim(0, 6)\n",
    "plt.xlabel('rank $k$')\n",
    "plt.ylabel('time, hours')\n",
    "\n",
    "plt.tight_layout()\n",
    "\n",
    "plt.savefig('figures/nmf-runtime.pdf', format='pdf')\n",
    "plt.show()"
   ]
  },
  {
   "cell_type": "code",
   "execution_count": null,
   "metadata": {
    "collapsed": true
   },
   "outputs": [],
   "source": []
  }
 ],
 "metadata": {
  "kernelspec": {
   "display_name": "Python 2",
   "language": "python",
   "name": "python2"
  },
  "language_info": {
   "codemirror_mode": {
    "name": "ipython",
    "version": 2
   },
   "file_extension": ".py",
   "mimetype": "text/x-python",
   "name": "python",
   "nbconvert_exporter": "python",
   "pygments_lexer": "ipython2",
   "version": "2.7.7"
  }
 },
 "nbformat": 4,
 "nbformat_minor": 0
}
