{
 "cells": [
  {
   "cell_type": "code",
   "execution_count": 30,
   "metadata": {
    "collapsed": true
   },
   "outputs": [],
   "source": [
    "import numpy as np\n",
    "import pandas as pd\n",
    "import matplotlib.pyplot as plt\n",
    "\n",
    "import json\n",
    "import os\n",
    "from collections import Counter\n",
    "\n",
    "from time import time\n",
    "\n",
    "%matplotlib inline\n",
    "\n",
    "import scipy.sparse"
   ]
  },
  {
   "cell_type": "code",
   "execution_count": 6,
   "metadata": {
    "collapsed": true
   },
   "outputs": [],
   "source": [
    "import urllib\n",
    "import urllib2"
   ]
  },
  {
   "cell_type": "code",
   "execution_count": 127,
   "metadata": {
    "collapsed": true
   },
   "outputs": [],
   "source": [
    "def print_cat(cats):\n",
    "    for cat in cats:\n",
    "        print ', '.join(cat)"
   ]
  },
  {
   "cell_type": "code",
   "execution_count": 159,
   "metadata": {
    "collapsed": true
   },
   "outputs": [],
   "source": [
    "def extract_categories(dict_page):\n",
    "    if 'categories' not in dict_page:\n",
    "        return []\n",
    "\n",
    "    categories = dict_page['categories']\n",
    "    return [d['title'] for d in categories]\n",
    "\n",
    "def encode_decode(v):\n",
    "    # v = v.replace(' ', '_')\n",
    "    if isinstance(v, unicode):\n",
    "        return v.encode('utf8')\n",
    "    else:\n",
    "        return v\n",
    "\n",
    "def request_categories(titles):\n",
    "    url = 'http://ru.wikipedia.org/w/api.php'\n",
    "    titles = [encode_decode(t) for t in titles]\n",
    "\n",
    "    values = {'action': 'query',\n",
    "              'prop': 'categories',\n",
    "              'titles': '|'.join(titles),\n",
    "              'format': 'json',\n",
    "              'continue': ''}\n",
    "\n",
    "    data = urllib.urlencode(values)\n",
    "    req = urllib2.Request(url, data)\n",
    "    response = urllib2.urlopen(req)\n",
    "    resp_json = response.read()\n",
    "    \n",
    "    pages = json.loads(resp_json)['query']['pages'].values()\n",
    "\n",
    "    cats = [extract_categories(p) for p in pages]\n",
    "    return cats"
   ]
  },
  {
   "cell_type": "markdown",
   "metadata": {},
   "source": [
    "##  Read processed MLP data"
   ]
  },
  {
   "cell_type": "code",
   "execution_count": 74,
   "metadata": {
    "collapsed": true
   },
   "outputs": [],
   "source": [
    "from collections import defaultdict"
   ]
  },
  {
   "cell_type": "code",
   "execution_count": 75,
   "metadata": {
    "collapsed": true
   },
   "outputs": [],
   "source": [
    "def id_counter(id_list):\n",
    "    cnt = Counter()\n",
    "    for el in id_list:\n",
    "        cnt[el[u'element']] = el[u'count']\n",
    "    return cnt\n",
    "\n",
    "def rel_to_dict(rels):\n",
    "    res = defaultdict(list)\n",
    "    for r in rels:\n",
    "        if not valid_def(r['definition']):\n",
    "            continue\n",
    "        res[r['identifier']].append((r['definition'], r['score']))\n",
    "    return res"
   ]
  },
  {
   "cell_type": "code",
   "execution_count": 76,
   "metadata": {
    "collapsed": true
   },
   "outputs": [],
   "source": [
    "def_black_list = set()\n",
    "\n",
    "def valid_def(definition):\n",
    "    if len(definition) <= 3:\n",
    "        return False\n",
    "\n",
    "    return definition.lower() not in def_black_list"
   ]
  },
  {
   "cell_type": "code",
   "execution_count": 52,
   "metadata": {
    "collapsed": false
   },
   "outputs": [
    {
     "name": "stdout",
     "output_type": "stream",
     "text": [
      "8170 1244 0\n",
      "5491\n"
     ]
    }
   ],
   "source": [
    "root = 'C:/tmp/mlp/ru-out/'\n",
    "\n",
    "docs = []\n",
    "titles = []\n",
    "ids = []\n",
    "rels = []\n",
    "\n",
    "empty = 0\n",
    "small = 0\n",
    "uncategorized = 0\n",
    "\n",
    "for f in os.listdir(root): \n",
    "    for line in file(root + f):\n",
    "        doc = json.loads(line)\n",
    "\n",
    "        title = doc['title']        \n",
    "\n",
    "        if '(disambiguation)' in title:\n",
    "            continue\n",
    "\n",
    "        id_bag = id_counter(doc['identifiers'])\n",
    "        if len(id_bag) <= 1:\n",
    "            if len(id_bag) == 0:\n",
    "                empty = empty + 1\n",
    "            else:\n",
    "                small = small + 1\n",
    "            continue\n",
    "\n",
    "        docs.append(doc)\n",
    "        titles.append(title)\n",
    "        ids.append(id_bag)\n",
    "\n",
    "        id_rels = rel_to_dict(doc['relations'])\n",
    "        rels.append(id_rels)\n",
    "\n",
    "print empty, small, uncategorized\n",
    "\n",
    "N_doc = len(ids)\n",
    "print N_doc"
   ]
  },
  {
   "cell_type": "code",
   "execution_count": 77,
   "metadata": {
    "collapsed": true
   },
   "outputs": [],
   "source": [
    "def chunks(l, n):\n",
    "    \"\"\"Yield successive n-sized chunks from l.\"\"\"\n",
    "    for i in xrange(0, len(l), n):\n",
    "        yield l[i:i+n]"
   ]
  },
  {
   "cell_type": "code",
   "execution_count": 174,
   "metadata": {
    "collapsed": true
   },
   "outputs": [],
   "source": [
    "wiki_categories = {}\n",
    "second_try = []\n"
   ]
  },
  {
   "cell_type": "code",
   "execution_count": null,
   "metadata": {
    "collapsed": true
   },
   "outputs": [],
   "source": [
    "for title in titles:\n",
    "    res = request_categories([title])[0]\n",
    "\n",
    "    if res:\n",
    "        wiki_categories[title] = res\n",
    "    else:\n",
    "        second_try.append(title)\n",
    "    \n",
    "    # print title, 'ready'"
   ]
  },
  {
   "cell_type": "code",
   "execution_count": 176,
   "metadata": {
    "collapsed": false,
    "scrolled": true
   },
   "outputs": [
    {
     "data": {
      "text/plain": [
       "2968"
      ]
     },
     "execution_count": 176,
     "metadata": {},
     "output_type": "execute_result"
    }
   ],
   "source": [
    "len(wiki_categories.keys())"
   ]
  },
  {
   "cell_type": "code",
   "execution_count": 187,
   "metadata": {
    "collapsed": false
   },
   "outputs": [
    {
     "data": {
      "text/plain": [
       "18"
      ]
     },
     "execution_count": 187,
     "metadata": {},
     "output_type": "execute_result"
    }
   ],
   "source": [
    "titles_try = set(titles) - set(wiki_categories.keys())\n",
    "len(titles_try)"
   ]
  },
  {
   "cell_type": "markdown",
   "metadata": {},
   "source": [
    "## Edit categories"
   ]
  },
  {
   "cell_type": "code",
   "execution_count": 226,
   "metadata": {
    "collapsed": false
   },
   "outputs": [],
   "source": [
    "def filter_cats(cats):\n",
    "    return [c[10:] for c in cats if u'Категория:Википедия:' not in c]"
   ]
  },
  {
   "cell_type": "code",
   "execution_count": 197,
   "metadata": {
    "collapsed": true
   },
   "outputs": [],
   "source": [
    "# wiki_categories_o = wiki_categories"
   ]
  },
  {
   "cell_type": "code",
   "execution_count": 255,
   "metadata": {
    "collapsed": true
   },
   "outputs": [],
   "source": [
    "wiki_categories = {k: filter_cats(v) for (k, v) in wiki_categories_o.items()}"
   ]
  },
  {
   "cell_type": "code",
   "execution_count": 258,
   "metadata": {
    "collapsed": true
   },
   "outputs": [],
   "source": [
    "black_list = {u'Статьи со ссылками на Викисловарь', \n",
    "              u'Статьи, требующие уточнения источников',\n",
    "              u'Физические величины по алфавиту', \n",
    "              u'Статьи, требующие проверки на грамматические и орфографические ошибки',\n",
    "              u'Страницы, использующие повторяющиеся аргументы в вызовах шаблонов' }"
   ]
  },
  {
   "cell_type": "code",
   "execution_count": 259,
   "metadata": {
    "collapsed": true
   },
   "outputs": [],
   "source": [
    "def filter_blacklist(cats):\n",
    "    return [c for c in cats if c not in black_list and not c.startswith(u'Незавершённые статьи')]"
   ]
  },
  {
   "cell_type": "code",
   "execution_count": 260,
   "metadata": {
    "collapsed": true
   },
   "outputs": [],
   "source": [
    "wiki_categories = {k: filter_blacklist(v) for (k, v) in wiki_categories.items()}"
   ]
  },
  {
   "cell_type": "code",
   "execution_count": 261,
   "metadata": {
    "collapsed": false,
    "scrolled": true
   },
   "outputs": [
    {
     "name": "stdout",
     "output_type": "stream",
     "text": [
      "Функциональный анализ 104\n",
      "Математический анализ 103\n",
      "Комплексный анализ 101\n",
      "Теория вероятностей 94\n",
      "Теория чисел 86\n",
      "Общая топология 81\n",
      "Термодинамика 75\n",
      "Теория графов 75\n",
      "Дифференциальные уравнения 74\n",
      "Квантовая механика 73\n",
      "Линейная алгебра 70\n",
      "Теория групп 66\n",
      "Криптография 66\n",
      "Физика твёрдого тела 62\n",
      "Теория множеств 61\n",
      "Дифференциальные уравнения в частных производных 60\n",
      "Динамические системы 58\n",
      "Химические элементы 57\n",
      "Дифференциальная геометрия и топология 55\n",
      "Оптика 54\n",
      "Физические величины 54\n",
      "Математическая логика 52\n",
      "Многочлены 51\n",
      "Физические законы и уравнения 51\n",
      "Статистическая физика 49\n",
      "Критерии подобия 48\n",
      "Теоремы математического анализа 47\n",
      "Дифференциальное исчисление 47\n",
      "Астрофизика 46\n",
      "Квантовая теория поля 46\n",
      "Теоремы комплексного анализа 44\n",
      "Теория категорий 43\n",
      "Комбинаторика 42\n",
      "Теоретическая механика 41\n",
      "Магнетизм 41\n",
      "Риманова (и псевдориманова) геометрия 41\n",
      "Персоналии по алфавиту 41\n",
      "Общая алгебра 39\n",
      "Теория меры 39\n",
      "Эконометрика 38\n",
      "Интегральное исчисление 37\n",
      "Алгоритмы 36\n",
      "Кривые 36\n",
      "Метрическая геометрия 36\n",
      "Типы матриц 36\n",
      "Математики по алфавиту 36\n",
      "Топология 36\n",
      "Электричество 35\n",
      "Типы функций 35\n",
      "Математическая статистика 34\n"
     ]
    }
   ],
   "source": [
    "cnt = Counter()\n",
    "\n",
    "for lst in wiki_categories.values():\n",
    "    cnt.update(lst)\n",
    "\n",
    "for (i, name) in cnt.most_common(50):\n",
    "    print i, name"
   ]
  },
  {
   "cell_type": "code",
   "execution_count": 267,
   "metadata": {
    "collapsed": false
   },
   "outputs": [
    {
     "data": {
      "text/plain": [
       "1256"
      ]
     },
     "execution_count": 267,
     "metadata": {},
     "output_type": "execute_result"
    }
   ],
   "source": [
    "singletons = set()\n",
    "\n",
    "for (name, i) in cnt.most_common():\n",
    "    if i == 1:\n",
    "        singletons.add(name)\n",
    "\n",
    "len(singletons)"
   ]
  },
  {
   "cell_type": "code",
   "execution_count": 268,
   "metadata": {
    "collapsed": true
   },
   "outputs": [],
   "source": [
    "def filter_singletons(cats):\n",
    "    return [c for c in cats if c not in singletons]"
   ]
  },
  {
   "cell_type": "code",
   "execution_count": 269,
   "metadata": {
    "collapsed": true
   },
   "outputs": [],
   "source": [
    "wiki_categories = {k: filter_singletons(v) for (k, v) in wiki_categories.items()}"
   ]
  },
  {
   "cell_type": "code",
   "execution_count": 271,
   "metadata": {
    "collapsed": false
   },
   "outputs": [
    {
     "data": {
      "text/plain": [
       "0"
      ]
     },
     "execution_count": 271,
     "metadata": {},
     "output_type": "execute_result"
    }
   ],
   "source": [
    "sum(c for c in wiki_categories.items() if len(c) == 0)"
   ]
  },
  {
   "cell_type": "code",
   "execution_count": 284,
   "metadata": {
    "collapsed": true
   },
   "outputs": [],
   "source": [
    "import codecs\n",
    "\n",
    "ru_cats_file = codecs.open('C:/tmp/mlp/ru_cats.txt', 'w', encoding='utf-8')\n",
    "\n",
    "for k, v in wiki_categories.items():\n",
    "    ru_cats_file.write('\\t'.join([k] + list(v)))\n",
    "    ru_cats_file.write('\\n')\n",
    "\n",
    "ru_cats_file.close()    "
   ]
  },
  {
   "cell_type": "markdown",
   "metadata": {},
   "source": [
    "## Now let's find categories of these categories"
   ]
  },
  {
   "cell_type": "code",
   "execution_count": 273,
   "metadata": {
    "collapsed": false
   },
   "outputs": [
    {
     "data": {
      "text/plain": [
       "1293"
      ]
     },
     "execution_count": 273,
     "metadata": {},
     "output_type": "execute_result"
    }
   ],
   "source": [
    "all_cats = set()\n",
    "\n",
    "for lst in wiki_categories.values():\n",
    "    all_cats.update(lst)\n",
    "\n",
    "len(all_cats)"
   ]
  },
  {
   "cell_type": "code",
   "execution_count": 275,
   "metadata": {
    "collapsed": false
   },
   "outputs": [
    {
     "name": "stdout",
     "output_type": "stream",
     "text": [
      "Соединения бора\n"
     ]
    }
   ],
   "source": [
    "print list(all_cats)[0]"
   ]
  },
  {
   "cell_type": "code",
   "execution_count": 277,
   "metadata": {
    "collapsed": false
   },
   "outputs": [
    {
     "name": "stdout",
     "output_type": "stream",
     "text": [
      "Категория:Химические соединения по элементам\n"
     ]
    }
   ],
   "source": [
    "print_cat(request_categories(['Категория:Соединения бора']))"
   ]
  },
  {
   "cell_type": "code",
   "execution_count": 280,
   "metadata": {
    "collapsed": true
   },
   "outputs": [],
   "source": [
    "wiki_hierarchy = {}\n",
    "second_try = []"
   ]
  },
  {
   "cell_type": "code",
   "execution_count": 283,
   "metadata": {
    "collapsed": false
   },
   "outputs": [],
   "source": [
    "for title in all_cats:\n",
    "    res = request_categories([u'Категория:' + title])[0]\n",
    "\n",
    "    if res:\n",
    "        wiki_hierarchy[title] = res\n",
    "    else:\n",
    "        second_try.append(title)"
   ]
  },
  {
   "cell_type": "code",
   "execution_count": 287,
   "metadata": {
    "collapsed": true
   },
   "outputs": [],
   "source": [
    "wiki_hierarchy_c = {k: filter_cats(v) for (k, v) in wiki_hierarchy.items()}"
   ]
  },
  {
   "cell_type": "code",
   "execution_count": 290,
   "metadata": {
    "collapsed": false
   },
   "outputs": [
    {
     "name": "stdout",
     "output_type": "stream",
     "text": [
      "Соединения бора : Химические соединения по элементам\n",
      "Прикладная математика : Математика, Прикладные науки\n",
      "Диофантовы уравнения : Теория чисел\n",
      "Управляемый термоядерный синтез : Термоядерные реакции, Физика плазмы\n",
      "Замечательные точки треугольника : Геометрия треугольника\n"
     ]
    }
   ],
   "source": [
    "for k, v in wiki_hierarchy_c.items()[:5]:\n",
    "    print k, ':',\n",
    "    print ', '.join(v)"
   ]
  },
  {
   "cell_type": "code",
   "execution_count": 291,
   "metadata": {
    "collapsed": true
   },
   "outputs": [],
   "source": [
    "ru_cats_file = codecs.open('C:/tmp/mlp/ru_cats_broader.txt', 'w', encoding='utf-8')\n",
    "\n",
    "for k, v in wiki_hierarchy_c.items():\n",
    "    ru_cats_file.write('\\t'.join([k] + list(v)))\n",
    "    ru_cats_file.write('\\n')\n",
    "\n",
    "ru_cats_file.close()    "
   ]
  },
  {
   "cell_type": "code",
   "execution_count": 293,
   "metadata": {
    "collapsed": false
   },
   "outputs": [
    {
     "data": {
      "text/plain": [
       "1.9822766307326878"
      ]
     },
     "execution_count": 293,
     "metadata": {},
     "output_type": "execute_result"
    }
   ],
   "source": [
    "np.mean([len(c) for c in wiki_categories.values()])"
   ]
  },
  {
   "cell_type": "code",
   "execution_count": 292,
   "metadata": {
    "collapsed": true
   },
   "outputs": [],
   "source": [
    "broader_wiki_cats = {}\n",
    "\n",
    "for k, v in wiki_categories.items():\n",
    "    all_cats = set(v)\n",
    "    \n",
    "    for cat in v:\n",
    "        if cat in wiki_hierarchy_c:\n",
    "            all_cats.update(wiki_hierarchy_c[cat])\n",
    "    \n",
    "    broader_wiki_cats[k] = all_cats"
   ]
  },
  {
   "cell_type": "code",
   "execution_count": 294,
   "metadata": {
    "collapsed": false
   },
   "outputs": [
    {
     "data": {
      "text/plain": [
       "5.2431938607710578"
      ]
     },
     "execution_count": 294,
     "metadata": {},
     "output_type": "execute_result"
    }
   ],
   "source": [
    "np.mean([len(c) for c in broader_wiki_cats.values()])"
   ]
  },
  {
   "cell_type": "code",
   "execution_count": 295,
   "metadata": {
    "collapsed": true
   },
   "outputs": [],
   "source": [
    "ru_cats_file = codecs.open('C:/tmp/mlp/ru_cats_extended.txt', 'w', encoding='utf-8')\n",
    "\n",
    "for k, v in broader_wiki_cats.items():\n",
    "    ru_cats_file.write('\\t'.join([k] + list(v)))\n",
    "    ru_cats_file.write('\\n')\n",
    "\n",
    "ru_cats_file.close()    "
   ]
  },
  {
   "cell_type": "code",
   "execution_count": 296,
   "metadata": {
    "collapsed": false,
    "scrolled": true
   },
   "outputs": [
    {
     "name": "stdout",
     "output_type": "stream",
     "text": [
      "Математический анализ 645\n",
      "Математика 428\n",
      "Физические науки 380\n",
      "Общая алгебра 309\n",
      "Разделы математики 276\n",
      "Геометрия 274\n",
      "Математические теоремы 240\n",
      "Алгоритмы 225\n",
      "Алгебра 223\n",
      "Функции 216\n",
      "Топология 214\n",
      "Функциональный анализ 211\n",
      "Прикладная математика 207\n",
      "Дифференциальная геометрия и топология 200\n",
      "Теория чисел 193\n",
      "Физические величины 177\n",
      "Скрытые категории 175\n",
      "Квантовая физика 168\n",
      "Физика 164\n",
      "Механика 160\n",
      "Математическая статистика 156\n",
      "Математическая логика 156\n",
      "Дискретная математика 150\n",
      "Дифференциальные уравнения 142\n",
      "Криптография 138\n",
      "Общая топология 134\n",
      "Комплексный анализ 133\n",
      "Статистическая физика 131\n",
      "Теория вероятностей и математическая статистика 131\n",
      "Теория множеств 130\n",
      "Линейная алгебра 130\n",
      "Теория меры 130\n",
      "Уравнения 127\n",
      "Оптика 125\n",
      "Физическая химия 124\n",
      "Теория графов 123\n",
      "Численные методы 120\n",
      "Теория вероятностей 118\n",
      "Физические законы и уравнения 118\n",
      "Классическая механика 118\n",
      "Термодинамика 117\n",
      "Геометрические фигуры 116\n",
      "Астрономия 111\n",
      "Многообразия 108\n",
      "Числа 104\n",
      "Физика твёрдого тела 103\n",
      "Физика конденсированного состояния 100\n",
      "Теория групп 98\n",
      "Электромагнетизм 98\n",
      "Евклидова геометрия 97\n"
     ]
    }
   ],
   "source": [
    "cnt = Counter()\n",
    "\n",
    "for lst in broader_wiki_cats.values():\n",
    "    cnt.update(lst)\n",
    "\n",
    "for (i, name) in cnt.most_common(50):\n",
    "    print i, name"
   ]
  },
  {
   "cell_type": "code",
   "execution_count": null,
   "metadata": {
    "collapsed": true
   },
   "outputs": [],
   "source": []
  }
 ],
 "metadata": {
  "kernelspec": {
   "display_name": "Python 2",
   "language": "python",
   "name": "python2"
  },
  "language_info": {
   "codemirror_mode": {
    "name": "ipython",
    "version": 2
   },
   "file_extension": ".py",
   "mimetype": "text/x-python",
   "name": "python",
   "nbconvert_exporter": "python",
   "pygments_lexer": "ipython2",
   "version": "2.7.7"
  }
 },
 "nbformat": 4,
 "nbformat_minor": 0
}
