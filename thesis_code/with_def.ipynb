{
 "cells": [
  {
   "cell_type": "code",
   "execution_count": 103,
   "metadata": {
    "collapsed": false
   },
   "outputs": [],
   "source": [
    "import numpy as np\n",
    "import pandas as pd\n",
    "import matplotlib.pyplot as plt\n",
    "\n",
    "import json\n",
    "import os\n",
    "from collections import Counter\n",
    "\n",
    "from time import time\n",
    "\n",
    "%matplotlib inline\n",
    "\n",
    "import scipy.sparse"
   ]
  },
  {
   "cell_type": "code",
   "execution_count": 2,
   "metadata": {
    "collapsed": true
   },
   "outputs": [],
   "source": [
    "def id_counter(id_list):\n",
    "    cnt = Counter()\n",
    "    for el in id_list:\n",
    "        cnt[el[u'element']] = el[u'count']\n",
    "    return cnt\n",
    "\n",
    "def_black_list = { 'unit', 'units', 'value', 'values', 'axis', 'axes', 'factor', 'factors', 'line', 'lines',\n",
    "                 'point', 'points', 'number', 'numbers', 'variable', 'variables', 'respect', 'case', 'cases',\n",
    "                 'vector', 'vectors', 'element', 'elements', 'example', \n",
    "                 'integer', 'integers', 'term', 'terms', 'parameter', 'parameters', 'coefficient', 'coefficients',\n",
    "                 'formula', 'times', 'product', 'matrices', 'expression', 'complex', 'real', 'zeros', 'bits',\n",
    "                 'sign',\n",
    "                 'if and only if',\n",
    "                 'alpha', 'beta', 'gamma', 'delta', 'epsilon', 'zeta', 'eta', 'theta', 'iota', 'kappa', 'lambda', \n",
    "                 'mu', 'nu', 'xi', 'omicron', 'pi', 'rho', 'sigma', 'tau', 'upsilon', 'phi', 'chi', 'psi', 'omega'}\n",
    "\n",
    "def valid_def(definition):\n",
    "    if len(definition) <= 3:\n",
    "        return False\n",
    "\n",
    "    return definition.lower() not in def_black_list\n",
    "\n",
    "def rel_to_dict(rels):\n",
    "    res = defaultdict(list)\n",
    "    for r in rels:\n",
    "        if not valid_def(r['definition']):\n",
    "            continue\n",
    "        res[r['identifier']].append((r['definition'], r['score']))\n",
    "    return res"
   ]
  },
  {
   "cell_type": "code",
   "execution_count": 3,
   "metadata": {
    "collapsed": true
   },
   "outputs": [],
   "source": [
    "from collections import defaultdict\n",
    "\n",
    "doc_categories = defaultdict(set)\n",
    "category_docs = defaultdict(set)\n",
    "\n",
    "for line in file('C:/tmp/mlp/category_info_refined.txt'):\n",
    "    title, cat = line.strip().split('\\t')\n",
    "    title = title.decode('utf-8')\n",
    "    cat = cat.decode('utf-8')\n",
    "\n",
    "    # let's also remove all documents from \"OTHER\" category\n",
    "    if cat == u'OTHER':\n",
    "        continue\n",
    "\n",
    "    doc_categories[title].add(cat) \n",
    "    category_docs[cat].add(title)"
   ]
  },
  {
   "cell_type": "code",
   "execution_count": 4,
   "metadata": {
    "collapsed": false
   },
   "outputs": [
    {
     "name": "stdout",
     "output_type": "stream",
     "text": [
      "0 0 7501\n",
      "22512\n"
     ]
    }
   ],
   "source": [
    "root = 'C:/tmp/mlp/mlp-output/'\n",
    "\n",
    "docs = []\n",
    "titles = []\n",
    "ids = []\n",
    "rels = []\n",
    "\n",
    "empty = 0\n",
    "small = 0\n",
    "uncategorized = 0\n",
    "\n",
    "for f in os.listdir(root): \n",
    "    for line in file(root + f):\n",
    "        doc = json.loads(line)\n",
    "\n",
    "        title = doc['title']        \n",
    "        if title not in doc_categories:\n",
    "            uncategorized = uncategorized + 1\n",
    "            continue\n",
    "\n",
    "        if '(disambiguation)' in title:\n",
    "            continue\n",
    "\n",
    "        id_bag = id_counter(doc['identifiers'])\n",
    "        if len(id_bag) <= 1:\n",
    "            if len(id_bag) == 0:\n",
    "                empty = empty + 1\n",
    "            else:\n",
    "                small = small + 1\n",
    "            continue\n",
    "\n",
    "        docs.append(doc)\n",
    "        titles.append(title)\n",
    "        ids.append(id_bag)\n",
    "\n",
    "        id_rels = rel_to_dict(doc['relations'])\n",
    "        rels.append(id_rels)\n",
    "\n",
    "print empty, small, uncategorized\n",
    "\n",
    "N_doc = len(ids)\n",
    "print N_doc"
   ]
  },
  {
   "cell_type": "code",
   "execution_count": 5,
   "metadata": {
    "collapsed": false
   },
   "outputs": [
    {
     "name": "stdout",
     "output_type": "stream",
     "text": [
      "22512\n"
     ]
    }
   ],
   "source": [
    "title_idx = {title: idx for (idx, title) in enumerate(titles)}\n",
    "\n",
    "for doc, cats in doc_categories.items():\n",
    "    if doc in title_idx:\n",
    "        continue\n",
    "\n",
    "    for cat in cats: \n",
    "        category_docs[cat].remove(doc)\n",
    "    \n",
    "    del doc_categories[doc]\n",
    "\n",
    "print len(doc_categories)"
   ]
  },
  {
   "cell_type": "code",
   "execution_count": 6,
   "metadata": {
    "collapsed": true
   },
   "outputs": [],
   "source": [
    "doc_categories_list = [doc_categories[doc] for doc in titles]"
   ]
  },
  {
   "cell_type": "markdown",
   "metadata": {},
   "source": [
    "Let's keep a copy of identifiers"
   ]
  },
  {
   "cell_type": "code",
   "execution_count": 17,
   "metadata": {
    "collapsed": true
   },
   "outputs": [],
   "source": [
    "ids = [id_counter(d['identifiers']) for d in docs]"
   ]
  },
  {
   "cell_type": "markdown",
   "metadata": {},
   "source": [
    "Norm - to see what effect dim reduction has"
   ]
  },
  {
   "cell_type": "code",
   "execution_count": 7,
   "metadata": {
    "collapsed": true
   },
   "outputs": [],
   "source": [
    "def norm2(cntr):\n",
    "    return sum(cnt * cnt for cnt in cntr.values())\n",
    "\n",
    "def norm(cntr):\n",
    "    return np.sqrt(norm2(cntr))"
   ]
  },
  {
   "cell_type": "code",
   "execution_count": 8,
   "metadata": {
    "collapsed": false
   },
   "outputs": [
    {
     "data": {
      "text/plain": [
       "28.23118431717846"
      ]
     },
     "execution_count": 8,
     "metadata": {},
     "output_type": "execute_result"
    }
   ],
   "source": [
    "np.mean([norm(cnt) for cnt in ids])"
   ]
  },
  {
   "cell_type": "markdown",
   "metadata": {},
   "source": [
    "remove least common"
   ]
  },
  {
   "cell_type": "code",
   "execution_count": 18,
   "metadata": {
    "collapsed": false
   },
   "outputs": [
    {
     "name": "stdout",
     "output_type": "stream",
     "text": [
      "12771\n",
      "10052\n",
      "2719\n"
     ]
    }
   ],
   "source": [
    "all_ids = Counter()\n",
    "\n",
    "for id_cnt in ids:\n",
    "    all_ids.update(id_cnt)\n",
    "\n",
    "print len(all_ids)\n",
    "\n",
    "infrequent = set()\n",
    "min_count = 15\n",
    "\n",
    "for (el, cnt) in all_ids.items():\n",
    "    if cnt <= min_count:\n",
    "        infrequent.add(el)\n",
    "\n",
    "print len(infrequent)\n",
    "\n",
    "for id_cnt in ids:\n",
    "    for id in (set(id_cnt) & infrequent):\n",
    "        del id_cnt[id]\n",
    "\n",
    "        \n",
    "all_ids = Counter()\n",
    "\n",
    "for id_cnt in ids:\n",
    "    all_ids.update(id_cnt)\n",
    "\n",
    "print len(all_ids)\n",
    "        \n",
    "del all_ids\n",
    "del infrequent"
   ]
  },
  {
   "cell_type": "code",
   "execution_count": 19,
   "metadata": {
    "collapsed": false,
    "scrolled": true
   },
   "outputs": [
    {
     "data": {
      "text/plain": [
       "28.11123496738713"
      ]
     },
     "execution_count": 19,
     "metadata": {},
     "output_type": "execute_result"
    }
   ],
   "source": [
    "np.mean([norm(cnt) for cnt in ids])"
   ]
  },
  {
   "cell_type": "markdown",
   "metadata": {},
   "source": [
    "Most common"
   ]
  },
  {
   "cell_type": "code",
   "execution_count": 20,
   "metadata": {
    "collapsed": false,
    "scrolled": false
   },
   "outputs": [
    {
     "name": "stdout",
     "output_type": "stream",
     "text": [
      "n t x m p d g k f R l y c r T π C P b S s N B E X F j\n"
     ]
    }
   ],
   "source": [
    "df = Counter()\n",
    "for cnt in ids:\n",
    "    df.update(list(cnt))\n",
    "\n",
    "top = 50\n",
    "mc = [id for (id, cnt) in df.most_common(top) if cnt > 3000]\n",
    "print ' '.join(mc)\n",
    "\n",
    "mc = set(mc)\n",
    "\n",
    "for id_cnt in ids:\n",
    "    for id in list(id_cnt):\n",
    "        if id in mc:\n",
    "            del id_cnt[id]\n",
    "\n",
    "del mc\n",
    "del df"
   ]
  },
  {
   "cell_type": "code",
   "execution_count": 21,
   "metadata": {
    "collapsed": false
   },
   "outputs": [
    {
     "data": {
      "text/plain": [
       "7.1480543710021323"
      ]
     },
     "execution_count": 21,
     "metadata": {},
     "output_type": "execute_result"
    }
   ],
   "source": [
    "np.mean([len(doc_ids) for doc_ids in ids])"
   ]
  },
  {
   "cell_type": "code",
   "execution_count": 22,
   "metadata": {
    "collapsed": false
   },
   "outputs": [
    {
     "data": {
      "text/plain": [
       "14.117618348332847"
      ]
     },
     "execution_count": 22,
     "metadata": {},
     "output_type": "execute_result"
    }
   ],
   "source": [
    "np.mean([norm(cnt) for cnt in ids])"
   ]
  },
  {
   "cell_type": "markdown",
   "metadata": {},
   "source": [
    "Let's incorporate found definitions"
   ]
  },
  {
   "cell_type": "code",
   "execution_count": 23,
   "metadata": {
    "collapsed": false
   },
   "outputs": [],
   "source": [
    "for idx in xrange(N_doc):\n",
    "    vals = rels[idx].items()\n",
    "    id_list = ids[idx]\n",
    "\n",
    "    for id, definitions in vals:\n",
    "        for definition, score in definitions:\n",
    "            unigrams = definition.lower().split()\n",
    "            id_list[id] = id_list[id] + 1\n",
    "            id_list.update(unigrams)"
   ]
  },
  {
   "cell_type": "code",
   "execution_count": 16,
   "metadata": {
    "collapsed": false
   },
   "outputs": [
    {
     "data": {
      "text/plain": [
       "20.676750177683015"
      ]
     },
     "execution_count": 16,
     "metadata": {},
     "output_type": "execute_result"
    }
   ],
   "source": [
    "np.mean([len(doc_ids) for doc_ids in ids])"
   ]
  },
  {
   "cell_type": "code",
   "execution_count": 17,
   "metadata": {
    "collapsed": false
   },
   "outputs": [
    {
     "data": {
      "text/plain": [
       "18.144577330249831"
      ]
     },
     "execution_count": 17,
     "metadata": {},
     "output_type": "execute_result"
    }
   ],
   "source": [
    "np.mean([norm(cnt) for cnt in ids])"
   ]
  },
  {
   "cell_type": "markdown",
   "metadata": {},
   "source": [
    "Inverted index"
   ]
  },
  {
   "cell_type": "code",
   "execution_count": 24,
   "metadata": {
    "collapsed": true
   },
   "outputs": [],
   "source": [
    "inv_idx = {}\n",
    "\n",
    "for (idx, id_list) in enumerate(ids):\n",
    "    for id in id_list: \n",
    "        if id in inv_idx:\n",
    "            inv_idx[id].append(idx)\n",
    "        else:\n",
    "            inv_idx[id] = [idx]"
   ]
  },
  {
   "cell_type": "code",
   "execution_count": 25,
   "metadata": {
    "collapsed": true
   },
   "outputs": [],
   "source": [
    "def docs_to_compare(doc_id):\n",
    "    res = set([])\n",
    "    id_list = ids[doc_id]\n",
    "    for id in id_list:\n",
    "        res.update(inv_idx[id])\n",
    "    if doc_id in res:\n",
    "        res.remove(doc_id)\n",
    "    return res"
   ]
  },
  {
   "cell_type": "markdown",
   "metadata": {},
   "source": [
    "## Jaccard "
   ]
  },
  {
   "cell_type": "code",
   "execution_count": 347,
   "metadata": {
    "collapsed": true
   },
   "outputs": [],
   "source": [
    "k_graph = 15\n",
    "k_matrix = 50\n",
    "sim_threshold = 0.5\n",
    "shared_nn = []\n",
    "\n",
    "jaccard_sim_matrix = scipy.sparse.dok_matrix(((N_doc, N_doc)))"
   ]
  },
  {
   "cell_type": "code",
   "execution_count": 14,
   "metadata": {
    "collapsed": true
   },
   "outputs": [],
   "source": [
    "ids_sets = [set(id_list) for id_list in ids]\n",
    "\n",
    "def calc_jaccard(set1, set2):\n",
    "    union = len(set1 | set2)\n",
    "    if not union: \n",
    "        return 0.0\n",
    "\n",
    "    inter = len(set1 & set2)\n",
    "    return inter * 1.0 / union"
   ]
  },
  {
   "cell_type": "code",
   "execution_count": 15,
   "metadata": {
    "collapsed": false
   },
   "outputs": [
    {
     "data": {
      "text/plain": [
       "4719.165"
      ]
     },
     "execution_count": 15,
     "metadata": {},
     "output_type": "execute_result"
    }
   ],
   "source": [
    "np.mean([len(docs_to_compare(doc_id)) for doc_id in xrange(200)])"
   ]
  },
  {
   "cell_type": "code",
   "execution_count": 350,
   "metadata": {
    "collapsed": false,
    "scrolled": true
   },
   "outputs": [
    {
     "name": "stdout",
     "output_type": "stream",
     "text": [
      "iteration 0\n",
      "iteration 1000\n",
      "iteration 2000\n",
      "iteration 3000\n",
      "iteration 4000\n",
      "iteration 5000\n",
      "iteration 6000\n",
      "iteration 7000\n",
      "iteration 8000\n",
      "iteration 9000\n",
      "iteration 10000\n",
      "iteration 11000\n",
      "iteration 12000\n",
      "iteration 13000\n",
      "iteration 14000\n",
      "iteration 15000\n",
      "iteration 16000\n",
      "iteration 17000\n",
      "iteration 18000\n",
      "iteration 19000\n",
      "iteration 20000\n",
      "iteration 21000\n",
      "iteration 22000\n",
      "done in 1655.482s.\n"
     ]
    }
   ],
   "source": [
    "t0 = time()\n",
    "\n",
    "for i in xrange(N_doc):\n",
    "    if i % 1000 == 0:\n",
    "        print \"iteration %d\" % i\n",
    "\n",
    "    doc_ids = np.array(list(docs_to_compare(i)))\n",
    "    sim = np.zeros(len(doc_ids))\n",
    "\n",
    "    for (idx, j) in enumerate(doc_ids):\n",
    "        sim[idx] = calc_jaccard(ids_sets[i], ids_sets[j])\n",
    "    \n",
    "    sim_idx = sim.argsort()[-1:-k_matrix-1:-1]\n",
    "    doc_ids_to_add = doc_ids[sim_idx]\n",
    "\n",
    "    shared_nn.append(set(doc_ids_to_add[0:k_graph]))\n",
    "    jaccard_sim_matrix[i, doc_ids_to_add] = sim[sim_idx]\n",
    "\n",
    "\n",
    "print \"done in %0.3fs.\" % (time() - t0)"
   ]
  },
  {
   "cell_type": "code",
   "execution_count": 351,
   "metadata": {
    "collapsed": false
   },
   "outputs": [],
   "source": [
    "import snn_dbscan"
   ]
  },
  {
   "cell_type": "markdown",
   "metadata": {},
   "source": [
    "Let's try to look for best params"
   ]
  },
  {
   "cell_type": "code",
   "execution_count": 105,
   "metadata": {
    "collapsed": true
   },
   "outputs": [],
   "source": [
    "import cluster_evaluation"
   ]
  },
  {
   "cell_type": "code",
   "execution_count": 106,
   "metadata": {
    "collapsed": false
   },
   "outputs": [],
   "source": [
    "reload(cluster_evaluation)\n",
    "evaluate = cluster_evaluation.Evaluator(doc_titles=titles, doc_ids=ids, \n",
    "                                        doc_ids_definitions=rels, doc_categories=doc_categories_list)"
   ]
  },
  {
   "cell_type": "code",
   "execution_count": 353,
   "metadata": {
    "collapsed": false,
    "scrolled": true
   },
   "outputs": [
    {
     "data": {
      "text/plain": [
       "22512"
      ]
     },
     "execution_count": 353,
     "metadata": {},
     "output_type": "execute_result"
    }
   ],
   "source": [
    "N_doc"
   ]
  },
  {
   "cell_type": "code",
   "execution_count": 365,
   "metadata": {
    "collapsed": false
   },
   "outputs": [
    {
     "data": {
      "text/plain": [
       "<module 'snn_dbscan' from 'snn_dbscan.py'>"
      ]
     },
     "execution_count": 365,
     "metadata": {},
     "output_type": "execute_result"
    }
   ],
   "source": [
    "reload(snn_dbscan)"
   ]
  },
  {
   "cell_type": "code",
   "execution_count": 367,
   "metadata": {
    "collapsed": false,
    "scrolled": true
   },
   "outputs": [
    {
     "name": "stdout",
     "output_type": "stream",
     "text": [
      "evaluating eps=5, min_pts=3...\n",
      "purity for eps=5, min_pts=3 is 0.2398, number of clusters: 2023, number of >0.8 clusters: 67\n",
      "evaluating eps=5, min_pts=4...\n",
      "purity for eps=5, min_pts=4 is 0.2281, number of clusters: 1777, number of >0.8 clusters: 72\n",
      "evaluating eps=5, min_pts=5...\n",
      "purity for eps=5, min_pts=5 is 0.2200, number of clusters: 1604, number of >0.8 clusters: 69\n",
      "evaluating eps=5, min_pts=6...\n",
      "purity for eps=5, min_pts=6 is 0.2207, number of clusters: 1485, number of >0.8 clusters: 59\n",
      "evaluating eps=5, min_pts=7...\n",
      "purity for eps=5, min_pts=7 is 0.2189, number of clusters: 1410, number of >0.8 clusters: 53\n",
      "evaluating eps=6, min_pts=3...\n",
      "purity for eps=6, min_pts=3 is 0.2506, number of clusters: 1848, number of >0.8 clusters: 80\n",
      "evaluating eps=6, min_pts=4...\n",
      "purity for eps=6, min_pts=4 is 0.2351, number of clusters: 1601, number of >0.8 clusters: 76\n",
      "evaluating eps=6, min_pts=5...\n",
      "purity for eps=6, min_pts=5 is 0.2294, number of clusters: 1485, number of >0.8 clusters: 83\n",
      "evaluating eps=6, min_pts=6...\n",
      "purity for eps=6, min_pts=6 is 0.2211, number of clusters: 1382, number of >0.8 clusters: 64\n",
      "evaluating eps=6, min_pts=7...\n",
      "purity for eps=6, min_pts=7 is 0.2162, number of clusters: 1312, number of >0.8 clusters: 57\n",
      "evaluating eps=7, min_pts=3...\n",
      "purity for eps=7, min_pts=3 is 0.2305, number of clusters: 1650, number of >0.8 clusters: 73\n",
      "evaluating eps=7, min_pts=4...\n",
      "purity for eps=7, min_pts=4 is 0.2150, number of clusters: 1443, number of >0.8 clusters: 65\n",
      "evaluating eps=7, min_pts=5...\n",
      "purity for eps=7, min_pts=5 is 0.2013, number of clusters: 1311, number of >0.8 clusters: 67\n",
      "evaluating eps=7, min_pts=6...\n",
      "purity for eps=7, min_pts=6 is 0.1920, number of clusters: 1222, number of >0.8 clusters: 56\n",
      "evaluating eps=7, min_pts=7...\n",
      "purity for eps=7, min_pts=7 is 0.1815, number of clusters: 1125, number of >0.8 clusters: 38\n",
      "evaluating eps=8, min_pts=3...\n",
      "purity for eps=8, min_pts=3 is 0.1955, number of clusters: 1380, number of >0.8 clusters: 57\n",
      "evaluating eps=8, min_pts=4...\n",
      "purity for eps=8, min_pts=4 is 0.1803, number of clusters: 1185, number of >0.8 clusters: 51\n",
      "evaluating eps=8, min_pts=5...\n",
      "purity for eps=8, min_pts=5 is 0.1706, number of clusters: 1077, number of >0.8 clusters: 47\n",
      "evaluating eps=8, min_pts=6...\n",
      "purity for eps=8, min_pts=6 is 0.1615, number of clusters: 985, number of >0.8 clusters: 35\n",
      "evaluating eps=8, min_pts=7...\n",
      "purity for eps=8, min_pts=7 is 0.1551, number of clusters: 902, number of >0.8 clusters: 29\n",
      "evaluating eps=9, min_pts=3...\n",
      "purity for eps=9, min_pts=3 is 0.1658, number of clusters: 1092, number of >0.8 clusters: 39\n",
      "evaluating eps=9, min_pts=4...\n",
      "purity for eps=9, min_pts=4 is 0.1541, number of clusters: 932, number of >0.8 clusters: 36\n",
      "evaluating eps=9, min_pts=5...\n",
      "purity for eps=9, min_pts=5 is 0.1473, number of clusters: 839, number of >0.8 clusters: 38\n",
      "evaluating eps=9, min_pts=6...\n",
      "purity for eps=9, min_pts=6 is 0.1401, number of clusters: 763, number of >0.8 clusters: 21\n",
      "evaluating eps=9, min_pts=7...\n",
      "purity for eps=9, min_pts=7 is 0.1352, number of clusters: 699, number of >0.8 clusters: 17\n",
      "evaluating eps=10, min_pts=3...\n",
      "purity for eps=10, min_pts=3 is 0.1419, number of clusters: 844, number of >0.8 clusters: 18\n",
      "evaluating eps=10, min_pts=4...\n",
      "purity for eps=10, min_pts=4 is 0.1329, number of clusters: 714, number of >0.8 clusters: 16\n",
      "evaluating eps=10, min_pts=5...\n",
      "purity for eps=10, min_pts=5 is 0.1279, number of clusters: 640, number of >0.8 clusters: 19\n",
      "evaluating eps=10, min_pts=6...\n",
      "purity for eps=10, min_pts=6 is 0.1241, number of clusters: 584, number of >0.8 clusters: 16\n",
      "evaluating eps=10, min_pts=7...\n",
      "purity for eps=10, min_pts=7 is 0.1203, number of clusters: 534, number of >0.8 clusters: 12\n"
     ]
    }
   ],
   "source": [
    "eps_list = [3, 4, 5, 6, 7, 8, 9, 10]\n",
    "min_pts_list = [3, 4, 5, 6, 7]\n",
    "\n",
    "hyperparam_purity = {}\n",
    "hyperparam_res = {}\n",
    "\n",
    "for eps in eps_list:\n",
    "    for min_pts in min_pts_list:\n",
    "        res = np.array(snn_dbscan.dbscan(shared_nn, eps=eps, min_pts=min_pts))\n",
    "        res[res == 'noise'] = 0\n",
    "        res = res.astype(int)\n",
    "        \n",
    "        hyperparam_res[(eps, min_pts)] = res\n",
    "        cluster_purity = evaluate.overall_purity(res)\n",
    "        hyperparam_purity[(eps, min_pts)] = cluster_purity\n",
    "\n",
    "        no_clusters = len(np.unique(res))\n",
    "        no_pure_clusters = len(evaluate.high_purity_clusters(res, threshold=0.8))\n",
    "\n",
    "        print 'purity for eps=%d, min_pts=%d is %0.4f, number of clusters: %d, number of >0.8 clusters: %d' % \\\n",
    "              (eps, min_pts, cluster_purity, no_clusters, no_pure_clusters)"
   ]
  },
  {
   "cell_type": "code",
   "execution_count": 376,
   "metadata": {
    "collapsed": false,
    "scrolled": true
   },
   "outputs": [
    {
     "name": "stdout",
     "output_type": "stream",
     "text": [
      "overall purity 0.2506\n",
      "number of high purity clusters of size at least 5 is 80\n",
      "\n",
      "- Abstract algebra (id=100) size=54, purity=0.8519\n",
      "- Coding theory (id=177) size=31, purity=0.9677\n",
      "- Astronomical catalogues (id=1288) size=24, purity=1.0000\n",
      "- Complex analysis (id=140) size=23, purity=1.0000\n",
      "- Solid mechanics (id=103) size=22, purity=0.8636\n",
      "- Group theory (id=1747) size=21, purity=0.9524\n",
      "- Probability theory (id=398) size=17, purity=0.8824\n",
      "- Numerical analysis (id=23) size=16, purity=0.8750\n",
      "- Quantum mechanics (id=173) size=16, purity=0.8125\n",
      "- Cartographic projections (id=680) size=16, purity=0.8750\n",
      "- Chemical elements (id=632) size=15, purity=0.9333\n",
      "- Fluid dynamics (id=661) size=15, purity=0.8000\n",
      "- National Basketball Association seasons (id=830) size=15, purity=0.8000\n",
      "- Physical cosmology (id=21) size=14, purity=0.8571\n",
      "- Mechanics (id=145) size=14, purity=0.9286\n",
      "- Theoretical physics (id=251) size=13, purity=0.8462\n",
      "- Stochastic processes (id=379) size=13, purity=0.8462\n",
      "- Algebraic number theory (id=29) size=12, purity=0.9167\n",
      "- Estimation theory (id=254) size=12, purity=1.0000\n",
      "- Cartography (id=298) size=12, purity=0.9167\n",
      "- Optics (id=547) size=12, purity=0.9167\n",
      "- Polynomials (id=1557) size=12, purity=0.9167\n",
      "- Measure theory (id=14) size=11, purity=0.9091\n",
      "- Dimensionless numbers (id=17) size=11, purity=1.0000\n",
      "- Enzymes (id=38) size=11, purity=0.8182\n",
      "- Signal processing (id=101) size=11, purity=0.9091\n",
      "- Financial economics (id=399) size=11, purity=0.8182\n",
      "- Linear algebra (id=469) size=11, purity=0.9091\n",
      "- Thermodynamics (id=1815) size=11, purity=0.9091\n",
      "- Fluid dynamics (id=287) size=10, purity=0.8000\n",
      "- Differential geometry (id=309) size=10, purity=0.8000\n",
      "- Stochastic processes (id=349) size=10, purity=1.0000\n",
      "- Propositional calculus (id=1168) size=10, purity=0.9000\n",
      "- Polynomials (id=925) size=9, purity=1.0000\n",
      "- Particle physics (id=1004) size=9, purity=0.8889\n",
      "- Constellations (id=705) size=8, purity=1.0000\n",
      "- Electromagnetism (id=821) size=8, purity=1.0000\n",
      "- Short-rate models (id=71) size=7, purity=0.8571\n",
      "- Abstract algebra (id=170) size=7, purity=0.8571\n",
      "- Quantum mechanics (id=554) size=7, purity=0.8571\n",
      "- Linear algebra (id=574) size=7, purity=0.8571\n",
      "- Stochastic differential equations (id=1301) size=7, purity=1.0000\n",
      "- Group theory (id=1501) size=7, purity=1.0000\n",
      "- Signal processing (id=1729) size=7, purity=0.8571\n",
      "- Group theory (id=1757) size=7, purity=0.8571\n",
      "- Statistics (id=124) size=6, purity=1.0000\n",
      "- Electromagnetic radiation (id=394) size=6, purity=1.0000\n",
      "- Numerical analysis (id=501) size=6, purity=0.8333\n",
      "- Algebraic topology (id=633) size=6, purity=1.0000\n",
      "- Banach algebras (id=729) size=6, purity=0.8333\n",
      "- Elementary shapes (id=764) size=6, purity=0.8333\n",
      "- Set theory (id=795) size=6, purity=1.0000\n",
      "- Matroid theory (id=1067) size=6, purity=1.0000\n",
      "- Algebra (id=1143) size=6, purity=0.8333\n",
      "- Partial differential equations (id=1399) size=6, purity=0.8333\n",
      "- Mathematical analysis (id=16) size=5, purity=0.8000\n",
      "- HR objects (id=197) size=5, purity=0.8000\n",
      "- Telecommunications engineering (id=229) size=5, purity=1.0000\n",
      "- Statistical mechanics (id=307) size=5, purity=1.0000\n",
      "- Physics (id=412) size=5, purity=0.8000\n",
      "- Computational complexity theory (id=473) size=5, purity=1.0000\n",
      "- Cryptography (id=481) size=5, purity=0.8000\n",
      "- Stochastic processes (id=486) size=5, purity=0.8000\n",
      "- Modal logic (id=584) size=5, purity=1.0000\n",
      "- Stochastic processes (id=677) size=5, purity=1.0000\n",
      "- Algebraic varieties (id=724) size=5, purity=1.0000\n",
      "- Gaming (id=755) size=5, purity=1.0000\n",
      "- Dimensionless numbers (id=779) size=5, purity=0.8000\n",
      "- Fluid mechanics (id=910) size=5, purity=0.8000\n",
      "- Differential geometry (id=964) size=5, purity=1.0000\n",
      "- Group theory (id=969) size=5, purity=1.0000\n",
      "- Tensors (id=1033) size=5, purity=0.8000\n",
      "- Materials science (id=1091) size=5, purity=0.8000\n",
      "- Graph theory (id=1163) size=5, purity=0.8000\n",
      "- Riemannian geometry (id=1226) size=5, purity=1.0000\n",
      "- Physical quantities (id=1654) size=5, purity=1.0000\n",
      "- Gases (id=1683) size=5, purity=1.0000\n",
      "- Descriptive set theory (id=1687) size=5, purity=0.8000\n",
      "- Prime numbers (id=1733) size=5, purity=0.8000\n",
      "- SI derived units (id=1754) size=5, purity=1.0000\n"
     ]
    }
   ],
   "source": [
    "evaluate.report_overall(hyperparam_res[(6, 3)], purity_threshold=0.8, sort_by='size')"
   ]
  },
  {
   "cell_type": "code",
   "execution_count": 402,
   "metadata": {
    "collapsed": false,
    "scrolled": true
   },
   "outputs": [
    {
     "name": "stdout",
     "output_type": "stream",
     "text": [
      "size: 31\n",
      "\n",
      "- Plotkin bound (categories: Discrete mathematics, Information theory, Coding theory, Encodings) distance C finite d field M choices s_i length minimum F_2 x y hamming n\n",
      "- Johnson bound (categories: Discrete mathematics, Information theory, Coding theory, Encodings) nonzero distance C code d n q length minimum x w entries y hamming codes\n",
      "- Cyclic code (categories: Discrete mathematics, Information theory, Algebraic number theory, Field theory, Coding theory, ...) code symbols range dimension v_i principal ham generator field unity α only location columns v_0 v_1 ω H coprime F_2 d positions p vector t indices x domain modulo weight burst λc_n zero frequency nonzero errors G c_n-1 β V_j V_k coefficient C linear degree error j_1 rows c V_0 V_1 g column shift length block primitive number rank c_1 c_0 b_0 ring size l_2 Σ l_1 codewords quadratic G_j λ form c_i R V distance b word places cyclic r v S_1 S_3 constant spectrum minimum numbers D binary galois s maps ideal complex role residue elements X_1 polynomials codeword multiplication matrix C_j m element q X_2 components time order\n",
      "- Generator matrix (categories: Discrete mathematics, Information theory, Coding theory, Encodings) information code d G distance k M length n q dimensions linear minimum codeword dimension bits P identity matrix\n",
      "- Constant-weight code (categories: Algorithms, Theoretical computer science, Formal sciences, Telecommunications engineering, Statistical theory, ...) code-word code d weight distance length o N constant-weight w hamming n g_2\n",
      "- Hadamard code (categories: Algorithms, Discrete mathematics, Information theory, Coding theory, Encodings, ...) Pr code weight encoding x_n codeword x_k x_i product c_0 minimum g_i Δ generality g_j message n size information codes matrix generator codewords locally power field y_k y_j y_i inner finite minimal δ function C D G c_i c_k c_j g_1 g_0 first probability x_2 F_2 x_1 hadamard bit n/2 distance c x products positions k j messages y_2 y_1 y_0 q fraction length vector ϵ hamming y position walsh decodable strings block space\n",
      "- Enumerator polynomial (categories: Algorithms, Mathematical theorems, Algebra, Discrete mathematics, Information theory, ...) vector ranges C code linear weight codewords c M length n c_1 W c_2 t w inner distribution F_2 size\n",
      "- Linear code (categories: Discrete mathematics, Information theory, Algebraic number theory, Field theory, Coding theory, ...) code rank symbols c_0 set F_q size index errors matrix codewords positive field r finite H_j columns H_i function C blocks linear G entire c_i H c_j M standard S ϕ words codeword subspace integer difference notation distance c output d minimum column h k space n q length vector form w items hamming dimension block\n",
      "- Singleton bound (categories: Mathematical theorems, Mathematical relations, Discrete mathematics, Information theory, Inequalities, ...) distance C code d codewords n q length minimum F_q hamming y x r block size\n",
      "- Hamming bound (categories: Discrete mathematics, Information theory, Coding theory, Encodings) subset code letters m minimum radius errors codewords alphabet C ball definition codeword distance c word d messages n q length t hamming block\n",
      "- Gilbert–Varshamov bound (categories: Discrete mathematics, Information theory, Coding theory, Encodings) maximal C code components weight minimum radius q-ary c_x satisfies size distance d contradiction n q field length maximality hamming x F_q\n",
      "- Decoding methods (categories: Discrete mathematics, Information theory, Coding theory, Encodings) code probability discrete memoryless x_i minimum table message size given errors matrix p parity-check y_i channel C linear that H possible codeword distance d transmission n patterns length t error y x z\n",
      "- GV-linear-code (categories: Discrete mathematics, Information theory, Coding theory, Encodings) Pr code messages relative rate radius Δ message H_q ε δ m_2 m_1 C ball linear G R W codeword distance randomness m q r w y F_q\n",
      "- Folded Reed–Solomon code (categories: Algorithms, Theoretical computer science, Discrete mathematics, Information theory, Logic in computer science, ...) primitive tasks lecture codeword Y_2 Y_1 x_i relative rate code radius o element linear counterpart rudras errors length system codewords Ω γ same y_2 y_m n f_0 f_1 fraction rates ε intersection order F_q columns δ ρ C D degree atri s Y_s L O N Q R x_2 low x_0 x_1 word parameter distance folding d f ν k m f_i y_1 y_0 q solomon ϵ t positions y reed dimension deg\n",
      "- Zemor's decoding algorithm (categories: Algorithms, Discrete mathematics, Information theory, Coding theory, Encodings, ...) subset x_e E_v chung cover x_1 digit vertices x_v rate code C_o iterations R n eigen procedure matrix z_v x_N graph subgraph stages length edges partition α γ r δ r_o new λ size vector C E D G distance K minimum m O N subvectors S regular x_2 value codeword V S_i X sub-words notation nodes relative endpoint word d h linear iteration dependence o double q subcode edge ϵ t w v degree output z expander block\n",
      "- Concatenated error correction code (categories: Algorithms, Theoretical computer science, Formal sciences, Telecommunications engineering, Statistical theory, ...) code c_out certain messages symbols rate minimum Δ threshold message capacity alphabet rates input channel inputs C B D outputs K N R hadamard distance d positions k m n q length hamming dimension block\n",
      "- List decoding (categories: Algorithms, Theoretical computer science, Discrete mathematics, Information theory, Logic in computer science, ...) Pr code x_1 x_m c_1 single c_2 radius o size unambiguous codewords Σ errors X_c C_p Ω alphabet x length decoding symmetric field r δ y_i codeword transmitted m_0 parameter channel C fraction degree m_L finite c indicator L O Q normalised R x_2 α_i words V Y codes distance m_i l_q word d johnson positions k H_q list rate n q p decoder minimum ϵ hamming error y output quantity dimension block F_q\n",
      "- Standard array (categories: Discrete mathematics, Information theory, Coding theory, Encodings) binary C code codewords k Z_2 n q C_3 array standard\n",
      "- Covering code (categories: Discrete mathematics, Information theory, Coding theory, Encodings) Q C code codewords alphabet length r-covering n q d_H R radius q-ary size\n",
      "- Srivastava code (categories: Algorithms, Discrete mathematics, Information theory, Algebraic number theory, Field theory, ...) distance code α_n n α length minimum α_1 dimension w_1 μ w_s\n",
      "- Justesen code (categories: Algorithms, Discrete mathematics, Information theory, Algebraic number theory, Field theory, ...) primitive code weight rank c_1 rate c_2 Δ element codes codewords α ε δ m_2 m_1 C distance H K N S R relative c b m c_N q length minimum ϵ 2n block\n",
      "- Locally testable code (categories: Algorithms, Information theory, Coding theory, Data transmission, Error detection and correction, ...) code probability random x_i Δ event machine uniformly note δ y_i input μ inputs C E string turing M codeword distance f h k access f_i events q ϵ w queries y x\n",
      "- Griesmer bound (categories: Discrete mathematics, Information theory, Coding theory, Encodings) code form minimum F_q griesmer row binary codes matrix generator positive C linear G F_2 integer distance integrality d k n q r u w v dimension first\n",
      "- Dual of BCH is an independent source (categories: Mathematical proofs, WikiProject Mathematics articles, Article proofs) code rank ℓ size rows matrix same source input independent C linear bch_2 M O x_2 x_1 M_2 M_1 identity distance d k l n +1 dimension\n",
      "- Locally decodable code (categories: Algorithms, Information theory, Coding theory, Data transmission, Error detection and correction, ...) S_1 subset code corrupted probability multivariate information x_l codeword q_k q_j private x_i single minimum radius polynomial query message total bit string index notation codewords affine complexity field δ y_i polylogarithmic λ finite ρ inputs C hamming degree F H arbitrary L O N binary S q_1 x_1 S_k servers d distance scheme algorithm places P h k database l n q fraction length ϵ t w v y x decodable original\n",
      "- Elias Bassalygo bound (categories: Discrete mathematics, Information theory, Coding theory, Encodings) subset code elias-bassalygo relative rate ball radius Δ overlapped position H_q δ ρ C B R V distance l_q region codewords o n q length y B_q block\n",
      "- Block code (categories: Discrete mathematics, Information theory, Coding theory, Encodings) code messages c_1 minimum c_2 radius Δ message speed size q Σ errors H_q alphabet R overhead δ fraction m_2 m_1 finite F_q map C hamming relative M codes codeword injective distance c d C_i h k codewords m o n k_i transmission length d_i ϵ w positions field quantity strings block n_i\n",
      "- BCH code (categories: Algorithms, Discrete mathematics, Information theory, Algebraic number theory, Field theory, ...) code V thanks generator Ω α λ_1 m_2 m_1 λ_2 syndromes m_4 prime rise m_i GF lcm λ_i λ_k d m_c positions appropriate vector common multiplicative requirement set force value E b_2 Ξ t_i matrix t_c s_c s_i s_k s_j conditions correct t C G error s_1 restrictions s_3 s_2 s_4 k length place degree primitive dont order locator Γ lagrange polynomial b_1 Λ Σ k_1 unknown k_2 brute least definition c m_3 λ_0 distance modulo word j f_j n k_i k_j values v root unreadable formulation codes syndrome power field syndroms finite simplicity multiple M letter codeword m element q algorithms position original\n",
      "- Hamming code (categories: Algorithms, Discrete mathematics, Information theory, Theory of computation, Arithmetic, ...) code binary G codewords parity-check field form H standard construction F_2 hand identity matrix a distance k m n length r x side left\n",
      "- Reed–Solomon error correction (categories: Algorithms, Discrete mathematics, Information theory, Coding theory, Encodings, ...) code S_ν symbols v_i Ω α source ν oversampling v_0 v_1 v_2 interleaver choice Λ_1 Λ_2 a_i d l p erasures t x modulo p_x s_r degree s_i s_n C linear G convolutiona g_1 g_0 s_1 s_2 k length block x_k x_i locator polynomial table Λ size f_0 f_1 f_2 scheme final b_i c_i R x_2 x_1 distance f_i value n r error +1 deg S_1 S_3 S_2 S_4 s. Y_2 Y_1 minimum Δ check alphabet X_k r_i δ Y_k codeword S_i S_j q original\n",
      "- Binary symmetric channel (categories: Discrete mathematics, Information theory, Coding theory, Encodings) Pr code p probability encoding conditional crossover ball radius Δ polynomial reed-solomon message E_m linear index errors outer C_out Ω decoding symmetric γ δ E_E concatenated u y_i channel inner function C random E D H error codeword forney O effect R C_p formula_67745bb0705902a096391741ba5e7afe V capacity D_in N sides outputs formula_b7a70cd382effc3a0ced7c701ae9098d of k C_in m o n probabilities r ϵ time y the\n",
      "\n",
      "common terms: ()\n",
      "top categories: [(u'Coding theory', 30), (u'Information theory', 30), (u'Discrete mathematics', 27), (u'Encodings', 27), (u'Transport layer protocols', 14)]\n",
      "purity: 0.968\n",
      "relations:\n",
      "    B: (alphabet: 17.02), (codewords: 9.21), (outputs: 7.70), (inputs: 7.26), (code: 7.03), (ball: 6.89)\n",
      "    C: (code: 124.75), (codewords: 35.47), (linear code: 29.04), (codeword: 22.00), (size: 21.45), (block code: 17.08), (relative distance: 16.64), (minimum distance: 16.43), (block length: 16.35), (cyclic code: 14.87), (generator matrix: 14.81), (distance: 14.46), (length: 13.84), (decodable code: 9.21), (q-ary code: 9.06), (certain threshold: 8.99), (concatenated code: 8.99), (correct codeword: 8.99), (linear subspace: 8.91), (Solomon: 8.64), (final value: 8.64), (polylogarithmic query complexity: 8.64), (weight: 8.57), (R-covering: 8.53), (decoding: 8.53), (Hadamard: 8.35), (words: 8.34), (maximality: 8.24), (Reed: 8.13), (binary: 8.13), (error locator polynomial: 8.13), (polynomial length: 8.13), (unknown error vector: 8.13), (events: 8.02), (message: 8.02), (injective map: 7.99), (overlapped region: 7.68), (word: 7.67), (entire code: 7.66), (Forney: 7.51), (rate: 7.39), (dimension: 7.23), (linear: 7.19), (radius: 6.96), (channel capacity: 6.22), (subset: 5.86)\n",
      "    C_3: (code: 9.10), (codewords: 8.20)\n",
      "    C_i: (codes: 8.35), (code: 7.74)\n",
      "    C_in: (inner code: 8.99), (code: 8.31), (linear code: 7.74)\n",
      "    C_j: (codeword spectrum: 9.21)\n",
      "    C_o: (linear subcode: 8.85), (code word: 8.18), (code: 8.03)\n",
      "    C_out: (outer code: 9.06), (Reed-Solomon: 8.05), (code: 7.74)\n",
      "    D: (decoding function: 16.17), (code: 15.69), (degree parameter: 8.99), (Decoding function: 8.03), (positions: 8.03)\n",
      "    D_in: (errors: 8.86), (index: 8.13)\n",
      "    E: (edge: 13.64), (vertices: 13.10), (unknown error vector: 8.99), (syndrome values: 8.86), (decoding: 8.60), (random encoding function: 8.52), (encoding function: 7.94), (endpoint: 7.66), (encoding: 7.47), (size: 6.76), (event: 6.29)\n",
      "    E_E: (FORMULA_b7a70cd382effc3a0ced7c701ae9098d FORMULA_67745bb0705902a096391741ba5e7afe: 8.35), (sides: 7.74)\n",
      "    E_v: (edge: 7.51)\n",
      "    F: (total degree: 8.31), (finite field: 6.37)\n",
      "    F_2: (finite field: 16.41), (A field: 8.86), (vector space: 7.40)\n",
      "    F_q: (finite field: 20.16), (linear code: 8.86), (primitive element: 8.57), (Griesmer: 8.35), (error parameter: 8.35), (linear system: 8.24), (vector space: 7.98), (field: 7.65), (code: 7.51)\n",
      "    G: (matrix: 38.11), (linear code: 15.69), (standard form: 14.74), (generator matrix: 14.53), (regular expander: 8.83), (block matrix form: 8.58), (first row: 8.53), (randomness: 8.53), (construction: 7.79), (regular graph: 7.71), (standard: 7.51), (left hand side: 7.35), (form: 7.16), (code: 6.94)\n",
      "    GF: (code: 8.86)\n",
      "    G_j: (form: 8.88), (role: 8.86)\n",
      "    H: (matrix: 18.49), (parity-check matrix: 14.33), (codeword: 9.21), (single bit: 8.53), (code: 8.24), (standard: 8.20), (linear function: 8.05), (possible error patterns: 8.02), (table: 8.02), (minimum distance: 7.74), (capacity of the channel: 7.51), (index: 6.43)\n",
      "    H_i: (column: 7.74)\n",
      "    K: (minimum weight: 8.24), (rank: 7.94), (code: 7.74)\n",
      "    L: (list size: 8.35), (code: 7.98), (binary string: 7.65), (length: 3.78)\n",
      "    M: (length: 18.29), (choices: 16.98), (size: 14.52), (rank: 14.39), (code words: 8.99), (codewords: 8.99), (random access: 8.64), (codes: 8.35), (Turing machine: 8.32), (inner distribution vector: 7.80), (code: 7.51), (notation: 7.40), (matrix: 5.29)\n",
      "    M_1: (rank: 15.83), (same size: 8.57), (rows: 8.02)\n",
      "    M_2: (rows: 8.02)\n",
      "    N: (codes: 15.41), (codeword positions: 9.21), (codeword: 8.86), (block length: 8.82), (code-word: 8.64), (code: 8.53), (polynomial time: 7.74), (fraction: 7.40), (message: 7.19), (size: 6.01)\n",
      "    O: (dependence: 7.74), (notation: 6.75)\n",
      "    P: (identity matrix: 8.86), (total degree: 7.74), (dimension: 7.73), (inputs: 7.16)\n",
      "    Pr: (conditional probabilities: 8.85)\n",
      "    Q: (alphabet: 9.21), (size: 8.86)\n",
      "    R: (rate: 55.38), (relative distance: 21.97), (quantity: 15.69), (rates: 15.50), (fraction: 13.22), (overhead: 8.35), (block length: 8.18), (outputs: 8.13), (errors: 8.07), (table: 7.98), (codes: 7.84), (Reed: 7.84), (principal ideal ring: 7.80), (transmission speed: 7.74), (radius: 7.73), (polynomials: 7.48), (principal: 7.46), (certain threshold: 7.19), (maps: 6.51), (ideal: 6.26)\n",
      "    S: (subcode nodes: 8.91), (linear code: 8.38), (column index set: 8.35), (codes: 8.02), (arbitrary subset: 7.73), (columns: 7.53), (algorithm: 7.26)\n",
      "    S_i: (A_i +1: 8.83), (B_i +1: 8.83), (R_i modulo: 8.83), (deg A_i: 8.83), (degree: 8.48)\n",
      "    V: (spectrum: 16.19), (frequency: 7.42), (edges: 7.25), (matrix: 6.80)\n",
      "    V_j: (components: 22.50)\n",
      "    X: (Chung: 8.35), (Iteration: 8.02), (subgraph: 7.74), (subset: 5.15)\n",
      "    X_1: (field elements: 9.21)\n",
      "    X_2: (field elements: 8.35), (error: 8.02), (error location numbers: 7.74)\n",
      "    X_c: (indicator: 8.86)\n",
      "    b: (positions: 8.54), (length 2N: 7.74), (coprime: 7.43), (symbols: 6.55)\n",
      "    b_0: (nonzero coefficient: 9.21), (degree: 7.74)\n",
      "    c: (codewords: 31.80), (codeword: 16.74), (radius: 13.45), (distance: 11.65), (transmitted codeword: 9.06), (positions: 8.64), (generator polynomial: 8.60), (single codeword: 8.58), (difference: 8.28), (Walsh: 8.13), (decoder: 8.05), (codes: 7.82), (degree: 7.74), (strings: 7.74), (Hamming distance: 7.68), (weight: 7.40)\n",
      "    c_0: (codeword: 24.96), (codewords: 15.65), (maps: 8.99), (difference: 7.80)\n",
      "    c_1: (codewords: 17.30), (Hamming distance: 8.86), (positions: 8.35), (λc_n: 8.24), (codeword: 7.74), (constant λ: 7.72), (c_n-1: 7.59)\n",
      "    c_2: (codewords: 15.65), (output: 8.31), (unambiguous decoding: 8.31), (Hamming distance: 7.74)\n",
      "    c_i: (items: 8.86)\n",
      "    c_x: (satisfies: 8.99)\n",
      "    d: (minimum distance: 106.50), (code: 43.58), (Hamming distance: 37.36), (distance: 36.70), (minimum: 30.20), (positions: 22.55), (weight: 21.61), (dimension: 18.69), (generator: 16.15), (linear code: 15.17), (degree: 14.99), (double cover: 8.87), (parity-check matrix: 8.86), (regular expander: 8.53), (Hamming weight: 8.49), (linear block code: 8.35), (information bits: 8.31), (maximal size: 8.20), (alphabet: 8.13), (q-ary code: 8.13), (rate: 8.13), (multivariate polynomial: 8.05), (block code: 8.00), (vertices: 7.81), (total degree: 7.74), (BCH_2: 7.74), (transmission errors: 7.73), (contradiction: 7.69), (components: 7.53), (definition: 7.49), (regular graph: 7.33), (rank: 7.26), (polynomial: 6.58), (radius: 6.29), (size: 6.20), (length: 5.36)\n",
      "    f: (codeword: 15.65), (degree: 11.90)\n",
      "    g: (generator: 13.01), (degree: 6.40)\n",
      "    h: (degree: 7.67)\n",
      "    j: (syndromes: 8.35), (positions: 7.98), (position: 7.22)\n",
      "    j_1: (indices: 8.26), (components: 8.13)\n",
      "    k: (dimension: 49.05), (code: 33.43), (length: 31.10), (minimum distance: 23.01), (distance: 20.57), (degree: 14.25), (servers: 13.44), (syndroms: 8.86), (note: 8.64), (polynomial formulation: 8.57), (code symbols: 8.53), (source symbols: 8.49), (minimum: 8.31), (inputs: 8.26), (codeword: 8.24), (private information scheme: 8.18), (oversampling: 8.01), (folding parameter: 7.98), (linear subspace: 7.97), (codewords: 7.86), (decodable code: 7.75), (binary code: 7.72), (message: 7.65), (Hamming weight: 7.64), (block length: 7.62), (input: 7.52), (Hamming distance: 7.46), (effect: 7.33), (codes: 7.26), (symbols: 7.16), (messages: 7.16), (dimensions: 7.12), (identity: 6.97), (strings: 6.45), (vector space: 6.44), (rank: 6.31), (matrix: 5.83), (positive integer: 5.08)\n",
      "    k_1: (position: 8.85), (unreadable letter: 7.99)\n",
      "    l: (independent source: 16.64), (convolutiona: 8.99), (interleaver: 8.99), (input: 8.13), (scheme: 7.51), (degree: 6.92)\n",
      "    lcm: (least common multiple: 8.81)\n",
      "    m: (message: 28.58), (length: 26.32), (messages: 14.79), (Reed: 9.21), (input message: 8.85), (folding parameter: 8.56), (code: 8.48), (binary code: 8.38), (Messages: 8.35), (Solomon: 8.35), (binary number: 8.24), (subcode nodes: 8.05), (code length: 7.99), (length 2N: 7.76), (digit nodes: 7.70), (codeword: 7.69), (C_out: 7.60), (codewords: 7.54), (column: 7.15), (multiplicative order: 7.09), (rows: 6.44), (degree: 6.07), (columns: 6.02), (distance: 5.98)\n",
      "    m_1: (messages: 8.59), (least common multiple: 8.35), (distance: 7.19)\n",
      "    m_2: (messages: 8.13), (message: 7.74)\n",
      "    n: (length: 132.58), (code: 64.19), (block length: 43.12), (minimum distance: 41.17), (block code: 21.79), (linear code: 21.39), (codewords: 21.15), (letters: 19.87), (dimension: 17.60), (minimum: 15.29), (Hamming distance: 15.13), (codes: 14.43), (modulo: 12.79), (size: 12.52), (subset: 12.47), (linear code length: 8.99), (code symbols: 8.91), (integrality: 8.86), (ℓ +1: 8.86), (Hadamard code: 8.57), (minimal distance n/2: 8.57), (BCH_2: 8.35), (sub-words: 8.24), (code word: 8.16), (decodable code: 8.08), (Hamming weight: 8.01), (message: 7.96), (q-ary R-covering code: 7.87), (standard array: 7.74), (final value: 7.72), (polynomial code: 7.72), (query: 7.66), (constant-weight code: 7.65), (q-ary code: 7.51), (blocks: 7.49), (definition: 7.23), (positions: 7.11), (outputs: 6.94), (root: 6.77), (symbols: 6.44), (partition: 6.12), (components: 5.88), (rank: 5.76), (power: 5.57), (dimensions: 4.92), (degree: 3.93)\n",
      "    n_i: (code: 7.74)\n",
      "    p: (crossover probability: 15.97), (error: 15.66), (fraction: 14.72), (discrete memoryless channel: 8.99), (minimum weight: 8.86), (oversampling: 8.66), (error fraction: 8.54), (cyclic code: 8.35), (symmetric channel: 8.08), (errors: 8.06), (source symbols: 8.02), (quadratic residue modulo: 7.98), (word: 7.74), (quadratic residue code: 7.40), (length: 7.09), (dimension: 6.75), (polynomial: 6.68), (probability: 4.62)\n",
      "    q: (code: 36.51), (size: 28.07), (alphabet: 22.10), (finite field: 17.12), (queries: 16.15), (modulo: 13.02), (locally decodable: 8.86), (code length: 8.85), (letters: 8.32), (block code: 8.31), (cyclic code: 8.31), (block length: 8.13), (choice: 8.13), (q-ary R-covering code: 8.02), (Hadamard code: 7.74), (codeword: 7.74), (symmetric channel: 7.68), (dimensions: 7.52), (field: 6.92), (coprime: 6.42), (length: 6.40), (prime power: 5.95)\n",
      "    q_j: (query: 9.21)\n",
      "    r: (minimum distance: 15.60), (code: 14.58), (ball: 12.50), (length: 11.42), (word: 9.21), (form Ham: 8.86), (block code length: 8.64), (errors: 8.28), (linear code: 8.13), (radius: 7.98), (original codeword s.: 7.97), (positive integer: 7.78), (form: 7.52), (block length: 7.51), (size: 6.64), (rate: 6.50)\n",
      "    r_o: (minimum: 8.86), (rate: 8.35), (relative distance: 8.35)\n",
      "    s: (codeword: 8.53), (places: 8.28), (cyclic shift: 7.80), (degree: 7.33), (order: 6.71), (range: 6.40)\n",
      "    s_c: (syndroms: 29.56), (syndromes: 8.82), (original set: 8.54), (restrictions: 7.63)\n",
      "    s_i: (error word: 8.60)\n",
      "    s_j: (error: 8.86)\n",
      "    t: (length: 31.19), (errors: 29.96), (inputs: 14.67), (ranges: 9.21), (appropriate value: 8.86), (check symbols: 8.83), (Iteration: 8.66), (minimum distance: 8.42), (columns: 8.32), (weight: 8.30), (erasures: 8.22), (algorithms: 8.02), (symbols: 7.85), (binary string: 7.72), (code: 7.68), (cyclic burst: 7.65), (nonzero components: 7.61), (radius: 7.50), (stages: 7.47), (ball: 7.37), (iterations: 7.19), (degree: 6.34)\n",
      "    t_c: (syndroms: 16.97)\n",
      "    v: (positions: 8.88), (field time domain vector: 8.54), (Galois: 8.20), (only vector: 7.70), (edges: 7.42)\n",
      "    w: (codeword: 16.42), (nonzero entries: 8.99), (subvectors: 8.86), (queries: 8.53), (code: 8.35), (affine: 8.05), (Output: 7.74), (input: 7.34), (distance: 7.19), (string: 6.72), (weight: 6.42)\n",
      "    x: (Hamming distance: 30.98), (message: 21.52), (codeword: 17.09), (code: 14.41), (codewords: 9.21), (hamming distance: 8.86), (database: 8.49), (binary code: 8.35), (encoding function: 7.96), (Hadamard: 7.91), (transmission: 7.85), (oversampling: 7.64), (encoding: 7.54), (products: 7.54), (cyclic shift: 7.51), (satisfies: 7.33), (multiplication: 6.84), (choices: 6.78), (polynomial: 6.37), (probability: 5.88), (distance: 4.80)\n",
      "    x_1: (generality: 8.53), (information: 8.35), (identity matrix: 7.72)\n",
      "    x_2: (rows: 8.02)\n",
      "    x_e: (code: 7.74)\n",
      "    x_i: (message bit: 8.57), (message: 8.20)\n",
      "    y: (codeword: 51.17), (word: 24.31), (Hamming distance: 21.49), (radius: 13.61), (uniformly random: 8.88), (first bit: 8.57), (notation: 8.52), (given that: 8.50), (linear code: 7.74), (choices: 7.68), (strings: 7.43), (length: 6.73), (position: 6.58)\n",
      "    y_1: (positions: 8.53), (inner product: 7.51)\n",
      "    y_j: (probability: 7.73)\n",
      "    z: (new vector: 8.88), (Output: 8.86), (table: 7.98), (procedure: 7.68)\n",
      "    z_v: (codeword: 7.74)\n",
      "    Γ: (conditions: 7.77)\n",
      "    Δ: (distance: 7.98)\n",
      "    Λ: (error locator polynomial: 8.55), (Thanks: 8.53), (Lagrange: 7.80)\n",
      "    Ξ: (place: 8.13)\n",
      "    Σ: (size: 15.50), (alphabet: 12.43)\n",
      "    α: (primitive element: 21.98), (dependence: 8.86), (requirement: 8.57), (codewords: 7.51)\n",
      "    α_i: (word: 8.35)\n",
      "    β: (zero: 8.35)\n",
      "    γ: (order: 8.53), (errors: 8.35), (primitive element: 7.98), (counterpart: 7.74)\n",
      "    δ: (relative distance: 45.07), (minimum: 15.32), (fraction: 15.01), (code: 14.86), (distance: 14.02), (rate: 13.92), (places: 8.59), (codewords: 8.53), (normalised distance: 8.35), (string: 8.02), (Elias-Bassalygo: 7.80), (Johnson: 7.74), (linear code: 7.74), (Hamming distance: 7.51), (radius: 7.36), (probability: 6.48)\n",
      "    ε: (Atri Rudras: 8.31), (Lecture: 8.02)\n",
      "    λ: (eigen value: 8.88), (matrix: 6.14)\n",
      "    λ_0: (Dont: 7.87), (brute force: 7.72), (root: 7.68)\n",
      "    λ_1: (error locator polynomial: 8.35)\n",
      "    λ_2: (error locator polynomial: 7.74), (rise: 7.74)\n",
      "    λ_k: (simplicity: 9.21)\n",
      "    μ: (probability: 8.52)\n",
      "    ν: (low intersection: 7.80)\n",
      "    ρ: (errors: 16.06), (probability: 14.67), (fraction: 8.99), (tasks: 8.49), (original message: 8.13), (places: 8.13), (same fraction: 7.98), (codewords: 7.65), (distance: 7.37)\n",
      "    ω: (complex field: 7.88), (unity: 7.70), (order: 7.54), (field: 7.54), (Galois: 7.54)\n",
      "    ϵ: (corrupted codeword: 7.72), (radius: 7.31), (probability: 6.99)\n"
     ]
    }
   ],
   "source": [
    "evaluate.print_cluster(hyperparam_res[(6, 3)], 177, collection_weighting=1)"
   ]
  },
  {
   "cell_type": "code",
   "execution_count": 403,
   "metadata": {
    "collapsed": false,
    "scrolled": true
   },
   "outputs": [
    {
     "name": "stdout",
     "output_type": "stream",
     "text": [
      "overall purity 0.2294\n",
      "number of high purity clusters of size at least 5 is 83\n",
      "\n",
      "- Abstract algebra (id=79) size=45, purity=0.8444\n",
      "- Coding theory (id=135) size=31, purity=0.9677\n",
      "- Astronomical catalogues (id=1023) size=24, purity=1.0000\n",
      "- Group theory (id=1406) size=24, purity=0.9167\n",
      "- Solid mechanics (id=82) size=21, purity=0.8571\n",
      "- Category theory (id=140) size=19, purity=0.9474\n",
      "- Complex analysis (id=108) size=18, purity=1.0000\n",
      "- Functional analysis (id=109) size=17, purity=0.8235\n",
      "- Numerical analysis (id=20) size=16, purity=0.8750\n",
      "- Probability theory (id=301) size=16, purity=0.8750\n",
      "- Cartographic projections (id=531) size=16, purity=0.8750\n",
      "- Chemical elements (id=496) size=15, purity=0.9333\n",
      "- Fluid dynamics (id=519) size=15, purity=0.8000\n",
      "- National Basketball Association seasons (id=644) size=15, purity=0.8000\n",
      "- Mechanics (id=363) size=14, purity=0.9286\n",
      "- Physical cosmology (id=454) size=14, purity=0.8571\n",
      "- Cartography (id=226) size=12, purity=0.9167\n",
      "- Radio frequency propagation (id=260) size=12, purity=1.0000\n",
      "- Theoretical physics (id=279) size=12, purity=0.8333\n",
      "- Stochastic processes (id=388) size=12, purity=0.8333\n",
      "- General relativity (id=521) size=12, purity=0.8333\n",
      "- Polynomials (id=1248) size=12, purity=0.9167\n",
      "- Topology (id=22) size=11, purity=0.8182\n",
      "- Enzymes (id=29) size=11, purity=0.8182\n",
      "- Algebraic number theory (id=293) size=11, purity=0.9091\n",
      "- Quantum mechanics (id=366) size=11, purity=0.9091\n",
      "- Dimensionless numbers (id=15) size=10, purity=1.0000\n",
      "- Quantum mechanics (id=278) size=10, purity=0.9000\n",
      "- Financial economics (id=302) size=10, purity=0.8000\n",
      "- Polynomials (id=726) size=10, purity=1.0000\n",
      "- Propositional calculus (id=926) size=10, purity=0.9000\n",
      "- Signal processing (id=80) size=9, purity=0.8889\n",
      "- Stochastic processes (id=265) size=9, purity=1.0000\n",
      "- Measure theory (id=12) size=8, purity=0.8750\n",
      "- Linear algebra (id=150) size=8, purity=0.8750\n",
      "- Constellations (id=553) size=8, purity=1.0000\n",
      "- Electromagnetism (id=639) size=8, purity=1.0000\n",
      "- Estimation theory (id=655) size=8, purity=1.0000\n",
      "- Fluid dynamics (id=938) size=8, purity=0.8750\n",
      "- Differential geometry (id=1013) size=8, purity=0.8750\n",
      "- Linear algebra (id=1470) size=8, purity=1.0000\n",
      "- Optics (id=1477) size=8, purity=1.0000\n",
      "- Set theory (id=621) size=7, purity=1.0000\n",
      "- Particle physics (id=951) size=7, purity=0.8571\n",
      "- Group theory (id=1205) size=7, purity=1.0000\n",
      "- Signal processing (id=1389) size=7, purity=0.8571\n",
      "- Group theory (id=1414) size=7, purity=0.8571\n",
      "- Short-rate models (id=55) size=6, purity=0.8333\n",
      "- Elementary shapes (id=593) size=6, purity=0.8333\n",
      "- Group theory (id=761) size=6, purity=1.0000\n",
      "- Matroid theory (id=846) size=6, purity=1.0000\n",
      "- Graph theory (id=921) size=6, purity=0.8333\n",
      "- Linear algebra (id=1060) size=6, purity=0.8333\n",
      "- Partial differential equations (id=1118) size=6, purity=0.8333\n",
      "- Thermodynamics (id=1467) size=6, purity=1.0000\n",
      "- Mathematical analysis (id=14) size=5, purity=0.8000\n",
      "- HR objects (id=155) size=5, purity=0.8000\n",
      "- Physics (id=314) size=5, purity=0.8000\n",
      "- Cryptography (id=372) size=5, purity=0.8000\n",
      "- Differential geometry (id=413) size=5, purity=1.0000\n",
      "- Fluid dynamics (id=416) size=5, purity=1.0000\n",
      "- Quantum mechanics (id=433) size=5, purity=1.0000\n",
      "- Modal logic (id=455) size=5, purity=1.0000\n",
      "- Abstract algebra (id=466) size=5, purity=0.8000\n",
      "- Dimensionless numbers (id=606) size=5, purity=0.8000\n",
      "- Physics (id=608) size=5, purity=0.8000\n",
      "- Quantum field theory (id=670) size=5, purity=1.0000\n",
      "- Fluid mechanics (id=714) size=5, purity=0.8000\n",
      "- Tensors (id=814) size=5, purity=0.8000\n",
      "- Operator algebras (id=845) size=5, purity=1.0000\n",
      "- Materials science (id=862) size=5, purity=0.8000\n",
      "- Gaming (id=989) size=5, purity=1.0000\n",
      "- Information theory (id=1012) size=5, purity=0.8000\n",
      "- Differential equations (id=1031) size=5, purity=1.0000\n",
      "- Differential topology (id=1078) size=5, purity=0.8000\n",
      "- Gases (id=1351) size=5, purity=1.0000\n",
      "- Descriptive set theory (id=1354) size=5, purity=0.8000\n",
      "- Stochastic processes (id=1384) size=5, purity=1.0000\n",
      "- Prime numbers (id=1393) size=5, purity=0.8000\n",
      "- Algebra (id=1408) size=5, purity=1.0000\n",
      "- Classical mechanics (id=1438) size=5, purity=1.0000\n",
      "- Electromagnetic radiation (id=1502) size=5, purity=1.0000\n",
      "- Quantum mechanics (id=1515) size=5, purity=0.8000\n"
     ]
    }
   ],
   "source": [
    "evaluate.report_overall(hyperparam_res[(6, 5)], purity_threshold=0.8, sort_by='size')"
   ]
  },
  {
   "cell_type": "markdown",
   "metadata": {},
   "source": [
    "##  K-means"
   ]
  },
  {
   "cell_type": "code",
   "execution_count": 26,
   "metadata": {
    "collapsed": true
   },
   "outputs": [],
   "source": [
    "import kmeans"
   ]
  },
  {
   "cell_type": "code",
   "execution_count": 27,
   "metadata": {
    "collapsed": true
   },
   "outputs": [],
   "source": [
    "ids = [id_counter(d['identifiers']) for d in docs]\n",
    "\n",
    "all_ids = Counter()\n",
    "\n",
    "for id_cnt in ids:\n",
    "    all_ids.update(id_cnt)\n",
    "\n",
    "infrequent = set()\n",
    "min_count = 15\n",
    "\n",
    "for (el, cnt) in all_ids.items():\n",
    "    if cnt <= min_count:\n",
    "        infrequent.add(el)\n",
    "\n",
    "for id_cnt in ids:\n",
    "    for id in (set(id_cnt) & infrequent):\n",
    "        del id_cnt[id]\n",
    "\n",
    "del all_ids\n",
    "del infrequent\n",
    "\n",
    "for idx in xrange(N_doc):\n",
    "    vals = rels[idx].items()\n",
    "    id_list = ids[idx]\n",
    "\n",
    "    for id, definitions in vals:\n",
    "        for definition, score in definitions:\n",
    "            unigrams = definition.lower().split()\n",
    "            id_list[id] = id_list[id] + 1\n",
    "            id_list.update(unigrams)"
   ]
  },
  {
   "cell_type": "code",
   "execution_count": 28,
   "metadata": {
    "collapsed": true
   },
   "outputs": [],
   "source": [
    "from sklearn.feature_extraction.text import TfidfVectorizer\n",
    "from sklearn.decomposition import TruncatedSVD, randomized_svd"
   ]
  },
  {
   "cell_type": "code",
   "execution_count": 29,
   "metadata": {
    "collapsed": true
   },
   "outputs": [],
   "source": [
    "def unwrap_counter(cnt):\n",
    "    res = []\n",
    "    for id, c in cnt.items():\n",
    "        res.extend([id] * c)\n",
    "    return res\n",
    "\n",
    "vectorizer = TfidfVectorizer(analyzer=unwrap_counter, use_idf=False, sublinear_tf=True)\n",
    "X = vectorizer.fit_transform(ids)"
   ]
  },
  {
   "cell_type": "code",
   "execution_count": 30,
   "metadata": {
    "collapsed": false
   },
   "outputs": [
    {
     "data": {
      "text/plain": [
       "<22512x26068 sparse matrix of type '<type 'numpy.float64'>'\n",
       "\twith 545548 stored elements in Compressed Sparse Row format>"
      ]
     },
     "execution_count": 30,
     "metadata": {},
     "output_type": "execute_result"
    }
   ],
   "source": [
    "X"
   ]
  },
  {
   "cell_type": "code",
   "execution_count": 168,
   "metadata": {
    "collapsed": false
   },
   "outputs": [
    {
     "name": "stdout",
     "output_type": "stream",
     "text": [
      "k = 2\n",
      "0 Abstract algebra (0.0775),Physics (0.0710),Theoretical physics (0.0589),Mathematical analysis (0.0446)\n",
      "1 Mathematical analysis (0.1423),Fields of mathematics (0.0846),Abstract algebra (0.0748),Functions and mappings (0.0684)\n",
      "\n",
      "k = 3\n",
      "0 Abstract algebra (0.0775),Physics (0.0710),Theoretical physics (0.0589),Mathematical analysis (0.0446)\n",
      "1 Mathematical analysis (0.1057),Number theory (0.0903),Combinatorics (0.0899),Fields of mathematics (0.0817)\n",
      "2 Physics (0.1334),Theoretical physics (0.0839),Mechanics (0.0731),Quantum mechanics (0.0666)\n",
      "\n",
      "k = 4\n",
      "0 Physics (0.0894),Theoretical physics (0.0634),Quantum mechanics (0.0518),Abstract algebra (0.0504)\n",
      "1 Mathematical analysis (0.1057),Number theory (0.0903),Combinatorics (0.0899),Fields of mathematics (0.0817)\n",
      "2 Physics (0.1334),Theoretical physics (0.0839),Mechanics (0.0731),Quantum mechanics (0.0666)\n",
      "3 Mathematical analysis (0.1733),Fields of mathematics (0.0871),Theoretical physics (0.0799),Abstract algebra (0.0746)\n",
      "\n",
      "k = 5\n",
      "0 Physics (0.0894),Theoretical physics (0.0634),Quantum mechanics (0.0518),Abstract algebra (0.0504)\n",
      "1 Mathematical analysis (0.1057),Number theory (0.0903),Combinatorics (0.0899),Fields of mathematics (0.0817)\n",
      "2 Physics (0.1334),Theoretical physics (0.0839),Mechanics (0.0731),Quantum mechanics (0.0666)\n",
      "3 Mathematical analysis (0.1922),Theoretical physics (0.0960),Differential equations (0.0879),Fields of mathematics (0.0852)\n",
      "4 Abstract algebra (0.1091),Topology (0.0636),Mathematical analysis (0.0592),Geometry (0.0583)\n",
      "\n"
     ]
    }
   ],
   "source": [
    "for k in [1, 2, 3, 4]:\n",
    "    print 'k =', (k + 1)\n",
    "    evaluate.describe(lineage[k])\n",
    "    print"
   ]
  },
  {
   "cell_type": "code",
   "execution_count": 169,
   "metadata": {
    "collapsed": false
   },
   "outputs": [
    {
     "name": "stdout",
     "output_type": "stream",
     "text": [
      "k = 2\n",
      "  1: percentage: 62.2%, coverage: 535/9518 = 0.0562\n",
      "  0: percentage: 37.8%, coverage: 325/9014 = 0.0361\n",
      "\n",
      "k = 3\n",
      "  1: percentage: 34.9%, coverage: 276/4372 = 0.0631\n",
      "  2: percentage: 23.9%, coverage: 189/3980 = 0.0475\n",
      "  0: percentage: 41.1%, coverage: 325/9014 = 0.0361\n",
      "\n",
      "k = 4\n",
      "  1: percentage: 30.4%, coverage: 276/4372 = 0.0631\n",
      "  3: percentage: 28.6%, coverage: 259/5146 = 0.0503\n",
      "  2: percentage: 20.8%, coverage: 189/3980 = 0.0475\n",
      "  0: percentage: 20.2%, coverage: 183/4845 = 0.0378\n",
      "\n",
      "k = 5\n",
      "  1: percentage: 28.3%, coverage: 276/4372 = 0.0631\n",
      "  3: percentage: 18.9%, coverage: 184/3449 = 0.0533\n",
      "  2: percentage: 19.4%, coverage: 189/3980 = 0.0475\n",
      "  0: percentage: 18.8%, coverage: 183/4845 = 0.0378\n",
      "  4: percentage: 14.6%, coverage: 142/4169 = 0.0341\n",
      "\n"
     ]
    }
   ],
   "source": [
    "for k in [1, 2, 3, 4]:\n",
    "    print 'k =', (k + 1)\n",
    "    evaluate.category_distribution(lineage[k], 'Statistics', order='purity')\n",
    "    print"
   ]
  },
  {
   "cell_type": "code",
   "execution_count": 173,
   "metadata": {
    "collapsed": false,
    "scrolled": true
   },
   "outputs": [
    {
     "name": "stdout",
     "output_type": "stream",
     "text": [
      "calculating 0...\n",
      "calculating 10...\n",
      "calculating 20...\n",
      "calculating 30...\n",
      "calculating 40...\n",
      "calculating 50...\n",
      "calculating 60...\n",
      "calculating 70...\n",
      "calculating 80...\n",
      "calculating 90...\n",
      "calculating 100...\n",
      "calculating 110...\n",
      "calculating 120...\n",
      "calculating 130...\n",
      "calculating 140...\n",
      "calculating 150...\n",
      "calculating 160...\n",
      "calculating 170...\n",
      "calculating 180...\n",
      "calculating 190...\n",
      "calculating 200...\n",
      "calculating 210...\n",
      "calculating 220...\n",
      "calculating 230...\n",
      "calculating 240...\n",
      "calculating 250...\n",
      "calculating 260...\n",
      "calculating 270...\n",
      "calculating 280...\n",
      "calculating 290...\n",
      "calculating 300...\n",
      "calculating 310...\n",
      "calculating 320...\n",
      "calculating 330...\n",
      "calculating 340...\n",
      "calculating 350...\n",
      "calculating 360...\n",
      "calculating 370...\n",
      "calculating 380...\n",
      "calculating 390...\n",
      "calculating 400...\n",
      "calculating 410...\n",
      "calculating 420...\n",
      "calculating 430...\n",
      "calculating 440...\n",
      "calculating 450...\n",
      "calculating 460...\n",
      "calculating 470...\n",
      "calculating 480...\n",
      "calculating 490...\n",
      "calculating 500...\n",
      "calculating 510...\n",
      "calculating 520...\n",
      "calculating 530...\n",
      "calculating 540...\n",
      "calculating 550...\n",
      "calculating 560...\n",
      "calculating 570...\n",
      "calculating 580...\n",
      "calculating 590...\n",
      "calculating 600...\n",
      "calculating 610...\n",
      "calculating 620...\n",
      "calculating 630...\n",
      "calculating 640...\n",
      "calculating 650...\n",
      "calculating 660...\n",
      "calculating 670...\n",
      "calculating 680...\n",
      "calculating 690...\n",
      "calculating 700...\n",
      "calculating 710...\n",
      "calculating 720...\n",
      "calculating 730...\n",
      "calculating 740...\n",
      "calculating 750...\n",
      "calculating 760...\n",
      "calculating 770...\n",
      "calculating 780...\n",
      "calculating 790...\n",
      "calculating 800...\n",
      "calculating 810...\n",
      "calculating 820...\n",
      "calculating 830...\n",
      "calculating 840...\n",
      "calculating 850...\n",
      "calculating 860...\n",
      "calculating 870...\n",
      "calculating 880...\n",
      "calculating 890...\n",
      "calculating 900...\n",
      "calculating 910...\n",
      "calculating 920...\n",
      "calculating 930...\n",
      "calculating 940...\n",
      "calculating 950...\n",
      "calculating 960...\n",
      "calculating 970...\n",
      "calculating 980...\n",
      "calculating 990...\n",
      "calculating 1000...\n",
      "calculating 1010...\n",
      "calculating 1020...\n",
      "calculating 1030...\n",
      "calculating 1040...\n",
      "calculating 1050...\n",
      "calculating 1060...\n",
      "calculating 1070...\n",
      "calculating 1080...\n",
      "calculating 1090...\n",
      "calculating 1100...\n",
      "calculating 1110...\n",
      "calculating 1120...\n",
      "calculating 1130...\n",
      "calculating 1140...\n",
      "calculating 1150...\n",
      "calculating 1160...\n",
      "calculating 1170...\n",
      "calculating 1180...\n",
      "calculating 1190...\n",
      "calculating 1200...\n",
      "calculating 1210...\n",
      "calculating 1220...\n",
      "calculating 1230...\n",
      "calculating 1240...\n",
      "calculating 1250...\n",
      "calculating 1260...\n",
      "calculating 1270...\n",
      "calculating 1280...\n",
      "calculating 1290...\n",
      "calculating 1300...\n",
      "calculating 1310...\n",
      "calculating 1320...\n",
      "calculating 1330...\n",
      "calculating 1340...\n",
      "calculating 1350...\n",
      "calculating 1360...\n",
      "calculating 1370...\n",
      "calculating 1380...\n",
      "calculating 1390...\n",
      "calculating 1400...\n",
      "calculating 1410...\n",
      "calculating 1420...\n",
      "calculating 1430...\n",
      "calculating 1440...\n",
      "calculating 1450...\n",
      "calculating 1460...\n",
      "calculating 1470...\n",
      "calculating 1480...\n",
      "calculating 1490...\n",
      "calculating 1500...\n",
      "calculating 1510...\n",
      "calculating 1520...\n",
      "calculating 1530...\n",
      "calculating 1540...\n",
      "calculating 1550...\n",
      "calculating 1560...\n",
      "calculating 1570...\n",
      "calculating 1580...\n",
      "calculating 1590...\n",
      "calculating 1600...\n",
      "calculating 1610...\n",
      "calculating 1620...\n",
      "calculating 1630...\n",
      "calculating 1640...\n",
      "calculating 1650...\n",
      "calculating 1660...\n",
      "calculating 1670...\n",
      "calculating 1680...\n",
      "calculating 1690...\n",
      "calculating 1700...\n",
      "calculating 1710...\n",
      "calculating 1720...\n",
      "calculating 1730...\n",
      "calculating 1740...\n",
      "calculating 1750...\n",
      "calculating 1760...\n",
      "calculating 1770...\n",
      "calculating 1780...\n",
      "calculating 1790...\n",
      "calculating 1800...\n",
      "calculating 1810...\n",
      "calculating 1820...\n",
      "calculating 1830...\n",
      "calculating 1840...\n",
      "calculating 1850...\n",
      "calculating 1860...\n",
      "calculating 1870...\n",
      "calculating 1880...\n",
      "calculating 1890...\n",
      "calculating 1900...\n",
      "calculating 1910...\n",
      "calculating 1920...\n",
      "calculating 1930...\n",
      "calculating 1940...\n",
      "calculating 1950...\n",
      "calculating 1960...\n",
      "calculating 1970...\n",
      "calculating 1980...\n",
      "calculating 1990...\n",
      "calculating 2000...\n",
      "calculating 2010...\n",
      "calculating 2020...\n",
      "calculating 2030...\n",
      "calculating 2040...\n",
      "calculating 2050...\n",
      "calculating 2060...\n",
      "calculating 2070...\n",
      "calculating 2080...\n",
      "calculating 2090...\n",
      "calculating 2100...\n",
      "calculating 2110...\n",
      "calculating 2120...\n",
      "calculating 2130...\n",
      "calculating 2140...\n",
      "calculating 2150...\n",
      "calculating 2160...\n",
      "calculating 2170...\n",
      "calculating 2180...\n",
      "calculating 2190...\n",
      "calculating 2200...\n",
      "calculating 2210...\n",
      "calculating 2220...\n",
      "calculating 2230...\n",
      "calculating 2240...\n",
      "calculating 2250...\n",
      "calculating 2260...\n",
      "calculating 2270...\n",
      "calculating 2280...\n",
      "calculating 2290...\n",
      "calculating 2300...\n",
      "calculating 2310...\n",
      "calculating 2320...\n",
      "calculating 2330...\n",
      "calculating 2340...\n",
      "calculating 2350...\n",
      "calculating 2360...\n",
      "calculating 2370...\n",
      "calculating 2380...\n",
      "calculating 2390...\n",
      "calculating 2400...\n",
      "calculating 2410...\n",
      "calculating 2420...\n",
      "calculating 2430...\n",
      "calculating 2440...\n",
      "calculating 2450...\n",
      "calculating 2460...\n",
      "calculating 2470...\n",
      "calculating 2480...\n",
      "calculating 2490...\n"
     ]
    }
   ],
   "source": [
    "purities = []\n",
    "\n",
    "idx = 0\n",
    "for labels_i in lineage:\n",
    "    if idx % 10 == 0:\n",
    "        print 'calculating %d...' % idx\n",
    "\n",
    "    purities.append(evaluate.overall_purity(labels_i))\n",
    "    idx = idx + 1"
   ]
  },
  {
   "cell_type": "code",
   "execution_count": 175,
   "metadata": {
    "collapsed": false
   },
   "outputs": [
    {
     "data": {
      "image/png": "[encoded data removed]",
      "text/plain": [
       "<matplotlib.figure.Figure at 0x50a6e6a0>"
      ]
     },
     "metadata": {},
     "output_type": "display_data"
    }
   ],
   "source": [
    "plt.plot(purities)\n",
    "plt.show()"
   ]
  },
  {
   "cell_type": "markdown",
   "metadata": {
    "collapsed": true
   },
   "source": [
    "### LSA"
   ]
  },
  {
   "cell_type": "code",
   "execution_count": 31,
   "metadata": {
    "collapsed": false
   },
   "outputs": [
    {
     "data": {
      "text/plain": [
       "((22512L, 100L), (100L,), (100L, 26068L))"
      ]
     },
     "execution_count": 31,
     "metadata": {},
     "output_type": "execute_result"
    }
   ],
   "source": [
    "n_components = 100\n",
    "U, S, Vt = randomized_svd(X, n_components)\n",
    "V = Vt.T\n",
    "\n",
    "U.shape, S.shape, Vt.shape"
   ]
  },
  {
   "cell_type": "code",
   "execution_count": 32,
   "metadata": {
    "collapsed": false
   },
   "outputs": [
    {
     "data": {
      "text/plain": [
       "(22512L, 100L)"
      ]
     },
     "execution_count": 32,
     "metadata": {},
     "output_type": "execute_result"
    }
   ],
   "source": [
    "X_red = X.dot(V)\n",
    "X_red.shape"
   ]
  },
  {
   "cell_type": "code",
   "execution_count": 33,
   "metadata": {
    "collapsed": true
   },
   "outputs": [],
   "source": [
    "from sklearn.preprocessing import Normalizer\n",
    "normalizer = Normalizer(copy=False)"
   ]
  },
  {
   "cell_type": "code",
   "execution_count": 35,
   "metadata": {
    "collapsed": true
   },
   "outputs": [],
   "source": [
    "from sklearn.cluster import KMeans, MiniBatchKMeans"
   ]
  },
  {
   "cell_type": "markdown",
   "metadata": {},
   "source": [
    "Let's try different number of orthogonal vectors in LSA basis"
   ]
  },
  {
   "cell_type": "code",
   "execution_count": 39,
   "metadata": {
    "collapsed": false,
    "scrolled": true
   },
   "outputs": [
    {
     "name": "stdout",
     "output_type": "stream",
     "text": [
      "doing LSA with 300 components...\n",
      "\n",
      "purity for n=300, k=2500 is 0.3377, number of >0.8 clusters: 46\n",
      "purity for n=300, k=2600 is 0.3339, number of >0.8 clusters: 54\n",
      "purity for n=300, k=2700 is 0.3383, number of >0.8 clusters: 40\n",
      "purity for n=300, k=2800 is 0.3412, number of >0.8 clusters: 48\n",
      "purity for n=300, k=2900 is 0.3489, number of >0.8 clusters: 41\n",
      "purity for n=300, k=3000 is 0.3489, number of >0.8 clusters: 51\n",
      "purity for n=300, k=3100 is 0.3549, number of >0.8 clusters: 53\n",
      "purity for n=300, k=3200 is 0.3658, number of >0.8 clusters: 64\n",
      "purity for n=300, k=3300 is 0.3625, number of >0.8 clusters: 57\n",
      "purity for n=300, k=3400 is 0.3815, number of >0.8 clusters: 74\n",
      "purity for n=300, k=3500 is 0.3782, number of >0.8 clusters: 54\n",
      "purity for n=300, k=3600 is 0.3749, number of >0.8 clusters: 64\n",
      "purity for n=300, k=3700 is 0.3810, number of >0.8 clusters: 70\n",
      "purity for n=300, k=3800 is 0.3955, number of >0.8 clusters: 85\n",
      "purity for n=300, k=3900 is 0.3903, number of >0.8 clusters: 55\n",
      "purity for n=300, k=4000 is 0.4019, number of >0.8 clusters: 78\n",
      "purity for n=300, k=4100 is 0.4103, number of >0.8 clusters: 84\n",
      "purity for n=300, k=4200 is 0.3999, number of >0.8 clusters: 74\n",
      "purity for n=300, k=4300 is 0.4184, number of >0.8 clusters: 102\n",
      "purity for n=300, k=4400 is 0.4082, number of >0.8 clusters: 73\n",
      "purity for n=300, k=4500 is 0.4131, number of >0.8 clusters: 86\n",
      "doing LSA with 400 components...\n",
      "\n",
      "purity for n=400, k=2500 is 0.3412, number of >0.8 clusters: 53\n",
      "purity for n=400, k=2600 is 0.3344, number of >0.8 clusters: 45\n",
      "purity for n=400, k=2700 is 0.3403, number of >0.8 clusters: 56\n",
      "purity for n=400, k=2800 is 0.3474, number of >0.8 clusters: 62\n",
      "purity for n=400, k=2900 is 0.3594, number of >0.8 clusters: 60\n",
      "purity for n=400, k=3000 is 0.3643, number of >0.8 clusters: 69\n",
      "purity for n=400, k=3100 is 0.3672, number of >0.8 clusters: 67\n",
      "purity for n=400, k=3200 is 0.3717, number of >0.8 clusters: 58\n",
      "purity for n=400, k=3300 is 0.3735, number of >0.8 clusters: 81\n",
      "purity for n=400, k=3400 is 0.3725, number of >0.8 clusters: 70\n",
      "purity for n=400, k=3500 is 0.3747, number of >0.8 clusters: 63\n",
      "purity for n=400, k=3600 is 0.3783, number of >0.8 clusters: 68\n",
      "purity for n=400, k=3700 is 0.3815, number of >0.8 clusters: 61\n",
      "purity for n=400, k=3800 is 0.3871, number of >0.8 clusters: 68\n",
      "purity for n=400, k=3900 is 0.3900, number of >0.8 clusters: 73\n",
      "purity for n=400, k=4000 is 0.3942, number of >0.8 clusters: 74\n",
      "purity for n=400, k=4100 is 0.4014, number of >0.8 clusters: 78\n",
      "purity for n=400, k=4200 is 0.4104, number of >0.8 clusters: 78\n",
      "purity for n=400, k=4300 is 0.4070, number of >0.8 clusters: 89\n",
      "purity for n=400, k=4400 is 0.4068, number of >0.8 clusters: 86\n",
      "purity for n=400, k=4500 is 0.4127, number of >0.8 clusters: 76\n",
      "doing LSA with 500 components...\n",
      "\n",
      "purity for n=500, k=2500 is 0.3394, number of >0.8 clusters: 64\n",
      "purity for n=500, k=2600 is 0.3491, number of >0.8 clusters: 52\n",
      "purity for n=500, k=2700 is 0.3498, number of >0.8 clusters: 63\n",
      "purity for n=500, k=2800 is 0.3455, number of >0.8 clusters: 58\n",
      "purity for n=500, k=2900 is 0.3640, number of >0.8 clusters: 66\n",
      "purity for n=500, k=3000 is 0.3660, number of >0.8 clusters: 69\n",
      "purity for n=500, k=3100 is 0.3684, number of >0.8 clusters: 69\n",
      "purity for n=500, k=3200 is 0.3651, number of >0.8 clusters: 64\n",
      "purity for n=500, k=3300 is 0.3638, number of >0.8 clusters: 53\n",
      "purity for n=500, k=3400 is 0.3726, number of >0.8 clusters: 73\n",
      "purity for n=500, k=3500 is 0.3846, number of >0.8 clusters: 74\n",
      "purity for n=500, k=3600 is 0.3880, number of >0.8 clusters: 74\n",
      "purity for n=500, k=3700 is 0.3842, number of >0.8 clusters: 84\n",
      "purity for n=500, k=3800 is 0.3885, number of >0.8 clusters: 77\n",
      "purity for n=500, k=3900 is 0.3911, number of >0.8 clusters: 75\n",
      "purity for n=500, k=4000 is 0.4033, number of >0.8 clusters: 85\n",
      "purity for n=500, k=4100 is 0.3996, number of >0.8 clusters: 78\n",
      "purity for n=500, k=4200 is 0.4022, number of >0.8 clusters: 81\n",
      "purity for n=500, k=4300 is 0.4218, number of >0.8 clusters: 82\n",
      "purity for n=500, k=4400 is 0.4202, number of >0.8 clusters: 85\n",
      "purity for n=500, k=4500 is 0.4156, number of >0.8 clusters: 85\n",
      "doing LSA with 600 components...\n",
      "\n",
      "purity for n=600, k=2500 is 0.3430, number of >0.8 clusters: 71\n",
      "purity for n=600, k=2600 is 0.3495, number of >0.8 clusters: 62\n",
      "purity for n=600, k=2700 is 0.3425, number of >0.8 clusters: 51\n",
      "purity for n=600, k=2800 is 0.3562, number of >0.8 clusters: 55\n",
      "purity for n=600, k=2900 is 0.3630, number of >0.8 clusters: 67\n",
      "purity for n=600, k=3000 is 0.3684, number of >0.8 clusters: 62\n",
      "purity for n=600, k=3100 is 0.3677, number of >0.8 clusters: 67\n",
      "purity for n=600, k=3200 is 0.3618, number of >0.8 clusters: 65\n",
      "purity for n=600, k=3300 is 0.3673, number of >0.8 clusters: 70\n",
      "purity for n=600, k=3400 is 0.3834, number of >0.8 clusters: 84\n",
      "purity for n=600, k=3500 is 0.3742, number of >0.8 clusters: 72\n",
      "purity for n=600, k=3600 is 0.3929, number of >0.8 clusters: 74\n",
      "purity for n=600, k=3700 is 0.3849, number of >0.8 clusters: 75\n",
      "purity for n=600, k=3800 is 0.4035, number of >0.8 clusters: 86\n",
      "purity for n=600, k=3900 is 0.3943, number of >0.8 clusters: 75\n",
      "purity for n=600, k=4000 is 0.4023, number of >0.8 clusters: 75\n",
      "purity for n=600, k=4100 is 0.4076, number of >0.8 clusters: 89\n",
      "purity for n=600, k=4200 is 0.4048, number of >0.8 clusters: 83\n",
      "purity for n=600, k=4300 is 0.4166, number of >0.8 clusters: 85\n",
      "purity for n=600, k=4400 is 0.4133, number of >0.8 clusters: 76\n",
      "purity for n=600, k=4500 is 0.4166, number of >0.8 clusters: 87\n",
      "doing LSA with 700 components...\n",
      "\n",
      "purity for n=700, k=2500 is 0.3415, number of >0.8 clusters: 58\n",
      "purity for n=700, k=2600 is 0.3401, number of >0.8 clusters: 47\n",
      "purity for n=700, k=2700 is 0.3417, number of >0.8 clusters: 65\n",
      "purity for n=700, k=2800 is 0.3482, number of >0.8 clusters: 58\n",
      "purity for n=700, k=2900 is 0.3494, number of >0.8 clusters: 54\n",
      "purity for n=700, k=3000 is 0.3656, number of >0.8 clusters: 66\n",
      "purity for n=700, k=3100 is 0.3602, number of >0.8 clusters: 63\n",
      "purity for n=700, k=3200 is 0.3646, number of >0.8 clusters: 69\n",
      "purity for n=700, k=3300 is 0.3677, number of >0.8 clusters: 72\n",
      "purity for n=700, k=3400 is 0.3828, number of >0.8 clusters: 80\n",
      "purity for n=700, k=3500 is 0.3790, number of >0.8 clusters: 73\n",
      "purity for n=700, k=3600 is 0.3818, number of >0.8 clusters: 84\n",
      "purity for n=700, k=3700 is 0.3852, number of >0.8 clusters: 78\n",
      "purity for n=700, k=3800 is 0.3865, number of >0.8 clusters: 78\n",
      "purity for n=700, k=3900 is 0.4057, number of >0.8 clusters: 69\n",
      "purity for n=700, k=4000 is 0.3962, number of >0.8 clusters: 80\n",
      "purity for n=700, k=4100 is 0.4032, number of >0.8 clusters: 70\n",
      "purity for n=700, k=4200 is 0.4136, number of >0.8 clusters: 98\n",
      "purity for n=700, k=4300 is 0.4088, number of >0.8 clusters: 79\n",
      "purity for n=700, k=4400 is 0.4184, number of >0.8 clusters: 87\n",
      "purity for n=700, k=4500 is 0.4214, number of >0.8 clusters: 98\n"
     ]
    }
   ],
   "source": [
    "n_components = [n * 100 for n in xrange(3, 8)]\n",
    "ks = [k * 100 for k in xrange(25, 46)]\n",
    "\n",
    "km_grid_hyperparam_purity = {}\n",
    "km_grid_hyperparam_res = {}\n",
    "\n",
    "for n in n_components:\n",
    "    print 'doing LSA with %d components...' % n\n",
    "    print\n",
    "\n",
    "    U, S, Vt = randomized_svd(X, n_components=n)\n",
    "    V = Vt.T\n",
    "\n",
    "    X_red_grid = X.dot(V)\n",
    "    X_red_grid = normalizer.fit_transform(X_red_grid)\n",
    "\n",
    "\n",
    "    for k in ks:\n",
    "        if k > 1000 and n > 70:\n",
    "            km_grid = MiniBatchKMeans(n_clusters=k, init_size=k*3, n_init=10, init='random')\n",
    "        else:\n",
    "            km_grid = MiniBatchKMeans(n_clusters=k, init_size=k*3, n_init=10)\n",
    "        km_grid.fit(X_red_grid)\n",
    "\n",
    "        km_grid_hyperparam_res[(n, k)] = km_grid.labels_\n",
    "        cluster_purity = evaluate.overall_purity(km_grid.labels_)\n",
    "        km_grid_hyperparam_purity[(n, k)] = cluster_purity\n",
    "\n",
    "        no_pure_clusters = len(evaluate.high_purity_clusters(km_grid.labels_, threshold=0.8))\n",
    "\n",
    "        print 'purity for n=%d, k=%d is %0.4f, number of >0.8 clusters: %d' % (n, k, cluster_purity, no_pure_clusters)"
   ]
  },
  {
   "cell_type": "code",
   "execution_count": 41,
   "metadata": {
    "collapsed": false,
    "scrolled": true
   },
   "outputs": [
    {
     "name": "stdout",
     "output_type": "stream",
     "text": [
      "overall purity 0.4184\n",
      "number of high purity clusters of size at least 5 is 102\n",
      "\n",
      "- Astronomical catalogues (id=1833) size=53, purity=0.9811\n",
      "- Group theory (id=1309) size=18, purity=0.9444\n",
      "- Thermodynamics (id=2576) size=17, purity=0.8235\n",
      "- Group theory (id=1828) size=15, purity=0.8667\n",
      "- Complex analysis (id=3252) size=15, purity=0.8667\n",
      "- Numerical analysis (id=3364) size=15, purity=0.8667\n",
      "- Electromagnetism (id=2376) size=14, purity=0.8571\n",
      "- Electronic design (id=238) size=12, purity=0.9167\n",
      "- Statistics (id=2410) size=12, purity=0.8333\n",
      "- Quantum mechanics (id=3141) size=12, purity=0.8333\n",
      "- Quantum field theory (id=1872) size=11, purity=0.8182\n",
      "- Radio frequency propagation (id=222) size=10, purity=0.8000\n",
      "- Automorphic forms (id=347) size=10, purity=0.9000\n",
      "- Stochastic processes (id=447) size=10, purity=0.8000\n",
      "- Materials science (id=724) size=10, purity=0.9000\n",
      "- Signal processing (id=771) size=10, purity=0.9000\n",
      "- Topology (id=1134) size=10, purity=0.9000\n",
      "- Electromagnetism (id=1266) size=10, purity=1.0000\n",
      "- Theory of computation (id=3986) size=10, purity=1.0000\n",
      "- Differential geometry (id=847) size=9, purity=0.8889\n",
      "- Cardinal numbers (id=1079) size=9, purity=0.8889\n",
      "- Algebraic topology (id=2699) size=9, purity=1.0000\n",
      "- Fluid mechanics (id=71) size=8, purity=0.8750\n",
      "- National Basketball Association seasons (id=602) size=8, purity=1.0000\n",
      "- Quantum mechanics (id=984) size=8, purity=0.8750\n",
      "- Differential geometry (id=986) size=8, purity=0.8750\n",
      "- Mechanics (id=1264) size=8, purity=1.0000\n",
      "- Metallic elements (id=1692) size=8, purity=1.0000\n",
      "- Continuum mechanics (id=2721) size=8, purity=0.8750\n",
      "- Theory of relativity (id=2788) size=8, purity=0.8750\n",
      "- Thermodynamics (id=3836) size=8, purity=0.8750\n",
      "- Group theory (id=484) size=7, purity=0.8571\n",
      "- Topology (id=547) size=7, purity=0.8571\n",
      "- Applied mathematics (id=621) size=7, purity=0.8571\n",
      "- Continuous distributions (id=686) size=7, purity=0.8571\n",
      "- Knot theory (id=1396) size=7, purity=1.0000\n",
      "- Numerical analysis (id=1610) size=7, purity=1.0000\n",
      "- Complex analysis (id=1718) size=7, purity=0.8571\n",
      "- Quantum mechanics (id=1847) size=7, purity=0.8571\n",
      "- Representation theory of Lie groups (id=2790) size=7, purity=0.8571\n",
      "- Quantum mechanics (id=2896) size=7, purity=0.8571\n",
      "- Fluid dynamics (id=2920) size=7, purity=1.0000\n",
      "- Fluid dynamics (id=2994) size=7, purity=0.8571\n",
      "- Thermodynamics (id=3130) size=7, purity=0.8571\n",
      "- Chemistry (id=3345) size=7, purity=1.0000\n",
      "- Quantum mechanics (id=3468) size=7, purity=0.8571\n",
      "- Constellations (id=3519) size=7, purity=0.8571\n",
      "- Macroeconomics and monetary economics (id=3540) size=7, purity=0.8571\n",
      "- Stochastic processes (id=4168) size=7, purity=0.8571\n",
      "- Fluid dynamics (id=56) size=6, purity=0.8333\n",
      "- Riemannian geometry (id=96) size=6, purity=0.8333\n",
      "- Partial differential equations (id=154) size=6, purity=0.8333\n",
      "- Numerical analysis (id=357) size=6, purity=0.8333\n",
      "- Quantum mechanics (id=423) size=6, purity=0.8333\n",
      "- Particle physics (id=631) size=6, purity=1.0000\n",
      "- Algebraic curves (id=948) size=6, purity=0.8333\n",
      "- Statistical theory (id=1213) size=6, purity=0.8333\n",
      "- Stochastic processes (id=1415) size=6, purity=0.8333\n",
      "- Graph theory (id=1656) size=6, purity=0.8333\n",
      "- Statistics (id=2459) size=6, purity=0.8333\n",
      "- Manifolds (id=2675) size=6, purity=0.8333\n",
      "- Exact solutions in general relativity (id=2903) size=6, purity=0.8333\n",
      "- Coordinate systems (id=3706) size=6, purity=1.0000\n",
      "- Probability distributions (id=3743) size=6, purity=1.0000\n",
      "- Fluid mechanics (id=3959) size=6, purity=0.8333\n",
      "- International sailing classes (id=4031) size=6, purity=0.8333\n",
      "- Theoretical physics (id=4262) size=6, purity=0.8333\n",
      "- Quantum mechanics (id=188) size=5, purity=1.0000\n",
      "- Differential equations (id=300) size=5, purity=0.8000\n",
      "- Quantum mechanics (id=389) size=5, purity=1.0000\n",
      "- Cartography (id=503) size=5, purity=0.8000\n",
      "- Dynamical systems (id=599) size=5, purity=0.8000\n",
      "- Ratios (id=610) size=5, purity=0.8000\n",
      "- Analytic number theory (id=617) size=5, purity=0.8000\n",
      "- General relativity (id=642) size=5, purity=1.0000\n",
      "- Theoretical physics (id=664) size=5, purity=0.8000\n",
      "- Quantum information science (id=738) size=5, purity=0.8000\n",
      "- Mechanics (id=977) size=5, purity=0.8000\n",
      "- Physics (id=1037) size=5, purity=0.8000\n",
      "- Quantum mechanics (id=1039) size=5, purity=0.8000\n",
      "- Financial markets (id=1084) size=5, purity=0.8000\n",
      "- Modal logic (id=1100) size=5, purity=0.8000\n",
      "- Functional analysis (id=1341) size=5, purity=1.0000\n",
      "- Representation theory (id=1357) size=5, purity=1.0000\n",
      "- Propositional calculus (id=1644) size=5, purity=0.8000\n",
      "- Mathematical analysis (id=1669) size=5, purity=1.0000\n",
      "- Group theory (id=1769) size=5, purity=0.8000\n",
      "- Integral calculus (id=1990) size=5, purity=0.8000\n",
      "- Enzyme kinetics (id=2001) size=5, purity=1.0000\n",
      "- Statistical mechanics (id=2045) size=5, purity=0.8000\n",
      "- Cartography (id=2341) size=5, purity=0.8000\n",
      "- Physics (id=2572) size=5, purity=0.8000\n",
      "- Statistics (id=3042) size=5, purity=0.8000\n",
      "- Field theory (id=3063) size=5, purity=0.8000\n",
      "- Fluid dynamics (id=3318) size=5, purity=0.8000\n",
      "- Mathematical analysis (id=3320) size=5, purity=0.8000\n",
      "- Stochastic processes (id=3370) size=5, purity=1.0000\n",
      "- Abstract algebra (id=3723) size=5, purity=0.8000\n",
      "- Mechanical engineering (id=3853) size=5, purity=0.8000\n",
      "- Kinetic data structures (id=3905) size=5, purity=0.8000\n",
      "- Theory of relativity (id=4008) size=5, purity=0.8000\n",
      "- Radio spectrum (id=4120) size=5, purity=0.8000\n"
     ]
    }
   ],
   "source": [
    "evaluate.report_overall(km_grid_hyperparam_res[300, 4300], purity_threshold=0.8, sort_by='size')"
   ]
  },
  {
   "cell_type": "code",
   "execution_count": 57,
   "metadata": {
    "collapsed": false,
    "scrolled": true
   },
   "outputs": [
    {
     "name": "stdout",
     "output_type": "stream",
     "text": [
      "size: 6\n",
      "\n",
      "- Lindley's paradox (categories: Statistics, Mathematical and quantitative methods (economics), Statistical theory, Econometrics, Statistical inference, ...) testing course Β H_0 p-value prior proportion same experiment θ μ boys π σ B births N P binomial words variable X account b H_2 d g H_1 k uncertainty m n hypotheses p u t time x distribution explanations\n",
      "- Estimation theory (categories: Statistics, Applied mathematics, Fields of application of statistics, Signal processing, Control theory, ...) probability independent sample θ_2 θ_1 size samples θ π σ E N variance c d k m maximum n p w x\n",
      "- Bayesian information criterion (categories: Statistical theory, Statistical models, Regression analysis, Statistical inference, Bayesian statistics, ...) probability x_i relative log-likelihood size information BIC criterion θ σ theory χ M L x bayesian true k transition n p magnitude schwarz error variance\n",
      "- Unbiased estimation of standard deviation (categories: Statistics, Estimation theory, Theory of probability distributions, Summary statistics, Statistical dependence, ...) function x_n correction excess x_i sample unbiased Γ c_4 size γ_1 γ_2 ratio thumb measurements unity α reduction μ_1 factor θ deviation π σ random E autocorrelations O standard approaches x_2 x_1 variable estimate variance kurtosis population c n. settings k n s estimator error autocorrelation x ρ_k mean\n",
      "- Minimax estimator (categories: Statistics, Probability theory, Signal processing, Formal sciences, Control theory, ...) vector sequence metric random gaussian x_i entropy estimators r_π Θ distributions kind number prior priors unknown J_n other δ theorem θ parameter π σ B E risk δ_π M L θ_i P R U bayes X N definition c d g average n π_n p r t estimator x distribution mean order first\n",
      "- Location estimation in sensor networks (categories: Signal processing, Control theory, Statistical theory, Information theory, Estimation theory, ...) subset w_n x_n gaussian approximate set design corresponding estimate m_N position additive knowledge prior x_N decision measurements pdf intervals δ m_B θ m_1 S_n sensor location π σ noise E τ form F τ_2 α_n m_A τ_1 N P U x_1 sensors variance d m_n g f interval m l n q p estimator ϵ t w v x property\n",
      "\n",
      "common terms: (x σ θ n)\n",
      "top categories: [(u'Statistical theory', 5), (u'Statistics', 4), (u'Estimation theory', 4), (u'Control theory', 3), (u'Statistical inference', 3)]\n",
      "purity: 0.833\n",
      "relations:\n",
      "    B: (words: 0.89)\n",
      "    BIC: (Bayesian information criterion: 0.91), (Schwarz: 0.87), (criterion: 0.80)\n",
      "    H_0: (hypotheses: 0.95), (same time: 0.88), (explanations: 0.86), (testing: 0.83)\n",
      "    H_1: (hypotheses: 0.88), (prior distribution: 0.83)\n",
      "    H_2: (course: 0.89)\n",
      "    N: (sensors: 4.61), (samples: 1.76), (independent: 0.95), (measurements: 0.86)\n",
      "    S_n: (decision intervals: 0.95), (subset: 0.89), (form: 0.83)\n",
      "    U: (prior knowledge: 0.93), (decision interval: 0.86)\n",
      "    c: (estimator: 0.83)\n",
      "    c_4: (Correction factor: 0.97), (sample size: 0.95), (correction factor: 0.94), (thumb: 0.86)\n",
      "    k: (boys: 0.96), (sample maximum: 0.95), (sample size: 0.89)\n",
      "    m: (sample maximum: 0.89)\n",
      "    m_n: (design: 0.83)\n",
      "    n: (sample size: 1.81), (order: 0.99), (births: 0.96), (sensor: 0.95), (first kind: 0.89), (relative magnitude: 0.89), (size: 0.89), (boys: 0.87)\n",
      "    p: (Gaussian: 0.95), (mean: 0.95), (random vector: 0.89), (p-value: 0.86)\n",
      "    q: (estimate: 0.99)\n",
      "    r_π: (average risk: 0.95)\n",
      "    s: (standard error: 0.81)\n",
      "    w_n: (additive noise: 0.99), (noise: 0.95)\n",
      "    x: (account: 0.95), (probability: 0.95), (proportion: 0.92), (sample mean: 0.87), (births: 0.86), (experiment: 0.86), (risk: 0.81), (random variable: 0.81)\n",
      "    x_n: (measurements: 0.95), (sensor: 0.95)\n",
      "    Θ: (metric entropy number: 0.89)\n",
      "    α: (sample size n.: 0.89), (settings: 0.89), (variance reduction ratio: 0.84)\n",
      "    α_n: (corresponding set: 0.84)\n",
      "    γ_1: (correction factor: 0.99), (unbiased estimate: 0.89), (sample variance: 0.83)\n",
      "    γ_2: (population: 0.89), (excess kurtosis: 0.83), (standard deviation: 0.83)\n",
      "    δ: (estimator: 2.89), (property: 0.89)\n",
      "    δ_π: (estimator: 0.96), (Bayes: 0.93)\n",
      "    θ: (estimators: 0.92), (unity: 0.90), (approximate location: 0.89), (testing: 0.88), (position: 0.87), (binomial variable: 0.86), (approaches unity: 0.83), (estimate: 0.82), (unknown parameter: 0.82), (sample size: 0.81)\n",
      "    π: (prior distribution: 2.96), (other distribution: 1.94), (average risk: 0.95), (uncertainty: 0.95), (Definition: 0.89), (variance: 0.89), (Theorem: 0.84)\n",
      "    π_n: (sequence: 1.72), (distributions: 0.96), (priors: 0.96), (estimator: 0.87)\n",
      "    ρ_k: (autocorrelations: 0.93), (autocorrelation function: 0.87), (measurements: 0.87)\n",
      "    σ: (variance: 1.97), (unbiased estimator: 1.71), (true variance: 0.90), (Gaussian PDF: 0.89), (error variance: 0.89), (probability theory: 0.88), (estimate: 0.80)\n",
      "    τ: (variance: 0.83)\n",
      "    χ: (log-likelihood: 0.95), (transition: 0.83)\n",
      "    ϵ: (design: 0.83)\n"
     ]
    }
   ],
   "source": [
    "evaluate.print_cluster(km_grid_hyperparam_res[300, 4300], 1213, collection_weighting=0)"
   ]
  },
  {
   "cell_type": "markdown",
   "metadata": {
    "collapsed": true
   },
   "source": [
    "import pickle"
   ]
  },
  {
   "cell_type": "markdown",
   "metadata": {
    "collapsed": true
   },
   "source": [
    "pickled = {'purities': km_grid_hyperparam_purity, 'clusters': km_grid_hyperparam_res}\n",
    "pickle.dump(pickled, file('C:/tmp/mlp/namespaces/k-means_06.bin', 'w'))"
   ]
  },
  {
   "cell_type": "code",
   "execution_count": 48,
   "metadata": {
    "collapsed": false,
    "scrolled": true
   },
   "outputs": [
    {
     "name": "stdout",
     "output_type": "stream",
     "text": [
      "overall purity 0.4184\n",
      "number of high purity clusters of size at least 5 is 102\n",
      "\n",
      "category \"Fluid mechanics\", cluster_id=71, size=8:\n",
      "top categories: [(u'Fluid mechanics', 7), (u'Fluid dynamics', 5), (u'Dynamics', 5), (u'Viscosity', 3), (u'Physical quantities', 3)]\n",
      "σ: (total stress tensor: 1.97), (pressure: 0.87), (material: 0.83)\n",
      "\n",
      "category \"Differential equations\", cluster_id=300, size=5:\n",
      "top categories: [(u'Differential equations', 4), (u'Ordinary differential equations', 4), (u'Continuous distributions', 1), (u'Conceptual systems', 1), (u'Control theory', 1)]\n",
      "σ: (standard deviation: 0.83)\n",
      "\n",
      "category \"Numerical analysis\", cluster_id=357, size=6:\n",
      "top categories: [(u'Numerical analysis', 5), (u'Linear algebra', 5), (u'Numerical linear algebra', 5), (u'Relaxation (iterative methods)', 4), (u'Iterative methods', 4)]\n",
      "σ: (boundary: 1.86), (detail: 0.87), (step: 0.81)\n",
      "\n",
      "category \"Cartography\", cluster_id=503, size=5:\n",
      "top categories: [(u'Cartography', 4), (u'Coordinate systems', 4), (u'Mathematical notation', 4), (u'Conceptual systems', 4), (u'Analytic geometry', 4)]\n",
      "σ: (coordinate: 2.78), (curves: 2.68), (ellipses: 1.85), (spheroids: 0.87)\n",
      "\n",
      "category \"Dynamical systems\", cluster_id=599, size=5:\n",
      "top categories: [(u'Dynamical systems', 4), (u'Chaos theory', 2), (u'Fractals', 2), (u'Functions and mappings', 2), (u'Stochastic processes', 2)]\n",
      "σ: (statistical weight: 1.69), (model: 0.88), (nucleation parameter: 0.86), (Bragg: 0.82)\n",
      "\n",
      "category \"Applied mathematics\", cluster_id=621, size=7:\n",
      "top categories: [(u'Applied mathematics', 6), (u'Fields of application of statistics', 5), (u'Mathematical science occupations', 4), (u'Fields of finance', 4), (u'Mathematical finance', 4)]\n",
      "σ: (drift field: 0.87)\n",
      "\n",
      "category \"Materials science\", cluster_id=724, size=10:\n",
      "top categories: [(u'Materials science', 9), (u'Continuum mechanics', 7), (u'Mechanics', 7), (u'Applied and interdisciplinary physics', 4), (u'Classical mechanics', 4)]\n",
      "σ: (Cauchy stress tensor: 0.89), (curve: 0.89), (stress: 0.86)\n",
      "\n",
      "category \"Quantum information science\", cluster_id=738, size=5:\n",
      "top categories: [(u'Quantum information science', 4), (u'Quantum information theory', 4), (u'Thermodynamic entropy', 3), (u'Entropy and information', 3), (u'Information theory', 3)]\n",
      "σ: (state: 0.95), (quantum: 0.89), (quantum states: 0.89), (density matrices: 0.87), (subnormalized state: 0.84), (operators: 0.84), (states: 0.84), (density operators: 0.83), (relative entropy: 0.83)\n",
      "\n",
      "category \"Differential geometry\", cluster_id=986, size=8:\n",
      "top categories: [(u'Differential geometry', 7), (u'Differential topology', 7), (u'Mathematical analysis', 5), (u'Geometry', 5), (u'Theoretical physics', 5)]\n",
      "σ: (sections: 1.81)\n",
      "\n",
      "category \"Topology\", cluster_id=1134, size=10:\n",
      "top categories: [(u'Topology', 9), (u'Homological algebra', 9), (u'Category theory', 7), (u'Sheaf theory', 6), (u'Abstract algebra', 5)]\n",
      "σ: (support: 0.89)\n",
      "\n",
      "category \"Statistical theory\", cluster_id=1213, size=6:\n",
      "top categories: [(u'Statistical theory', 5), (u'Statistics', 4), (u'Estimation theory', 4), (u'Control theory', 3), (u'Statistical inference', 3)]\n",
      "σ: (variance: 1.97), (unbiased estimator: 1.71), (true variance: 0.90), (Gaussian PDF: 0.89), (error variance: 0.89), (probability theory: 0.88), (estimate: 0.80)\n",
      "\n",
      "category \"Quantum field theory\", cluster_id=1872, size=11:\n",
      "top categories: [(u'Quantum field theory', 9), (u'Particle physics', 9), (u'Quantum mechanics', 8), (u'Theoretical physics', 8), (u'Differential geometry', 3)]\n",
      "σ: (topological mass parameters: 0.92), (axion: 0.86)\n",
      "\n",
      "category \"Electromagnetism\", cluster_id=2376, size=14:\n",
      "top categories: [(u'Electromagnetism', 12), (u'Physics', 7), (u'Special relativity', 6), (u'Force', 6), (u'Electrodynamics', 5)]\n",
      "σ: (electrical conductivity: 1.75), (materials conductivity: 0.92)\n",
      "\n",
      "category \"Statistics\", cluster_id=2410, size=12:\n",
      "top categories: [(u'Statistics', 10), (u'Statistical deviation and dispersion', 6), (u'Statistical theory', 4), (u'Estimation theory', 4), (u'Probability theory', 4)]\n",
      "σ: (standard deviation: 5.38), (variance: 2.86), (population variance: 2.69), (permutation: 0.99), (moment about the mean: 0.95), (unbiased sample estimate: 0.92), (indices: 0.89), (median: 0.89), (estimator: 0.87), (estimate: 0.86), (mean: 0.86), (sample: 0.83), (square error: 0.83), (central moment: 0.83), (estimators: 0.82), (distribution: 0.81), (normal N: 0.81)\n",
      "\n",
      "category \"Statistics\", cluster_id=2459, size=6:\n",
      "top categories: [(u'Statistics', 5), (u'Statistical deviation and dispersion', 3), (u'Theory of probability distributions', 3), (u'Inter-rater reliability', 2), (u'Statistical dependence', 2)]\n",
      "σ: (standard deviation: 0.99), (absorption cross section: 0.96), (McKay: 0.95), (denominator: 0.93), (mean: 0.89), (unit volume times: 0.87), (ratio: 0.83)\n",
      "\n",
      "category \"Thermodynamics\", cluster_id=2576, size=17:\n",
      "top categories: [(u'Thermodynamics', 14), (u'Physics', 9), (u'Physical chemistry', 8), (u'Force', 8), (u'Dynamical systems', 7)]\n",
      "σ: (normal stress: 0.96), (surface tension: 0.93), (solids: 0.87)\n",
      "\n",
      "category \"Algebraic topology\", cluster_id=2699, size=9:\n",
      "top categories: [(u'Algebraic topology', 9), (u'Abstract algebra', 7), (u'Homological algebra', 7), (u'Homology theory', 6), (u'Algebraic geometry', 5)]\n",
      "σ: (face: 1.79), (simplicial map: 0.99), (p-th front face: 0.89), (singular: 0.87), (q-th: 0.84), (restriction: 0.83), (i-simplex Δ_i: 0.81)\n",
      "\n",
      "category \"Exact solutions in general relativity\", cluster_id=2903, size=6:\n",
      "top categories: [(u'Exact solutions in general relativity', 5), (u'General relativity', 5), (u'Equations', 5), (u'Cyclotomic fields', 1), (u'Algebraic number theory', 1)]\n",
      "σ: (energy density: 0.87), (simple form: 0.87)\n",
      "\n",
      "category \"Fluid dynamics\", cluster_id=2920, size=7:\n",
      "top categories: [(u'Fluid dynamics', 7), (u'Water waves', 6), (u'Waves', 6), (u'Physical oceanography', 6), (u'Dynamics', 4)]\n",
      "σ: (surface tension: 1.88), (angular frequency: 1.82), (frequencies: 0.84), (mean flow: 0.81)\n",
      "\n",
      "category \"Quantum mechanics\", cluster_id=3141, size=12:\n",
      "top categories: [(u'Quantum mechanics', 10), (u'Particle physics', 10), (u'Quantum field theory', 9), (u'Theoretical physics', 9), (u'Physics', 7)]\n",
      "σ: (arbitrary two-spinor: 0.93), (Pauli matrices: 0.89), (electromagnetic field: 0.89), (magnetic moment: 0.89), (matrix operator: 0.87), (notation: 0.87), (particles: 0.84)\n",
      "\n",
      "category \"Stochastic processes\", cluster_id=3370, size=5:\n",
      "top categories: [(u'Stochastic processes', 5), (u'Statistical data types', 3), (u'Statistics', 3), (u'Probability theory', 3), (u'Graphical models', 1)]\n",
      "σ: (time: 0.99)\n",
      "\n",
      "category \"Coordinate systems\", cluster_id=3706, size=6:\n",
      "top categories: [(u'Coordinate systems', 6), (u'Cartography', 6), (u'Conceptual systems', 6), (u'Analytic geometry', 6), (u'Mathematical notation', 6)]\n",
      "σ: (form: 2.78), (coordinate: 2.76), (curves: 1.74), (isosurface: 1.65), (confocal parabolae: 0.93), (angle: 0.91), (parabolic cylinder: 0.88), (self-intersecting torus: 0.86), (yellow crescent: 0.86), (surfaces: 0.86), (red sphere: 0.86), (Surfaces: 0.83), (blue paraboloid: 0.82)\n",
      "\n",
      "category \"Probability distributions\", cluster_id=3743, size=6:\n",
      "top categories: [(u'Probability distributions', 6), (u'Statistical data types', 6), (u'Directional statistics', 6), (u'Continuous distributions', 5), (u'Statistics', 1)]\n",
      "σ: (mean: 1.73), (estimator: 0.89), (normal distribution: 0.86)\n",
      "\n",
      "category \"Stochastic processes\", cluster_id=4168, size=7:\n",
      "top categories: [(u'Stochastic processes', 6), (u'Probability theory', 6), (u'Statistics', 5), (u'Statistical data types', 5), (u'Macroeconomics', 3)]\n",
      "σ: (volatility: 2.63), (finite variance: 0.96), (assets drift: 0.95), (standard deviation: 0.87), (percentage drift: 0.86), (percentage volatility: 0.86), (amount: 0.84), (random variable: 0.81)\n",
      "\n"
     ]
    }
   ],
   "source": [
    "evaluate.find_identifier(km_grid_hyperparam_res[300, 4300], purity_threshold=0.8, id=u'σ', collection_weighting=0)"
   ]
  },
  {
   "cell_type": "code",
   "execution_count": 122,
   "metadata": {
    "collapsed": false
   },
   "outputs": [],
   "source": [
    "reload(cluster_evaluation)\n",
    "evaluate = cluster_evaluation.Evaluator(doc_titles=titles, doc_ids=ids, \n",
    "                                        doc_ids_definitions=rels, doc_categories=doc_categories_list)"
   ]
  },
  {
   "cell_type": "code",
   "execution_count": 123,
   "metadata": {
    "collapsed": false,
    "scrolled": false
   },
   "outputs": [
    {
     "name": "stdout",
     "output_type": "stream",
     "text": [
      "size: 8\n",
      "\n",
      "- Newtonian fluid (categories: Fluid dynamics, Dynamics, Physical quantities, Fluid mechanics, Viscosity) constant x_j x_i scalar total v_i v_j tensor system field μ fluids σ τ F component fluid y tensors stress d pressure j p vector u v coordinate velocity\n",
      "- Aeroacoustics (categories: Applied and interdisciplinary physics, Fluid dynamics, Dynamics, Fluid mechanics, Aerospace engineering, ...) x_j x_i c_0 speed v_i v_j density ρ σ D fluid pressure T p_0 sound c of equation ρ_0 p mass t v\n",
      "- Fluid mechanics (categories: Fluid mechanics, Continuum mechanics, Gases, Liquids, Soft matter) coefficient coordinate vortices x_j x_i second v_i v_j τ tensor symmetric state κ μ shear isotropic ρ direction D newtonian freedom viscosity fluid P drag stresses stress viscous d f h j p t components v y velocity\n",
      "- Geophysical fluid dynamics (categories: Applied and interdisciplinary physics, Fluid dynamics, Dynamics, Fluid mechanics, Meteorology, ...) ρ τ f p u t v x μ d\n",
      "- Viscous stress tensor (categories: Physics, Concepts in physics, Physical quantities, Fluid mechanics, Concepts by field, ...) point x_j x_k x_i strain rate relation jacobian total v_i v_j v_k tensor elastic gradient η time viscous μ σ E τ F material viscosity F_i pressure fourth-order matrix stress d k j m l hydrostatic specific p length ϵ t v indices velocity side\n",
      "- Volume viscosity (categories: Chemistry, Fluid dynamics, Dynamics, Physical quantities, Fluid mechanics, ...) ρ coefficient f viscosity dynamic volume p T v μ t\n",
      "- Reynolds number (categories: Fluid dynamics, Dynamics, Fluid mechanics, Thermodynamics, Aerospace engineering, ...) diameter p_m v_s flow weisbach friction chord cross-sectional D_i D_o reynolds concern superficial kinematic area speed outside hydraulic particles D_H agitator perimeter wetted factor -- ν μ ρ flight D quantities viscosity L N Q P velocity V plots distance rotational g f darcy inside m l pipe p contact ϵ t v x ρ_m\n",
      "- Parabolic trajectory (categories: Celestial mechanics, Gravitation, Periodic phenomena, Astrodynamics, Orbits, ...) energy assumptions barkers v_o D_f orbital trajectory t_f substitutions C_3 parabolic ν μ speed body B D D_0 T f h equation orbit specific p r ϵ t v velocity t_0 average\n",
      "\n",
      "common terms: (p v)\n",
      "top categories: [(u'Fluid mechanics', 7), (u'Fluid dynamics', 5), (u'Dynamics', 5), (u'Viscosity', 3), (u'Physical quantities', 3)]\n",
      "purity: 0.875\n",
      "relations:\n",
      "    B: (substitutions: 0.83)\n",
      "    C_3: (barkers equation: 0.92), (orbit: 0.86)\n",
      "    D: (diameter*: 1.87), (contact: 0.88), (agitator: 0.83), (particles: 0.83)\n",
      "    D_H: (hydraulic diameter: 0.93)\n",
      "    D_i: (outside diameter*: 1.79)\n",
      "    D_o: (inside diameter: 0.89)\n",
      "    E: (strain rate: 0.97), (specific point: 0.86)\n",
      "    N: (rotational speed: 0.89), (velocity: 0.83)\n",
      "    P: (vortices: 0.95), (cross-sectional area: 0.93), (symmetric tensor: 0.89), (wetted perimeter: 0.87), (freedom: 0.83)\n",
      "    V: (flight speed: 0.87)\n",
      "    c_0: (speed of sound: 0.87)\n",
      "    d: (length: 0.93), (side: 0.84)\n",
      "    f: (darcy -- weisbach friction factor: 1.94), (reynolds: 0.91), (plots: 0.84)\n",
      "    j: (component: 0.93)\n",
      "    m: (concern: 0.93), (quantities: 0.84), (flow: 0.84)\n",
      "    p: (pressure*: 3.59), (time: 0.93), (stress tensor: 0.81), (isotropic stress state: 0.81)\n",
      "    t: (time: 1.94), (average speed: 0.88)\n",
      "    v: (velocity*: 4.50), (vector field: 0.99), (volume viscosity coefficient: 0.89), (mass equation: 0.89), (density: 0.87), (tensors: 0.86), (jacobian matrix: 0.84), (body: 0.83), (assumptions: 0.81)\n",
      "    v_i: (velocity*: 1.74), (direction: 0.99)\n",
      "    v_s: (superficial velocity: 0.93), (reynolds: 0.89)\n",
      "    x: (distance: 0.89)\n",
      "    x_j: (coordinate system*: 1.61), (direction: 0.99)\n",
      "    κ: (second viscosity coefficient: 0.89), (newtonian fluid: 0.83)\n",
      "    μ: (viscosity tensor*: 5.44), (drag: 0.95), (tensor: 0.91), (fourth-order: 0.91), (scalar constant: 0.82), (indices: 0.82)\n",
      "    ν: (chord: 0.89), (kinematic viscosity: 0.87)\n",
      "    ρ: (density: 0.94), (fluid: 0.86)\n",
      "    σ: (total stress tensor: 1.97), (pressure: 0.87), (material: 0.83)\n",
      "    τ: (elastic stress tensor*: 3.62), (tensors: 0.93), (components: 0.89), (hydrostatic pressure: 0.89), (stresses: 0.81)\n",
      "    ϵ: (relation: 1.70), (viscous stress: 0.96), (specific orbital energy: 0.92), (parabolic trajectory: 0.89), (strain rate: 0.87), (assumptions: 0.81)\n"
     ]
    }
   ],
   "source": [
    "evaluate.print_cluster(km_grid_hyperparam_res[300, 4300], 71)"
   ]
  },
  {
   "cell_type": "markdown",
   "metadata": {},
   "source": [
    "$n=700, k=4500$"
   ]
  },
  {
   "cell_type": "code",
   "execution_count": 130,
   "metadata": {
    "collapsed": false,
    "scrolled": true
   },
   "outputs": [
    {
     "name": "stdout",
     "output_type": "stream",
     "text": [
      "overall purity 0.4214\n",
      "number of high purity clusters of size at least 5 is 98\n",
      "\n",
      "- Astronomical catalogues (id=1421) size=53, purity=0.9811\n",
      "- Complex analysis (id=58) size=31, purity=0.8710\n",
      "- Differential geometry (id=4414) size=18, purity=0.8333\n",
      "- Group theory (id=1190) size=15, purity=0.8000\n",
      "- Group theory (id=1104) size=14, purity=1.0000\n",
      "- Set theory (id=3430) size=13, purity=0.8462\n",
      "- Electromagnetism (id=670) size=12, purity=0.9167\n",
      "- Field theory (id=876) size=12, purity=0.8333\n",
      "- Analytic number theory (id=157) size=11, purity=0.9091\n",
      "- Baseball statistics (id=460) size=11, purity=0.8182\n",
      "- Probability theory (id=2039) size=11, purity=0.8182\n",
      "- Statistics (id=2816) size=11, purity=0.8182\n",
      "- Group theory (id=396) size=10, purity=0.8000\n",
      "- Probability distributions (id=723) size=10, purity=0.8000\n",
      "- Coordinate systems (id=3462) size=10, purity=0.8000\n",
      "- Statistics (id=4115) size=10, purity=0.8000\n",
      "- Macroeconomics and monetary economics (id=630) size=9, purity=0.8889\n",
      "- Linear algebra (id=685) size=9, purity=0.8889\n",
      "- Set theory (id=3854) size=9, purity=0.8889\n",
      "- Mathematical analysis (id=3981) size=9, purity=0.8889\n",
      "- Systems of units (id=1023) size=8, purity=1.0000\n",
      "- Consumer theory (id=1160) size=8, purity=0.8750\n",
      "- National Basketball Association seasons (id=1971) size=8, purity=1.0000\n",
      "- Cartographic projections (id=2038) size=8, purity=1.0000\n",
      "- Group theory (id=2284) size=8, purity=0.8750\n",
      "- Quantum mechanics (id=2419) size=8, purity=0.8750\n",
      "- Electromagnetism (id=2645) size=8, purity=1.0000\n",
      "- Constellations (id=2789) size=8, purity=0.8750\n",
      "- Mechanics (id=495) size=7, purity=0.8571\n",
      "- Rubber properties (id=1197) size=7, purity=1.0000\n",
      "- Complex analysis (id=1276) size=7, purity=0.8571\n",
      "- Representation theory (id=1675) size=7, purity=0.8571\n",
      "- Dynamics (id=1676) size=7, purity=0.8571\n",
      "- Statistics (id=1925) size=7, purity=0.8571\n",
      "- Knot theory (id=2509) size=7, purity=1.0000\n",
      "- Databases (id=2818) size=7, purity=0.8571\n",
      "- Quantum mechanics (id=3010) size=7, purity=1.0000\n",
      "- Fluid dynamics (id=3154) size=7, purity=0.8571\n",
      "- Automata (computation) (id=3296) size=7, purity=0.8571\n",
      "- Abstract algebra (id=3842) size=7, purity=0.8571\n",
      "- Control theory (id=3917) size=7, purity=0.8571\n",
      "- Automorphic forms (id=4230) size=7, purity=1.0000\n",
      "- Physics (id=0) size=6, purity=0.8333\n",
      "- Coding theory (id=63) size=6, purity=1.0000\n",
      "- Differential topology (id=95) size=6, purity=0.8333\n",
      "- Measure theory (id=232) size=6, purity=0.8333\n",
      "- Electronic design (id=360) size=6, purity=0.8333\n",
      "- Probability distributions (id=371) size=6, purity=1.0000\n",
      "- Differential equations (id=579) size=6, purity=1.0000\n",
      "- Differential topology (id=907) size=6, purity=0.8333\n",
      "- Modular forms (id=1256) size=6, purity=0.8333\n",
      "- Physics (id=1736) size=6, purity=0.8333\n",
      "- Continuous distributions (id=1888) size=6, purity=0.8333\n",
      "- Algebra (id=1965) size=6, purity=0.8333\n",
      "- Measure theory (id=2736) size=6, purity=0.8333\n",
      "- Thermodynamics (id=2854) size=6, purity=1.0000\n",
      "- Probability theory (id=3081) size=6, purity=0.8333\n",
      "- Numerical analysis (id=3306) size=6, purity=1.0000\n",
      "- Propositional calculus (id=3946) size=6, purity=0.8333\n",
      "- Electronic engineering (id=4086) size=6, purity=1.0000\n",
      "- Algebraic number theory (id=4190) size=6, purity=0.8333\n",
      "- Statistics (id=22) size=5, purity=1.0000\n",
      "- Graph theory (id=57) size=5, purity=0.8000\n",
      "- Complex analysis (id=80) size=5, purity=0.8000\n",
      "- Group theory (id=160) size=5, purity=1.0000\n",
      "- Condensed matter physics (id=190) size=5, purity=0.8000\n",
      "- Enzyme kinetics (id=217) size=5, purity=0.8000\n",
      "- Probability theory (id=301) size=5, purity=0.8000\n",
      "- Coordinate systems (id=317) size=5, purity=1.0000\n",
      "- Algorithms (id=362) size=5, purity=0.8000\n",
      "- Chemical properties (id=624) size=5, purity=1.0000\n",
      "- General relativity (id=815) size=5, purity=0.8000\n",
      "- Formal methods (id=886) size=5, purity=1.0000\n",
      "- Physics (id=1111) size=5, purity=0.8000\n",
      "- Enzyme kinetics (id=1269) size=5, purity=0.8000\n",
      "- Optimization algorithms and methods (id=1469) size=5, purity=1.0000\n",
      "- Mathematical logic (id=1597) size=5, purity=1.0000\n",
      "- Knot theory (id=1741) size=5, purity=0.8000\n",
      "- Multilinear algebra (id=1861) size=5, purity=0.8000\n",
      "- General relativity (id=1874) size=5, purity=0.8000\n",
      "- Abstract algebra (id=1958) size=5, purity=1.0000\n",
      "- Plasma physics (id=2353) size=5, purity=0.8000\n",
      "- Differential equations (id=2503) size=5, purity=1.0000\n",
      "- Cartography (id=2526) size=5, purity=1.0000\n",
      "- Gases (id=2585) size=5, purity=1.0000\n",
      "- Quantum mechanics (id=2609) size=5, purity=1.0000\n",
      "- Functional analysis (id=2782) size=5, purity=1.0000\n",
      "- Mechanics (id=2866) size=5, purity=0.8000\n",
      "- Topological groups (id=2895) size=5, purity=0.8000\n",
      "- Analog circuits (id=2946) size=5, purity=0.8000\n",
      "- Constraint programming (id=2975) size=5, purity=1.0000\n",
      "- Quantum mechanics (id=3281) size=5, purity=0.8000\n",
      "- Probability theory (id=3363) size=5, purity=0.8000\n",
      "- Probability distributions (id=3775) size=5, purity=0.8000\n",
      "- Abstract algebra (id=3797) size=5, purity=0.8000\n",
      "- Differential geometry (id=4170) size=5, purity=0.8000\n",
      "- Astronomical catalogues of stars (id=4180) size=5, purity=1.0000\n",
      "- Measure theory (id=4413) size=5, purity=0.8000\n"
     ]
    }
   ],
   "source": [
    "evaluate.report_overall(km_grid_hyperparam_res[700, 4500], purity_threshold=0.8, sort_by='size')"
   ]
  },
  {
   "cell_type": "code",
   "execution_count": 133,
   "metadata": {
    "collapsed": false
   },
   "outputs": [
    {
     "name": "stdout",
     "output_type": "stream",
     "text": [
      "size: 5\n",
      "\n",
      "- Point process (categories: Statistics, Probability theory, Statistical data types, Stochastic processes, Statistical data sets, ...) random compact Ω α stochastic ρ L P half X dirac d h ϱ t x Pr kernel Φ_B radius measure event Φ state B_1 ; ξ S surely λ_p B_i B_k g cox k basis times poisson subset point x_k Λ H_t & k_1 process borel λ B_δ σ B F N R x_1 line ξ_α B_n subsets f j n k_i euclidean k_n history real almost Δ relatively - X_k lévy X_i δ T_j ball E algebra sets variable space countable time y sigma jensens\n",
      "- Campbell's theorem (probability) (categories: Mathematical theorems, Probability theory, Probability theorems) set point process random measurable related intensity relation result measure Λ Σ space sum functions expectations borel theorem θ λ B E campbells sums expectation N ranges variance imaginary d g f l imaginary.a euclidean range t x quantity\n",
      "- Point process notation (categories: Mathematics, Mathematical notation, Notation) set probability point process random measurable measure indicator Φ borel function B E symbol N P x_2 x_1 sense d f space n euclidean r x\n",
      "- Moment measure (categories: Statistics, Applied mathematics, Probability theory, Statistical data types, Measure theory, ...) homogeneous set constant point x_n measurable x_i tuples intensity measure Λ Π indicator non-negative space process borel B_1 λ function product B E power symbol M expectation N moment cartesian x_1 multiplication general B_i dirac d B_n f second n euclidean poisson sets x first\n",
      "- Factorial moment measure (categories: Statistics, Applied mathematics, Probability theory, Statistical data types, Measure theory, ...) function set point x_n measurable x_i tuples intensity measure Λ Π indicator cartesian lebesgue space process borel B_1 λ μ ρ product B E power factorial symbol M expectation N moment R x_2 x_1 multiplication general namesake B_i dirac d B_n f n euclidean length poisson sets x\n",
      "\n",
      "common terms: (B E d f space process point N euclidean borel measure x)\n",
      "top categories: [(u'Probability theory', 4), (u'Statistics', 3), (u'Spatial data analysis', 3), (u'Statistical data types', 3), (u'Probability', 2)]\n",
      "purity: 0.800\n",
      "relations:\n",
      "    B: (borel set*: 8.22), (relatively compact sets*: 1.74), (factorial moment measure*: 1.68), (intensity measure: 0.95), (quantity: 0.86), (subset: 0.83), (relation: 0.83), (namesake: 0.82)\n",
      "    B_1: (indicator function: 1.77), (dirac measure: 1.77)\n",
      "    B_i: (length: 0.87), (lebesgue measure: 0.87)\n",
      "    B_n: (dirac measure: 0.81)\n",
      "    E: (expectation: 2.68)\n",
      "    H_t: (history: 0.89)\n",
      "    L: (basis: 0.96), (kernel: 0.93), (lévy: 0.93)\n",
      "    M: (factorial moment measure: 0.99)\n",
      "    N: (point process: 7.14), (dirac measure*: 1.68), (campbells: 0.91), (& sigma ; - algebra: 0.91)\n",
      "    P: (random measure sense: 0.95), (probability measure: 0.83)\n",
      "    R: (euclidean space: 1.76), (measurable function: 0.89), (subsets: 0.88), (real half line: 0.83)\n",
      "    S: (subset: 0.91), (countable: 0.82)\n",
      "    X_i: (random variable: 0.93), (almost surely: 0.84)\n",
      "    d: (euclidean space*: 3.55), (sets: 1.77), (campbells: 0.95), (theorem: 0.89), (point process: 0.84), (borel: 0.84)\n",
      "    f: (measurable function*: 3.45), (ranges*: 1.74), (state space: 0.89), (non-negative: 0.89), (sums: 0.82), (expectations: 0.81)\n",
      "    h: (kernel: 0.96), (jensens: 0.81), (basis: 0.81)\n",
      "    n: (power*: 3.55), (tuples: 2.59), (cartesian product: 1.82), (euclidean space: 0.88), (subset: 0.86), (sets: 0.81)\n",
      "    t: (time: 0.99), (event times: 0.89)\n",
      "    x: (random point: 0.96), (ball: 0.87), (radius: 0.87), (indicator function: 0.83)\n",
      "    Λ: (intensity measure*: 8.39), (general poisson point process*: 3.44), (second moment measure*: 1.74), (quantity: 0.92)\n",
      "    Π: (symbol: 1.97), (multiplication: 1.84)\n",
      "    Σ: (random sum: 0.99), (variance: 0.89)\n",
      "    Φ: (symbol: 0.95)\n",
      "    δ: (radius: 0.92), (dirac measure: 0.86)\n",
      "    θ: (imaginary*: 1.84), (related result: 0.83)\n",
      "    λ: (intensity: 0.99), (constant: 0.95), (homogeneous poisson point process: 0.83)\n",
      "    ξ: (point process*: 1.68)\n",
      "    ξ_α: (poisson: 0.83)\n"
     ]
    }
   ],
   "source": [
    "evaluate.print_cluster(km_grid_hyperparam_res[700, 4500], 3363)"
   ]
  },
  {
   "cell_type": "markdown",
   "metadata": {},
   "source": [
    "Old results:"
   ]
  },
  {
   "cell_type": "code",
   "execution_count": 202,
   "metadata": {
    "collapsed": false,
    "scrolled": true
   },
   "outputs": [
    {
     "name": "stdout",
     "output_type": "stream",
     "text": [
      "doing LSA with 150 components...\n",
      "\n",
      "purity for n=150, k=400 is 0.2081, number of >0.8 clusters: 3\n",
      "purity for n=150, k=500 is 0.2169, number of >0.8 clusters: 8\n",
      "purity for n=150, k=600 is 0.2289, number of >0.8 clusters: 7\n",
      "purity for n=150, k=700 is 0.2386, number of >0.8 clusters: 8\n",
      "purity for n=150, k=800 is 0.2444, number of >0.8 clusters: 12\n",
      "purity for n=150, k=900 is 0.2507, number of >0.8 clusters: 14\n",
      "purity for n=150, k=1000 is 0.2389, number of >0.8 clusters: 9\n",
      "purity for n=150, k=1100 is 0.2612, number of >0.8 clusters: 16\n",
      "purity for n=150, k=1200 is 0.2693, number of >0.8 clusters: 19\n",
      "purity for n=150, k=1300 is 0.2750, number of >0.8 clusters: 21\n",
      "purity for n=150, k=1400 is 0.2699, number of >0.8 clusters: 21\n",
      "purity for n=150, k=1500 is 0.2703, number of >0.8 clusters: 14\n",
      "purity for n=150, k=1600 is 0.2925, number of >0.8 clusters: 25\n",
      "purity for n=150, k=1700 is 0.2850, number of >0.8 clusters: 26\n",
      "purity for n=150, k=1800 is 0.2861, number of >0.8 clusters: 27\n",
      "purity for n=150, k=1900 is 0.3057, number of >0.8 clusters: 37\n",
      "purity for n=150, k=2000 is 0.2994, number of >0.8 clusters: 28\n",
      "purity for n=150, k=2100 is 0.3169, number of >0.8 clusters: 39\n",
      "purity for n=150, k=2200 is 0.3070, number of >0.8 clusters: 33\n",
      "purity for n=150, k=2300 is 0.3133, number of >0.8 clusters: 28\n",
      "purity for n=150, k=2400 is 0.3206, number of >0.8 clusters: 36\n",
      "purity for n=150, k=2500 is 0.3340, number of >0.8 clusters: 52\n",
      "purity for n=150, k=2600 is 0.3391, number of >0.8 clusters: 51\n",
      "purity for n=150, k=2700 is 0.3409, number of >0.8 clusters: 60\n",
      "purity for n=150, k=2800 is 0.3423, number of >0.8 clusters: 54\n",
      "purity for n=150, k=2900 is 0.3409, number of >0.8 clusters: 48\n",
      "purity for n=150, k=3000 is 0.3463, number of >0.8 clusters: 51\n",
      "doing LSA with 200 components...\n",
      "\n",
      "purity for n=200, k=400 is 0.2126, number of >0.8 clusters: 11\n",
      "purity for n=200, k=500 is 0.2236, number of >0.8 clusters: 9\n",
      "purity for n=200, k=600 is 0.2309, number of >0.8 clusters: 10\n",
      "purity for n=200, k=700 is 0.2389, number of >0.8 clusters: 16\n",
      "purity for n=200, k=800 is 0.2425, number of >0.8 clusters: 18\n",
      "purity for n=200, k=900 is 0.2470, number of >0.8 clusters: 12\n",
      "purity for n=200, k=1000 is 0.2390, number of >0.8 clusters: 11\n",
      "purity for n=200, k=1100 is 0.2678, number of >0.8 clusters: 17\n",
      "purity for n=200, k=1200 is 0.2569, number of >0.8 clusters: 13\n",
      "purity for n=200, k=1300 is 0.2747, number of >0.8 clusters: 24\n",
      "purity for n=200, k=1400 is 0.2786, number of >0.8 clusters: 24\n",
      "purity for n=200, k=1500 is 0.2731, number of >0.8 clusters: 24\n",
      "purity for n=200, k=1600 is 0.2909, number of >0.8 clusters: 35\n",
      "purity for n=200, k=1700 is 0.2878, number of >0.8 clusters: 18\n",
      "purity for n=200, k=1800 is 0.3024, number of >0.8 clusters: 31\n",
      "purity for n=200, k=1900 is 0.3109, number of >0.8 clusters: 35\n",
      "purity for n=200, k=2000 is 0.3029, number of >0.8 clusters: 20\n",
      "purity for n=200, k=2100 is 0.3087, number of >0.8 clusters: 33\n",
      "purity for n=200, k=2200 is 0.3120, number of >0.8 clusters: 28\n",
      "purity for n=200, k=2300 is 0.3189, number of >0.8 clusters: 37\n",
      "purity for n=200, k=2400 is 0.3209, number of >0.8 clusters: 34\n",
      "purity for n=200, k=2500 is 0.3356, number of >0.8 clusters: 42\n",
      "purity for n=200, k=2600 is 0.3301, number of >0.8 clusters: 50\n",
      "purity for n=200, k=2700 is 0.3362, number of >0.8 clusters: 40\n",
      "purity for n=200, k=2800 is 0.3493, number of >0.8 clusters: 56\n",
      "purity for n=200, k=2900 is 0.3416, number of >0.8 clusters: 45\n",
      "purity for n=200, k=3000 is 0.3543, number of >0.8 clusters: 61\n",
      "doing LSA with 300 components...\n",
      "\n",
      "purity for n=300, k=400 is 0.2132, number of >0.8 clusters: 3\n",
      "purity for n=300, k=500 is 0.1986, number of >0.8 clusters: 5\n",
      "purity for n=300, k=600 is 0.2299, number of >0.8 clusters: 7\n",
      "purity for n=300, k=700 is 0.2393, number of >0.8 clusters: 12\n",
      "purity for n=300, k=800 is 0.2448, number of >0.8 clusters: 14\n",
      "purity for n=300, k=900 is 0.2381, number of >0.8 clusters: 11\n",
      "purity for n=300, k=1000 is 0.2613, number of >0.8 clusters: 20\n",
      "purity for n=300, k=1100 is 0.2712, number of >0.8 clusters: 25\n",
      "purity for n=300, k=1200 is 0.2694, number of >0.8 clusters: 24\n",
      "purity for n=300, k=1300 is 0.2801, number of >0.8 clusters: 30\n",
      "purity for n=300, k=1400 is 0.2832, number of >0.8 clusters: 40\n",
      "purity for n=300, k=1500 is 0.2744, number of >0.8 clusters: 24\n",
      "purity for n=300, k=1600 is 0.2938, number of >0.8 clusters: 37\n",
      "purity for n=300, k=1700 is 0.2858, number of >0.8 clusters: 25\n",
      "purity for n=300, k=1800 is 0.3053, number of >0.8 clusters: 41\n",
      "purity for n=300, k=1900 is 0.3072, number of >0.8 clusters: 35\n",
      "purity for n=300, k=2000 is 0.3045, number of >0.8 clusters: 33\n",
      "purity for n=300, k=2100 is 0.3084, number of >0.8 clusters: 37\n",
      "purity for n=300, k=2200 is 0.3109, number of >0.8 clusters: 30\n",
      "purity for n=300, k=2300 is 0.3195, number of >0.8 clusters: 46\n",
      "purity for n=300, k=2400 is 0.3366, number of >0.8 clusters: 46\n",
      "purity for n=300, k=2500 is 0.3272, number of >0.8 clusters: 42\n",
      "purity for n=300, k=2600 is 0.3401, number of >0.8 clusters: 57\n",
      "purity for n=300, k=2700 is 0.3364, number of >0.8 clusters: 43\n",
      "purity for n=300, k=2800 is 0.3418, number of >0.8 clusters: 44\n",
      "purity for n=300, k=2900 is 0.3495, number of >0.8 clusters: 48\n",
      "purity for n=300, k=3000 is 0.3536, number of >0.8 clusters: 55\n",
      "doing LSA with 400 components...\n",
      "\n",
      "purity for n=400, k=400 is 0.2122, number of >0.8 clusters: 6\n",
      "purity for n=400, k=500 is 0.2203, number of >0.8 clusters: 14\n",
      "purity for n=400, k=600 is 0.2347, number of >0.8 clusters: 14\n",
      "purity for n=400, k=700 is 0.2193, number of >0.8 clusters: 11\n",
      "purity for n=400, k=800 is 0.2467, number of >0.8 clusters: 12\n",
      "purity for n=400, k=900 is 0.2545, number of >0.8 clusters: 15\n",
      "purity for n=400, k=1000 is 0.2612, number of >0.8 clusters: 19\n",
      "purity for n=400, k=1100 is 0.2527, number of >0.8 clusters: 20\n",
      "purity for n=400, k=1200 is 0.2712, number of >0.8 clusters: 22\n",
      "purity for n=400, k=1300 is 0.2600, number of >0.8 clusters: 25\n",
      "purity for n=400, k=1400 is 0.2735, number of >0.8 clusters: 19\n",
      "purity for n=400, k=1500 is 0.2869, number of >0.8 clusters: 31\n",
      "purity for n=400, k=1600 is 0.2975, number of >0.8 clusters: 31\n",
      "purity for n=400, k=1700 is 0.3047, number of >0.8 clusters: 35\n",
      "purity for n=400, k=1800 is 0.3084, number of >0.8 clusters: 33\n",
      "purity for n=400, k=1900 is 0.3123, number of >0.8 clusters: 41\n",
      "purity for n=400, k=2000 is 0.3167, number of >0.8 clusters: 44\n",
      "purity for n=400, k=2100 is 0.3205, number of >0.8 clusters: 45\n",
      "purity for n=400, k=2200 is 0.3280, number of >0.8 clusters: 46\n",
      "purity for n=400, k=2300 is 0.3292, number of >0.8 clusters: 48\n",
      "purity for n=400, k=2400 is 0.3259, number of >0.8 clusters: 38\n",
      "purity for n=400, k=2500 is 0.3289, number of >0.8 clusters: 53\n",
      "purity for n=400, k=2600 is 0.3363, number of >0.8 clusters: 46\n",
      "purity for n=400, k=2700 is 0.3451, number of >0.8 clusters: 69\n",
      "purity for n=400, k=2800 is 0.3436, number of >0.8 clusters: 58\n",
      "purity for n=400, k=2900 is 0.3601, number of >0.8 clusters: 56\n",
      "purity for n=400, k=3000 is 0.3520, number of >0.8 clusters: 53\n",
      "doing LSA with 500 components...\n",
      "\n",
      "purity for n=500, k=400 is 0.2035, number of >0.8 clusters: 5\n",
      "purity for n=500, k=500 is 0.2300, number of >0.8 clusters: 9\n",
      "purity for n=500, k=600 is 0.2146, number of >0.8 clusters: 10\n",
      "purity for n=500, k=700 is 0.2239, number of >0.8 clusters: 9\n",
      "purity for n=500, k=800 is 0.2319, number of >0.8 clusters: 13\n",
      "purity for n=500, k=900 is 0.2370, number of >0.8 clusters: 18\n",
      "purity for n=500, k=1000 is 0.2648, number of >0.8 clusters: 19\n",
      "purity for n=500, k=1100 is 0.2552, number of >0.8 clusters: 21\n",
      "purity for n=500, k=1200 is 0.2702, number of >0.8 clusters: 20\n",
      "purity for n=500, k=1300 is 0.2839, number of >0.8 clusters: 30\n",
      "purity for n=500, k=1400 is 0.2877, number of >0.8 clusters: 29\n",
      "purity for n=500, k=1500 is 0.2958, number of >0.8 clusters: 43\n",
      "purity for n=500, k=1600 is 0.2972, number of >0.8 clusters: 35\n",
      "purity for n=500, k=1700 is 0.3099, number of >0.8 clusters: 43\n",
      "purity for n=500, k=1800 is 0.3101, number of >0.8 clusters: 43\n",
      "purity for n=500, k=1900 is 0.3094, number of >0.8 clusters: 45\n",
      "purity for n=500, k=2000 is 0.3065, number of >0.8 clusters: 31\n",
      "purity for n=500, k=2100 is 0.3232, number of >0.8 clusters: 47\n",
      "purity for n=500, k=2200 is 0.3290, number of >0.8 clusters: 42\n",
      "purity for n=500, k=2300 is 0.3341, number of >0.8 clusters: 51\n",
      "purity for n=500, k=2400 is 0.3280, number of >0.8 clusters: 40\n",
      "purity for n=500, k=2500 is 0.3268, number of >0.8 clusters: 45\n",
      "purity for n=500, k=2600 is 0.3342, number of >0.8 clusters: 50\n",
      "purity for n=500, k=2700 is 0.3508, number of >0.8 clusters: 69\n",
      "purity for n=500, k=2800 is 0.3539, number of >0.8 clusters: 63\n",
      "purity for n=500, k=2900 is 0.3595, number of >0.8 clusters: 64\n",
      "purity for n=500, k=3000 is 0.3633, number of >0.8 clusters: 70\n"
     ]
    }
   ],
   "source": [
    "n_components = [n * 100 for n in xrange(3, 8)]\n",
    "ks = [k * 100 for k in xrange(25, 46)]\n",
    "\n",
    "km_grid_hyperparam_purity = {}\n",
    "km_grid_hyperparam_res = {}\n",
    "\n",
    "for n in n_components:\n",
    "    print 'doing LSA with %d components...' % n\n",
    "    print\n",
    "\n",
    "    U, S, Vt = randomized_svd(X, n_components=n)\n",
    "    V = Vt.T\n",
    "\n",
    "    X_red_grid = X.dot(V)\n",
    "    X_red_grid = normalizer.fit_transform(X_red_grid)\n",
    "\n",
    "\n",
    "    for k in ks:\n",
    "        km_grid = MiniBatchKMeans(n_clusters=k, init_size=k*3, n_init=10, init='random')\n",
    "        km_grid.fit(X_red_grid)\n",
    "\n",
    "        km_grid_hyperparam_res[(n, k)] = km_grid.labels_\n",
    "        cluster_purity = evaluate.overall_purity(km_grid.labels_)\n",
    "        km_grid_hyperparam_purity[(n, k)] = cluster_purity\n",
    "\n",
    "        no_pure_clusters = len(evaluate.high_purity_clusters(km_grid.labels_, threshold=0.8))\n",
    "\n",
    "        print 'purity for n=%d, k=%d is %0.4f, number of >0.8 clusters: %d' % (n, k, cluster_purity, no_pure_clusters)"
   ]
  },
  {
   "cell_type": "code",
   "execution_count": 207,
   "metadata": {
    "collapsed": false,
    "scrolled": true
   },
   "outputs": [
    {
     "name": "stdout",
     "output_type": "stream",
     "text": [
      "overall purity 0.3633\n",
      "number of high purity clusters of size at least 5 is 70\n",
      "\n",
      "- Astronomical catalogues (id=22) size=53, purity=0.9811\n",
      "- Complex analysis (id=2176) size=44, purity=0.8409\n",
      "- Thermodynamics (id=1826) size=34, purity=0.8529\n",
      "- Quantum mechanics (id=1079) size=30, purity=0.9000\n",
      "- Stochastic processes (id=681) size=26, purity=0.9615\n",
      "- Group theory (id=341) size=17, purity=0.9412\n",
      "- Set theory (id=840) size=15, purity=0.8667\n",
      "- Quantum mechanics (id=1702) size=15, purity=0.9333\n",
      "- Transforms (id=1927) size=13, purity=0.8462\n",
      "- National Basketball Association seasons (id=2453) size=12, purity=1.0000\n",
      "- Theory of computation (id=892) size=11, purity=1.0000\n",
      "- Theory of relativity (id=539) size=10, purity=0.8000\n",
      "- Materials science (id=1003) size=10, purity=0.8000\n",
      "- Measure theory (id=1246) size=10, purity=0.8000\n",
      "- Differential geometry (id=1386) size=10, purity=0.9000\n",
      "- Analog circuits (id=2458) size=10, purity=0.9000\n",
      "- Statistics (id=90) size=9, purity=1.0000\n",
      "- Orthogonal polynomials (id=985) size=9, purity=0.8889\n",
      "- Group theory (id=1222) size=9, purity=0.8889\n",
      "- Cartographic projections (id=1953) size=9, purity=1.0000\n",
      "- Abstract algebra (id=1140) size=8, purity=0.8750\n",
      "- Theory of computation (id=1588) size=8, purity=0.8750\n",
      "- Coding theory (id=128) size=7, purity=0.8571\n",
      "- Celestial mechanics (id=888) size=7, purity=0.8571\n",
      "- Propositional calculus (id=1081) size=7, purity=0.8571\n",
      "- Mechanics (id=1147) size=7, purity=0.8571\n",
      "- Abstract algebra (id=1232) size=7, purity=0.8571\n",
      "- Fluid mechanics (id=1685) size=7, purity=0.8571\n",
      "- Thermodynamic entropy (id=1700) size=7, purity=0.8571\n",
      "- Theoretical physics (id=2442) size=7, purity=1.0000\n",
      "- Fluid dynamics (id=2464) size=7, purity=1.0000\n",
      "- Algebraic curves (id=2486) size=7, purity=1.0000\n",
      "- Algebraic topology (id=177) size=6, purity=1.0000\n",
      "- Mathematical analysis (id=312) size=6, purity=0.8333\n",
      "- Lie groups (id=972) size=6, purity=0.8333\n",
      "- Measure theory (id=1043) size=6, purity=1.0000\n",
      "- Mathematical analysis (id=1799) size=6, purity=0.8333\n",
      "- Fluid dynamics (id=1808) size=6, purity=1.0000\n",
      "- Complex analysis (id=2198) size=6, purity=0.8333\n",
      "- Probability (id=2227) size=6, purity=0.8333\n",
      "- Acoustics (id=2362) size=6, purity=0.8333\n",
      "- Topology (id=2763) size=6, purity=0.8333\n",
      "- Constellations (id=2876) size=6, purity=1.0000\n",
      "- Polymer chemistry (id=30) size=5, purity=0.8000\n",
      "- Statistics (id=100) size=5, purity=0.8000\n",
      "- Algebraic varieties (id=139) size=5, purity=0.8000\n",
      "- Probability distributions (id=252) size=5, purity=1.0000\n",
      "- Graph theory (id=261) size=5, purity=0.8000\n",
      "- Enzyme kinetics (id=310) size=5, purity=1.0000\n",
      "- Group theory (id=463) size=5, purity=0.8000\n",
      "- Probability distributions (id=471) size=5, purity=0.8000\n",
      "- Quantum field theory (id=519) size=5, purity=1.0000\n",
      "- Metallic elements (id=939) size=5, purity=0.8000\n",
      "- Homological algebra (id=1135) size=5, purity=0.8000\n",
      "- Optimization algorithms and methods (id=1337) size=5, purity=1.0000\n",
      "- Statistics (id=1355) size=5, purity=0.8000\n",
      "- Chemical engineering (id=1535) size=5, purity=0.8000\n",
      "- Special functions (id=1683) size=5, purity=0.8000\n",
      "- Numerical analysis (id=1692) size=5, purity=0.8000\n",
      "- Group theory (id=1714) size=5, purity=0.8000\n",
      "- Numerical analysis (id=1892) size=5, purity=1.0000\n",
      "- Mathematical logic (id=1998) size=5, purity=0.8000\n",
      "- Statistics (id=2183) size=5, purity=0.8000\n",
      "- Euclidean plane geometry (id=2419) size=5, purity=0.8000\n",
      "- Classical mechanics (id=2455) size=5, purity=0.8000\n",
      "- Radio spectrum (id=2612) size=5, purity=0.8000\n",
      "- Mathematical analysis (id=2653) size=5, purity=0.8000\n",
      "- Pulmonology (id=2659) size=5, purity=0.8000\n",
      "- Applied and interdisciplinary physics (id=2681) size=5, purity=0.8000\n",
      "- Geometry (id=2706) size=5, purity=1.0000\n"
     ]
    }
   ],
   "source": [
    "evaluate.report_overall(km_grid_hyperparam_res[(500, 3000)], purity_threshold=0.8, sort_by='size')"
   ]
  },
  {
   "cell_type": "code",
   "execution_count": 211,
   "metadata": {
    "collapsed": false,
    "scrolled": true
   },
   "outputs": [
    {
     "name": "stdout",
     "output_type": "stream",
     "text": [
      "size: 9\n",
      "\n",
      "- Correlation and dependence (categories: Statistics, Dimensionless numbers, Theory of probability distributions, Statistical dependence, Physical constants, ...) degree series variables conditional x_i sample Y σ_X alternative ρ_x variance x_1 matrix s_y s_x measurements y_i expected coefficient random E form sets covariance standard y corr σ_x σ_Y X μ_X μ_Y notation population deviations pearson value n r values correlation σ_y x mean\n",
      "- Regression toward the mean (categories: Statistics, Statistical data types, Mathematical optimization, Statistical theory, Data analysis, ...) deviation coefficient x_i sample expressions points s_y s_x α β ε y_i objective function E minimization standard Q σ_y r_xy words σ_x Y X data m n p r yields correlation y x problem\n",
      "- Deming regression (categories: Statistics, Statistical data types, Mathematical optimization, Data analysis, Econometrics, ...) β_1x x_i errors β_0 β_1 β ε δ η observations σ η_i y_i S R Z data parallel variances ε_i m n p s error y x\n",
      "- Simple linear regression (categories: Statistics, Statistical data types, Signal processing, Mathematical optimization, Control theory, ...) slope function quantile x_i estimators expressions points ratio s_y s_x residuals α students only β ε y_j y_i objective mass y-intercept estimator ξ deviation t-distribution σ S_y S_x correlation exception standard Q S observations words variance height data s_α term s_β j m n p s r yields t error y x distribution\n",
      "- Mean and predicted response (categories: Statistics, Statistical data types, Signal processing, Mathematical optimization, Control theory, ...) x_d random x_i intervals decrease confidence matrix ϵ_i explanatory α β y_i y_d σ E M covariance T variable X response population d variances j m value n β_j error y x model mean\n",
      "- Additive model (categories: Statistics, Statistical data types, Mathematical optimization, Data analysis, Econometrics, ...) σ units E predictors β_0 smooth statistical j X_j functions f_j n p r ε y_i V Y ϵ outcome data\n",
      "- Projection pursuit regression (categories: Statistics, Statistical data types, Mathematical optimization, Data analysis, Econometrics, ...) set projection x_i directions appropriate variable unit row matrix β_0 β ε observations y_i columns vector inputs form component collection S particular Y X design observation column j f_j n β_j r x model order\n",
      "- Generalized additive model for location, scale and shape (categories: Statistics, Statistical models, Specific models, Regression analysis, Generalized linear models, ...) J_k j probability variable ν_i τ_i design η_1 η_3 η_2 matrix parameters density β_1 β_2 β_3 X_k response J_2 β observations y_i length ν μ σ τ η_k g_4 J g_1 g_3 g_2 T known model population f σ_i k μ_i n J_1 X_4 J_3 X_2 X_3 X_1 y distribution gamlss\n",
      "- Regression analysis (categories: Statistics, Applied mathematics, Fields of application of statistics, Statistical data types, Mathematical and quantitative methods (economics), ...) simple measurement estimates x_i sample variable n-p-1 modeling straight size errors combination β_0 β_1 β_2 measurements regression β ε y_i squares independent σ E linear form dependent error residual N average S Y X line data term observation f β_p ε_i j m n p length points regressors convenient y x model k mean\n",
      "\n",
      "common terms: (y_i n)\n",
      "top categories: [(u'Statistics', 9), (u'Statistical models', 8), (u'Regression analysis', 8), (u'Data analysis', 7), (u'Estimation theory', 7)]\n",
      "purity: 1.000\n",
      "relations:\n",
      "    E: (conditional mean: 1.72), (form: 0.88), (expected value: 0.86)\n",
      "    M: (covariance matrix: 0.89), (mean response: 0.83)\n",
      "    N: (measurements: 1.73), (sample size: 0.82)\n",
      "    Q: (objective function: 1.93), (residuals: 0.93), (r_xy: 0.81)\n",
      "    X: (design matrix: 0.99), (random variables: 0.95), (projection: 0.91), (unit vector: 0.86), (particular row: 0.83)\n",
      "    X_k: (length: 0.89), (known design matrix: 0.81)\n",
      "    Y: (regression model: 0.95), (variance: 0.91), (particular observation variable: 0.89), (expected values: 0.88), (population correlation coefficient ρ_X: 0.88), (random variables: 0.82)\n",
      "    corr: (alternative notation: 0.81), (covariance: 0.81)\n",
      "    f: (convenient form: 0.82)\n",
      "    f_j: (smooth functions: 0.89), (appropriate set: 0.86), (model: 0.83)\n",
      "    j: (observation: 0.87)\n",
      "    k: (length: 0.96), (measurements: 0.90)\n",
      "    m: (Height: 0.95), (straight line: 0.89)\n",
      "    n: (data points: 2.86), (observations: 2.66), (statistical units: 0.99), (measurements: 0.96), (modeling: 0.96), (length: 0.95), (predictors: 0.95), (probability: 0.93), (matrix: 0.92), (random variables X_1: 0.92), (series: 0.92), (order: 0.91), (correlation matrix: 0.90), (columns: 0.87), (simple linear regression: 0.86), (data: 0.83), (density: 0.81)\n",
      "    p: (regressors: 0.96), (n-p-1: 0.81)\n",
      "    r: (correlation: 0.95), (collection: 0.93), (Pearson: 0.89), (population: 0.84), (degree: 0.81)\n",
      "    s_x: (standard deviation: 1.79)\n",
      "    s_y: (standard deviation: 1.66), (sample standard deviations: 0.89)\n",
      "    s_β: (standard error: 0.87)\n",
      "    t: (Students: 0.99), (distribution: 0.99), (quantile: 0.99), (Students t-distribution: 0.89), (only exception: 0.83)\n",
      "    x: (standard deviation: 1.77), (correlation coefficient: 0.95), (inputs: 0.93), (sample correlation coefficient: 0.93), (Pearson: 0.89), (form: 0.89), (mean: 0.89), (mass: 0.89), (column vector: 0.87), (error: 0.87), (sets: 0.87), (average: 0.81), (correlation: 0.81), (ratio: 0.81), (squares estimates: 0.81)\n",
      "    x_d: (explanatory value: 0.93), (population: 0.84)\n",
      "    x_i: (data points: 1.66), (response variable: 0.95), (independent variable: 0.93), (explanatory variable: 0.89), (data: 0.83), (observations: 0.83)\n",
      "    y: (mean: 2.62), (population: 1.87), (correlation: 0.93), (distribution: 0.91), (response variable: 0.86), (error parallel: 0.84), (sample: 0.84), (correlation coefficient: 0.83), (standard deviation: 0.82), (sample correlation coefficient: 0.81)\n",
      "    y_d: (confidence intervals: 0.83)\n",
      "    y_i: (data points: 1.90), (dependent variable: 1.86), (model: 1.72), (observations: 0.99), (data: 0.95), (predictors: 0.95), (outcome: 0.89), (response variable: 0.89), (residual: 0.89), (linear combination: 0.87), (GAMLSS model: 0.83), (probability: 0.83)\n",
      "    α: (expressions: 1.77), (words: 1.73), (variances: 0.88), (y-intercept: 0.86), (estimators: 0.86), (random error: 0.86), (confidence intervals: 0.83)\n",
      "    β: (yields: 1.66), (slope: 0.86), (y-intercept: 0.86), (decrease: 0.83), (estimator: 0.82), (minimization problem: 0.81), (objective function: 0.81)\n",
      "    β_0: (β_1x: 0.95)\n",
      "    β_1: (straight line: 0.88)\n",
      "    β_j: (component: 0.93), (unit vector: 0.86), (directions: 0.84), (collection: 0.81)\n",
      "    δ: (variances: 0.89)\n",
      "    ε: (errors: 0.99), (error term: 0.89)\n",
      "    ε_i: (measurement errors: 0.96), (error term: 0.83)\n",
      "    η: (errors: 0.89)\n",
      "    η_k: (length: 0.83)\n",
      "    μ_X: (expected values: 0.99), (standard deviations: 0.83)\n",
      "    μ_Y: (standard deviations: 0.95), (expected values: 0.89)\n",
      "    μ_i: (population distribution parameters: 0.96)\n",
      "    σ: (variance: 1.79)\n",
      "    σ_X: (standard deviations: 0.99)\n",
      "    σ_Y: (standard deviations: 0.89)\n",
      "    σ_i: (population distribution parameters: 0.87)\n",
      "    σ_y: (deviations: 0.83)\n"
     ]
    }
   ],
   "source": [
    "evaluate.print_cluster(km_grid_hyperparam_res[(500, 3000)], 90, collection_weighting=0)"
   ]
  },
  {
   "cell_type": "code",
   "execution_count": 209,
   "metadata": {
    "collapsed": false,
    "scrolled": true
   },
   "outputs": [
    {
     "name": "stdout",
     "output_type": "stream",
     "text": [
      "size: 5\n",
      "\n",
      "- Cross-covariance (categories: Statistics, Applied mathematics, Fields of application of statistics, Signal processing, Telecommunications engineering, ...) random d g f components cross-covariance j covariance vector t vectors x Y X μ_X μ_Y order matrix\n",
      "- Bussgang theorem (categories: Statistics, Mathematical theorems, Probability theory, Statistical data types, Stochastic processes, ...) R_X π C nonlinear d g process random σ gaussian u t amplitude Y X distortion τ\n",
      "- Transfer entropy (categories: Statistics, Dynamical systems, Information theory, Time series analysis, Philosophy of science, ...) process H Y_t amount N X_t entropy t Y X shannon\n",
      "- Large deviations of Gaussian random functions (categories: Statistics, Applied mathematics, Probability theory, Statistical data types, Stochastic processes, ...) function deviation random sphere χ_a euler ξ maximal π C E normal M N P X standard g l value t distribution\n",
      "- Substitute good (categories: Microeconomics, Economic theories, Marketing, Consumer theory, Household behavior and family economics, ...) gross goods g X_i U t Y X substitute\n",
      "\n",
      "common terms: (X t)\n",
      "top categories: [(u'Statistics', 4), (u'Time series analysis', 2), (u'Probability theory', 2), (u'Stochastic processes', 2), (u'Applied mathematics', 2)]\n",
      "purity: 0.800\n",
      "relations:\n",
      "    C: (standard normal distribution: 7.51)\n",
      "    M: (maximal value: 8.35)\n",
      "    N: (standard normal distribution: 8.35)\n",
      "    X: (covariance: 14.24), (process: 12.38), (Goods: 9.21), (random vectors: 8.58), (random function: 8.47), (cross-covariance matrix: 7.88), (Shannon: 7.72), (standard deviation: 7.37), (components: 7.09), (entropy: 7.01), (random vector: 6.99)\n",
      "    Y: (process: 8.39), (Goods: 8.35), (gross substitute: 8.13), (random vectors: 7.72), (amount: 7.59), (order: 7.26)\n",
      "    g: (nonlinear amplitude distortion: 8.35), (Gaussian random process: 7.74)\n",
      "    t: (sphere: 7.40)\n",
      "    χ_a: (Euler: 15.83)\n"
     ]
    }
   ],
   "source": [
    "evaluate.print_cluster(km_grid_hyperparam_res[(500, 3000)], 100)"
   ]
  },
  {
   "cell_type": "code",
   "execution_count": 210,
   "metadata": {
    "collapsed": false,
    "scrolled": true
   },
   "outputs": [
    {
     "name": "stdout",
     "output_type": "stream",
     "text": [
      "size: 5\n",
      "\n",
      "- Law of large numbers (categories: Statistics, Mathematical theorems, Probability theory, Mathematical problem solving, Statistical theory, ...) Pr all occurrence probability sequence almost measurable convergence second value Θ event μ X_n positive question X_k X_i N_n ε expected θ φ_X common function σ E enough number moment surely n. heads X variance d g f k infinity l o n p s t X_1 approaches x average mean\n",
      "- Moment-generating function (categories: Probability theory, Probability distributions, Polynomials, Sequences and series, Theory of probability distributions, ...) origin stieltjes vector G_X probability sequence moments random integral d G_N integer nonnegative riemann Σ two-sided μ density X_n cumulative transform X_i M_Y M_X calculations mx m_3 m_2 m_1 F_X F_Y function moment-generating σ E G F of M P moment R T θ variable X λ S_n m_i b convolution m_n f -- φ_X k m l n p r X_2 t X_1 x distribution z laplace S_N\n",
      "- Random walk (categories: Physics, Statistics, Probability theory, Statistical data types, Concepts in physics, ...) neighbors random line graph environment ε D ω expectation P continuum randomness d l p steps t x fixed mean Z_1 Z_2 set p_i series d_w nonzero Φ sites state n-step R_x R_y R_z G component S path Z_j hits of k anomalous step length probability number walk size expected σ N R translation Z diffusion distance b j n z root S_1 S_0 S_3 S_2 S_5 S_4 X_k X_i X_t other δ μ π E X_1 hand S_n third element X_2 X_0 time y position the order S_N\n",
      "- Eaton's inequality (categories: Statistics, Mathematical theorems, Statistical theory, Mathematical relations, Scientific theories, ...) function probability variables random Φ cumulative X_i λ μ deviation b_i σ E b_n standard P ϕ Z rademacher S_n c b d edelmans f k density maximum value n eaton x distribution z mean\n",
      "- Central limit theorem (categories: Statistics, Mathematical theorems, Probability theory, Statistical theory, Terminology, ...) random stability entropy group density ( α parts ε theorem real monotonically D orthogonal expectation scaling P X condition d μ_i l p vector t characteristic s_n stationary martingale mean Pr M_n sequence rate Ξ matrix Φ restricted N_k ξ C α_n c O S expansion M_1 Z_n comparison cos central g k o s variance M_k Y_i probability x_n number c_1 size Σ asymptotic assumption µ function σ b_n factor covariance c_n R V convergence ^ b f variances value n r limit v distribution z constant universal sense Y_2 Y_1 sample sphere n_k distributions absolute functions ) X_k X_i r_k δ μ π E normal n_1 Y_n plane φ_1 φ_2 N S_n m X_n X_1\n",
      "\n",
      "common terms: (σ E d probability k X_i n μ)\n",
      "top categories: [(u'Statistics', 4), (u'Probability theory', 4), (u'Statistical theory', 3), (u'Mathematical theorems', 3), (u'Statistical theorems', 2)]\n",
      "purity: 0.800\n",
      "relations:\n",
      "    C: (universal ( absolute ) constant: 8.35)\n",
      "    E: (mean vector: 7.72), (probability: 6.47)\n",
      "    F: (Riemann -- Stieltjes integral: 8.35), (cumulative distribution function: 5.84)\n",
      "    G: (probability: 8.02), (root: 7.98), (graph: 4.92)\n",
      "    M_n: (martingale: 8.81)\n",
      "    N: (normal: 7.62), (normal distribution: 7.14), (distribution: 6.08)\n",
      "    N_n: (occurrence: 8.13)\n",
      "    O: (assumption α_n: 8.53), (orthogonal group: 6.35)\n",
      "    P: (Rademacher random variables: 8.64)\n",
      "    R: (random vector: 7.93), (plane: 5.78), (distance: 5.14)\n",
      "    R_x: (component: 9.21)\n",
      "    R_y: (component: 8.35)\n",
      "    R_z: (third: 7.74)\n",
      "    S_0: (series: 7.74)\n",
      "    S_n: (maximum value: 8.86), (moment-generating function: 8.86), (probability density function: 8.64), (series: 8.59), (sample: 8.48), (distribution: 8.16), (convolution: 8.13), (limit µ: 7.97), (expectation: 7.80)\n",
      "    T: (random vector: 7.74)\n",
      "    X: (restricted expectation: 8.05), (moment-generating function: 7.40), (random variable: 4.96)\n",
      "    X_1: (variance: 7.70)\n",
      "    X_i: (moment-generating function: 7.74), (neighbors: 7.62), (distribution: 7.16)\n",
      "    X_k: (r_k cos: 8.31), (second moment: 7.74)\n",
      "    X_n: (sequence: 6.56)\n",
      "    X_t: (position: 8.59)\n",
      "    Y_n: (stationary sequence: 8.35)\n",
      "    Z: (random walk: 15.51), (number line: 8.48)\n",
      "    Z_n: (characteristic function: 8.86), (entropy: 8.24), (monotonically: 8.24)\n",
      "    b: (hits: 8.99), (walk: 7.80)\n",
      "    b_n: (scaling factor: 9.21)\n",
      "    c_1: (sphere: 8.54)\n",
      "    d: (random n-step path: 8.35), (sites: 7.74)\n",
      "    d_w: (anomalous diffusion: 7.74)\n",
      "    f: (enough n.: 8.57), (asymptotic expansion: 7.87), (rate: 7.05), (sequence: 6.63)\n",
      "    j: (state: 11.64), (probability P_i: 8.64)\n",
      "    k: (mean vector: 7.77), (random vector: 6.96)\n",
      "    m_i: (origin: 8.86), (Calculations of moments: 8.35)\n",
      "    m_n: (moment: 7.74)\n",
      "    n: (steps: 13.62), (of the order of: 8.80), (Eaton: 8.58), (translation distance: 8.58), (value µ: 8.13), (heads: 7.95), (expected: 7.94), (almost surely: 7.80), (element set: 7.63), (average: 7.48), (approaches infinity: 7.35), (probability distribution: 6.78), (random sample: 6.58), (nonnegative integer: 6.22), (size: 4.59)\n",
      "    p: (probability density functions: 8.64), (question: 8.26), (Comparison: 7.51), (occurrence: 7.51), (event: 5.89), (probability: 4.96)\n",
      "    s_n: (distribution: 8.13)\n",
      "    t: (function Mx: 8.31), (fixed position: 8.24), (continuum: 8.05), (time: 2.56)\n",
      "    x: (probability density function: 11.87), (measurable function: 7.95), (two-sided Laplace transform: 7.74), (enough n.: 7.51), (almost all: 7.37), (cumulative distribution function: 6.55)\n",
      "    z: (sense: 7.77), (real number: 7.43), (convergence: 7.40)\n",
      "    Θ: (almost all: 8.53)\n",
      "    Ξ: (Distributions: 9.21)\n",
      "    Σ: (covariance matrix: 13.94)\n",
      "    Φ: (Edelmans: 8.35)\n",
      "    α: (x_n ^: 7.73), (stability: 7.70)\n",
      "    δ: (condition: 8.16)\n",
      "    ε: (length L: 8.71), (step size: 8.57), (random walk: 8.53), (positive number: 7.65), (size: 7.39)\n",
      "    θ: (sequence: 8.02), (convergence: 7.54)\n",
      "    μ: (mean vector: 8.04), (random number: 8.01), (nonzero: 7.59), (common mean: 7.12), (expected value: 6.98), (mean: 5.14)\n",
      "    μ_i: (variance: 8.64)\n",
      "    ξ: (central limit theorem: 7.51)\n",
      "    σ: (mean: 12.57), (variance: 10.02), (steps: 7.46), (variances: 6.68), (standard deviation: 5.04)\n",
      "    φ_1: (parts: 8.64)\n",
      "    ω: (environment: 8.87), (randomness: 8.20), (other hand: 7.69), (random walk: 7.63)\n"
     ]
    }
   ],
   "source": [
    "evaluate.print_cluster(km_grid_hyperparam_res[(500, 3000)], 2183)"
   ]
  },
  {
   "cell_type": "code",
   "execution_count": null,
   "metadata": {
    "collapsed": true
   },
   "outputs": [],
   "source": []
  }
 ],
 "metadata": {
  "kernelspec": {
   "display_name": "Python 2",
   "language": "python",
   "name": "python2"
  }
 },
 "nbformat": 4,
 "nbformat_minor": 0
}
