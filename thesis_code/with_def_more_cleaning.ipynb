{
 "cells": [
  {
   "cell_type": "code",
   "execution_count": 1,
   "metadata": {
    "collapsed": true
   },
   "outputs": [],
   "source": [
    "import numpy as np\n",
    "import pandas as pd\n",
    "import matplotlib.pyplot as plt\n",
    "\n",
    "import json\n",
    "import os\n",
    "from collections import Counter\n",
    "\n",
    "from time import time\n",
    "\n",
    "%matplotlib inline\n",
    "\n",
    "import scipy.sparse"
   ]
  },
  {
   "cell_type": "code",
   "execution_count": 2,
   "metadata": {
    "collapsed": true
   },
   "outputs": [],
   "source": [
    "import matplotlib\n",
    "matplotlib.rcParams['mathtext.fontset'] = 'stix'\n",
    "matplotlib.rcParams['font.family'] = 'STIXGeneral'\n",
    "matplotlib.rc('axes', labelsize='large') "
   ]
  },
  {
   "cell_type": "code",
   "execution_count": 3,
   "metadata": {
    "collapsed": true
   },
   "outputs": [],
   "source": [
    "def id_counter(id_list):\n",
    "    cnt = Counter()\n",
    "    for el in id_list:\n",
    "        cnt[el[u'element']] = el[u'count']\n",
    "    return cnt\n",
    "\n",
    "def_black_list = { 'unit', 'units', 'value', 'values', 'axis', 'axes', 'factor', 'factors', 'line', 'lines',\n",
    "                 'point', 'points', 'number', 'numbers', 'variable', 'variables', 'respect', 'case', 'cases',\n",
    "                 'vector', 'vectors', 'element', 'elements', 'example', \n",
    "                 'integer', 'integers', 'term', 'terms', 'parameter', 'parameters', 'coefficient', 'coefficients',\n",
    "                 'formula', 'times', 'product', 'matrices', 'expression', 'complex', 'real', 'zeros', 'bits',\n",
    "                 'sign',\n",
    "                 'if and only if',\n",
    "                 'alpha', 'beta', 'gamma', 'delta', 'epsilon', 'zeta', 'eta', 'theta', 'iota', 'kappa', 'lambda', \n",
    "                 'mu', 'nu', 'xi', 'omicron', 'pi', 'rho', 'sigma', 'tau', 'upsilon', 'phi', 'chi', 'psi', 'omega'}\n",
    "\n",
    "def valid_def(definition):\n",
    "    if len(definition) <= 3:\n",
    "        return False\n",
    "\n",
    "    return definition.lower() not in def_black_list\n",
    "\n",
    "def rel_to_dict(rels):\n",
    "    res = defaultdict(list)\n",
    "    for r in rels:\n",
    "        if not valid_def(r['definition']):\n",
    "            continue\n",
    "        res[r['identifier']].append((r['definition'], r['score']))\n",
    "    return res"
   ]
  },
  {
   "cell_type": "code",
   "execution_count": 4,
   "metadata": {
    "collapsed": true
   },
   "outputs": [],
   "source": [
    "from collections import defaultdict\n",
    "\n",
    "doc_categories = defaultdict(set)\n",
    "category_docs = defaultdict(set)\n",
    "\n",
    "for line in file('C:/tmp/mlp/category_info_refined.txt'):\n",
    "    title, cat = line.strip().split('\\t')\n",
    "    title = title.decode('utf-8')\n",
    "    cat = cat.decode('utf-8')\n",
    "\n",
    "    # let's also remove all documents from \"OTHER\" category\n",
    "    if cat == u'OTHER':\n",
    "        continue\n",
    "\n",
    "    doc_categories[title].add(cat) \n",
    "    category_docs[cat].add(title)"
   ]
  },
  {
   "cell_type": "code",
   "execution_count": 5,
   "metadata": {
    "collapsed": false
   },
   "outputs": [
    {
     "name": "stdout",
     "output_type": "stream",
     "text": [
      "0 0 7501\n",
      "22512\n"
     ]
    }
   ],
   "source": [
    "root = 'C:/tmp/mlp/mlp-output/'\n",
    "\n",
    "docs = []\n",
    "titles = []\n",
    "ids = []\n",
    "rels = []\n",
    "\n",
    "empty = 0\n",
    "small = 0\n",
    "uncategorized = 0\n",
    "\n",
    "for f in os.listdir(root): \n",
    "    for line in file(root + f):\n",
    "        doc = json.loads(line)\n",
    "\n",
    "        title = doc['title']        \n",
    "        if title not in doc_categories:\n",
    "            uncategorized = uncategorized + 1\n",
    "            continue\n",
    "\n",
    "        if '(disambiguation)' in title:\n",
    "            continue\n",
    "\n",
    "        id_bag = id_counter(doc['identifiers'])\n",
    "        if len(id_bag) <= 1:\n",
    "            if len(id_bag) == 0:\n",
    "                empty = empty + 1\n",
    "            else:\n",
    "                small = small + 1\n",
    "            continue\n",
    "\n",
    "        docs.append(doc)\n",
    "        titles.append(title)\n",
    "        ids.append(id_bag)\n",
    "\n",
    "        id_rels = rel_to_dict(doc['relations'])\n",
    "        rels.append(id_rels)\n",
    "\n",
    "print empty, small, uncategorized\n",
    "\n",
    "N_doc = len(ids)\n",
    "print N_doc"
   ]
  },
  {
   "cell_type": "markdown",
   "metadata": {},
   "source": [
    "## Some stats"
   ]
  },
  {
   "cell_type": "code",
   "execution_count": 6,
   "metadata": {
    "collapsed": true
   },
   "outputs": [],
   "source": [
    "cnt = Counter()\n",
    "\n",
    "for id_list in ids:\n",
    "    cnt.update(id_list)"
   ]
  },
  {
   "cell_type": "code",
   "execution_count": 53,
   "metadata": {
    "collapsed": false
   },
   "outputs": [],
   "source": [
    "cnt_pd = pd.Series(cnt.values())\n",
    "cnt_pd.sort(ascending=0, inplace=1)"
   ]
  },
  {
   "cell_type": "code",
   "execution_count": 56,
   "metadata": {
    "collapsed": false
   },
   "outputs": [
    {
     "data": {
      "image/png": "[encoded data removed]",
      "text/plain": [
       "<matplotlib.figure.Figure at 0x42a0fd30>"
      ]
     },
     "metadata": {},
     "output_type": "display_data"
    },
    {
     "data": {
      "image/png": "[encoded data removed]",
      "text/plain": [
       "<matplotlib.figure.Figure at 0x412c96d8>"
      ]
     },
     "metadata": {},
     "output_type": "display_data"
    }
   ],
   "source": [
    "cnt_pd[:50].plot(kind='area', use_index=0, figsize=(4, 3), color='black')\n",
    "plt.ylabel('counts')\n",
    "plt.xlabel('identifiers')\n",
    "plt.tight_layout()\n",
    "\n",
    "plt.savefig('figures/en-wiki-ids-1.pdf', format='pdf')\n",
    "plt.show()\n",
    "\n",
    "cnt_pd.plot(use_index=0, logy=1, logx=1, grid=1, figsize=(4, 3), color='black')\n",
    "plt.ylabel('counts, log scale')\n",
    "plt.xlabel('identifiers, log scale')\n",
    "plt.tight_layout()\n",
    "\n",
    "plt.savefig('figures/en-wiki-ids-2-log.pdf', format='pdf')\n",
    "plt.show()"
   ]
  },
  {
   "cell_type": "code",
   "execution_count": 9,
   "metadata": {
    "collapsed": false,
    "scrolled": true
   },
   "outputs": [
    {
     "data": {
      "text/plain": [
       "[(u'x', 125514),\n",
       " (u'p', 109454),\n",
       " (u'm', 105728),\n",
       " (u'n', 83983),\n",
       " (u't', 77913),\n",
       " (u'd', 60600),\n",
       " (u'k', 41689),\n",
       " (u'f', 40035),\n",
       " (u'y', 38444),\n",
       " (u'r', 37024),\n",
       " (u'b', 29610),\n",
       " (u'c', 27876),\n",
       " (u'z', 27780),\n",
       " (u's', 26366),\n",
       " (u'g', 25935),\n",
       " (u'T', 25732),\n",
       " (u'X', 25500),\n",
       " (u'R', 24067),\n",
       " (u'\\u03b1', 23084),\n",
       " (u'l', 21980)]"
      ]
     },
     "execution_count": 9,
     "metadata": {},
     "output_type": "execute_result"
    }
   ],
   "source": [
    "cnt.most_common(20)"
   ]
  },
  {
   "cell_type": "code",
   "execution_count": 10,
   "metadata": {
    "collapsed": false
   },
   "outputs": [],
   "source": [
    "density = pd.Series([sum(l.values()) for l in ids])\n",
    "density.sort(inplace=1, ascending=0)"
   ]
  },
  {
   "cell_type": "code",
   "execution_count": 39,
   "metadata": {
    "collapsed": false
   },
   "outputs": [
    {
     "data": {
      "image/png": "[encoded data removed]",
      "text/plain": [
       "<matplotlib.figure.Figure at 0x326f02e8>"
      ]
     },
     "metadata": {},
     "output_type": "display_data"
    }
   ],
   "source": [
    "density[:80].plot(kind='area', use_index=0, figsize=(8, 2), color='black')\n",
    "plt.ylabel('identifiers')\n",
    "plt.xlabel('documents')\n",
    "plt.tight_layout()\n",
    "\n",
    "plt.savefig('figures/en-wiki-doc-ids-1.pdf', format='pdf')\n",
    "plt.show()"
   ]
  },
  {
   "cell_type": "code",
   "execution_count": 22,
   "metadata": {
    "collapsed": false
   },
   "outputs": [
    {
     "data": {
      "text/plain": [
       "count    22512.000000\n",
       "mean        85.238539\n",
       "std        219.156659\n",
       "min          2.000000\n",
       "25%         12.000000\n",
       "50%         33.000000\n",
       "75%         91.000000\n",
       "max      22766.000000\n",
       "dtype: float64"
      ]
     },
     "execution_count": 22,
     "metadata": {},
     "output_type": "execute_result"
    }
   ],
   "source": [
    "density.describe()"
   ]
  },
  {
   "cell_type": "code",
   "execution_count": 127,
   "metadata": {
    "collapsed": false
   },
   "outputs": [
    {
     "data": {
      "text/plain": [
       "20848    22766\n",
       "7569      6528\n",
       "4035      4004\n",
       "4275      3175\n",
       "9817      3051\n",
       "4226      2407\n",
       "7523      2397\n",
       "14455     2162\n",
       "4729      1934\n",
       "11510     1813\n",
       "dtype: int64"
      ]
     },
     "execution_count": 127,
     "metadata": {},
     "output_type": "execute_result"
    }
   ],
   "source": [
    "density[:10]"
   ]
  },
  {
   "cell_type": "code",
   "execution_count": 12,
   "metadata": {
    "collapsed": false
   },
   "outputs": [
    {
     "data": {
      "text/plain": [
       "(u'Euclidean algorithm', u'Lambda lifting')"
      ]
     },
     "execution_count": 12,
     "metadata": {},
     "output_type": "execute_result"
    }
   ],
   "source": [
    "titles[20848], titles[7569]"
   ]
  },
  {
   "cell_type": "code",
   "execution_count": 16,
   "metadata": {
    "collapsed": false
   },
   "outputs": [
    {
     "name": "stdout",
     "output_type": "stream",
     "text": [
      "s (2372), t (2309), r (2044), n (2018), o (1692), u (1353), b (1282), h (1200), l (1142), d (1006), m (964), c (808), p (686), g (593), f (590), v (338), y (299), x (298), w (240), k (200), T (146), q (143), E (117), N (92), C (89), D (70), S (70), G (64), z (54), B (52), H (46), F (39), M (39), L (35), j (31), P (29), O (23), R (19), J (18), K (14), W (14), V (12), q_0 (8), Y (8), q_1 (7), r_0 (7), U (6), r_1 (6), π (5), Q (4), q_2 (4), q_N (4), X (3), h_i (3), τ (3), ϕ (2), s_r (2), t_a (2), m_12 (2), m_11 (2), t_1964 (2), m_22 (2), m_21 (2), q_i (2), r_2 (2), p_E (1), n_1954 (1), l_1983 (1), s_1832 (1), g_1983 (1), m_k (1), ϵ (1), s_A (1), g_U (1), ζ (1), n_1962 (1), Λ (1), γ (1), c_E (1), f_l (1), q_k (1), r_W (1), n_k (1), n_d (1), n_a (1), h_T (1), s_1994 (1), y_2002 (1), r_k (1), h_0 (1), r_21 (1), r_216 (1), z_2003 (1)\n"
     ]
    }
   ],
   "source": [
    "print u', '.join([u'%s (%d)' % f for f in ids[20848].most_common()])"
   ]
  },
  {
   "cell_type": "code",
   "execution_count": 17,
   "metadata": {
    "collapsed": false
   },
   "outputs": [
    {
     "name": "stdout",
     "output_type": "stream",
     "text": [
      "x (927), f (701), p (534), λ (525), q (354), V (343), D (288), de (161), lambda (161), n (160), E (157), y (127), g (117), F (117), build (98), param (95), let (95), m (78), L (76), lists (72), X (69), drop (62), o (59), N (53), G (50), S (44), Y (44), get (37), params (37), lift (36), S_3 (34), F_6 (30), S_6 (29), H (28), M (28), F_3 (27), S_4 (27), choice (26), list (26), K (25), F_2 (24), F_1 (22), tran (22), W (22), K_2 (22), sink (21), R (21), F_4 (20), combine (18), F_7 (18), S_5 (18), P (16), S_1 (16), S_2 (16), S_7 (16), K_1 (14), F_5 (14), K_5 (11), formal (10), ¬ (10), F_9 (9), test (9), call (8), B (8), make (8), free (7), anon (7), S_8 (7), F_10 (6), M_1 (6), N_1 (6), S_9 (6), T_3 (6), T_6 (6), L_3 (5), M_2 (5), N_2 (5), Z (5), T_1 (5), K_10 (4), L_2 (4), merge (4), named (4), v (4), S_10 (4), T_2 (4), T_7 (4), T_4 (4), T_5 (4), K_9 (4), L_1 (4), K_7 (4), F_8 (3), w (3), apply (3), process (3), K_3 (3), K_4 (3), K_6 (3), t (2), M_3 (2), N_3 (2), T_10 (2), r (2), T_8 (2), T_9 (2), u (2), op (2), T (2), x_1 (1), x_n (1), K_8 (1)\n"
     ]
    }
   ],
   "source": [
    "print u', '.join([u'%s (%d)' % f for f in ids[7569].most_common()])"
   ]
  },
  {
   "cell_type": "code",
   "execution_count": 28,
   "metadata": {
    "collapsed": false
   },
   "outputs": [],
   "source": [
    "uniq_density = pd.Series([len(l.values()) for l in ids])\n",
    "uniq_density.sort(inplace=1, ascending=0)"
   ]
  },
  {
   "cell_type": "code",
   "execution_count": 40,
   "metadata": {
    "collapsed": false
   },
   "outputs": [
    {
     "data": {
      "image/png": "[encoded data removed]",
      "text/plain": [
       "<matplotlib.figure.Figure at 0x34c42d30>"
      ]
     },
     "metadata": {},
     "output_type": "display_data"
    }
   ],
   "source": [
    "uniq_density[:80].plot(kind='area', use_index=0, figsize=(8, 2), color='black')\n",
    "plt.ylabel('distinct identifiers')\n",
    "plt.xlabel('documents')\n",
    "plt.tight_layout()\n",
    "\n",
    "plt.savefig('figures/en-wiki-doc-ids-2.pdf', format='pdf')\n",
    "plt.show()"
   ]
  },
  {
   "cell_type": "code",
   "execution_count": 34,
   "metadata": {
    "collapsed": false
   },
   "outputs": [
    {
     "data": {
      "text/plain": [
       "count    22512.000000\n",
       "mean        13.736541\n",
       "std         12.809700\n",
       "min          2.000000\n",
       "25%          5.000000\n",
       "50%         10.000000\n",
       "75%         18.000000\n",
       "max        287.000000\n",
       "dtype: float64"
      ]
     },
     "execution_count": 34,
     "metadata": {},
     "output_type": "execute_result"
    }
   ],
   "source": [
    "uniq_density.describe()"
   ]
  },
  {
   "cell_type": "code",
   "execution_count": 33,
   "metadata": {
    "collapsed": false
   },
   "outputs": [
    {
     "name": "stdout",
     "output_type": "stream",
     "text": [
      "4226     287\n",
      "21943    194\n",
      "9817     157\n",
      "863      157\n",
      "6822     155\n",
      "3008     127\n",
      "16829    121\n",
      "10966    119\n",
      "7523     116\n",
      "10507    115\n",
      "dtype: int64\n",
      "Hooke's law\n",
      "Dimensionless quantity\n"
     ]
    }
   ],
   "source": [
    "print uniq_density[:10]\n",
    "\n",
    "print titles[4226]\n",
    "print titles[21943]"
   ]
  },
  {
   "cell_type": "code",
   "execution_count": 42,
   "metadata": {
    "collapsed": true
   },
   "outputs": [],
   "source": [
    "def_density = pd.Series([len(l) for l in rels])\n",
    "def_density.sort(inplace=1, ascending=0)"
   ]
  },
  {
   "cell_type": "code",
   "execution_count": 45,
   "metadata": {
    "collapsed": false
   },
   "outputs": [
    {
     "data": {
      "image/png": "[encoded data removed]",
      "text/plain": [
       "<matplotlib.figure.Figure at 0x326bada0>"
      ]
     },
     "metadata": {},
     "output_type": "display_data"
    }
   ],
   "source": [
    "def_density[:80].plot(kind='area', use_index=0, figsize=(8, 2), color='black')\n",
    "plt.ylabel('definitions')\n",
    "plt.xlabel('documents')\n",
    "plt.tight_layout()\n",
    "\n",
    "plt.savefig('figures/en-wiki-doc-def.pdf', format='pdf')\n",
    "plt.show()"
   ]
  },
  {
   "cell_type": "code",
   "execution_count": 46,
   "metadata": {
    "collapsed": false,
    "scrolled": true
   },
   "outputs": [
    {
     "data": {
      "text/plain": [
       "count    22512.000000\n",
       "mean         5.121580\n",
       "std          5.285136\n",
       "min          0.000000\n",
       "25%          2.000000\n",
       "50%          4.000000\n",
       "75%          7.000000\n",
       "max         91.000000\n",
       "dtype: float64"
      ]
     },
     "execution_count": 46,
     "metadata": {},
     "output_type": "execute_result"
    }
   ],
   "source": [
    "def_density.describe()"
   ]
  },
  {
   "cell_type": "markdown",
   "metadata": {},
   "source": [
    "## Loading data: continued"
   ]
  },
  {
   "cell_type": "code",
   "execution_count": 7,
   "metadata": {
    "collapsed": false
   },
   "outputs": [
    {
     "name": "stdout",
     "output_type": "stream",
     "text": [
      "22512\n"
     ]
    }
   ],
   "source": [
    "title_idx = {title: idx for (idx, title) in enumerate(titles)}\n",
    "\n",
    "for doc, cats in doc_categories.items():\n",
    "    if doc in title_idx:\n",
    "        continue\n",
    "\n",
    "    for cat in cats: \n",
    "        category_docs[cat].remove(doc)\n",
    "    \n",
    "    del doc_categories[doc]\n",
    "\n",
    "print len(doc_categories)"
   ]
  },
  {
   "cell_type": "code",
   "execution_count": 8,
   "metadata": {
    "collapsed": true
   },
   "outputs": [],
   "source": [
    "doc_categories_list = [doc_categories[doc] for doc in titles]"
   ]
  },
  {
   "cell_type": "markdown",
   "metadata": {},
   "source": [
    "Let's remove definitions that occur just once - they are most likely noise"
   ]
  },
  {
   "cell_type": "code",
   "execution_count": 9,
   "metadata": {
    "collapsed": false
   },
   "outputs": [
    {
     "name": "stdout",
     "output_type": "stream",
     "text": [
      "[(u'time', 2464), (u'length', 1325), (u'distance', 1246), (u'matrix', 1230), (u'form', 1199), (u'radius', 1115), (u'mass', 1080), (u'angle', 1030), (u'order', 951), (u'sequence', 913), (u'degree', 904), (u'field', 880), (u'space', 879), (u'group', 786), (u'probability', 777), (u'temperature', 771), (u'velocity', 753), (u'constants', 735), (u'dimension', 714), (u'density', 700), (u'state', 661), (u'frequency', 640)]\n"
     ]
    }
   ],
   "source": [
    "def_freq = Counter()\n",
    "\n",
    "for def_dict in rels: \n",
    "    for id, def_list in def_dict.items():\n",
    "        def_freq.update([d for d, s in def_list])\n",
    "\n",
    "print def_freq.most_common(22)"
   ]
  },
  {
   "cell_type": "code",
   "execution_count": 10,
   "metadata": {
    "collapsed": false
   },
   "outputs": [
    {
     "name": "stdout",
     "output_type": "stream",
     "text": [
      "35144\n"
     ]
    }
   ],
   "source": [
    "low_freq_def = {id for id, cnt in def_freq.items() if cnt == 1}\n",
    "print len(low_freq_def)\n",
    "\n",
    "for def_dict in rels: \n",
    "    for id, def_list in def_dict.items():\n",
    "        clean_def_list = []\n",
    "        for definition, score in def_list:\n",
    "            if definition not in low_freq_def:\n",
    "                clean_def_list.append((definition, score))\n",
    "        \n",
    "        if not clean_def_list:\n",
    "            del def_dict[id]\n",
    "        else:\n",
    "            def_dict[id] = clean_def_list"
   ]
  },
  {
   "cell_type": "markdown",
   "metadata": {},
   "source": [
    "Let's keep a copy of identifiers"
   ]
  },
  {
   "cell_type": "code",
   "execution_count": 11,
   "metadata": {
    "collapsed": true
   },
   "outputs": [],
   "source": [
    "ids = [id_counter(d['identifiers']) for d in docs]"
   ]
  },
  {
   "cell_type": "code",
   "execution_count": 12,
   "metadata": {
    "collapsed": true
   },
   "outputs": [],
   "source": [
    "import cluster_evaluation"
   ]
  },
  {
   "cell_type": "code",
   "execution_count": 13,
   "metadata": {
    "collapsed": false
   },
   "outputs": [],
   "source": [
    "reload(cluster_evaluation)\n",
    "evaluate = cluster_evaluation.Evaluator(doc_titles=titles, doc_ids=ids, \n",
    "                                        doc_ids_definitions=rels, doc_categories=doc_categories_list)"
   ]
  },
  {
   "cell_type": "code",
   "execution_count": 14,
   "metadata": {
    "collapsed": false,
    "scrolled": false
   },
   "outputs": [],
   "source": [
    "all_ids = Counter()\n",
    "\n",
    "for id_cnt in ids:\n",
    "    all_ids.update(id_cnt)\n",
    "\n",
    "infrequent = set()\n",
    "min_count = 2\n",
    "\n",
    "for (el, cnt) in all_ids.items():\n",
    "    if cnt <= min_count:\n",
    "        infrequent.add(el)\n",
    "\n",
    "for id_cnt in ids:\n",
    "    for id in (set(id_cnt) & infrequent):\n",
    "        del id_cnt[id]\n",
    "\n",
    "del all_ids\n",
    "del infrequent"
   ]
  },
  {
   "cell_type": "markdown",
   "metadata": {},
   "source": [
    "for def_dict in rels: \n",
    "    common = set(def_dict) & mc\n",
    "    for id in common:\n",
    "        del def_dict[id]"
   ]
  },
  {
   "cell_type": "markdown",
   "metadata": {},
   "source": [
    "Now let's incorporate definitions into the vector space"
   ]
  },
  {
   "cell_type": "code",
   "execution_count": 15,
   "metadata": {
    "collapsed": true
   },
   "outputs": [],
   "source": [
    "from nltk.stem import SnowballStemmer\n",
    "snowball_stemmer = SnowballStemmer('english')"
   ]
  },
  {
   "cell_type": "code",
   "execution_count": 16,
   "metadata": {
    "collapsed": true
   },
   "outputs": [],
   "source": [
    "for idx in xrange(N_doc):\n",
    "    vals = rels[idx].items()\n",
    "    id_list = ids[idx]\n",
    "\n",
    "    for id, definitions in vals:\n",
    "        for definition, score in definitions:\n",
    "            unigrams = definition.lower().split()\n",
    "            id_list[id] = id_list[id] + 1\n",
    "            \n",
    "            for unigram in unigrams:\n",
    "                stem = snowball_stemmer.stem(unigram)\n",
    "                id_list[stem] = id_list[stem] + 1"
   ]
  },
  {
   "cell_type": "code",
   "execution_count": 17,
   "metadata": {
    "collapsed": false
   },
   "outputs": [
    {
     "data": {
      "text/plain": [
       "Counter({u'R': 4, u'digit': 2, u'check': 2, u'N_4': 1, u'N_1': 1, u'N_2': 1, u'N_3': 1, u'remaind': 1})"
      ]
     },
     "execution_count": 17,
     "metadata": {},
     "output_type": "execute_result"
    }
   ],
   "source": [
    "ids[201]"
   ]
  },
  {
   "cell_type": "markdown",
   "metadata": {},
   "source": [
    "## Random assignment"
   ]
  },
  {
   "cell_type": "code",
   "execution_count": 14,
   "metadata": {
    "collapsed": false
   },
   "outputs": [],
   "source": [
    "cluster_ids_base = np.arange(0, N_doc) / 3"
   ]
  },
  {
   "cell_type": "code",
   "execution_count": 15,
   "metadata": {
    "collapsed": false
   },
   "outputs": [
    {
     "name": "stdout",
     "output_type": "stream",
     "text": [
      "26 20 23 28 35 26 30 26 21 34 17 25 25 22 27 20 22 25 25 22 27 25 16 24 29 28 19 30 27 30 26 30 30 24 26 20 28 28 19 24 33 24 21 21 18 22 16 17 18 19 26 28 20 27 25 31 26 28 20 27 18 21 21 19 21 26 24 26 30 35 28 18 27 29 17 18 18 20 22 19 27 29 16 17 23 26 19 24 29 27 34 36 25 21 19 25 27 22 25 30 26 23 28 26 20 30 22 25 29 25 20 16 24 26 25 24 28 22 25 21 19 21 21 19 25 34 21 28 23 26 23 23 24 18 26 22 22 22 24 18 31 28 24 16 27 26 23 26 26 23 21 23 21 28 22 27 18 25 19 19 17 30 23 26 22 21 19 20 29 29 23 19 20 29 17 18 22 17 19 32 19 25 16 25 29 23 26 17 21 27 21 26 23 39 22 27 18 22 25 16\n"
     ]
    }
   ],
   "source": [
    "total = []\n",
    "for i in xrange(200):\n",
    "    np.random.shuffle(cluster_ids_base)\n",
    "    res = len(evaluate.high_purity_clusters(cluster_ids_base, threshold=0.8, min_size=3))\n",
    "    print res,\n",
    "    total.append(res)"
   ]
  },
  {
   "cell_type": "code",
   "execution_count": 27,
   "metadata": {
    "collapsed": false
   },
   "outputs": [
    {
     "data": {
      "text/plain": [
       "array([16, 17, 18, 19, 20, 21, 22, 23, 24, 25, 26, 27, 28, 29, 30, 31, 32,\n",
       "       33, 34, 35, 36, 39])"
      ]
     },
     "execution_count": 27,
     "metadata": {},
     "output_type": "execute_result"
    }
   ],
   "source": [
    "np.unique(total)"
   ]
  },
  {
   "cell_type": "code",
   "execution_count": 29,
   "metadata": {
    "collapsed": false
   },
   "outputs": [
    {
     "data": {
      "text/plain": [
       "count    200.000000\n",
       "mean      23.850000\n",
       "std        4.539885\n",
       "min       16.000000\n",
       "25%       20.000000\n",
       "50%       24.000000\n",
       "75%       27.000000\n",
       "max       39.000000\n",
       "dtype: float64"
      ]
     },
     "execution_count": 29,
     "metadata": {},
     "output_type": "execute_result"
    }
   ],
   "source": [
    "pd.Series(total).describe()"
   ]
  },
  {
   "cell_type": "code",
   "execution_count": 31,
   "metadata": {
    "collapsed": false
   },
   "outputs": [
    {
     "data": {
      "image/png": "[encoded data removed]",
      "text/plain": [
       "<matplotlib.figure.Figure at 0x340ece10>"
      ]
     },
     "metadata": {},
     "output_type": "display_data"
    }
   ],
   "source": [
    "plt.figure(figsize=(5, 2))\n",
    "plt.hist(total, bins=24, color='gray')\n",
    "\n",
    "plt.xlabel('no. clusters')\n",
    "plt.ylabel('frequency')\n",
    "\n",
    "plt.tight_layout()\n",
    "\n",
    "plt.savefig('figures/baseline.pdf', format='pdf')\n",
    "\n",
    "plt.show()"
   ]
  },
  {
   "cell_type": "markdown",
   "metadata": {},
   "source": [
    "##  K-means"
   ]
  },
  {
   "cell_type": "code",
   "execution_count": 20,
   "metadata": {
    "collapsed": true
   },
   "outputs": [],
   "source": [
    "from sklearn.feature_extraction.text import TfidfVectorizer\n",
    "from sklearn.decomposition import TruncatedSVD, randomized_svd"
   ]
  },
  {
   "cell_type": "code",
   "execution_count": 21,
   "metadata": {
    "collapsed": true
   },
   "outputs": [],
   "source": [
    "def unwrap_counter(cnt):\n",
    "    res = []\n",
    "    for id, c in cnt.items():\n",
    "        res.extend([id] * c)\n",
    "    return res\n",
    "\n",
    "vectorizer = TfidfVectorizer(analyzer=unwrap_counter, use_idf=True, sublinear_tf=True, min_df=2)\n",
    "X = vectorizer.fit_transform(ids)"
   ]
  },
  {
   "cell_type": "code",
   "execution_count": 22,
   "metadata": {
    "collapsed": false
   },
   "outputs": [
    {
     "data": {
      "text/plain": [
       "<22512x10419 sparse matrix of type '<type 'numpy.float64'>'\n",
       "\twith 485337 stored elements in Compressed Sparse Row format>"
      ]
     },
     "execution_count": 22,
     "metadata": {},
     "output_type": "execute_result"
    }
   ],
   "source": [
    "X"
   ]
  },
  {
   "cell_type": "code",
   "execution_count": 21,
   "metadata": {
    "collapsed": false
   },
   "outputs": [
    {
     "data": {
      "text/plain": [
       "0.002069203875730557"
      ]
     },
     "execution_count": 21,
     "metadata": {},
     "output_type": "execute_result"
    }
   ],
   "source": [
    "485337.0 / (X.shape[0] * X.shape[1])"
   ]
  },
  {
   "cell_type": "code",
   "execution_count": 23,
   "metadata": {
    "collapsed": true
   },
   "outputs": [],
   "source": [
    "from sklearn.preprocessing import Normalizer\n",
    "normalizer = Normalizer(copy=False)"
   ]
  },
  {
   "cell_type": "code",
   "execution_count": 23,
   "metadata": {
    "collapsed": true
   },
   "outputs": [],
   "source": [
    "from sklearn.cluster import KMeans, MiniBatchKMeans"
   ]
  },
  {
   "cell_type": "markdown",
   "metadata": {},
   "source": [
    "Let's try different number of orthogonal vectors in LSA basis"
   ]
  },
  {
   "cell_type": "code",
   "execution_count": 82,
   "metadata": {
    "collapsed": false,
    "scrolled": true
   },
   "outputs": [
    {
     "name": "stdout",
     "output_type": "stream",
     "text": [
      "k=50, done in 0.88900s.\n",
      "k=50, done in 0.61100s.\n",
      "k=50, done in 0.70600s.\n",
      "k=50, done in 0.59200s.\n",
      "k=50, done in 0.62100s.\n",
      "k=150, done in 2.57100s.\n",
      "k=150, done in 2.34200s.\n",
      "k=150, done in 2.65200s.\n",
      "k=150, done in 2.95700s.\n",
      "k=150, done in 2.41300s.\n",
      "k=250, done in 4.18600s.\n",
      "k=250, done in 4.70100s.\n",
      "k=250, done in 4.36800s.\n",
      "k=250, done in 4.04800s.\n",
      "k=250, done in 4.03200s.\n",
      "k=350, done in 7.32700s.\n",
      "k=350, done in 7.35100s.\n",
      "k=350, done in 7.53600s.\n",
      "k=350, done in 7.59100s.\n",
      "k=350, done in 7.40700s.\n",
      "k=450, done in 10.95000s.\n",
      "k=450, done in 11.02000s.\n",
      "k=450, done in 12.57600s.\n",
      "k=450, done in 12.39100s.\n",
      "k=450, done in 10.98300s.\n",
      "k=550, done in 15.00900s.\n",
      "k=550, done in 15.30500s.\n",
      "k=550, done in 17.59700s.\n",
      "k=550, done in 15.17900s.\n",
      "k=550, done in 14.99000s.\n",
      "k=650, done in 19.36700s.\n",
      "k=650, done in 22.17200s.\n",
      "k=650, done in 19.39000s.\n",
      "k=650, done in 21.22300s.\n",
      "k=650, done in 20.49300s.\n",
      "k=750, done in 26.40200s.\n",
      "k=750, done in 26.30000s.\n",
      "k=750, done in 24.73000s.\n",
      "k=750, done in 24.94400s.\n",
      "k=750, done in 25.32000s.\n",
      "k=850, done in 40.64600s.\n",
      "k=850, done in 30.73000s.\n",
      "k=850, done in 34.69500s.\n",
      "k=850, done in 34.77200s.\n",
      "k=850, done in 40.92200s.\n",
      "k=950, done in 47.23000s.\n",
      "k=950, done in 36.55000s.\n",
      "k=950, done in 47.89300s.\n",
      "k=950, done in 54.52700s.\n",
      "k=950, done in 50.12300s.\n"
     ]
    }
   ],
   "source": [
    "svd_results = []\n",
    "times = []\n",
    "\n",
    "ns = range(50, 1001, 100)\n",
    "for n in ns:\n",
    "    for i in xrange(5):\n",
    "        t0 = time()\n",
    "        U, S, Vt = randomized_svd(X, n_components=n)\n",
    "        V = Vt.T\n",
    "\n",
    "        X_red = X.dot(V)\n",
    "        X_red = normalizer.fit_transform(X_red)\n",
    "        svd_results.append((n, X_red))\n",
    "\n",
    "        taken_time = time() - t0\n",
    "        times.append((n, taken_time))\n",
    "        print \"k=%d, done in %0.5fs.\" % (n, taken_time)"
   ]
  },
  {
   "cell_type": "code",
   "execution_count": 102,
   "metadata": {
    "collapsed": true
   },
   "outputs": [],
   "source": [
    "del svd_results"
   ]
  },
  {
   "cell_type": "code",
   "execution_count": 66,
   "metadata": {
    "collapsed": true
   },
   "outputs": [],
   "source": [
    "from sklearn.decomposition import NMF"
   ]
  },
  {
   "cell_type": "code",
   "execution_count": 83,
   "metadata": {
    "collapsed": true
   },
   "outputs": [],
   "source": [
    "ks, ts = zip(*times)"
   ]
  },
  {
   "cell_type": "code",
   "execution_count": 84,
   "metadata": {
    "collapsed": true
   },
   "outputs": [],
   "source": [
    "import statsmodels.formula.api as sm"
   ]
  },
  {
   "cell_type": "code",
   "execution_count": 85,
   "metadata": {
    "collapsed": false
   },
   "outputs": [
    {
     "data": {
      "text/plain": [
       "0.93149963711111328"
      ]
     },
     "execution_count": 85,
     "metadata": {},
     "output_type": "execute_result"
    }
   ],
   "source": [
    "model = sm.OLS(ts, ks).fit()\n",
    "model.rsquared"
   ]
  },
  {
   "cell_type": "code",
   "execution_count": 86,
   "metadata": {
    "collapsed": false
   },
   "outputs": [],
   "source": [
    "df = pd.DataFrame({'k': ks, 'time': ts})"
   ]
  },
  {
   "cell_type": "code",
   "execution_count": 106,
   "metadata": {
    "collapsed": false
   },
   "outputs": [
    {
     "data": {
      "image/png": "[encoded data removed]",
      "text/plain": [
       "<matplotlib.figure.Figure at 0x6456df98>"
      ]
     },
     "metadata": {},
     "output_type": "display_data"
    }
   ],
   "source": [
    "fig = plt.figure(figsize=(6, 2.5))\n",
    "\n",
    "plt.scatter(df.k, df.time, facecolors='none', label='observed')\n",
    "\n",
    "means = df.groupby('k').mean()\n",
    "plt.plot(means.index, means.time, label='mean', color='black')\n",
    "\n",
    "plt.xlim(0, 1000)\n",
    "plt.ylim(-5, 60)\n",
    "plt.ylabel('time, sec')\n",
    "plt.xlabel('$k$ in reduced $k$-rank SVD')\n",
    "\n",
    "# plt.grid()\n",
    "\n",
    "legend = plt.legend(loc='upper left', frameon=1)\n",
    "frame = legend.get_frame()\n",
    "frame.set_color('white')\n",
    "frame.set_edgecolor('black')\n",
    "\n",
    "plt.tight_layout()\n",
    "\n",
    "plt.savefig('figures/k-svd-vs-time.pdf', format='pdf')\n",
    "\n",
    "plt.show()"
   ]
  },
  {
   "cell_type": "code",
   "execution_count": 67,
   "metadata": {
    "collapsed": false
   },
   "outputs": [
    {
     "name": "stdout",
     "output_type": "stream",
     "text": [
      "done in 5269.633s.\n"
     ]
    }
   ],
   "source": [
    "t0 = time()\n",
    "\n",
    "n = 250\n",
    "\n",
    "nmf = NMF(n_components=n)\n",
    "X_red_grid = nmf.fit_transform(X)\n",
    "X_red_grid = normalizer.fit_transform(X_red_grid)\n",
    "\n",
    "print \"done in %0.3fs.\" % (time() - t0)"
   ]
  },
  {
   "cell_type": "code",
   "execution_count": 48,
   "metadata": {
    "collapsed": true
   },
   "outputs": [],
   "source": [
    "km_grid_hyperparam_res = {}\n",
    "km_grid_hyperparam_lr = []"
   ]
  },
  {
   "cell_type": "code",
   "execution_count": 59,
   "metadata": {
    "collapsed": false,
    "scrolled": true
   },
   "outputs": [
    {
     "name": "stdout",
     "output_type": "stream",
     "text": [
      "purity for n=150, k=500 is 0.2464, number of >0.8 clusters: 19\n",
      "purity for n=150, k=750 is 0.2434, number of >0.8 clusters: 22\n",
      "purity for n=150, k=1000 is 0.2874, number of >0.8 clusters: 40\n",
      "purity for n=150, k=1250 is 0.3003, number of >0.8 clusters: 53\n",
      "purity for n=150, k=1500 is 0.3127, number of >0.8 clusters: 65\n",
      "purity for n=150, k=1750 is 0.3290, number of >0.8 clusters: 87\n",
      "purity for n=150, k=2000 is 0.3440, number of >0.8 clusters: 101\n",
      "purity for n=150, k=2250 is 0.3503, number of >0.8 clusters: 109\n",
      "purity for n=150, k=2500 is 0.3643, number of >0.8 clusters: 117\n",
      "purity for n=150, k=2750 is 0.3694, number of >0.8 clusters: 113\n",
      "purity for n=150, k=3000 is 0.3747, number of >0.8 clusters: 114\n",
      "purity for n=150, k=3250 is 0.3905, number of >0.8 clusters: 140\n",
      "purity for n=150, k=3500 is 0.3963, number of >0.8 clusters: 134\n",
      "purity for n=150, k=3750 is 0.4115, number of >0.8 clusters: 151\n",
      "purity for n=150, k=4000 is 0.4250, number of >0.8 clusters: 185\n",
      "purity for n=150, k=4250 is 0.4349, number of >0.8 clusters: 180\n",
      "purity for n=150, k=4500 is 0.4444, number of >0.8 clusters: 235\n",
      "purity for n=150, k=4750 is 0.4478, number of >0.8 clusters: 190\n",
      "purity for n=150, k=5000 is 0.4544, number of >0.8 clusters: 197\n",
      "purity for n=150, k=5250 is 0.4625, number of >0.8 clusters: 226\n",
      "purity for n=150, k=5500 is 0.4785, number of >0.8 clusters: 219\n",
      "purity for n=150, k=5750 is 0.4801, number of >0.8 clusters: 245\n",
      "purity for n=150, k=6000 is 0.4914, number of >0.8 clusters: 253\n",
      "purity for n=150, k=6250 is 0.5041, number of >0.8 clusters: 262\n",
      "purity for n=150, k=6500 is 0.5117, number of >0.8 clusters: 262\n",
      "purity for n=150, k=6750 is 0.5235, number of >0.8 clusters: 270\n",
      "purity for n=150, k=7000 is 0.5239, number of >0.8 clusters: 298\n",
      "purity for n=150, k=7250 is 0.5251, number of >0.8 clusters: 290\n",
      "purity for n=150, k=7500 is 0.5480, number of >0.8 clusters: 283\n",
      "purity for n=150, k=7750 is 0.5623, number of >0.8 clusters: 354\n",
      "purity for n=250, k=500 is 0.2518, number of >0.8 clusters: 20\n",
      "purity for n=250, k=750 is 0.2773, number of >0.8 clusters: 40\n",
      "purity for n=250, k=1000 is 0.2738, number of >0.8 clusters: 33\n",
      "purity for n=250, k=1250 is 0.2881, number of >0.8 clusters: 48\n",
      "purity for n=250, k=1500 is 0.3028, number of >0.8 clusters: 66\n",
      "purity for n=250, k=1750 is 0.3362, number of >0.8 clusters: 103\n",
      "purity for n=250, k=2000 is 0.3467, number of >0.8 clusters: 102\n",
      "purity for n=250, k=2250 is 0.3494, number of >0.8 clusters: 96\n",
      "purity for n=250, k=2500 is 0.3594, number of >0.8 clusters: 118\n",
      "purity for n=250, k=2750 is 0.3768, number of >0.8 clusters: 139\n",
      "purity for n=250, k=3000 is 0.3938, number of >0.8 clusters: 149\n",
      "purity for n=250, k=3250 is 0.3958, number of >0.8 clusters: 160\n",
      "purity for n=250, k=3500 is 0.4132, number of >0.8 clusters: 177\n",
      "purity for n=250, k=3750 is 0.4156, number of >0.8 clusters: 202\n",
      "purity for n=250, k=4000 is 0.4280, number of >0.8 clusters: 212\n",
      "purity for n=250, k=4250 is 0.4396, number of >0.8 clusters: 230\n",
      "purity for n=250, k=4500 is 0.4385, number of >0.8 clusters: 202\n",
      "purity for n=250, k=4750 is 0.4532, number of >0.8 clusters: 254\n",
      "purity for n=250, k=5000 is 0.4693, number of >0.8 clusters: 233\n",
      "purity for n=250, k=5250 is 0.4666, number of >0.8 clusters: 268\n",
      "purity for n=250, k=5500 is 0.4767, number of >0.8 clusters: 272\n",
      "purity for n=250, k=5750 is 0.4923, number of >0.8 clusters: 290\n",
      "purity for n=250, k=6000 is 0.4937, number of >0.8 clusters: 257\n",
      "purity for n=250, k=6250 is 0.5032, number of >0.8 clusters: 306\n",
      "purity for n=250, k=6500 is 0.5077, number of >0.8 clusters: 280\n",
      "purity for n=250, k=6750 is 0.5188, number of >0.8 clusters: 307\n",
      "purity for n=250, k=7000 is 0.5252, number of >0.8 clusters: 296\n",
      "purity for n=250, k=7250 is 0.5339, number of >0.8 clusters: 301\n",
      "purity for n=250, k=7500 is 0.5375, number of >0.8 clusters: 327\n",
      "purity for n=250, k=7750 is 0.5674, number of >0.8 clusters: 366\n",
      "purity for n=350, k=500 is 0.2539, number of >0.8 clusters: 27\n",
      "purity for n=350, k=750 is 0.2780, number of >0.8 clusters: 50\n",
      "purity for n=350, k=1000 is 0.2926, number of >0.8 clusters: 63\n",
      "purity for n=350, k=1250 is 0.3071, number of >0.8 clusters: 72\n",
      "purity for n=350, k=1500 is 0.3227, number of >0.8 clusters: 90\n",
      "purity for n=350, k=1750 is 0.3212, number of >0.8 clusters: 92\n",
      "purity for n=350, k=2000 is 0.3483, number of >0.8 clusters: 113\n",
      "purity for n=350, k=2250 is 0.3467, number of >0.8 clusters: 105\n",
      "purity for n=350, k=2500 is 0.3730, number of >0.8 clusters: 142\n",
      "purity for n=350, k=2750 is 0.3794, number of >0.8 clusters: 145\n",
      "purity for n=350, k=3000 is 0.3903, number of >0.8 clusters: 178\n",
      "purity for n=350, k=3250 is 0.3968, number of >0.8 clusters: 165\n",
      "purity for n=350, k=3500 is 0.4030, number of >0.8 clusters: 185\n",
      "purity for n=350, k=3750 is 0.4130, number of >0.8 clusters: 181\n",
      "purity for n=350, k=4000 is 0.4272, number of >0.8 clusters: 205\n",
      "purity for n=350, k=4250 is 0.4459, number of >0.8 clusters: 240\n",
      "purity for n=350, k=4500 is 0.4353, number of >0.8 clusters: 229\n",
      "purity for n=350, k=4750 is 0.4626, number of >0.8 clusters: 267\n",
      "purity for n=350, k=5000 is 0.4720, number of >0.8 clusters: 252\n",
      "purity for n=350, k=5250 is 0.4809, number of >0.8 clusters: 308\n",
      "purity for n=350, k=5500 is 0.4800, number of >0.8 clusters: 274\n",
      "purity for n=350, k=5750 is 0.4826, number of >0.8 clusters: 280\n",
      "purity for n=350, k=6000 is 0.4986, number of >0.8 clusters: 316\n",
      "purity for n=350, k=6250 is 0.4986, number of >0.8 clusters: 301\n",
      "purity for n=350, k=6500 is 0.5207, number of >0.8 clusters: 324\n",
      "purity for n=350, k=6750 is 0.5142, number of >0.8 clusters: 319\n",
      "purity for n=350, k=7000 is 0.5288, number of >0.8 clusters: 339\n",
      "purity for n=350, k=7250 is 0.5314, number of >0.8 clusters: 323\n",
      "purity for n=350, k=7500 is 0.5351, number of >0.8 clusters: 357\n",
      "purity for n=350, k=7750 is 0.5711, number of >0.8 clusters: 373\n"
     ]
    }
   ],
   "source": [
    "for n in [150, 250, 350]:\n",
    "    U, S, Vt = randomized_svd(X, n_components=n)\n",
    "    V = Vt.T\n",
    "\n",
    "    X_red_grid = X.dot(V)\n",
    "    X_red_grid = normalizer.fit_transform(X_red_grid)\n",
    "\n",
    "    # ks = [k for k in xrange(500, 15001, 250)]\n",
    "    # ks = [k for k in xrange(8000, 15001, 250)]\n",
    "    ks = [k for k in xrange(500, 8000, 250)]\n",
    "    \n",
    "    for k in ks:\n",
    "        km_grid = MiniBatchKMeans(n_clusters=k, init_size=k*3, n_init=10, init='random')\n",
    "        km_grid.fit(X_red_grid)\n",
    "\n",
    "        km_grid_hyperparam_res[(n, k)] = km_grid.labels_\n",
    "        cluster_purity = evaluate.overall_purity(km_grid.labels_)\n",
    "        no_pure_clusters = len(evaluate.high_purity_clusters(km_grid.labels_, threshold=0.8, min_size=3))\n",
    "        km_grid_hyperparam_lr.append((n, k, cluster_purity, no_pure_clusters))\n",
    "\n",
    "        print 'purity for n=%d, k=%d is %0.4f, number of >0.8 clusters: %d' % (n, k, cluster_purity, no_pure_clusters)"
   ]
  },
  {
   "cell_type": "code",
   "execution_count": 19,
   "metadata": {
    "collapsed": true
   },
   "outputs": [],
   "source": [
    "import pickle"
   ]
  },
  {
   "cell_type": "code",
   "execution_count": 60,
   "metadata": {
    "collapsed": false
   },
   "outputs": [],
   "source": [
    "pickle.dump(km_grid_hyperparam_res, file('C:/tmp/mlp/namespaces/k-means-def-cleaned-07-23-svd2.bin', 'w'))"
   ]
  },
  {
   "cell_type": "markdown",
   "metadata": {},
   "source": [
    "km_grid_hyperparam_res = pickle.load(file('C:/tmp/mlp/namespaces/k-means-def-cleaned-07-23-svd2.bin'))"
   ]
  },
  {
   "cell_type": "code",
   "execution_count": 61,
   "metadata": {
    "collapsed": false
   },
   "outputs": [
    {
     "data": {
      "text/html": [
       "<div style=\"max-height:1000px;max-width:1500px;overflow:auto;\">\n",
       "<table border=\"1\" class=\"dataframe\">\n",
       "  <thead>\n",
       "    <tr style=\"text-align: right;\">\n",
       "      <th></th>\n",
       "      <th>n</th>\n",
       "      <th>k</th>\n",
       "      <th>purity</th>\n",
       "      <th>sizes</th>\n",
       "    </tr>\n",
       "  </thead>\n",
       "  <tbody>\n",
       "    <tr>\n",
       "      <th>0</th>\n",
       "      <td>150</td>\n",
       "      <td>8000</td>\n",
       "      <td>0.569385</td>\n",
       "      <td>322</td>\n",
       "    </tr>\n",
       "    <tr>\n",
       "      <th>1</th>\n",
       "      <td>150</td>\n",
       "      <td>8250</td>\n",
       "      <td>0.579558</td>\n",
       "      <td>310</td>\n",
       "    </tr>\n",
       "    <tr>\n",
       "      <th>2</th>\n",
       "      <td>150</td>\n",
       "      <td>8500</td>\n",
       "      <td>0.586665</td>\n",
       "      <td>333</td>\n",
       "    </tr>\n",
       "    <tr>\n",
       "      <th>3</th>\n",
       "      <td>150</td>\n",
       "      <td>8750</td>\n",
       "      <td>0.597814</td>\n",
       "      <td>346</td>\n",
       "    </tr>\n",
       "    <tr>\n",
       "      <th>4</th>\n",
       "      <td>150</td>\n",
       "      <td>9000</td>\n",
       "      <td>0.603634</td>\n",
       "      <td>324</td>\n",
       "    </tr>\n",
       "  </tbody>\n",
       "</table>\n",
       "</div>"
      ],
      "text/plain": [
       "     n     k    purity  sizes\n",
       "0  150  8000  0.569385    322\n",
       "1  150  8250  0.579558    310\n",
       "2  150  8500  0.586665    333\n",
       "3  150  8750  0.597814    346\n",
       "4  150  9000  0.603634    324"
      ]
     },
     "execution_count": 61,
     "metadata": {},
     "output_type": "execute_result"
    }
   ],
   "source": [
    "df_nf = pd.DataFrame(km_grid_hyperparam_lr, columns=['n', 'k', 'purity', 'sizes'])\n",
    "df_nf.head()"
   ]
  },
  {
   "cell_type": "code",
   "execution_count": 65,
   "metadata": {
    "collapsed": false
   },
   "outputs": [
    {
     "data": {
      "image/png": "[encoded data removed]",
      "text/plain": [
       "<matplotlib.figure.Figure at 0x43f45710>"
      ]
     },
     "metadata": {},
     "output_type": "display_data"
    }
   ],
   "source": [
    "visual = {150: ('black', '-'), 250: ('black', '--'), 350: ('grey', '-')}\n",
    "\n",
    "for n, g in df_nf.groupby('n'):\n",
    "    color, line = visual[n]\n",
    "    med = g.groupby('k').sizes.median()\n",
    "    smoothed = pd.stats.moments.rolling_mean(med, window=3, center=True)\n",
    "    smoothed.plot(figsize=(8, 3), label='$k$ = %d' % n, color=color, linestyle=line)\n",
    "\n",
    "\n",
    "plt.grid(0)\n",
    "plt.xlabel('number of clusters $K$')\n",
    "plt.ylabel('no. pure clusters')\n",
    "plt.legend(loc='lower center', ncol=3)\n",
    "plt.xlim(4000, 14500)\n",
    "plt.ylim(100, 410)\n",
    "\n",
    "plt.tight_layout()\n",
    "plt.savefig('figures/k-vs-kmeans-len-svd-soft.pdf', format='pdf')\n",
    "plt.show()"
   ]
  },
  {
   "cell_type": "code",
   "execution_count": 73,
   "metadata": {
    "collapsed": false
   },
   "outputs": [
    {
     "data": {
      "text/plain": [
       "n          350.000000\n",
       "k         9750.000000\n",
       "purity       0.633573\n",
       "sizes      414.000000\n",
       "Name: 65, dtype: float64"
      ]
     },
     "execution_count": 73,
     "metadata": {},
     "output_type": "execute_result"
    }
   ],
   "source": [
    "df_nf.ix[df_nf.sizes.argmax()]"
   ]
  },
  {
   "cell_type": "code",
   "execution_count": 50,
   "metadata": {
    "collapsed": true
   },
   "outputs": [],
   "source": [
    "pickle.dump(clustering, file('C:/tmp/mlp/namespaces/best414.bin', 'w'))"
   ]
  },
  {
   "cell_type": "code",
   "execution_count": 22,
   "metadata": {
    "collapsed": false
   },
   "outputs": [],
   "source": [
    "clustering = pickle.load(file('C:/tmp/mlp/namespaces/best414.bin'))"
   ]
  },
  {
   "cell_type": "code",
   "execution_count": 49,
   "metadata": {
    "collapsed": false,
    "scrolled": true
   },
   "outputs": [
    {
     "name": "stdout",
     "output_type": "stream",
     "text": [
      "overall purity 0.6336\n",
      "number of high purity clusters of size at least 5 is 414\n",
      "\n",
      "- Astronomical catalogues (id=1150) size=53, purity=0.9811\n",
      "- Statistics (id=5389) size=20, purity=0.8500\n",
      "- Category theory (id=2245) size=16, purity=0.8125\n",
      "- Electromagnetism (id=6026) size=12, purity=0.8333\n",
      "- Thermodynamics (id=608) size=11, purity=0.8182\n",
      "- Mathematical analysis (id=4579) size=11, purity=0.8182\n",
      "- Graph theory (id=3171) size=10, purity=0.9000\n",
      "- Graph algorithms (id=4436) size=10, purity=0.8000\n",
      "- Fluid dynamics (id=5619) size=10, purity=1.0000\n",
      "- National Basketball Association seasons (id=476) size=9, purity=1.0000\n",
      "- Numerical analysis (id=6957) size=9, purity=0.8889\n",
      "- Group theory (id=7228) size=9, purity=1.0000\n",
      "- Stochastic processes (id=7416) size=9, purity=1.0000\n",
      "- Measure theory (id=1271) size=8, purity=1.0000\n",
      "- Probability distributions (id=1588) size=8, purity=0.8750\n",
      "- Signal processing (id=2484) size=8, purity=0.8750\n",
      "- Mechanics (id=3040) size=8, purity=1.0000\n",
      "- Stochastic processes (id=3979) size=8, purity=1.0000\n",
      "- Algebraic curves (id=7431) size=8, purity=0.8750\n",
      "- Differential geometry (id=7959) size=8, purity=0.8750\n",
      "- Physics (id=8749) size=8, purity=0.8750\n",
      "- Information theory (id=391) size=7, purity=1.0000\n",
      "- Complex analysis (id=1116) size=7, purity=1.0000\n",
      "- General relativity (id=1513) size=7, purity=1.0000\n",
      "- Algebraic number theory (id=3681) size=7, purity=1.0000\n",
      "- Linear algebra (id=3915) size=7, purity=0.8571\n",
      "- Theory of computation (id=4143) size=7, purity=0.8571\n",
      "- Number theory (id=7559) size=7, purity=0.8571\n",
      "- Electronic amplifiers (id=8062) size=7, purity=0.8571\n",
      "- Probability distributions (id=8064) size=7, purity=1.0000\n",
      "- Logical truth (id=9249) size=7, purity=0.8571\n",
      "- Complex analysis (id=57) size=6, purity=1.0000\n",
      "- Probability distributions (id=373) size=6, purity=0.8333\n",
      "- Sequences and series (id=739) size=6, purity=0.8333\n",
      "- Physical chemistry (id=748) size=6, purity=0.8333\n",
      "- Mechanics (id=796) size=6, purity=0.8333\n",
      "- Waves (id=845) size=6, purity=0.8333\n",
      "- Discrete mathematics (id=975) size=6, purity=1.0000\n",
      "- Graph theory (id=992) size=6, purity=1.0000\n",
      "- Computational complexity theory (id=1927) size=6, purity=0.8333\n",
      "- Order theory (id=2423) size=6, purity=0.8333\n",
      "- Fluid dynamics (id=2677) size=6, purity=0.8333\n",
      "- Signal processing (id=3934) size=6, purity=0.8333\n",
      "- Macroeconomics and monetary economics (id=4768) size=6, purity=1.0000\n",
      "- Fluid dynamics (id=4796) size=6, purity=0.8333\n",
      "- Differential topology (id=5084) size=6, purity=0.8333\n",
      "- Physics (id=5539) size=6, purity=0.8333\n",
      "- Mathematical analysis (id=5640) size=6, purity=0.8333\n",
      "- Dynamics (id=5763) size=6, purity=0.8333\n",
      "- Markov processes (id=5990) size=6, purity=0.8333\n",
      "- Polygons (id=6033) size=6, purity=0.8333\n",
      "- Systems of units (id=6404) size=6, purity=1.0000\n",
      "- Cartographic projections (id=6523) size=6, purity=0.8333\n",
      "- Complex analysis (id=7042) size=6, purity=0.8333\n",
      "- Algorithms on strings (id=7395) size=6, purity=1.0000\n",
      "- Partial differential equations (id=7954) size=6, purity=0.8333\n",
      "- Theoretical physics (id=8893) size=6, purity=0.8333\n",
      "- Fluid dynamics (id=9006) size=6, purity=0.8333\n",
      "- Numerical analysis (id=9117) size=6, purity=0.8333\n",
      "- SI units (id=9352) size=6, purity=0.8333\n",
      "- Matrix theory (id=36) size=5, purity=0.8000\n",
      "- Special functions (id=217) size=5, purity=0.8000\n",
      "- Combinatorics (id=291) size=5, purity=0.8000\n",
      "- Triangle geometry (id=616) size=5, purity=0.8000\n",
      "- Category theory (id=786) size=5, purity=0.8000\n",
      "- Control theory (id=925) size=5, purity=1.0000\n",
      "- Quantum field theory (id=1173) size=5, purity=0.8000\n",
      "- Medical emergencies (id=1254) size=5, purity=0.8000\n",
      "- Statistics (id=1276) size=5, purity=0.8000\n",
      "- Group theory (id=1328) size=5, purity=0.8000\n",
      "- Astronomical catalogues of stars (id=1589) size=5, purity=1.0000\n",
      "- Electronic engineering (id=1641) size=5, purity=1.0000\n",
      "- Financial economics (id=1652) size=5, purity=0.8000\n",
      "- Optics (id=1800) size=5, purity=0.8000\n",
      "- Statistical theory (id=2015) size=5, purity=1.0000\n",
      "- Stochastic processes (id=2044) size=5, purity=1.0000\n",
      "- Group theory (id=2199) size=5, purity=0.8000\n",
      "- Differential geometry (id=2234) size=5, purity=0.8000\n",
      "- Quadrilaterals (id=2316) size=5, purity=1.0000\n",
      "- Electromagnetic radiation (id=2340) size=5, purity=0.8000\n",
      "- Mathematical logic (id=2369) size=5, purity=0.8000\n",
      "- Orbits (id=2370) size=5, purity=1.0000\n",
      "- Abstract algebra (id=2566) size=5, purity=0.8000\n",
      "- Physics (id=2755) size=5, purity=1.0000\n",
      "- Algebraic geometry (id=2977) size=5, purity=0.8000\n",
      "- Topology (id=3285) size=5, purity=0.8000\n",
      "- Sequences and series (id=3820) size=5, purity=0.8000\n",
      "- Graph theory (id=3899) size=5, purity=0.8000\n",
      "- Partial differential equations (id=3919) size=5, purity=1.0000\n",
      "- Differential geometry (id=3975) size=5, purity=1.0000\n",
      "- Theories of gravitation (id=3981) size=5, purity=0.8000\n",
      "- Probability distributions (id=4251) size=5, purity=0.8000\n",
      "- Mathematical analysis (id=4377) size=5, purity=0.8000\n",
      "- Linear algebra (id=4499) size=5, purity=1.0000\n",
      "- Ratios (id=4620) size=5, purity=0.8000\n",
      "- Calculus of variations (id=4649) size=5, purity=0.8000\n",
      "- Complex analysis (id=4973) size=5, purity=0.8000\n",
      "- Population genetics (id=5054) size=5, purity=0.8000\n",
      "- Metric geometry (id=5100) size=5, purity=0.8000\n",
      "- Brahmagupta (id=5322) size=5, purity=0.8000\n",
      "- Fluid dynamics (id=5324) size=5, purity=0.8000\n",
      "- Differential equations (id=5404) size=5, purity=0.8000\n",
      "- Transforms (id=5591) size=5, purity=0.8000\n",
      "- Numerical analysis (id=5649) size=5, purity=0.8000\n",
      "- Quantum mechanics (id=6256) size=5, purity=1.0000\n",
      "- International sailing classes (id=6273) size=5, purity=0.8000\n",
      "- Force (id=6516) size=5, purity=1.0000\n",
      "- Set theory (id=6697) size=5, purity=0.8000\n",
      "- Quantum mechanics (id=6783) size=5, purity=0.8000\n",
      "- Physics (id=6991) size=5, purity=0.8000\n",
      "- Mathematical analysis (id=7587) size=5, purity=0.8000\n",
      "- Mechanical engineering (id=7617) size=5, purity=0.8000\n",
      "- Special functions (id=7805) size=5, purity=0.8000\n",
      "- Metallic elements (id=8036) size=5, purity=0.8000\n",
      "- Topology (id=8172) size=5, purity=1.0000\n",
      "- Quantum mechanics (id=8354) size=5, purity=1.0000\n",
      "- Complex analysis (id=8417) size=5, purity=1.0000\n",
      "- Continuous distributions (id=8442) size=5, purity=0.8000\n",
      "- Mathematical logic (id=8524) size=5, purity=1.0000\n",
      "- Electronic circuits (id=8588) size=5, purity=1.0000\n",
      "- Physics (id=8609) size=5, purity=0.8000\n",
      "- Quantum mechanics (id=8648) size=5, purity=0.8000\n",
      "- Physics (id=8704) size=5, purity=0.8000\n",
      "- Algebraic geometry (id=8755) size=5, purity=0.8000\n",
      "- Continuous distributions (id=9045) size=5, purity=0.8000\n",
      "- Units of velocity (id=9258) size=5, purity=0.8000\n",
      "- Atomic physics (id=9385) size=5, purity=0.8000\n",
      "- Linear algebra (id=9396) size=5, purity=0.8000\n",
      "- Topology (id=9401) size=5, purity=0.8000\n",
      "- Physics (id=69) size=4, purity=1.0000\n",
      "- Numerical analysis (id=228) size=4, purity=1.0000\n",
      "- Linear algebra (id=246) size=4, purity=1.0000\n",
      "- Fluid mechanics (id=381) size=4, purity=1.0000\n",
      "- Abstract algebra (id=415) size=4, purity=1.0000\n",
      "- Mechanics (id=438) size=4, purity=1.0000\n",
      "- Consumer theory (id=637) size=4, purity=1.0000\n",
      "- Measure theory (id=728) size=4, purity=1.0000\n",
      "- Graph theory (id=1074) size=4, purity=1.0000\n",
      "- Thermodynamics (id=1358) size=4, purity=1.0000\n",
      "- Stochastic processes (id=1366) size=4, purity=1.0000\n",
      "- Statistics (id=1448) size=4, purity=1.0000\n",
      "- Fluid dynamics (id=1551) size=4, purity=1.0000\n",
      "- Representation theory of Lie groups (id=1709) size=4, purity=1.0000\n",
      "- Information theory (id=1892) size=4, purity=1.0000\n",
      "- Integral calculus (id=1911) size=4, purity=1.0000\n",
      "- Analog circuits (id=1997) size=4, purity=1.0000\n",
      "- General relativity (id=2107) size=4, purity=1.0000\n",
      "- Enzymes (id=2344) size=4, purity=1.0000\n",
      "- Probability distributions (id=2472) size=4, purity=1.0000\n",
      "- Complex analysis (id=2496) size=4, purity=1.0000\n",
      "- Gases (id=2578) size=4, purity=1.0000\n",
      "- Quantum mechanics (id=2652) size=4, purity=1.0000\n",
      "- Probability distributions (id=2668) size=4, purity=1.0000\n",
      "- Physical optics (id=2792) size=4, purity=1.0000\n",
      "- Finsler geometry (id=2877) size=4, purity=1.0000\n",
      "- Machine learning (id=2892) size=4, purity=1.0000\n",
      "- Category theory (id=2894) size=4, purity=1.0000\n",
      "- Lie groups (id=3025) size=4, purity=1.0000\n",
      "- Databases (id=3031) size=4, purity=1.0000\n",
      "- Polyhedra (id=3266) size=4, purity=1.0000\n",
      "- General relativity (id=3388) size=4, purity=1.0000\n",
      "- Aerospace engineering (id=3628) size=4, purity=1.0000\n",
      "- Number theory (id=3651) size=4, purity=1.0000\n",
      "- Coordinate systems (id=3767) size=4, purity=1.0000\n",
      "- Algebraic number theory (id=3824) size=4, purity=1.0000\n",
      "- Algebraic geometry (id=4062) size=4, purity=1.0000\n",
      "- Algebra (id=4486) size=4, purity=1.0000\n",
      "- Electric power (id=4517) size=4, purity=1.0000\n",
      "- Mechanics (id=4557) size=4, purity=1.0000\n",
      "- Constellations (id=4645) size=4, purity=1.0000\n",
      "- Optimization algorithms and methods (id=4744) size=4, purity=1.0000\n",
      "- Optics (id=4795) size=4, purity=1.0000\n",
      "- Hypothesis testing (id=4812) size=4, purity=1.0000\n",
      "- Numerical differential equations (id=4815) size=4, purity=1.0000\n",
      "- Group theory (id=4861) size=4, purity=1.0000\n",
      "- Mechanics (id=4993) size=4, purity=1.0000\n",
      "- Differential geometry (id=5302) size=4, purity=1.0000\n",
      "- Differential equations (id=5612) size=4, purity=1.0000\n",
      "- Rubber properties (id=5871) size=4, purity=1.0000\n",
      "- Number theory (id=6234) size=4, purity=1.0000\n",
      "- Surfaces (id=6325) size=4, purity=1.0000\n",
      "- Group theory (id=6748) size=4, purity=1.0000\n",
      "- Curves (id=7232) size=4, purity=1.0000\n",
      "- Magnetism (id=7297) size=4, purity=1.0000\n",
      "- Modal logic (id=7379) size=4, purity=1.0000\n",
      "- Abstract algebra (id=7402) size=4, purity=1.0000\n",
      "- Condensed matter physics (id=7511) size=4, purity=1.0000\n",
      "- Lie algebras (id=7661) size=4, purity=1.0000\n",
      "- Signals intelligence of World War II (id=7728) size=4, purity=1.0000\n",
      "- Automata theory (id=7735) size=4, purity=1.0000\n",
      "- Electric power (id=7844) size=4, purity=1.0000\n",
      "- Differential geometry (id=7885) size=4, purity=1.0000\n",
      "- Gravitation (id=8332) size=4, purity=1.0000\n",
      "- Superconductivity (id=8386) size=4, purity=1.0000\n",
      "- Representation theory (id=8567) size=4, purity=1.0000\n",
      "- Celestial mechanics (id=8654) size=4, purity=1.0000\n",
      "- Statistics (id=8733) size=4, purity=1.0000\n",
      "- Algebraic geometry (id=9034) size=4, purity=1.0000\n",
      "- Derivatives (finance) (id=9058) size=4, purity=1.0000\n",
      "- Set theory (id=9257) size=4, purity=1.0000\n",
      "- Quantum field theory (id=9495) size=4, purity=1.0000\n",
      "- Analysis of variance (id=9528) size=4, purity=1.0000\n",
      "- Probability theory (id=9557) size=4, purity=1.0000\n",
      "- Thermodynamics (id=9645) size=4, purity=1.0000\n",
      "- Programming language theory (id=9665) size=4, purity=1.0000\n",
      "- Polyhedra (id=9682) size=4, purity=1.0000\n",
      "- Operations research (id=24) size=3, purity=1.0000\n",
      "- Category theory (id=56) size=3, purity=1.0000\n",
      "- Thermodynamics (id=58) size=3, purity=1.0000\n",
      "- Sheaf theory (id=86) size=3, purity=1.0000\n",
      "- National Basketball Association seasons (id=88) size=3, purity=1.0000\n",
      "- Electronics (id=100) size=3, purity=1.0000\n",
      "- Halides (id=200) size=3, purity=1.0000\n",
      "- Coordinate systems (id=313) size=3, purity=1.0000\n",
      "- Complex analysis (id=331) size=3, purity=1.0000\n",
      "- Module theory (id=359) size=3, purity=1.0000\n",
      "- Electrostatics (id=466) size=3, purity=1.0000\n",
      "- Atmospheric thermodynamics (id=545) size=3, purity=1.0000\n",
      "- Radioactivity (id=633) size=3, purity=1.0000\n",
      "- General topology (id=642) size=3, purity=1.0000\n",
      "- Fields of finance (id=698) size=3, purity=1.0000\n",
      "- Surface chemistry (id=835) size=3, purity=1.0000\n",
      "- Integer sequences (id=860) size=3, purity=1.0000\n",
      "- Statistics (id=1009) size=3, purity=1.0000\n",
      "- Modular arithmetic (id=1052) size=3, purity=1.0000\n",
      "- Riemannian geometry (id=1053) size=3, purity=1.0000\n",
      "- Differential geometry (id=1061) size=3, purity=1.0000\n",
      "- Mechanical engineering (id=1080) size=3, purity=1.0000\n",
      "- Proof theory (id=1123) size=3, purity=1.0000\n",
      "- Polynomials (id=1306) size=3, purity=1.0000\n",
      "- Computer languages (id=1313) size=3, purity=1.0000\n",
      "- Numerical analysis (id=1355) size=3, purity=1.0000\n",
      "- Digital geometry (id=1474) size=3, purity=1.0000\n",
      "- Figurate numbers (id=1499) size=3, purity=1.0000\n",
      "- Differential equations (id=1576) size=3, purity=1.0000\n",
      "- Wave mechanics (id=1665) size=3, purity=1.0000\n",
      "- Theoretical physics (id=1711) size=3, purity=1.0000\n",
      "- Celestial mechanics (id=1721) size=3, purity=1.0000\n",
      "- Statistics (id=1747) size=3, purity=1.0000\n",
      "- Metalogic (id=1761) size=3, purity=1.0000\n",
      "- Quantum mechanics (id=1767) size=3, purity=1.0000\n",
      "- Numerical analysis (id=1807) size=3, purity=1.0000\n",
      "- Main sequence stars (id=1813) size=3, purity=1.0000\n",
      "- General relativity (id=1855) size=3, purity=1.0000\n",
      "- Mechanics (id=1889) size=3, purity=1.0000\n",
      "- Statistics (id=1926) size=3, purity=1.0000\n",
      "- Continuous distributions (id=1992) size=3, purity=1.0000\n",
      "- Stochastic processes (id=2001) size=3, purity=1.0000\n",
      "- Fluid dynamics (id=2002) size=3, purity=1.0000\n",
      "- Quantum information science (id=2018) size=3, purity=1.0000\n",
      "- Physical layer protocols (id=2036) size=3, purity=1.0000\n",
      "- Physics (id=2081) size=3, purity=1.0000\n",
      "- Thermodynamics (id=2123) size=3, purity=1.0000\n",
      "- Quantum mechanics (id=2189) size=3, purity=1.0000\n",
      "- Tensors (id=2296) size=3, purity=1.0000\n",
      "- Physical quantities (id=2393) size=3, purity=1.0000\n",
      "- Models of computation (id=2431) size=3, purity=1.0000\n",
      "- Differential geometry (id=2492) size=3, purity=1.0000\n",
      "- Computational complexity theory (id=2500) size=3, purity=1.0000\n",
      "- Geometry (id=2625) size=3, purity=1.0000\n",
      "- Particle physics (id=2739) size=3, purity=1.0000\n",
      "- Group theory (id=2746) size=3, purity=1.0000\n",
      "- Electrical engineering (id=2758) size=3, purity=1.0000\n",
      "- General topology (id=2802) size=3, purity=1.0000\n",
      "- Plasma physics (id=2818) size=3, purity=1.0000\n",
      "- Materials science (id=2832) size=3, purity=1.0000\n",
      "- Gravitation (id=2864) size=3, purity=1.0000\n",
      "- Integers (id=2988) size=3, purity=1.0000\n",
      "- Thermodynamics (id=3086) size=3, purity=1.0000\n",
      "- Materials science (id=3183) size=3, purity=1.0000\n",
      "- Calculus (id=3209) size=3, purity=1.0000\n",
      "- Theory of relativity (id=3274) size=3, purity=1.0000\n",
      "- Abstract algebra (id=3297) size=3, purity=1.0000\n",
      "- Wireless (id=3345) size=3, purity=1.0000\n",
      "- Discrete mathematics (id=3432) size=3, purity=1.0000\n",
      "- Evidence-based practices (id=3442) size=3, purity=1.0000\n",
      "- Mathematical analysis (id=3453) size=3, purity=1.0000\n",
      "- Theory of relativity (id=3508) size=3, purity=1.0000\n",
      "- 14th-century BC people (id=3557) size=3, purity=1.0000\n",
      "- Microeconomics (id=3580) size=3, purity=1.0000\n",
      "- Quadratic forms (id=3690) size=3, purity=1.0000\n",
      "- Electrostatics (id=3706) size=3, purity=1.0000\n",
      "- Numerical differential equations (id=3707) size=3, purity=1.0000\n",
      "- Quantum field theory (id=3772) size=3, purity=1.0000\n",
      "- Control theory (id=3775) size=3, purity=1.0000\n",
      "- Statistics (id=3785) size=3, purity=1.0000\n",
      "- Analytic number theory (id=3798) size=3, purity=1.0000\n",
      "- Geophysics (id=3949) size=3, purity=1.0000\n",
      "- Abstract algebra (id=4089) size=3, purity=1.0000\n",
      "- Physics (id=4094) size=3, purity=1.0000\n",
      "- Statistics (id=4160) size=3, purity=1.0000\n",
      "- Physics (id=4190) size=3, purity=1.0000\n",
      "- Continuous distributions (id=4308) size=3, purity=1.0000\n",
      "- Atomic physics (id=4338) size=3, purity=1.0000\n",
      "- Group theory (id=4347) size=3, purity=1.0000\n",
      "- Physical quantities (id=4354) size=3, purity=1.0000\n",
      "- Theoretical physics (id=4359) size=3, purity=1.0000\n",
      "- Magnetism (id=4404) size=3, purity=1.0000\n",
      "- Stellar astronomy (id=4515) size=3, purity=1.0000\n",
      "- Abstract algebra (id=4574) size=3, purity=1.0000\n",
      "- Types of functions (id=4591) size=3, purity=1.0000\n",
      "- Mathematical theorems (id=4650) size=3, purity=1.0000\n",
      "- Computer graphics algorithms (id=4681) size=3, purity=1.0000\n",
      "- Synthetic elements (id=4683) size=3, purity=1.0000\n",
      "- Philosophy of physics (id=4731) size=3, purity=1.0000\n",
      "- Group theory (id=4742) size=3, purity=1.0000\n",
      "- Differential equations (id=4748) size=3, purity=1.0000\n",
      "- Geometry (id=4751) size=3, purity=1.0000\n",
      "- Group theory (id=4764) size=3, purity=1.0000\n",
      "- Mechanics (id=4775) size=3, purity=1.0000\n",
      "- Quantum mechanics (id=4828) size=3, purity=1.0000\n",
      "- Statistical data types (id=4866) size=3, purity=1.0000\n",
      "- Operator theory (id=4887) size=3, purity=1.0000\n",
      "- Materials science (id=4928) size=3, purity=1.0000\n",
      "- Exact solutions in general relativity (id=4995) size=3, purity=1.0000\n",
      "- Infinity (id=5002) size=3, purity=1.0000\n",
      "- Group theory (id=5011) size=3, purity=1.0000\n",
      "- Physical chemistry (id=5066) size=3, purity=1.0000\n",
      "- Differential equations (id=5068) size=3, purity=1.0000\n",
      "- Combinatorics (id=5099) size=3, purity=1.0000\n",
      "- Topology (id=5124) size=3, purity=1.0000\n",
      "- Quantum field theory (id=5128) size=3, purity=1.0000\n",
      "- Materials science (id=5149) size=3, purity=1.0000\n",
      "- Computer graphics algorithms (id=5207) size=3, purity=1.0000\n",
      "- Rigid bodies (id=5243) size=3, purity=1.0000\n",
      "- Dynamical systems (id=5267) size=3, purity=1.0000\n",
      "- Macroeconomics (id=5312) size=3, purity=1.0000\n",
      "- Probability (id=5325) size=3, purity=1.0000\n",
      "- Lie algebras (id=5419) size=3, purity=1.0000\n",
      "- Thermodynamics (id=5495) size=3, purity=1.0000\n",
      "- Riemannian geometry (id=5515) size=3, purity=1.0000\n",
      "- Linear algebra (id=5516) size=3, purity=1.0000\n",
      "- Partial differential equations (id=5596) size=3, purity=1.0000\n",
      "- Differential equations (id=5656) size=3, purity=1.0000\n",
      "- Special hypergeometric functions (id=5665) size=3, purity=1.0000\n",
      "- Liquids (id=5692) size=3, purity=1.0000\n",
      "- Mathematical logic (id=5751) size=3, purity=1.0000\n",
      "- Abstract algebra (id=5839) size=3, purity=1.0000\n",
      "- Theoretical physics (id=5886) size=3, purity=1.0000\n",
      "- Arithmetic functions (id=6040) size=3, purity=1.0000\n",
      "- Continuous distributions (id=6153) size=3, purity=1.0000\n",
      "- Topology (id=6204) size=3, purity=1.0000\n",
      "- Quadratic forms (id=6212) size=3, purity=1.0000\n",
      "- Economics (id=6259) size=3, purity=1.0000\n",
      "- Propositional calculus (id=6281) size=3, purity=1.0000\n",
      "- Numerical analysis (id=6316) size=3, purity=1.0000\n",
      "- Number theory (id=6533) size=3, purity=1.0000\n",
      "- Numerical linear algebra (id=6649) size=3, purity=1.0000\n",
      "- Dimensional analysis (id=6774) size=3, purity=1.0000\n",
      "- Algebra (id=6823) size=3, purity=1.0000\n",
      "- Mechanics (id=6867) size=3, purity=1.0000\n",
      "- Fields of application of statistics (id=6894) size=3, purity=1.0000\n",
      "- Materials science (id=6897) size=3, purity=1.0000\n",
      "- Statistics (id=6934) size=3, purity=1.0000\n",
      "- Physics (id=7099) size=3, purity=1.0000\n",
      "- Mechanical engineering (id=7107) size=3, purity=1.0000\n",
      "- Mathematical analysis (id=7128) size=3, purity=1.0000\n",
      "- Euclidean plane geometry (id=7151) size=3, purity=1.0000\n",
      "- Large numbers (id=7154) size=3, purity=1.0000\n",
      "- Quaternions (id=7250) size=3, purity=1.0000\n",
      "- Physical optics (id=7294) size=3, purity=1.0000\n",
      "- Chemical elements (id=7342) size=3, purity=1.0000\n",
      "- Partial differential equations (id=7407) size=3, purity=1.0000\n",
      "- Oceanography (id=7497) size=3, purity=1.0000\n",
      "- Group theory (id=7566) size=3, purity=1.0000\n",
      "- Quantum field theory (id=7616) size=3, purity=1.0000\n",
      "- Physics (id=7627) size=3, purity=1.0000\n",
      "- Celestial mechanics (id=7629) size=3, purity=1.0000\n",
      "- Applied and interdisciplinary physics (id=7631) size=3, purity=1.0000\n",
      "- Measurement (id=7646) size=3, purity=1.0000\n",
      "- Operator theory (id=7777) size=3, purity=1.0000\n",
      "- Systems theory (id=7786) size=3, purity=1.0000\n",
      "- Metalogic (id=7836) size=3, purity=1.0000\n",
      "- Abstract algebra (id=7884) size=3, purity=1.0000\n",
      "- Abstract algebra (id=7890) size=3, purity=1.0000\n",
      "- Fluid dynamics (id=7892) size=3, purity=1.0000\n",
      "- Functional analysis (id=7900) size=3, purity=1.0000\n",
      "- Mechanics (id=7982) size=3, purity=1.0000\n",
      "- Optics (id=8003) size=3, purity=1.0000\n",
      "- Spaceflight (id=8065) size=3, purity=1.0000\n",
      "- Branches of psychology (id=8082) size=3, purity=1.0000\n",
      "- Electromagnetism (id=8112) size=3, purity=1.0000\n",
      "- Metalogic (id=8189) size=3, purity=1.0000\n",
      "- Statistics (id=8246) size=3, purity=1.0000\n",
      "- Statistics (id=8265) size=3, purity=1.0000\n",
      "- Linear algebra (id=8391) size=3, purity=1.0000\n",
      "- Multivariable calculus (id=8443) size=3, purity=1.0000\n",
      "- Thyroid (id=8458) size=3, purity=1.0000\n",
      "- Heat transfer (id=8519) size=3, purity=1.0000\n",
      "- Group theory (id=8608) size=3, purity=1.0000\n",
      "- Nuclear fusion (id=8628) size=3, purity=1.0000\n",
      "- Algebraic varieties (id=8693) size=3, purity=1.0000\n",
      "- Cartography (id=8702) size=3, purity=1.0000\n",
      "- Special functions (id=8713) size=3, purity=1.0000\n",
      "- Probability theory (id=8767) size=3, purity=1.0000\n",
      "- Signal processing (id=8796) size=3, purity=1.0000\n",
      "- Encodings (id=8808) size=3, purity=1.0000\n",
      "- Multilinear algebra (id=8847) size=3, purity=1.0000\n",
      "- Differential topology (id=8849) size=3, purity=1.0000\n",
      "- Continuum mechanics (id=8909) size=3, purity=1.0000\n",
      "- Petroleum geology (id=8923) size=3, purity=1.0000\n",
      "- Mathematical analysis (id=9056) size=3, purity=1.0000\n",
      "- Polymer chemistry (id=9090) size=3, purity=1.0000\n",
      "- Probability distributions (id=9112) size=3, purity=1.0000\n",
      "- Quantum mechanics (id=9145) size=3, purity=1.0000\n",
      "- Optics (id=9222) size=3, purity=1.0000\n",
      "- Special functions (id=9281) size=3, purity=1.0000\n",
      "- Integral geometry (id=9438) size=3, purity=1.0000\n",
      "- Mathematical analysis (id=9446) size=3, purity=1.0000\n",
      "- Meteorology (id=9487) size=3, purity=1.0000\n",
      "- Theoretical physics (id=9514) size=3, purity=1.0000\n",
      "- Coordinate systems (id=9598) size=3, purity=1.0000\n",
      "- Continuous mappings (id=9619) size=3, purity=1.0000\n",
      "- Mathematical analysis (id=9651) size=3, purity=1.0000\n"
     ]
    }
   ],
   "source": [
    "\n",
    "evaluate.report_overall(clustering, purity_threshold=0.8, min_size=3, sort_by='size')"
   ]
  },
  {
   "cell_type": "code",
   "execution_count": 84,
   "metadata": {
    "collapsed": false,
    "scrolled": true
   },
   "outputs": [
    {
     "name": "stdout",
     "output_type": "stream",
     "text": [
      "cluster 8246, size: 3\n",
      "- Mean squared error (categories: Statistics, Signal processing, Control theory, Statistical theory, Machine learning, ...) predict random gaussian sampl size γ_2 squar X_n unknown X_i estim μ_4 θ paramet μ σ E distribut χ bernoulli X_1 regressor S Y_i Y X varianc true popul central m moment n p error mean\n",
      "- Basu's theorem (categories: Statistics, Mathematical theorems, Statistical theory, Statistical inference, Inference, ...) random famili variabl suffici space X_i θ μ t σ B distribut normal P T X varianc measur d n statist P_θ margin mean\n",
      "- Bias of an estimator (categories: Statistics, Statistical theory, Scientific theories, Estimation theory, Statistical deviation and dispersion, ...) constant process number expect unbias maximum-likelihood distribut fix X_i estim δ reason θ λ μ statist σ E D rise N P S T X ticket varianc data averag popul c g m l n p s t poisson x model observ\n",
      "\n",
      "common terms: (σ varianc distribut n X θ X_i μ)\n",
      "top categories: (Statistics, 3), (Statistical theory, 3), (Statistical deviation and dispersion, 2), (Estimation theory, 2), (Point estimation performance, 2)\n",
      "purity: 1.000\n",
      "relations:\n",
      "     P_θ: (family: 0.87)\n",
      "     S: (reason: 0.87)\n",
      "     T: (marginal distributions: 0.95)\n",
      "     X: (measurable space: 0.95), (poisson: 0.82)\n",
      "     Y: (predictions: 0.87)\n",
      "     n: (tickets: 0.96), (predictions: 0.95), (size: 0.92), (maximum-likelihood estimator: 0.89), (random sample: 0.82), (population: 0.82)\n",
      "     p: (regressors: 0.96), (bernoulli distribution: 0.88)\n",
      "     x: (data: 0.99), (observations: 0.93)\n",
      "     γ_2: (gaussian distribution: 0.86)\n",
      "     δ: (unbiased estimator: 0.99), (expectation: 0.83)\n",
      "     θ: (estimator: 2.83), (unknown parameter: 1.91), (statistic*: 1.87), (rise: 0.91), (statistical model: 0.85), (fixed constant: 0.82)\n",
      "     λ: (expectation: 0.99), (distribution: 0.86), (process: 0.83), (average number: 0.83), (poisson: 0.81)\n",
      "     μ: (mean*: 1.95), (variance: 1.88), (population: 1.78), (expectation: 0.96), (random variables: 0.89), (normal: 0.83)\n",
      "     μ_4: (central moment: 0.83)\n",
      "     σ: (variance*: 3.70), (estimator*: 1.69), (square error: 0.83), (mean: 0.83)\n"
     ]
    }
   ],
   "source": [
    "evaluate.print_cluster(clustering, 8246)"
   ]
  },
  {
   "cell_type": "code",
   "execution_count": 24,
   "metadata": {
    "collapsed": false
   },
   "outputs": [],
   "source": [
    "def print_iddef(rel):\n",
    "    for id in sorted(rel.keys()):      \n",
    "        print u'%s:' % id,\n",
    "\n",
    "        defs = sorted(rel[id], key=lambda t: -t[1])\n",
    "        for df, score in defs:\n",
    "            print u'(%s, %0.2f),' % (df, score),\n",
    "        print"
   ]
  },
  {
   "cell_type": "code",
   "execution_count": 111,
   "metadata": {
    "collapsed": false,
    "scrolled": true
   },
   "outputs": [
    {
     "name": "stdout",
     "output_type": "stream",
     "text": [
      "Y: (predictions, 0.87),\n",
      "n: (predictions, 0.95), (size, 0.92), (random sample, 0.82), (population, 0.82),\n",
      "p: (regressors, 0.96), (Bernoulli distribution, 0.88),\n",
      "γ_2: (Gaussian distribution, 0.86),\n",
      "θ: (estimator, 0.98), (unknown parameter, 0.98), (unknown parameter, 0.94),\n",
      "μ: (true mean, 0.96), (population, 0.89),\n",
      "μ_4: (central moment, 0.83),\n",
      "σ: (population variance, 0.86), (square error, 0.83), (estimators, 0.82),\n",
      "\n",
      "P_θ: (family, 0.87),\n",
      "T: (marginal distributions, 0.95),\n",
      "X: (measurable space, 0.95),\n",
      "θ: (sufficient statistic, 0.93),\n",
      "μ: (mean, 0.99), (variance, 0.95), (random variables, 0.89), (normal, 0.83),\n",
      "σ: (variance, 0.99), (mean, 0.83),\n",
      "\n",
      "S: (reason, 0.87),\n",
      "X: (Poisson, 0.82),\n",
      "n: (tickets, 0.96), (maximum-likelihood estimator, 0.89),\n",
      "x: (data, 0.99), (observations, 0.93),\n",
      "δ: (unbiased estimator, 0.99), (expectation, 0.83),\n",
      "θ: (statistic, 0.95), (estimator, 0.93), (estimator, 0.93), (rise, 0.91), (statistical model, 0.85), (fixed constant, 0.82),\n",
      "λ: (expectation, 0.99), (distribution, 0.86), (process, 0.83), (average number, 0.83), (Poisson, 0.81),\n",
      "μ: (expectation, 0.96), (variance, 0.93), (population, 0.89),\n",
      "σ: (variance, 0.94), (population variance, 0.91), (estimator, 0.87),\n",
      "\n"
     ]
    }
   ],
   "source": [
    "print_iddef(rels[title_idx['Mean squared error']])\n",
    "print \n",
    "print_iddef(rels[title_idx[\"Basu's theorem\"]])\n",
    "print\n",
    "print_iddef(rels[title_idx['Bias of an estimator']])\n",
    "print "
   ]
  },
  {
   "cell_type": "code",
   "execution_count": 112,
   "metadata": {
    "collapsed": true
   },
   "outputs": [],
   "source": [
    "def combine(rel_list):\n",
    "    dct = defaultdict(list)\n",
    "    \n",
    "    for rel in rel_list:\n",
    "        for id, defs in rel.items():\n",
    "            dct[id].extend(defs)\n",
    "    \n",
    "    return dct"
   ]
  },
  {
   "cell_type": "code",
   "execution_count": 116,
   "metadata": {
    "collapsed": false
   },
   "outputs": [
    {
     "name": "stdout",
     "output_type": "stream",
     "text": [
      "P_θ: (family, 0.87),\n",
      "S: (reason, 0.87),\n",
      "T: (marginal distributions, 0.95),\n",
      "X: (measurable space, 0.95), (Poisson, 0.82),\n",
      "Y: (predictions, 0.87),\n",
      "n: (tickets, 0.96), (predictions, 0.95), (size, 0.92), (maximum-likelihood estimator, 0.89), (random sample, 0.82), (population, 0.82),\n",
      "p: (regressors, 0.96), (Bernoulli distribution, 0.88),\n",
      "x: (data, 0.99), (observations, 0.93),\n",
      "γ_2: (Gaussian distribution, 0.86),\n",
      "δ: (unbiased estimator, 0.99), (expectation, 0.83),\n",
      "θ: (estimator, 0.98), (unknown parameter, 0.98), (statistic, 0.95), (unknown parameter, 0.94), (estimator, 0.93), (sufficient statistic, 0.93), (estimator, 0.93), (rise, 0.91), (statistical model, 0.85), (fixed constant, 0.82),\n",
      "λ: (expectation, 0.99), (distribution, 0.86), (process, 0.83), (average number, 0.83), (Poisson, 0.81),\n",
      "μ: (mean, 0.99), (true mean, 0.96), (expectation, 0.96), (variance, 0.95), (variance, 0.93), (random variables, 0.89), (population, 0.89), (population, 0.89), (normal, 0.83),\n",
      "μ_4: (central moment, 0.83),\n",
      "σ: (variance, 0.99), (variance, 0.94), (population variance, 0.91), (estimator, 0.87), (population variance, 0.86), (square error, 0.83), (mean, 0.83), (estimators, 0.82),\n"
     ]
    }
   ],
   "source": [
    "d1 = rels[title_idx['Mean squared error']]\n",
    "d2 = rels[title_idx[\"Basu's theorem\"]]\n",
    "d3 = rels[title_idx['Bias of an estimator']]\n",
    "\n",
    "print_iddef(combine([d1, d2, d3]))"
   ]
  },
  {
   "cell_type": "code",
   "execution_count": 80,
   "metadata": {
    "collapsed": false,
    "scrolled": true
   },
   "outputs": [
    {
     "name": "stdout",
     "output_type": "stream",
     "text": [
      "overall purity 0.6336\n",
      "number of high purity clusters of size at least 5 is 414\n",
      "\n",
      "category \"Category theory\", cluster_id=56, size=3:\n",
      "top categories: [(u'Category theory', 3), (u'Multilinear algebra', 3), (u'Monoidal categories', 3), (u'Closed categories', 1), (u'Dagger categories', 1)]\n",
      "     λ: (natural isomorphisms: 0.84), (identities: 0.83)\n",
      "category \"Complex analysis\", cluster_id=57, size=6:\n",
      "top categories: [(u'Complex analysis', 6), (u'Number theory', 6), (u'Moduli theory', 6), (u'Modular forms', 6), (u'Automorphic forms', 6)]\n",
      "     λ: (cancellation: 0.95)\n",
      "category \"Coordinate systems\", cluster_id=313, size=3:\n",
      "top categories: [(u'Coordinate systems', 3), (u'Cartography', 3), (u'Cartographic projections', 3), (u'Equal-area projections', 2)]\n",
      "     λ: (longitude*: 2.74), (formulas: 0.89)\n",
      "category \"Probability distributions\", cluster_id=373, size=6:\n",
      "top categories: [(u'Probability distributions', 5), (u'Continuous distributions', 5), (u'Exponential family distributions', 3), (u'Normal distribution', 2), (u'Gaussian function', 2)]\n",
      "     λ: (references: 0.89), (ways: 0.84)\n",
      "category \"Mechanics\", cluster_id=438, size=4:\n",
      "top categories: [(u'Mechanics', 4), (u'Modern physics', 4), (u'Philosophy of physics', 4), (u'Quantum mechanics', 4), (u'Solid state engineering', 4)]\n",
      "     λ: (power series: 0.88), (dimensionless parameter: 0.86)\n",
      "category \"Radioactivity\", cluster_id=633, size=3:\n",
      "top categories: [(u'Radioactivity', 3), (u'Nuclear physics', 2), (u'Radiation', 2), (u'Nuclear chemistry', 2), (u'Units of radioactivity', 1)]\n",
      "     λ: (decay: 1.82), (sample: 0.95), (radionuclide: 0.83)\n",
      "category \"Measure theory\", cluster_id=728, size=4:\n",
      "top categories: [(u'Measure theory', 4), (u'Measures (measure theory)', 3), (u'Mathematical analysis', 2), (u'Statistics', 1), (u'Stochastic processes', 1)]\n",
      "     λ: (lebesgue measure: 0.95), (dimensiona: 0.86)\n",
      "category \"Surface chemistry\", cluster_id=835, size=3:\n",
      "top categories: [(u'Surface chemistry', 3), (u'Physical chemistry', 3), (u'Materials science', 2), (u'Building engineering', 2), (u'Applied and interdisciplinary physics', 2)]\n",
      "     λ: (ideal gas: 0.83)\n",
      "category \"Quantum field theory\", cluster_id=1173, size=5:\n",
      "top categories: [(u'Quantum field theory', 4), (u'Particle physics', 4), (u'Quantum mechanics', 3), (u'Standard Model', 3), (u'Physics', 3)]\n",
      "     λ: (coupling constant: 0.89)\n",
      "category \"Wave mechanics\", cluster_id=1665, size=3:\n",
      "top categories: [(u'Wave mechanics', 3), (u'Partial differential equations', 3), (u'Waves', 3), (u'Concepts in physics', 2), (u'Radio technology', 2)]\n",
      "     λ: (wavelength: 2.65), (medium: 0.99), (slit width: 0.86)\n",
      "category \"Representation theory of Lie groups\", cluster_id=1709, size=4:\n",
      "top categories: [(u'Representation theory of Lie groups', 4), (u'Representation theory', 3), (u'Representation theory of Lie algebras', 2), (u'Representation theory of groups', 2), (u'Lie groups', 2)]\n",
      "     λ: (weight*: 7.11), (infinitesimal character: 0.96), (finite dimensional: 0.91), (discrete series representation: 0.89)\n",
      "category \"Metalogic\", cluster_id=1761, size=3:\n",
      "top categories: [(u'Metalogic', 3), (u'Grammar', 3), (u'Formal sciences', 3), (u'Syntax (logic)', 3), (u'Formal languages', 3)]\n",
      "     λ: (empty word: 0.96)\n",
      "category \"Optics\", cluster_id=1800, size=5:\n",
      "top categories: [(u'Optics', 4), (u'Electromagnetic radiation', 3), (u'Natural philosophy', 2), (u'Applied and interdisciplinary physics', 2), (u'Applied sciences', 2)]\n",
      "     λ: (wavelength: 1.76), (wave: 0.89)\n",
      "category \"Quantum mechanics\", cluster_id=2189, size=3:\n",
      "top categories: [(u'Quantum mechanics', 3), (u'Theoretical physics', 3), (u'Mechanics', 2), (u'Modern physics', 2), (u'Philosophy of physics', 2)]\n",
      "     λ: (wavelength: 0.99), (potential barrier: 0.93), (left: 0.91), (measurement device: 0.89), (distances: 0.83), (details: 0.83)\n",
      "category \"Physical optics\", cluster_id=2792, size=4:\n",
      "top categories: [(u'Physical optics', 4), (u'Wave mechanics', 2), (u'Physics', 2), (u'Partial differential equations', 2), (u'Waves', 2)]\n",
      "     λ: (wavelength: 3.59), (radiation*: 1.90), (incident: 1.80), (angle: 0.83)\n",
      "category \"Mechanics\", cluster_id=3040, size=8:\n",
      "top categories: [(u'Mechanics', 8), (u'Continuum mechanics', 7), (u'Materials science', 6), (u'Classical mechanics', 5), (u'Structural engineering', 3)]\n",
      "     λ: (previous expression: 0.95)\n",
      "category \"Number theory\", cluster_id=3651, size=4:\n",
      "top categories: [(u'Number theory', 4), (u'Complex analysis', 2), (u'Types of functions', 2), (u'Abelian group theory', 2), (u'Special functions', 2)]\n",
      "     λ: (modular lambda function: 0.99)\n",
      "category \"Electrostatics\", cluster_id=3706, size=3:\n",
      "top categories: [(u'Electrostatics', 3), (u'Electromagnetism', 3), (u'Surfaces', 1), (u'Differential geometry of surfaces', 1), (u'History of physics', 1)]\n",
      "     λ: (unit length: 0.93), (charge: 0.81)\n",
      "category \"Linear algebra\", cluster_id=3915, size=7:\n",
      "top categories: [(u'Linear algebra', 6), (u'Matrix theory', 4), (u'Algebra', 3), (u'Abstract algebra', 2), (u'Mathematical objects', 2)]\n",
      "     λ: (scalar: 0.85), (linear equation: 0.85), (eigenvalue: 0.85), (characteristic polynomial: 0.82)\n",
      "category \"Partial differential equations\", cluster_id=3919, size=5:\n",
      "top categories: [(u'Partial differential equations', 5), (u'Topological vector spaces', 4), (u'Sobolev spaces', 4), (u'Mathematical analysis', 3), (u'Mathematical theorems', 2)]\n",
      "     λ: (constants: 0.87)\n",
      "category \"Theories of gravitation\", cluster_id=3981, size=5:\n",
      "top categories: [(u'Theories of gravitation', 4), (u'Gravitation', 3), (u'Scientific theories', 3), (u'Theoretical physics', 3), (u'Philosophy of physics', 2)]\n",
      "     λ: (dicke: 0.95), (brans: 0.89)\n",
      "category \"Theoretical physics\", cluster_id=4359, size=3:\n",
      "top categories: [(u'Theoretical physics', 3), (u'Theory of relativity', 2), (u'Special relativity', 2), (u'Mathematical physics', 2), (u'Modern physics', 1)]\n",
      "     λ: (eigenvalues*: 1.91), (opposite sign: 0.89), (problem: 0.81)\n",
      "category \"Linear algebra\", cluster_id=4499, size=5:\n",
      "top categories: [(u'Linear algebra', 5), (u'Singular value decomposition', 3), (u'Algebra', 3), (u'Matrix decompositions', 3), (u'Matrix theory', 3)]\n",
      "     λ: (matrix: 0.87), (symmetry: 0.84), (algebraic relation: 0.81)\n",
      "category \"Stellar astronomy\", cluster_id=4515, size=3:\n",
      "top categories: [(u'Stellar astronomy', 3), (u'Stars', 3), (u'Bodies of the Solar System', 2), (u'Sun', 2), (u'G-type main sequence stars', 2)]\n",
      "     λ: (mean free path: 0.92), (photon: 0.86)\n",
      "category \"Mathematical theorems\", cluster_id=4650, size=3:\n",
      "top categories: [(u'Mathematical theorems', 3), (u'Mathematical problem solving', 2), (u'Homeomorphisms', 1), (u'Convex analysis', 1), (u'Statistical theorems', 1)]\n",
      "     λ: (poisson distribution: 0.87)\n",
      "category \"Optics\", cluster_id=4795, size=4:\n",
      "top categories: [(u'Optics', 4), (u'Natural philosophy', 2), (u'Applied and interdisciplinary physics', 2), (u'Electromagnetic radiation', 2), (u'Geometrical optics', 2)]\n",
      "     λ: (wavelength*: 2.61), (angular resolution: 0.88)\n",
      "category \"Statistical data types\", cluster_id=4866, size=3:\n",
      "top categories: [(u'Statistical data types', 3), (u'Multivariate statistics', 3), (u'Statistical classification', 2), (u'Machine learning', 2), (u'Algorithms', 2)]\n",
      "     λ: (regularization parameter: 0.96)\n",
      "category \"Operator theory\", cluster_id=4887, size=3:\n",
      "top categories: [(u'Operator theory', 3), (u'Theoretical physics', 2), (u'Functional analysis', 2), (u'Multilinear algebra', 1), (u'Determinants', 1)]\n",
      "     λ: (algebraic multiplicity: 0.95), (kernel: 0.83)\n",
      "category \"Materials science\", cluster_id=4928, size=3:\n",
      "top categories: [(u'Materials science', 3), (u'Building engineering', 3), (u'Applied and interdisciplinary physics', 3), (u'Non-Newtonian fluids', 3), (u'Chemical engineering', 3)]\n",
      "     λ: (rate: 0.95), (time: 0.95), (relaxation: 0.83)\n",
      "category \"Infinity\", cluster_id=5002, size=3:\n",
      "top categories: [(u'Infinity', 3), (u'Set theory', 3), (u'Ordinal numbers', 3), (u'Numbers', 3), (u'Cardinal numbers', 3)]\n",
      "     λ: (limit ordinals*: 2.68), (infinite limit: 0.87), (successor ordinal: 0.84)\n",
      "category \"Differential equations\", cluster_id=5068, size=3:\n",
      "top categories: [(u'Differential equations', 3), (u'Differential calculus', 2), (u'Equations', 2), (u'Computational chemistry', 1), (u'Mathematical analysis', 1)]\n",
      "     λ: (differential operator: 0.89), (eigenvalue: 0.89)\n",
      "category \"Statistics\", cluster_id=5389, size=20:\n",
      "top categories: [(u'Statistics', 17), (u'Econometrics', 16), (u'Statistical data types', 15), (u'Estimation theory', 14), (u'Regression analysis', 14)]\n",
      "     λ: (words: 0.93), (error: 0.81)\n",
      "category \"Riemannian geometry\", cluster_id=5515, size=3:\n",
      "top categories: [(u'Riemannian geometry', 3), (u'Differential geometry', 3), (u'Metric geometry', 3), (u'General relativity', 2), (u'Mathematics', 2)]\n",
      "     λ: (contravariant vector field: 0.96)\n",
      "category \"Linear algebra\", cluster_id=5516, size=3:\n",
      "top categories: [(u'Linear algebra', 3), (u'Matrix decompositions', 3), (u'Matrix theory', 3), (u'Numerical linear algebra', 2), (u'Singular value decomposition', 1)]\n",
      "     λ: (eigenvalue*: 2.53), (finite-dimensional vector space: 0.81)\n",
      "category \"Fluid dynamics\", cluster_id=5619, size=10:\n",
      "top categories: [(u'Fluid dynamics', 10), (u'Waves', 8), (u'Physical oceanography', 8), (u'Water waves', 8), (u'Fluid mechanics', 7)]\n",
      "     λ: (wavelength: 6.44), (mean depth*: 1.71), (period: 0.89)\n",
      "category \"Liquids\", cluster_id=5692, size=3:\n",
      "top categories: [(u'Liquids', 3), (u'Non-Newtonian fluids', 3), (u'Fluid mechanics', 3)]\n",
      "     λ: (relaxation time: 0.88)\n",
      "category \"Rubber properties\", cluster_id=5871, size=4:\n",
      "top categories: [(u'Rubber properties', 4), (u'Mechanics', 4), (u'Solid mechanics', 4), (u'Materials science', 4), (u'Continuum mechanics', 4)]\n",
      "     λ: (engineering strain*: 8.96), (green: 0.83)\n",
      "category \"Quantum mechanics\", cluster_id=6256, size=5:\n",
      "top categories: [(u'Quantum mechanics', 5), (u'Theoretical physics', 4), (u'Particle physics', 3), (u'Modern physics', 2), (u'Philosophy of physics', 2)]\n",
      "     λ: (wavelength*: 6.47), (bin size*: 1.72), (volume: 0.89), (station: 0.89), (dimensions: 0.82)\n",
      "category \"Cartographic projections\", cluster_id=6523, size=6:\n",
      "top categories: [(u'Cartographic projections', 5), (u'Coordinate systems', 4), (u'Cartography', 4), (u'Equal-area projections', 3), (u'Earth sciences', 1)]\n",
      "     λ: (longitude*: 10.02), (directions: 0.99)\n",
      "category \"Quantum mechanics\", cluster_id=6783, size=5:\n",
      "top categories: [(u'Quantum mechanics', 4), (u'Quantum information science', 4), (u'Quantum measurement', 4), (u'Inequalities', 1), (u'Philosophy of physics', 1)]\n",
      "     λ: (state*: 2.66), (spectral power distribution*: 1.88), (detector settings*: 1.87), (probability: 1.77), (same value: 0.91), (hidden variable: 0.89), (indifference: 0.86), (density function: 0.84), (color: 0.83)\n",
      "category \"Algebra\", cluster_id=6823, size=3:\n",
      "top categories: [(u'Algebra', 3), (u'Linear algebra', 2), (u'Vectors', 2), (u'Fields of mathematics', 1), (u'Abstract algebra', 1)]\n",
      "     λ: (multiplicity: 0.93), (complex number: 0.84)\n",
      "category \"Physics\", cluster_id=6991, size=5:\n",
      "top categories: [(u'Physics', 4), (u'Solid state engineering', 3), (u'Particle physics', 3), (u'Modern physics', 2), (u'Philosophy of physics', 2)]\n",
      "     λ: (exciton state*: 2.76), (w_αxy: 0.94), (state: 0.93), (depth: 0.86)\n",
      "category \"Physical optics\", cluster_id=7294, size=3:\n",
      "top categories: [(u'Physical optics', 3), (u'Spectroscopy', 2), (u'Harmonic analysis', 2), (u'Diffraction', 2), (u'Mathematical analysis', 2)]\n",
      "     λ: (wavelength: 2.77), (wavenumber: 1.74), (complex amplitude: 1.69), (sources: 0.92), (plane wave: 0.83), (eigenvalues: 0.82)\n",
      "category \"Condensed matter physics\", cluster_id=7511, size=4:\n",
      "top categories: [(u'Condensed matter physics', 4), (u'Statistical mechanics', 3), (u'Conformal field theory', 2), (u'Thermodynamic processes', 2), (u'Phase transitions', 2)]\n",
      "     λ: (penetration depth: 0.95)\n",
      "category \"Number theory\", cluster_id=7559, size=7:\n",
      "top categories: [(u'Number theory', 6), (u'Combinatorics', 4), (u'Arithmetic functions', 4), (u'Fields of mathematics', 2), (u'Wikipedia categories named after scientists', 2)]\n",
      "     λ: (partition: 1.90), (part*: 1.75), (associate: 0.94), (liouville function: 0.81)\n",
      "category \"Applied and interdisciplinary physics\", cluster_id=7631, size=3:\n",
      "top categories: [(u'Applied and interdisciplinary physics', 3), (u'Sound', 2), (u'Fluid dynamics', 2), (u'Acoustics', 2), (u'Mathematics of music', 2)]\n",
      "     λ: (wavelength: 4.52), (free space: 0.89), (half: 0.88)\n",
      "category \"Measurement\", cluster_id=7646, size=3:\n",
      "top categories: [(u'Measurement', 3), (u'Electromagnetism', 3), (u'Materials science', 2), (u'Superconductivity', 2), (u'Engineering equipment', 2)]\n",
      "     λ: (order: 0.89)\n",
      "category \"Differential geometry\", cluster_id=7959, size=8:\n",
      "top categories: [(u'Differential geometry', 7), (u'Differential topology', 7), (u'Theoretical physics', 6), (u'Mathematical analysis', 5), (u'Geometry', 5)]\n",
      "     λ: (vector fields: 1.82), (operators: 0.91)\n",
      "category \"Optics\", cluster_id=8003, size=3:\n",
      "top categories: [(u'Optics', 3), (u'Natural philosophy', 2), (u'Applied and interdisciplinary physics', 2), (u'Electromagnetic radiation', 2), (u'Applied sciences', 2)]\n",
      "     λ: (wavelength: 1.78)\n",
      "category \"Electronic amplifiers\", cluster_id=8062, size=7:\n",
      "top categories: [(u'Electronic amplifiers', 6), (u'Transistors', 6), (u'Single-stage transistor amplifiers', 5), (u'Multi-stage transistor amplifiers', 1), (u'Circuit theorems', 1)]\n",
      "     λ: (typical value: 0.93)\n",
      "category \"Statistics\", cluster_id=8246, size=3:\n",
      "top categories: [(u'Statistics', 3), (u'Statistical theory', 3), (u'Statistical deviation and dispersion', 2), (u'Estimation theory', 2), (u'Point estimation performance', 2)]\n",
      "     λ: (expectation: 0.99), (distribution: 0.86), (process: 0.83), (average number: 0.83), (poisson: 0.81)\n",
      "category \"Linear algebra\", cluster_id=8391, size=3:\n",
      "top categories: [(u'Linear algebra', 3), (u'Spectral theory', 1), (u'Abstract algebra', 1), (u'Banach algebras', 1), (u'Markov processes', 1)]\n",
      "     λ: (eigenvalue*: 1.66), (matrix: 0.94), (unit circle: 0.87)\n",
      "category \"Continuous distributions\", cluster_id=8442, size=5:\n",
      "top categories: [(u'Continuous distributions', 4), (u'Probability distributions', 4), (u'Generalized hyperbolic distributions', 2), (u'General relativity', 1), (u'Theory of relativity', 1)]\n",
      "     λ: (affine parameter: 0.99)\n",
      "category \"Quantum mechanics\", cluster_id=8648, size=5:\n",
      "top categories: [(u'Quantum mechanics', 4), (u'Quantum field theory', 4), (u'Theoretical physics', 4), (u'Particle physics', 4), (u'Physics', 3)]\n",
      "     λ: (classical action: 0.89)\n",
      "category \"Cartography\", cluster_id=8702, size=3:\n",
      "top categories: [(u'Cartography', 3), (u'Coordinate systems', 3), (u'Cartographic projections', 3), (u'Complex analysis', 1), (u'Continuous mappings', 1)]\n",
      "     λ: (longitude*: 7.24), (globe: 0.84), (radians: 0.81)\n",
      "category \"Physics\", cluster_id=8704, size=5:\n",
      "top categories: [(u'Physics', 4), (u'Special relativity', 3), (u'Theory of relativity', 2), (u'History of physics', 2), (u'Hypothetical objects', 2)]\n",
      "     λ: (length: 0.93), (plancks constant: 0.93)\n",
      "category \"Fluid dynamics\", cluster_id=9006, size=6:\n",
      "top categories: [(u'Fluid dynamics', 5), (u'Fluid mechanics', 4), (u'Physics', 3), (u'Aerodynamics', 3), (u'Dynamics', 3)]\n",
      "     λ: (free path: 0.93)\n",
      "category \"Optics\", cluster_id=9222, size=3:\n",
      "top categories: [(u'Optics', 3), (u'Laboratory techniques', 2), (u'Microscopy', 2), (u'Microbiology', 2), (u'Microscope components', 1)]\n",
      "     λ: (wavelength*: 3.50), (refractive index: 0.93)\n",
      "category \"Mathematical analysis\", cluster_id=9446, size=3:\n",
      "top categories: [(u'Mathematical analysis', 3), (u'Theoretical physics', 3), (u'Functional analysis', 3), (u'Operator theory', 3), (u'Complex analysis', 2)]\n",
      "     λ: (eigenvalue: 0.86)\n",
      "category \"Quantum field theory\", cluster_id=9495, size=4:\n",
      "top categories: [(u'Quantum field theory', 4), (u'Quantum mechanics', 4), (u'Theoretical physics', 4), (u'Particle physics', 4), (u'Mechanics', 1)]\n",
      "     λ: (coupling constant: 1.94), (scale: 0.93), (dimensionless: 0.93)\n",
      "category \"Theoretical physics\", cluster_id=9514, size=3:\n",
      "top categories: [(u'Theoretical physics', 3), (u'Exactly solvable models', 2), (u'Quantum field theory', 2), (u'Partial differential equations', 2), (u'Differential equations', 2)]\n",
      "     λ: (eigenvalue: 2.71), (potential: 0.89), (special case: 0.89)\n",
      "category \"Analysis of variance\", cluster_id=9528, size=4:\n",
      "top categories: [(u'Analysis of variance', 4), (u'Least squares', 4), (u'Estimation theory', 4), (u'Numerical linear algebra', 4), (u'Mathematical optimization', 4)]\n",
      "     λ: (marquardt: 1.71), (time: 0.93), (identity matrix: 0.93), (effect: 0.84)\n"
     ]
    }
   ],
   "source": [
    "evaluate.find_identifier(clustering, purity_threshold=0.8, min_size=3, id=u'λ', collection_weighting=0)"
   ]
  },
  {
   "cell_type": "code",
   "execution_count": 55,
   "metadata": {
    "collapsed": false
   },
   "outputs": [
    {
     "data": {
      "image/png": "[encoded data removed]",
      "text/plain": [
       "<matplotlib.figure.Figure at 0x442ae080>"
      ]
     },
     "metadata": {},
     "output_type": "display_data"
    }
   ],
   "source": [
    "plt.figure(figsize=(6, 3))\n",
    "plt.plot(ks, purity, color='black')\n",
    "# plt.title('Purity vs number of clusters')\n",
    "plt.xlabel('Number of clusters')\n",
    "plt.ylabel('Purity')\n",
    "\n",
    "plt.savefig('figures/purity.pdf', format='pdf')\n",
    "plt.show()"
   ]
  },
  {
   "cell_type": "code",
   "execution_count": 56,
   "metadata": {
    "collapsed": false
   },
   "outputs": [],
   "source": [
    "pure_counts = np.array(len_pure)\n",
    "smoothed= pd.stats.moments.rolling_mean(pure_counts, window=7, center=True)"
   ]
  },
  {
   "cell_type": "code",
   "execution_count": 60,
   "metadata": {
    "collapsed": false,
    "scrolled": true
   },
   "outputs": [
    {
     "data": {
      "image/png": "[encoded data removed]",
      "text/plain": [
       "<matplotlib.figure.Figure at 0x44abfe48>"
      ]
     },
     "metadata": {},
     "output_type": "display_data"
    }
   ],
   "source": [
    "plt.figure(figsize=(6, 3))\n",
    "plt.plot(ks, pure_counts, color='grey', label='no. clusters')\n",
    "plt.plot(ks, smoothed, color='black', label='smoothed line')\n",
    "# plt.title('Number of pure clusters vs number of clusters')\n",
    "plt.xlabel('Number of clusters')\n",
    "plt.ylabel('Number of pure clusters')\n",
    "plt.legend(loc='best')#lower center')\n",
    "\n",
    "plt.savefig('figures/pure-clusters.pdf', format='pdf')\n",
    "plt.show()"
   ]
  },
  {
   "cell_type": "code",
   "execution_count": 47,
   "metadata": {
    "collapsed": false,
    "scrolled": true
   },
   "outputs": [
    {
     "name": "stdout",
     "output_type": "stream",
     "text": [
      "overall purity 0.5828\n",
      "number of high purity clusters of size at least 5 is 82\n",
      "\n",
      "category \"Thermodynamic entropy\", cluster_id=68, size=5:\n",
      "top categories: [(u'Thermodynamic entropy', 4), (u'Entropy and information', 4), (u'Quantum mechanical entropy', 4), (u'Entropy', 4), (u'Quantum information theory', 4)]\n",
      "     σ: (quantum states*: 1.75), (density matrices*: 1.70), (hilbert: 0.84)\n",
      "category \"Quantum mechanics\", cluster_id=412, size=5:\n",
      "top categories: [(u'Quantum mechanics', 4), (u'Quantum chemistry', 2), (u'Computational chemistry', 2), (u'Physical chemistry', 2), (u'Theoretical chemistry', 2)]\n",
      "     σ: (notation: 0.87)\n",
      "category \"Quantum mechanics\", cluster_id=1057, size=16:\n",
      "top categories: [(u'Quantum mechanics', 14), (u'Particle physics', 8), (u'Theoretical physics', 7), (u'Physics', 6), (u'Mechanics', 5)]\n",
      "     σ: (annihilation operators: 0.99), (polarization: 0.89), (creation: 0.89), (quasi-momentum: 0.89), (orbit interaction couple spin matrices: 0.89)\n",
      "category \"Gravitation\", cluster_id=1482, size=6:\n",
      "top categories: [(u'Gravitation', 5), (u'Celestial mechanics', 4), (u'Physics', 4), (u'Statics', 3), (u'Force', 3)]\n",
      "     σ: (length: 0.88), (stress: 0.86)\n",
      "category \"Continuum mechanics\", cluster_id=1864, size=9:\n",
      "top categories: [(u'Continuum mechanics', 8), (u'Materials science', 7), (u'Mechanics', 7), (u'Classical mechanics', 5), (u'Structural engineering', 4)]\n",
      "     σ: (stress: 0.97)\n",
      "category \"Statistics\", cluster_id=2819, size=5:\n",
      "top categories: [(u'Statistics', 5), (u'Bayesian statistics', 3), (u'Statistical theory', 2), (u'Machine learning', 2), (u'Statistical models', 2)]\n",
      "     σ: (standard deviation: 0.99), (choice: 0.99), (notion: 0.89), (strategies: 0.86), (errors: 0.83)\n",
      "category \"Partial differential equations\", cluster_id=3269, size=7:\n",
      "top categories: [(u'Partial differential equations', 6), (u'Waves', 6), (u'Concepts in physics', 5), (u'Periodic phenomena', 4), (u'Physical phenomena', 4)]\n",
      "     σ: (spread: 0.89)\n",
      "category \"Numerical analysis\", cluster_id=3606, size=5:\n",
      "top categories: [(u'Numerical analysis', 4), (u'Analysis', 2), (u'Fields of mathematics', 1), (u'Natural philosophy', 1), (u'Hamiltonian mechanics', 1)]\n",
      "     σ: (variance: 1.90), (mean density*: 1.70)\n",
      "category \"Differential geometry\", cluster_id=4738, size=10:\n",
      "top categories: [(u'Differential geometry', 9), (u'Mathematical analysis', 7), (u'Differential topology', 7), (u'Theoretical physics', 7), (u'Geometry', 6)]\n",
      "     σ: (dimensional representation*: 1.86), (trace: 0.99)\n",
      "category \"Probability distributions\", cluster_id=4796, size=5:\n",
      "top categories: [(u'Probability distributions', 5), (u'Discrete distributions', 5), (u'Exponential family distributions', 3), (u'Bayesian statistics', 2), (u'Distributions with conjugate priors', 2)]\n",
      "     σ: (standard deviation: 0.99), (population: 0.83)\n",
      "category \"Telecommunications engineering\", cluster_id=5488, size=6:\n",
      "top categories: [(u'Telecommunications engineering', 5), (u'Information', 3), (u'Statistical theory', 3), (u'Information theory', 3), (u'Theoretical computer science', 3)]\n",
      "     σ: (variance: 1.83), (autocorrelation matrix: 0.87), (gaussian: 0.87)\n",
      "category \"Combinatorics\", cluster_id=5600, size=5:\n",
      "top categories: [(u'Combinatorics', 5), (u'Analytic number theory', 3), (u'Factorial and binomial topics', 3), (u'Integer sequences', 2), (u'Theorems in algebra', 2)]\n",
      "     σ: (permutation: 0.93)\n",
      "category \"Integer sequences\", cluster_id=6725, size=6:\n",
      "top categories: [(u'Integer sequences', 5), (u'Numbers', 5), (u'Recreational mathematics', 4), (u'Divisor function', 4), (u'Integers', 4)]\n",
      "     σ: (sum-of-divisors function*: 2.68), (standard deviation: 0.99), (rational number: 0.95), (abundancy: 0.86), (probability: 0.83)\n",
      "category \"Probability\", cluster_id=7368, size=5:\n",
      "top categories: [(u'Probability', 4), (u'Statistics', 3), (u'Measure theory', 3), (u'Applied mathematics', 3), (u'Probability theory', 3)]\n",
      "     σ: (hermite distribution: 0.81)\n",
      "category \"Physics\", cluster_id=8200, size=5:\n",
      "top categories: [(u'Physics', 5), (u'Mechanics', 4), (u'Classical mechanics', 3), (u'Physical quantities', 3), (u'Concepts in physics', 2)]\n",
      "     σ: (electromagnetic field: 0.89)\n"
     ]
    }
   ],
   "source": [
    "evaluate.find_identifier(km_grid_hyperparam_res[9000], purity_threshold=0.8, id=u'σ', collection_weighting=0)"
   ]
  },
  {
   "cell_type": "code",
   "execution_count": null,
   "metadata": {
    "collapsed": true
   },
   "outputs": [],
   "source": [
    "evaluate.find_identifierf"
   ]
  },
  {
   "cell_type": "markdown",
   "metadata": {},
   "source": [
    "## NNMF"
   ]
  },
  {
   "cell_type": "code",
   "execution_count": 119,
   "metadata": {
    "collapsed": true
   },
   "outputs": [],
   "source": [
    "from sklearn.decomposition import NMF"
   ]
  },
  {
   "cell_type": "code",
   "execution_count": 117,
   "metadata": {
    "collapsed": true
   },
   "outputs": [],
   "source": [
    "km_grid_hyperparam_res = {}\n",
    "km_grid_hyperparam_lr = []"
   ]
  },
  {
   "cell_type": "code",
   "execution_count": 120,
   "metadata": {
    "collapsed": false,
    "scrolled": true
   },
   "outputs": [
    {
     "name": "stdout",
     "output_type": "stream",
     "text": [
      "n=150 done in 3036.993s.\n",
      "purity for n=150, k=500 is 0.2319, number of >0.8 clusters: 13\n",
      "purity for n=150, k=750 is 0.2525, number of >0.8 clusters: 22\n",
      "purity for n=150, k=1000 is 0.2686, number of >0.8 clusters: 39\n",
      "purity for n=150, k=1250 is 0.2713, number of >0.8 clusters: 47\n",
      "purity for n=150, k=1500 is 0.2965, number of >0.8 clusters: 57\n",
      "purity for n=150, k=1750 is 0.3122, number of >0.8 clusters: 88\n",
      "purity for n=150, k=2000 is 0.3133, number of >0.8 clusters: 52\n",
      "purity for n=150, k=2250 is 0.3248, number of >0.8 clusters: 64\n",
      "purity for n=150, k=2500 is 0.3362, number of >0.8 clusters: 97\n",
      "purity for n=150, k=2750 is 0.3548, number of >0.8 clusters: 95\n",
      "purity for n=150, k=3000 is 0.3620, number of >0.8 clusters: 101\n",
      "purity for n=150, k=3250 is 0.3697, number of >0.8 clusters: 130\n",
      "purity for n=150, k=3500 is 0.3798, number of >0.8 clusters: 146\n",
      "purity for n=150, k=3750 is 0.3997, number of >0.8 clusters: 162\n",
      "purity for n=150, k=4000 is 0.4035, number of >0.8 clusters: 164\n",
      "purity for n=150, k=4250 is 0.4196, number of >0.8 clusters: 199\n",
      "purity for n=150, k=4500 is 0.4281, number of >0.8 clusters: 192\n",
      "purity for n=150, k=4750 is 0.4287, number of >0.8 clusters: 170\n",
      "purity for n=150, k=5000 is 0.4432, number of >0.8 clusters: 199\n",
      "purity for n=150, k=5250 is 0.4478, number of >0.8 clusters: 197\n",
      "purity for n=150, k=5500 is 0.4697, number of >0.8 clusters: 239\n",
      "purity for n=150, k=5750 is 0.4671, number of >0.8 clusters: 206\n",
      "purity for n=150, k=6000 is 0.4801, number of >0.8 clusters: 246\n",
      "purity for n=150, k=6250 is 0.4853, number of >0.8 clusters: 216\n",
      "purity for n=150, k=6500 is 0.4976, number of >0.8 clusters: 255\n",
      "purity for n=150, k=6750 is 0.5073, number of >0.8 clusters: 263\n",
      "purity for n=150, k=7000 is 0.5048, number of >0.8 clusters: 262\n",
      "purity for n=150, k=7250 is 0.5116, number of >0.8 clusters: 267\n",
      "purity for n=150, k=7500 is 0.5196, number of >0.8 clusters: 268\n",
      "purity for n=150, k=7750 is 0.5466, number of >0.8 clusters: 283\n",
      "purity for n=150, k=8000 is 0.5518, number of >0.8 clusters: 297\n",
      "purity for n=150, k=8250 is 0.5601, number of >0.8 clusters: 290\n",
      "purity for n=150, k=8500 is 0.5717, number of >0.8 clusters: 312\n",
      "purity for n=150, k=8750 is 0.5808, number of >0.8 clusters: 325\n",
      "purity for n=150, k=9000 is 0.5860, number of >0.8 clusters: 287\n",
      "purity for n=150, k=9250 is 0.5922, number of >0.8 clusters: 288\n",
      "purity for n=150, k=9500 is 0.6049, number of >0.8 clusters: 289\n",
      "purity for n=150, k=9750 is 0.6131, number of >0.8 clusters: 294\n",
      "purity for n=150, k=10000 is 0.6164, number of >0.8 clusters: 293\n",
      "purity for n=150, k=10250 is 0.6227, number of >0.8 clusters: 277\n",
      "purity for n=150, k=10500 is 0.6373, number of >0.8 clusters: 296\n",
      "purity for n=150, k=10750 is 0.6442, number of >0.8 clusters: 289\n",
      "purity for n=150, k=11000 is 0.6535, number of >0.8 clusters: 281\n",
      "purity for n=150, k=11250 is 0.6583, number of >0.8 clusters: 283\n",
      "purity for n=150, k=11500 is 0.6665, number of >0.8 clusters: 283\n",
      "purity for n=150, k=11750 is 0.6704, number of >0.8 clusters: 278\n",
      "purity for n=150, k=12000 is 0.6767, number of >0.8 clusters: 299\n",
      "purity for n=150, k=12250 is 0.6909, number of >0.8 clusters: 269\n",
      "purity for n=150, k=12500 is 0.6965, number of >0.8 clusters: 250\n",
      "purity for n=150, k=12750 is 0.7042, number of >0.8 clusters: 263\n",
      "purity for n=150, k=13000 is 0.7123, number of >0.8 clusters: 236\n",
      "purity for n=150, k=13250 is 0.7216, number of >0.8 clusters: 244\n",
      "purity for n=150, k=13500 is 0.7291, number of >0.8 clusters: 240\n",
      "purity for n=150, k=13750 is 0.7343, number of >0.8 clusters: 251\n",
      "purity for n=150, k=14000 is 0.7433, number of >0.8 clusters: 228\n",
      "purity for n=150, k=14250 is 0.7445, number of >0.8 clusters: 220\n",
      "purity for n=150, k=14500 is 0.7590, number of >0.8 clusters: 235\n",
      "purity for n=150, k=14750 is 0.7669, number of >0.8 clusters: 225\n",
      "purity for n=150, k=15000 is 0.7737, number of >0.8 clusters: 207\n",
      "n=250 done in 5247.446s.\n",
      "purity for n=250, k=500 is 0.2422, number of >0.8 clusters: 18\n",
      "purity for n=250, k=750 is 0.2675, number of >0.8 clusters: 30\n",
      "purity for n=250, k=1000 is 0.2814, number of >0.8 clusters: 53\n",
      "purity for n=250, k=1250 is 0.2992, number of >0.8 clusters: 57\n",
      "purity for n=250, k=1500 is 0.3090, number of >0.8 clusters: 68\n",
      "purity for n=250, k=1750 is 0.3219, number of >0.8 clusters: 97\n",
      "purity for n=250, k=2000 is 0.3227, number of >0.8 clusters: 96\n",
      "purity for n=250, k=2250 is 0.3468, number of >0.8 clusters: 121\n",
      "purity for n=250, k=2500 is 0.3486, number of >0.8 clusters: 131\n",
      "purity for n=250, k=2750 is 0.3685, number of >0.8 clusters: 118\n",
      "purity for n=250, k=3000 is 0.3753, number of >0.8 clusters: 140\n",
      "purity for n=250, k=3250 is 0.3819, number of >0.8 clusters: 152\n",
      "purity for n=250, k=3500 is 0.3961, number of >0.8 clusters: 174\n",
      "purity for n=250, k=3750 is 0.4077, number of >0.8 clusters: 178\n",
      "purity for n=250, k=4000 is 0.4219, number of >0.8 clusters: 193\n",
      "purity for n=250, k=4250 is 0.4251, number of >0.8 clusters: 204\n",
      "purity for n=250, k=4500 is 0.4307, number of >0.8 clusters: 211\n",
      "purity for n=250, k=4750 is 0.4422, number of >0.8 clusters: 228\n",
      "purity for n=250, k=5000 is 0.4490, number of >0.8 clusters: 235\n",
      "purity for n=250, k=5250 is 0.4667, number of >0.8 clusters: 231\n",
      "purity for n=250, k=5500 is 0.4704, number of >0.8 clusters: 267\n",
      "purity for n=250, k=5750 is 0.4791, number of >0.8 clusters: 243\n",
      "purity for n=250, k=6000 is 0.4956, number of >0.8 clusters: 260\n",
      "purity for n=250, k=6250 is 0.4914, number of >0.8 clusters: 276\n",
      "purity for n=250, k=6500 is 0.5090, number of >0.8 clusters: 283\n",
      "purity for n=250, k=6750 is 0.5084, number of >0.8 clusters: 282\n",
      "purity for n=250, k=7000 is 0.5144, number of >0.8 clusters: 293\n",
      "purity for n=250, k=7250 is 0.5268, number of >0.8 clusters: 290\n",
      "purity for n=250, k=7500 is 0.5275, number of >0.8 clusters: 311\n",
      "purity for n=250, k=7750 is 0.5620, number of >0.8 clusters: 340\n",
      "purity for n=250, k=8000 is 0.5654, number of >0.8 clusters: 324\n",
      "purity for n=250, k=8250 is 0.5740, number of >0.8 clusters: 323\n",
      "purity for n=250, k=8500 is 0.5817, number of >0.8 clusters: 345\n",
      "purity for n=250, k=8750 is 0.5908, number of >0.8 clusters: 341\n",
      "purity for n=250, k=9000 is 0.5984, number of >0.8 clusters: 347\n",
      "purity for n=250, k=9250 is 0.6060, number of >0.8 clusters: 358\n",
      "purity for n=250, k=9500 is 0.6117, number of >0.8 clusters: 305\n",
      "purity for n=250, k=9750 is 0.6224, number of >0.8 clusters: 333\n",
      "purity for n=250, k=10000 is 0.6266, number of >0.8 clusters: 339\n",
      "purity for n=250, k=10250 is 0.6385, number of >0.8 clusters: 321\n",
      "purity for n=250, k=10500 is 0.6445, number of >0.8 clusters: 323\n",
      "purity for n=250, k=10750 is 0.6525, number of >0.8 clusters: 335\n",
      "purity for n=250, k=11000 is 0.6608, number of >0.8 clusters: 337\n",
      "purity for n=250, k=11250 is 0.6711, number of >0.8 clusters: 329\n",
      "purity for n=250, k=11500 is 0.6708, number of >0.8 clusters: 309\n",
      "purity for n=250, k=11750 is 0.6843, number of >0.8 clusters: 318\n",
      "purity for n=250, k=12000 is 0.6916, number of >0.8 clusters: 314\n",
      "purity for n=250, k=12250 is 0.6966, number of >0.8 clusters: 310\n",
      "purity for n=250, k=12500 is 0.7015, number of >0.8 clusters: 307\n",
      "purity for n=250, k=12750 is 0.7164, number of >0.8 clusters: 296\n",
      "purity for n=250, k=13000 is 0.7211, number of >0.8 clusters: 265\n",
      "purity for n=250, k=13250 is 0.7249, number of >0.8 clusters: 297\n",
      "purity for n=250, k=13500 is 0.7302, number of >0.8 clusters: 290\n",
      "purity for n=250, k=13750 is 0.7443, number of >0.8 clusters: 284\n",
      "purity for n=250, k=14000 is 0.7524, number of >0.8 clusters: 261\n",
      "purity for n=250, k=14250 is 0.7594, number of >0.8 clusters: 263\n",
      "purity for n=250, k=14500 is 0.7673, number of >0.8 clusters: 267\n",
      "purity for n=250, k=14750 is 0.7746, number of >0.8 clusters: 243\n",
      "purity for n=250, k=15000 is 0.7816, number of >0.8 clusters: 251\n",
      "n=350 done in 17515.973s.\n",
      "purity for n=350, k=500 is 0.2506, number of >0.8 clusters: 17\n",
      "purity for n=350, k=750 is 0.2679, number of >0.8 clusters: 47\n",
      "purity for n=350, k=1000 is 0.2877, number of >0.8 clusters: 41\n",
      "purity for n=350, k=1250 is 0.3001, number of >0.8 clusters: 62\n",
      "purity for n=350, k=1500 is 0.3155, number of >0.8 clusters: 77\n",
      "purity for n=350, k=1750 is 0.3224, number of >0.8 clusters: 85\n",
      "purity for n=350, k=2000 is 0.3367, number of >0.8 clusters: 109\n",
      "purity for n=350, k=2250 is 0.3406, number of >0.8 clusters: 111\n",
      "purity for n=350, k=2500 is 0.3551, number of >0.8 clusters: 124\n",
      "purity for n=350, k=2750 is 0.3633, number of >0.8 clusters: 142\n",
      "purity for n=350, k=3000 is 0.3767, number of >0.8 clusters: 147\n",
      "purity for n=350, k=3250 is 0.3925, number of >0.8 clusters: 152\n",
      "purity for n=350, k=3500 is 0.4037, number of >0.8 clusters: 177\n",
      "purity for n=350, k=3750 is 0.4109, number of >0.8 clusters: 182\n",
      "purity for n=350, k=4000 is 0.4187, number of >0.8 clusters: 201\n",
      "purity for n=350, k=4250 is 0.4268, number of >0.8 clusters: 204\n",
      "purity for n=350, k=4500 is 0.4413, number of >0.8 clusters: 237\n",
      "purity for n=350, k=4750 is 0.4486, number of >0.8 clusters: 229\n",
      "purity for n=350, k=5000 is 0.4517, number of >0.8 clusters: 234\n",
      "purity for n=350, k=5250 is 0.4589, number of >0.8 clusters: 266\n",
      "purity for n=350, k=5500 is 0.4663, number of >0.8 clusters: 269\n",
      "purity for n=350, k=5750 is 0.4801, number of >0.8 clusters: 262\n",
      "purity for n=350, k=6000 is 0.4890, number of >0.8 clusters: 284\n",
      "purity for n=350, k=6250 is 0.4899, number of >0.8 clusters: 256\n",
      "purity for n=350, k=6500 is 0.5083, number of >0.8 clusters: 291\n",
      "purity for n=350, k=6750 is 0.5180, number of >0.8 clusters: 281\n",
      "purity for n=350, k=7000 is 0.5147, number of >0.8 clusters: 305\n",
      "purity for n=350, k=7250 is 0.5333, number of >0.8 clusters: 301\n",
      "purity for n=350, k=7500 is 0.5370, number of >0.8 clusters: 326\n",
      "purity for n=350, k=7750 is 0.5582, number of >0.8 clusters: 321\n",
      "purity for n=350, k=8000 is 0.5663, number of >0.8 clusters: 357\n",
      "purity for n=350, k=8250 is 0.5762, number of >0.8 clusters: 349\n",
      "purity for n=350, k=8500 is 0.5852, number of >0.8 clusters: 369\n",
      "purity for n=350, k=8750 is 0.5933, number of >0.8 clusters: 340\n",
      "purity for n=350, k=9000 is 0.5979, number of >0.8 clusters: 335\n",
      "purity for n=350, k=9250 is 0.6094, number of >0.8 clusters: 366\n",
      "purity for n=350, k=9500 is 0.6127, number of >0.8 clusters: 326\n",
      "purity for n=350, k=9750 is 0.6228, number of >0.8 clusters: 356\n",
      "purity for n=350, k=10000 is 0.6293, number of >0.8 clusters: 374\n",
      "purity for n=350, k=10250 is 0.6337, number of >0.8 clusters: 334\n",
      "purity for n=350, k=10500 is 0.6447, number of >0.8 clusters: 315\n",
      "purity for n=350, k=10750 is 0.6498, number of >0.8 clusters: 323\n",
      "purity for n=350, k=11000 is 0.6593, number of >0.8 clusters: 321\n",
      "purity for n=350, k=11250 is 0.6700, number of >0.8 clusters: 325\n",
      "purity for n=350, k=11500 is 0.6751, number of >0.8 clusters: 331\n",
      "purity for n=350, k=11750 is 0.6831, number of >0.8 clusters: 296\n",
      "purity for n=350, k=12000 is 0.6944, number of >0.8 clusters: 331\n",
      "purity for n=350, k=12250 is 0.6997, number of >0.8 clusters: 306\n",
      "purity for n=350, k=12500 is 0.7052, number of >0.8 clusters: 295\n",
      "purity for n=350, k=12750 is 0.7143, number of >0.8 clusters: 286\n",
      "purity for n=350, k=13000 is 0.7238, number of >0.8 clusters: 298\n",
      "purity for n=350, k=13250 is 0.7205, number of >0.8 clusters: 273\n",
      "purity for n=350, k=13500 is 0.7360, number of >0.8 clusters: 264\n",
      "purity for n=350, k=13750 is 0.7444, number of >0.8 clusters: 274\n",
      "purity for n=350, k=14000 is 0.7496, number of >0.8 clusters: 265\n",
      "purity for n=350, k=14250 is 0.7591, number of >0.8 clusters: 255\n",
      "purity for n=350, k=14500 is 0.7612, number of >0.8 clusters: 270\n",
      "purity for n=350, k=14750 is 0.7725, number of >0.8 clusters: 248\n",
      "purity for n=350, k=15000 is 0.7826, number of >0.8 clusters: 227\n"
     ]
    }
   ],
   "source": [
    "for n in [150, 250, 350]:  \n",
    "    t0 = time()\n",
    "\n",
    "    nmf = NMF(n_components=n)\n",
    "    X_red_grid = nmf.fit_transform(X)\n",
    "    X_red_grid = normalizer.fit_transform(X_red_grid)\n",
    "\n",
    "    print \"n=%d done in %0.3fs.\" % (n, (time() - t0))\n",
    "    \n",
    "    ks = [k for k in xrange(500, 15001, 250)]\n",
    "    for k in ks:\n",
    "        km_grid = MiniBatchKMeans(n_clusters=k, init_size=k*3, n_init=10, init='random')\n",
    "        km_grid.fit(X_red_grid)\n",
    "\n",
    "        km_grid_hyperparam_res[(n, k)] = km_grid.labels_\n",
    "        cluster_purity = evaluate.overall_purity(km_grid.labels_)\n",
    "        no_pure_clusters = len(evaluate.high_purity_clusters(km_grid.labels_, threshold=0.8, min_size=3))\n",
    "        km_grid_hyperparam_lr.append((n, k, cluster_purity, no_pure_clusters))\n",
    "\n",
    "        print 'purity for n=%d, k=%d is %0.4f, number of >0.8 clusters: %d' % (n, k, cluster_purity, no_pure_clusters)"
   ]
  },
  {
   "cell_type": "code",
   "execution_count": 123,
   "metadata": {
    "collapsed": false
   },
   "outputs": [],
   "source": [
    "pickle.dump(km_grid_hyperparam_res, file('C:/tmp/mlp/namespaces/k-means-def-cleaned-07-23-nmf2.bin', 'w'))"
   ]
  },
  {
   "cell_type": "code",
   "execution_count": 121,
   "metadata": {
    "collapsed": false
   },
   "outputs": [
    {
     "data": {
      "text/html": [
       "<div style=\"max-height:1000px;max-width:1500px;overflow:auto;\">\n",
       "<table border=\"1\" class=\"dataframe\">\n",
       "  <thead>\n",
       "    <tr style=\"text-align: right;\">\n",
       "      <th></th>\n",
       "      <th>n</th>\n",
       "      <th>k</th>\n",
       "      <th>purity</th>\n",
       "      <th>sizes</th>\n",
       "    </tr>\n",
       "  </thead>\n",
       "  <tbody>\n",
       "    <tr>\n",
       "      <th>0</th>\n",
       "      <td>150</td>\n",
       "      <td>500</td>\n",
       "      <td>0.231921</td>\n",
       "      <td>13</td>\n",
       "    </tr>\n",
       "    <tr>\n",
       "      <th>1</th>\n",
       "      <td>150</td>\n",
       "      <td>750</td>\n",
       "      <td>0.252488</td>\n",
       "      <td>22</td>\n",
       "    </tr>\n",
       "    <tr>\n",
       "      <th>2</th>\n",
       "      <td>150</td>\n",
       "      <td>1000</td>\n",
       "      <td>0.268612</td>\n",
       "      <td>39</td>\n",
       "    </tr>\n",
       "    <tr>\n",
       "      <th>3</th>\n",
       "      <td>150</td>\n",
       "      <td>1250</td>\n",
       "      <td>0.271278</td>\n",
       "      <td>47</td>\n",
       "    </tr>\n",
       "    <tr>\n",
       "      <th>4</th>\n",
       "      <td>150</td>\n",
       "      <td>1500</td>\n",
       "      <td>0.296509</td>\n",
       "      <td>57</td>\n",
       "    </tr>\n",
       "  </tbody>\n",
       "</table>\n",
       "</div>"
      ],
      "text/plain": [
       "     n     k    purity  sizes\n",
       "0  150   500  0.231921     13\n",
       "1  150   750  0.252488     22\n",
       "2  150  1000  0.268612     39\n",
       "3  150  1250  0.271278     47\n",
       "4  150  1500  0.296509     57"
      ]
     },
     "execution_count": 121,
     "metadata": {},
     "output_type": "execute_result"
    }
   ],
   "source": [
    "df_nf = pd.DataFrame(km_grid_hyperparam_lr, columns=['n', 'k', 'purity', 'sizes'])\n",
    "df_nf.head()"
   ]
  },
  {
   "cell_type": "code",
   "execution_count": 130,
   "metadata": {
    "collapsed": false
   },
   "outputs": [
    {
     "data": {
      "image/png": "[encoded data removed]",
      "text/plain": [
       "<matplotlib.figure.Figure at 0x462f36a0>"
      ]
     },
     "metadata": {},
     "output_type": "display_data"
    }
   ],
   "source": [
    "visual = {150: ('black', '-'), 250: ('black', '--'), 350: ('grey', '-')}\n",
    "\n",
    "for n, g in df_nf.groupby('n'):\n",
    "    color, line = visual[n]\n",
    "    med = g.groupby('k').sizes.median()\n",
    "    smoothed = pd.stats.moments.rolling_mean(med, window=3, center=True)\n",
    "    smoothed.plot(figsize=(8, 3), label='$k$ = %d' % n, color=color, linestyle=line)\n",
    "\n",
    "\n",
    "plt.grid(0)\n",
    "plt.xlabel('number of clusters $K$')\n",
    "plt.ylabel('no. pure clusters')\n",
    "plt.legend(loc='lower center', ncol=3)\n",
    "plt.xlim(4000, 14500)\n",
    "plt.ylim(175, 370)\n",
    "\n",
    "plt.tight_layout()\n",
    "plt.savefig('figures/k-vs-kmeans-len-nmf-soft.pdf', format='pdf')\n",
    "plt.show()"
   ]
  },
  {
   "cell_type": "code",
   "execution_count": 131,
   "metadata": {
    "collapsed": false
   },
   "outputs": [
    {
     "data": {
      "text/plain": [
       "n           350.000000\n",
       "k         10000.000000\n",
       "purity        0.629264\n",
       "sizes       374.000000\n",
       "Name: 156, dtype: float64"
      ]
     },
     "execution_count": 131,
     "metadata": {},
     "output_type": "execute_result"
    }
   ],
   "source": [
    "df_nf.ix[df_nf.sizes.argmax()]"
   ]
  },
  {
   "cell_type": "markdown",
   "metadata": {},
   "source": [
    "### Weighting vs $K$-Means"
   ]
  },
  {
   "cell_type": "code",
   "execution_count": 132,
   "metadata": {
    "collapsed": true
   },
   "outputs": [],
   "source": [
    "vectorizer = TfidfVectorizer(analyzer=unwrap_counter, use_idf=False, sublinear_tf=False, min_df=2)\n",
    "X_tf = vectorizer.fit_transform(ids)\n",
    "\n",
    "vectorizer = TfidfVectorizer(analyzer=unwrap_counter, use_idf=False, sublinear_tf=True, min_df=2)\n",
    "X_ltf = vectorizer.fit_transform(ids)\n",
    "\n",
    "vectorizer = TfidfVectorizer(analyzer=unwrap_counter, use_idf=True, sublinear_tf=False, min_df=2)\n",
    "X_tfidf = vectorizer.fit_transform(ids)\n",
    "\n",
    "vectorizer = TfidfVectorizer(analyzer=unwrap_counter, use_idf=True, sublinear_tf=True, min_df=2)\n",
    "X_ltfidf = vectorizer.fit_transform(ids)"
   ]
  },
  {
   "cell_type": "code",
   "execution_count": 134,
   "metadata": {
    "collapsed": true
   },
   "outputs": [],
   "source": [
    "Xs = {'TF': X_tf, 'logTF': X_ltf, 'TF-IDF': X_tfidf, 'logTF-IDF': X_ltfidf}\n",
    "types_res = []\n",
    "n = 100"
   ]
  },
  {
   "cell_type": "code",
   "execution_count": 135,
   "metadata": {
    "collapsed": false,
    "scrolled": true
   },
   "outputs": [
    {
     "name": "stdout",
     "output_type": "stream",
     "text": [
      "trying TF...\n",
      "k=6000, number of >0.8 clusters: 188\n",
      "k=7000, number of >0.8 clusters: 209\n",
      "k=8000, number of >0.8 clusters: 287\n",
      "k=9000, number of >0.8 clusters: 276\n",
      "k=10000, number of >0.8 clusters: 280\n",
      "k=11000, number of >0.8 clusters: 287\n",
      "k=12000, number of >0.8 clusters: 240\n",
      "k=13000, number of >0.8 clusters: 229\n",
      "\n",
      "trying logTF...\n",
      "k=6000, number of >0.8 clusters: 228\n",
      "k=7000, number of >0.8 clusters: 238\n",
      "k=8000, number of >0.8 clusters: 288\n",
      "k=9000, number of >0.8 clusters: 282\n",
      "k=10000, number of >0.8 clusters: 292\n",
      "k=11000, number of >0.8 clusters: 278\n",
      "k=12000, number of >0.8 clusters: 267\n",
      "k=13000, number of >0.8 clusters: 275\n",
      "\n",
      "trying TF-IDF...\n",
      "k=6000, number of >0.8 clusters: 199\n",
      "k=7000, number of >0.8 clusters: 234\n",
      "k=8000, number of >0.8 clusters: 258\n",
      "k=9000, number of >0.8 clusters: 270\n",
      "k=10000, number of >0.8 clusters: 275\n",
      "k=11000, number of >0.8 clusters: 272\n",
      "k=12000, number of >0.8 clusters: 255\n",
      "k=13000, number of >0.8 clusters: 229\n",
      "\n",
      "trying logTF-IDF...\n",
      "k=6000, number of >0.8 clusters: 215\n",
      "k=7000, number of >0.8 clusters: 238\n",
      "k=8000, number of >0.8 clusters: 306\n",
      "k=9000, number of >0.8 clusters: 312\n",
      "k=10000, number of >0.8 clusters: 309\n",
      "k=11000, number of >0.8 clusters: 280\n",
      "k=12000, number of >0.8 clusters: 295\n",
      "k=13000, number of >0.8 clusters: 271\n",
      "\n"
     ]
    }
   ],
   "source": [
    "for t, X_star in Xs.items():\n",
    "    print 'trying %s...' % t\n",
    "\n",
    "    U, S, Vt = randomized_svd(X_star, n_components=n)\n",
    "    V = Vt.T\n",
    "\n",
    "    X_red = X.dot(V)\n",
    "    X_red = normalizer.fit_transform(X_red)\n",
    "\n",
    "    ks = [k for k in xrange(6000, 13001, 1000)]\n",
    "    for k in ks:\n",
    "        km_grid = MiniBatchKMeans(n_clusters=k, init_size=k*3, n_init=10, init='random')\n",
    "        km_grid.fit(X_red)\n",
    "        no_pure_clusters = len(evaluate.high_purity_clusters(km_grid.labels_, threshold=0.8, min_size=3))\n",
    "\n",
    "        types_res.append((t, k, no_pure_clusters))\n",
    "        print 'k=%d, number of >0.8 clusters: %d' % (k, no_pure_clusters)\n",
    "\n",
    "    print"
   ]
  },
  {
   "cell_type": "code",
   "execution_count": 143,
   "metadata": {
    "collapsed": false
   },
   "outputs": [
    {
     "data": {
      "image/png": "[encoded data removed]",
      "text/plain": [
       "<matplotlib.figure.Figure at 0x4484fb00>"
      ]
     },
     "metadata": {},
     "output_type": "display_data"
    }
   ],
   "source": [
    "df_weight = pd.DataFrame(types_res, columns=('scheme', 'K', 'no'))\n",
    "\n",
    "visual = {'TF': ('black', '-'), 'logTF': ('black', '--'), 'TF-IDF': ('grey', '-'), 'logTF-IDF': ('grey', '--')}\n",
    "\n",
    "for n, g in df_weight.groupby('scheme'):\n",
    "    color, line = visual[n]\n",
    "    med = g.groupby('K').no.median()\n",
    "    smoothed = pd.stats.moments.rolling_mean(med, window=3, center=True)\n",
    "    smoothed.plot(figsize=(8, 3), label=n, color=color, linestyle=line)\n",
    "\n",
    "\n",
    "plt.grid(0)\n",
    "plt.xlabel('number of clusters $K$')\n",
    "plt.ylabel('no. pure clusters')\n",
    "plt.legend(loc='lower center', ncol=2)\n",
    "plt.xlim(7000, 12000)\n",
    "plt.ylim(220, 320)\n",
    "\n",
    "plt.tight_layout()\n",
    "plt.savefig('figures/soft-weighing.pdf', format='pdf')\n",
    "plt.show()"
   ]
  },
  {
   "cell_type": "markdown",
   "metadata": {},
   "source": [
    "## Random projections"
   ]
  },
  {
   "cell_type": "code",
   "execution_count": 145,
   "metadata": {
    "collapsed": true
   },
   "outputs": [],
   "source": [
    "from sklearn import random_projection"
   ]
  },
  {
   "cell_type": "code",
   "execution_count": 154,
   "metadata": {
    "collapsed": true
   },
   "outputs": [],
   "source": [
    "rp_res = []"
   ]
  },
  {
   "cell_type": "code",
   "execution_count": 156,
   "metadata": {
    "collapsed": false
   },
   "outputs": [
    {
     "name": "stdout",
     "output_type": "stream",
     "text": [
      "trying 0...\n"
     ]
    },
    {
     "ename": "KeyboardInterrupt",
     "evalue": "",
     "output_type": "error",
     "traceback": [
      "\u001b[1;31m---------------------------------------------------------------------------\u001b[0m",
      "\u001b[1;31mKeyboardInterrupt\u001b[0m                         Traceback (most recent call last)",
      "\u001b[1;32m<ipython-input-156-0723f8b76296>\u001b[0m in \u001b[0;36m<module>\u001b[1;34m()\u001b[0m\n\u001b[0;32m      8\u001b[0m     \u001b[1;32mfor\u001b[0m \u001b[0mk\u001b[0m \u001b[1;32min\u001b[0m \u001b[0mks\u001b[0m\u001b[1;33m:\u001b[0m\u001b[1;33m\u001b[0m\u001b[0m\n\u001b[0;32m      9\u001b[0m         \u001b[0mkm_grid\u001b[0m \u001b[1;33m=\u001b[0m \u001b[0mMiniBatchKMeans\u001b[0m\u001b[1;33m(\u001b[0m\u001b[0mn_clusters\u001b[0m\u001b[1;33m=\u001b[0m\u001b[0mk\u001b[0m\u001b[1;33m,\u001b[0m \u001b[0minit_size\u001b[0m\u001b[1;33m=\u001b[0m\u001b[0mk\u001b[0m\u001b[1;33m*\u001b[0m\u001b[1;36m3\u001b[0m\u001b[1;33m,\u001b[0m \u001b[0mn_init\u001b[0m\u001b[1;33m=\u001b[0m\u001b[1;36m10\u001b[0m\u001b[1;33m,\u001b[0m \u001b[0minit\u001b[0m\u001b[1;33m=\u001b[0m\u001b[1;34m'random'\u001b[0m\u001b[1;33m)\u001b[0m\u001b[1;33m\u001b[0m\u001b[0m\n\u001b[1;32m---> 10\u001b[1;33m         \u001b[0mkm_grid\u001b[0m\u001b[1;33m.\u001b[0m\u001b[0mfit\u001b[0m\u001b[1;33m(\u001b[0m\u001b[0mX_new\u001b[0m\u001b[1;33m)\u001b[0m\u001b[1;33m\u001b[0m\u001b[0m\n\u001b[0m\u001b[0;32m     11\u001b[0m         \u001b[0mno_pure_clusters\u001b[0m \u001b[1;33m=\u001b[0m \u001b[0mlen\u001b[0m\u001b[1;33m(\u001b[0m\u001b[0mevaluate\u001b[0m\u001b[1;33m.\u001b[0m\u001b[0mhigh_purity_clusters\u001b[0m\u001b[1;33m(\u001b[0m\u001b[0mkm_grid\u001b[0m\u001b[1;33m.\u001b[0m\u001b[0mlabels_\u001b[0m\u001b[1;33m,\u001b[0m \u001b[0mthreshold\u001b[0m\u001b[1;33m=\u001b[0m\u001b[1;36m0.8\u001b[0m\u001b[1;33m,\u001b[0m \u001b[0mmin_size\u001b[0m\u001b[1;33m=\u001b[0m\u001b[1;36m3\u001b[0m\u001b[1;33m)\u001b[0m\u001b[1;33m)\u001b[0m\u001b[1;33m\u001b[0m\u001b[0m\n\u001b[0;32m     12\u001b[0m \u001b[1;33m\u001b[0m\u001b[0m\n",
      "\u001b[1;32mC:\\soft\\anaconda\\2.0.1\\lib\\site-packages\\sklearn\\cluster\\k_means_.pyc\u001b[0m in \u001b[0;36mfit\u001b[1;34m(self, X, y)\u001b[0m\n\u001b[0;32m   1277\u001b[0m                 \u001b[0mX_valid\u001b[0m\u001b[1;33m,\u001b[0m \u001b[0mx_squared_norms\u001b[0m\u001b[1;33m[\u001b[0m\u001b[0mvalidation_indices\u001b[0m\u001b[1;33m]\u001b[0m\u001b[1;33m,\u001b[0m\u001b[1;33m\u001b[0m\u001b[0m\n\u001b[0;32m   1278\u001b[0m                 \u001b[0mcluster_centers\u001b[0m\u001b[1;33m,\u001b[0m \u001b[0mcounts\u001b[0m\u001b[1;33m,\u001b[0m \u001b[0mold_center_buffer\u001b[0m\u001b[1;33m,\u001b[0m \u001b[0mFalse\u001b[0m\u001b[1;33m,\u001b[0m\u001b[1;33m\u001b[0m\u001b[0m\n\u001b[1;32m-> 1279\u001b[1;33m                 distances=None, verbose=self.verbose)\n\u001b[0m\u001b[0;32m   1280\u001b[0m \u001b[1;33m\u001b[0m\u001b[0m\n\u001b[0;32m   1281\u001b[0m             \u001b[1;31m# Keep only the best cluster centers across independent inits on\u001b[0m\u001b[1;33m\u001b[0m\u001b[1;33m\u001b[0m\u001b[0m\n",
      "\u001b[1;32mC:\\soft\\anaconda\\2.0.1\\lib\\site-packages\\sklearn\\cluster\\k_means_.pyc\u001b[0m in \u001b[0;36m_mini_batch_step\u001b[1;34m(X, x_squared_norms, centers, counts, old_center_buffer, compute_squared_diff, distances, random_reassign, random_state, reassignment_ratio, verbose)\u001b[0m\n\u001b[0;32m   1002\u001b[0m \u001b[1;33m\u001b[0m\u001b[0m\n\u001b[0;32m   1003\u001b[0m             \u001b[1;31m# inplace sum with new points members of this cluster\u001b[0m\u001b[1;33m\u001b[0m\u001b[1;33m\u001b[0m\u001b[0m\n\u001b[1;32m-> 1004\u001b[1;33m             \u001b[0mcenters\u001b[0m\u001b[1;33m[\u001b[0m\u001b[0mcenter_idx\u001b[0m\u001b[1;33m]\u001b[0m \u001b[1;33m+=\u001b[0m \u001b[0mnp\u001b[0m\u001b[1;33m.\u001b[0m\u001b[0msum\u001b[0m\u001b[1;33m(\u001b[0m\u001b[0mX\u001b[0m\u001b[1;33m[\u001b[0m\u001b[0mcenter_mask\u001b[0m\u001b[1;33m]\u001b[0m\u001b[1;33m,\u001b[0m \u001b[0maxis\u001b[0m\u001b[1;33m=\u001b[0m\u001b[1;36m0\u001b[0m\u001b[1;33m)\u001b[0m\u001b[1;33m\u001b[0m\u001b[0m\n\u001b[0m\u001b[0;32m   1005\u001b[0m \u001b[1;33m\u001b[0m\u001b[0m\n\u001b[0;32m   1006\u001b[0m             \u001b[1;31m# update the count statistics for this center\u001b[0m\u001b[1;33m\u001b[0m\u001b[1;33m\u001b[0m\u001b[0m\n",
      "\u001b[1;31mKeyboardInterrupt\u001b[0m: "
     ]
    }
   ],
   "source": [
    "for i in xrange(4):\n",
    "    print 'trying %s...' % i\n",
    "    \n",
    "    rp = random_projection.GaussianRandomProjection(n_components=250)\n",
    "    X_new = rp.fit_transform(X)\n",
    "    X_new = normalizer.fit_transform(X_new)\n",
    "    \n",
    "    ks = [k for k in xrange(6000, 13001, 250)]\n",
    "    for k in ks:\n",
    "        km_grid = MiniBatchKMeans(n_clusters=k, init_size=k*3, n_init=10, init='random')\n",
    "        km_grid.fit(X_new)\n",
    "        no_pure_clusters = len(evaluate.high_purity_clusters(km_grid.labels_, threshold=0.8, min_size=3))\n",
    "\n",
    "        rp_res.append((i, k, no_pure_clusters))\n",
    "        print 'k=%d, number of >0.8 clusters: %d' % (k, no_pure_clusters)\n",
    "\n",
    "    print"
   ]
  },
  {
   "cell_type": "markdown",
   "metadata": {},
   "source": [
    "## DB-SCAN"
   ]
  },
  {
   "cell_type": "markdown",
   "metadata": {},
   "source": [
    "### COSINE"
   ]
  },
  {
   "cell_type": "code",
   "execution_count": 32,
   "metadata": {
    "collapsed": true
   },
   "outputs": [],
   "source": [
    "import matplotlib.pyplot as plt\n",
    "from mpl_toolkits.mplot3d import Axes3D"
   ]
  },
  {
   "cell_type": "code",
   "execution_count": 25,
   "metadata": {
    "collapsed": true
   },
   "outputs": [],
   "source": [
    "k = 50\n",
    "\n",
    "def print_cnt(cnt):\n",
    "    for id, c in cnt.most_common():\n",
    "        print u'(%s, %d)' % (id, c),\n",
    "        \n",
    "def chunks(X, step):\n",
    "    l = X.shape[0]\n",
    "    for i in xrange(0, l, step):\n",
    "        if i + step < l:\n",
    "            yield i, i+step, X[i:i+step]\n",
    "        else:\n",
    "            yield i, l, X[i:l]"
   ]
  },
  {
   "cell_type": "code",
   "execution_count": 26,
   "metadata": {
    "collapsed": false,
    "scrolled": true
   },
   "outputs": [
    {
     "name": "stdout",
     "output_type": "stream",
     "text": [
      "step (0, 500) of len 500...\n",
      "step (500, 1000) of len 500...\n",
      "step (1000, 1500) of len 500...\n",
      "step (1500, 2000) of len 500...\n",
      "step (2000, 2500) of len 500...\n",
      "step (2500, 3000) of len 500...\n",
      "step (3000, 3500) of len 500...\n",
      "step (3500, 4000) of len 500...\n",
      "step (4000, 4500) of len 500...\n",
      "step (4500, 5000) of len 500...\n",
      "step (5000, 5500) of len 500...\n",
      "step (5500, 6000) of len 500...\n",
      "step (6000, 6500) of len 500...\n",
      "step (6500, 7000) of len 500...\n",
      "step (7000, 7500) of len 500...\n",
      "step (7500, 8000) of len 500...\n",
      "step (8000, 8500) of len 500...\n",
      "step (8500, 9000) of len 500...\n",
      "step (9000, 9500) of len 500...\n",
      "step (9500, 10000) of len 500...\n",
      "step (10000, 10500) of len 500...\n",
      "step (10500, 11000) of len 500...\n",
      "step (11000, 11500) of len 500...\n",
      "step (11500, 12000) of len 500...\n",
      "step (12000, 12500) of len 500...\n",
      "step (12500, 13000) of len 500...\n",
      "step (13000, 13500) of len 500...\n",
      "step (13500, 14000) of len 500...\n",
      "step (14000, 14500) of len 500...\n",
      "step (14500, 15000) of len 500...\n",
      "step (15000, 15500) of len 500...\n",
      "step (15500, 16000) of len 500...\n",
      "step (16000, 16500) of len 500...\n",
      "step (16500, 17000) of len 500...\n",
      "step (17000, 17500) of len 500...\n",
      "step (17500, 18000) of len 500...\n",
      "step (18000, 18500) of len 500...\n",
      "step (18500, 19000) of len 500...\n",
      "step (19000, 19500) of len 500...\n",
      "step (19500, 20000) of len 500...\n",
      "step (20000, 20500) of len 500...\n",
      "step (20500, 21000) of len 500...\n",
      "step (21000, 21500) of len 500...\n",
      "step (21500, 22000) of len 500...\n",
      "step (22000, 22500) of len 500...\n",
      "step (22500, 22512) of len 12...\n",
      "done in 146.989s.\n"
     ]
    }
   ],
   "source": [
    "t0 = time()\n",
    "\n",
    "top_indexes = []\n",
    "cos_sim_matrix = scipy.sparse.dok_matrix((N_doc, N_doc))\n",
    "\n",
    "for beg, end, X_chunk in chunks(X, 500):\n",
    "    print 'step (%d, %d) of len %d...' % (beg, end, end - beg)\n",
    "    X_500 = X_chunk * X.T\n",
    "    \n",
    "    for j in xrange(end - beg):\n",
    "        row = X_500.getrow(j)\n",
    "        sim_indx = row.data.argsort()[::-1][:(k+1)]\n",
    "        cos_sim_matrix[beg + j, row.indices[sim_indx]] = row.data[sim_indx]\n",
    "        top_indexes.append(row.indices[sim_indx][1:])\n",
    "\n",
    "cos_sim_matrix = scipy.sparse.csr_matrix(cos_sim_matrix)\n",
    "print \"done in %0.3fs.\" % (time() - t0)"
   ]
  },
  {
   "cell_type": "code",
   "execution_count": 28,
   "metadata": {
    "collapsed": false
   },
   "outputs": [
    {
     "name": "stdout",
     "output_type": "stream",
     "text": [
      "Linear regression\n",
      "(T, 18) (X, 15) (ε_i, 11) (y, 11) (x_i, 9) (β, 9) (x, 9) (Z, 8) (m, 8) (n, 8) (p, 8) (h_i, 4) (β_1, 4) (y_i, 4) (variabl, 3) (t_i, 3) (β_2, 3) (condit, 3) (distribut, 3) (regressor, 2) (Ω, 2) (ε, 2) (probabl, 2) (linear, 2) (moment, 2) (β_p, 2) (height, 1) (random, 1) (capit, 1) (scalar, 1) (p-vector, 1) (affin, 1) (unit, 1) (depend, 1) (ε_2, 1) (transpos, 1) (regress, 1) (y_2, 1) (y_n, 1) (ε_1, 1) (inner, 1) (explanatori, 1) (graviti, 1) (statist, 1) (function, 1) (product, 1) (ball, 1) (form, 1) (x_11, 1) (error, 1) (term, 1) (initi, 1) (standard, 1) (joint, 1) (data, 1) (disturb, 1) (predictor, 1) (ε_n, 1) (y_1, 1) (x_21, 1) (t, 1) (time, 1) (model, 1) (veloc, 1) (mean, 1)\n",
      "Linear predictor function\n",
      "(x, 19) (β, 13) (c, 11) (p, 11) (X, 10) (T, 9) (f, 8) (m, 8) (x_i, 7) (ε_i, 7) (b, 6) (ϕ, 5) (y, 5) (β_p, 4) (β_0, 3) (β_1, 3) (ε, 2) (y_i, 2) (matrix, 2) (distanc, 1) (term, 1) (point, 1) (random, 1) (continu, 1) (rank, 1) (c_1, 1) (ϕ_2, 1) (ϕ_1, 1) (transpos, 1) (variabl, 1) (predictor, 1) (relationship, 1) (ε_2, 1) (β_2, 1) (x_K, 1) (y_2, 1) (y_n, 1) (ε_1, 1) (basic, 1) (function, 1) (full, 1) (linear, 1) (form, 1) (x_11, 1) (disturb, 1) (ϕ_p, 1) (x_1, 1) (increas, 1) (data, 1) (ε_n, 1) (y_1, 1) (n, 1) (x_21, 1) (outcom, 1) (c_K, 1)\n",
      "common\n",
      "(X, 10) (β, 9) (T, 9) (x, 9) (p, 8) (m, 8) (x_i, 7) (ε_i, 7) (y, 5) (β_1, 3) (ε, 2) (y_i, 2) (β_p, 2) (random, 1) (variabl, 1) (ε_2, 1) (β_2, 1) (y_n, 1) (ε_1, 1) (function, 1) (linear, 1) (form, 1) (x_11, 1) (disturb, 1) (data, 1) (term, 1) (ε_n, 1) (transpos, 1) (y_2, 1) (y_1, 1) (n, 1) (x_21, 1) (predictor, 1)\n",
      "cosine   (0, 0)\t0.620370662556\n"
     ]
    }
   ],
   "source": [
    "doc1 = title_idx['Linear regression']\n",
    "doc2 = top_indexes[doc1][0]\n",
    "\n",
    "print titles[doc1]\n",
    "print_cnt(ids[doc1])\n",
    "print \n",
    "\n",
    "print titles[doc2]\n",
    "print_cnt(ids[doc2])\n",
    "print \n",
    "\n",
    "print 'common'\n",
    "print_cnt(ids[doc1] & ids[doc2])\n",
    "print \n",
    "\n",
    "print 'cosine', X[doc1] * X[doc2].T"
   ]
  },
  {
   "cell_type": "code",
   "execution_count": 29,
   "metadata": {
    "collapsed": true
   },
   "outputs": [],
   "source": [
    "import snn_dbscan"
   ]
  },
  {
   "cell_type": "code",
   "execution_count": 30,
   "metadata": {
    "collapsed": true
   },
   "outputs": [],
   "source": [
    "snn_res_params = []\n",
    "snn_res = {}"
   ]
  },
  {
   "cell_type": "code",
   "execution_count": 31,
   "metadata": {
    "collapsed": false,
    "scrolled": true
   },
   "outputs": [
    {
     "name": "stdout",
     "output_type": "stream",
     "text": [
      "k=10, eps=3, min_pts=3 => purity=0.4284, len=223\n",
      "k=10, eps=3, min_pts=4 => purity=0.4068, len=207\n",
      "k=10, eps=3, min_pts=5 => purity=0.3909, len=191\n",
      "k=10, eps=3, min_pts=6 => purity=0.3761, len=170\n",
      "k=10, eps=3, min_pts=7 => purity=0.3629, len=150\n",
      "k=10, eps=3, min_pts=8 => purity=0.3503, len=143\n",
      "k=10, eps=3, min_pts=9 => purity=0.3334, len=135\n",
      "k=10, eps=3, min_pts=10 => purity=0.3169, len=119\n",
      "k=10, eps=4, min_pts=3 => purity=0.3778, len=221\n",
      "k=10, eps=4, min_pts=4 => purity=0.3522, len=179\n",
      "k=10, eps=4, min_pts=5 => purity=0.3316, len=149\n",
      "k=10, eps=4, min_pts=6 => purity=0.3152, len=121\n",
      "k=10, eps=4, min_pts=7 => purity=0.3031, len=98\n",
      "k=10, eps=4, min_pts=8 => purity=0.2865, len=88\n",
      "k=10, eps=4, min_pts=9 => purity=0.2696, len=80\n",
      "k=10, eps=4, min_pts=10 => purity=0.2502, len=74\n",
      "k=10, eps=5, min_pts=3 => purity=0.3066, len=193\n",
      "k=10, eps=5, min_pts=4 => purity=0.2770, len=141\n",
      "k=10, eps=5, min_pts=5 => purity=0.2544, len=125\n",
      "k=10, eps=5, min_pts=6 => purity=0.2333, len=92\n",
      "k=10, eps=5, min_pts=7 => purity=0.2141, len=75\n",
      "k=10, eps=5, min_pts=8 => purity=0.1975, len=51\n",
      "k=10, eps=5, min_pts=9 => purity=0.1841, len=45\n",
      "k=10, eps=5, min_pts=10 => purity=0.1690, len=33\n",
      "k=10, eps=6, min_pts=3 => purity=0.2190, len=132\n",
      "k=10, eps=6, min_pts=4 => purity=0.1971, len=83\n",
      "k=10, eps=6, min_pts=5 => purity=0.1803, len=69\n",
      "k=10, eps=6, min_pts=6 => purity=0.1650, len=45\n",
      "k=10, eps=6, min_pts=7 => purity=0.1534, len=31\n",
      "k=10, eps=6, min_pts=8 => purity=0.1425, len=21\n",
      "k=10, eps=6, min_pts=9 => purity=0.1354, len=16\n",
      "k=10, eps=6, min_pts=10 => purity=0.1274, len=15\n",
      "k=10, eps=7, min_pts=3 => purity=0.1595, len=88\n",
      "k=10, eps=7, min_pts=4 => purity=0.1428, len=52\n",
      "k=10, eps=7, min_pts=5 => purity=0.1341, len=35\n",
      "k=10, eps=7, min_pts=6 => purity=0.1257, len=23\n",
      "k=10, eps=7, min_pts=7 => purity=0.1194, len=17\n",
      "k=10, eps=7, min_pts=8 => purity=0.1138, len=10\n",
      "k=10, eps=7, min_pts=9 => purity=0.1112, len=8\n",
      "k=10, eps=7, min_pts=10 => purity=0.1086, len=9\n",
      "k=10, eps=8, min_pts=3 => purity=0.1230, len=38\n",
      "k=10, eps=8, min_pts=4 => purity=0.1143, len=21\n",
      "k=10, eps=8, min_pts=5 => purity=0.1099, len=14\n",
      "k=10, eps=8, min_pts=6 => purity=0.1055, len=9\n",
      "k=10, eps=8, min_pts=7 => purity=0.1038, len=8\n",
      "k=10, eps=8, min_pts=8 => purity=0.1015, len=6\n",
      "k=10, eps=8, min_pts=9 => purity=0.0996, len=4\n",
      "k=10, eps=8, min_pts=10 => purity=0.0987, len=4\n",
      "k=10, eps=9, min_pts=3 => purity=0.1021, len=10\n",
      "k=10, eps=9, min_pts=4 => purity=0.0994, len=6\n",
      "k=10, eps=9, min_pts=5 => purity=0.0984, len=5\n",
      "k=10, eps=9, min_pts=6 => purity=0.0961, len=3\n",
      "k=10, eps=9, min_pts=7 => purity=0.0948, len=2\n",
      "k=10, eps=9, min_pts=8 => purity=0.0945, len=2\n",
      "k=10, eps=9, min_pts=9 => purity=0.0934, len=2\n",
      "k=10, eps=9, min_pts=10 => purity=0.0928, len=2\n",
      "k=10, eps=10, min_pts=3 => purity=0.0950, len=6\n",
      "k=10, eps=10, min_pts=4 => purity=0.0943, len=5\n",
      "k=10, eps=10, min_pts=5 => purity=0.0936, len=4\n",
      "k=10, eps=10, min_pts=6 => purity=0.0921, len=2\n",
      "k=10, eps=10, min_pts=7 => purity=0.0921, len=2\n",
      "k=10, eps=10, min_pts=8 => purity=0.0914, len=1\n",
      "k=10, eps=10, min_pts=9 => purity=0.0907, len=1\n",
      "k=10, eps=10, min_pts=10 => purity=0.0903, len=0\n",
      "k=13, eps=3, min_pts=3 => purity=0.4053, len=191\n",
      "k=13, eps=3, min_pts=4 => purity=0.3971, len=182\n",
      "k=13, eps=3, min_pts=5 => purity=0.3899, len=179\n",
      "k=13, eps=3, min_pts=6 => purity=0.3815, len=165\n",
      "k=13, eps=3, min_pts=7 => purity=0.3754, len=158\n",
      "k=13, eps=3, min_pts=8 => purity=0.3697, len=148\n",
      "k=13, eps=3, min_pts=9 => purity=0.3639, len=136\n",
      "k=13, eps=3, min_pts=10 => purity=0.3568, len=132\n",
      "k=13, eps=4, min_pts=3 => purity=0.3837, len=180\n",
      "k=13, eps=4, min_pts=4 => purity=0.3627, len=150\n",
      "k=13, eps=4, min_pts=5 => purity=0.3505, len=144\n",
      "k=13, eps=4, min_pts=6 => purity=0.3405, len=131\n",
      "k=13, eps=4, min_pts=7 => purity=0.3288, len=118\n",
      "k=13, eps=4, min_pts=8 => purity=0.3197, len=113\n",
      "k=13, eps=4, min_pts=9 => purity=0.3099, len=106\n",
      "k=13, eps=4, min_pts=10 => purity=0.2991, len=98\n",
      "k=13, eps=5, min_pts=3 => purity=0.3481, len=175\n",
      "k=13, eps=5, min_pts=4 => purity=0.3279, len=142\n",
      "k=13, eps=5, min_pts=5 => purity=0.3143, len=128\n",
      "k=13, eps=5, min_pts=6 => purity=0.3044, len=120\n",
      "k=13, eps=5, min_pts=7 => purity=0.2902, len=101\n",
      "k=13, eps=5, min_pts=8 => purity=0.2839, len=95\n",
      "k=13, eps=5, min_pts=9 => purity=0.2721, len=73\n",
      "k=13, eps=5, min_pts=10 => purity=0.2679, len=73\n",
      "k=13, eps=6, min_pts=3 => purity=0.3209, len=170\n",
      "k=13, eps=6, min_pts=4 => purity=0.2980, len=119\n",
      "k=13, eps=6, min_pts=5 => purity=0.2779, len=96\n",
      "k=13, eps=6, min_pts=6 => purity=0.2637, len=86\n",
      "k=13, eps=6, min_pts=7 => purity=0.2462, len=68\n",
      "k=13, eps=6, min_pts=8 => purity=0.2308, len=59\n",
      "k=13, eps=6, min_pts=9 => purity=0.2175, len=43\n",
      "k=13, eps=6, min_pts=10 => purity=0.2036, len=33\n",
      "k=13, eps=7, min_pts=3 => purity=0.2559, len=156\n",
      "k=13, eps=7, min_pts=4 => purity=0.2318, len=102\n",
      "k=13, eps=7, min_pts=5 => purity=0.2150, len=84\n",
      "k=13, eps=7, min_pts=6 => purity=0.2011, len=61\n",
      "k=13, eps=7, min_pts=7 => purity=0.1887, len=45\n",
      "k=13, eps=7, min_pts=8 => purity=0.1752, len=28\n",
      "k=13, eps=7, min_pts=9 => purity=0.1635, len=20\n",
      "k=13, eps=7, min_pts=10 => purity=0.1556, len=20\n",
      "k=13, eps=8, min_pts=3 => purity=0.2012, len=119\n",
      "k=13, eps=8, min_pts=4 => purity=0.1829, len=72\n",
      "k=13, eps=8, min_pts=5 => purity=0.1680, len=55\n",
      "k=13, eps=8, min_pts=6 => purity=0.1562, len=44\n",
      "k=13, eps=8, min_pts=7 => purity=0.1456, len=29\n",
      "k=13, eps=8, min_pts=8 => purity=0.1386, len=23\n",
      "k=13, eps=8, min_pts=9 => purity=0.1327, len=16\n",
      "k=13, eps=8, min_pts=10 => purity=0.1272, len=13\n",
      "k=13, eps=9, min_pts=3 => purity=0.1587, len=81\n",
      "k=13, eps=9, min_pts=4 => purity=0.1448, len=52\n",
      "k=13, eps=9, min_pts=5 => purity=0.1348, len=38\n",
      "k=13, eps=9, min_pts=6 => purity=0.1254, len=20\n",
      "k=13, eps=9, min_pts=7 => purity=0.1195, len=12\n",
      "k=13, eps=9, min_pts=8 => purity=0.1153, len=11\n",
      "k=13, eps=9, min_pts=9 => purity=0.1124, len=8\n",
      "k=13, eps=9, min_pts=10 => purity=0.1104, len=8\n",
      "k=13, eps=10, min_pts=3 => purity=0.1263, len=45\n",
      "k=13, eps=10, min_pts=4 => purity=0.1176, len=19\n",
      "k=13, eps=10, min_pts=5 => purity=0.1126, len=14\n",
      "k=13, eps=10, min_pts=6 => purity=0.1076, len=9\n",
      "k=13, eps=10, min_pts=7 => purity=0.1050, len=5\n",
      "k=13, eps=10, min_pts=8 => purity=0.1036, len=5\n",
      "k=13, eps=10, min_pts=9 => purity=0.1027, len=5\n",
      "k=13, eps=10, min_pts=10 => purity=0.1013, len=4\n"
     ]
    }
   ],
   "source": [
    "ks = [10, 13]\n",
    "\n",
    "for k_snn in ks:\n",
    "    snn_graph = []\n",
    "\n",
    "    for i, idx in enumerate(top_indexes):\n",
    "        snn_graph.append(set(idx[:k_snn]))\n",
    "\n",
    "    epsilons = [3, 4, 5, 6, 7, 8, 9, 10]\n",
    "    poins = [3, 4, 5, 6, 7, 8, 9, 10]\n",
    "    \n",
    "    for eps in epsilons:\n",
    "        for min_pts in poins:\n",
    "            res = np.array(snn_dbscan.dbscan(snn_graph, eps, min_pts))\n",
    "            res[res == 'noise'] = 0\n",
    "            res = res.astype(int)\n",
    "\n",
    "            pur = evaluate.overall_purity(res)\n",
    "            no = len(evaluate.high_purity_clusters(res, threshold=0.8, min_size=3))\n",
    "        \n",
    "            snn_res_params.append((k_snn, eps, min_pts, pur, no))\n",
    "            snn_res[(k_snn, eps, min_pts)] = res\n",
    "    \n",
    "            print 'k=%d, eps=%d, min_pts=%d => purity=%0.4f, len=%d' % (k_snn, eps, min_pts, pur, no)"
   ]
  },
  {
   "cell_type": "code",
   "execution_count": 35,
   "metadata": {
    "collapsed": true
   },
   "outputs": [],
   "source": [
    "snn_df = pd.DataFrame(snn_res_params, columns=('k_snn', 'eps', 'min_pts', 'pur', 'no'))"
   ]
  },
  {
   "cell_type": "code",
   "execution_count": 45,
   "metadata": {
    "collapsed": false
   },
   "outputs": [
    {
     "data": {
      "text/html": [
       "<div style=\"max-height:1000px;max-width:1500px;overflow:auto;\">\n",
       "<table border=\"1\" class=\"dataframe\">\n",
       "  <thead>\n",
       "    <tr>\n",
       "      <th></th>\n",
       "      <th colspan=\"8\" halign=\"left\">no</th>\n",
       "    </tr>\n",
       "    <tr>\n",
       "      <th>min_pts</th>\n",
       "      <th>3</th>\n",
       "      <th>4</th>\n",
       "      <th>5</th>\n",
       "      <th>6</th>\n",
       "      <th>7</th>\n",
       "      <th>8</th>\n",
       "      <th>9</th>\n",
       "      <th>10</th>\n",
       "    </tr>\n",
       "    <tr>\n",
       "      <th>eps</th>\n",
       "      <th></th>\n",
       "      <th></th>\n",
       "      <th></th>\n",
       "      <th></th>\n",
       "      <th></th>\n",
       "      <th></th>\n",
       "      <th></th>\n",
       "      <th></th>\n",
       "    </tr>\n",
       "  </thead>\n",
       "  <tbody>\n",
       "    <tr>\n",
       "      <th>3</th>\n",
       "      <td>223</td>\n",
       "      <td>207</td>\n",
       "      <td>191</td>\n",
       "      <td>170</td>\n",
       "      <td>150</td>\n",
       "      <td>143</td>\n",
       "      <td>135</td>\n",
       "      <td>119</td>\n",
       "    </tr>\n",
       "    <tr>\n",
       "      <th>4</th>\n",
       "      <td>221</td>\n",
       "      <td>179</td>\n",
       "      <td>149</td>\n",
       "      <td>121</td>\n",
       "      <td>98</td>\n",
       "      <td>88</td>\n",
       "      <td>80</td>\n",
       "      <td>74</td>\n",
       "    </tr>\n",
       "    <tr>\n",
       "      <th>5</th>\n",
       "      <td>193</td>\n",
       "      <td>141</td>\n",
       "      <td>125</td>\n",
       "      <td>92</td>\n",
       "      <td>75</td>\n",
       "      <td>51</td>\n",
       "      <td>45</td>\n",
       "      <td>33</td>\n",
       "    </tr>\n",
       "    <tr>\n",
       "      <th>6</th>\n",
       "      <td>132</td>\n",
       "      <td>83</td>\n",
       "      <td>69</td>\n",
       "      <td>45</td>\n",
       "      <td>31</td>\n",
       "      <td>21</td>\n",
       "      <td>16</td>\n",
       "      <td>15</td>\n",
       "    </tr>\n",
       "    <tr>\n",
       "      <th>7</th>\n",
       "      <td>88</td>\n",
       "      <td>52</td>\n",
       "      <td>35</td>\n",
       "      <td>23</td>\n",
       "      <td>17</td>\n",
       "      <td>10</td>\n",
       "      <td>8</td>\n",
       "      <td>9</td>\n",
       "    </tr>\n",
       "    <tr>\n",
       "      <th>8</th>\n",
       "      <td>38</td>\n",
       "      <td>21</td>\n",
       "      <td>14</td>\n",
       "      <td>9</td>\n",
       "      <td>8</td>\n",
       "      <td>6</td>\n",
       "      <td>4</td>\n",
       "      <td>4</td>\n",
       "    </tr>\n",
       "    <tr>\n",
       "      <th>9</th>\n",
       "      <td>10</td>\n",
       "      <td>6</td>\n",
       "      <td>5</td>\n",
       "      <td>3</td>\n",
       "      <td>2</td>\n",
       "      <td>2</td>\n",
       "      <td>2</td>\n",
       "      <td>2</td>\n",
       "    </tr>\n",
       "    <tr>\n",
       "      <th>10</th>\n",
       "      <td>6</td>\n",
       "      <td>5</td>\n",
       "      <td>4</td>\n",
       "      <td>2</td>\n",
       "      <td>2</td>\n",
       "      <td>1</td>\n",
       "      <td>1</td>\n",
       "      <td>0</td>\n",
       "    </tr>\n",
       "  </tbody>\n",
       "</table>\n",
       "</div>"
      ],
      "text/plain": [
       "          no                                   \n",
       "min_pts   3    4    5    6    7    8    9    10\n",
       "eps                                            \n",
       "3        223  207  191  170  150  143  135  119\n",
       "4        221  179  149  121   98   88   80   74\n",
       "5        193  141  125   92   75   51   45   33\n",
       "6        132   83   69   45   31   21   16   15\n",
       "7         88   52   35   23   17   10    8    9\n",
       "8         38   21   14    9    8    6    4    4\n",
       "9         10    6    5    3    2    2    2    2\n",
       "10         6    5    4    2    2    1    1    0"
      ]
     },
     "execution_count": 45,
     "metadata": {},
     "output_type": "execute_result"
    }
   ],
   "source": [
    "snn10 = snn_df[snn_df.k_snn == 10][['eps', 'min_pts', 'no']]\n",
    "snn10 = snn10.groupby(by=['eps', 'min_pts']).mean()\n",
    "snn10.unstack()"
   ]
  },
  {
   "cell_type": "code",
   "execution_count": 42,
   "metadata": {
    "collapsed": false
   },
   "outputs": [
    {
     "data": {
      "image/png": "[encoded data removed]",
      "text/plain": [
       "<matplotlib.figure.Figure at 0x415289e8>"
      ]
     },
     "metadata": {},
     "output_type": "display_data"
    }
   ],
   "source": [
    "fig = plt.figure(figsize=(5, 3))\n",
    "ax = fig.add_subplot(111, projection='3d')\n",
    "\n",
    "Xs, Ys = np.meshgrid(epsilons, poins)\n",
    "# plot surface, more colormaps: http://matplotlib.sourceforge.net/examples/pylab_examples/show_colormaps.html\n",
    "# ax.plot_surface(Xs, Ys, Zs, rstride=4, cstride=4, alpha=0.4,cmap=cm.jet)\n",
    "\n",
    "ax.plot_wireframe(Xs, Ys, snn10.unstack(), color='black')\n",
    "ax.view_init(elev=40, azim=20)\n",
    "ax.set_xlabel(r'$\\varepsilon$')\n",
    "ax.set_ylabel('MinPts')\n",
    "ax.set_zlabel('no. pure clusters')\n",
    "\n",
    "plt.tight_layout()\n",
    "plt.savefig('figures/soft-dbscan-cos13.pdf', format='pdf')\n",
    "plt.show()"
   ]
  },
  {
   "cell_type": "code",
   "execution_count": 44,
   "metadata": {
    "collapsed": false
   },
   "outputs": [
    {
     "data": {
      "image/png": "[encoded data removed]",
      "text/plain": [
       "<matplotlib.figure.Figure at 0x41f23ba8>"
      ]
     },
     "metadata": {},
     "output_type": "display_data"
    }
   ],
   "source": [
    "visual = {3: ('black', '-'), 4: ('black', '--'), 5: ('grey', '-'), 6: ('grey', '--')}\n",
    "\n",
    "for i, n in snn10.reset_index().groupby('eps'):\n",
    "    if i in visual:\n",
    "        color, line = visual[i]\n",
    "        n.set_index('min_pts').no.plot(figsize=(5, 3), color=color, linestyle=line, label=r'$\\varepsilon=%d$' % i)\n",
    "\n",
    "plt.grid(0)\n",
    "plt.legend(ncol=2, loc='lower left')\n",
    "\n",
    "plt.xlabel('MinPts')\n",
    "plt.ylabel('no. pure clusters')\n",
    "plt.tight_layout()\n",
    "plt.savefig('figures/soft-dbscan-cos13-2.pdf', format='pdf')\n",
    "plt.show()"
   ]
  },
  {
   "cell_type": "code",
   "execution_count": null,
   "metadata": {
    "collapsed": true
   },
   "outputs": [],
   "source": []
  }
 ],
 "metadata": {
  "kernelspec": {
   "display_name": "Python 2",
   "language": "python",
   "name": "python2"
  },
  "language_info": {
   "codemirror_mode": {
    "name": "ipython",
    "version": 2
   },
   "file_extension": ".py",
   "mimetype": "text/x-python",
   "name": "python",
   "nbconvert_exporter": "python",
   "pygments_lexer": "ipython2",
   "version": "2.7.7"
  }
 },
 "nbformat": 4,
 "nbformat_minor": 0
}
